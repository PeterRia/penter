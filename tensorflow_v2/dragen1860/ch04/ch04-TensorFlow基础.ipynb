{
 "cells": [
  {
   "cell_type": "markdown",
   "metadata": {
    "collapsed": true
   },
   "source": [
    "# TensorFlow基础"
   ]
  },
  {
   "cell_type": "code",
   "execution_count": 1,
   "metadata": {},
   "outputs": [],
   "source": [
    "import tensorflow as tf\n",
    "import tensorflow.keras as keras\n",
    "import tensorflow.keras.layers as layers\n",
    "\n",
    "# physical_devices = tf.config.experimental.list_physical_devices('GPU')\n",
    "# assert len(physical_devices) > 0, \"Not enough GPU hardware devices available\"\n",
    "# tf.config.experimental.set_memory_growth(physical_devices[0], True)"
   ]
  },
  {
   "cell_type": "markdown",
   "metadata": {},
   "source": [
    "## 数据类型\n",
    "\n",
    "### 数值类型\n",
    "\n",
    "一、张量的数据形式\n",
    "tensor:张量\n",
    "dim：代表张量的维度。\n",
    "constant:常量\n",
    "\n",
    "标量(scalar)：数据单独的一个数，零维张量，其形状如：1.1 ,dim=0  ,shape=()\n",
    "\n",
    "向量(vector) ：一维数组，一维张量，其形状如：[1.1,2.2,3.3] ,dim=1 ,shape=(3,)\n",
    "\n",
    "矩阵(matrix)：二维数组，二维张量，其形状如：shape=(3,3)\n",
    "\n",
    "多维数组(n-d array)：多维数组，多维张量，其形状如：shape=(1,3,3)\n",
    "\n",
    "\n",
    "shape：即张量的shape。从前往后对应由外向内的维度。shape描述的是矩阵的形状\n",
    "\n",
    "size：size描述的是元素的个数。\n",
    "\n",
    "dim：代表张量的维度。\n",
    "\n",
    "[[1],[2],[3]] 这个张量的shape为（3,1）\n",
    "[[[1,2],[3,4]],[[5,6],[7,8]],[[9,10],[11,12]]]这个张量的shape为（3,2,2）,\n",
    "[1,2,3,4]这个张量的shape为（4，）\n",
    "\n",
    "\n",
    "\n",
    "标量在 TensorFlow 是如何创建的"
   ]
  },
  {
   "cell_type": "code",
   "execution_count": 2,
   "metadata": {},
   "outputs": [
    {
     "data": {
      "text/plain": "(float, tensorflow.python.framework.ops.EagerTensor, True)"
     },
     "execution_count": 2,
     "metadata": {},
     "output_type": "execute_result"
    }
   ],
   "source": [
    "# python 语言方式创建标量\n",
    "a = 1.2 \n",
    "# TF 方式创建标量\n",
    "aa = tf.constant(1.2)\n",
    "\n",
    "type(a), type(aa), tf.is_tensor(aa)"
   ]
  },
  {
   "cell_type": "markdown",
   "metadata": {},
   "source": [
    "如果要使用 TensorFlow 提供的功能函数， 须通过 TensorFlow 规定的方式去创建张量，而不能使用 Python 语言的标准变量创建方式。"
   ]
  },
  {
   "cell_type": "code",
   "execution_count": 3,
   "metadata": {},
   "outputs": [
    {
     "data": {
      "text/plain": "<tf.Tensor: shape=(3,), dtype=float32, numpy=array([1. , 2. , 3.3], dtype=float32)>"
     },
     "execution_count": 3,
     "metadata": {},
     "output_type": "execute_result"
    }
   ],
   "source": [
    "x = tf.constant([1,2.,3.3])\n",
    "# 打印 TF 张量的相关信息                \n",
    "x"
   ]
  },
  {
   "cell_type": "code",
   "execution_count": 4,
   "metadata": {},
   "outputs": [
    {
     "data": {
      "text/plain": "array([1. , 2. , 3.3], dtype=float32)"
     },
     "execution_count": 4,
     "metadata": {},
     "output_type": "execute_result"
    }
   ],
   "source": [
    "# 将 TF 张量的数据导出为 numpy 数组格式\n",
    "x.numpy() "
   ]
  },
  {
   "cell_type": "markdown",
   "metadata": {},
   "source": [
    "与标量不同，向量的定义须通过 List 容器传给 tf.constant()函数。\n",
    "\n",
    "创建一个元素的向量："
   ]
  },
  {
   "cell_type": "code",
   "execution_count": 5,
   "metadata": {},
   "outputs": [
    {
     "data": {
      "text/plain": "(<tf.Tensor: shape=(1,), dtype=float32, numpy=array([1.2], dtype=float32)>,\n TensorShape([1]))"
     },
     "execution_count": 5,
     "metadata": {},
     "output_type": "execute_result"
    }
   ],
   "source": [
    "# 创建一个元素的向量\n",
    "a = tf.constant([1.2]) \n",
    "a, a.shape"
   ]
  },
  {
   "cell_type": "markdown",
   "metadata": {},
   "source": [
    "创建 3 个元素的向量："
   ]
  },
  {
   "cell_type": "code",
   "execution_count": 6,
   "metadata": {},
   "outputs": [
    {
     "data": {
      "text/plain": "(<tf.Tensor: shape=(3,), dtype=float32, numpy=array([1., 2., 3.], dtype=float32)>,\n TensorShape([3]))"
     },
     "execution_count": 6,
     "metadata": {},
     "output_type": "execute_result"
    }
   ],
   "source": [
    " # 创建 3 个元素的向量\n",
    "a = tf.constant([1,2, 3.])\n",
    "a, a.shape"
   ]
  },
  {
   "cell_type": "markdown",
   "metadata": {},
   "source": [
    "定义矩阵"
   ]
  },
  {
   "cell_type": "code",
   "execution_count": 7,
   "metadata": {},
   "outputs": [
    {
     "data": {
      "text/plain": "(<tf.Tensor: shape=(2, 2), dtype=int32, numpy=\n array([[1, 2],\n        [3, 4]])>,\n TensorShape([2, 2]))"
     },
     "execution_count": 7,
     "metadata": {},
     "output_type": "execute_result"
    }
   ],
   "source": [
    "# 创建 2 行 2 列的矩阵\n",
    "a = tf.constant([[1,2],[3,4]]) \n",
    "a, a.shape"
   ]
  },
  {
   "cell_type": "markdown",
   "metadata": {},
   "source": [
    "三维张量可以定义为："
   ]
  },
  {
   "cell_type": "code",
   "execution_count": 8,
   "metadata": {},
   "outputs": [
    {
     "data": {
      "text/plain": "<tf.Tensor: shape=(2, 2, 2), dtype=int32, numpy=\narray([[[1, 2],\n        [3, 4]],\n\n       [[5, 6],\n        [7, 8]]])>"
     },
     "execution_count": 8,
     "metadata": {},
     "output_type": "execute_result"
    }
   ],
   "source": [
    "# 创建 3 维张量\n",
    "tf.constant([[[1,2],[3,4]],[[5,6],[7,8]]]) "
   ]
  },
  {
   "cell_type": "markdown",
   "metadata": {},
   "source": [
    "通过传入字符串对象即可创建字符串类型的张量"
   ]
  },
  {
   "cell_type": "code",
   "execution_count": 9,
   "metadata": {},
   "outputs": [
    {
     "data": {
      "text/plain": "<tf.Tensor: shape=(), dtype=string, numpy=b'Hello, Deep Learning.'>"
     },
     "execution_count": 9,
     "metadata": {},
     "output_type": "execute_result"
    }
   ],
   "source": [
    "# 创建字符串\n",
    "a = tf.constant('Hello, Deep Learning.') \n",
    "a"
   ]
  },
  {
   "cell_type": "markdown",
   "metadata": {},
   "source": [
    "### 字符串类型\n",
    "\n",
    "通过传入字符串对象即可创建字符串类型的张量"
   ]
  },
  {
   "cell_type": "code",
   "execution_count": 10,
   "metadata": {},
   "outputs": [
    {
     "data": {
      "text/plain": "<tf.Tensor: shape=(), dtype=string, numpy=b'Hello, Deep Learning.'>"
     },
     "execution_count": 10,
     "metadata": {},
     "output_type": "execute_result"
    }
   ],
   "source": [
    "# 创建字符串\n",
    "a = tf.constant('Hello, Deep Learning.') \n",
    "a"
   ]
  },
  {
   "cell_type": "markdown",
   "metadata": {},
   "source": [
    "在 tf.strings 模块中，提供了常见的字符串类型的工具函数，如小写化 lower()、 拼接\n",
    "join()、 长度 length()、 切分 split()等。"
   ]
  },
  {
   "cell_type": "code",
   "execution_count": 11,
   "metadata": {},
   "outputs": [
    {
     "data": {
      "text/plain": "<tf.Tensor: shape=(), dtype=string, numpy=b'hello, deep learning.'>"
     },
     "execution_count": 11,
     "metadata": {},
     "output_type": "execute_result"
    }
   ],
   "source": [
    "# 小写化字符串\n",
    "tf.strings.lower(a) "
   ]
  },
  {
   "cell_type": "markdown",
   "metadata": {},
   "source": [
    "### 布尔类型\n",
    "布尔类型的张量只需要传入 Python 语言的布尔类型数据，转换成 TensorFlow 内部布尔型即可。"
   ]
  },
  {
   "cell_type": "code",
   "execution_count": 12,
   "metadata": {},
   "outputs": [
    {
     "data": {
      "text/plain": "<tf.Tensor: shape=(), dtype=bool, numpy=True>"
     },
     "execution_count": 12,
     "metadata": {},
     "output_type": "execute_result"
    }
   ],
   "source": [
    "# 创建布尔类型标量\n",
    "tf.constant(True) "
   ]
  },
  {
   "cell_type": "markdown",
   "metadata": {},
   "source": [
    "创建布尔类型的向量"
   ]
  },
  {
   "cell_type": "code",
   "execution_count": 13,
   "metadata": {},
   "outputs": [
    {
     "data": {
      "text/plain": "<tf.Tensor: shape=(2,), dtype=bool, numpy=array([ True, False])>"
     },
     "execution_count": 13,
     "metadata": {},
     "output_type": "execute_result"
    }
   ],
   "source": [
    " # 创建布尔类型向量\n",
    "tf.constant([True, False])"
   ]
  },
  {
   "cell_type": "markdown",
   "metadata": {},
   "source": [
    "需要注意的是， TensorFlow 的布尔类型和 Python 语言的布尔类型并不等价，不能通用"
   ]
  },
  {
   "cell_type": "code",
   "execution_count": 14,
   "metadata": {},
   "outputs": [
    {
     "name": "stdout",
     "output_type": "stream",
     "text": [
      "False\n",
      "tf.Tensor(True, shape=(), dtype=bool)\n"
     ]
    }
   ],
   "source": [
    "# 创建 TF 布尔张量\n",
    "a = tf.constant(True) \n",
    "# TF 布尔类型张量与 python 布尔类型比较\n",
    "print(a is True) \n",
    "# 仅数值比较\n",
    "print(a == True) "
   ]
  },
  {
   "cell_type": "markdown",
   "metadata": {},
   "source": [
    "## 数值精度\n",
    "\n",
    "在创建张量时，可以指定张量的保存精度"
   ]
  },
  {
   "cell_type": "code",
   "execution_count": 15,
   "metadata": {},
   "outputs": [
    {
     "data": {
      "text/plain": "<tf.Tensor: shape=(), dtype=int16, numpy=-13035>"
     },
     "execution_count": 15,
     "metadata": {},
     "output_type": "execute_result"
    }
   ],
   "source": [
    "# 创建指定精度的张量\n",
    "tf.constant(123456789, dtype=tf.int16)"
   ]
  },
  {
   "cell_type": "code",
   "execution_count": 16,
   "metadata": {},
   "outputs": [
    {
     "data": {
      "text/plain": "<tf.Tensor: shape=(), dtype=int32, numpy=123456789>"
     },
     "execution_count": 16,
     "metadata": {},
     "output_type": "execute_result"
    }
   ],
   "source": [
    "tf.constant(123456789, dtype=tf.int32)"
   ]
  },
  {
   "cell_type": "markdown",
   "metadata": {},
   "source": [
    "对于浮点数， 高精度的张量可以表示更精准的数据，例如采用 tf.float32 精度保存π时，实际保存的数据为 3.1415927"
   ]
  },
  {
   "cell_type": "code",
   "execution_count": 17,
   "metadata": {},
   "outputs": [
    {
     "data": {
      "text/plain": "<tf.Tensor: shape=(), dtype=float32, numpy=3.1415927>"
     },
     "execution_count": 17,
     "metadata": {},
     "output_type": "execute_result"
    }
   ],
   "source": [
    "import numpy as np\n",
    "# 从 numpy 中导入 pi 常量\n",
    "np.pi \n",
    "# 32 位\n",
    "tf.constant(np.pi, dtype=tf.float32) "
   ]
  },
  {
   "cell_type": "markdown",
   "metadata": {},
   "source": [
    "如果采用 tf.float64 精度保存π，则能获得更高的精度"
   ]
  },
  {
   "cell_type": "code",
   "execution_count": 18,
   "metadata": {},
   "outputs": [
    {
     "data": {
      "text/plain": "<tf.Tensor: shape=(), dtype=float64, numpy=3.141592653589793>"
     },
     "execution_count": 18,
     "metadata": {},
     "output_type": "execute_result"
    }
   ],
   "source": [
    "tf.constant(np.pi, dtype=tf.float64) # 64 位"
   ]
  },
  {
   "cell_type": "markdown",
   "metadata": {},
   "source": [
    "### 读取精度\n",
    "\n",
    "通过访问张量的 dtype 成员属性可以判断张量的保存精度"
   ]
  },
  {
   "cell_type": "code",
   "execution_count": 19,
   "metadata": {},
   "outputs": [
    {
     "name": "stdout",
     "output_type": "stream",
     "text": [
      "before: <dtype: 'float16'>\n",
      "after : <dtype: 'float32'>\n"
     ]
    }
   ],
   "source": [
    "a = tf.constant(np.pi, dtype=tf.float16)\n",
    "\n",
    "# 读取原有张量的数值精度\n",
    "print('before:',a.dtype) \n",
    "# 如果精度不符合要求，则进行转换\n",
    "if a.dtype != tf.float32: \n",
    "    # tf.cast 函数可以完成精度转换\n",
    "    a = tf.cast(a,tf.float32) \n",
    "# 打印转换后的精度\n",
    "print('after :',a.dtype) "
   ]
  },
  {
   "cell_type": "markdown",
   "metadata": {},
   "source": [
    "### 类型转换\n",
    "系统的每个模块使用的数据类型、 数值精度可能各不相同， 对于不符合要求的张量的类型及精度， 需要通过 tf.cast 函数进行转换"
   ]
  },
  {
   "cell_type": "code",
   "execution_count": 20,
   "metadata": {},
   "outputs": [
    {
     "data": {
      "text/plain": "<tf.Tensor: shape=(), dtype=float64, numpy=3.140625>"
     },
     "execution_count": 20,
     "metadata": {},
     "output_type": "execute_result"
    }
   ],
   "source": [
    "# 创建 tf.float16 低精度张量\n",
    "a = tf.constant(np.pi, dtype=tf.float16) \n",
    "# 转换为高精度张量\n",
    "tf.cast(a, tf.double) "
   ]
  },
  {
   "cell_type": "markdown",
   "metadata": {},
   "source": [
    "进行类型转换时，需要保证转换操作的合法性， 例如将高精度的张量转换为低精度的张量时，可能发生数据溢出隐患："
   ]
  },
  {
   "cell_type": "code",
   "execution_count": 21,
   "metadata": {},
   "outputs": [
    {
     "data": {
      "text/plain": "<tf.Tensor: shape=(), dtype=int16, numpy=-13035>"
     },
     "execution_count": 21,
     "metadata": {},
     "output_type": "execute_result"
    }
   ],
   "source": [
    "a = tf.constant(123456789, dtype=tf.int32)\n",
    "# 转换为低精度整型\n",
    "tf.cast(a, tf.int16) "
   ]
  },
  {
   "cell_type": "markdown",
   "metadata": {},
   "source": [
    "布尔类型与整型之间相互转换也是合法的， 是比较常见的操作"
   ]
  },
  {
   "cell_type": "code",
   "execution_count": 22,
   "metadata": {},
   "outputs": [
    {
     "data": {
      "text/plain": "<tf.Tensor: shape=(2,), dtype=int32, numpy=array([1, 0])>"
     },
     "execution_count": 22,
     "metadata": {},
     "output_type": "execute_result"
    }
   ],
   "source": [
    "a = tf.constant([True, False])\n",
    "# 布尔类型转整型\n",
    "tf.cast(a, tf.int32) "
   ]
  },
  {
   "cell_type": "markdown",
   "metadata": {},
   "source": [
    "一般默认 0 表示 False， 1 表示 True，在 TensorFlow 中，将非 0 数字都视为 True，"
   ]
  },
  {
   "cell_type": "code",
   "execution_count": 23,
   "metadata": {},
   "outputs": [
    {
     "data": {
      "text/plain": "<tf.Tensor: shape=(4,), dtype=bool, numpy=array([ True, False,  True,  True])>"
     },
     "execution_count": 23,
     "metadata": {},
     "output_type": "execute_result"
    }
   ],
   "source": [
    "a = tf.constant([-1, 0, 1, 2])\n",
    "# 整型转布尔类型\n",
    "tf.cast(a, tf.bool) "
   ]
  },
  {
   "cell_type": "markdown",
   "metadata": {},
   "source": [
    "## 待优化张量\n",
    "\n",
    "TensorFlow 增加了一种专门的数据类型来支持梯度信息的记录： tf.Variable。 tf.Variable 类型在普通的张量类型基础上添加了 name， trainable 等属性来支持计算图的构建。"
   ]
  },
  {
   "cell_type": "code",
   "execution_count": 24,
   "metadata": {},
   "outputs": [
    {
     "data": {
      "text/plain": "('Variable:0', True)"
     },
     "execution_count": 24,
     "metadata": {},
     "output_type": "execute_result"
    }
   ],
   "source": [
    "# 创建 TF 张量\n",
    "a = tf.constant([-1, 0, 1, 2]) \n",
    "# 转换为 Variable 类型\n",
    "aa = tf.Variable(a) \n",
    "# Variable 类型张量的属性\n",
    "aa.name, aa.trainable "
   ]
  },
  {
   "cell_type": "markdown",
   "metadata": {},
   "source": [
    "name 属性用于命名计算图中的变量，这套命名体系是 TensorFlow 内部维护的， 一般不需要用户关注 name 属性；   \n",
    "trainable属性表征当前张量是否需要被优化，创建 Variable 对象时是默认启用优化标志，可以设置trainable=False 来设置张量不需要优化。"
   ]
  },
  {
   "cell_type": "code",
   "execution_count": 25,
   "metadata": {},
   "outputs": [
    {
     "data": {
      "text/plain": "<tf.Variable 'Variable:0' shape=(2, 2) dtype=int32, numpy=\narray([[1, 2],\n       [3, 4]])>"
     },
     "execution_count": 25,
     "metadata": {},
     "output_type": "execute_result"
    }
   ],
   "source": [
    "# 直接创建 Variable 张量\n",
    "tf.Variable([[1,2],[3,4]]) "
   ]
  },
  {
   "cell_type": "markdown",
   "metadata": {},
   "source": [
    "## 创建张量\n",
    "\n",
    "### 从数组、列表对象创建"
   ]
  },
  {
   "cell_type": "markdown",
   "metadata": {},
   "source": [
    "通过 tf.convert_to_tensor 函数可以创建新 Tensor，并将保存在 Python List 对象或者Numpy Array 对象中的数据导入到新 Tensor 中。"
   ]
  },
  {
   "cell_type": "code",
   "execution_count": 26,
   "metadata": {},
   "outputs": [
    {
     "data": {
      "text/plain": "<tf.Tensor: shape=(2,), dtype=float32, numpy=array([1., 2.], dtype=float32)>"
     },
     "execution_count": 26,
     "metadata": {},
     "output_type": "execute_result"
    }
   ],
   "source": [
    "# 从列表创建张量\n",
    "tf.convert_to_tensor([1,2.]) "
   ]
  },
  {
   "cell_type": "code",
   "execution_count": 27,
   "metadata": {},
   "outputs": [
    {
     "data": {
      "text/plain": "<tf.Tensor: shape=(2, 2), dtype=float64, numpy=\narray([[1., 2.],\n       [3., 4.]])>"
     },
     "execution_count": 27,
     "metadata": {},
     "output_type": "execute_result"
    }
   ],
   "source": [
    "# 从数组中创建张量\n",
    "tf.convert_to_tensor(np.array([[1,2.],[3,4]])) "
   ]
  },
  {
   "cell_type": "markdown",
   "metadata": {},
   "source": [
    "### 创建全0或全1张量"
   ]
  },
  {
   "cell_type": "code",
   "execution_count": 28,
   "metadata": {},
   "outputs": [
    {
     "data": {
      "text/plain": "(<tf.Tensor: shape=(), dtype=float32, numpy=0.0>,\n <tf.Tensor: shape=(), dtype=float32, numpy=1.0>)"
     },
     "execution_count": 28,
     "metadata": {},
     "output_type": "execute_result"
    }
   ],
   "source": [
    "# 创建全 0，全 1 的标量\n",
    "tf.zeros([]),tf.ones([]) "
   ]
  },
  {
   "cell_type": "code",
   "execution_count": 29,
   "metadata": {},
   "outputs": [
    {
     "data": {
      "text/plain": "(<tf.Tensor: shape=(1,), dtype=float32, numpy=array([0.], dtype=float32)>,\n <tf.Tensor: shape=(1,), dtype=float32, numpy=array([1.], dtype=float32)>)"
     },
     "execution_count": 29,
     "metadata": {},
     "output_type": "execute_result"
    }
   ],
   "source": [
    "# 创建全 0，全 1 的向量\n",
    "tf.zeros([1]),tf.ones([1]) "
   ]
  },
  {
   "cell_type": "markdown",
   "metadata": {},
   "source": [
    "创建全 0 的矩阵"
   ]
  },
  {
   "cell_type": "code",
   "execution_count": 30,
   "metadata": {},
   "outputs": [
    {
     "data": {
      "text/plain": "<tf.Tensor: shape=(2, 2), dtype=float32, numpy=\narray([[0., 0.],\n       [0., 0.]], dtype=float32)>"
     },
     "execution_count": 30,
     "metadata": {},
     "output_type": "execute_result"
    }
   ],
   "source": [
    "# 创建全 0 矩阵，指定 shape 为 2 行 2 列\n",
    "tf.zeros([2,2]) "
   ]
  },
  {
   "cell_type": "markdown",
   "metadata": {},
   "source": [
    "创建全 1 的矩阵"
   ]
  },
  {
   "cell_type": "code",
   "execution_count": 31,
   "metadata": {},
   "outputs": [
    {
     "data": {
      "text/plain": "<tf.Tensor: shape=(3, 2), dtype=float32, numpy=\narray([[1., 1.],\n       [1., 1.],\n       [1., 1.]], dtype=float32)>"
     },
     "execution_count": 31,
     "metadata": {},
     "output_type": "execute_result"
    }
   ],
   "source": [
    "# 创建全 1 矩阵，指定 shape 为 3 行 2 列\n",
    "tf.ones([3,2]) "
   ]
  },
  {
   "cell_type": "markdown",
   "metadata": {},
   "source": [
    "通过 tf.zeros_like, tf.ones_like 可以方便地新建与某个张量 shape 一致， 且内容为全 0 或全 1 的张量。"
   ]
  },
  {
   "cell_type": "code",
   "execution_count": 32,
   "metadata": {},
   "outputs": [
    {
     "data": {
      "text/plain": "<tf.Tensor: shape=(2, 3), dtype=float32, numpy=\narray([[0., 0., 0.],\n       [0., 0., 0.]], dtype=float32)>"
     },
     "execution_count": 32,
     "metadata": {},
     "output_type": "execute_result"
    }
   ],
   "source": [
    "# 创建一个矩阵\n",
    "a = tf.ones([2,3]) \n",
    "# 创建一个与 a 形状相同，但是全 0 的新矩阵\n",
    "tf.zeros_like(a) "
   ]
  },
  {
   "cell_type": "markdown",
   "metadata": {},
   "source": [
    "创建与张量A形状一样的全 1 张量"
   ]
  },
  {
   "cell_type": "code",
   "execution_count": 33,
   "metadata": {},
   "outputs": [
    {
     "data": {
      "text/plain": "<tf.Tensor: shape=(3, 2), dtype=float32, numpy=\narray([[1., 1.],\n       [1., 1.],\n       [1., 1.]], dtype=float32)>"
     },
     "execution_count": 33,
     "metadata": {},
     "output_type": "execute_result"
    }
   ],
   "source": [
    "# 创建一个矩阵\n",
    "a = tf.zeros([3,2]) \n",
    "# 创建一个与 a 形状相同，但是全 1 的新矩阵\n",
    "tf.ones_like(a) "
   ]
  },
  {
   "cell_type": "markdown",
   "metadata": {},
   "source": [
    "### 创建自定义数值张量\n",
    "\n",
    "通过 tf.fill(shape, value)可以创建全为自定义数值 value 的张量，形状由 shape 参数指定。"
   ]
  },
  {
   "cell_type": "code",
   "execution_count": 34,
   "metadata": {},
   "outputs": [
    {
     "data": {
      "text/plain": "<tf.Tensor: shape=(), dtype=int32, numpy=-1>"
     },
     "execution_count": 34,
     "metadata": {},
     "output_type": "execute_result"
    }
   ],
   "source": [
    "# 创建-1 的标量\n",
    "tf.fill([], -1) "
   ]
  },
  {
   "cell_type": "code",
   "execution_count": 35,
   "metadata": {},
   "outputs": [
    {
     "data": {
      "text/plain": "<tf.Tensor: shape=(1,), dtype=int32, numpy=array([-1])>"
     },
     "execution_count": 35,
     "metadata": {},
     "output_type": "execute_result"
    }
   ],
   "source": [
    "# 创建-1 的向量\n",
    "tf.fill([1], -1) "
   ]
  },
  {
   "cell_type": "code",
   "execution_count": 36,
   "metadata": {},
   "outputs": [
    {
     "data": {
      "text/plain": "<tf.Tensor: shape=(2, 2), dtype=int32, numpy=\narray([[99, 99],\n       [99, 99]])>"
     },
     "execution_count": 36,
     "metadata": {},
     "output_type": "execute_result"
    }
   ],
   "source": [
    "# 创建 2 行 2 列，元素全为 99 的矩阵\n",
    "tf.fill([2,2], 99) "
   ]
  },
  {
   "cell_type": "markdown",
   "metadata": {},
   "source": [
    "### 创建已知分布的张量"
   ]
  },
  {
   "cell_type": "markdown",
   "metadata": {},
   "source": [
    "通过 tf.random.normal(shape, mean=0.0, stddev=1.0)可以创建形状为 shape，均值为mean，标准差为 stddev 的正态分布$\\mathcal{N}(mean, stddev^2)$。"
   ]
  },
  {
   "cell_type": "code",
   "execution_count": 37,
   "metadata": {},
   "outputs": [
    {
     "data": {
      "text/plain": "<tf.Tensor: shape=(2, 2), dtype=float32, numpy=\narray([[-0.97397745, -1.0306083 ],\n       [-0.9354729 , -2.6558783 ]], dtype=float32)>"
     },
     "execution_count": 37,
     "metadata": {},
     "output_type": "execute_result"
    }
   ],
   "source": [
    "# 创建标准正态分布的张量\n",
    "tf.random.normal([2,2]) "
   ]
  },
  {
   "cell_type": "code",
   "execution_count": 38,
   "metadata": {},
   "outputs": [
    {
     "data": {
      "text/plain": "<tf.Tensor: shape=(2, 2), dtype=float32, numpy=\narray([[-1.6837847,  3.1045213],\n       [-0.7125044,  2.115145 ]], dtype=float32)>"
     },
     "execution_count": 38,
     "metadata": {},
     "output_type": "execute_result"
    }
   ],
   "source": [
    "# 创建均值为 1，标准差为 2 的正态分布的张量\n",
    "tf.random.normal([2,2], mean=1,stddev=2) "
   ]
  },
  {
   "cell_type": "markdown",
   "metadata": {},
   "source": [
    "通过 tf.random.uniform(shape, minval=0, maxval=None, dtype=tf.float32)可以创建采样自[minval, maxval)区间的均匀分布的张量"
   ]
  },
  {
   "cell_type": "code",
   "execution_count": 39,
   "metadata": {},
   "outputs": [
    {
     "data": {
      "text/plain": "<tf.Tensor: shape=(3, 2), dtype=float32, numpy=\narray([[0.1455468 , 0.00716412],\n       [0.52437997, 0.5088966 ],\n       [0.7623447 , 0.30303788]], dtype=float32)>"
     },
     "execution_count": 39,
     "metadata": {},
     "output_type": "execute_result"
    }
   ],
   "source": [
    "# 创建采样自[0,1)均匀分布的矩阵\n",
    "tf.random.uniform([3,2]) "
   ]
  },
  {
   "cell_type": "code",
   "execution_count": 40,
   "metadata": {},
   "outputs": [
    {
     "data": {
      "text/plain": "<tf.Tensor: shape=(2, 2), dtype=float32, numpy=\narray([[7.87685  , 9.940453 ],\n       [5.3391886, 2.6553059]], dtype=float32)>"
     },
     "execution_count": 40,
     "metadata": {},
     "output_type": "execute_result"
    }
   ],
   "source": [
    "# 创建采样自[0,10)均匀分布的矩阵\n",
    "tf.random.uniform([2,2],maxval=10) "
   ]
  },
  {
   "cell_type": "markdown",
   "metadata": {},
   "source": [
    "如果需要均匀采样整形类型的数据，必须指定采样区间的最大值 maxval 参数，同时指定数据类型为 tf.int*型"
   ]
  },
  {
   "cell_type": "code",
   "execution_count": 41,
   "metadata": {},
   "outputs": [
    {
     "data": {
      "text/plain": "<tf.Tensor: shape=(2, 2), dtype=int32, numpy=\narray([[ 3, 79],\n       [13, 41]])>"
     },
     "execution_count": 41,
     "metadata": {},
     "output_type": "execute_result"
    }
   ],
   "source": [
    "# 创建采样自[0,100)均匀分布的整型矩阵\n",
    "tf.random.uniform([2,2],maxval=100,dtype=tf.int32)"
   ]
  },
  {
   "cell_type": "markdown",
   "metadata": {},
   "source": [
    "### 创建序列\n",
    "\n",
    "tf.range(limit, delta=1)可以创建[0, limit)之间，步长为 delta 的整型序列，不包含 limit 本身。"
   ]
  },
  {
   "cell_type": "code",
   "execution_count": 42,
   "metadata": {},
   "outputs": [
    {
     "data": {
      "text/plain": "<tf.Tensor: shape=(10,), dtype=int32, numpy=array([0, 1, 2, 3, 4, 5, 6, 7, 8, 9])>"
     },
     "execution_count": 42,
     "metadata": {},
     "output_type": "execute_result"
    }
   ],
   "source": [
    "# 0~10，不包含 10\n",
    "tf.range(10) "
   ]
  },
  {
   "cell_type": "code",
   "execution_count": 43,
   "metadata": {},
   "outputs": [
    {
     "data": {
      "text/plain": "<tf.Tensor: shape=(5,), dtype=int32, numpy=array([0, 2, 4, 6, 8])>"
     },
     "execution_count": 43,
     "metadata": {},
     "output_type": "execute_result"
    }
   ],
   "source": [
    "# 创建 0~10，步长为 2 的整形序列\n",
    "tf.range(10,delta=2)"
   ]
  },
  {
   "cell_type": "code",
   "execution_count": 44,
   "metadata": {},
   "outputs": [
    {
     "data": {
      "text/plain": "<tf.Tensor: shape=(5,), dtype=int32, numpy=array([1, 3, 5, 7, 9])>"
     },
     "execution_count": 44,
     "metadata": {},
     "output_type": "execute_result"
    }
   ],
   "source": [
    "tf.range(1,10,delta=2) # 1~10"
   ]
  },
  {
   "cell_type": "markdown",
   "metadata": {},
   "source": [
    "## 张量的典型应用\n",
    "\n",
    "### 标量"
   ]
  },
  {
   "cell_type": "code",
   "execution_count": 45,
   "metadata": {},
   "outputs": [
    {
     "name": "stdout",
     "output_type": "stream",
     "text": [
      "tf.Tensor(0.385473, shape=(), dtype=float32)\n"
     ]
    }
   ],
   "source": [
    "# 随机模拟网络输出\n",
    "out = tf.random.uniform([4,10]) \n",
    "# 随机构造样本真实标签\n",
    "y = tf.constant([2,3,2,0]) \n",
    "# one-hot 编码\n",
    "y = tf.one_hot(y, depth=10) \n",
    "# 计算每个样本的 MSE\n",
    "loss = tf.keras.losses.mse(y, out) \n",
    "# 平均 MSE,loss 应是标量\n",
    "loss = tf.reduce_mean(loss) \n",
    "print(loss)"
   ]
  },
  {
   "cell_type": "markdown",
   "metadata": {},
   "source": [
    "### 向量\n",
    "\n",
    "考虑 2 个输出节点的网络层， 我们创建长度为 2 的偏置向量b，并累加在每个输出节点上："
   ]
  },
  {
   "cell_type": "code",
   "execution_count": 46,
   "metadata": {},
   "outputs": [
    {
     "data": {
      "text/plain": "<tf.Tensor: shape=(4, 2), dtype=float32, numpy=\narray([[-1.5327469 ,  0.804545  ],\n       [-0.63818145,  0.1348657 ],\n       [-0.37990654,  1.088507  ],\n       [-0.27770272,  0.40712953]], dtype=float32)>"
     },
     "execution_count": 46,
     "metadata": {},
     "output_type": "execute_result"
    }
   ],
   "source": [
    "# z=wx,模拟获得激活函数的输入 z\n",
    "z = tf.random.normal([4,2])\n",
    "# 创建偏置向量\n",
    "b = tf.zeros([2])\n",
    "# 累加上偏置向量\n",
    "z = z + b \n",
    "z"
   ]
  },
  {
   "cell_type": "markdown",
   "metadata": {},
   "source": [
    "创建输入节点数为 4，输出节点数为 3 的线性层网络，那么它的偏置向量 b 的长度应为 3"
   ]
  },
  {
   "cell_type": "code",
   "execution_count": 47,
   "metadata": {},
   "outputs": [
    {
     "data": {
      "text/plain": "<tf.Variable 'bias:0' shape=(3,) dtype=float32, numpy=array([0., 0., 0.], dtype=float32)>"
     },
     "execution_count": 47,
     "metadata": {},
     "output_type": "execute_result"
    }
   ],
   "source": [
    "# 创建一层 Wx+b，输出节点为 3\n",
    "fc = tf.keras.layers.Dense(3) \n",
    "# 通过 build 函数创建 W,b 张量，输入节点为 4\n",
    "fc.build(input_shape=(2,4))\n",
    "# 查看偏置向量\n",
    "fc.bias "
   ]
  },
  {
   "cell_type": "markdown",
   "metadata": {},
   "source": [
    "### 矩阵"
   ]
  },
  {
   "cell_type": "code",
   "execution_count": 48,
   "metadata": {},
   "outputs": [
    {
     "data": {
      "text/plain": "<tf.Tensor: shape=(2, 3), dtype=float32, numpy=\narray([[-0.83225155, -0.83225155, -0.83225155],\n       [-1.1855662 , -1.1855662 , -1.1855662 ]], dtype=float32)>"
     },
     "execution_count": 48,
     "metadata": {},
     "output_type": "execute_result"
    }
   ],
   "source": [
    "# 2 个样本，特征长度为 4 的张量\n",
    "x = tf.random.normal([2,4]) \n",
    "# 定义 W 张量\n",
    "w = tf.ones([4,3])\n",
    "# 定义 b 张量\n",
    "b = tf.zeros([3]) \n",
    "# X@W+b 运算\n",
    "o = x@w+b \n",
    "o"
   ]
  },
  {
   "cell_type": "code",
   "execution_count": 49,
   "metadata": {},
   "outputs": [
    {
     "data": {
      "text/plain": "<tf.Variable 'kernel:0' shape=(4, 3) dtype=float32, numpy=\narray([[ 0.724077  ,  0.4982046 , -0.06587303],\n       [-0.0241667 , -0.59892046,  0.67761695],\n       [ 0.24491489,  0.445611  ,  0.85239446],\n       [ 0.18260622, -0.10813189, -0.26759028]], dtype=float32)>"
     },
     "execution_count": 49,
     "metadata": {},
     "output_type": "execute_result"
    }
   ],
   "source": [
    "# 定义全连接层的输出节点为 3\n",
    "fc = tf.keras.layers.Dense(3) \n",
    "# 定义全连接层的输入节点为 4\n",
    "fc.build(input_shape=(2,4)) \n",
    "# 查看权值矩阵 W\n",
    "fc.kernel "
   ]
  },
  {
   "cell_type": "markdown",
   "metadata": {},
   "source": [
    "### 三维张量"
   ]
  },
  {
   "cell_type": "code",
   "execution_count": 50,
   "metadata": {},
   "outputs": [
    {
     "data": {
      "text/plain": "(25000, 80)"
     },
     "execution_count": 50,
     "metadata": {},
     "output_type": "execute_result"
    }
   ],
   "source": [
    "# 自动加载 IMDB 电影评价数据集\n",
    "(x_train,y_train),(x_test,y_test)=keras.datasets.imdb.load_data(num_words=10000)\n",
    "# 将句子填充、截断为等长 80 个单词的句子\n",
    "x_train = keras.preprocessing.sequence.pad_sequences(x_train,maxlen=80)\n",
    "x_train.shape"
   ]
  },
  {
   "cell_type": "markdown",
   "metadata": {},
   "source": [
    "可以看到 x_train 张量的 shape 为[25000,80]，其中 25000 表示句子个数， 80 表示每个句子共 80 个单词，每个单词使用数字编码方式表示。\n",
    "\n",
    "我们通过 layers.Embedding 层将数字编码的单词转换为长度为 100 个词向量："
   ]
  },
  {
   "cell_type": "code",
   "execution_count": 51,
   "metadata": {},
   "outputs": [
    {
     "data": {
      "text/plain": "TensorShape([25000, 80, 100])"
     },
     "execution_count": 51,
     "metadata": {},
     "output_type": "execute_result"
    }
   ],
   "source": [
    "# 创建词向量 Embedding 层类\n",
    "embedding = tf.keras.layers.Embedding(10000, 100)\n",
    "# 将数字编码的单词转换为词向量\n",
    "out = embedding(x_train)\n",
    "out.shape"
   ]
  },
  {
   "cell_type": "markdown",
   "metadata": {},
   "source": [
    "可以看到，经过 Embedding 层编码后，句子张量的 shape 变为[25000,80,100]，其中 100 表示每个单词编码为长度是 100 的向量。"
   ]
  },
  {
   "cell_type": "markdown",
   "metadata": {},
   "source": [
    "### 四维张量"
   ]
  },
  {
   "cell_type": "code",
   "execution_count": 52,
   "metadata": {
    "scrolled": false
   },
   "outputs": [
    {
     "data": {
      "text/plain": "TensorShape([4, 30, 30, 16])"
     },
     "execution_count": 52,
     "metadata": {},
     "output_type": "execute_result"
    }
   ],
   "source": [
    "# 创建 32x32 的彩色图片输入，个数为 4\n",
    "x = tf.random.normal([4,32,32,3])\n",
    "# 创建卷积神经网络\n",
    "layer = layers.Conv2D(16, kernel_size=3)\n",
    "# 前向计算\n",
    "out = layer(x) \n",
    "# 输出大小\n",
    "out.shape "
   ]
  },
  {
   "cell_type": "code",
   "execution_count": 53,
   "metadata": {},
   "outputs": [
    {
     "data": {
      "text/plain": "TensorShape([3, 3, 3, 16])"
     },
     "execution_count": 53,
     "metadata": {},
     "output_type": "execute_result"
    }
   ],
   "source": [
    "# 访问卷积核张量\n",
    "layer.kernel.shape "
   ]
  },
  {
   "cell_type": "markdown",
   "metadata": {},
   "source": [
    "## 索引与切片\n",
    "### 索引"
   ]
  },
  {
   "cell_type": "code",
   "execution_count": 54,
   "metadata": {},
   "outputs": [],
   "source": [
    "# 创建4维张量\n",
    "x = tf.random.normal([4,32,32,3]) "
   ]
  },
  {
   "cell_type": "code",
   "execution_count": 55,
   "metadata": {
    "scrolled": true
   },
   "outputs": [
    {
     "data": {
      "text/plain": "<tf.Tensor: shape=(32, 32, 3), dtype=float32, numpy=\narray([[[-0.10993158, -0.76482767, -0.49552712],\n        [-0.5501099 , -0.3835945 , -0.14019662],\n        [-0.6232224 , -1.1645107 ,  0.60154927],\n        ...,\n        [ 0.31434682,  0.24382047, -1.232458  ],\n        [-0.8505862 , -1.4455422 , -0.9370672 ],\n        [-0.10826951, -1.1604544 , -0.00491596]],\n\n       [[-0.7458317 ,  0.7830274 ,  0.72016746],\n        [ 0.30998018,  0.24681744, -0.28802946],\n        [-0.6457796 ,  1.0818402 ,  0.8868481 ],\n        ...,\n        [ 0.742342  , -1.0574559 , -0.24224569],\n        [-1.569096  , -0.20328608,  0.22892189],\n        [-1.0236126 , -1.6054689 , -1.0556005 ]],\n\n       [[-0.19087991,  0.30872014,  0.6420807 ],\n        [ 0.80346507,  0.48472127,  0.19152613],\n        [-1.2677927 , -1.768326  ,  1.5393652 ],\n        ...,\n        [ 1.4011288 , -0.3050084 , -0.0512824 ],\n        [-0.76959324, -1.8859897 , -1.1479968 ],\n        [ 0.23240027, -0.23369505, -1.8181318 ]],\n\n       ...,\n\n       [[-1.1257386 , -0.06782743, -0.9192851 ],\n        [ 2.3089309 ,  1.4489911 ,  1.8803484 ],\n        [-1.3776672 ,  0.6970421 , -1.0375618 ],\n        ...,\n        [ 2.6931484 ,  0.40762785,  1.171634  ],\n        [-0.228491  , -0.25094834,  0.6746262 ],\n        [ 0.49992025, -1.0721487 ,  0.1607377 ]],\n\n       [[ 0.03587835, -1.6006392 , -2.5856495 ],\n        [-1.0544289 , -0.6402598 , -0.08137996],\n        [-0.7810882 ,  0.2660623 , -0.7191999 ],\n        ...,\n        [-1.4398563 , -0.4601844 ,  1.012684  ],\n        [ 0.8773401 , -0.44773966, -1.0007857 ],\n        [-0.171413  , -0.57020193, -1.1469028 ]],\n\n       [[-0.6144791 ,  2.4655793 , -0.8211291 ],\n        [ 0.00472953,  0.6738525 , -0.93200827],\n        [-0.5603803 , -0.7300247 , -0.08208337],\n        ...,\n        [-1.9608903 ,  0.39478448,  0.40843177],\n        [ 0.94448024, -1.1464102 ,  0.16752838],\n        [ 0.54091424,  0.58066255, -0.21674465]]], dtype=float32)>"
     },
     "execution_count": 55,
     "metadata": {},
     "output_type": "execute_result"
    }
   ],
   "source": [
    "# 取第 1 张图片的数据\n",
    "x[0]"
   ]
  },
  {
   "cell_type": "code",
   "execution_count": 56,
   "metadata": {
    "scrolled": true
   },
   "outputs": [
    {
     "data": {
      "text/plain": "<tf.Tensor: shape=(32, 3), dtype=float32, numpy=\narray([[-0.7458317 ,  0.7830274 ,  0.72016746],\n       [ 0.30998018,  0.24681744, -0.28802946],\n       [-0.6457796 ,  1.0818402 ,  0.8868481 ],\n       [-1.4884441 , -0.13455175, -1.1736985 ],\n       [ 0.02878779,  1.816898  , -0.7361007 ],\n       [ 1.1804696 , -0.2874455 , -0.9298289 ],\n       [-0.27218524, -2.0581906 , -0.596242  ],\n       [ 0.43621385, -1.4370943 , -0.084753  ],\n       [-1.6696087 , -0.2999789 , -0.65871686],\n       [-0.47747883,  0.18295379, -1.5086724 ],\n       [-0.6960691 , -0.48199308, -0.0699514 ],\n       [-0.5198851 , -0.32718906, -0.29517442],\n       [-0.2990352 ,  0.13674392,  2.9287705 ],\n       [ 0.26365533,  1.1695338 , -2.5058248 ],\n       [-0.2321585 ,  0.2958207 ,  0.16809992],\n       [-0.7186524 ,  0.4016944 ,  0.32564214],\n       [-2.0887518 ,  0.3263412 , -0.07153739],\n       [ 0.8329596 ,  1.7731224 , -0.6970461 ],\n       [ 1.546644  ,  1.216754  , -0.56902564],\n       [-0.5993227 , -0.413504  , -0.98388237],\n       [ 0.76039344,  0.19568314,  0.10700071],\n       [-2.5889258 ,  0.1705238 , -0.67500037],\n       [-0.7652184 , -0.24022274, -0.6394262 ],\n       [ 0.4289905 , -1.9884701 ,  0.53723305],\n       [ 1.3915005 ,  0.8815742 ,  0.594193  ],\n       [-1.1148244 ,  1.2018166 , -1.0689622 ],\n       [ 1.1094373 , -0.616715  ,  0.930399  ],\n       [ 0.48707402, -0.23717399,  0.19233699],\n       [ 0.6430613 , -0.60015035,  0.30332077],\n       [ 0.742342  , -1.0574559 , -0.24224569],\n       [-1.569096  , -0.20328608,  0.22892189],\n       [-1.0236126 , -1.6054689 , -1.0556005 ]], dtype=float32)>"
     },
     "execution_count": 56,
     "metadata": {},
     "output_type": "execute_result"
    }
   ],
   "source": [
    "# 取第 1 张图片的第 2 行\n",
    "x[0][1]"
   ]
  },
  {
   "cell_type": "code",
   "execution_count": 57,
   "metadata": {},
   "outputs": [
    {
     "data": {
      "text/plain": "<tf.Tensor: shape=(3,), dtype=float32, numpy=array([-0.6457796,  1.0818402,  0.8868481], dtype=float32)>"
     },
     "execution_count": 57,
     "metadata": {},
     "output_type": "execute_result"
    }
   ],
   "source": [
    "# 取第 1 张图片，第 2 行，第 3 列的数据\n",
    "x[0][1][2]"
   ]
  },
  {
   "cell_type": "code",
   "execution_count": 58,
   "metadata": {},
   "outputs": [
    {
     "data": {
      "text/plain": "<tf.Tensor: shape=(), dtype=float32, numpy=-2.1434128>"
     },
     "execution_count": 58,
     "metadata": {},
     "output_type": "execute_result"
    }
   ],
   "source": [
    "# 取第 3 张图片，第 2 行，第 1 列的像素， B 通道(第 2 个通道)颜色强度值\n",
    "x[2][1][0][1]"
   ]
  },
  {
   "cell_type": "code",
   "execution_count": 59,
   "metadata": {},
   "outputs": [
    {
     "data": {
      "text/plain": "<tf.Tensor: shape=(3,), dtype=float32, numpy=array([ 1.3916959 , -0.06187385, -0.06090361], dtype=float32)>"
     },
     "execution_count": 59,
     "metadata": {},
     "output_type": "execute_result"
    }
   ],
   "source": [
    "# 取第 2 张图片，第 10 行，第 3 列的数据\n",
    "x[1,9,2]"
   ]
  },
  {
   "cell_type": "markdown",
   "metadata": {},
   "source": [
    "### 切片"
   ]
  },
  {
   "cell_type": "code",
   "execution_count": 60,
   "metadata": {
    "scrolled": true
   },
   "outputs": [
    {
     "data": {
      "text/plain": "<tf.Tensor: shape=(2, 32, 32, 3), dtype=float32, numpy=\narray([[[[ 0.5865714 ,  0.11125568, -1.3225484 ],\n         [-1.4692016 ,  1.4952412 ,  0.05555411],\n         [-1.1002572 , -0.18702333,  1.2701763 ],\n         ...,\n         [-0.5746526 , -1.3472741 , -0.3001932 ],\n         [ 0.24726966, -0.12488879,  0.8122815 ],\n         [-1.7584114 , -1.2840904 , -0.9392227 ]],\n\n        [[-1.3144423 ,  0.8767133 , -0.73904234],\n         [ 0.58684313,  0.18611103,  1.7682327 ],\n         [ 0.22105928,  0.21740296,  0.95649797],\n         ...,\n         [-1.7723407 ,  0.18277352, -1.1662934 ],\n         [ 0.61659545,  0.06563424, -0.4154344 ],\n         [ 0.07520714, -0.38622826,  0.35551792]],\n\n        [[-0.78851473, -0.34560546,  0.48388138],\n         [ 1.0435812 ,  0.41262448, -0.5309084 ],\n         [ 1.7557193 ,  0.64850616, -0.6151531 ],\n         ...,\n         [-0.3927753 , -0.8912608 , -1.2775675 ],\n         [-0.7262972 , -1.0364835 ,  1.4787618 ],\n         [-0.24162461, -0.8045028 , -0.66147834]],\n\n        ...,\n\n        [[ 0.7125637 , -1.9118985 ,  0.92196655],\n         [-1.0587504 , -0.21468511,  0.4499684 ],\n         [-2.7301295 , -0.7124506 , -0.2630121 ],\n         ...,\n         [-0.47116807, -0.45170724, -0.31223592],\n         [ 0.4230476 , -1.3708938 , -0.04537763],\n         [ 0.74046963,  0.9064475 , -0.99485075]],\n\n        [[ 0.52219564, -0.5531545 ,  0.3779388 ],\n         [-0.32848933,  0.5172362 , -0.1931008 ],\n         [-0.51042175,  1.9957631 , -0.15328422],\n         ...,\n         [-2.0703363 , -0.1537518 , -1.1767173 ],\n         [ 1.0843704 ,  2.0644212 , -0.25952074],\n         [ 0.2681779 ,  0.6109092 ,  0.6229461 ]],\n\n        [[ 1.3988663 , -0.27041113,  0.8140443 ],\n         [ 0.6086491 , -0.29470202,  0.5820726 ],\n         [-0.6130873 ,  0.41050512,  1.3244646 ],\n         ...,\n         [-0.86177355,  0.68997955,  0.36245453],\n         [ 0.46986872, -0.29393834,  0.43504342],\n         [-0.50072855,  0.42282164, -0.01260805]]],\n\n\n       [[[ 0.9773369 ,  0.08814842, -1.2467752 ],\n         [ 0.27006215,  0.77714044, -0.26850402],\n         [-0.5326193 ,  1.9436257 ,  0.3853203 ],\n         ...,\n         [-0.49045384, -0.21658002,  0.8743405 ],\n         [-1.1935695 ,  0.26327163,  1.8578776 ],\n         [-1.1727483 ,  1.8055483 , -0.34408727]],\n\n        [[ 0.2655628 , -2.1434128 , -0.01664614],\n         [-0.8915319 , -0.78618795,  2.930876  ],\n         [-0.8854116 , -0.635277  , -0.43637383],\n         ...,\n         [-0.5849541 ,  3.0516572 ,  0.31876847],\n         [ 1.563894  , -0.7239585 , -0.8987563 ],\n         [ 0.7701039 ,  0.91422695, -1.0309095 ]],\n\n        [[ 0.4408345 , -0.2963516 ,  0.54754007],\n         [ 1.0660025 , -0.9149826 ,  0.47330236],\n         [-1.4512696 , -0.20026848, -0.12904944],\n         ...,\n         [ 0.47032708,  1.7101595 , -0.95228356],\n         [-1.59105   , -0.12989055,  0.16127238],\n         [ 0.5205687 ,  1.4032105 ,  2.6825602 ]],\n\n        ...,\n\n        [[-0.76200867,  1.3958178 , -0.45586038],\n         [-0.22217616,  0.47764242, -0.03383512],\n         [ 2.4294858 , -1.2555294 ,  0.20730229],\n         ...,\n         [ 0.7628535 , -0.09422467,  0.2698684 ],\n         [ 0.07640336, -0.35860455,  0.7819717 ],\n         [ 1.3135117 ,  0.9488759 ,  1.077884  ]],\n\n        [[ 0.03406397,  0.00427287,  0.55238444],\n         [ 0.23445383, -1.1318114 ,  1.3599107 ],\n         [ 0.63065964, -0.12566009,  1.6515602 ],\n         ...,\n         [-0.22875834, -0.12341794,  0.6189878 ],\n         [-0.53464526, -1.081847  ,  2.959592  ],\n         [ 1.435365  , -0.5919168 , -0.81567675]],\n\n        [[-0.9731015 , -1.8757427 , -0.17769895],\n         [ 2.0809205 ,  0.27026227, -2.1567295 ],\n         [ 1.0576211 , -0.42133585,  0.3520716 ],\n         ...,\n         [-0.6922125 , -0.6874517 , -0.00878689],\n         [ 0.502862  ,  0.03697065,  0.9157755 ],\n         [ 0.42450696, -0.03158161,  0.5285007 ]]]], dtype=float32)>"
     },
     "execution_count": 60,
     "metadata": {},
     "output_type": "execute_result"
    }
   ],
   "source": [
    "# 读取第 2,3 张图片\n",
    "x[1:3]"
   ]
  },
  {
   "cell_type": "code",
   "execution_count": 61,
   "metadata": {
    "scrolled": true
   },
   "outputs": [
    {
     "data": {
      "text/plain": "<tf.Tensor: shape=(32, 32, 3), dtype=float32, numpy=\narray([[[-0.10993158, -0.76482767, -0.49552712],\n        [-0.5501099 , -0.3835945 , -0.14019662],\n        [-0.6232224 , -1.1645107 ,  0.60154927],\n        ...,\n        [ 0.31434682,  0.24382047, -1.232458  ],\n        [-0.8505862 , -1.4455422 , -0.9370672 ],\n        [-0.10826951, -1.1604544 , -0.00491596]],\n\n       [[-0.7458317 ,  0.7830274 ,  0.72016746],\n        [ 0.30998018,  0.24681744, -0.28802946],\n        [-0.6457796 ,  1.0818402 ,  0.8868481 ],\n        ...,\n        [ 0.742342  , -1.0574559 , -0.24224569],\n        [-1.569096  , -0.20328608,  0.22892189],\n        [-1.0236126 , -1.6054689 , -1.0556005 ]],\n\n       [[-0.19087991,  0.30872014,  0.6420807 ],\n        [ 0.80346507,  0.48472127,  0.19152613],\n        [-1.2677927 , -1.768326  ,  1.5393652 ],\n        ...,\n        [ 1.4011288 , -0.3050084 , -0.0512824 ],\n        [-0.76959324, -1.8859897 , -1.1479968 ],\n        [ 0.23240027, -0.23369505, -1.8181318 ]],\n\n       ...,\n\n       [[-1.1257386 , -0.06782743, -0.9192851 ],\n        [ 2.3089309 ,  1.4489911 ,  1.8803484 ],\n        [-1.3776672 ,  0.6970421 , -1.0375618 ],\n        ...,\n        [ 2.6931484 ,  0.40762785,  1.171634  ],\n        [-0.228491  , -0.25094834,  0.6746262 ],\n        [ 0.49992025, -1.0721487 ,  0.1607377 ]],\n\n       [[ 0.03587835, -1.6006392 , -2.5856495 ],\n        [-1.0544289 , -0.6402598 , -0.08137996],\n        [-0.7810882 ,  0.2660623 , -0.7191999 ],\n        ...,\n        [-1.4398563 , -0.4601844 ,  1.012684  ],\n        [ 0.8773401 , -0.44773966, -1.0007857 ],\n        [-0.171413  , -0.57020193, -1.1469028 ]],\n\n       [[-0.6144791 ,  2.4655793 , -0.8211291 ],\n        [ 0.00472953,  0.6738525 , -0.93200827],\n        [-0.5603803 , -0.7300247 , -0.08208337],\n        ...,\n        [-1.9608903 ,  0.39478448,  0.40843177],\n        [ 0.94448024, -1.1464102 ,  0.16752838],\n        [ 0.54091424,  0.58066255, -0.21674465]]], dtype=float32)>"
     },
     "execution_count": 61,
     "metadata": {},
     "output_type": "execute_result"
    }
   ],
   "source": [
    "# 读取第一张图片\n",
    "x[0,::] "
   ]
  },
  {
   "cell_type": "code",
   "execution_count": 62,
   "metadata": {},
   "outputs": [
    {
     "data": {
      "text/plain": "<tf.Tensor: shape=(4, 14, 14, 3), dtype=float32, numpy=\narray([[[[-1.09931581e-01, -7.64827669e-01, -4.95527118e-01],\n         [-6.23222411e-01, -1.16451073e+00,  6.01549268e-01],\n         [ 1.01597929e+00, -5.61499417e-01, -6.52397931e-01],\n         ...,\n         [-2.01841816e-01,  7.75216937e-01, -5.39935529e-01],\n         [-8.81338656e-01,  1.95215225e+00, -2.62149721e-01],\n         [-1.37533498e+00,  2.92958617e-01, -3.23992133e-01]],\n\n        [[-1.90879911e-01,  3.08720142e-01,  6.42080724e-01],\n         [-1.26779270e+00, -1.76832604e+00,  1.53936517e+00],\n         [ 1.49901152e+00, -1.53944910e+00, -2.68819332e-01],\n         ...,\n         [ 1.01092958e+00,  6.82316542e-01,  5.14177084e-01],\n         [ 6.68777645e-01,  2.61561841e-01, -2.75340652e+00],\n         [ 5.70258558e-01,  3.40609521e-01,  9.44910586e-01]],\n\n        [[-1.99123037e+00, -3.61184508e-01, -2.23819926e-01],\n         [-8.17214787e-01, -1.78004831e-01, -3.01317668e+00],\n         [ 3.72220337e-01, -3.28665197e-01, -4.79905635e-01],\n         ...,\n         [ 1.41410184e+00, -8.25403869e-01,  1.45628238e+00],\n         [ 6.27653480e-01, -1.58589101e+00,  2.06014538e+00],\n         [ 1.68400383e+00, -3.38873237e-01, -1.89236164e-01]],\n\n        ...,\n\n        [[ 8.81152213e-01, -3.61372441e-01,  2.65627980e-01],\n         [-2.41968736e-01,  1.12469234e-01,  5.83353579e-01],\n         [ 4.76592273e-01,  3.33825171e-01,  2.02363563e+00],\n         ...,\n         [-1.81663585e+00,  4.59297687e-01,  1.88281968e-01],\n         [ 2.12160438e-01, -8.62550080e-01, -2.29977942e+00],\n         [-1.79880753e-01,  1.42509007e+00,  6.58745617e-02]],\n\n        [[ 4.64389861e-01,  2.92971492e-01,  5.13104141e-01],\n         [ 4.59592581e-01, -7.59703875e-01,  1.59041554e-01],\n         [-1.22594714e+00, -7.96779573e-01, -1.01327077e-01],\n         ...,\n         [-1.34739339e+00,  2.07448602e+00, -8.41438711e-01],\n         [ 3.56010869e-02,  2.77804852e-01, -5.27373612e-01],\n         [-1.20165145e+00, -8.14076245e-01, -1.35536149e-01]],\n\n        [[-5.57702899e-01,  1.63770616e+00, -1.00349939e+00],\n         [-1.96286559e-01, -3.36853474e-01, -7.84104586e-01],\n         [ 1.57743526e+00, -1.73447743e-01, -1.54406238e+00],\n         ...,\n         [-1.41531348e+00,  8.13466907e-01, -1.31349206e+00],\n         [ 9.32230577e-02,  1.25104889e-01,  1.00615966e+00],\n         [-4.14443493e-01,  2.41780594e-01,  1.12531292e+00]]],\n\n\n       [[[ 5.86571395e-01,  1.11255676e-01, -1.32254839e+00],\n         [-1.10025716e+00, -1.87023327e-01,  1.27017629e+00],\n         [ 8.45348537e-01, -1.06570446e+00,  4.06701475e-01],\n         ...,\n         [-1.14922988e+00, -1.73586652e-01, -1.19363916e+00],\n         [-1.32293844e+00,  6.00855649e-01,  6.22832119e-01],\n         [ 4.81402874e-01, -9.59627628e-01, -6.09079659e-01]],\n\n        [[-7.88514733e-01, -3.45605463e-01,  4.83881384e-01],\n         [ 1.75571930e+00,  6.48506165e-01, -6.15153074e-01],\n         [-1.11251044e+00,  1.22266650e-01, -1.55610514e+00],\n         ...,\n         [ 7.02848554e-01,  1.43668145e-01, -1.48493433e+00],\n         [ 1.00355959e+00, -3.75639908e-02, -1.74574971e+00],\n         [-3.88965011e-01, -1.31994992e-01, -3.90675068e-01]],\n\n        [[-2.93467671e-01,  8.43769372e-01, -2.17076039e+00],\n         [-1.26465464e+00,  1.47933260e-01, -1.86343765e+00],\n         [ 1.25852633e+00,  1.28004298e-01,  1.47428736e-02],\n         ...,\n         [-4.16621089e-01, -5.03619015e-01,  5.15221000e-01],\n         [ 9.84024763e-01, -5.57384849e-01,  1.89879704e+00],\n         [ 1.20350158e+00, -2.09813580e-01, -1.78883648e+00]],\n\n        ...,\n\n        [[-2.89424181e-01, -6.36493087e-01, -5.18225133e-01],\n         [ 1.03514564e+00,  5.47029495e-01, -5.06983578e-01],\n         [ 1.68344200e+00,  7.61021674e-01, -1.18058085e+00],\n         ...,\n         [-1.33980238e+00,  2.73992389e-01,  4.03860927e-01],\n         [ 5.96048534e-01,  4.02669340e-01,  1.12577403e+00],\n         [ 1.28227580e+00, -1.37033510e+00,  7.08057225e-01]],\n\n        [[-1.14014745e+00,  1.37693071e+00,  4.36870426e-01],\n         [-1.21707499e+00,  9.89925444e-01,  1.09438431e+00],\n         [-4.02623042e-02, -1.58101749e+00, -4.77063566e-01],\n         ...,\n         [-6.20367289e-01,  1.23602021e+00, -2.73210526e-01],\n         [ 1.25193402e-01,  8.53158593e-01, -9.71493483e-01],\n         [ 2.17976928e+00, -1.13609982e+00,  2.39613891e-01]],\n\n        [[ 8.44455659e-01, -1.10293317e+00,  2.82301456e-01],\n         [ 5.15768290e-01,  1.20171702e+00, -1.78546512e+00],\n         [-7.34684408e-01, -2.46413484e-01, -1.46472716e+00],\n         ...,\n         [ 1.42552531e+00,  1.11134708e+00,  3.03806543e-01],\n         [-4.64039207e-01, -9.71610248e-01, -8.16219747e-01],\n         [ 1.25798178e+00, -4.46951360e-01, -1.39317954e+00]]],\n\n\n       [[[ 9.77336884e-01,  8.81484225e-02, -1.24677515e+00],\n         [-5.32619298e-01,  1.94362569e+00,  3.85320306e-01],\n         [-2.20824027e+00,  1.41381657e+00,  9.53689218e-01],\n         ...,\n         [-7.37618506e-01,  1.16959274e+00, -1.18696737e+00],\n         [-1.08930302e+00,  1.81982994e+00, -2.01336265e-01],\n         [-3.83170873e-01, -1.48202682e+00, -1.41311622e+00]],\n\n        [[ 4.40834492e-01, -2.96351612e-01,  5.47540069e-01],\n         [-1.45126963e+00, -2.00268477e-01, -1.29049435e-01],\n         [-1.76732969e+00,  1.76364517e+00, -3.70190531e-01],\n         ...,\n         [-1.91194546e+00, -9.28724170e-01,  7.31188118e-01],\n         [-4.04133171e-01,  1.20144761e+00,  1.51469618e-01],\n         [ 1.77279663e+00, -6.86995089e-01,  1.33974481e+00]],\n\n        [[ 1.72164179e-02, -3.26823503e-01, -8.18016112e-01],\n         [ 2.95801252e-01,  1.09830773e+00, -8.37830678e-02],\n         [-9.78040874e-01,  4.59924877e-01,  1.71095073e+00],\n         ...,\n         [-4.43791777e-01,  9.52115834e-01,  1.69060457e+00],\n         [ 1.20712888e+00,  1.86709476e+00,  1.80373728e+00],\n         [ 4.63316679e-01,  2.50850886e-01, -2.79206991e-01]],\n\n        ...,\n\n        [[ 9.75812376e-01,  1.56169102e-01, -1.29563451e+00],\n         [-1.63652495e-01, -1.02868819e+00, -1.04679011e-01],\n         [ 4.34827246e-02,  1.36949670e+00, -7.67469943e-01],\n         ...,\n         [-4.98615891e-01, -1.00230061e-01, -5.52028656e-01],\n         [ 8.11404228e-01,  4.64197516e-01,  3.42002809e-01],\n         [ 1.97465944e+00,  1.74779284e+00,  5.25100172e-01]],\n\n        [[ 1.01807880e+00, -6.16116285e-01, -4.82521236e-01],\n         [-3.99645388e-01,  8.96856546e-01,  2.07750142e-01],\n         [-7.52846003e-01,  1.11609191e-01,  1.86889797e-01],\n         ...,\n         [ 2.90957063e-01,  3.75876755e-01, -3.11764777e-01],\n         [ 1.77649426e+00, -1.03527737e+00, -5.99942982e-01],\n         [-1.37997913e+00, -9.65896010e-01,  1.16736329e+00]],\n\n        [[ 1.59976378e-01, -1.98942842e-03, -1.51639760e+00],\n         [-2.09685683e-01,  5.97436428e-01, -1.78762472e+00],\n         [ 1.82721364e+00, -1.05439350e-01, -5.99157140e-02],\n         ...,\n         [ 2.81650990e-01,  8.50753009e-01,  1.69011569e+00],\n         [-3.07121575e-01, -3.31259847e-01, -8.82818639e-01],\n         [ 2.52588272e-01,  1.67616192e-04, -1.77032304e+00]]],\n\n\n       [[[ 1.10389435e+00,  1.57165855e-01, -8.64259899e-01],\n         [ 1.16917634e+00, -9.26832139e-01, -5.18174529e-01],\n         [ 3.41990650e-01, -2.56481469e-01,  1.26310274e-01],\n         ...,\n         [ 7.23772824e-01, -3.12517643e-01,  4.41296756e-01],\n         [-4.02757078e-01, -3.04315805e-01, -5.20545840e-01],\n         [ 1.90709829e+00,  1.07485318e+00,  1.52346879e-01]],\n\n        [[ 9.77615833e-01,  2.64992297e-01,  1.15835869e+00],\n         [-5.26468813e-01,  6.99743271e-01, -5.76975703e-01],\n         [ 3.93183500e-01, -7.13032782e-01, -2.49592021e-01],\n         ...,\n         [-1.54659593e+00, -1.49103239e-01, -6.17658794e-01],\n         [ 3.36260945e-01,  6.82461560e-01,  3.19977194e-01],\n         [-7.69638866e-02,  1.18405771e+00, -6.92831099e-01]],\n\n        [[-5.57028642e-03,  1.31897378e+00,  1.21037602e-01],\n         [ 7.88553476e-01,  1.76824129e+00,  1.85032129e-01],\n         [-4.85667139e-01,  1.09462440e+00,  7.47542143e-01],\n         ...,\n         [ 2.83261627e-01, -9.76700708e-02, -6.80900991e-01],\n         [ 3.31178933e-01, -2.75245130e-01,  7.12848365e-01],\n         [ 8.65610778e-01,  2.73541082e-02,  1.19932282e+00]],\n\n        ...,\n\n        [[ 8.49939108e-01, -8.23897064e-01,  1.04139709e+00],\n         [ 4.77414280e-01,  6.10899389e-01, -1.22462797e+00],\n         [-1.18343234e+00,  4.58912939e-01,  2.87065476e-01],\n         ...,\n         [-3.40282351e-01,  2.06572390e+00, -1.05269516e+00],\n         [ 1.12058938e+00,  3.92158538e-01,  7.05622911e-01],\n         [ 7.37298310e-01, -6.55261695e-01, -8.55746865e-02]],\n\n        [[ 2.13743687e+00, -4.37939197e-01,  9.71589804e-01],\n         [ 8.84194970e-02, -1.92078066e+00,  1.98080882e-01],\n         [ 3.02974194e-01,  8.48093688e-01,  1.97221443e-01],\n         ...,\n         [-1.63335514e+00, -8.11078012e-01,  1.31159079e+00],\n         [-1.16483665e+00,  8.69168282e-01,  1.01883554e+00],\n         [-9.96646583e-01,  1.06009614e+00, -1.20164585e+00]],\n\n        [[ 3.14178586e-01, -6.53208494e-01, -5.64251006e-01],\n         [ 4.14035730e-02,  6.86835945e-01, -6.39784396e-01],\n         [ 3.77701819e-01,  7.02121913e-01,  1.30904281e+00],\n         ...,\n         [-1.08839774e+00,  3.42748553e-01, -1.17406654e+00],\n         [ 1.10361946e+00,  7.60398865e-01, -1.06755853e+00],\n         [ 3.68096270e-02,  2.81014532e-01,  3.83917242e-01]]]],\n      dtype=float32)>"
     },
     "execution_count": 62,
     "metadata": {},
     "output_type": "execute_result"
    }
   ],
   "source": [
    "x[:,0:28:2,0:28:2,:]"
   ]
  },
  {
   "cell_type": "code",
   "execution_count": 63,
   "metadata": {},
   "outputs": [
    {
     "data": {
      "text/plain": "<tf.Tensor: shape=(8,), dtype=int32, numpy=array([8, 7, 6, 5, 4, 3, 2, 1])>"
     },
     "execution_count": 63,
     "metadata": {},
     "output_type": "execute_result"
    }
   ],
   "source": [
    "# 考虑一个 0~9 的简单序列向量， 逆序取到第 1 号元素，不包含第 1 号\n",
    "# 创建 0~9 向量\n",
    "x = tf.range(9) \n",
    "# 从 8 取到 0，逆序，不包含 0\n",
    "x[8:0:-1] "
   ]
  },
  {
   "cell_type": "code",
   "execution_count": 64,
   "metadata": {},
   "outputs": [
    {
     "data": {
      "text/plain": "<tf.Tensor: shape=(9,), dtype=int32, numpy=array([8, 7, 6, 5, 4, 3, 2, 1, 0])>"
     },
     "execution_count": 64,
     "metadata": {},
     "output_type": "execute_result"
    }
   ],
   "source": [
    "# 逆序全部元素\n",
    "x[::-1] "
   ]
  },
  {
   "cell_type": "code",
   "execution_count": 65,
   "metadata": {},
   "outputs": [
    {
     "data": {
      "text/plain": "<tf.Tensor: shape=(5,), dtype=int32, numpy=array([8, 6, 4, 2, 0])>"
     },
     "execution_count": 65,
     "metadata": {},
     "output_type": "execute_result"
    }
   ],
   "source": [
    "# 逆序间隔采样\n",
    "x[::-2] "
   ]
  },
  {
   "cell_type": "markdown",
   "metadata": {},
   "source": [
    "读取每张图片的所有通道，其中行按着逆序隔行采样，列按着逆序隔行采样"
   ]
  },
  {
   "cell_type": "code",
   "execution_count": 66,
   "metadata": {},
   "outputs": [
    {
     "data": {
      "text/plain": "<tf.Tensor: shape=(16, 16, 3), dtype=float32, numpy=\narray([[[-0.09411404,  0.7240216 , -0.7666962 ],\n        [-0.53115535,  2.2403452 , -0.62131697],\n        [-0.24783158, -0.6002218 ,  1.2254047 ],\n        [-0.6449905 ,  0.25966257,  0.10978647],\n        [ 2.1478534 , -0.2250526 ,  1.1320399 ],\n        [-0.5680204 ,  0.3973007 ,  1.6440705 ],\n        [-1.3358854 ,  0.25515625,  0.7660242 ],\n        [-0.1923997 ,  0.2457304 , -1.3870431 ],\n        [-1.549684  , -1.6496991 , -1.2509031 ],\n        [-1.5780103 ,  0.67487085, -2.552356  ],\n        [-0.8320891 , -0.7662221 , -0.23174873],\n        [ 1.4814372 ,  0.24751478,  0.49903905],\n        [-1.1497355 ,  1.9193873 ,  1.2254889 ],\n        [-1.7062945 ,  0.30084926, -1.5692333 ],\n        [ 0.6076405 ,  2.170612  , -1.9500432 ],\n        [ 0.04345971,  0.4867372 ,  0.17551772]],\n\n       [[-1.2608598 , -0.8853848 , -0.24059154],\n        [-1.2171402 ,  0.30249724, -1.0330511 ],\n        [-1.9851558 ,  0.6092573 ,  0.00701706],\n        [-0.2726788 , -0.05023105, -1.4317977 ],\n        [ 0.01898298, -0.31015316, -0.82897717],\n        [-0.8704879 , -0.6987503 , -0.02188641],\n        [-0.5436218 ,  1.3872963 ,  0.71236944],\n        [-1.4443738 ,  1.5942769 , -0.3622113 ],\n        [-0.15374106, -2.229186  , -0.8616865 ],\n        [-0.7028578 ,  1.0858666 ,  1.3516535 ],\n        [-0.6360436 , -0.65189093,  1.9023157 ],\n        [-0.00865195, -1.2193804 ,  0.66985774],\n        [ 0.34735328, -1.4646752 , -0.14357148],\n        [ 1.1721559 ,  0.6283029 , -1.5942075 ],\n        [ 0.19489333, -1.2553701 , -1.4180946 ],\n        [-0.19222707,  0.00328961,  1.2580656 ]],\n\n       [[-0.13013771, -0.21653295,  1.8413942 ],\n        [ 0.6669089 ,  0.35443446,  0.0362294 ],\n        [-1.074052  ,  0.8273767 ,  0.11396024],\n        [-1.2121458 ,  2.5435493 ,  0.37494823],\n        [-0.90097135, -0.09131546,  0.9692194 ],\n        [-0.83164215, -0.9512286 ,  0.02601347],\n        [-0.5081024 , -0.7698384 , -2.1087165 ],\n        [ 0.5293145 , -0.48182926,  0.3309278 ],\n        [ 0.31977153, -0.83924234, -0.10714494],\n        [-0.86261034,  0.57510805,  0.3486219 ],\n        [ 0.40510017, -1.199773  , -0.03745241],\n        [ 0.13181117,  1.2312865 ,  0.20341195],\n        [ 0.5069204 , -0.49965587,  1.0899596 ],\n        [-1.0371382 , -0.33258772,  1.4380835 ],\n        [ 0.8687933 , -1.0652572 , -1.0400198 ],\n        [-1.6524007 ,  0.29473463,  1.4035499 ]],\n\n       [[-0.21793629, -0.6682338 , -1.0679948 ],\n        [ 1.0548397 ,  0.4079479 , -0.3019102 ],\n        [ 0.19064017, -0.7811306 , -0.391864  ],\n        [ 0.4739682 , -0.36684948,  0.2180707 ],\n        [-0.43525246, -1.0181149 ,  0.16815844],\n        [ 0.43974894, -0.25039306,  0.33293903],\n        [ 0.6832401 ,  0.5457095 , -0.24696136],\n        [-0.4332331 ,  0.59965146, -0.32123622],\n        [-1.8729745 ,  0.5574076 ,  0.38768408],\n        [ 0.58083016, -1.3473942 ,  2.1116154 ],\n        [-1.3825518 , -2.1379836 , -0.1822785 ],\n        [-0.1896493 , -0.713338  ,  0.5364007 ],\n        [-1.8355681 ,  1.2503465 , -2.031595  ],\n        [-0.5562207 , -0.86149395,  0.47601262],\n        [-0.03941629,  0.55616134,  0.95956755],\n        [-0.50147086,  1.4216616 , -0.59567726]],\n\n       [[-1.3574808 ,  0.6027519 , -0.1415941 ],\n        [ 1.127239  ,  0.40975708,  0.7054946 ],\n        [-1.1021962 , -0.49123016,  0.81152457],\n        [-0.9227833 , -1.0606362 , -0.3497031 ],\n        [-0.15409204, -0.8505208 ,  0.31466112],\n        [ 0.78935105,  0.70576346, -0.82910454],\n        [-0.71700674,  1.776052  , -0.7606276 ],\n        [ 0.7888117 , -0.26963186, -1.5739708 ],\n        [-0.23006381, -1.3041209 ,  0.01306994],\n        [ 2.2112107 , -0.79557085, -0.43245256],\n        [ 0.24807729, -2.2090673 , -2.5253336 ],\n        [-0.26258615,  0.7074471 ,  1.1304106 ],\n        [ 0.66992843, -0.25477827, -0.26844662],\n        [ 1.9681206 ,  0.8464874 , -0.37240347],\n        [ 1.9722084 ,  0.39466745, -0.96805525],\n        [ 1.3846633 ,  0.42925718, -0.6121691 ]],\n\n       [[ 0.12852496,  0.41971806,  1.5251824 ],\n        [ 1.9347867 , -1.3303212 ,  0.9110903 ],\n        [ 0.66880316, -0.02309145,  1.2648929 ],\n        [-0.45913196, -0.8427203 , -0.69513786],\n        [ 0.2764412 ,  0.5536334 ,  0.8052538 ],\n        [ 0.30080664,  2.7454302 , -0.92725444],\n        [-1.2474843 ,  1.9886309 , -1.1253238 ],\n        [-0.60187906,  0.4342134 ,  0.9747513 ],\n        [ 0.00490546, -0.6163705 , -1.263634  ],\n        [ 0.42185628, -0.54843974, -1.0237851 ],\n        [-0.02828275, -0.04155608,  0.7961476 ],\n        [ 1.0429965 ,  1.9795759 ,  0.44180837],\n        [ 1.3149576 , -0.4830492 , -0.08754562],\n        [-0.61462146, -0.06855304,  0.6822925 ],\n        [ 1.178445  ,  0.6003316 ,  0.330943  ],\n        [ 0.29425427,  1.7343104 ,  0.12961541]],\n\n       [[ 0.3083153 ,  0.5774109 , -2.1375198 ],\n        [-1.1215605 , -0.70326114, -0.09957303],\n        [-0.13022767,  1.6810634 ,  2.7072453 ],\n        [ 0.3516299 , -1.3625463 , -0.13825221],\n        [ 0.37957093, -1.345329  ,  1.4870771 ],\n        [-0.7140134 ,  0.39090833,  0.00846371],\n        [ 1.7123804 , -0.09569158, -0.12335814],\n        [ 0.7619426 ,  0.12186854,  1.4008726 ],\n        [ 0.13259546, -1.1820399 , -0.3005002 ],\n        [ 2.1201892 ,  0.14558786,  1.6317441 ],\n        [-0.63267666, -0.7579129 ,  0.3464615 ],\n        [-0.33178812, -0.29655224, -0.37230527],\n        [ 0.01009884,  0.610299  , -1.8298719 ],\n        [ 2.106481  ,  1.7947782 ,  0.359015  ],\n        [ 0.3226296 ,  0.7381802 ,  0.8547846 ],\n        [ 2.1059775 ,  0.08662815, -0.05195575]],\n\n       [[-1.6285036 ,  0.59200376, -0.7160343 ],\n        [ 0.6166102 , -0.8059153 , -0.76062727],\n        [ 0.17316304, -0.4932085 , -0.97353375],\n        [ 0.54817206, -0.47471526,  1.5623853 ],\n        [-0.23490778, -0.09664405, -0.08573921],\n        [ 0.85282904,  0.44018942,  0.3793013 ],\n        [-0.35303533, -1.3373638 , -1.1961817 ],\n        [ 0.141662  , -0.4291136 , -0.4870042 ],\n        [ 0.5356666 , -1.7546853 , -1.263481  ],\n        [ 0.12232829,  0.71034414, -0.8192587 ],\n        [-0.3850349 ,  0.32338512,  0.0733071 ],\n        [-0.1897216 , -0.62930304, -0.7704466 ],\n        [-1.4804193 ,  0.35396084,  1.3436972 ],\n        [-0.35088074,  0.16873658, -0.9997305 ],\n        [-0.80551326, -0.12589286,  0.8474325 ],\n        [ 0.4121011 ,  1.5520706 , -1.0328146 ]],\n\n       [[-0.44232264, -1.5625776 , -0.4677938 ],\n        [-0.37742248, -0.6005718 ,  0.28534025],\n        [ 0.46370938,  0.68088925,  0.29817507],\n        [-0.40368775, -0.6912266 ,  0.22954023],\n        [ 0.9404021 , -1.0431536 , -0.06722586],\n        [ 0.05369168, -1.2088572 , -1.1233404 ],\n        [ 0.28737938, -0.6224435 ,  1.277823  ],\n        [ 0.652775  ,  1.5881814 , -0.528591  ],\n        [-0.6850211 , -0.33004528,  1.1012261 ],\n        [-1.3216403 , -0.8943945 , -1.1521456 ],\n        [ 0.51824945,  0.29469487,  0.34343237],\n        [ 1.6985657 ,  0.04114629,  1.2752514 ],\n        [ 0.33335632,  1.3090519 ,  0.7087714 ],\n        [-0.22211543,  0.11643299,  0.18148537],\n        [ 0.01622385, -0.23659578, -0.29383674],\n        [-0.28628203, -0.5025567 ,  0.08693356]],\n\n       [[ 0.22043039, -0.38156453, -1.202677  ],\n        [-2.5294888 ,  1.1699542 ,  0.3470674 ],\n        [-0.5726991 , -0.432608  ,  0.22129998],\n        [ 0.15465598, -0.98773444, -0.37008527],\n        [-1.1927859 ,  1.6647954 ,  2.0616982 ],\n        [ 0.48924628, -1.182218  , -0.75668997],\n        [ 2.1589837 , -1.1167696 , -0.38782802],\n        [ 0.3877359 ,  2.0876691 ,  0.46353358],\n        [ 2.0393064 ,  0.6994316 , -2.2482455 ],\n        [-0.340976  , -1.5498197 , -0.24079852],\n        [ 1.0056536 , -0.7529321 ,  0.8524852 ],\n        [-0.2794542 ,  0.46325645,  1.0344412 ],\n        [-0.6319176 ,  0.77367634,  0.20755292],\n        [ 1.2811702 , -1.6430033 ,  0.16291548],\n        [-1.4882323 , -0.62922895,  0.53192866],\n        [ 0.5384425 ,  0.32005256, -0.3358025 ]],\n\n       [[ 0.03589823,  1.0679137 , -2.2203503 ],\n        [ 0.10438322,  1.5929533 ,  0.2500489 ],\n        [ 0.92954373, -1.4099778 , -0.2012246 ],\n        [-0.805973  , -1.2075956 ,  1.0098025 ],\n        [ 2.6342382 , -1.477803  , -0.63487476],\n        [-0.3488544 ,  1.5080417 , -0.9903907 ],\n        [ 0.2603922 ,  0.25051922,  0.71702224],\n        [-1.4326854 ,  1.0118126 , -0.22658767],\n        [-0.9876737 , -0.56338567,  0.76007885],\n        [-0.22969322, -0.33844241,  1.4826182 ],\n        [-0.9124667 ,  0.8309229 , -0.09021456],\n        [-0.02684299,  0.04465296, -2.0607183 ],\n        [ 0.8784232 , -0.29927313,  0.15884954],\n        [ 1.5071849 ,  0.44208872, -0.25305632],\n        [ 1.14694   ,  0.26821238, -0.7559574 ],\n        [-0.1123674 ,  0.45804632,  2.2146015 ]],\n\n       [[-0.6900025 ,  0.9933982 , -1.2955545 ],\n        [ 0.8575215 , -0.68048155,  0.9245017 ],\n        [-2.1508822 ,  1.6406034 ,  0.12191772],\n        [ 0.9881704 , -1.7638652 ,  0.5511455 ],\n        [-1.1249275 ,  0.45141262,  1.0773803 ],\n        [-0.12491398,  0.2980279 , -1.9587349 ],\n        [ 1.5447366 ,  0.5248078 , -0.28301322],\n        [ 0.3971122 ,  0.20571844,  1.1065422 ],\n        [ 0.3388407 ,  1.3712696 , -0.15920238],\n        [ 0.8920018 , -1.7036841 , -0.13418098],\n        [-0.52914953,  0.5990733 ,  0.03918182],\n        [ 0.8634622 , -0.3043278 , -0.47449574],\n        [ 2.6354144 , -0.31336346, -0.98859614],\n        [ 0.9034733 , -0.37824008, -0.83229256],\n        [-0.3133154 ,  1.462156  , -0.5306975 ],\n        [-2.041026  , -1.6795028 , -0.48119077]],\n\n       [[ 0.6277836 ,  0.51644886, -1.7841235 ],\n        [-0.7481351 ,  1.113083  ,  0.3448874 ],\n        [-1.0546467 ,  0.32667372, -0.5553334 ],\n        [ 0.39827624, -0.6173122 , -0.65248704],\n        [ 1.5650861 ,  2.1904683 , -1.665034  ],\n        [ 0.03672615,  0.52281106, -0.61398345],\n        [ 0.3648278 ,  0.02035319, -0.54210657],\n        [-0.6038704 , -0.10300045,  0.48816025],\n        [-1.3526458 ,  0.99836963,  2.366417  ],\n        [-2.122005  ,  0.08113134,  0.3394816 ],\n        [-0.35849425,  1.0604475 ,  0.14715065],\n        [-1.963874  ,  0.05224856, -2.4851701 ],\n        [-0.68843585,  1.4106424 , -1.6218439 ],\n        [ 0.12308628, -0.20584102, -1.4998199 ],\n        [-2.0015523 , -1.9457567 , -1.0948257 ],\n        [-0.00661964, -1.403855  ,  0.21803676]],\n\n       [[-1.0432317 ,  0.3404907 ,  0.5729636 ],\n        [-0.6008628 , -1.4150286 ,  0.70664024],\n        [-0.10705434,  0.27799097, -0.13945788],\n        [ 1.4251189 ,  1.6218827 ,  0.61599785],\n        [ 1.4707992 , -1.1141512 , -0.812695  ],\n        [ 1.1011344 , -0.75627285, -1.3361679 ],\n        [ 0.9909248 , -0.25982457,  2.0192668 ],\n        [ 0.5426854 ,  0.16789562, -0.25237006],\n        [ 1.4610021 ,  0.6826587 , -0.33104175],\n        [ 1.4288298 ,  1.8406547 , -2.3425972 ],\n        [ 1.115856  ,  0.00647478,  0.88341844],\n        [ 0.08603179, -0.30874935,  0.53876543],\n        [ 1.7706902 ,  0.07484528,  1.160136  ],\n        [ 0.08232232,  2.277057  , -0.75026923],\n        [ 0.42460918,  1.0879774 ,  0.06820336],\n        [ 0.3714791 ,  0.5211457 , -0.64876306]],\n\n       [[ 1.3105041 , -0.56253606, -0.14777514],\n        [ 1.5222875 ,  1.258803  ,  1.2046119 ],\n        [-0.43846428,  0.7451884 ,  0.98969173],\n        [-0.04831883, -0.3562668 , -0.61011606],\n        [ 0.60366637,  0.4152518 ,  0.04117855],\n        [-1.12691   , -0.34159037,  0.8882269 ],\n        [-0.1333115 ,  0.6829811 ,  0.5093944 ],\n        [-1.3530338 , -1.9648731 , -0.20172517],\n        [ 0.6527815 , -0.0627445 , -0.7041022 ],\n        [ 0.04053237, -1.3454525 ,  0.5087739 ],\n        [ 0.8638958 , -0.78676134, -0.16894104],\n        [ 0.9617065 ,  0.0855821 , -0.30490682],\n        [ 0.13026932,  0.29523146,  0.46725523],\n        [ 0.2216844 , -0.26056722,  0.5027813 ],\n        [-0.61875266, -1.5472249 , -0.23848711],\n        [-1.2286427 ,  0.23158166, -1.0298909 ]],\n\n       [[ 0.34834707,  1.3419679 , -0.20615889],\n        [ 0.48979297,  1.4721044 , -1.256544  ],\n        [-0.9726982 ,  0.72572154, -0.33160558],\n        [-2.0893037 ,  0.33768728,  0.8077948 ],\n        [ 0.40174943,  0.936781  , -0.02477019],\n        [-0.99696535, -1.5792394 , -0.5469676 ],\n        [ 0.8032555 ,  0.08586019,  0.8834811 ],\n        [ 0.73311985,  0.1868019 , -0.25382003],\n        [-0.5208682 , -0.80779284, -0.6235908 ],\n        [-1.6040571 ,  1.5041163 ,  0.3841802 ],\n        [-0.3116497 ,  0.50260997,  0.4608809 ],\n        [ 1.9455477 , -2.847773  ,  0.8910716 ],\n        [-0.31100684, -0.62375265, -1.0498452 ],\n        [-0.1033545 ,  0.14205095, -2.0711875 ],\n        [ 1.648386  ,  0.8157778 ,  1.2451345 ],\n        [ 0.35945144,  0.6790681 ,  1.8218498 ]]], dtype=float32)>"
     },
     "execution_count": 66,
     "metadata": {},
     "output_type": "execute_result"
    }
   ],
   "source": [
    "x = tf.random.normal([4,32,32,3])\n",
    "# 行、列逆序间隔采样\n",
    "x[0,::-2,::-2] "
   ]
  },
  {
   "cell_type": "code",
   "execution_count": 67,
   "metadata": {
    "scrolled": true
   },
   "outputs": [
    {
     "data": {
      "text/plain": "<tf.Tensor: shape=(4, 32, 32), dtype=float32, numpy=\narray([[[ 0.8233357 ,  0.92692775,  0.7476013 , ...,  1.6710069 ,\n          0.07618093, -0.17529213],\n        [ 0.74859166,  0.6790681 , -1.1880903 , ...,  1.4721044 ,\n          0.81530195,  1.3419679 ],\n        [ 1.989216  ,  0.37402377, -0.3679761 , ...,  0.2876713 ,\n         -2.5207489 ,  0.9151671 ],\n        ...,\n        [ 0.4192954 ,  0.00328961, -0.6271306 , ...,  0.30249724,\n          1.5289699 , -0.8853848 ],\n        [ 0.7195865 , -1.7051702 ,  0.31204817, ...,  1.5172545 ,\n          1.3148689 , -0.25685877],\n        [-0.28836006,  0.4867372 , -0.9515834 , ...,  2.2403452 ,\n          0.13609642,  0.7240216 ]],\n\n       [[-0.01203554,  0.21498492,  0.6994611 , ..., -0.4908775 ,\n         -0.77384865,  0.94753516],\n        [-0.02351127, -0.3095354 , -0.31165215, ..., -0.18749167,\n          0.04004747,  0.6904624 ],\n        [-1.6356097 ,  1.0288315 , -1.2028486 , ...,  1.3389661 ,\n          0.73992777, -0.01661768],\n        ...,\n        [ 1.6532216 , -0.5211845 ,  1.8600683 , ..., -0.3275069 ,\n          0.18371797,  0.5515511 ],\n        [-1.0704365 , -2.2524745 ,  0.6710351 , ..., -0.34964508,\n         -0.11004844, -0.30017176],\n        [ 0.83855665, -0.4833121 , -0.5116476 , ..., -0.9644699 ,\n          0.6718961 , -0.5815282 ]],\n\n       [[-1.1971279 ,  0.24395828,  0.03921619, ...,  0.7726226 ,\n         -0.2954744 , -0.83064604],\n        [-1.2607923 , -0.18329482, -0.49533597, ..., -0.0573907 ,\n          0.4189879 , -0.5338514 ],\n        [ 0.32818314,  1.0874276 ,  0.04431399, ..., -1.2425139 ,\n         -0.2528641 ,  2.0928833 ],\n        ...,\n        [ 0.419801  , -0.7197317 ,  0.24728413, ..., -1.0297785 ,\n         -0.5012284 ,  0.12458967],\n        [ 0.5380291 , -0.18755281,  0.06648076, ..., -0.26423863,\n          1.6454692 ,  0.4429942 ],\n        [ 0.36569795, -0.0875418 ,  1.5949497 , ...,  2.1935258 ,\n          2.464064  , -2.6020434 ]],\n\n       [[ 0.9223897 , -1.4379523 ,  1.531909  , ..., -1.6013303 ,\n         -1.0254059 , -0.1882427 ],\n        [-0.64032876,  1.8054383 , -0.7015582 , ..., -0.23451476,\n         -0.30210865,  0.12452452],\n        [ 0.93265325,  0.40396637,  1.0282339 , ...,  0.428877  ,\n         -0.25092682, -0.81763166],\n        ...,\n        [ 0.14544408, -0.64803714,  1.0004599 , ..., -0.16857655,\n          1.088753  , -0.12279567],\n        [-0.394207  ,  1.4993812 ,  0.26769075, ...,  0.54407936,\n          1.531334  ,  0.10841404],\n        [-0.1386176 , -0.15116435, -0.5140678 , ...,  0.52021   ,\n          0.10641765, -1.0049636 ]]], dtype=float32)>"
     },
     "execution_count": 67,
     "metadata": {},
     "output_type": "execute_result"
    }
   ],
   "source": [
    "# 取 G 通道数据\n",
    "x[:,:,:,1] "
   ]
  },
  {
   "cell_type": "code",
   "execution_count": 68,
   "metadata": {
    "scrolled": true
   },
   "outputs": [
    {
     "data": {
      "text/plain": "<tf.Tensor: shape=(2, 32, 32, 2), dtype=float32, numpy=\narray([[[[ 0.8233357 , -1.8228426 ],\n         [ 0.92692775, -0.30850428],\n         [ 0.7476013 , -0.88384444],\n         ...,\n         [ 1.6710069 ,  0.10174984],\n         [ 0.07618093, -0.7918271 ],\n         [-0.17529213, -0.7529465 ]],\n\n        [[ 0.74859166, -1.1178079 ],\n         [ 0.6790681 ,  1.8218498 ],\n         [-1.1880903 ,  0.29990637],\n         ...,\n         [ 1.4721044 , -1.256544  ],\n         [ 0.81530195, -1.8009431 ],\n         [ 1.3419679 , -0.20615889]],\n\n        [[ 1.989216  ,  0.10622536],\n         [ 0.37402377, -0.06239833],\n         [-0.3679761 , -0.77487093],\n         ...,\n         [ 0.2876713 ,  0.22131388],\n         [-2.5207489 ,  0.4218478 ],\n         [ 0.9151671 ,  0.54614764]],\n\n        ...,\n\n        [[ 0.4192954 , -0.4650137 ],\n         [ 0.00328961,  1.2580656 ],\n         [-0.6271306 ,  0.7671081 ],\n         ...,\n         [ 0.30249724, -1.0330511 ],\n         [ 1.5289699 ,  1.0544245 ],\n         [-0.8853848 , -0.24059154]],\n\n        [[ 0.7195865 ,  0.76665765],\n         [-1.7051702 ,  0.24110417],\n         [ 0.31204817,  1.2562478 ],\n         ...,\n         [ 1.5172545 ,  0.24133106],\n         [ 1.3148689 ,  0.705477  ],\n         [-0.25685877, -0.25258076]],\n\n        [[-0.28836006,  0.644285  ],\n         [ 0.4867372 ,  0.17551772],\n         [-0.9515834 ,  0.26166204],\n         ...,\n         [ 2.2403452 , -0.62131697],\n         [ 0.13609642, -2.1613019 ],\n         [ 0.7240216 , -0.7666962 ]]],\n\n\n       [[[-0.01203554,  2.1042552 ],\n         [ 0.21498492,  1.301443  ],\n         [ 0.6994611 ,  1.9555858 ],\n         ...,\n         [-0.4908775 , -0.23729283],\n         [-0.77384865, -1.7347006 ],\n         [ 0.94753516, -0.5225539 ]],\n\n        [[-0.02351127, -0.83341753],\n         [-0.3095354 ,  1.5301929 ],\n         [-0.31165215,  0.593538  ],\n         ...,\n         [-0.18749167,  1.3827225 ],\n         [ 0.04004747, -1.7002468 ],\n         [ 0.6904624 , -0.69355065]],\n\n        [[-1.6356097 ,  0.59985375],\n         [ 1.0288315 , -0.19008426],\n         [-1.2028486 ,  0.62841433],\n         ...,\n         [ 1.3389661 ,  0.7997058 ],\n         [ 0.73992777, -0.00689739],\n         [-0.01661768,  0.52228117]],\n\n        ...,\n\n        [[ 1.6532216 ,  0.6096828 ],\n         [-0.5211845 , -0.7830957 ],\n         [ 1.8600683 , -1.1176798 ],\n         ...,\n         [-0.3275069 ,  1.6470186 ],\n         [ 0.18371797,  1.2585876 ],\n         [ 0.5515511 ,  0.87850827]],\n\n        [[-1.0704365 ,  0.8080506 ],\n         [-2.2524745 ,  1.2166114 ],\n         [ 0.6710351 , -3.1425824 ],\n         ...,\n         [-0.34964508,  0.79294294],\n         [-0.11004844, -1.0127026 ],\n         [-0.30017176, -0.03123471]],\n\n        [[ 0.83855665, -0.62469137],\n         [-0.4833121 , -0.2908229 ],\n         [-0.5116476 ,  0.02449333],\n         ...,\n         [-0.9644699 ,  0.10240771],\n         [ 0.6718961 , -0.7083594 ],\n         [-0.5815282 , -1.8961117 ]]]], dtype=float32)>"
     },
     "execution_count": 68,
     "metadata": {},
     "output_type": "execute_result"
    }
   ],
   "source": [
    "# 读取第 1~2 张图片的 G/B 通道数据\n",
    "# 高宽维度全部采集\n",
    "x[0:2,...,1:] "
   ]
  },
  {
   "cell_type": "code",
   "execution_count": 69,
   "metadata": {
    "scrolled": true
   },
   "outputs": [
    {
     "data": {
      "text/plain": "<tf.Tensor: shape=(2, 32, 32, 3), dtype=float32, numpy=\narray([[[[-0.3153244 , -1.1971279 , -0.631362  ],\n         [-1.0350028 ,  0.24395828,  2.1990035 ],\n         [ 0.6758306 ,  0.03921619, -0.7715329 ],\n         ...,\n         [-1.4904441 ,  0.7726226 ,  0.18517278],\n         [-1.7298154 , -0.2954744 ,  2.326501  ],\n         [ 0.85118693, -0.83064604,  0.22434294]],\n\n        [[ 0.43459463, -1.2607923 ,  0.575525  ],\n         [-0.15016636, -0.18329482, -0.84543794],\n         [-1.2062647 , -0.49533597, -1.6069922 ],\n         ...,\n         [ 0.24348004, -0.0573907 , -0.48258823],\n         [ 1.4261487 ,  0.4189879 ,  1.4021966 ],\n         [ 1.2017577 , -0.5338514 , -0.23748435]],\n\n        [[ 1.1863372 ,  0.32818314, -2.270489  ],\n         [-0.27025735,  1.0874276 ,  2.1965523 ],\n         [ 0.18547674,  0.04431399,  0.02208387],\n         ...,\n         [ 0.23882596, -1.2425139 ,  0.86436087],\n         [-0.36767617, -0.2528641 ,  0.03815064],\n         [ 1.1087871 ,  2.0928833 , -0.7874811 ]],\n\n        ...,\n\n        [[-0.0306945 ,  0.419801  , -1.9949216 ],\n         [ 1.3725369 , -0.7197317 , -0.3568463 ],\n         [ 0.2928734 ,  0.24728413,  0.6507092 ],\n         ...,\n         [-0.4667493 , -1.0297785 , -2.0175245 ],\n         [-0.29476467, -0.5012284 , -0.13175581],\n         [ 0.92443806,  0.12458967,  0.9405957 ]],\n\n        [[-1.4823586 ,  0.5380291 , -0.19357267],\n         [ 0.69086796, -0.18755281,  0.6233651 ],\n         [ 0.7896276 ,  0.06648076, -0.3787829 ],\n         ...,\n         [ 0.6423262 , -0.26423863,  1.3963156 ],\n         [ 0.19831753,  1.6454692 ,  0.03016445],\n         [ 1.0967898 ,  0.4429942 ,  2.4220483 ]],\n\n        [[ 0.34952626,  0.36569795,  0.4703626 ],\n         [-0.92720664, -0.0875418 , -0.09775101],\n         [ 0.00558855,  1.5949497 , -1.2055572 ],\n         ...,\n         [ 0.8477078 ,  2.1935258 ,  1.6016464 ],\n         [ 0.6632173 ,  2.464064  ,  0.20752984],\n         [-1.0102943 , -2.6020434 , -0.15309012]]],\n\n\n       [[[ 0.5619173 ,  0.9223897 , -0.02002159],\n         [-0.5808453 , -1.4379523 ,  0.52728564],\n         [ 0.19287565,  1.531909  ,  1.4931121 ],\n         ...,\n         [-0.17266637, -1.6013303 , -1.0328491 ],\n         [ 0.7501934 , -1.0254059 , -0.14997178],\n         [-1.060501  , -0.1882427 , -1.3929024 ]],\n\n        [[-0.39725193, -0.64032876,  1.0144063 ],\n         [-0.9383499 ,  1.8054383 ,  0.16311769],\n         [-0.49849167, -0.7015582 , -0.59415185],\n         ...,\n         [ 0.839898  , -0.23451476, -1.5044502 ],\n         [ 0.6969863 , -0.30210865,  0.9816018 ],\n         [ 1.727775  ,  0.12452452, -0.27919033]],\n\n        [[-0.46155515,  0.93265325, -0.2750681 ],\n         [-1.5186605 ,  0.40396637,  0.46264875],\n         [-1.3117585 ,  1.0282339 , -2.1327832 ],\n         ...,\n         [-1.0111951 ,  0.428877  , -0.1444588 ],\n         [-0.67578405, -0.25092682,  0.03663733],\n         [ 0.6179645 , -0.81763166,  0.49773785]],\n\n        ...,\n\n        [[-0.554242  ,  0.14544408, -1.2494577 ],\n         [ 0.17069484, -0.64803714, -0.64527255],\n         [ 0.51491237,  1.0004599 , -0.74771976],\n         ...,\n         [ 0.48764914, -0.16857655,  1.3234583 ],\n         [ 0.6780569 ,  1.088753  , -0.37110904],\n         [ 0.7341921 , -0.12279567,  0.51033485]],\n\n        [[-0.01398796, -0.394207  , -0.55037266],\n         [-0.69082624,  1.4993812 , -0.7076406 ],\n         [-0.76997775,  0.26769075, -0.2695634 ],\n         ...,\n         [ 1.1331514 ,  0.54407936, -1.5754856 ],\n         [-0.14330962,  1.531334  ,  1.5334616 ],\n         [ 1.8551381 ,  0.10841404,  0.22699718]],\n\n        [[-0.05696823, -0.1386176 ,  1.9415572 ],\n         [-0.36060333, -0.15116435, -1.0135804 ],\n         [ 0.1287529 , -0.5140678 ,  1.1587759 ],\n         ...,\n         [-0.31837064,  0.52021   ,  0.55205095],\n         [ 0.17167878,  0.10641765,  0.19159465],\n         [-0.09630363, -1.0049636 ,  0.8894819 ]]]], dtype=float32)>"
     },
     "execution_count": 69,
     "metadata": {},
     "output_type": "execute_result"
    }
   ],
   "source": [
    "# 读取最后 2 张图片\n",
    "# 高、宽、通道维度全部采集，等价于 x[2:]\n",
    "x[2:,...] "
   ]
  },
  {
   "cell_type": "code",
   "execution_count": 70,
   "metadata": {},
   "outputs": [
    {
     "data": {
      "text/plain": "<tf.Tensor: shape=(4, 32, 32, 2), dtype=float32, numpy=\narray([[[[-2.2817354 ,  0.8233357 ],\n         [-1.4566493 ,  0.92692775],\n         [-1.9744695 ,  0.7476013 ],\n         ...,\n         [ 0.5468137 ,  1.6710069 ],\n         [ 0.6479917 ,  0.07618093],\n         [ 1.0555156 , -0.17529213]],\n\n        [[ 0.43859535,  0.74859166],\n         [ 0.35945144,  0.6790681 ],\n         [ 0.4598199 , -1.1880903 ],\n         ...,\n         [ 0.48979297,  1.4721044 ],\n         [ 0.06855068,  0.81530195],\n         [ 0.34834707,  1.3419679 ]],\n\n        [[-0.14767097,  1.989216  ],\n         [-0.7903543 ,  0.37402377],\n         [-0.04941667, -0.3679761 ],\n         ...,\n         [ 0.23735805,  0.2876713 ],\n         [-0.7856533 , -2.5207489 ],\n         [-1.5638912 ,  0.9151671 ]],\n\n        ...,\n\n        [[-1.6003712 ,  0.4192954 ],\n         [-0.19222707,  0.00328961],\n         [ 0.30730087, -0.6271306 ],\n         ...,\n         [-1.2171402 ,  0.30249724],\n         [ 0.340969  ,  1.5289699 ],\n         [-1.2608598 , -0.8853848 ]],\n\n        [[ 0.6620928 ,  0.7195865 ],\n         [ 0.7040353 , -1.7051702 ],\n         [ 0.68143016,  0.31204817],\n         ...,\n         [-1.8669832 ,  1.5172545 ],\n         [-0.11129919,  1.3148689 ],\n         [-1.1085198 , -0.25685877]],\n\n        [[ 0.4922834 , -0.28836006],\n         [ 0.04345971,  0.4867372 ],\n         [-1.6578091 , -0.9515834 ],\n         ...,\n         [-0.53115535,  2.2403452 ],\n         [-0.1307941 ,  0.13609642],\n         [-0.09411404,  0.7240216 ]]],\n\n\n       [[[ 1.547997  , -0.01203554],\n         [ 1.2745337 ,  0.21498492],\n         [ 0.03807365,  0.6994611 ],\n         ...,\n         [ 1.4527336 , -0.4908775 ],\n         [-0.7952993 , -0.77384865],\n         [ 0.60092354,  0.94753516]],\n\n        [[-0.39268282, -0.02351127],\n         [-0.7737645 , -0.3095354 ],\n         [ 0.84697753, -0.31165215],\n         ...,\n         [-1.5518699 , -0.18749167],\n         [ 1.6835237 ,  0.04004747],\n         [ 1.3086652 ,  0.6904624 ]],\n\n        [[ 0.15005565, -1.6356097 ],\n         [-1.5156463 ,  1.0288315 ],\n         [ 0.50875133, -1.2028486 ],\n         ...,\n         [-0.03839332,  1.3389661 ],\n         [ 0.10982985,  0.73992777],\n         [ 0.35275128, -0.01661768]],\n\n        ...,\n\n        [[-0.4294506 ,  1.6532216 ],\n         [-0.9265573 , -0.5211845 ],\n         [-1.3479502 ,  1.8600683 ],\n         ...,\n         [-0.21175006, -0.3275069 ],\n         [ 1.9195921 ,  0.18371797],\n         [ 0.482009  ,  0.5515511 ]],\n\n        [[-0.8511455 , -1.0704365 ],\n         [-0.41435698, -2.2524745 ],\n         [ 0.65568817,  0.6710351 ],\n         ...,\n         [ 0.06238227, -0.34964508],\n         [ 1.058473  , -0.11004844],\n         [ 1.9468386 , -0.30017176]],\n\n        [[-0.33718368,  0.83855665],\n         [ 0.56543   , -0.4833121 ],\n         [ 0.60830045, -0.5116476 ],\n         ...,\n         [-0.2529382 , -0.9644699 ],\n         [-1.1753098 ,  0.6718961 ],\n         [-0.96218663, -0.5815282 ]]],\n\n\n       [[[-0.3153244 , -1.1971279 ],\n         [-1.0350028 ,  0.24395828],\n         [ 0.6758306 ,  0.03921619],\n         ...,\n         [-1.4904441 ,  0.7726226 ],\n         [-1.7298154 , -0.2954744 ],\n         [ 0.85118693, -0.83064604]],\n\n        [[ 0.43459463, -1.2607923 ],\n         [-0.15016636, -0.18329482],\n         [-1.2062647 , -0.49533597],\n         ...,\n         [ 0.24348004, -0.0573907 ],\n         [ 1.4261487 ,  0.4189879 ],\n         [ 1.2017577 , -0.5338514 ]],\n\n        [[ 1.1863372 ,  0.32818314],\n         [-0.27025735,  1.0874276 ],\n         [ 0.18547674,  0.04431399],\n         ...,\n         [ 0.23882596, -1.2425139 ],\n         [-0.36767617, -0.2528641 ],\n         [ 1.1087871 ,  2.0928833 ]],\n\n        ...,\n\n        [[-0.0306945 ,  0.419801  ],\n         [ 1.3725369 , -0.7197317 ],\n         [ 0.2928734 ,  0.24728413],\n         ...,\n         [-0.4667493 , -1.0297785 ],\n         [-0.29476467, -0.5012284 ],\n         [ 0.92443806,  0.12458967]],\n\n        [[-1.4823586 ,  0.5380291 ],\n         [ 0.69086796, -0.18755281],\n         [ 0.7896276 ,  0.06648076],\n         ...,\n         [ 0.6423262 , -0.26423863],\n         [ 0.19831753,  1.6454692 ],\n         [ 1.0967898 ,  0.4429942 ]],\n\n        [[ 0.34952626,  0.36569795],\n         [-0.92720664, -0.0875418 ],\n         [ 0.00558855,  1.5949497 ],\n         ...,\n         [ 0.8477078 ,  2.1935258 ],\n         [ 0.6632173 ,  2.464064  ],\n         [-1.0102943 , -2.6020434 ]]],\n\n\n       [[[ 0.5619173 ,  0.9223897 ],\n         [-0.5808453 , -1.4379523 ],\n         [ 0.19287565,  1.531909  ],\n         ...,\n         [-0.17266637, -1.6013303 ],\n         [ 0.7501934 , -1.0254059 ],\n         [-1.060501  , -0.1882427 ]],\n\n        [[-0.39725193, -0.64032876],\n         [-0.9383499 ,  1.8054383 ],\n         [-0.49849167, -0.7015582 ],\n         ...,\n         [ 0.839898  , -0.23451476],\n         [ 0.6969863 , -0.30210865],\n         [ 1.727775  ,  0.12452452]],\n\n        [[-0.46155515,  0.93265325],\n         [-1.5186605 ,  0.40396637],\n         [-1.3117585 ,  1.0282339 ],\n         ...,\n         [-1.0111951 ,  0.428877  ],\n         [-0.67578405, -0.25092682],\n         [ 0.6179645 , -0.81763166]],\n\n        ...,\n\n        [[-0.554242  ,  0.14544408],\n         [ 0.17069484, -0.64803714],\n         [ 0.51491237,  1.0004599 ],\n         ...,\n         [ 0.48764914, -0.16857655],\n         [ 0.6780569 ,  1.088753  ],\n         [ 0.7341921 , -0.12279567]],\n\n        [[-0.01398796, -0.394207  ],\n         [-0.69082624,  1.4993812 ],\n         [-0.76997775,  0.26769075],\n         ...,\n         [ 1.1331514 ,  0.54407936],\n         [-0.14330962,  1.531334  ],\n         [ 1.8551381 ,  0.10841404]],\n\n        [[-0.05696823, -0.1386176 ],\n         [-0.36060333, -0.15116435],\n         [ 0.1287529 , -0.5140678 ],\n         ...,\n         [-0.31837064,  0.52021   ],\n         [ 0.17167878,  0.10641765],\n         [-0.09630363, -1.0049636 ]]]], dtype=float32)>"
     },
     "execution_count": 70,
     "metadata": {},
     "output_type": "execute_result"
    }
   ],
   "source": [
    "# 读取 R/G 通道数据\n",
    "# 所有样本，所有高、宽的前 2 个通道\n",
    "x[...,:2] "
   ]
  },
  {
   "cell_type": "markdown",
   "source": [
    "tf.gather"
   ],
   "metadata": {
    "collapsed": false
   }
  },
  {
   "cell_type": "code",
   "execution_count": 71,
   "outputs": [
    {
     "name": "stdout",
     "output_type": "stream",
     "text": [
      "(4, 35, 8)\n",
      "(2, 35, 8)\n",
      "(4, 35, 8)\n",
      "(4, 5, 8)\n",
      "(4, 35, 3)\n"
     ]
    }
   ],
   "source": [
    "ax = tf.random.normal([4,35,8])\n",
    "print(ax.shape)\n",
    "# 单维度取数据\n",
    "print(tf.gather(ax,axis=0,indices=[2,3]).shape)\n",
    "print(tf.gather(ax,axis=0,indices=[2,1,3,0]).shape)\n",
    "print(tf.gather(ax,axis=1,indices=[2,3,7,9,16]).shape)\n",
    "print(tf.gather(ax,axis=2,indices=[2,3,7]).shape)"
   ],
   "metadata": {
    "collapsed": false,
    "pycharm": {
     "name": "#%%\n"
    }
   }
  },
  {
   "cell_type": "code",
   "execution_count": 72,
   "outputs": [
    {
     "name": "stdout",
     "output_type": "stream",
     "text": [
      "(35, 8) (35, 8)\n",
      "(8,) (8,)\n",
      "() ()\n",
      "(1,)\n"
     ]
    }
   ],
   "source": [
    "# 多维度取数据\n",
    "print(tf.gather_nd(ax,[0]).shape,ax[0].shape)\n",
    "print(tf.gather_nd(ax,[0,1]).shape,ax[0,1].shape)\n",
    "print(tf.gather_nd(ax,[0,1,2]).shape,ax[0,1,2].shape)\n",
    "print(tf.gather_nd(ax,[[0,1,2]]).shape)# ,[ax[[0,1,2]]].shape"
   ],
   "metadata": {
    "collapsed": false,
    "pycharm": {
     "name": "#%%\n"
    }
   }
  },
  {
   "cell_type": "code",
   "execution_count": 73,
   "outputs": [
    {
     "name": "stdout",
     "output_type": "stream",
     "text": [
      "(2, 8)\n",
      "(3, 8)\n",
      "(3,)\n",
      "(1, 3)\n"
     ]
    }
   ],
   "source": [
    "# 多维度 复杂取数据\n",
    "print(tf.gather_nd(ax,[[0,0],[1,1]]).shape)\n",
    "print(tf.gather_nd(ax,[[0,0],[1,1],[2,2]]).shape)\n",
    "print(tf.gather_nd(ax,[[0,0,0],[1,1,1],[2,2,2]]).shape)\n",
    "print(tf.gather_nd(ax,[[[0,0,0],[1,1,1],[2,2,2]]]).shape)"
   ],
   "metadata": {
    "collapsed": false,
    "pycharm": {
     "name": "#%%\n"
    }
   }
  },
  {
   "cell_type": "code",
   "execution_count": 74,
   "outputs": [
    {
     "name": "stdout",
     "output_type": "stream",
     "text": [
      "(2, 28, 28, 3)\n"
     ]
    }
   ],
   "source": [
    "ax = tf.random.normal([4,28,28,3])\n",
    "print(tf.boolean_mask(ax,mask=[True,True,False,False]).shape)\n"
   ],
   "metadata": {
    "collapsed": false,
    "pycharm": {
     "name": "#%%\n"
    }
   }
  },
  {
   "cell_type": "markdown",
   "metadata": {},
   "source": [
    "## 维度变换\n",
    "\n",
    "### 改变视图"
   ]
  },
  {
   "cell_type": "code",
   "execution_count": 75,
   "metadata": {
    "scrolled": true
   },
   "outputs": [
    {
     "data": {
      "text/plain": "<tf.Tensor: shape=(2, 4, 4, 3), dtype=int32, numpy=\narray([[[[ 0,  1,  2],\n         [ 3,  4,  5],\n         [ 6,  7,  8],\n         [ 9, 10, 11]],\n\n        [[12, 13, 14],\n         [15, 16, 17],\n         [18, 19, 20],\n         [21, 22, 23]],\n\n        [[24, 25, 26],\n         [27, 28, 29],\n         [30, 31, 32],\n         [33, 34, 35]],\n\n        [[36, 37, 38],\n         [39, 40, 41],\n         [42, 43, 44],\n         [45, 46, 47]]],\n\n\n       [[[48, 49, 50],\n         [51, 52, 53],\n         [54, 55, 56],\n         [57, 58, 59]],\n\n        [[60, 61, 62],\n         [63, 64, 65],\n         [66, 67, 68],\n         [69, 70, 71]],\n\n        [[72, 73, 74],\n         [75, 76, 77],\n         [78, 79, 80],\n         [81, 82, 83]],\n\n        [[84, 85, 86],\n         [87, 88, 89],\n         [90, 91, 92],\n         [93, 94, 95]]]])>"
     },
     "execution_count": 75,
     "metadata": {},
     "output_type": "execute_result"
    }
   ],
   "source": [
    "# 生成向量\n",
    "x=tf.range(96)\n",
    "# 改变 x 的视图，获得 4D 张量，存储并未改变\n",
    "x=tf.reshape(x,[2,4,4,3]) \n",
    "x"
   ]
  },
  {
   "cell_type": "markdown",
   "metadata": {},
   "source": [
    "### 改变视图"
   ]
  },
  {
   "cell_type": "markdown",
   "metadata": {},
   "source": [
    "我们通过 tf.range()模拟生成一个向量数据，并通过 tf.reshape 视图改变函数产生不同的视图"
   ]
  },
  {
   "cell_type": "code",
   "execution_count": 76,
   "metadata": {
    "scrolled": true
   },
   "outputs": [
    {
     "data": {
      "text/plain": "<tf.Tensor: shape=(2, 4, 4, 3), dtype=int32, numpy=\narray([[[[ 0,  1,  2],\n         [ 3,  4,  5],\n         [ 6,  7,  8],\n         [ 9, 10, 11]],\n\n        [[12, 13, 14],\n         [15, 16, 17],\n         [18, 19, 20],\n         [21, 22, 23]],\n\n        [[24, 25, 26],\n         [27, 28, 29],\n         [30, 31, 32],\n         [33, 34, 35]],\n\n        [[36, 37, 38],\n         [39, 40, 41],\n         [42, 43, 44],\n         [45, 46, 47]]],\n\n\n       [[[48, 49, 50],\n         [51, 52, 53],\n         [54, 55, 56],\n         [57, 58, 59]],\n\n        [[60, 61, 62],\n         [63, 64, 65],\n         [66, 67, 68],\n         [69, 70, 71]],\n\n        [[72, 73, 74],\n         [75, 76, 77],\n         [78, 79, 80],\n         [81, 82, 83]],\n\n        [[84, 85, 86],\n         [87, 88, 89],\n         [90, 91, 92],\n         [93, 94, 95]]]])>"
     },
     "execution_count": 76,
     "metadata": {},
     "output_type": "execute_result"
    }
   ],
   "source": [
    "# 生成向量\n",
    "x = tf.range(96) \n",
    "# 改变 x 的视图，获得 4D 张量，存储并未改变\n",
    "x = tf.reshape(x,[2,4,4,3]) \n",
    "x"
   ]
  },
  {
   "cell_type": "code",
   "execution_count": 77,
   "metadata": {},
   "outputs": [
    {
     "data": {
      "text/plain": "(4, TensorShape([2, 4, 4, 3]))"
     },
     "execution_count": 77,
     "metadata": {},
     "output_type": "execute_result"
    }
   ],
   "source": [
    "# 获取张量的维度数和形状列表\n",
    "x.ndim,x.shape "
   ]
  },
  {
   "cell_type": "markdown",
   "metadata": {},
   "source": [
    "通过 tf.reshape(x, new_shape)，可以将张量的视图任意地合法改变"
   ]
  },
  {
   "cell_type": "code",
   "execution_count": 78,
   "metadata": {},
   "outputs": [
    {
     "data": {
      "text/plain": "<tf.Tensor: shape=(2, 48), dtype=int32, numpy=\narray([[ 0,  1,  2,  3,  4,  5,  6,  7,  8,  9, 10, 11, 12, 13, 14, 15,\n        16, 17, 18, 19, 20, 21, 22, 23, 24, 25, 26, 27, 28, 29, 30, 31,\n        32, 33, 34, 35, 36, 37, 38, 39, 40, 41, 42, 43, 44, 45, 46, 47],\n       [48, 49, 50, 51, 52, 53, 54, 55, 56, 57, 58, 59, 60, 61, 62, 63,\n        64, 65, 66, 67, 68, 69, 70, 71, 72, 73, 74, 75, 76, 77, 78, 79,\n        80, 81, 82, 83, 84, 85, 86, 87, 88, 89, 90, 91, 92, 93, 94, 95]])>"
     },
     "execution_count": 78,
     "metadata": {},
     "output_type": "execute_result"
    }
   ],
   "source": [
    "tf.reshape(x,[2,-1])"
   ]
  },
  {
   "cell_type": "code",
   "execution_count": 79,
   "metadata": {},
   "outputs": [
    {
     "data": {
      "text/plain": "<tf.Tensor: shape=(2, 4, 12), dtype=int32, numpy=\narray([[[ 0,  1,  2,  3,  4,  5,  6,  7,  8,  9, 10, 11],\n        [12, 13, 14, 15, 16, 17, 18, 19, 20, 21, 22, 23],\n        [24, 25, 26, 27, 28, 29, 30, 31, 32, 33, 34, 35],\n        [36, 37, 38, 39, 40, 41, 42, 43, 44, 45, 46, 47]],\n\n       [[48, 49, 50, 51, 52, 53, 54, 55, 56, 57, 58, 59],\n        [60, 61, 62, 63, 64, 65, 66, 67, 68, 69, 70, 71],\n        [72, 73, 74, 75, 76, 77, 78, 79, 80, 81, 82, 83],\n        [84, 85, 86, 87, 88, 89, 90, 91, 92, 93, 94, 95]]])>"
     },
     "execution_count": 79,
     "metadata": {},
     "output_type": "execute_result"
    }
   ],
   "source": [
    "tf.reshape(x,[2,4,12])"
   ]
  },
  {
   "cell_type": "code",
   "execution_count": 80,
   "metadata": {
    "scrolled": true
   },
   "outputs": [
    {
     "data": {
      "text/plain": "<tf.Tensor: shape=(2, 16, 3), dtype=int32, numpy=\narray([[[ 0,  1,  2],\n        [ 3,  4,  5],\n        [ 6,  7,  8],\n        [ 9, 10, 11],\n        [12, 13, 14],\n        [15, 16, 17],\n        [18, 19, 20],\n        [21, 22, 23],\n        [24, 25, 26],\n        [27, 28, 29],\n        [30, 31, 32],\n        [33, 34, 35],\n        [36, 37, 38],\n        [39, 40, 41],\n        [42, 43, 44],\n        [45, 46, 47]],\n\n       [[48, 49, 50],\n        [51, 52, 53],\n        [54, 55, 56],\n        [57, 58, 59],\n        [60, 61, 62],\n        [63, 64, 65],\n        [66, 67, 68],\n        [69, 70, 71],\n        [72, 73, 74],\n        [75, 76, 77],\n        [78, 79, 80],\n        [81, 82, 83],\n        [84, 85, 86],\n        [87, 88, 89],\n        [90, 91, 92],\n        [93, 94, 95]]])>"
     },
     "execution_count": 80,
     "metadata": {},
     "output_type": "execute_result"
    }
   ],
   "source": [
    "tf.reshape(x,[2,-1,3])"
   ]
  },
  {
   "cell_type": "markdown",
   "metadata": {},
   "source": [
    "### 增、删维度"
   ]
  },
  {
   "cell_type": "code",
   "execution_count": 81,
   "metadata": {
    "scrolled": true
   },
   "outputs": [
    {
     "data": {
      "text/plain": "<tf.Tensor: shape=(28, 28), dtype=int32, numpy=\narray([[5, 9, 3, 6, 2, 3, 8, 4, 5, 7, 0, 1, 3, 4, 5, 1, 5, 6, 3, 7, 5, 7,\n        2, 7, 2, 9, 4, 4],\n       [3, 0, 7, 4, 2, 7, 0, 8, 2, 9, 9, 5, 3, 3, 4, 7, 5, 5, 7, 4, 3, 8,\n        7, 9, 2, 2, 7, 7],\n       [8, 3, 9, 7, 3, 4, 3, 3, 9, 9, 3, 5, 0, 4, 6, 1, 8, 9, 7, 0, 1, 4,\n        3, 7, 6, 9, 9, 3],\n       [0, 3, 6, 3, 8, 6, 4, 2, 4, 0, 7, 0, 4, 4, 7, 7, 5, 1, 3, 9, 0, 1,\n        5, 7, 8, 6, 8, 0],\n       [3, 8, 0, 9, 4, 4, 6, 7, 2, 9, 3, 7, 5, 9, 6, 5, 9, 4, 1, 0, 7, 6,\n        0, 9, 6, 5, 2, 3],\n       [9, 0, 2, 2, 5, 2, 9, 6, 4, 1, 9, 8, 9, 1, 7, 4, 2, 9, 5, 9, 4, 5,\n        5, 4, 1, 7, 3, 3],\n       [8, 3, 7, 0, 8, 5, 5, 7, 7, 7, 7, 7, 4, 4, 0, 5, 8, 8, 9, 6, 8, 3,\n        5, 9, 3, 9, 5, 0],\n       [6, 3, 9, 3, 8, 3, 1, 7, 3, 6, 7, 8, 5, 9, 4, 4, 8, 1, 5, 6, 0, 9,\n        9, 9, 4, 4, 4, 6],\n       [7, 0, 1, 3, 1, 4, 1, 6, 3, 0, 3, 9, 5, 3, 8, 0, 6, 1, 8, 6, 7, 2,\n        8, 9, 4, 3, 8, 2],\n       [8, 7, 5, 8, 8, 2, 1, 2, 3, 2, 9, 7, 5, 5, 0, 4, 1, 8, 2, 2, 9, 6,\n        0, 9, 2, 8, 9, 8],\n       [8, 7, 0, 6, 3, 3, 1, 3, 9, 5, 1, 0, 0, 0, 2, 7, 9, 4, 2, 8, 5, 9,\n        6, 1, 7, 9, 5, 1],\n       [3, 0, 4, 6, 7, 7, 6, 7, 2, 9, 6, 2, 0, 4, 8, 9, 0, 4, 6, 1, 8, 8,\n        3, 7, 1, 7, 8, 2],\n       [5, 9, 9, 7, 6, 8, 4, 3, 9, 9, 7, 7, 5, 3, 6, 8, 0, 4, 4, 8, 2, 5,\n        4, 0, 3, 7, 1, 1],\n       [3, 7, 4, 5, 9, 5, 9, 8, 0, 8, 1, 5, 5, 1, 6, 7, 6, 8, 0, 8, 7, 4,\n        1, 5, 4, 0, 5, 7],\n       [0, 4, 3, 3, 4, 0, 5, 8, 8, 1, 4, 2, 0, 1, 8, 4, 8, 1, 4, 9, 5, 3,\n        7, 8, 2, 7, 0, 5],\n       [4, 4, 4, 3, 6, 1, 7, 3, 1, 0, 2, 8, 0, 7, 3, 5, 2, 3, 0, 9, 3, 6,\n        0, 4, 0, 5, 8, 9],\n       [5, 9, 2, 7, 3, 3, 1, 3, 2, 6, 1, 8, 6, 6, 8, 7, 6, 5, 2, 7, 6, 5,\n        5, 7, 5, 9, 3, 0],\n       [0, 4, 8, 8, 6, 5, 5, 7, 3, 1, 1, 1, 3, 1, 5, 3, 8, 7, 8, 1, 3, 7,\n        4, 5, 6, 9, 3, 9],\n       [0, 5, 6, 4, 9, 3, 2, 9, 7, 7, 3, 8, 4, 9, 5, 7, 4, 9, 3, 7, 9, 8,\n        4, 6, 9, 3, 3, 9],\n       [3, 2, 4, 9, 6, 5, 5, 7, 3, 7, 0, 3, 6, 6, 2, 2, 8, 4, 7, 2, 6, 5,\n        5, 3, 5, 5, 1, 7],\n       [8, 8, 5, 4, 6, 9, 9, 7, 9, 3, 8, 4, 2, 4, 8, 5, 2, 5, 7, 9, 9, 7,\n        6, 6, 2, 7, 8, 5],\n       [8, 9, 8, 1, 9, 5, 5, 5, 6, 3, 2, 5, 9, 4, 6, 4, 1, 3, 3, 1, 1, 2,\n        8, 1, 7, 6, 0, 8],\n       [7, 3, 4, 4, 0, 0, 5, 0, 8, 0, 6, 9, 2, 6, 5, 0, 1, 2, 5, 0, 9, 9,\n        6, 4, 4, 2, 0, 0],\n       [7, 6, 6, 5, 6, 1, 8, 7, 9, 7, 9, 1, 7, 6, 8, 1, 2, 7, 0, 4, 5, 1,\n        4, 4, 8, 8, 3, 7],\n       [8, 3, 9, 1, 2, 2, 2, 4, 2, 5, 5, 0, 0, 3, 3, 7, 1, 1, 1, 8, 9, 3,\n        0, 0, 8, 2, 3, 9],\n       [9, 1, 1, 5, 0, 2, 6, 9, 6, 6, 5, 0, 8, 1, 6, 8, 1, 6, 8, 7, 6, 6,\n        6, 6, 1, 6, 6, 5],\n       [9, 2, 2, 3, 3, 6, 4, 1, 8, 4, 3, 9, 6, 4, 5, 4, 5, 2, 8, 7, 2, 7,\n        2, 0, 7, 1, 5, 8],\n       [4, 5, 8, 1, 7, 0, 7, 2, 7, 9, 4, 0, 3, 9, 1, 8, 5, 8, 4, 7, 8, 0,\n        4, 2, 3, 0, 4, 3]])>"
     },
     "execution_count": 81,
     "metadata": {},
     "output_type": "execute_result"
    }
   ],
   "source": [
    "# 产生矩阵\n",
    "x = tf.random.uniform([28,28],maxval=10,dtype=tf.int32)\n",
    "x"
   ]
  },
  {
   "cell_type": "markdown",
   "metadata": {},
   "source": [
    "通过 tf.expand_dims(x, axis)可在指定的 axis 轴前可以插入一个新的维度"
   ]
  },
  {
   "cell_type": "code",
   "execution_count": 82,
   "metadata": {
    "scrolled": true
   },
   "outputs": [
    {
     "data": {
      "text/plain": "<tf.Tensor: shape=(28, 28, 1), dtype=int32, numpy=\narray([[[5],\n        [9],\n        [3],\n        [6],\n        [2],\n        [3],\n        [8],\n        [4],\n        [5],\n        [7],\n        [0],\n        [1],\n        [3],\n        [4],\n        [5],\n        [1],\n        [5],\n        [6],\n        [3],\n        [7],\n        [5],\n        [7],\n        [2],\n        [7],\n        [2],\n        [9],\n        [4],\n        [4]],\n\n       [[3],\n        [0],\n        [7],\n        [4],\n        [2],\n        [7],\n        [0],\n        [8],\n        [2],\n        [9],\n        [9],\n        [5],\n        [3],\n        [3],\n        [4],\n        [7],\n        [5],\n        [5],\n        [7],\n        [4],\n        [3],\n        [8],\n        [7],\n        [9],\n        [2],\n        [2],\n        [7],\n        [7]],\n\n       [[8],\n        [3],\n        [9],\n        [7],\n        [3],\n        [4],\n        [3],\n        [3],\n        [9],\n        [9],\n        [3],\n        [5],\n        [0],\n        [4],\n        [6],\n        [1],\n        [8],\n        [9],\n        [7],\n        [0],\n        [1],\n        [4],\n        [3],\n        [7],\n        [6],\n        [9],\n        [9],\n        [3]],\n\n       [[0],\n        [3],\n        [6],\n        [3],\n        [8],\n        [6],\n        [4],\n        [2],\n        [4],\n        [0],\n        [7],\n        [0],\n        [4],\n        [4],\n        [7],\n        [7],\n        [5],\n        [1],\n        [3],\n        [9],\n        [0],\n        [1],\n        [5],\n        [7],\n        [8],\n        [6],\n        [8],\n        [0]],\n\n       [[3],\n        [8],\n        [0],\n        [9],\n        [4],\n        [4],\n        [6],\n        [7],\n        [2],\n        [9],\n        [3],\n        [7],\n        [5],\n        [9],\n        [6],\n        [5],\n        [9],\n        [4],\n        [1],\n        [0],\n        [7],\n        [6],\n        [0],\n        [9],\n        [6],\n        [5],\n        [2],\n        [3]],\n\n       [[9],\n        [0],\n        [2],\n        [2],\n        [5],\n        [2],\n        [9],\n        [6],\n        [4],\n        [1],\n        [9],\n        [8],\n        [9],\n        [1],\n        [7],\n        [4],\n        [2],\n        [9],\n        [5],\n        [9],\n        [4],\n        [5],\n        [5],\n        [4],\n        [1],\n        [7],\n        [3],\n        [3]],\n\n       [[8],\n        [3],\n        [7],\n        [0],\n        [8],\n        [5],\n        [5],\n        [7],\n        [7],\n        [7],\n        [7],\n        [7],\n        [4],\n        [4],\n        [0],\n        [5],\n        [8],\n        [8],\n        [9],\n        [6],\n        [8],\n        [3],\n        [5],\n        [9],\n        [3],\n        [9],\n        [5],\n        [0]],\n\n       [[6],\n        [3],\n        [9],\n        [3],\n        [8],\n        [3],\n        [1],\n        [7],\n        [3],\n        [6],\n        [7],\n        [8],\n        [5],\n        [9],\n        [4],\n        [4],\n        [8],\n        [1],\n        [5],\n        [6],\n        [0],\n        [9],\n        [9],\n        [9],\n        [4],\n        [4],\n        [4],\n        [6]],\n\n       [[7],\n        [0],\n        [1],\n        [3],\n        [1],\n        [4],\n        [1],\n        [6],\n        [3],\n        [0],\n        [3],\n        [9],\n        [5],\n        [3],\n        [8],\n        [0],\n        [6],\n        [1],\n        [8],\n        [6],\n        [7],\n        [2],\n        [8],\n        [9],\n        [4],\n        [3],\n        [8],\n        [2]],\n\n       [[8],\n        [7],\n        [5],\n        [8],\n        [8],\n        [2],\n        [1],\n        [2],\n        [3],\n        [2],\n        [9],\n        [7],\n        [5],\n        [5],\n        [0],\n        [4],\n        [1],\n        [8],\n        [2],\n        [2],\n        [9],\n        [6],\n        [0],\n        [9],\n        [2],\n        [8],\n        [9],\n        [8]],\n\n       [[8],\n        [7],\n        [0],\n        [6],\n        [3],\n        [3],\n        [1],\n        [3],\n        [9],\n        [5],\n        [1],\n        [0],\n        [0],\n        [0],\n        [2],\n        [7],\n        [9],\n        [4],\n        [2],\n        [8],\n        [5],\n        [9],\n        [6],\n        [1],\n        [7],\n        [9],\n        [5],\n        [1]],\n\n       [[3],\n        [0],\n        [4],\n        [6],\n        [7],\n        [7],\n        [6],\n        [7],\n        [2],\n        [9],\n        [6],\n        [2],\n        [0],\n        [4],\n        [8],\n        [9],\n        [0],\n        [4],\n        [6],\n        [1],\n        [8],\n        [8],\n        [3],\n        [7],\n        [1],\n        [7],\n        [8],\n        [2]],\n\n       [[5],\n        [9],\n        [9],\n        [7],\n        [6],\n        [8],\n        [4],\n        [3],\n        [9],\n        [9],\n        [7],\n        [7],\n        [5],\n        [3],\n        [6],\n        [8],\n        [0],\n        [4],\n        [4],\n        [8],\n        [2],\n        [5],\n        [4],\n        [0],\n        [3],\n        [7],\n        [1],\n        [1]],\n\n       [[3],\n        [7],\n        [4],\n        [5],\n        [9],\n        [5],\n        [9],\n        [8],\n        [0],\n        [8],\n        [1],\n        [5],\n        [5],\n        [1],\n        [6],\n        [7],\n        [6],\n        [8],\n        [0],\n        [8],\n        [7],\n        [4],\n        [1],\n        [5],\n        [4],\n        [0],\n        [5],\n        [7]],\n\n       [[0],\n        [4],\n        [3],\n        [3],\n        [4],\n        [0],\n        [5],\n        [8],\n        [8],\n        [1],\n        [4],\n        [2],\n        [0],\n        [1],\n        [8],\n        [4],\n        [8],\n        [1],\n        [4],\n        [9],\n        [5],\n        [3],\n        [7],\n        [8],\n        [2],\n        [7],\n        [0],\n        [5]],\n\n       [[4],\n        [4],\n        [4],\n        [3],\n        [6],\n        [1],\n        [7],\n        [3],\n        [1],\n        [0],\n        [2],\n        [8],\n        [0],\n        [7],\n        [3],\n        [5],\n        [2],\n        [3],\n        [0],\n        [9],\n        [3],\n        [6],\n        [0],\n        [4],\n        [0],\n        [5],\n        [8],\n        [9]],\n\n       [[5],\n        [9],\n        [2],\n        [7],\n        [3],\n        [3],\n        [1],\n        [3],\n        [2],\n        [6],\n        [1],\n        [8],\n        [6],\n        [6],\n        [8],\n        [7],\n        [6],\n        [5],\n        [2],\n        [7],\n        [6],\n        [5],\n        [5],\n        [7],\n        [5],\n        [9],\n        [3],\n        [0]],\n\n       [[0],\n        [4],\n        [8],\n        [8],\n        [6],\n        [5],\n        [5],\n        [7],\n        [3],\n        [1],\n        [1],\n        [1],\n        [3],\n        [1],\n        [5],\n        [3],\n        [8],\n        [7],\n        [8],\n        [1],\n        [3],\n        [7],\n        [4],\n        [5],\n        [6],\n        [9],\n        [3],\n        [9]],\n\n       [[0],\n        [5],\n        [6],\n        [4],\n        [9],\n        [3],\n        [2],\n        [9],\n        [7],\n        [7],\n        [3],\n        [8],\n        [4],\n        [9],\n        [5],\n        [7],\n        [4],\n        [9],\n        [3],\n        [7],\n        [9],\n        [8],\n        [4],\n        [6],\n        [9],\n        [3],\n        [3],\n        [9]],\n\n       [[3],\n        [2],\n        [4],\n        [9],\n        [6],\n        [5],\n        [5],\n        [7],\n        [3],\n        [7],\n        [0],\n        [3],\n        [6],\n        [6],\n        [2],\n        [2],\n        [8],\n        [4],\n        [7],\n        [2],\n        [6],\n        [5],\n        [5],\n        [3],\n        [5],\n        [5],\n        [1],\n        [7]],\n\n       [[8],\n        [8],\n        [5],\n        [4],\n        [6],\n        [9],\n        [9],\n        [7],\n        [9],\n        [3],\n        [8],\n        [4],\n        [2],\n        [4],\n        [8],\n        [5],\n        [2],\n        [5],\n        [7],\n        [9],\n        [9],\n        [7],\n        [6],\n        [6],\n        [2],\n        [7],\n        [8],\n        [5]],\n\n       [[8],\n        [9],\n        [8],\n        [1],\n        [9],\n        [5],\n        [5],\n        [5],\n        [6],\n        [3],\n        [2],\n        [5],\n        [9],\n        [4],\n        [6],\n        [4],\n        [1],\n        [3],\n        [3],\n        [1],\n        [1],\n        [2],\n        [8],\n        [1],\n        [7],\n        [6],\n        [0],\n        [8]],\n\n       [[7],\n        [3],\n        [4],\n        [4],\n        [0],\n        [0],\n        [5],\n        [0],\n        [8],\n        [0],\n        [6],\n        [9],\n        [2],\n        [6],\n        [5],\n        [0],\n        [1],\n        [2],\n        [5],\n        [0],\n        [9],\n        [9],\n        [6],\n        [4],\n        [4],\n        [2],\n        [0],\n        [0]],\n\n       [[7],\n        [6],\n        [6],\n        [5],\n        [6],\n        [1],\n        [8],\n        [7],\n        [9],\n        [7],\n        [9],\n        [1],\n        [7],\n        [6],\n        [8],\n        [1],\n        [2],\n        [7],\n        [0],\n        [4],\n        [5],\n        [1],\n        [4],\n        [4],\n        [8],\n        [8],\n        [3],\n        [7]],\n\n       [[8],\n        [3],\n        [9],\n        [1],\n        [2],\n        [2],\n        [2],\n        [4],\n        [2],\n        [5],\n        [5],\n        [0],\n        [0],\n        [3],\n        [3],\n        [7],\n        [1],\n        [1],\n        [1],\n        [8],\n        [9],\n        [3],\n        [0],\n        [0],\n        [8],\n        [2],\n        [3],\n        [9]],\n\n       [[9],\n        [1],\n        [1],\n        [5],\n        [0],\n        [2],\n        [6],\n        [9],\n        [6],\n        [6],\n        [5],\n        [0],\n        [8],\n        [1],\n        [6],\n        [8],\n        [1],\n        [6],\n        [8],\n        [7],\n        [6],\n        [6],\n        [6],\n        [6],\n        [1],\n        [6],\n        [6],\n        [5]],\n\n       [[9],\n        [2],\n        [2],\n        [3],\n        [3],\n        [6],\n        [4],\n        [1],\n        [8],\n        [4],\n        [3],\n        [9],\n        [6],\n        [4],\n        [5],\n        [4],\n        [5],\n        [2],\n        [8],\n        [7],\n        [2],\n        [7],\n        [2],\n        [0],\n        [7],\n        [1],\n        [5],\n        [8]],\n\n       [[4],\n        [5],\n        [8],\n        [1],\n        [7],\n        [0],\n        [7],\n        [2],\n        [7],\n        [9],\n        [4],\n        [0],\n        [3],\n        [9],\n        [1],\n        [8],\n        [5],\n        [8],\n        [4],\n        [7],\n        [8],\n        [0],\n        [4],\n        [2],\n        [3],\n        [0],\n        [4],\n        [3]]])>"
     },
     "execution_count": 82,
     "metadata": {},
     "output_type": "execute_result"
    }
   ],
   "source": [
    "# axis=2 表示宽维度后面的一个维度\n",
    "x = tf.expand_dims(x,axis=2) \n",
    "x"
   ]
  },
  {
   "cell_type": "code",
   "execution_count": 83,
   "metadata": {},
   "outputs": [
    {
     "data": {
      "text/plain": "<tf.Tensor: shape=(1, 28, 28, 1), dtype=int32, numpy=\narray([[[[5],\n         [9],\n         [3],\n         [6],\n         [2],\n         [3],\n         [8],\n         [4],\n         [5],\n         [7],\n         [0],\n         [1],\n         [3],\n         [4],\n         [5],\n         [1],\n         [5],\n         [6],\n         [3],\n         [7],\n         [5],\n         [7],\n         [2],\n         [7],\n         [2],\n         [9],\n         [4],\n         [4]],\n\n        [[3],\n         [0],\n         [7],\n         [4],\n         [2],\n         [7],\n         [0],\n         [8],\n         [2],\n         [9],\n         [9],\n         [5],\n         [3],\n         [3],\n         [4],\n         [7],\n         [5],\n         [5],\n         [7],\n         [4],\n         [3],\n         [8],\n         [7],\n         [9],\n         [2],\n         [2],\n         [7],\n         [7]],\n\n        [[8],\n         [3],\n         [9],\n         [7],\n         [3],\n         [4],\n         [3],\n         [3],\n         [9],\n         [9],\n         [3],\n         [5],\n         [0],\n         [4],\n         [6],\n         [1],\n         [8],\n         [9],\n         [7],\n         [0],\n         [1],\n         [4],\n         [3],\n         [7],\n         [6],\n         [9],\n         [9],\n         [3]],\n\n        [[0],\n         [3],\n         [6],\n         [3],\n         [8],\n         [6],\n         [4],\n         [2],\n         [4],\n         [0],\n         [7],\n         [0],\n         [4],\n         [4],\n         [7],\n         [7],\n         [5],\n         [1],\n         [3],\n         [9],\n         [0],\n         [1],\n         [5],\n         [7],\n         [8],\n         [6],\n         [8],\n         [0]],\n\n        [[3],\n         [8],\n         [0],\n         [9],\n         [4],\n         [4],\n         [6],\n         [7],\n         [2],\n         [9],\n         [3],\n         [7],\n         [5],\n         [9],\n         [6],\n         [5],\n         [9],\n         [4],\n         [1],\n         [0],\n         [7],\n         [6],\n         [0],\n         [9],\n         [6],\n         [5],\n         [2],\n         [3]],\n\n        [[9],\n         [0],\n         [2],\n         [2],\n         [5],\n         [2],\n         [9],\n         [6],\n         [4],\n         [1],\n         [9],\n         [8],\n         [9],\n         [1],\n         [7],\n         [4],\n         [2],\n         [9],\n         [5],\n         [9],\n         [4],\n         [5],\n         [5],\n         [4],\n         [1],\n         [7],\n         [3],\n         [3]],\n\n        [[8],\n         [3],\n         [7],\n         [0],\n         [8],\n         [5],\n         [5],\n         [7],\n         [7],\n         [7],\n         [7],\n         [7],\n         [4],\n         [4],\n         [0],\n         [5],\n         [8],\n         [8],\n         [9],\n         [6],\n         [8],\n         [3],\n         [5],\n         [9],\n         [3],\n         [9],\n         [5],\n         [0]],\n\n        [[6],\n         [3],\n         [9],\n         [3],\n         [8],\n         [3],\n         [1],\n         [7],\n         [3],\n         [6],\n         [7],\n         [8],\n         [5],\n         [9],\n         [4],\n         [4],\n         [8],\n         [1],\n         [5],\n         [6],\n         [0],\n         [9],\n         [9],\n         [9],\n         [4],\n         [4],\n         [4],\n         [6]],\n\n        [[7],\n         [0],\n         [1],\n         [3],\n         [1],\n         [4],\n         [1],\n         [6],\n         [3],\n         [0],\n         [3],\n         [9],\n         [5],\n         [3],\n         [8],\n         [0],\n         [6],\n         [1],\n         [8],\n         [6],\n         [7],\n         [2],\n         [8],\n         [9],\n         [4],\n         [3],\n         [8],\n         [2]],\n\n        [[8],\n         [7],\n         [5],\n         [8],\n         [8],\n         [2],\n         [1],\n         [2],\n         [3],\n         [2],\n         [9],\n         [7],\n         [5],\n         [5],\n         [0],\n         [4],\n         [1],\n         [8],\n         [2],\n         [2],\n         [9],\n         [6],\n         [0],\n         [9],\n         [2],\n         [8],\n         [9],\n         [8]],\n\n        [[8],\n         [7],\n         [0],\n         [6],\n         [3],\n         [3],\n         [1],\n         [3],\n         [9],\n         [5],\n         [1],\n         [0],\n         [0],\n         [0],\n         [2],\n         [7],\n         [9],\n         [4],\n         [2],\n         [8],\n         [5],\n         [9],\n         [6],\n         [1],\n         [7],\n         [9],\n         [5],\n         [1]],\n\n        [[3],\n         [0],\n         [4],\n         [6],\n         [7],\n         [7],\n         [6],\n         [7],\n         [2],\n         [9],\n         [6],\n         [2],\n         [0],\n         [4],\n         [8],\n         [9],\n         [0],\n         [4],\n         [6],\n         [1],\n         [8],\n         [8],\n         [3],\n         [7],\n         [1],\n         [7],\n         [8],\n         [2]],\n\n        [[5],\n         [9],\n         [9],\n         [7],\n         [6],\n         [8],\n         [4],\n         [3],\n         [9],\n         [9],\n         [7],\n         [7],\n         [5],\n         [3],\n         [6],\n         [8],\n         [0],\n         [4],\n         [4],\n         [8],\n         [2],\n         [5],\n         [4],\n         [0],\n         [3],\n         [7],\n         [1],\n         [1]],\n\n        [[3],\n         [7],\n         [4],\n         [5],\n         [9],\n         [5],\n         [9],\n         [8],\n         [0],\n         [8],\n         [1],\n         [5],\n         [5],\n         [1],\n         [6],\n         [7],\n         [6],\n         [8],\n         [0],\n         [8],\n         [7],\n         [4],\n         [1],\n         [5],\n         [4],\n         [0],\n         [5],\n         [7]],\n\n        [[0],\n         [4],\n         [3],\n         [3],\n         [4],\n         [0],\n         [5],\n         [8],\n         [8],\n         [1],\n         [4],\n         [2],\n         [0],\n         [1],\n         [8],\n         [4],\n         [8],\n         [1],\n         [4],\n         [9],\n         [5],\n         [3],\n         [7],\n         [8],\n         [2],\n         [7],\n         [0],\n         [5]],\n\n        [[4],\n         [4],\n         [4],\n         [3],\n         [6],\n         [1],\n         [7],\n         [3],\n         [1],\n         [0],\n         [2],\n         [8],\n         [0],\n         [7],\n         [3],\n         [5],\n         [2],\n         [3],\n         [0],\n         [9],\n         [3],\n         [6],\n         [0],\n         [4],\n         [0],\n         [5],\n         [8],\n         [9]],\n\n        [[5],\n         [9],\n         [2],\n         [7],\n         [3],\n         [3],\n         [1],\n         [3],\n         [2],\n         [6],\n         [1],\n         [8],\n         [6],\n         [6],\n         [8],\n         [7],\n         [6],\n         [5],\n         [2],\n         [7],\n         [6],\n         [5],\n         [5],\n         [7],\n         [5],\n         [9],\n         [3],\n         [0]],\n\n        [[0],\n         [4],\n         [8],\n         [8],\n         [6],\n         [5],\n         [5],\n         [7],\n         [3],\n         [1],\n         [1],\n         [1],\n         [3],\n         [1],\n         [5],\n         [3],\n         [8],\n         [7],\n         [8],\n         [1],\n         [3],\n         [7],\n         [4],\n         [5],\n         [6],\n         [9],\n         [3],\n         [9]],\n\n        [[0],\n         [5],\n         [6],\n         [4],\n         [9],\n         [3],\n         [2],\n         [9],\n         [7],\n         [7],\n         [3],\n         [8],\n         [4],\n         [9],\n         [5],\n         [7],\n         [4],\n         [9],\n         [3],\n         [7],\n         [9],\n         [8],\n         [4],\n         [6],\n         [9],\n         [3],\n         [3],\n         [9]],\n\n        [[3],\n         [2],\n         [4],\n         [9],\n         [6],\n         [5],\n         [5],\n         [7],\n         [3],\n         [7],\n         [0],\n         [3],\n         [6],\n         [6],\n         [2],\n         [2],\n         [8],\n         [4],\n         [7],\n         [2],\n         [6],\n         [5],\n         [5],\n         [3],\n         [5],\n         [5],\n         [1],\n         [7]],\n\n        [[8],\n         [8],\n         [5],\n         [4],\n         [6],\n         [9],\n         [9],\n         [7],\n         [9],\n         [3],\n         [8],\n         [4],\n         [2],\n         [4],\n         [8],\n         [5],\n         [2],\n         [5],\n         [7],\n         [9],\n         [9],\n         [7],\n         [6],\n         [6],\n         [2],\n         [7],\n         [8],\n         [5]],\n\n        [[8],\n         [9],\n         [8],\n         [1],\n         [9],\n         [5],\n         [5],\n         [5],\n         [6],\n         [3],\n         [2],\n         [5],\n         [9],\n         [4],\n         [6],\n         [4],\n         [1],\n         [3],\n         [3],\n         [1],\n         [1],\n         [2],\n         [8],\n         [1],\n         [7],\n         [6],\n         [0],\n         [8]],\n\n        [[7],\n         [3],\n         [4],\n         [4],\n         [0],\n         [0],\n         [5],\n         [0],\n         [8],\n         [0],\n         [6],\n         [9],\n         [2],\n         [6],\n         [5],\n         [0],\n         [1],\n         [2],\n         [5],\n         [0],\n         [9],\n         [9],\n         [6],\n         [4],\n         [4],\n         [2],\n         [0],\n         [0]],\n\n        [[7],\n         [6],\n         [6],\n         [5],\n         [6],\n         [1],\n         [8],\n         [7],\n         [9],\n         [7],\n         [9],\n         [1],\n         [7],\n         [6],\n         [8],\n         [1],\n         [2],\n         [7],\n         [0],\n         [4],\n         [5],\n         [1],\n         [4],\n         [4],\n         [8],\n         [8],\n         [3],\n         [7]],\n\n        [[8],\n         [3],\n         [9],\n         [1],\n         [2],\n         [2],\n         [2],\n         [4],\n         [2],\n         [5],\n         [5],\n         [0],\n         [0],\n         [3],\n         [3],\n         [7],\n         [1],\n         [1],\n         [1],\n         [8],\n         [9],\n         [3],\n         [0],\n         [0],\n         [8],\n         [2],\n         [3],\n         [9]],\n\n        [[9],\n         [1],\n         [1],\n         [5],\n         [0],\n         [2],\n         [6],\n         [9],\n         [6],\n         [6],\n         [5],\n         [0],\n         [8],\n         [1],\n         [6],\n         [8],\n         [1],\n         [6],\n         [8],\n         [7],\n         [6],\n         [6],\n         [6],\n         [6],\n         [1],\n         [6],\n         [6],\n         [5]],\n\n        [[9],\n         [2],\n         [2],\n         [3],\n         [3],\n         [6],\n         [4],\n         [1],\n         [8],\n         [4],\n         [3],\n         [9],\n         [6],\n         [4],\n         [5],\n         [4],\n         [5],\n         [2],\n         [8],\n         [7],\n         [2],\n         [7],\n         [2],\n         [0],\n         [7],\n         [1],\n         [5],\n         [8]],\n\n        [[4],\n         [5],\n         [8],\n         [1],\n         [7],\n         [0],\n         [7],\n         [2],\n         [7],\n         [9],\n         [4],\n         [0],\n         [3],\n         [9],\n         [1],\n         [8],\n         [5],\n         [8],\n         [4],\n         [7],\n         [8],\n         [0],\n         [4],\n         [2],\n         [3],\n         [0],\n         [4],\n         [3]]]])>"
     },
     "execution_count": 83,
     "metadata": {},
     "output_type": "execute_result"
    }
   ],
   "source": [
    "x = tf.expand_dims(x,axis=0) # 高维度之前插入新维度\n",
    "x"
   ]
  },
  {
   "cell_type": "code",
   "execution_count": 84,
   "metadata": {},
   "outputs": [
    {
     "data": {
      "text/plain": "<tf.Tensor: shape=(28, 28, 1), dtype=int32, numpy=\narray([[[5],\n        [9],\n        [3],\n        [6],\n        [2],\n        [3],\n        [8],\n        [4],\n        [5],\n        [7],\n        [0],\n        [1],\n        [3],\n        [4],\n        [5],\n        [1],\n        [5],\n        [6],\n        [3],\n        [7],\n        [5],\n        [7],\n        [2],\n        [7],\n        [2],\n        [9],\n        [4],\n        [4]],\n\n       [[3],\n        [0],\n        [7],\n        [4],\n        [2],\n        [7],\n        [0],\n        [8],\n        [2],\n        [9],\n        [9],\n        [5],\n        [3],\n        [3],\n        [4],\n        [7],\n        [5],\n        [5],\n        [7],\n        [4],\n        [3],\n        [8],\n        [7],\n        [9],\n        [2],\n        [2],\n        [7],\n        [7]],\n\n       [[8],\n        [3],\n        [9],\n        [7],\n        [3],\n        [4],\n        [3],\n        [3],\n        [9],\n        [9],\n        [3],\n        [5],\n        [0],\n        [4],\n        [6],\n        [1],\n        [8],\n        [9],\n        [7],\n        [0],\n        [1],\n        [4],\n        [3],\n        [7],\n        [6],\n        [9],\n        [9],\n        [3]],\n\n       [[0],\n        [3],\n        [6],\n        [3],\n        [8],\n        [6],\n        [4],\n        [2],\n        [4],\n        [0],\n        [7],\n        [0],\n        [4],\n        [4],\n        [7],\n        [7],\n        [5],\n        [1],\n        [3],\n        [9],\n        [0],\n        [1],\n        [5],\n        [7],\n        [8],\n        [6],\n        [8],\n        [0]],\n\n       [[3],\n        [8],\n        [0],\n        [9],\n        [4],\n        [4],\n        [6],\n        [7],\n        [2],\n        [9],\n        [3],\n        [7],\n        [5],\n        [9],\n        [6],\n        [5],\n        [9],\n        [4],\n        [1],\n        [0],\n        [7],\n        [6],\n        [0],\n        [9],\n        [6],\n        [5],\n        [2],\n        [3]],\n\n       [[9],\n        [0],\n        [2],\n        [2],\n        [5],\n        [2],\n        [9],\n        [6],\n        [4],\n        [1],\n        [9],\n        [8],\n        [9],\n        [1],\n        [7],\n        [4],\n        [2],\n        [9],\n        [5],\n        [9],\n        [4],\n        [5],\n        [5],\n        [4],\n        [1],\n        [7],\n        [3],\n        [3]],\n\n       [[8],\n        [3],\n        [7],\n        [0],\n        [8],\n        [5],\n        [5],\n        [7],\n        [7],\n        [7],\n        [7],\n        [7],\n        [4],\n        [4],\n        [0],\n        [5],\n        [8],\n        [8],\n        [9],\n        [6],\n        [8],\n        [3],\n        [5],\n        [9],\n        [3],\n        [9],\n        [5],\n        [0]],\n\n       [[6],\n        [3],\n        [9],\n        [3],\n        [8],\n        [3],\n        [1],\n        [7],\n        [3],\n        [6],\n        [7],\n        [8],\n        [5],\n        [9],\n        [4],\n        [4],\n        [8],\n        [1],\n        [5],\n        [6],\n        [0],\n        [9],\n        [9],\n        [9],\n        [4],\n        [4],\n        [4],\n        [6]],\n\n       [[7],\n        [0],\n        [1],\n        [3],\n        [1],\n        [4],\n        [1],\n        [6],\n        [3],\n        [0],\n        [3],\n        [9],\n        [5],\n        [3],\n        [8],\n        [0],\n        [6],\n        [1],\n        [8],\n        [6],\n        [7],\n        [2],\n        [8],\n        [9],\n        [4],\n        [3],\n        [8],\n        [2]],\n\n       [[8],\n        [7],\n        [5],\n        [8],\n        [8],\n        [2],\n        [1],\n        [2],\n        [3],\n        [2],\n        [9],\n        [7],\n        [5],\n        [5],\n        [0],\n        [4],\n        [1],\n        [8],\n        [2],\n        [2],\n        [9],\n        [6],\n        [0],\n        [9],\n        [2],\n        [8],\n        [9],\n        [8]],\n\n       [[8],\n        [7],\n        [0],\n        [6],\n        [3],\n        [3],\n        [1],\n        [3],\n        [9],\n        [5],\n        [1],\n        [0],\n        [0],\n        [0],\n        [2],\n        [7],\n        [9],\n        [4],\n        [2],\n        [8],\n        [5],\n        [9],\n        [6],\n        [1],\n        [7],\n        [9],\n        [5],\n        [1]],\n\n       [[3],\n        [0],\n        [4],\n        [6],\n        [7],\n        [7],\n        [6],\n        [7],\n        [2],\n        [9],\n        [6],\n        [2],\n        [0],\n        [4],\n        [8],\n        [9],\n        [0],\n        [4],\n        [6],\n        [1],\n        [8],\n        [8],\n        [3],\n        [7],\n        [1],\n        [7],\n        [8],\n        [2]],\n\n       [[5],\n        [9],\n        [9],\n        [7],\n        [6],\n        [8],\n        [4],\n        [3],\n        [9],\n        [9],\n        [7],\n        [7],\n        [5],\n        [3],\n        [6],\n        [8],\n        [0],\n        [4],\n        [4],\n        [8],\n        [2],\n        [5],\n        [4],\n        [0],\n        [3],\n        [7],\n        [1],\n        [1]],\n\n       [[3],\n        [7],\n        [4],\n        [5],\n        [9],\n        [5],\n        [9],\n        [8],\n        [0],\n        [8],\n        [1],\n        [5],\n        [5],\n        [1],\n        [6],\n        [7],\n        [6],\n        [8],\n        [0],\n        [8],\n        [7],\n        [4],\n        [1],\n        [5],\n        [4],\n        [0],\n        [5],\n        [7]],\n\n       [[0],\n        [4],\n        [3],\n        [3],\n        [4],\n        [0],\n        [5],\n        [8],\n        [8],\n        [1],\n        [4],\n        [2],\n        [0],\n        [1],\n        [8],\n        [4],\n        [8],\n        [1],\n        [4],\n        [9],\n        [5],\n        [3],\n        [7],\n        [8],\n        [2],\n        [7],\n        [0],\n        [5]],\n\n       [[4],\n        [4],\n        [4],\n        [3],\n        [6],\n        [1],\n        [7],\n        [3],\n        [1],\n        [0],\n        [2],\n        [8],\n        [0],\n        [7],\n        [3],\n        [5],\n        [2],\n        [3],\n        [0],\n        [9],\n        [3],\n        [6],\n        [0],\n        [4],\n        [0],\n        [5],\n        [8],\n        [9]],\n\n       [[5],\n        [9],\n        [2],\n        [7],\n        [3],\n        [3],\n        [1],\n        [3],\n        [2],\n        [6],\n        [1],\n        [8],\n        [6],\n        [6],\n        [8],\n        [7],\n        [6],\n        [5],\n        [2],\n        [7],\n        [6],\n        [5],\n        [5],\n        [7],\n        [5],\n        [9],\n        [3],\n        [0]],\n\n       [[0],\n        [4],\n        [8],\n        [8],\n        [6],\n        [5],\n        [5],\n        [7],\n        [3],\n        [1],\n        [1],\n        [1],\n        [3],\n        [1],\n        [5],\n        [3],\n        [8],\n        [7],\n        [8],\n        [1],\n        [3],\n        [7],\n        [4],\n        [5],\n        [6],\n        [9],\n        [3],\n        [9]],\n\n       [[0],\n        [5],\n        [6],\n        [4],\n        [9],\n        [3],\n        [2],\n        [9],\n        [7],\n        [7],\n        [3],\n        [8],\n        [4],\n        [9],\n        [5],\n        [7],\n        [4],\n        [9],\n        [3],\n        [7],\n        [9],\n        [8],\n        [4],\n        [6],\n        [9],\n        [3],\n        [3],\n        [9]],\n\n       [[3],\n        [2],\n        [4],\n        [9],\n        [6],\n        [5],\n        [5],\n        [7],\n        [3],\n        [7],\n        [0],\n        [3],\n        [6],\n        [6],\n        [2],\n        [2],\n        [8],\n        [4],\n        [7],\n        [2],\n        [6],\n        [5],\n        [5],\n        [3],\n        [5],\n        [5],\n        [1],\n        [7]],\n\n       [[8],\n        [8],\n        [5],\n        [4],\n        [6],\n        [9],\n        [9],\n        [7],\n        [9],\n        [3],\n        [8],\n        [4],\n        [2],\n        [4],\n        [8],\n        [5],\n        [2],\n        [5],\n        [7],\n        [9],\n        [9],\n        [7],\n        [6],\n        [6],\n        [2],\n        [7],\n        [8],\n        [5]],\n\n       [[8],\n        [9],\n        [8],\n        [1],\n        [9],\n        [5],\n        [5],\n        [5],\n        [6],\n        [3],\n        [2],\n        [5],\n        [9],\n        [4],\n        [6],\n        [4],\n        [1],\n        [3],\n        [3],\n        [1],\n        [1],\n        [2],\n        [8],\n        [1],\n        [7],\n        [6],\n        [0],\n        [8]],\n\n       [[7],\n        [3],\n        [4],\n        [4],\n        [0],\n        [0],\n        [5],\n        [0],\n        [8],\n        [0],\n        [6],\n        [9],\n        [2],\n        [6],\n        [5],\n        [0],\n        [1],\n        [2],\n        [5],\n        [0],\n        [9],\n        [9],\n        [6],\n        [4],\n        [4],\n        [2],\n        [0],\n        [0]],\n\n       [[7],\n        [6],\n        [6],\n        [5],\n        [6],\n        [1],\n        [8],\n        [7],\n        [9],\n        [7],\n        [9],\n        [1],\n        [7],\n        [6],\n        [8],\n        [1],\n        [2],\n        [7],\n        [0],\n        [4],\n        [5],\n        [1],\n        [4],\n        [4],\n        [8],\n        [8],\n        [3],\n        [7]],\n\n       [[8],\n        [3],\n        [9],\n        [1],\n        [2],\n        [2],\n        [2],\n        [4],\n        [2],\n        [5],\n        [5],\n        [0],\n        [0],\n        [3],\n        [3],\n        [7],\n        [1],\n        [1],\n        [1],\n        [8],\n        [9],\n        [3],\n        [0],\n        [0],\n        [8],\n        [2],\n        [3],\n        [9]],\n\n       [[9],\n        [1],\n        [1],\n        [5],\n        [0],\n        [2],\n        [6],\n        [9],\n        [6],\n        [6],\n        [5],\n        [0],\n        [8],\n        [1],\n        [6],\n        [8],\n        [1],\n        [6],\n        [8],\n        [7],\n        [6],\n        [6],\n        [6],\n        [6],\n        [1],\n        [6],\n        [6],\n        [5]],\n\n       [[9],\n        [2],\n        [2],\n        [3],\n        [3],\n        [6],\n        [4],\n        [1],\n        [8],\n        [4],\n        [3],\n        [9],\n        [6],\n        [4],\n        [5],\n        [4],\n        [5],\n        [2],\n        [8],\n        [7],\n        [2],\n        [7],\n        [2],\n        [0],\n        [7],\n        [1],\n        [5],\n        [8]],\n\n       [[4],\n        [5],\n        [8],\n        [1],\n        [7],\n        [0],\n        [7],\n        [2],\n        [7],\n        [9],\n        [4],\n        [0],\n        [3],\n        [9],\n        [1],\n        [8],\n        [5],\n        [8],\n        [4],\n        [7],\n        [8],\n        [0],\n        [4],\n        [2],\n        [3],\n        [0],\n        [4],\n        [3]]])>"
     },
     "execution_count": 84,
     "metadata": {},
     "output_type": "execute_result"
    }
   ],
   "source": [
    "x = tf.squeeze(x, axis=0) # 删除图片数量维度\n",
    "x"
   ]
  },
  {
   "cell_type": "code",
   "execution_count": 85,
   "metadata": {
    "scrolled": true
   },
   "outputs": [
    {
     "data": {
      "text/plain": "<tf.Tensor: shape=(28, 28), dtype=int32, numpy=\narray([[0, 5, 9, 5, 0, 4, 0, 4, 2, 3, 3, 3, 9, 8, 1, 1, 3, 1, 4, 4, 1, 4,\n        9, 0, 9, 8, 8, 2],\n       [9, 7, 5, 7, 9, 2, 0, 7, 3, 7, 5, 2, 5, 6, 0, 4, 0, 4, 2, 5, 2, 5,\n        7, 4, 9, 5, 1, 1],\n       [0, 7, 8, 1, 1, 7, 1, 9, 9, 4, 6, 4, 2, 4, 5, 6, 6, 1, 2, 1, 9, 1,\n        5, 7, 0, 6, 4, 2],\n       [6, 1, 9, 9, 5, 2, 8, 7, 4, 8, 9, 1, 8, 3, 5, 5, 2, 0, 6, 4, 8, 5,\n        3, 7, 1, 5, 9, 6],\n       [1, 3, 0, 4, 3, 4, 5, 2, 5, 1, 0, 4, 5, 0, 5, 6, 0, 8, 6, 7, 4, 4,\n        5, 1, 3, 0, 4, 4],\n       [9, 7, 6, 1, 4, 1, 3, 9, 5, 6, 1, 1, 5, 4, 9, 6, 2, 4, 7, 9, 0, 2,\n        8, 0, 4, 5, 8, 9],\n       [6, 1, 0, 0, 5, 9, 3, 7, 3, 6, 6, 7, 7, 7, 2, 3, 1, 7, 6, 6, 4, 3,\n        0, 5, 9, 0, 1, 5],\n       [7, 1, 7, 0, 2, 4, 2, 0, 6, 6, 7, 7, 4, 9, 1, 0, 2, 1, 3, 1, 5, 1,\n        3, 6, 7, 4, 7, 6],\n       [1, 9, 7, 6, 1, 5, 2, 6, 6, 5, 9, 8, 9, 2, 7, 6, 6, 9, 7, 7, 1, 7,\n        3, 3, 3, 0, 0, 0],\n       [6, 1, 0, 8, 2, 5, 8, 6, 2, 1, 3, 0, 1, 9, 6, 8, 6, 0, 9, 5, 4, 0,\n        5, 1, 6, 5, 8, 6],\n       [2, 6, 7, 0, 9, 7, 3, 6, 2, 7, 6, 0, 8, 7, 8, 6, 0, 5, 3, 1, 1, 0,\n        5, 5, 9, 3, 3, 8],\n       [4, 4, 0, 0, 6, 6, 4, 2, 5, 4, 0, 9, 5, 4, 4, 5, 3, 7, 4, 4, 9, 1,\n        1, 3, 2, 9, 0, 7],\n       [7, 4, 2, 0, 1, 8, 4, 5, 3, 3, 9, 2, 7, 6, 6, 8, 3, 5, 6, 9, 1, 0,\n        1, 0, 6, 3, 0, 1],\n       [4, 6, 2, 3, 2, 2, 0, 2, 7, 4, 4, 8, 3, 2, 5, 0, 5, 9, 6, 6, 5, 9,\n        8, 8, 5, 1, 0, 9],\n       [1, 8, 9, 8, 9, 1, 3, 3, 9, 7, 0, 6, 8, 8, 9, 2, 8, 0, 1, 5, 0, 0,\n        7, 3, 4, 5, 8, 2],\n       [9, 1, 6, 1, 8, 9, 3, 8, 5, 8, 0, 4, 2, 7, 0, 7, 1, 4, 8, 8, 8, 5,\n        1, 7, 1, 4, 7, 6],\n       [3, 0, 2, 8, 5, 9, 9, 5, 4, 5, 0, 0, 8, 6, 8, 7, 3, 1, 8, 4, 6, 8,\n        3, 7, 0, 4, 5, 1],\n       [7, 7, 4, 7, 7, 0, 0, 4, 3, 6, 6, 6, 4, 6, 3, 6, 3, 7, 4, 1, 9, 7,\n        2, 1, 9, 8, 4, 2],\n       [4, 0, 5, 1, 1, 0, 0, 2, 0, 6, 7, 8, 8, 4, 2, 4, 0, 0, 3, 8, 8, 2,\n        9, 2, 2, 5, 1, 0],\n       [3, 7, 0, 3, 9, 3, 0, 6, 8, 0, 9, 9, 8, 7, 8, 4, 8, 2, 6, 5, 3, 7,\n        3, 7, 6, 7, 0, 7],\n       [6, 0, 5, 0, 6, 6, 8, 1, 4, 5, 5, 9, 0, 4, 9, 3, 3, 0, 8, 9, 9, 2,\n        1, 4, 8, 5, 7, 6],\n       [7, 3, 1, 4, 6, 7, 2, 1, 9, 3, 8, 0, 6, 4, 3, 2, 4, 2, 9, 3, 5, 6,\n        9, 5, 3, 9, 8, 5],\n       [2, 2, 6, 9, 7, 6, 9, 3, 9, 8, 7, 6, 8, 4, 9, 0, 6, 6, 6, 6, 4, 7,\n        6, 6, 8, 4, 4, 9],\n       [9, 7, 9, 3, 5, 6, 5, 8, 1, 5, 0, 0, 1, 3, 7, 6, 9, 9, 8, 7, 2, 7,\n        3, 4, 6, 9, 3, 0],\n       [6, 2, 0, 6, 5, 4, 3, 3, 5, 0, 5, 3, 7, 5, 7, 6, 8, 5, 5, 5, 0, 0,\n        7, 7, 3, 3, 4, 9],\n       [0, 8, 5, 8, 7, 8, 6, 4, 9, 4, 2, 4, 8, 4, 9, 8, 6, 7, 4, 4, 9, 4,\n        3, 1, 0, 0, 0, 1],\n       [6, 5, 0, 0, 7, 0, 1, 5, 7, 4, 3, 2, 0, 7, 9, 9, 0, 1, 8, 0, 6, 3,\n        0, 3, 1, 7, 2, 9],\n       [1, 8, 7, 1, 8, 3, 0, 0, 7, 3, 8, 1, 6, 3, 5, 7, 6, 5, 9, 7, 1, 4,\n        4, 9, 0, 9, 1, 8]])>"
     },
     "execution_count": 85,
     "metadata": {},
     "output_type": "execute_result"
    }
   ],
   "source": [
    "x = tf.random.uniform([1,28,28,1],maxval=10,dtype=tf.int32)\n",
    "tf.squeeze(x) # 删除所有长度为 1 的维度"
   ]
  },
  {
   "cell_type": "markdown",
   "metadata": {},
   "source": [
    "### 交换维度"
   ]
  },
  {
   "cell_type": "code",
   "execution_count": 86,
   "metadata": {
    "scrolled": true
   },
   "outputs": [
    {
     "data": {
      "text/plain": "<tf.Tensor: shape=(2, 3, 32, 32), dtype=float32, numpy=\narray([[[[ 0.14806686,  0.07465587,  1.1043624 , ..., -0.84422785,\n          -2.3090386 , -0.94346523],\n         [-2.8974564 , -0.37506953, -1.3371081 , ...,  1.1430826 ,\n           0.54741144,  0.2070554 ],\n         [ 0.7066283 ,  0.4110281 , -1.5066048 , ...,  1.0056064 ,\n          -0.54143685,  0.03830145],\n         ...,\n         [-1.0829395 ,  0.9577969 ,  0.4490723 , ..., -1.9546539 ,\n          -1.1880515 ,  0.07383587],\n         [ 0.09894753, -0.53432584,  0.58051145, ...,  1.55111   ,\n           0.28598553,  0.04245878],\n         [-1.8664007 , -1.0527436 , -0.87980527, ...,  0.32633168,\n          -0.40896294, -1.9152501 ]],\n\n        [[-1.259337  , -1.7642688 ,  0.5202338 , ...,  0.84995466,\n          -0.7849166 , -0.33255708],\n         [-1.7171509 ,  1.3416151 , -0.3688333 , ...,  0.7932352 ,\n          -0.12104028, -0.33372697],\n         [ 0.93108135,  0.71073323, -0.84918857, ..., -0.944739  ,\n          -0.81377536,  1.1301291 ],\n         ...,\n         [-1.9652188 ,  1.6141882 ,  1.0049933 , ...,  0.6646364 ,\n           0.02893555, -0.02408243],\n         [ 0.5200792 , -3.0747368 , -1.1824461 , ...,  1.0376496 ,\n          -0.39690804,  2.6568863 ],\n         [ 0.08668564, -1.4236149 , -2.6146858 , ..., -0.6626206 ,\n          -0.8476708 ,  0.10089851]],\n\n        [[-0.364056  ,  0.41939825,  0.557297  , ..., -1.1566867 ,\n          -0.1619202 ,  0.28942016],\n         [ 0.7299046 , -0.14666778,  1.7107757 , ...,  0.57183975,\n          -1.3396912 ,  0.45284414],\n         [ 1.4052955 , -3.1738114 , -0.07442402, ...,  0.47994086,\n           0.33570698,  1.063697  ],\n         ...,\n         [-0.01049826, -1.0763706 , -0.74791074, ...,  1.7391241 ,\n           2.6637928 , -1.164346  ],\n         [-0.5479486 ,  0.8159787 ,  0.292255  , ..., -0.7339646 ,\n          -0.30308574, -2.235722  ],\n         [-0.2271792 , -0.63296235,  0.887239  , ..., -0.5975041 ,\n          -1.6346835 , -0.10373313]]],\n\n\n       [[[ 2.1266935 ,  0.71761036, -0.9871101 , ..., -0.9490517 ,\n          -0.43467292, -0.46407515],\n         [ 0.42738742, -0.73670435,  0.6323706 , ...,  0.64929986,\n          -1.1506137 , -0.08743539],\n         [-1.4353338 , -0.6487242 , -0.6198542 , ..., -0.05348487,\n          -0.9375797 , -1.2680328 ],\n         ...,\n         [ 0.4777395 , -0.47292477, -0.29163998, ...,  1.3541775 ,\n          -0.34797513, -1.6596838 ],\n         [ 0.9183935 ,  0.40068942, -1.5788878 , ..., -0.19323294,\n          -0.99841255, -1.8483841 ],\n         [ 0.15607987, -1.7193822 , -0.39922133, ...,  0.15327616,\n           0.37437573, -0.45463017]],\n\n        [[-0.06897225,  0.3261218 ,  2.6574094 , ..., -0.76933163,\n          -0.43796062,  0.25009084],\n         [ 0.1213989 ,  0.4518959 , -2.1764479 , ..., -1.0035583 ,\n           0.04190562, -0.34381387],\n         [ 0.7981399 , -1.5473262 , -0.32666007, ...,  2.2411308 ,\n           1.8503699 ,  0.01951816],\n         ...,\n         [-2.9290562 , -1.2062463 , -0.21180248, ...,  0.06882064,\n           1.6348665 , -0.94671   ],\n         [ 0.33822006,  1.3017502 ,  0.1894913 , ...,  0.8514825 ,\n           0.5883259 ,  0.32309476],\n         [-1.2220199 ,  0.6009553 , -0.21799971, ..., -1.5751101 ,\n           0.763766  , -2.4674325 ]],\n\n        [[-0.5034699 , -1.817634  , -0.02964271, ..., -0.94374   ,\n           0.02828012,  0.8307067 ],\n         [-2.3066077 ,  0.6355171 , -0.782775  , ...,  0.3590687 ,\n           0.02757708,  0.71980613],\n         [-0.07159392,  0.06644411,  0.7886822 , ..., -1.2523357 ,\n          -0.21868548, -0.23420914],\n         ...,\n         [-1.5520897 , -0.5507992 ,  0.38024202, ...,  0.6669552 ,\n           0.58155   , -0.17908767],\n         [-0.54843396,  1.9110264 , -0.900747  , ..., -0.55579174,\n           0.08644092, -0.13803017],\n         [ 0.8114556 , -1.0474061 , -0.23270378, ...,  0.44816548,\n          -0.5894453 ,  0.09829149]]]], dtype=float32)>"
     },
     "execution_count": 86,
     "metadata": {},
     "output_type": "execute_result"
    }
   ],
   "source": [
    "x = tf.random.normal([2,32,32,3])\n",
    "# 交换维度\n",
    "tf.transpose(x,perm=[0,3,1,2]) "
   ]
  },
  {
   "cell_type": "code",
   "execution_count": 87,
   "metadata": {
    "scrolled": true
   },
   "outputs": [
    {
     "data": {
      "text/plain": "<tf.Tensor: shape=(2, 32, 32, 3), dtype=float32, numpy=\narray([[[[-0.5524337 ,  0.03191596,  0.23483345],\n         [-2.2593243 ,  0.52841383, -0.77885205],\n         [ 0.63097477, -0.23986758,  0.85993123],\n         ...,\n         [ 1.158409  , -1.7770214 ,  2.7564354 ],\n         [-1.3891281 , -0.556433  , -1.1439546 ],\n         [ 0.9132943 ,  0.49842417, -1.7489134 ]],\n\n        [[ 1.8159708 ,  0.16345662,  0.30399656],\n         [-1.3043497 , -1.3681331 , -0.13359904],\n         [ 0.30583543,  2.9172518 , -0.7610246 ],\n         ...,\n         [-0.18318085, -0.7375185 , -0.4830344 ],\n         [ 0.13876349,  2.8126144 , -0.9041773 ],\n         [ 0.26976296, -0.5807812 ,  0.52742916]],\n\n        [[-0.4304738 , -1.6546651 ,  2.2910504 ],\n         [-0.1290744 , -1.49483   ,  0.38751015],\n         [ 0.9622455 , -1.9196206 , -1.7569625 ],\n         ...,\n         [ 0.6439706 ,  0.17171969,  0.07675729],\n         [-1.0010331 ,  0.83881104,  1.2281997 ],\n         [-0.2373257 ,  0.73635507, -2.0473456 ]],\n\n        ...,\n\n        [[-2.0452945 ,  0.56595576,  0.25090593],\n         [-1.0051789 ,  1.8057234 , -0.73337275],\n         [-0.05307169,  1.6578846 , -0.26474217],\n         ...,\n         [-1.579179  ,  0.33600587,  0.6420283 ],\n         [ 0.3786005 ,  0.32804585, -0.79004693],\n         [-1.0703301 , -2.1505625 , -1.2447947 ]],\n\n        [[-0.5567519 , -0.9527606 , -0.6269585 ],\n         [-0.2973154 ,  0.47378883, -0.962479  ],\n         [ 0.75018835,  0.90152967,  1.1556011 ],\n         ...,\n         [-0.80743545, -1.2928691 ,  1.1968625 ],\n         [ 0.4934572 ,  0.4408004 ,  0.39232928],\n         [-0.23209022,  0.3357182 ,  1.0547984 ]],\n\n        [[-0.13266541,  0.04914337, -1.1402494 ],\n         [-0.58330464,  0.46910897, -0.6639307 ],\n         [-0.22197773, -0.9473554 ,  0.85402346],\n         ...,\n         [-0.5492503 ,  0.03255046,  0.8694099 ],\n         [ 0.01973168,  0.45584574,  0.02386279],\n         [-0.8451081 ,  2.6776776 , -0.40715092]]],\n\n\n       [[[ 0.47529247, -1.5948043 ,  0.2002517 ],\n         [-0.24092995, -1.5029386 ,  0.56439364],\n         [ 0.26293388, -1.5112122 ,  1.8337349 ],\n         ...,\n         [ 0.6546352 , -1.6037514 ,  0.8588335 ],\n         [ 1.3392155 ,  0.1496384 , -0.23889986],\n         [ 0.42073512, -0.2743412 , -0.41715735]],\n\n        [[-0.20832242, -0.01362537,  0.39287472],\n         [ 0.06736999, -0.02115734,  0.7956808 ],\n         [-0.31074613, -1.3311837 , -1.515936  ],\n         ...,\n         [ 0.08276685, -0.89861953,  1.0762508 ],\n         [-1.4146328 , -0.4877488 , -0.49587688],\n         [ 1.143938  , -1.4947804 , -0.13405634]],\n\n        [[-1.4156169 ,  0.31212443,  0.62807834],\n         [ 0.4444579 , -1.4148877 ,  2.2372477 ],\n         [-0.74532014, -0.28096077,  0.43455032],\n         ...,\n         [ 0.11953639,  0.50644445, -0.628236  ],\n         [ 0.49210954,  0.04621419, -0.34050447],\n         [ 1.0540953 , -0.23872358, -0.78677773]],\n\n        ...,\n\n        [[-0.2525161 ,  1.0610324 ,  1.7417364 ],\n         [-0.32679123,  0.06486068, -1.9270232 ],\n         [ 0.5421373 ,  0.6192729 ,  1.3829669 ],\n         ...,\n         [ 0.6369473 , -2.4577017 ,  2.485131  ],\n         [-0.22917984, -1.7891635 , -0.9940069 ],\n         [ 1.2611823 ,  0.61386883,  0.22583361]],\n\n        [[-0.22360621, -0.17741068,  1.0260909 ],\n         [-1.4637169 , -1.1632142 ,  0.5534587 ],\n         [-1.2120615 , -1.6475877 ,  0.70960534],\n         ...,\n         [-1.2916677 , -1.1731017 ,  0.90119904],\n         [ 1.9161819 , -0.78322124, -2.5166712 ],\n         [-1.8237064 , -0.4398333 , -1.6823791 ]],\n\n        [[ 1.0719905 , -0.2711252 , -0.82788634],\n         [-0.22130185,  0.7082142 , -1.0822241 ],\n         [-0.84763217,  0.13464384, -0.61323816],\n         ...,\n         [-0.6653443 , -1.5041515 ,  0.01573387],\n         [ 1.0157592 ,  0.63824725,  1.819784  ],\n         [ 0.63711685,  2.1844165 , -0.29671264]]]], dtype=float32)>"
     },
     "execution_count": 87,
     "metadata": {},
     "output_type": "execute_result"
    }
   ],
   "source": [
    "x = tf.random.normal([2,32,32,3])\n",
    "# 交换维度\n",
    "tf.transpose(x,perm=[0,2,1,3]) "
   ]
  },
  {
   "cell_type": "markdown",
   "metadata": {},
   "source": [
    "### 复制数据"
   ]
  },
  {
   "cell_type": "code",
   "execution_count": 88,
   "metadata": {},
   "outputs": [
    {
     "data": {
      "text/plain": "<tf.Tensor: shape=(1, 2), dtype=int32, numpy=array([[1, 2]])>"
     },
     "execution_count": 88,
     "metadata": {},
     "output_type": "execute_result"
    }
   ],
   "source": [
    "# 创建向量 b\n",
    "b = tf.constant([1,2]) \n",
    "# 插入新维度，变成矩阵\n",
    "b = tf.expand_dims(b, axis=0) \n",
    "b"
   ]
  },
  {
   "cell_type": "code",
   "execution_count": 89,
   "metadata": {},
   "outputs": [
    {
     "data": {
      "text/plain": "<tf.Tensor: shape=(2, 2), dtype=int32, numpy=\narray([[1, 2],\n       [1, 2]])>"
     },
     "execution_count": 89,
     "metadata": {},
     "output_type": "execute_result"
    }
   ],
   "source": [
    "# 样本维度上复制一份\n",
    "b = tf.tile(b, multiples=[2,1]) \n",
    "b"
   ]
  },
  {
   "cell_type": "code",
   "execution_count": 90,
   "metadata": {},
   "outputs": [
    {
     "data": {
      "text/plain": "<tf.Tensor: shape=(2, 2), dtype=int32, numpy=\narray([[0, 1],\n       [2, 3]])>"
     },
     "execution_count": 90,
     "metadata": {},
     "output_type": "execute_result"
    }
   ],
   "source": [
    "x = tf.range(4)\n",
    "# 创建 2 行 2 列矩阵\n",
    "x=tf.reshape(x,[2,2]) \n",
    "x"
   ]
  },
  {
   "cell_type": "code",
   "execution_count": 91,
   "metadata": {},
   "outputs": [
    {
     "data": {
      "text/plain": "<tf.Tensor: shape=(2, 4), dtype=int32, numpy=\narray([[0, 1, 0, 1],\n       [2, 3, 2, 3]])>"
     },
     "execution_count": 91,
     "metadata": {},
     "output_type": "execute_result"
    }
   ],
   "source": [
    "# 列维度复制一份\n",
    "x = tf.tile(x,multiples=[1,2]) \n",
    "x"
   ]
  },
  {
   "cell_type": "code",
   "execution_count": 92,
   "metadata": {
    "scrolled": true
   },
   "outputs": [
    {
     "data": {
      "text/plain": "<tf.Tensor: shape=(4, 4), dtype=int32, numpy=\narray([[0, 1, 0, 1],\n       [2, 3, 2, 3],\n       [0, 1, 0, 1],\n       [2, 3, 2, 3]])>"
     },
     "execution_count": 92,
     "metadata": {},
     "output_type": "execute_result"
    }
   ],
   "source": [
    "# 行维度复制一份\n",
    "x = tf.tile(x,multiples=[2,1]) \n",
    "x"
   ]
  },
  {
   "cell_type": "markdown",
   "metadata": {},
   "source": [
    "## Broadcasting\n",
    "![](Broadcasting.jpg)"
   ]
  },
  {
   "cell_type": "code",
   "execution_count": 93,
   "metadata": {
    "scrolled": true
   },
   "outputs": [
    {
     "data": {
      "text/plain": "<tf.Tensor: shape=(2, 32, 32, 3), dtype=float32, numpy=\narray([[[[-0.62639797, -0.62639797, -0.62639797],\n         [ 0.69939756,  0.69939756,  0.69939756],\n         [ 0.91404563,  0.91404563,  0.91404563],\n         ...,\n         [-0.29370353, -0.29370353, -0.29370353],\n         [ 0.7192419 ,  0.7192419 ,  0.7192419 ],\n         [-0.4811706 , -0.4811706 , -0.4811706 ]],\n\n        [[-0.62639797, -0.62639797, -0.62639797],\n         [ 0.69939756,  0.69939756,  0.69939756],\n         [ 0.91404563,  0.91404563,  0.91404563],\n         ...,\n         [-0.29370353, -0.29370353, -0.29370353],\n         [ 0.7192419 ,  0.7192419 ,  0.7192419 ],\n         [-0.4811706 , -0.4811706 , -0.4811706 ]],\n\n        [[-0.62639797, -0.62639797, -0.62639797],\n         [ 0.69939756,  0.69939756,  0.69939756],\n         [ 0.91404563,  0.91404563,  0.91404563],\n         ...,\n         [-0.29370353, -0.29370353, -0.29370353],\n         [ 0.7192419 ,  0.7192419 ,  0.7192419 ],\n         [-0.4811706 , -0.4811706 , -0.4811706 ]],\n\n        ...,\n\n        [[-0.62639797, -0.62639797, -0.62639797],\n         [ 0.69939756,  0.69939756,  0.69939756],\n         [ 0.91404563,  0.91404563,  0.91404563],\n         ...,\n         [-0.29370353, -0.29370353, -0.29370353],\n         [ 0.7192419 ,  0.7192419 ,  0.7192419 ],\n         [-0.4811706 , -0.4811706 , -0.4811706 ]],\n\n        [[-0.62639797, -0.62639797, -0.62639797],\n         [ 0.69939756,  0.69939756,  0.69939756],\n         [ 0.91404563,  0.91404563,  0.91404563],\n         ...,\n         [-0.29370353, -0.29370353, -0.29370353],\n         [ 0.7192419 ,  0.7192419 ,  0.7192419 ],\n         [-0.4811706 , -0.4811706 , -0.4811706 ]],\n\n        [[-0.62639797, -0.62639797, -0.62639797],\n         [ 0.69939756,  0.69939756,  0.69939756],\n         [ 0.91404563,  0.91404563,  0.91404563],\n         ...,\n         [-0.29370353, -0.29370353, -0.29370353],\n         [ 0.7192419 ,  0.7192419 ,  0.7192419 ],\n         [-0.4811706 , -0.4811706 , -0.4811706 ]]],\n\n\n       [[[-0.62639797, -0.62639797, -0.62639797],\n         [ 0.69939756,  0.69939756,  0.69939756],\n         [ 0.91404563,  0.91404563,  0.91404563],\n         ...,\n         [-0.29370353, -0.29370353, -0.29370353],\n         [ 0.7192419 ,  0.7192419 ,  0.7192419 ],\n         [-0.4811706 , -0.4811706 , -0.4811706 ]],\n\n        [[-0.62639797, -0.62639797, -0.62639797],\n         [ 0.69939756,  0.69939756,  0.69939756],\n         [ 0.91404563,  0.91404563,  0.91404563],\n         ...,\n         [-0.29370353, -0.29370353, -0.29370353],\n         [ 0.7192419 ,  0.7192419 ,  0.7192419 ],\n         [-0.4811706 , -0.4811706 , -0.4811706 ]],\n\n        [[-0.62639797, -0.62639797, -0.62639797],\n         [ 0.69939756,  0.69939756,  0.69939756],\n         [ 0.91404563,  0.91404563,  0.91404563],\n         ...,\n         [-0.29370353, -0.29370353, -0.29370353],\n         [ 0.7192419 ,  0.7192419 ,  0.7192419 ],\n         [-0.4811706 , -0.4811706 , -0.4811706 ]],\n\n        ...,\n\n        [[-0.62639797, -0.62639797, -0.62639797],\n         [ 0.69939756,  0.69939756,  0.69939756],\n         [ 0.91404563,  0.91404563,  0.91404563],\n         ...,\n         [-0.29370353, -0.29370353, -0.29370353],\n         [ 0.7192419 ,  0.7192419 ,  0.7192419 ],\n         [-0.4811706 , -0.4811706 , -0.4811706 ]],\n\n        [[-0.62639797, -0.62639797, -0.62639797],\n         [ 0.69939756,  0.69939756,  0.69939756],\n         [ 0.91404563,  0.91404563,  0.91404563],\n         ...,\n         [-0.29370353, -0.29370353, -0.29370353],\n         [ 0.7192419 ,  0.7192419 ,  0.7192419 ],\n         [-0.4811706 , -0.4811706 , -0.4811706 ]],\n\n        [[-0.62639797, -0.62639797, -0.62639797],\n         [ 0.69939756,  0.69939756,  0.69939756],\n         [ 0.91404563,  0.91404563,  0.91404563],\n         ...,\n         [-0.29370353, -0.29370353, -0.29370353],\n         [ 0.7192419 ,  0.7192419 ,  0.7192419 ],\n         [-0.4811706 , -0.4811706 , -0.4811706 ]]]], dtype=float32)>"
     },
     "execution_count": 93,
     "metadata": {},
     "output_type": "execute_result"
    }
   ],
   "source": [
    "# 创建矩阵\n",
    "A = tf.random.normal([32,1]) \n",
    "# 扩展为 4D 张量\n",
    "tf.broadcast_to(A, [2,32,32,3]) "
   ]
  },
  {
   "cell_type": "code",
   "execution_count": 94,
   "metadata": {},
   "outputs": [
    {
     "name": "stdout",
     "output_type": "stream",
     "text": [
      "Incompatible shapes: [32,2] vs. [2,32,32,4] [Op:BroadcastTo]\n"
     ]
    }
   ],
   "source": [
    "A = tf.random.normal([32,2])\n",
    "# 不符合 Broadcasting 条件\n",
    "try: \n",
    "    tf.broadcast_to(A, [2,32,32,4])\n",
    "except Exception as e:\n",
    "    print(e)"
   ]
  },
  {
   "cell_type": "markdown",
   "metadata": {},
   "source": [
    "## 数学运算\n",
    "\n",
    "### 加、减、乘、除运算"
   ]
  },
  {
   "cell_type": "code",
   "execution_count": 95,
   "metadata": {},
   "outputs": [
    {
     "data": {
      "text/plain": "<tf.Tensor: shape=(5,), dtype=int32, numpy=array([0, 0, 1, 1, 2])>"
     },
     "execution_count": 95,
     "metadata": {},
     "output_type": "execute_result"
    }
   ],
   "source": [
    "a = tf.range(5)\n",
    "b = tf.constant(2)\n",
    "# 整除运算\n",
    "a//b "
   ]
  },
  {
   "cell_type": "code",
   "execution_count": 96,
   "metadata": {},
   "outputs": [
    {
     "data": {
      "text/plain": "<tf.Tensor: shape=(5,), dtype=int32, numpy=array([0, 1, 0, 1, 0])>"
     },
     "execution_count": 96,
     "metadata": {},
     "output_type": "execute_result"
    }
   ],
   "source": [
    "# 余除运算\n",
    "a%b "
   ]
  },
  {
   "cell_type": "markdown",
   "metadata": {},
   "source": [
    "### 乘方运算"
   ]
  },
  {
   "cell_type": "code",
   "execution_count": 97,
   "metadata": {},
   "outputs": [
    {
     "data": {
      "text/plain": "<tf.Tensor: shape=(4,), dtype=int32, numpy=array([ 0,  1,  8, 27])>"
     },
     "execution_count": 97,
     "metadata": {},
     "output_type": "execute_result"
    }
   ],
   "source": [
    "x = tf.range(4)\n",
    "# 乘方运算\n",
    "tf.pow(x,3) "
   ]
  },
  {
   "cell_type": "code",
   "execution_count": 98,
   "metadata": {},
   "outputs": [
    {
     "data": {
      "text/plain": "<tf.Tensor: shape=(4,), dtype=int32, numpy=array([0, 1, 4, 9])>"
     },
     "execution_count": 98,
     "metadata": {},
     "output_type": "execute_result"
    }
   ],
   "source": [
    "# 乘方运算符\n",
    "x**2 "
   ]
  },
  {
   "cell_type": "code",
   "execution_count": 99,
   "metadata": {},
   "outputs": [
    {
     "data": {
      "text/plain": "<tf.Tensor: shape=(3,), dtype=float32, numpy=array([1., 2., 3.], dtype=float32)>"
     },
     "execution_count": 99,
     "metadata": {},
     "output_type": "execute_result"
    }
   ],
   "source": [
    "x=tf.constant([1.,4.,9.])\n",
    "# 平方根\n",
    "x**(0.5) "
   ]
  },
  {
   "cell_type": "code",
   "execution_count": 100,
   "metadata": {},
   "outputs": [],
   "source": [
    "x = tf.range(5)\n",
    "# 转换为浮点数\n",
    "x = tf.cast(x, dtype=tf.float32) \n",
    "# 平方\n",
    "x = tf.square(x) "
   ]
  },
  {
   "cell_type": "code",
   "execution_count": 101,
   "metadata": {},
   "outputs": [
    {
     "data": {
      "text/plain": "<tf.Tensor: shape=(5,), dtype=float32, numpy=array([0., 1., 2., 3., 4.], dtype=float32)>"
     },
     "execution_count": 101,
     "metadata": {},
     "output_type": "execute_result"
    }
   ],
   "source": [
    "# 平方根\n",
    "tf.sqrt(x) "
   ]
  },
  {
   "cell_type": "markdown",
   "metadata": {},
   "source": [
    "### 指数和对数运算"
   ]
  },
  {
   "cell_type": "code",
   "execution_count": 102,
   "metadata": {},
   "outputs": [
    {
     "data": {
      "text/plain": "<tf.Tensor: shape=(3,), dtype=float32, numpy=array([2., 4., 8.], dtype=float32)>"
     },
     "execution_count": 102,
     "metadata": {},
     "output_type": "execute_result"
    }
   ],
   "source": [
    "x = tf.constant([1.,2.,3.])\n",
    "# 指数运算\n",
    "2**x "
   ]
  },
  {
   "cell_type": "code",
   "execution_count": 103,
   "metadata": {},
   "outputs": [
    {
     "data": {
      "text/plain": "<tf.Tensor: shape=(), dtype=float32, numpy=2.7182817>"
     },
     "execution_count": 103,
     "metadata": {},
     "output_type": "execute_result"
    }
   ],
   "source": [
    "# 自然指数运算\n",
    "tf.exp(1.)"
   ]
  },
  {
   "cell_type": "code",
   "execution_count": 104,
   "metadata": {},
   "outputs": [
    {
     "data": {
      "text/plain": "<tf.Tensor: shape=(), dtype=float32, numpy=3.0>"
     },
     "execution_count": 104,
     "metadata": {},
     "output_type": "execute_result"
    }
   ],
   "source": [
    "x = tf.exp(3.)\n",
    "# 对数运算\n",
    "tf.math.log(x) "
   ]
  },
  {
   "cell_type": "code",
   "execution_count": 105,
   "metadata": {},
   "outputs": [
    {
     "data": {
      "text/plain": "<tf.Tensor: shape=(2,), dtype=float32, numpy=array([1., 2.], dtype=float32)>"
     },
     "execution_count": 105,
     "metadata": {},
     "output_type": "execute_result"
    }
   ],
   "source": [
    "x = tf.constant([1.,2.])\n",
    "x = 10**x\n",
    "# 换底公式\n",
    "tf.math.log(x)/tf.math.log(10.) "
   ]
  },
  {
   "cell_type": "markdown",
   "metadata": {},
   "source": [
    "### 矩阵相乘运算"
   ]
  },
  {
   "cell_type": "code",
   "execution_count": 106,
   "metadata": {},
   "outputs": [
    {
     "data": {
      "text/plain": "<tf.Tensor: shape=(4, 3, 28, 2), dtype=float32, numpy=\narray([[[[-5.03816605e-02,  9.41755104e+00],\n         [ 9.11813927e+00, -7.13765621e-03],\n         [ 1.85827088e+00,  1.46526122e+00],\n         [ 1.38339543e+00,  1.06010447e+01],\n         [ 2.18900299e+00,  1.16999626e-01],\n         [-7.51286411e+00,  1.02263374e+01],\n         [ 9.14592171e+00, -8.97595215e+00],\n         [ 3.31732607e+00, -4.61999512e+00],\n         [-4.46926880e+00,  1.15988169e+01],\n         [ 3.28379965e+00, -3.42672777e+00],\n         [ 4.30692387e+00, -2.93773365e+00],\n         [-5.21845007e+00,  7.17412758e+00],\n         [ 2.73756218e+00,  3.44028807e+00],\n         [-8.16803169e+00, -1.05504408e+01],\n         [-4.26098633e+00, -4.27289391e+00],\n         [-7.50063419e-01, -1.22206688e+01],\n         [ 4.55980682e+00,  1.35162425e+00],\n         [-6.06703091e+00, -6.76688480e+00],\n         [-1.50906658e+00, -6.29981041e-01],\n         [-1.00337362e+00,  1.74165535e+01],\n         [-4.60081100e+00, -7.68999004e+00],\n         [ 8.03388786e+00, -3.72432089e+00],\n         [ 3.33309221e+00, -7.38397837e+00],\n         [-4.23953629e+00, -4.31970215e+00],\n         [ 4.69871902e+00, -9.02613640e-01],\n         [-5.34074068e+00, -3.76469445e+00],\n         [-1.47915363e+00, -1.01471109e+01],\n         [ 2.83448720e+00,  9.77806330e-01]],\n\n        [[-2.26569176e+00,  1.40626359e+00],\n         [ 7.25508451e-01, -2.80202937e+00],\n         [ 1.60197759e+00, -2.16504669e+00],\n         [-1.43311703e+00,  2.58784080e+00],\n         [ 1.06361675e+01,  3.77638316e+00],\n         [ 2.60850370e-01,  3.68004155e+00],\n         [ 4.83959341e+00, -7.73661327e+00],\n         [ 8.02930164e+00, -9.33427334e-01],\n         [ 3.75447464e+00, -4.95095491e-01],\n         [-2.79782057e+00,  9.18912888e+00],\n         [ 5.92156553e+00, -1.10106440e+01],\n         [-5.86861372e+00,  1.60746527e+00],\n         [-1.17117143e+00,  3.62244606e+00],\n         [ 2.52095890e+00, -1.32089615e+01],\n         [ 2.79318976e+00,  8.20519543e+00],\n         [-5.88469076e+00,  9.33468437e+00],\n         [-3.65907431e-01, -1.23210764e+00],\n         [-4.27104044e+00,  9.04033947e+00],\n         [-7.28340626e+00,  5.54563522e-01],\n         [ 2.41412187e+00, -1.50446291e+01],\n         [ 3.04191947e-01, -5.31798935e+00],\n         [ 3.08852148e+00,  2.50388145e-01],\n         [ 5.68368793e-01, -4.11986399e+00],\n         [-8.37207317e+00,  1.01435966e+01],\n         [-1.43411694e+01,  1.53381383e+00],\n         [-1.31931412e+00,  4.17799520e+00],\n         [ 8.92203617e+00, -3.24261045e+00],\n         [-9.31853294e+00, -7.76309490e-01]],\n\n        [[ 6.58260250e+00, -8.75132084e-01],\n         [ 3.47617888e+00,  3.40944290e+00],\n         [ 2.09711790e+00, -4.43081498e-01],\n         [-7.93953705e+00, -1.15636730e+01],\n         [ 2.00799322e+00, -4.27007580e+00],\n         [ 7.03955770e-01, -1.22882128e-01],\n         [ 5.13499260e+00, -2.08366871e+00],\n         [ 5.22219276e+00,  6.02725315e+00],\n         [-9.30225849e-02,  3.73523426e+00],\n         [ 7.24387789e+00, -3.42555285e-01],\n         [ 4.29531002e+00,  1.99268889e+00],\n         [-2.91557002e+00, -5.15719461e+00],\n         [-1.36644192e+01, -5.72949791e+00],\n         [-6.33049965e+00, -3.05970287e+00],\n         [ 6.61113262e-01,  1.05142088e+01],\n         [-2.30341578e+00, -3.17294788e+00],\n         [-9.83108902e+00,  4.61936760e+00],\n         [ 2.29111600e+00, -6.01999664e+00],\n         [ 5.14727688e+00, -6.37997723e+00],\n         [ 3.11059165e+00, -1.10480185e+01],\n         [ 7.49757957e+00,  1.83532691e+00],\n         [-2.35785913e+00, -3.60953903e+00],\n         [ 1.52820969e+00,  5.65291023e+00],\n         [-1.24299564e+01,  6.47832537e+00],\n         [-1.36581688e+01,  5.96661139e+00],\n         [-5.42161942e+00, -1.48839045e+01],\n         [-3.68585443e+00, -1.50183892e+00],\n         [-1.10354862e+01,  1.10615234e+01]]],\n\n\n       [[[-7.92218924e-01, -8.43534946e-01],\n         [-1.21581917e+01, -2.58680320e+00],\n         [ 7.56494570e+00,  2.52453089e-02],\n         [ 2.40104580e+00, -3.66437912e-01],\n         [-4.80764771e+00,  4.58749437e+00],\n         [ 1.39844923e+01, -7.70990133e+00],\n         [-4.70841312e+00,  2.44061756e+00],\n         [ 7.12960291e+00,  4.12613392e+00],\n         [ 7.60312796e-01,  9.86166096e+00],\n         [ 2.46062493e+00,  3.53911662e+00],\n         [ 1.03056412e+01,  4.53076649e+00],\n         [ 4.98572874e+00, -4.37931061e-01],\n         [ 6.64314079e+00,  1.08147793e+01],\n         [ 8.47428799e+00,  3.20572281e+00],\n         [-5.84487581e+00,  7.37447357e+00],\n         [-4.94498253e+00, -4.54428291e+00],\n         [-7.49025536e+00, -3.48460746e+00],\n         [ 5.33587456e+00, -8.07051468e+00],\n         [-1.04605846e+01, -6.51065922e+00],\n         [ 1.15368538e+01,  5.79686928e+00],\n         [ 2.92456865e-01, -3.84500551e+00],\n         [ 2.92412043e+00,  3.68558264e+00],\n         [-7.02180862e-02,  5.81960821e+00],\n         [ 1.75830531e+00, -3.25790882e-01],\n         [-6.70765972e+00,  1.26072574e+00],\n         [ 1.16603317e+01, -3.18123055e+00],\n         [-6.73396111e-01, -5.06436539e+00],\n         [ 2.30962348e+00, -4.14885998e-01]],\n\n        [[ 8.95919037e+00,  4.33647251e+00],\n         [ 7.66929984e-01,  4.31582451e+00],\n         [-2.73518062e+00, -5.13849735e+00],\n         [-1.13563795e+01, -1.65754330e+00],\n         [ 3.50592136e+00,  2.84003329e+00],\n         [ 1.59435272e-02, -1.07880378e+00],\n         [ 1.05656395e+01,  2.50366545e+00],\n         [ 6.62919807e+00, -4.83549213e+00],\n         [ 4.63197374e+00, -2.27262855e-01],\n         [ 3.93887997e+00,  1.37131143e+00],\n         [-2.52802420e+00, -4.48608398e-03],\n         [-4.06321049e+00, -2.40873051e+00],\n         [ 4.88670063e+00, -1.63928056e+00],\n         [ 1.46072483e+00,  2.39551830e+00],\n         [ 1.34764500e+01, -4.85647726e+00],\n         [-7.98539925e+00,  3.38328266e+00],\n         [ 6.11791039e+00,  3.36844683e+00],\n         [ 1.86369181e-01,  6.97521496e+00],\n         [ 9.93519974e+00,  9.12978172e+00],\n         [ 3.20402527e+00, -9.14037991e+00],\n         [ 4.59966421e-01,  3.11041665e+00],\n         [ 1.34472609e+00, -2.76661253e+00],\n         [-1.35026169e+00, -1.06189823e+01],\n         [-3.17010951e+00, -1.06751585e+00],\n         [-1.13270988e+01, -3.30416775e+00],\n         [-5.57865524e+00,  1.22598171e+00],\n         [ 1.72179222e+00,  6.09037113e+00],\n         [ 8.92912769e+00, -1.02396965e+01]],\n\n        [[-1.29627686e+01,  2.36261654e+00],\n         [ 1.16280756e+01, -3.80419302e+00],\n         [ 2.37547350e+00,  1.27378225e+00],\n         [-5.11380386e+00,  1.08734167e+00],\n         [ 1.92122245e+00,  1.03497486e+01],\n         [ 2.53079510e+00, -6.59122372e+00],\n         [ 2.22034001e+00,  2.08951235e+00],\n         [ 1.05096283e+01,  3.12888575e+00],\n         [ 6.00574684e+00, -5.39655972e+00],\n         [-3.08538580e+00,  4.49689150e+00],\n         [ 6.89373779e+00, -6.51993465e+00],\n         [ 6.98223782e+00, -2.33050251e+00],\n         [ 2.94840384e+00, -4.70378590e+00],\n         [ 3.49064970e+00, -7.26492023e+00],\n         [-9.41057968e+00, -5.59430218e+00],\n         [ 5.51242495e+00,  5.76985550e+00],\n         [-4.26935863e+00,  4.58638287e+00],\n         [ 4.57485485e+00, -6.37778854e+00],\n         [ 2.51553679e+00,  7.35964537e+00],\n         [-2.61543512e+00, -3.87148809e+00],\n         [ 1.75752296e+01, -7.34566450e-01],\n         [-5.26454687e+00, -2.31767464e+00],\n         [-2.76644897e+00,  1.30912173e+00],\n         [-6.87557793e+00, -1.35569942e+00],\n         [-4.41610622e+00,  2.55598283e+00],\n         [ 4.38373566e-01, -2.47077656e+00],\n         [-2.62016869e+00,  2.15348196e+00],\n         [ 2.41516542e+00, -1.28104711e+00]]],\n\n\n       [[[-3.68602562e+00,  1.32638884e+00],\n         [-3.61307716e+00, -1.17166386e+01],\n         [ 7.74752235e+00,  2.30171585e+00],\n         [-5.88542700e-01,  8.21978450e-01],\n         [ 8.00015736e+00, -2.77433586e+00],\n         [-6.20511961e+00,  5.33350420e+00],\n         [-5.67609692e+00, -1.54214811e+01],\n         [ 1.04734898e+00, -5.54326010e+00],\n         [-1.11296883e+01,  2.87236071e+00],\n         [-7.78093052e+00, -3.28907871e+00],\n         [-7.39693403e+00,  2.21702719e+00],\n         [ 3.70237470e+00, -4.70802832e+00],\n         [-2.09362078e+00,  1.32110071e+00],\n         [ 3.77494144e+00, -1.19584918e+00],\n         [-2.10150099e+00,  4.68964100e+00],\n         [ 8.19722652e+00, -1.24175110e+01],\n         [-2.48913836e+00, -1.14634132e+00],\n         [-4.79838133e+00, -9.68214512e-01],\n         [-2.12585330e+00, -8.37380171e-01],\n         [-4.17491388e+00, -5.28382111e+00],\n         [ 3.09679270e+00, -1.07916107e+01],\n         [ 7.47267818e+00,  5.17812967e+00],\n         [ 1.67009163e+00,  1.56936741e+00],\n         [-9.08232880e+00, -7.56634426e+00],\n         [-4.66320086e+00, -5.09338284e+00],\n         [ 8.76774597e+00,  4.89301634e+00],\n         [ 5.32347918e+00,  7.61572719e-01],\n         [-1.03740110e+01,  5.98136044e+00]],\n\n        [[-3.66515326e+00,  4.83526611e+00],\n         [ 3.91778374e+00,  7.45902920e+00],\n         [-8.49939060e+00, -3.17753029e+00],\n         [ 2.78192461e-01, -6.66442060e+00],\n         [-3.14043403e-01, -3.50529814e+00],\n         [ 1.87615359e+00, -3.89004660e+00],\n         [-3.07517195e+00,  8.98220539e+00],\n         [-8.87365437e+00, -3.07767200e+00],\n         [ 7.34158278e+00, -7.29409218e-01],\n         [-1.97830296e+00,  1.00381947e+01],\n         [-4.08646202e+00, -2.01674509e+00],\n         [-8.28218460e-02, -4.94094181e+00],\n         [-4.80510616e+00,  1.34860611e+01],\n         [ 3.78058243e+00,  4.34109068e+00],\n         [-5.75589037e+00, -2.06044102e+00],\n         [ 6.32900596e-01,  9.01660824e+00],\n         [-3.99829912e+00,  8.30180359e+00],\n         [-7.42952061e+00,  1.08829050e+01],\n         [-4.98207426e+00,  4.43727350e+00],\n         [ 3.33387780e+00,  6.74727011e+00],\n         [-1.48291278e+00,  1.09966612e+00],\n         [ 6.92818642e+00,  1.88907862e+00],\n         [ 3.24948359e+00, -3.34773040e+00],\n         [-8.20513546e-01, -3.04170394e+00],\n         [ 1.52375364e+00,  1.36396408e+00],\n         [-5.47894061e-01,  2.30204535e+00],\n         [-9.02375603e+00,  3.10114551e+00],\n         [ 3.09129047e+00, -8.18929768e+00]],\n\n        [[ 7.73396492e-02,  8.92685604e+00],\n         [ 9.55582619e+00, -9.87090111e-01],\n         [ 1.14051795e+00, -8.75947475e-01],\n         [ 2.75476933e-01,  2.10286188e+00],\n         [-3.28131866e+00, -4.32403755e+00],\n         [ 2.31909275e-01, -1.01465797e+00],\n         [-5.88199902e+00,  1.20087261e+01],\n         [ 3.41642523e+00, -9.89238548e+00],\n         [-2.88885379e+00, -3.99596643e+00],\n         [-3.34968543e+00, -1.31456013e+01],\n         [-1.75450695e+00,  1.74411392e+00],\n         [-5.89395761e+00, -5.42291832e+00],\n         [ 8.12220383e+00, -2.95932317e+00],\n         [-1.06891241e+01, -6.50688267e+00],\n         [ 8.22596550e-02, -8.21989822e+00],\n         [-8.60919094e+00,  7.39520645e+00],\n         [-7.68524504e+00,  1.71012402e+00],\n         [ 4.14747906e+00, -5.54770088e+00],\n         [-1.16769009e+01, -4.02542114e-01],\n         [-2.03183126e+00, -8.23387909e+00],\n         [ 3.58968496e+00, -6.51600599e+00],\n         [ 3.21885347e+00,  9.92780113e+00],\n         [ 2.35590029e+00, -3.53469062e+00],\n         [-3.65837908e+00, -3.48645306e+00],\n         [-2.43496084e+00,  5.30222797e+00],\n         [-1.34964848e+00, -1.02707825e+01],\n         [ 6.78477812e+00,  4.57968426e+00],\n         [-4.36515522e+00,  3.33252096e+00]]],\n\n\n       [[[ 3.29500389e+00, -1.02513075e-01],\n         [-3.09986591e-01,  1.95823801e+00],\n         [ 2.49075317e+00,  5.14945650e+00],\n         [ 1.73475981e-01,  3.26502705e+00],\n         [-1.31205535e+00, -1.51835966e+00],\n         [ 6.26922965e-01,  5.97069311e+00],\n         [-4.75775909e+00, -6.25295782e+00],\n         [-4.63208723e+00, -8.49571466e-01],\n         [ 3.00884843e+00, -4.20376587e+00],\n         [-3.83699846e+00,  5.05562878e+00],\n         [ 1.07408476e+00,  6.71339703e+00],\n         [-8.35169673e-01, -5.34205914e+00],\n         [ 3.78200865e+00,  2.67508411e+00],\n         [ 3.85823369e+00,  3.13351440e+00],\n         [ 1.02457743e+01,  4.67535019e+00],\n         [-3.49334478e+00, -8.31907749e+00],\n         [-4.43957329e+00,  7.77141047e+00],\n         [-2.96069932e+00,  6.96215749e-01],\n         [ 1.13377035e+00,  3.64133501e+00],\n         [-1.11975789e+00, -4.69824076e-01],\n         [-1.88690758e+00,  9.03413296e-02],\n         [-4.30557728e+00, -8.80949116e+00],\n         [ 3.69130373e+00, -2.42968321e+00],\n         [ 2.03857183e+00,  3.16186833e+00],\n         [ 4.38849354e+00,  2.58543015e-01],\n         [ 1.27735977e+01, -1.96017075e+00],\n         [-3.45631361e+00,  3.62243271e+00],\n         [-4.28846598e+00,  1.00701237e+00]],\n\n        [[-5.94561958e+00,  5.76221466e+00],\n         [-5.66244602e+00, -4.12535429e-01],\n         [-3.94596815e+00,  2.47807717e+00],\n         [-4.74831200e+00, -1.89282370e+00],\n         [ 6.58671618e+00, -7.63435650e+00],\n         [ 8.11925507e+00, -2.11799002e+00],\n         [ 3.92602921e-01,  2.17895508e-01],\n         [ 2.20626688e+00,  8.11856079e+00],\n         [ 9.09686661e+00, -2.31512189e+00],\n         [-3.08571482e+00, -6.26051378e+00],\n         [ 5.43787479e+00, -5.32728910e-01],\n         [-3.14229441e+00, -9.21788120e+00],\n         [-3.14308572e+00,  1.54107893e+00],\n         [-2.49198866e+00,  2.16929150e+00],\n         [-5.65871811e+00,  1.01377892e+00],\n         [-1.73430896e+00, -5.75552845e+00],\n         [-5.30229807e+00, -9.35595226e+00],\n         [-7.07722425e-01,  6.54547691e-01],\n         [ 1.60876846e+00, -6.44863367e+00],\n         [-7.02412462e+00, -2.70186853e+00],\n         [-1.01284294e+01,  2.97586346e+00],\n         [ 6.02737188e+00, -1.54984975e+00],\n         [-7.90165043e+00,  8.53829861e+00],\n         [ 8.28115654e+00, -3.06271744e+00],\n         [ 2.46620941e+00, -2.65474749e+00],\n         [ 3.47833085e+00, -2.21306109e+00],\n         [-7.47560644e+00,  2.80822492e+00],\n         [ 6.92832565e+00,  1.09937277e+01]],\n\n        [[-4.44651031e+00, -5.05435109e-01],\n         [-2.12471938e+00, -7.95261002e+00],\n         [ 1.03140793e+01,  4.81693983e+00],\n         [-2.38549590e+00, -8.59447289e+00],\n         [-1.82002087e+01, -4.28280163e+00],\n         [ 2.81003976e+00,  9.06955147e+00],\n         [-7.30609989e+00, -2.59632540e+00],\n         [-1.49040689e+01, -6.57062149e+00],\n         [ 3.26176929e+00,  1.02944918e+01],\n         [-7.81082678e+00, -5.42506695e+00],\n         [ 5.72300386e+00,  1.73849621e+01],\n         [-4.09058905e+00, -5.99374676e+00],\n         [-2.29877663e+00, -1.33254547e+01],\n         [-1.50606656e+00, -1.26979799e+01],\n         [-4.28209543e-01, -6.12575817e+00],\n         [-5.96602917e-01,  3.39204931e+00],\n         [ 5.37896538e+00,  1.66171894e+01],\n         [ 1.00319281e+01, -5.40760756e-01],\n         [-3.70707512e+00,  1.07041001e+00],\n         [-8.60360718e+00, -8.28041840e+00],\n         [ 1.23408957e+01,  7.09336662e+00],\n         [-6.05431604e+00, -1.40007031e+00],\n         [-1.64251590e+00, -3.35874176e+00],\n         [-3.16519761e+00, -1.36362104e+01],\n         [-1.84475374e+00,  4.15152979e+00],\n         [ 9.80023861e-01,  5.44531345e-02],\n         [ 1.11513972e+00,  6.93940878e-01],\n         [ 2.38533783e+00,  6.00762939e+00]]]], dtype=float32)>"
     },
     "execution_count": 106,
     "metadata": {},
     "output_type": "execute_result"
    }
   ],
   "source": [
    "a = tf.random.normal([4,3,28,32])\n",
    "b = tf.random.normal([4,3,32,2])\n",
    "# 批量形式的矩阵相乘\n",
    "a@b"
   ]
  },
  {
   "cell_type": "code",
   "execution_count": 107,
   "metadata": {
    "scrolled": true
   },
   "outputs": [
    {
     "data": {
      "text/plain": "<tf.Tensor: shape=(4, 28, 16), dtype=float32, numpy=\narray([[[ -0.15380907, -11.910168  ,   4.5558305 , ...,   3.7024941 ,\n          -1.3287826 ,  -9.740179  ],\n        [  4.1509304 ,  -0.9834298 ,   0.10856193, ...,   6.8891015 ,\n         -21.360727  ,  -3.0967412 ],\n        [  5.4492884 , -10.116409  ,  -1.1476996 , ...,  -2.265897  ,\n          -7.024799  ,  -8.691474  ],\n        ...,\n        [  4.140874  ,   1.8596416 ,   4.921854  , ...,  -1.6699654 ,\n          -0.03183824,   0.25557327],\n        [  1.551984  ,  -2.860134  ,  -0.41612923, ...,  -6.5785847 ,\n           2.8513193 ,  -8.692213  ],\n        [  2.0091407 ,   3.488028  ,  -1.2510391 , ...,  -2.4011335 ,\n           1.0429789 ,   1.9661808 ]],\n\n       [[  0.07668328,   3.7122054 ,  -0.07208449, ...,   1.3565733 ,\n          -3.5636034 ,  -0.9158172 ],\n        [ -9.15563   ,   0.7576558 ,   6.023716  , ...,  -2.6976554 ,\n           1.1483369 ,   1.0818725 ],\n        [ -8.289948  ,  -5.0966716 ,  -5.1595545 , ...,   3.8429625 ,\n          -0.5257058 ,   2.0901172 ],\n        ...,\n        [ 10.511154  ,  -2.960326  ,  -0.07470016, ...,   5.9003634 ,\n          -1.534126  ,   2.1192787 ],\n        [ -7.784682  ,   1.223995  ,  -3.589139  , ...,   4.283901  ,\n          -1.3343499 ,  10.102636  ],\n        [ -7.750559  , -21.266779  ,  -0.18979919, ...,  -7.4918895 ,\n          13.13497   ,  12.111445  ]],\n\n       [[ -0.5051215 ,   2.0253272 ,  -0.20834379, ...,   1.1882182 ,\n          -2.1164484 ,  -9.274269  ],\n        [ -6.3293567 ,   3.674569  ,   5.8296328 , ...,  -4.5758376 ,\n           9.414843  ,  -6.4288416 ],\n        [  5.96644   ,  -0.50167745,  -4.93379   , ...,   0.9925796 ,\n          -6.9517736 ,  -0.45306057],\n        ...,\n        [ -1.2807313 ,  11.352193  ,  -2.8677473 , ...,  -6.70332   ,\n          -2.1706052 ,  -2.7991822 ],\n        [ -1.7099787 ,  -2.3035972 ,  -1.8295946 , ...,   8.084238  ,\n          -2.5264525 ,   2.807478  ],\n        [ -1.4599155 ,   8.103004  ,  -0.55427635, ...,  -0.7173382 ,\n           1.6237869 ,  -3.5304182 ]],\n\n       [[ -8.230265  ,  16.824377  ,   1.5293065 , ...,   0.91300356,\n          -4.1887465 ,   3.6239882 ],\n        [ -1.106318  ,  -3.8449235 ,   2.2934682 , ...,  -2.8388412 ,\n          15.075814  ,  -2.193154  ],\n        [  3.8262095 , -11.384543  ,   2.458274  , ...,  11.426045  ,\n         -10.450113  ,   0.07029834],\n        ...,\n        [ -6.082424  , -12.934335  ,   7.9749346 , ...,  10.084546  ,\n         -12.173203  ,  -2.6866713 ],\n        [ -0.58628523,  -7.8081727 ,   1.6881549 , ...,  -2.3064704 ,\n           7.9823294 ,  -3.7770243 ],\n        [  2.8090625 ,   6.0284634 ,   3.114656  , ...,  -5.011906  ,\n          11.195823  ,   8.482583  ]]], dtype=float32)>"
     },
     "execution_count": 107,
     "metadata": {},
     "output_type": "execute_result"
    }
   ],
   "source": [
    "a = tf.random.normal([4,28,32])\n",
    "b = tf.random.normal([32,16])\n",
    "# 先自动扩展，再矩阵相乘\n",
    "tf.matmul(a,b)"
   ]
  },
  {
   "cell_type": "markdown",
   "metadata": {},
   "source": [
    "## 前向传播实战"
   ]
  },
  {
   "cell_type": "code",
   "execution_count": 108,
   "metadata": {},
   "outputs": [],
   "source": [
    "import matplotlib.pyplot as plt\n",
    "import tensorflow as tf\n",
    "import tensorflow.keras.datasets as datasets\n",
    "\n",
    "plt.rcParams['font.size'] = 16\n",
    "plt.rcParams['font.family'] = ['STKaiti']\n",
    "plt.rcParams['axes.unicode_minus'] = False"
   ]
  },
  {
   "cell_type": "code",
   "execution_count": 109,
   "metadata": {},
   "outputs": [],
   "source": [
    "def load_data():\n",
    "    # 加载 MNIST 数据集\n",
    "    (x, y), (x_val, y_val) = datasets.mnist.load_data()\n",
    "    # 转换为浮点张量， 并缩放到-1~1\n",
    "    x = tf.convert_to_tensor(x, dtype=tf.float32) / 255.\n",
    "    # 转换为整形张量\n",
    "    y = tf.convert_to_tensor(y, dtype=tf.int32)\n",
    "    # one-hot 编码\n",
    "    y = tf.one_hot(y, depth=10)\n",
    "\n",
    "    # 改变视图， [b, 28, 28] => [b, 28*28]\n",
    "    x = tf.reshape(x, (-1, 28 * 28))\n",
    "\n",
    "    # 构建数据集对象\n",
    "    train_dataset = tf.data.Dataset.from_tensor_slices((x, y))\n",
    "    # 批量训练\n",
    "    train_dataset = train_dataset.batch(200)\n",
    "    return train_dataset"
   ]
  },
  {
   "cell_type": "code",
   "execution_count": 110,
   "metadata": {},
   "outputs": [],
   "source": [
    "def init_paramaters():\n",
    "    # 每层的张量都需要被优化，故使用 Variable 类型，并使用截断的正太分布初始化权值张量\n",
    "    # 偏置向量初始化为 0 即可\n",
    "    # 第一层的参数\n",
    "    w1 = tf.Variable(tf.random.truncated_normal([784, 256], stddev=0.1))\n",
    "    b1 = tf.Variable(tf.zeros([256]))\n",
    "    # 第二层的参数\n",
    "    w2 = tf.Variable(tf.random.truncated_normal([256, 128], stddev=0.1))\n",
    "    b2 = tf.Variable(tf.zeros([128]))\n",
    "    # 第三层的参数\n",
    "    w3 = tf.Variable(tf.random.truncated_normal([128, 10], stddev=0.1))\n",
    "    b3 = tf.Variable(tf.zeros([10]))\n",
    "    return w1, b1, w2, b2, w3, b3"
   ]
  },
  {
   "cell_type": "code",
   "execution_count": 111,
   "metadata": {},
   "outputs": [],
   "source": [
    "def train_epoch(epoch, train_dataset, w1, b1, w2, b2, w3, b3, lr=0.001):\n",
    "    for step, (x, y) in enumerate(train_dataset):\n",
    "        with tf.GradientTape() as tape:\n",
    "            # 第一层计算， [b, 784]@[784, 256] + [256] => [b, 256] + [256] => [b,256] + [b, 256]\n",
    "            h1 = x @ w1 + tf.broadcast_to(b1, (x.shape[0], 256))\n",
    "            h1 = tf.nn.relu(h1)  # 通过激活函数\n",
    "\n",
    "            # 第二层计算， [b, 256] => [b, 128]\n",
    "            h2 = h1 @ w2 + b2\n",
    "            h2 = tf.nn.relu(h2)\n",
    "            # 输出层计算， [b, 128] => [b, 10]\n",
    "            out = h2 @ w3 + b3\n",
    "\n",
    "            # 计算网络输出与标签之间的均方差， mse = mean(sum(y-out)^2)\n",
    "            # [b, 10]\n",
    "            loss = tf.square(y - out)\n",
    "            # 误差标量， mean: scalar\n",
    "            loss = tf.reduce_mean(loss)\n",
    "\n",
    "            # 自动梯度，需要求梯度的张量有[w1, b1, w2, b2, w3, b3]\n",
    "            grads = tape.gradient(loss, [w1, b1, w2, b2, w3, b3])\n",
    "\n",
    "        # 梯度更新， assign_sub 将当前值减去参数值，原地更新\n",
    "        w1.assign_sub(lr * grads[0])\n",
    "        b1.assign_sub(lr * grads[1])\n",
    "        w2.assign_sub(lr * grads[2])\n",
    "        b2.assign_sub(lr * grads[3])\n",
    "        w3.assign_sub(lr * grads[4])\n",
    "        b3.assign_sub(lr * grads[5])    \n",
    "    \n",
    "    return loss.numpy()"
   ]
  },
  {
   "cell_type": "code",
   "execution_count": 112,
   "metadata": {},
   "outputs": [],
   "source": [
    "def train(epochs):\n",
    "    losses = []\n",
    "    train_dataset = load_data()\n",
    "    w1, b1, w2, b2, w3, b3 = init_paramaters()\n",
    "    for epoch in range(epochs):\n",
    "        loss = train_epoch(epoch, train_dataset, w1, b1, w2, b2, w3, b3, lr=0.001)\n",
    "        print('epoch:', epoch, 'loss:', loss)\n",
    "        losses.append(loss)\n",
    "\n",
    "    x = [i for i in range(0, epochs)]\n",
    "    # 绘制曲线\n",
    "    plt.plot(x, losses, color='blue', marker='s', label='训练')\n",
    "    plt.xlabel('Epoch')\n",
    "    plt.ylabel('MSE')\n",
    "    plt.legend()\n",
    "    plt.show()"
   ]
  },
  {
   "cell_type": "code",
   "execution_count": 113,
   "metadata": {},
   "outputs": [
    {
     "name": "stdout",
     "output_type": "stream",
     "text": [
      "epoch: 0 loss: 0.16705509\n",
      "epoch: 1 loss: 0.1512174\n",
      "epoch: 2 loss: 0.13895\n",
      "epoch: 3 loss: 0.12924188\n",
      "epoch: 4 loss: 0.121448986\n",
      "epoch: 5 loss: 0.11503627\n",
      "epoch: 6 loss: 0.10966545\n",
      "epoch: 7 loss: 0.10508038\n",
      "epoch: 8 loss: 0.10109352\n",
      "epoch: 9 loss: 0.09759166\n",
      "epoch: 10 loss: 0.09449951\n",
      "epoch: 11 loss: 0.09175136\n",
      "epoch: 12 loss: 0.08927833\n",
      "epoch: 13 loss: 0.087039605\n",
      "epoch: 14 loss: 0.08501296\n",
      "epoch: 15 loss: 0.08316289\n",
      "epoch: 16 loss: 0.081457056\n",
      "epoch: 17 loss: 0.07987463\n",
      "epoch: 18 loss: 0.07841002\n",
      "epoch: 19 loss: 0.077045806\n"
     ]
    },
    {
     "data": {
      "text/plain": "<Figure size 432x288 with 1 Axes>",
      "image/png": "[encoded data removed]"
     },
     "metadata": {
      "needs_background": "light"
     },
     "output_type": "display_data"
    }
   ],
   "source": [
    "train(epochs=20)"
   ]
  },
  {
   "cell_type": "code",
   "execution_count": 113,
   "metadata": {},
   "outputs": [],
   "source": []
  }
 ],
 "metadata": {
  "kernelspec": {
   "display_name": "Python 3",
   "language": "python",
   "name": "python3"
  },
  "language_info": {
   "codemirror_mode": {
    "name": "ipython",
    "version": 3
   },
   "file_extension": ".py",
   "mimetype": "text/x-python",
   "name": "python",
   "nbconvert_exporter": "python",
   "pygments_lexer": "ipython3",
   "version": "3.7.2"
  },
  "toc": {
   "base_numbering": 1,
   "nav_menu": {},
   "number_sections": true,
   "sideBar": true,
   "skip_h1_title": false,
   "title_cell": "Table of Contents",
   "title_sidebar": "Contents",
   "toc_cell": false,
   "toc_position": {
    "height": "calc(100% - 180px)",
    "left": "10px",
    "top": "150px",
    "width": "273.188px"
   },
   "toc_section_display": true,
   "toc_window_display": true
  }
 },
 "nbformat": 4,
 "nbformat_minor": 1
}