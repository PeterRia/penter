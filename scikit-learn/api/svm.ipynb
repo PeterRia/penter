{
 "cells": [
  {
   "cell_type": "markdown",
   "metadata": {
    "collapsed": true,
    "pycharm": {
     "name": "#%% md\n"
    }
   },
   "source": [
    "# 支持向量机 sklearn.svm: Support Vector Machines\n",
    "SVM在解决分类问题具有良好的效果，出名的软件包有libsvm(支持多种核函数),liblinear\n",
    "sklearn.svm.SVC和sklearn.svm.LinearSVC 分别由libsvm和liblinear发展而来。\n",
    "## svm.SVC 、svm.LinearSVC 、svm.NuSVC 分类问题\n",
    "## svm.SVR 、svm.LinearSVR 、svm.NuSVR 回归问题"
   ]
  },
  {
   "cell_type": "code",
   "execution_count": null,
   "outputs": [],
   "source": [
    "\n"
   ],
   "metadata": {
    "collapsed": false,
    "pycharm": {
     "name": "#%%\n"
    }
   }
  }
 ],
 "metadata": {
  "kernelspec": {
   "display_name": "Python 3",
   "language": "python",
   "name": "python3"
  },
  "language_info": {
   "codemirror_mode": {
    "name": "ipython",
    "version": 2
   },
   "file_extension": ".py",
   "mimetype": "text/x-python",
   "name": "python",
   "nbconvert_exporter": "python",
   "pygments_lexer": "ipython2",
   "version": "2.7.6"
  }
 },
 "nbformat": 4,
 "nbformat_minor": 0
}