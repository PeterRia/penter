{
 "cells": [
  {
   "cell_type": "markdown",
   "metadata": {
    "collapsed": true,
    "pycharm": {
     "name": "#%% md\n"
    }
   },
   "source": [
    "# transformer\n",
    "## sklearn.preprocessing 数据预处理\n",
    "- 数据的集成：merge、concat、join、combine_first；\n",
    "- 数据类型转换：字符串处理（正则表达式）、数据类型转换（astype)、时间序列处理（to_datetime）等；\n",
    "- 缺失值处理：查找、定位、删除、填充等；\n",
    "- 重复值处理：查找、定位、删除等；\n",
    "- 异常值处理：根据原理自定义函数处理异常数据（不推荐）；\n",
    "- 特征修改：增加、删除、变换（简单函数变换）、离散化等；\n",
    "- 数据抽样：简单随机抽样、分层抽样等；\n",
    "\n",
    "...\n",
    "### 标准化\n",
    "- StandardScaler\n",
    "Standardization标准化:将特征数据的分布调整成标准正太分布，也叫高斯分布，也就是使得数据的均值维0，方差为1\n",
    "\n",
    "- MinMaxScaler\n",
    "最小-最大规范化对原始数据进行线性变换，变换到[0,1]区间（也可以是其他固定最小最大值的区间）每个特征中的最小值变成了0，最大值变成了1.\n",
    "\n",
    "- MaxAbsScaler\n",
    "- RobustScaler\n",
    "\n",
    "### 非线性变换\n",
    "- QuantileTransformer\n",
    "- PowerTransformer\n",
    "\n",
    "### 正则化（ Normalizer）\n",
    "- Normalizer\n",
    "\n",
    "### 编码分类特征\n",
    "- OrdinalEncoder\n",
    "特征专用，能够将分类特征转换为分类数值。\n",
    "\n",
    "- OneHotEncoder\n",
    "独热编码，比如一组特征[0,1] 那么 one-hot 就会使用两位来表示这个特征，[1,0] 表示 0， [0,1] 表示 1\n",
    "\n",
    "- LabelEncoder\n",
    "标签专用，能够将分类转换为分类数值。\n",
    "\n",
    "### 离散化\n",
    "\n",
    "- Binarizer\n",
    "二值化\n",
    "\n",
    "- KBinsDiscretizer\n",
    "k个等宽箱的离散化特征，默认情况下，输出是one-hot编码成稀疏矩阵，并且可以使用encode参数。对于每个特性，在fit再加上分箱的数量，他们会定义间隔。\n",
    "\n",
    "### 缺失值处理（Imputer）\n",
    "最新的0.20.0版本的scikit-learn中，Imputer好象是被取代了换成了sklearn.impute这里面包含两个类：\n",
    "sklearn.impute.SimpleImputer 0.20\n",
    "sklearn.impute.MissingIndicator 0.20\n",
    "sklearn.impute.IterativeImputer 0.21\n",
    "sklearn.impute.KNNImputer 0.22\n",
    "\n",
    "### 生成多项式特征（PolynomialFeatures）\n",
    "- PolynomialFeatures\n",
    "\n",
    "### 自定义转换器\n",
    "\n",
    "- FunctionTransformer\n",
    "自定义函数处理\n",
    "\n",
    "## sklearn.impute 缺失值处理\n",
    "- sklearn.impute.SimpleImputer\n",
    "- sklearn.impute.MissingIndicator\n",
    "- sklearn.impute.IterativeImputer\n",
    "- sklearn.impute.KNNImputer\n",
    "\n",
    "\n",
    "## sklearn.decomposition 矩阵分解\n",
    "矩阵分解可以用在降维，深度学习，聚类分析，数据预处理，低纬度特征学习，推荐系统，大数据分析等领域。\n",
    "\n",
    "奇异值分解SVD(Singular value decomposition)和主成分分析PCA(Principal Components Analysis)都属于矩阵分解算法中的入门算法，都是通过分解特征矩阵来进行降维。\n",
    "[如何理解主元分析（PCA）？](https://matongxue.blog.csdn.net/article/details/82254488)\n",
    "\n",
    "## sklearn.random_projection 随机投影\n",
    "降维技术\n",
    "\n",
    "- GaussianRandomProjection\n",
    "通过高斯随机投影进行降维。\n",
    "\n",
    "- SparseRandomProjection\n",
    "通过稀疏随机投影进行降维。\n",
    "\n",
    "## sklearn.kernel_approximation Kernel Approximation 内核近似\n",
    "基本上是用来做数据转换的\n",
    "\n",
    "## sklearn.feature_extraction: Feature Extraction 特征提取\n",
    "- DictVectorizer\n",
    "总字典中提取特征，可以看成是数据转换\n",
    "\n",
    "- FeatureHasher\n",
    "特征哈希\n",
    "可以指定特征个数"
   ]
  },
  {
   "cell_type": "code",
   "execution_count": 1,
   "outputs": [
    {
     "name": "stderr",
     "output_type": "stream",
     "text": [
      "D:\\ProgramData\\Anaconda3\\envs\\penter\\lib\\site-packages\\setuptools\\distutils_patch.py:25: UserWarning: Distutils was imported before Setuptools. This usage is discouraged and may exhibit undesirable behaviors or errors. Please use Setuptools' objects directly or at least import Setuptools first.\n",
      "  warnings.warn(\n"
     ]
    },
    {
     "data": {
      "text/plain": "[('AdditiveChi2Sampler', sklearn.kernel_approximation.AdditiveChi2Sampler),\n ('BernoulliRBM', sklearn.neural_network._rbm.BernoulliRBM),\n ('Binarizer', sklearn.preprocessing._data.Binarizer),\n ('Birch', sklearn.cluster._birch.Birch),\n ('CCA', sklearn.cross_decomposition._pls.CCA),\n ('ColumnTransformer', sklearn.compose._column_transformer.ColumnTransformer),\n ('DictVectorizer',\n  sklearn.feature_extraction._dict_vectorizer.DictVectorizer),\n ('DictionaryLearning',\n  sklearn.decomposition._dict_learning.DictionaryLearning),\n ('FactorAnalysis', sklearn.decomposition._factor_analysis.FactorAnalysis),\n ('FastICA', sklearn.decomposition._fastica.FastICA),\n ('FeatureAgglomeration', sklearn.cluster._agglomerative.FeatureAgglomeration),\n ('FeatureHasher', sklearn.feature_extraction._hash.FeatureHasher),\n ('FeatureUnion', sklearn.pipeline.FeatureUnion),\n ('FunctionTransformer',\n  sklearn.preprocessing._function_transformer.FunctionTransformer),\n ('GaussianRandomProjection',\n  sklearn.random_projection.GaussianRandomProjection),\n ('GenericUnivariateSelect',\n  sklearn.feature_selection._univariate_selection.GenericUnivariateSelect),\n ('HashingVectorizer', sklearn.feature_extraction.text.HashingVectorizer),\n ('IncrementalPCA', sklearn.decomposition._incremental_pca.IncrementalPCA),\n ('Isomap', sklearn.manifold._isomap.Isomap),\n ('IsotonicRegression', sklearn.isotonic.IsotonicRegression),\n ('IterativeImputer', sklearn.impute._iterative.IterativeImputer),\n ('KBinsDiscretizer', sklearn.preprocessing._discretization.KBinsDiscretizer),\n ('KMeans', sklearn.cluster._kmeans.KMeans),\n ('KNNImputer', sklearn.impute._knn.KNNImputer),\n ('KNeighborsTransformer', sklearn.neighbors._graph.KNeighborsTransformer),\n ('KernelCenterer', sklearn.preprocessing._data.KernelCenterer),\n ('KernelPCA', sklearn.decomposition._kernel_pca.KernelPCA),\n ('LabelBinarizer', sklearn.preprocessing._label.LabelBinarizer),\n ('LabelEncoder', sklearn.preprocessing._label.LabelEncoder),\n ('LatentDirichletAllocation',\n  sklearn.decomposition._lda.LatentDirichletAllocation),\n ('LinearDiscriminantAnalysis',\n  sklearn.discriminant_analysis.LinearDiscriminantAnalysis),\n ('LocallyLinearEmbedding',\n  sklearn.manifold._locally_linear.LocallyLinearEmbedding),\n ('MaxAbsScaler', sklearn.preprocessing._data.MaxAbsScaler),\n ('MinMaxScaler', sklearn.preprocessing._data.MinMaxScaler),\n ('MiniBatchDictionaryLearning',\n  sklearn.decomposition._dict_learning.MiniBatchDictionaryLearning),\n ('MiniBatchKMeans', sklearn.cluster._kmeans.MiniBatchKMeans),\n ('MiniBatchSparsePCA', sklearn.decomposition._sparse_pca.MiniBatchSparsePCA),\n ('MissingIndicator', sklearn.impute._base.MissingIndicator),\n ('MultiLabelBinarizer', sklearn.preprocessing._label.MultiLabelBinarizer),\n ('NMF', sklearn.decomposition._nmf.NMF),\n ('NeighborhoodComponentsAnalysis',\n  sklearn.neighbors._nca.NeighborhoodComponentsAnalysis),\n ('Normalizer', sklearn.preprocessing._data.Normalizer),\n ('Nystroem', sklearn.kernel_approximation.Nystroem),\n ('OneHotEncoder', sklearn.preprocessing._encoders.OneHotEncoder),\n ('OrdinalEncoder', sklearn.preprocessing._encoders.OrdinalEncoder),\n ('PCA', sklearn.decomposition._pca.PCA),\n ('PLSCanonical', sklearn.cross_decomposition._pls.PLSCanonical),\n ('PLSRegression', sklearn.cross_decomposition._pls.PLSRegression),\n ('PLSSVD', sklearn.cross_decomposition._pls.PLSSVD),\n ('PolynomialCountSketch', sklearn.kernel_approximation.PolynomialCountSketch),\n ('PolynomialFeatures', sklearn.preprocessing._data.PolynomialFeatures),\n ('PowerTransformer', sklearn.preprocessing._data.PowerTransformer),\n ('QuantileTransformer', sklearn.preprocessing._data.QuantileTransformer),\n ('RBFSampler', sklearn.kernel_approximation.RBFSampler),\n ('RFE', sklearn.feature_selection._rfe.RFE),\n ('RFECV', sklearn.feature_selection._rfe.RFECV),\n ('RadiusNeighborsTransformer',\n  sklearn.neighbors._graph.RadiusNeighborsTransformer),\n ('RobustScaler', sklearn.preprocessing._data.RobustScaler),\n ('SelectFdr', sklearn.feature_selection._univariate_selection.SelectFdr),\n ('SelectFpr', sklearn.feature_selection._univariate_selection.SelectFpr),\n ('SelectFromModel', sklearn.feature_selection._from_model.SelectFromModel),\n ('SelectFwe', sklearn.feature_selection._univariate_selection.SelectFwe),\n ('SelectKBest', sklearn.feature_selection._univariate_selection.SelectKBest),\n ('SelectPercentile',\n  sklearn.feature_selection._univariate_selection.SelectPercentile),\n ('SequentialFeatureSelector',\n  sklearn.feature_selection._sequential.SequentialFeatureSelector),\n ('SimpleImputer', sklearn.impute._base.SimpleImputer),\n ('SkewedChi2Sampler', sklearn.kernel_approximation.SkewedChi2Sampler),\n ('SparseCoder', sklearn.decomposition._dict_learning.SparseCoder),\n ('SparsePCA', sklearn.decomposition._sparse_pca.SparsePCA),\n ('SparseRandomProjection', sklearn.random_projection.SparseRandomProjection),\n ('StackingClassifier', sklearn.ensemble._stacking.StackingClassifier),\n ('StackingRegressor', sklearn.ensemble._stacking.StackingRegressor),\n ('StandardScaler', sklearn.preprocessing._data.StandardScaler),\n ('TfidfTransformer', sklearn.feature_extraction.text.TfidfTransformer),\n ('TruncatedSVD', sklearn.decomposition._truncated_svd.TruncatedSVD),\n ('VarianceThreshold',\n  sklearn.feature_selection._variance_threshold.VarianceThreshold),\n ('VotingClassifier', sklearn.ensemble._voting.VotingClassifier),\n ('VotingRegressor', sklearn.ensemble._voting.VotingRegressor)]"
     },
     "execution_count": 1,
     "metadata": {},
     "output_type": "execute_result"
    }
   ],
   "source": [
    "import numpy as np\n",
    "from sklearn import utils,preprocessing,decomposition,random_projection\n",
    "# {\"classifier\", \"regressor\", \"cluster\", \"transformer\"}\n",
    "utils.all_estimators(type_filter=[\"transformer\"])\n"
   ],
   "metadata": {
    "collapsed": false,
    "pycharm": {
     "name": "#%%\n"
    }
   }
  },
  {
   "cell_type": "markdown",
   "source": [
    "## sklearn.preprocessing 数据预处理\n",
    "### preprocessing.Binarizer 二值化\n"
   ],
   "metadata": {
    "collapsed": false,
    "pycharm": {
     "name": "#%% md\n"
    }
   }
  },
  {
   "cell_type": "code",
   "execution_count": 3,
   "outputs": [
    {
     "data": {
      "text/plain": "array([[1., 0., 1.],\n       [1., 0., 0.],\n       [0., 1., 0.]])"
     },
     "execution_count": 3,
     "metadata": {},
     "output_type": "execute_result"
    }
   ],
   "source": [
    "# preprocessing.Binarizer(threshold=0.0,copy=True)\n",
    "# 大于threshold 返回1，小于等于threshold返回0\n",
    "from sklearn.preprocessing import Binarizer\n",
    "X = [[ 1., -1.,  2.],\n",
    "     [ 2.,  0.,  0.],\n",
    "     [ 0.,  1., -1.]]\n",
    "transformer = Binarizer().fit(X)  # fit does nothing.\n",
    "transformer.transform(X)\n",
    "\n"
   ],
   "metadata": {
    "collapsed": false,
    "pycharm": {
     "name": "#%%\n"
    }
   }
  },
  {
   "cell_type": "code",
   "execution_count": 5,
   "outputs": [
    {
     "ename": "KeyboardInterrupt",
     "evalue": "",
     "output_type": "error",
     "traceback": [
      "\u001B[1;31m---------------------------------------------------------------------------\u001B[0m",
      "\u001B[1;31mKeyboardInterrupt\u001B[0m                         Traceback (most recent call last)",
      "\u001B[1;32m<ipython-input-5-d086a826ac78>\u001B[0m in \u001B[0;36m<module>\u001B[1;34m\u001B[0m\n\u001B[0;32m      8\u001B[0m \u001B[1;33m\u001B[0m\u001B[0m\n\u001B[0;32m      9\u001B[0m \u001B[0mtransformer2\u001B[0m \u001B[1;33m=\u001B[0m \u001B[0mFunctionTransformer\u001B[0m\u001B[1;33m(\u001B[0m\u001B[0mBinarizerFunc\u001B[0m\u001B[1;33m)\u001B[0m\u001B[1;33m.\u001B[0m\u001B[0mfit\u001B[0m\u001B[1;33m(\u001B[0m\u001B[0mX\u001B[0m\u001B[1;33m)\u001B[0m  \u001B[1;31m# fit does nothing.\u001B[0m\u001B[1;33m\u001B[0m\u001B[1;33m\u001B[0m\u001B[0m\n\u001B[1;32m---> 10\u001B[1;33m \u001B[0mtransformer2\u001B[0m\u001B[1;33m.\u001B[0m\u001B[0mtransform\u001B[0m\u001B[1;33m(\u001B[0m\u001B[0mX\u001B[0m\u001B[1;33m)\u001B[0m\u001B[1;33m\u001B[0m\u001B[1;33m\u001B[0m\u001B[0m\n\u001B[0m",
      "\u001B[1;32mD:\\ProgramData\\Anaconda3\\envs\\penter\\lib\\site-packages\\sklearn\\preprocessing\\_function_transformer.py\u001B[0m in \u001B[0;36mtransform\u001B[1;34m(self, X)\u001B[0m\n\u001B[0;32m    145\u001B[0m             \u001B[0mTransformed\u001B[0m \u001B[0minput\u001B[0m\u001B[1;33m.\u001B[0m\u001B[1;33m\u001B[0m\u001B[1;33m\u001B[0m\u001B[0m\n\u001B[0;32m    146\u001B[0m         \"\"\"\n\u001B[1;32m--> 147\u001B[1;33m         \u001B[1;32mreturn\u001B[0m \u001B[0mself\u001B[0m\u001B[1;33m.\u001B[0m\u001B[0m_transform\u001B[0m\u001B[1;33m(\u001B[0m\u001B[0mX\u001B[0m\u001B[1;33m,\u001B[0m \u001B[0mfunc\u001B[0m\u001B[1;33m=\u001B[0m\u001B[0mself\u001B[0m\u001B[1;33m.\u001B[0m\u001B[0mfunc\u001B[0m\u001B[1;33m,\u001B[0m \u001B[0mkw_args\u001B[0m\u001B[1;33m=\u001B[0m\u001B[0mself\u001B[0m\u001B[1;33m.\u001B[0m\u001B[0mkw_args\u001B[0m\u001B[1;33m)\u001B[0m\u001B[1;33m\u001B[0m\u001B[1;33m\u001B[0m\u001B[0m\n\u001B[0m\u001B[0;32m    148\u001B[0m \u001B[1;33m\u001B[0m\u001B[0m\n\u001B[0;32m    149\u001B[0m     \u001B[1;32mdef\u001B[0m \u001B[0minverse_transform\u001B[0m\u001B[1;33m(\u001B[0m\u001B[0mself\u001B[0m\u001B[1;33m,\u001B[0m \u001B[0mX\u001B[0m\u001B[1;33m)\u001B[0m\u001B[1;33m:\u001B[0m\u001B[1;33m\u001B[0m\u001B[1;33m\u001B[0m\u001B[0m\n",
      "\u001B[1;32mD:\\ProgramData\\Anaconda3\\envs\\penter\\lib\\site-packages\\sklearn\\preprocessing\\_function_transformer.py\u001B[0m in \u001B[0;36m_transform\u001B[1;34m(self, X, func, kw_args)\u001B[0m\n\u001B[0;32m    169\u001B[0m             \u001B[0mfunc\u001B[0m \u001B[1;33m=\u001B[0m \u001B[0m_identity\u001B[0m\u001B[1;33m\u001B[0m\u001B[1;33m\u001B[0m\u001B[0m\n\u001B[0;32m    170\u001B[0m \u001B[1;33m\u001B[0m\u001B[0m\n\u001B[1;32m--> 171\u001B[1;33m         \u001B[1;32mreturn\u001B[0m \u001B[0mfunc\u001B[0m\u001B[1;33m(\u001B[0m\u001B[0mX\u001B[0m\u001B[1;33m,\u001B[0m \u001B[1;33m**\u001B[0m\u001B[1;33m(\u001B[0m\u001B[0mkw_args\u001B[0m \u001B[1;32mif\u001B[0m \u001B[0mkw_args\u001B[0m \u001B[1;32melse\u001B[0m \u001B[1;33m{\u001B[0m\u001B[1;33m}\u001B[0m\u001B[1;33m)\u001B[0m\u001B[1;33m)\u001B[0m\u001B[1;33m\u001B[0m\u001B[1;33m\u001B[0m\u001B[0m\n\u001B[0m\u001B[0;32m    172\u001B[0m \u001B[1;33m\u001B[0m\u001B[0m\n\u001B[0;32m    173\u001B[0m     \u001B[1;32mdef\u001B[0m \u001B[0m_more_tags\u001B[0m\u001B[1;33m(\u001B[0m\u001B[0mself\u001B[0m\u001B[1;33m)\u001B[0m\u001B[1;33m:\u001B[0m\u001B[1;33m\u001B[0m\u001B[1;33m\u001B[0m\u001B[0m\n",
      "\u001B[1;32m<ipython-input-5-d086a826ac78>\u001B[0m in \u001B[0;36mBinarizerFunc\u001B[1;34m(x)\u001B[0m\n\u001B[0;32m      2\u001B[0m \u001B[1;33m\u001B[0m\u001B[0m\n\u001B[0;32m      3\u001B[0m \u001B[1;32mdef\u001B[0m \u001B[0mBinarizerFunc\u001B[0m\u001B[1;33m(\u001B[0m\u001B[0mx\u001B[0m\u001B[1;33m)\u001B[0m\u001B[1;33m:\u001B[0m\u001B[1;33m\u001B[0m\u001B[1;33m\u001B[0m\u001B[0m\n\u001B[1;32m----> 4\u001B[1;33m     \u001B[1;32mif\u001B[0m \u001B[0mx\u001B[0m \u001B[1;33m>\u001B[0m \u001B[1;36m0\u001B[0m\u001B[1;33m:\u001B[0m\u001B[1;33m\u001B[0m\u001B[1;33m\u001B[0m\u001B[0m\n\u001B[0m\u001B[0;32m      5\u001B[0m         \u001B[1;32mreturn\u001B[0m \u001B[1;36m1\u001B[0m\u001B[1;33m\u001B[0m\u001B[1;33m\u001B[0m\u001B[0m\n\u001B[0;32m      6\u001B[0m     \u001B[1;32melse\u001B[0m\u001B[1;33m:\u001B[0m\u001B[1;33m\u001B[0m\u001B[1;33m\u001B[0m\u001B[0m\n",
      "\u001B[1;32m<ipython-input-5-d086a826ac78>\u001B[0m in \u001B[0;36mBinarizerFunc\u001B[1;34m(x)\u001B[0m\n\u001B[0;32m      2\u001B[0m \u001B[1;33m\u001B[0m\u001B[0m\n\u001B[0;32m      3\u001B[0m \u001B[1;32mdef\u001B[0m \u001B[0mBinarizerFunc\u001B[0m\u001B[1;33m(\u001B[0m\u001B[0mx\u001B[0m\u001B[1;33m)\u001B[0m\u001B[1;33m:\u001B[0m\u001B[1;33m\u001B[0m\u001B[1;33m\u001B[0m\u001B[0m\n\u001B[1;32m----> 4\u001B[1;33m     \u001B[1;32mif\u001B[0m \u001B[0mx\u001B[0m \u001B[1;33m>\u001B[0m \u001B[1;36m0\u001B[0m\u001B[1;33m:\u001B[0m\u001B[1;33m\u001B[0m\u001B[1;33m\u001B[0m\u001B[0m\n\u001B[0m\u001B[0;32m      5\u001B[0m         \u001B[1;32mreturn\u001B[0m \u001B[1;36m1\u001B[0m\u001B[1;33m\u001B[0m\u001B[1;33m\u001B[0m\u001B[0m\n\u001B[0;32m      6\u001B[0m     \u001B[1;32melse\u001B[0m\u001B[1;33m:\u001B[0m\u001B[1;33m\u001B[0m\u001B[1;33m\u001B[0m\u001B[0m\n",
      "\u001B[1;32m_pydevd_bundle\\pydevd_cython_win32_38_64.pyx\u001B[0m in \u001B[0;36m_pydevd_bundle.pydevd_cython_win32_38_64.SafeCallWrapper.__call__\u001B[1;34m()\u001B[0m\n",
      "\u001B[1;32m_pydevd_bundle\\pydevd_cython_win32_38_64.pyx\u001B[0m in \u001B[0;36m_pydevd_bundle.pydevd_cython_win32_38_64.PyDBFrame.trace_dispatch\u001B[1;34m()\u001B[0m\n",
      "\u001B[1;32m_pydevd_bundle\\pydevd_cython_win32_38_64.pyx\u001B[0m in \u001B[0;36m_pydevd_bundle.pydevd_cython_win32_38_64.PyDBFrame.trace_dispatch\u001B[1;34m()\u001B[0m\n",
      "\u001B[1;32m_pydevd_bundle\\pydevd_cython_win32_38_64.pyx\u001B[0m in \u001B[0;36m_pydevd_bundle.pydevd_cython_win32_38_64.PyDBFrame.trace_dispatch\u001B[1;34m()\u001B[0m\n",
      "\u001B[1;32m_pydevd_bundle\\pydevd_cython_win32_38_64.pyx\u001B[0m in \u001B[0;36m_pydevd_bundle.pydevd_cython_win32_38_64.PyDBFrame.do_wait_suspend\u001B[1;34m()\u001B[0m\n",
      "\u001B[1;32mD:\\Program Files\\JetBrains\\PyCharm 2020.1\\plugins\\python\\helpers\\pydev\\pydevd.py\u001B[0m in \u001B[0;36mdo_wait_suspend\u001B[1;34m(self, thread, frame, event, arg, send_suspend_message, is_unhandled_exception)\u001B[0m\n\u001B[0;32m   1101\u001B[0m \u001B[1;33m\u001B[0m\u001B[0m\n\u001B[0;32m   1102\u001B[0m         \u001B[1;32mwith\u001B[0m \u001B[0mself\u001B[0m\u001B[1;33m.\u001B[0m\u001B[0m_threads_suspended_single_notification\u001B[0m\u001B[1;33m.\u001B[0m\u001B[0mnotify_thread_suspended\u001B[0m\u001B[1;33m(\u001B[0m\u001B[0mthread_id\u001B[0m\u001B[1;33m,\u001B[0m \u001B[0mstop_reason\u001B[0m\u001B[1;33m)\u001B[0m\u001B[1;33m:\u001B[0m\u001B[1;33m\u001B[0m\u001B[1;33m\u001B[0m\u001B[0m\n\u001B[1;32m-> 1103\u001B[1;33m             \u001B[0mself\u001B[0m\u001B[1;33m.\u001B[0m\u001B[0m_do_wait_suspend\u001B[0m\u001B[1;33m(\u001B[0m\u001B[0mthread\u001B[0m\u001B[1;33m,\u001B[0m \u001B[0mframe\u001B[0m\u001B[1;33m,\u001B[0m \u001B[0mevent\u001B[0m\u001B[1;33m,\u001B[0m \u001B[0marg\u001B[0m\u001B[1;33m,\u001B[0m \u001B[0msuspend_type\u001B[0m\u001B[1;33m,\u001B[0m \u001B[0mfrom_this_thread\u001B[0m\u001B[1;33m)\u001B[0m\u001B[1;33m\u001B[0m\u001B[1;33m\u001B[0m\u001B[0m\n\u001B[0m\u001B[0;32m   1104\u001B[0m \u001B[1;33m\u001B[0m\u001B[0m\n\u001B[0;32m   1105\u001B[0m     \u001B[1;32mdef\u001B[0m \u001B[0m_do_wait_suspend\u001B[0m\u001B[1;33m(\u001B[0m\u001B[0mself\u001B[0m\u001B[1;33m,\u001B[0m \u001B[0mthread\u001B[0m\u001B[1;33m,\u001B[0m \u001B[0mframe\u001B[0m\u001B[1;33m,\u001B[0m \u001B[0mevent\u001B[0m\u001B[1;33m,\u001B[0m \u001B[0marg\u001B[0m\u001B[1;33m,\u001B[0m \u001B[0msuspend_type\u001B[0m\u001B[1;33m,\u001B[0m \u001B[0mfrom_this_thread\u001B[0m\u001B[1;33m)\u001B[0m\u001B[1;33m:\u001B[0m\u001B[1;33m\u001B[0m\u001B[1;33m\u001B[0m\u001B[0m\n",
      "\u001B[1;32mD:\\Program Files\\JetBrains\\PyCharm 2020.1\\plugins\\python\\helpers\\pydev\\pydevd.py\u001B[0m in \u001B[0;36m_do_wait_suspend\u001B[1;34m(self, thread, frame, event, arg, suspend_type, from_this_thread)\u001B[0m\n\u001B[0;32m   1116\u001B[0m \u001B[1;33m\u001B[0m\u001B[0m\n\u001B[0;32m   1117\u001B[0m                 \u001B[0mself\u001B[0m\u001B[1;33m.\u001B[0m\u001B[0mprocess_internal_commands\u001B[0m\u001B[1;33m(\u001B[0m\u001B[1;33m)\u001B[0m\u001B[1;33m\u001B[0m\u001B[1;33m\u001B[0m\u001B[0m\n\u001B[1;32m-> 1118\u001B[1;33m                 \u001B[0mtime\u001B[0m\u001B[1;33m.\u001B[0m\u001B[0msleep\u001B[0m\u001B[1;33m(\u001B[0m\u001B[1;36m0.01\u001B[0m\u001B[1;33m)\u001B[0m\u001B[1;33m\u001B[0m\u001B[1;33m\u001B[0m\u001B[0m\n\u001B[0m\u001B[0;32m   1119\u001B[0m \u001B[1;33m\u001B[0m\u001B[0m\n\u001B[0;32m   1120\u001B[0m         \u001B[0mself\u001B[0m\u001B[1;33m.\u001B[0m\u001B[0mcancel_async_evaluation\u001B[0m\u001B[1;33m(\u001B[0m\u001B[0mget_current_thread_id\u001B[0m\u001B[1;33m(\u001B[0m\u001B[0mthread\u001B[0m\u001B[1;33m)\u001B[0m\u001B[1;33m,\u001B[0m \u001B[0mstr\u001B[0m\u001B[1;33m(\u001B[0m\u001B[0mid\u001B[0m\u001B[1;33m(\u001B[0m\u001B[0mframe\u001B[0m\u001B[1;33m)\u001B[0m\u001B[1;33m)\u001B[0m\u001B[1;33m)\u001B[0m\u001B[1;33m\u001B[0m\u001B[1;33m\u001B[0m\u001B[0m\n",
      "\u001B[1;31mKeyboardInterrupt\u001B[0m: "
     ]
    }
   ],
   "source": [
    "from sklearn.preprocessing import FunctionTransformer\n",
    "\n",
    "# def BinarizerFunc(x): # 这里的x参数跟fit里的X是一致的\n",
    "#     if x > 0:\n",
    "#         return 1\n",
    "#     else:\n",
    "#         return 0\n",
    "#\n",
    "# transformer2 = FunctionTransformer(BinarizerFunc).fit(X)  # fit does nothing.\n",
    "# transformer2.transform(X)"
   ],
   "metadata": {
    "collapsed": false,
    "pycharm": {
     "name": "#%%\n"
    }
   }
  },
  {
   "cell_type": "code",
   "execution_count": null,
   "outputs": [],
   "source": [
    "\n"
   ],
   "metadata": {
    "collapsed": false,
    "pycharm": {
     "name": "#%%\n"
    }
   }
  }
 ],
 "metadata": {
  "kernelspec": {
   "display_name": "Python 3",
   "language": "python",
   "name": "python3"
  },
  "language_info": {
   "codemirror_mode": {
    "name": "ipython",
    "version": 2
   },
   "file_extension": ".py",
   "mimetype": "text/x-python",
   "name": "python",
   "nbconvert_exporter": "python",
   "pygments_lexer": "ipython2",
   "version": "2.7.6"
  }
 },
 "nbformat": 4,
 "nbformat_minor": 0
}