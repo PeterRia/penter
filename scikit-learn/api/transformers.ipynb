{
 "cells": [
  {
   "cell_type": "markdown",
   "metadata": {
    "collapsed": true,
    "pycharm": {
     "name": "#%% md\n"
    }
   },
   "source": [
    "# transformer\n",
    "## sklearn.preprocessing 数据预处理\n",
    "## sklearn.decomposition 矩阵分解\n",
    "## sklearn.random_projection 随机投影\n",
    "降维技术\n"
   ]
  },
  {
   "cell_type": "code",
   "execution_count": 2,
   "outputs": [
    {
     "data": {
      "text/plain": "[('AdditiveChi2Sampler', sklearn.kernel_approximation.AdditiveChi2Sampler),\n ('BernoulliRBM', sklearn.neural_network._rbm.BernoulliRBM),\n ('Binarizer', sklearn.preprocessing._data.Binarizer),\n ('Birch', sklearn.cluster._birch.Birch),\n ('CCA', sklearn.cross_decomposition._pls.CCA),\n ('ColumnTransformer', sklearn.compose._column_transformer.ColumnTransformer),\n ('DictVectorizer',\n  sklearn.feature_extraction._dict_vectorizer.DictVectorizer),\n ('DictionaryLearning',\n  sklearn.decomposition._dict_learning.DictionaryLearning),\n ('FactorAnalysis', sklearn.decomposition._factor_analysis.FactorAnalysis),\n ('FastICA', sklearn.decomposition._fastica.FastICA),\n ('FeatureAgglomeration', sklearn.cluster._agglomerative.FeatureAgglomeration),\n ('FeatureHasher', sklearn.feature_extraction._hash.FeatureHasher),\n ('FeatureUnion', sklearn.pipeline.FeatureUnion),\n ('FunctionTransformer',\n  sklearn.preprocessing._function_transformer.FunctionTransformer),\n ('GaussianRandomProjection',\n  sklearn.random_projection.GaussianRandomProjection),\n ('GenericUnivariateSelect',\n  sklearn.feature_selection._univariate_selection.GenericUnivariateSelect),\n ('HashingVectorizer', sklearn.feature_extraction.text.HashingVectorizer),\n ('IncrementalPCA', sklearn.decomposition._incremental_pca.IncrementalPCA),\n ('Isomap', sklearn.manifold._isomap.Isomap),\n ('IsotonicRegression', sklearn.isotonic.IsotonicRegression),\n ('IterativeImputer', sklearn.impute._iterative.IterativeImputer),\n ('KBinsDiscretizer', sklearn.preprocessing._discretization.KBinsDiscretizer),\n ('KMeans', sklearn.cluster._kmeans.KMeans),\n ('KNNImputer', sklearn.impute._knn.KNNImputer),\n ('KNeighborsTransformer', sklearn.neighbors._graph.KNeighborsTransformer),\n ('KernelCenterer', sklearn.preprocessing._data.KernelCenterer),\n ('KernelPCA', sklearn.decomposition._kernel_pca.KernelPCA),\n ('LabelBinarizer', sklearn.preprocessing._label.LabelBinarizer),\n ('LabelEncoder', sklearn.preprocessing._label.LabelEncoder),\n ('LatentDirichletAllocation',\n  sklearn.decomposition._lda.LatentDirichletAllocation),\n ('LinearDiscriminantAnalysis',\n  sklearn.discriminant_analysis.LinearDiscriminantAnalysis),\n ('LocallyLinearEmbedding',\n  sklearn.manifold._locally_linear.LocallyLinearEmbedding),\n ('MaxAbsScaler', sklearn.preprocessing._data.MaxAbsScaler),\n ('MinMaxScaler', sklearn.preprocessing._data.MinMaxScaler),\n ('MiniBatchDictionaryLearning',\n  sklearn.decomposition._dict_learning.MiniBatchDictionaryLearning),\n ('MiniBatchKMeans', sklearn.cluster._kmeans.MiniBatchKMeans),\n ('MiniBatchSparsePCA', sklearn.decomposition._sparse_pca.MiniBatchSparsePCA),\n ('MissingIndicator', sklearn.impute._base.MissingIndicator),\n ('MultiLabelBinarizer', sklearn.preprocessing._label.MultiLabelBinarizer),\n ('NMF', sklearn.decomposition._nmf.NMF),\n ('NeighborhoodComponentsAnalysis',\n  sklearn.neighbors._nca.NeighborhoodComponentsAnalysis),\n ('Normalizer', sklearn.preprocessing._data.Normalizer),\n ('Nystroem', sklearn.kernel_approximation.Nystroem),\n ('OneHotEncoder', sklearn.preprocessing._encoders.OneHotEncoder),\n ('OrdinalEncoder', sklearn.preprocessing._encoders.OrdinalEncoder),\n ('PCA', sklearn.decomposition._pca.PCA),\n ('PLSCanonical', sklearn.cross_decomposition._pls.PLSCanonical),\n ('PLSRegression', sklearn.cross_decomposition._pls.PLSRegression),\n ('PLSSVD', sklearn.cross_decomposition._pls.PLSSVD),\n ('PolynomialCountSketch', sklearn.kernel_approximation.PolynomialCountSketch),\n ('PolynomialFeatures', sklearn.preprocessing._data.PolynomialFeatures),\n ('PowerTransformer', sklearn.preprocessing._data.PowerTransformer),\n ('QuantileTransformer', sklearn.preprocessing._data.QuantileTransformer),\n ('RBFSampler', sklearn.kernel_approximation.RBFSampler),\n ('RFE', sklearn.feature_selection._rfe.RFE),\n ('RFECV', sklearn.feature_selection._rfe.RFECV),\n ('RadiusNeighborsTransformer',\n  sklearn.neighbors._graph.RadiusNeighborsTransformer),\n ('RobustScaler', sklearn.preprocessing._data.RobustScaler),\n ('SelectFdr', sklearn.feature_selection._univariate_selection.SelectFdr),\n ('SelectFpr', sklearn.feature_selection._univariate_selection.SelectFpr),\n ('SelectFromModel', sklearn.feature_selection._from_model.SelectFromModel),\n ('SelectFwe', sklearn.feature_selection._univariate_selection.SelectFwe),\n ('SelectKBest', sklearn.feature_selection._univariate_selection.SelectKBest),\n ('SelectPercentile',\n  sklearn.feature_selection._univariate_selection.SelectPercentile),\n ('SequentialFeatureSelector',\n  sklearn.feature_selection._sequential.SequentialFeatureSelector),\n ('SimpleImputer', sklearn.impute._base.SimpleImputer),\n ('SkewedChi2Sampler', sklearn.kernel_approximation.SkewedChi2Sampler),\n ('SparseCoder', sklearn.decomposition._dict_learning.SparseCoder),\n ('SparsePCA', sklearn.decomposition._sparse_pca.SparsePCA),\n ('SparseRandomProjection', sklearn.random_projection.SparseRandomProjection),\n ('StackingClassifier', sklearn.ensemble._stacking.StackingClassifier),\n ('StackingRegressor', sklearn.ensemble._stacking.StackingRegressor),\n ('StandardScaler', sklearn.preprocessing._data.StandardScaler),\n ('TfidfTransformer', sklearn.feature_extraction.text.TfidfTransformer),\n ('TruncatedSVD', sklearn.decomposition._truncated_svd.TruncatedSVD),\n ('VarianceThreshold',\n  sklearn.feature_selection._variance_threshold.VarianceThreshold),\n ('VotingClassifier', sklearn.ensemble._voting.VotingClassifier),\n ('VotingRegressor', sklearn.ensemble._voting.VotingRegressor)]"
     },
     "execution_count": 2,
     "metadata": {},
     "output_type": "execute_result"
    }
   ],
   "source": [
    "from sklearn import utils\n",
    "# {\"classifier\", \"regressor\", \"cluster\", \"transformer\"}\n",
    "utils.all_estimators(type_filter=[\"transformer\"])\n",
    "\n"
   ],
   "metadata": {
    "collapsed": false,
    "pycharm": {
     "name": "#%%\n"
    }
   }
  }
 ],
 "metadata": {
  "kernelspec": {
   "display_name": "Python 3",
   "language": "python",
   "name": "python3"
  },
  "language_info": {
   "codemirror_mode": {
    "name": "ipython",
    "version": 2
   },
   "file_extension": ".py",
   "mimetype": "text/x-python",
   "name": "python",
   "nbconvert_exporter": "python",
   "pygments_lexer": "ipython2",
   "version": "2.7.6"
  }
 },
 "nbformat": 4,
 "nbformat_minor": 0
}