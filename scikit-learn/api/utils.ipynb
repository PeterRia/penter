{
 "cells": [
  {
   "cell_type": "code",
   "execution_count": 2,
   "metadata": {
    "collapsed": true
   },
   "outputs": [],
   "source": [
    "from sklearn import utils"
   ]
  },
  {
   "cell_type": "code",
   "execution_count": 3,
   "outputs": [
    {
     "name": "stderr",
     "output_type": "stream",
     "text": [
      "D:\\ProgramData\\Anaconda3\\envs\\penter\\lib\\site-packages\\setuptools\\distutils_patch.py:25: UserWarning: Distutils was imported before Setuptools. This usage is discouraged and may exhibit undesirable behaviors or errors. Please use Setuptools' objects directly or at least import Setuptools first.\n",
      "  warnings.warn(\n"
     ]
    },
    {
     "data": {
      "text/plain": "[('ARDRegression', sklearn.linear_model._bayes.ARDRegression),\n ('AdaBoostClassifier', sklearn.ensemble._weight_boosting.AdaBoostClassifier),\n ('AdaBoostRegressor', sklearn.ensemble._weight_boosting.AdaBoostRegressor),\n ('AdditiveChi2Sampler', sklearn.kernel_approximation.AdditiveChi2Sampler),\n ('AffinityPropagation',\n  sklearn.cluster._affinity_propagation.AffinityPropagation),\n ('AgglomerativeClustering',\n  sklearn.cluster._agglomerative.AgglomerativeClustering),\n ('BaggingClassifier', sklearn.ensemble._bagging.BaggingClassifier),\n ('BaggingRegressor', sklearn.ensemble._bagging.BaggingRegressor),\n ('BayesianGaussianMixture',\n  sklearn.mixture._bayesian_mixture.BayesianGaussianMixture),\n ('BayesianRidge', sklearn.linear_model._bayes.BayesianRidge),\n ('BernoulliNB', sklearn.naive_bayes.BernoulliNB),\n ('BernoulliRBM', sklearn.neural_network._rbm.BernoulliRBM),\n ('Binarizer', sklearn.preprocessing._data.Binarizer),\n ('Birch', sklearn.cluster._birch.Birch),\n ('CCA', sklearn.cross_decomposition._pls.CCA),\n ('CalibratedClassifierCV', sklearn.calibration.CalibratedClassifierCV),\n ('CategoricalNB', sklearn.naive_bayes.CategoricalNB),\n ('ClassifierChain', sklearn.multioutput.ClassifierChain),\n ('ColumnTransformer', sklearn.compose._column_transformer.ColumnTransformer),\n ('ComplementNB', sklearn.naive_bayes.ComplementNB),\n ('CountVectorizer', sklearn.feature_extraction.text.CountVectorizer),\n ('DBSCAN', sklearn.cluster._dbscan.DBSCAN),\n ('DecisionTreeClassifier', sklearn.tree._classes.DecisionTreeClassifier),\n ('DecisionTreeRegressor', sklearn.tree._classes.DecisionTreeRegressor),\n ('DictVectorizer',\n  sklearn.feature_extraction._dict_vectorizer.DictVectorizer),\n ('DictionaryLearning',\n  sklearn.decomposition._dict_learning.DictionaryLearning),\n ('DummyClassifier', sklearn.dummy.DummyClassifier),\n ('DummyRegressor', sklearn.dummy.DummyRegressor),\n ('ElasticNet', sklearn.linear_model._coordinate_descent.ElasticNet),\n ('ElasticNetCV', sklearn.linear_model._coordinate_descent.ElasticNetCV),\n ('EllipticEnvelope', sklearn.covariance._elliptic_envelope.EllipticEnvelope),\n ('EmpiricalCovariance',\n  sklearn.covariance._empirical_covariance.EmpiricalCovariance),\n ('ExtraTreeClassifier', sklearn.tree._classes.ExtraTreeClassifier),\n ('ExtraTreeRegressor', sklearn.tree._classes.ExtraTreeRegressor),\n ('ExtraTreesClassifier', sklearn.ensemble._forest.ExtraTreesClassifier),\n ('ExtraTreesRegressor', sklearn.ensemble._forest.ExtraTreesRegressor),\n ('FactorAnalysis', sklearn.decomposition._factor_analysis.FactorAnalysis),\n ('FastICA', sklearn.decomposition._fastica.FastICA),\n ('FeatureAgglomeration', sklearn.cluster._agglomerative.FeatureAgglomeration),\n ('FeatureHasher', sklearn.feature_extraction._hash.FeatureHasher),\n ('FeatureUnion', sklearn.pipeline.FeatureUnion),\n ('FunctionTransformer',\n  sklearn.preprocessing._function_transformer.FunctionTransformer),\n ('GammaRegressor', sklearn.linear_model._glm.glm.GammaRegressor),\n ('GaussianMixture', sklearn.mixture._gaussian_mixture.GaussianMixture),\n ('GaussianNB', sklearn.naive_bayes.GaussianNB),\n ('GaussianProcessClassifier',\n  sklearn.gaussian_process._gpc.GaussianProcessClassifier),\n ('GaussianProcessRegressor',\n  sklearn.gaussian_process._gpr.GaussianProcessRegressor),\n ('GaussianRandomProjection',\n  sklearn.random_projection.GaussianRandomProjection),\n ('GenericUnivariateSelect',\n  sklearn.feature_selection._univariate_selection.GenericUnivariateSelect),\n ('GradientBoostingClassifier',\n  sklearn.ensemble._gb.GradientBoostingClassifier),\n ('GradientBoostingRegressor', sklearn.ensemble._gb.GradientBoostingRegressor),\n ('GraphicalLasso', sklearn.covariance._graph_lasso.GraphicalLasso),\n ('GraphicalLassoCV', sklearn.covariance._graph_lasso.GraphicalLassoCV),\n ('GridSearchCV', sklearn.model_selection._search.GridSearchCV),\n ('HalvingGridSearchCV',\n  sklearn.model_selection._search_successive_halving.HalvingGridSearchCV),\n ('HalvingRandomSearchCV',\n  sklearn.model_selection._search_successive_halving.HalvingRandomSearchCV),\n ('HashingVectorizer', sklearn.feature_extraction.text.HashingVectorizer),\n ('HistGradientBoostingClassifier',\n  sklearn.ensemble._hist_gradient_boosting.gradient_boosting.HistGradientBoostingClassifier),\n ('HistGradientBoostingRegressor',\n  sklearn.ensemble._hist_gradient_boosting.gradient_boosting.HistGradientBoostingRegressor),\n ('HuberRegressor', sklearn.linear_model._huber.HuberRegressor),\n ('IncrementalPCA', sklearn.decomposition._incremental_pca.IncrementalPCA),\n ('IsolationForest', sklearn.ensemble._iforest.IsolationForest),\n ('Isomap', sklearn.manifold._isomap.Isomap),\n ('IsotonicRegression', sklearn.isotonic.IsotonicRegression),\n ('IterativeImputer', sklearn.impute._iterative.IterativeImputer),\n ('KBinsDiscretizer', sklearn.preprocessing._discretization.KBinsDiscretizer),\n ('KMeans', sklearn.cluster._kmeans.KMeans),\n ('KNNImputer', sklearn.impute._knn.KNNImputer),\n ('KNeighborsClassifier',\n  sklearn.neighbors._classification.KNeighborsClassifier),\n ('KNeighborsRegressor', sklearn.neighbors._regression.KNeighborsRegressor),\n ('KNeighborsTransformer', sklearn.neighbors._graph.KNeighborsTransformer),\n ('KernelCenterer', sklearn.preprocessing._data.KernelCenterer),\n ('KernelDensity', sklearn.neighbors._kde.KernelDensity),\n ('KernelPCA', sklearn.decomposition._kernel_pca.KernelPCA),\n ('KernelRidge', sklearn.kernel_ridge.KernelRidge),\n ('LabelBinarizer', sklearn.preprocessing._label.LabelBinarizer),\n ('LabelEncoder', sklearn.preprocessing._label.LabelEncoder),\n ('LabelPropagation',\n  sklearn.semi_supervised._label_propagation.LabelPropagation),\n ('LabelSpreading', sklearn.semi_supervised._label_propagation.LabelSpreading),\n ('Lars', sklearn.linear_model._least_angle.Lars),\n ('LarsCV', sklearn.linear_model._least_angle.LarsCV),\n ('Lasso', sklearn.linear_model._coordinate_descent.Lasso),\n ('LassoCV', sklearn.linear_model._coordinate_descent.LassoCV),\n ('LassoLars', sklearn.linear_model._least_angle.LassoLars),\n ('LassoLarsCV', sklearn.linear_model._least_angle.LassoLarsCV),\n ('LassoLarsIC', sklearn.linear_model._least_angle.LassoLarsIC),\n ('LatentDirichletAllocation',\n  sklearn.decomposition._lda.LatentDirichletAllocation),\n ('LedoitWolf', sklearn.covariance._shrunk_covariance.LedoitWolf),\n ('LinearDiscriminantAnalysis',\n  sklearn.discriminant_analysis.LinearDiscriminantAnalysis),\n ('LinearRegression', sklearn.linear_model._base.LinearRegression),\n ('LinearSVC', sklearn.svm._classes.LinearSVC),\n ('LinearSVR', sklearn.svm._classes.LinearSVR),\n ('LocalOutlierFactor', sklearn.neighbors._lof.LocalOutlierFactor),\n ('LocallyLinearEmbedding',\n  sklearn.manifold._locally_linear.LocallyLinearEmbedding),\n ('LogisticRegression', sklearn.linear_model._logistic.LogisticRegression),\n ('LogisticRegressionCV', sklearn.linear_model._logistic.LogisticRegressionCV),\n ('MDS', sklearn.manifold._mds.MDS),\n ('MLPClassifier',\n  sklearn.neural_network._multilayer_perceptron.MLPClassifier),\n ('MLPRegressor', sklearn.neural_network._multilayer_perceptron.MLPRegressor),\n ('MaxAbsScaler', sklearn.preprocessing._data.MaxAbsScaler),\n ('MeanShift', sklearn.cluster._mean_shift.MeanShift),\n ('MinCovDet', sklearn.covariance._robust_covariance.MinCovDet),\n ('MinMaxScaler', sklearn.preprocessing._data.MinMaxScaler),\n ('MiniBatchDictionaryLearning',\n  sklearn.decomposition._dict_learning.MiniBatchDictionaryLearning),\n ('MiniBatchKMeans', sklearn.cluster._kmeans.MiniBatchKMeans),\n ('MiniBatchSparsePCA', sklearn.decomposition._sparse_pca.MiniBatchSparsePCA),\n ('MissingIndicator', sklearn.impute._base.MissingIndicator),\n ('MultiLabelBinarizer', sklearn.preprocessing._label.MultiLabelBinarizer),\n ('MultiOutputClassifier', sklearn.multioutput.MultiOutputClassifier),\n ('MultiOutputRegressor', sklearn.multioutput.MultiOutputRegressor),\n ('MultiTaskElasticNet',\n  sklearn.linear_model._coordinate_descent.MultiTaskElasticNet),\n ('MultiTaskElasticNetCV',\n  sklearn.linear_model._coordinate_descent.MultiTaskElasticNetCV),\n ('MultiTaskLasso', sklearn.linear_model._coordinate_descent.MultiTaskLasso),\n ('MultiTaskLassoCV',\n  sklearn.linear_model._coordinate_descent.MultiTaskLassoCV),\n ('MultinomialNB', sklearn.naive_bayes.MultinomialNB),\n ('NMF', sklearn.decomposition._nmf.NMF),\n ('NearestCentroid', sklearn.neighbors._nearest_centroid.NearestCentroid),\n ('NearestNeighbors', sklearn.neighbors._unsupervised.NearestNeighbors),\n ('NeighborhoodComponentsAnalysis',\n  sklearn.neighbors._nca.NeighborhoodComponentsAnalysis),\n ('Normalizer', sklearn.preprocessing._data.Normalizer),\n ('NuSVC', sklearn.svm._classes.NuSVC),\n ('NuSVR', sklearn.svm._classes.NuSVR),\n ('Nystroem', sklearn.kernel_approximation.Nystroem),\n ('OAS', sklearn.covariance._shrunk_covariance.OAS),\n ('OPTICS', sklearn.cluster._optics.OPTICS),\n ('OneClassSVM', sklearn.svm._classes.OneClassSVM),\n ('OneHotEncoder', sklearn.preprocessing._encoders.OneHotEncoder),\n ('OneVsOneClassifier', sklearn.multiclass.OneVsOneClassifier),\n ('OneVsRestClassifier', sklearn.multiclass.OneVsRestClassifier),\n ('OrdinalEncoder', sklearn.preprocessing._encoders.OrdinalEncoder),\n ('OrthogonalMatchingPursuit',\n  sklearn.linear_model._omp.OrthogonalMatchingPursuit),\n ('OrthogonalMatchingPursuitCV',\n  sklearn.linear_model._omp.OrthogonalMatchingPursuitCV),\n ('OutputCodeClassifier', sklearn.multiclass.OutputCodeClassifier),\n ('PCA', sklearn.decomposition._pca.PCA),\n ('PLSCanonical', sklearn.cross_decomposition._pls.PLSCanonical),\n ('PLSRegression', sklearn.cross_decomposition._pls.PLSRegression),\n ('PLSSVD', sklearn.cross_decomposition._pls.PLSSVD),\n ('PassiveAggressiveClassifier',\n  sklearn.linear_model._passive_aggressive.PassiveAggressiveClassifier),\n ('PassiveAggressiveRegressor',\n  sklearn.linear_model._passive_aggressive.PassiveAggressiveRegressor),\n ('PatchExtractor', sklearn.feature_extraction.image.PatchExtractor),\n ('Perceptron', sklearn.linear_model._perceptron.Perceptron),\n ('Pipeline', sklearn.pipeline.Pipeline),\n ('PoissonRegressor', sklearn.linear_model._glm.glm.PoissonRegressor),\n ('PolynomialCountSketch', sklearn.kernel_approximation.PolynomialCountSketch),\n ('PolynomialFeatures', sklearn.preprocessing._data.PolynomialFeatures),\n ('PowerTransformer', sklearn.preprocessing._data.PowerTransformer),\n ('QuadraticDiscriminantAnalysis',\n  sklearn.discriminant_analysis.QuadraticDiscriminantAnalysis),\n ('QuantileTransformer', sklearn.preprocessing._data.QuantileTransformer),\n ('RANSACRegressor', sklearn.linear_model._ransac.RANSACRegressor),\n ('RBFSampler', sklearn.kernel_approximation.RBFSampler),\n ('RFE', sklearn.feature_selection._rfe.RFE),\n ('RFECV', sklearn.feature_selection._rfe.RFECV),\n ('RadiusNeighborsClassifier',\n  sklearn.neighbors._classification.RadiusNeighborsClassifier),\n ('RadiusNeighborsRegressor',\n  sklearn.neighbors._regression.RadiusNeighborsRegressor),\n ('RadiusNeighborsTransformer',\n  sklearn.neighbors._graph.RadiusNeighborsTransformer),\n ('RandomForestClassifier', sklearn.ensemble._forest.RandomForestClassifier),\n ('RandomForestRegressor', sklearn.ensemble._forest.RandomForestRegressor),\n ('RandomTreesEmbedding', sklearn.ensemble._forest.RandomTreesEmbedding),\n ('RandomizedSearchCV', sklearn.model_selection._search.RandomizedSearchCV),\n ('RegressorChain', sklearn.multioutput.RegressorChain),\n ('Ridge', sklearn.linear_model._ridge.Ridge),\n ('RidgeCV', sklearn.linear_model._ridge.RidgeCV),\n ('RidgeClassifier', sklearn.linear_model._ridge.RidgeClassifier),\n ('RidgeClassifierCV', sklearn.linear_model._ridge.RidgeClassifierCV),\n ('RobustScaler', sklearn.preprocessing._data.RobustScaler),\n ('SGDClassifier', sklearn.linear_model._stochastic_gradient.SGDClassifier),\n ('SGDRegressor', sklearn.linear_model._stochastic_gradient.SGDRegressor),\n ('SVC', sklearn.svm._classes.SVC),\n ('SVR', sklearn.svm._classes.SVR),\n ('SelectFdr', sklearn.feature_selection._univariate_selection.SelectFdr),\n ('SelectFpr', sklearn.feature_selection._univariate_selection.SelectFpr),\n ('SelectFromModel', sklearn.feature_selection._from_model.SelectFromModel),\n ('SelectFwe', sklearn.feature_selection._univariate_selection.SelectFwe),\n ('SelectKBest', sklearn.feature_selection._univariate_selection.SelectKBest),\n ('SelectPercentile',\n  sklearn.feature_selection._univariate_selection.SelectPercentile),\n ('SelfTrainingClassifier',\n  sklearn.semi_supervised._self_training.SelfTrainingClassifier),\n ('SequentialFeatureSelector',\n  sklearn.feature_selection._sequential.SequentialFeatureSelector),\n ('ShrunkCovariance', sklearn.covariance._shrunk_covariance.ShrunkCovariance),\n ('SimpleImputer', sklearn.impute._base.SimpleImputer),\n ('SkewedChi2Sampler', sklearn.kernel_approximation.SkewedChi2Sampler),\n ('SparseCoder', sklearn.decomposition._dict_learning.SparseCoder),\n ('SparsePCA', sklearn.decomposition._sparse_pca.SparsePCA),\n ('SparseRandomProjection', sklearn.random_projection.SparseRandomProjection),\n ('SpectralBiclustering', sklearn.cluster._bicluster.SpectralBiclustering),\n ('SpectralClustering', sklearn.cluster._spectral.SpectralClustering),\n ('SpectralCoclustering', sklearn.cluster._bicluster.SpectralCoclustering),\n ('SpectralEmbedding', sklearn.manifold._spectral_embedding.SpectralEmbedding),\n ('StackingClassifier', sklearn.ensemble._stacking.StackingClassifier),\n ('StackingRegressor', sklearn.ensemble._stacking.StackingRegressor),\n ('StandardScaler', sklearn.preprocessing._data.StandardScaler),\n ('TSNE', sklearn.manifold._t_sne.TSNE),\n ('TfidfTransformer', sklearn.feature_extraction.text.TfidfTransformer),\n ('TfidfVectorizer', sklearn.feature_extraction.text.TfidfVectorizer),\n ('TheilSenRegressor', sklearn.linear_model._theil_sen.TheilSenRegressor),\n ('TransformedTargetRegressor',\n  sklearn.compose._target.TransformedTargetRegressor),\n ('TruncatedSVD', sklearn.decomposition._truncated_svd.TruncatedSVD),\n ('TweedieRegressor', sklearn.linear_model._glm.glm.TweedieRegressor),\n ('VarianceThreshold',\n  sklearn.feature_selection._variance_threshold.VarianceThreshold),\n ('VotingClassifier', sklearn.ensemble._voting.VotingClassifier),\n ('VotingRegressor', sklearn.ensemble._voting.VotingRegressor)]"
     },
     "execution_count": 3,
     "metadata": {},
     "output_type": "execute_result"
    }
   ],
   "source": [
    "utils.all_estimators()\n"
   ],
   "metadata": {
    "collapsed": false,
    "pycharm": {
     "name": "#%%\n"
    }
   }
  },
  {
   "cell_type": "code",
   "execution_count": null,
   "outputs": [],
   "source": [
    "\n"
   ],
   "metadata": {
    "collapsed": false,
    "pycharm": {
     "name": "#%%\n"
    }
   }
  }
 ],
 "metadata": {
  "kernelspec": {
   "display_name": "Python 3",
   "language": "python",
   "name": "python3"
  },
  "language_info": {
   "codemirror_mode": {
    "name": "ipython",
    "version": 2
   },
   "file_extension": ".py",
   "mimetype": "text/x-python",
   "name": "python",
   "nbconvert_exporter": "python",
   "pygments_lexer": "ipython2",
   "version": "2.7.6"
  }
 },
 "nbformat": 4,
 "nbformat_minor": 0
}