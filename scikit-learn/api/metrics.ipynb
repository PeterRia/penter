{
 "cells": [
  {
   "cell_type": "markdown",
   "metadata": {
    "collapsed": true,
    "pycharm": {
     "name": "#%% md\n"
    }
   },
   "source": [
    "# sklearn.metrics: Metrics 度量和评分\n",
    "\n",
    "精确率Precision=a/(a+c)=TP/(TP+FP),\n",
    "\n",
    "召回率recall=a/(a+b)=TP/(TP+FN),\n",
    "\n",
    "准确率accuracy=(a+d)/(a+b+c+d)=（TP+TN）/(TP+FN+FP+TN),\n",
    "\n",
    "评估一个模型的预测质量：\n",
    "1. estimator的score方法：sklearn中的estimator都具有一个score方法，它提供了一个缺省的评估法则来解决问题。\n",
    "2. Scoring参数：使用cross-validation的模型评估工具，依赖于内部的scoring策略。\n",
    "模型选择和评估工具，例如： grid_search.GridSearchCV 和 cross_validation.cross_val_score，使用scoring参数来控制你的estimator的好坏。\n",
    "\n",
    "3. Metric函数：metrics模块实现了一些函数，用来评估预测误差。\n",
    "sklearn.metric提供了一些函数，用来计算真实值与预测值之间的预测误差：\n",
    "\n",
    "- 以_score结尾的函数，返回一个最大值，越高越好\n",
    "- 以_error结尾的函数，返回一个最小值，越小越好；如果使用make_scorer来创建scorer时，将greater_is_better设为False\n",
    "\n",
    "```\n",
    "from sklearn.metrics import fbeta_score, make_scorer\n",
    "ftwo_scorer = make_scorer(fbeta_score, beta=2)\n",
    "from sklearn.grid_search import GridSearchCV\n",
    "from sklearn.svm import LinearSVC\n",
    "grid = GridSearchCV(LinearSVC(), param_grid={'C': [1, 10]}, scoring=ftwo_scorer\n",
    "```\n",
    "\n",
    "## 三个接口可以获取打分器\n",
    "metrics.check_scoring(estimator[, scoring, …])\n",
    "metrics.get_scorer(scoring)\n",
    "metrics.make_scorer(score_func, *[, …])\n",
    "\n",
    "## 分类指标\n",
    "accuracy_score\n",
    "分类准确率分数是指所有分类正确的百分比。分类准确率这一衡量分类器的标准比较容易理解，但是它不能告诉你响应值的潜在分布，并且它也不能告诉你分类器犯错的类型。\n",
    "\n",
    "\n",
    "## 回归指标\n",
    "## 聚类指标\n",
    "## Biclustering metrics\n",
    "就一个\n",
    "metrics.consensus_score 两组双簇的相似性。\n",
    "\n",
    "## Multilabel ranking metrics 多标签排名指标\n",
    "\n",
    "## Pairwise metrics 成对指标\n",
    "\n",
    "## 绘图，可视化相关"
   ]
  },
  {
   "cell_type": "code",
   "execution_count": 2,
   "outputs": [],
   "source": [
    "import numpy as np\n",
    "from sklearn.metrics import accuracy_score\n",
    "\n",
    "\n"
   ],
   "metadata": {
    "collapsed": false,
    "pycharm": {
     "name": "#%%\n"
    }
   }
  },
  {
   "cell_type": "code",
   "execution_count": 3,
   "outputs": [
    {
     "data": {
      "text/plain": "(0.5, 2)"
     },
     "execution_count": 3,
     "metadata": {},
     "output_type": "execute_result"
    }
   ],
   "source": [
    "# normalize：默认值为True，返回正确分类的比例；如果为False，返回正确分类的样本数\n",
    "y_pred = [0, 2, 1, 3]\n",
    "y_true = [0, 1, 2, 3]\n",
    "accuracy_score(y_true, y_pred), accuracy_score(y_true, y_pred, normalize=False)\n"
   ],
   "metadata": {
    "collapsed": false,
    "pycharm": {
     "name": "#%%\n"
    }
   }
  }
 ],
 "metadata": {
  "kernelspec": {
   "display_name": "Python 3",
   "language": "python",
   "name": "python3"
  },
  "language_info": {
   "codemirror_mode": {
    "name": "ipython",
    "version": 2
   },
   "file_extension": ".py",
   "mimetype": "text/x-python",
   "name": "python",
   "nbconvert_exporter": "python",
   "pygments_lexer": "ipython2",
   "version": "2.7.6"
  }
 },
 "nbformat": 4,
 "nbformat_minor": 0
}