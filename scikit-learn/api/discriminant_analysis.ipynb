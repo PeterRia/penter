{
 "cells": [
  {
   "cell_type": "markdown",
   "metadata": {
    "collapsed": true,
    "pycharm": {
     "name": "#%% md\n"
    }
   },
   "source": [
    "# sklearn.discriminant_analysis: Discriminant Analysis 判别分析\n",
    "判别分析 可以得到类别的概率 predict_proba(X)\n",
    "\n",
    "## LinearDiscriminantAnalysis  LDA 线性判别分析\n",
    "\n",
    "线性判别分析是一种分类模型，它通过在k维空间选择一个投影超平面，使得不同类别在该超平面上的投影之间的距离尽可能近，同时不同类别的投影之间的距离尽可能远，在LDA中，我们假设每一个类别的数据服从高斯分布，且具有相同协方差矩阵Σ。\n",
    "  此外，由于LDA会将k维数据投影到k-1维的超平面，因此也具有demension reduction的作用。不同于PCA会选择数据变化最大的方向，LDA会主要以类别为思考因素，使得投影后的样本尽可能可分。\n",
    "\n",
    "## QuadraticDiscriminantAnalysis QDA\n",
    "类似于LDA，不同的地方是它可以形成非线性的边界，并且不同的类所属的高斯分布具有不同的协方差矩阵。\n",
    "\n"
   ]
  },
  {
   "cell_type": "code",
   "execution_count": null,
   "outputs": [],
   "source": [
    "import importlib\n",
    "\n",
    "# 不用提前导入\n",
    "def class_for_name(module_name, class_name):\n",
    "    # load the module, will raise ImportError if module cannot be loaded\n",
    "    m = importlib.import_module(module_name)\n",
    "    # get the class, will raise AttributeError if class cannot be found\n",
    "    c = getattr(m, class_name)\n",
    "    return c\n",
    "\n",
    "class_for_name(\"sklearn.kernel_approximation\",\"AdditiveChi2Sampler\")"
   ],
   "metadata": {
    "collapsed": false,
    "pycharm": {
     "name": "#%%\n"
    }
   }
  },
  {
   "cell_type": "code",
   "execution_count": null,
   "outputs": [],
   "source": [
    "import sklearn\n",
    "import sys\n",
    " \n",
    "# 需要提前导入\n",
    "def str_to_class(module_name,class_name):\n",
    "    return getattr(sys.modules[module_name], class_name)\n",
    "\n",
    "str_to_class(\"sklearn.kernel_approximation\", \"AdditiveChi2Sampler\")"
   ],
   "metadata": {
    "collapsed": false,
    "pycharm": {
     "name": "#%%\n"
    }
   }
  },
  {
   "cell_type": "code",
   "execution_count": null,
   "outputs": [],
   "source": [
    "import sklearn.linear_model\n",
    "# 查看方法的参数\n",
    "b = sklearn.linear_model.HuberRegressor()\n",
    "b.fit.__code__.co_varnames # ('self', 'X', 'y', 'sample_weight', 'parameters', 'bounds', 'opt_res', 'residual')\n",
    "\n",
    "# sklearn.kernel_approximation.AdditiveChi2Sampler.__init__.__code__.co_varnames\n",
    "\n",
    "# # 方法1:\n",
    "# print(AcsClient.__init__.__code__.co_argcount)  # 查看参数的个数, 值为14\n",
    "# print(AcsClient.__init__.__code__.co_varnames)  # 查看所有的参数名以及 方法中定义的变量, 此处返回一个17元素的元组,前14个为参数, 后3个是方法中定义的变量\n",
    "# print(AcsClient.__init__.__defaults__)         # 查看参数的默认值\n",
    "# # 方法2:\n",
    "# print(help(AcsClient.__init__))\n",
    "\n",
    "import inspect\n",
    "inspect.getfullargspec(b.fit)\n",
    "# FullArgSpec(args=['self', 'X', 'y', 'sample_weight'], varargs=None, varkw=None, defaults=(None,), kwonlyargs=[], kwonlydefaults=None, annotations={})"
   ],
   "metadata": {
    "collapsed": false,
    "pycharm": {
     "name": "#%%\n"
    }
   }
  },
  {
   "cell_type": "code",
   "execution_count": 9,
   "outputs": [
    {
     "name": "stdout",
     "output_type": "stream",
     "text": [
      "('AdaBoostClassifier', ['__abstractmethods__', '__annotations__', '__class__', '__delattr__', '__dict__', '__dir__', '__doc__', '__eq__', '__format__', '__ge__', '__getattribute__', '__getitem__', '__getstate__', '__gt__', '__hash__', '__init__', '__init_subclass__', '__iter__', '__le__', '__len__', '__lt__', '__module__', '__ne__', '__new__', '__reduce__', '__reduce_ex__', '__repr__', '__setattr__', '__setstate__', '__sizeof__', '__str__', '__subclasshook__', '__weakref__', '_abc_impl', '_boost', '_boost_discrete', '_boost_real', '_check_X', '_check_n_features', '_compute_proba_from_decision', '_estimator_type', '_get_param_names', '_get_tags', '_make_estimator', '_more_tags', '_repr_html_', '_repr_html_inner', '_repr_mimebundle_', '_required_parameters', '_validate_data', '_validate_estimator', 'decision_function', 'feature_importances_', 'fit', 'get_params', 'predict', 'predict_log_proba', 'predict_proba', 'score', 'set_params', 'staged_decision_function', 'staged_predict', 'staged_predict_proba', 'staged_score'])\n",
      "('BaggingClassifier', ['__abstractmethods__', '__annotations__', '__class__', '__delattr__', '__dict__', '__dir__', '__doc__', '__eq__', '__format__', '__ge__', '__getattribute__', '__getitem__', '__getstate__', '__gt__', '__hash__', '__init__', '__init_subclass__', '__iter__', '__le__', '__len__', '__lt__', '__module__', '__ne__', '__new__', '__reduce__', '__reduce_ex__', '__repr__', '__setattr__', '__setstate__', '__sizeof__', '__str__', '__subclasshook__', '__weakref__', '_abc_impl', '_check_n_features', '_estimator_type', '_fit', '_get_estimators_indices', '_get_param_names', '_get_tags', '_make_estimator', '_more_tags', '_parallel_args', '_repr_html_', '_repr_html_inner', '_repr_mimebundle_', '_required_parameters', '_set_oob_score', '_validate_data', '_validate_estimator', '_validate_y', 'decision_function', 'estimators_samples_', 'fit', 'get_params', 'predict', 'predict_log_proba', 'predict_proba', 'score', 'set_params'])\n",
      "('BayesianGaussianMixture', ['__abstractmethods__', '__class__', '__delattr__', '__dict__', '__dir__', '__doc__', '__eq__', '__format__', '__ge__', '__getattribute__', '__getstate__', '__gt__', '__hash__', '__init__', '__init_subclass__', '__le__', '__lt__', '__module__', '__ne__', '__new__', '__reduce__', '__reduce_ex__', '__repr__', '__setattr__', '__setstate__', '__sizeof__', '__str__', '__subclasshook__', '__weakref__', '_abc_impl', '_check_initial_parameters', '_check_means_parameters', '_check_n_features', '_check_parameters', '_check_precision_parameters', '_check_weights_parameters', '_checkcovariance_prior_parameter', '_compute_lower_bound', '_e_step', '_estimate_log_prob', '_estimate_log_prob_resp', '_estimate_log_weights', '_estimate_means', '_estimate_precisions', '_estimate_weighted_log_prob', '_estimate_weights', '_estimate_wishart_diag', '_estimate_wishart_full', '_estimate_wishart_spherical', '_estimate_wishart_tied', '_estimator_type', '_get_param_names', '_get_parameters', '_get_tags', '_initialize', '_initialize_parameters', '_m_step', '_more_tags', '_print_verbose_msg_init_beg', '_print_verbose_msg_init_end', '_print_verbose_msg_iter_end', '_repr_html_', '_repr_html_inner', '_repr_mimebundle_', '_set_parameters', '_validate_data', 'fit', 'fit_predict', 'get_params', 'predict', 'predict_proba', 'sample', 'score', 'score_samples', 'set_params'])\n",
      "('BernoulliNB', ['__abstractmethods__', '__class__', '__delattr__', '__dict__', '__dir__', '__doc__', '__eq__', '__format__', '__ge__', '__getattribute__', '__getstate__', '__gt__', '__hash__', '__init__', '__init_subclass__', '__le__', '__lt__', '__module__', '__ne__', '__new__', '__reduce__', '__reduce_ex__', '__repr__', '__setattr__', '__setstate__', '__sizeof__', '__str__', '__subclasshook__', '__weakref__', '_abc_impl', '_check_X', '_check_X_y', '_check_alpha', '_check_n_features', '_count', '_estimator_type', '_get_param_names', '_get_tags', '_init_counters', '_joint_log_likelihood', '_more_tags', '_repr_html_', '_repr_html_inner', '_repr_mimebundle_', '_update_class_log_prior', '_update_feature_log_prob', '_validate_data', 'coef_', 'fit', 'get_params', 'intercept_', 'partial_fit', 'predict', 'predict_log_proba', 'predict_proba', 'score', 'set_params'])\n",
      "('CalibratedClassifierCV', ['__class__', '__delattr__', '__dict__', '__dir__', '__doc__', '__eq__', '__format__', '__ge__', '__getattribute__', '__getstate__', '__gt__', '__hash__', '__init__', '__init_subclass__', '__le__', '__lt__', '__module__', '__ne__', '__new__', '__reduce__', '__reduce_ex__', '__repr__', '__setattr__', '__setstate__', '__sizeof__', '__str__', '__subclasshook__', '__weakref__', '_check_n_features', '_estimator_type', '_get_param_names', '_get_tags', '_more_tags', '_repr_html_', '_repr_html_inner', '_repr_mimebundle_', '_required_parameters', '_validate_data', 'fit', 'get_params', 'predict', 'predict_proba', 'score', 'set_params'])\n",
      "('CategoricalNB', ['__abstractmethods__', '__class__', '__delattr__', '__dict__', '__dir__', '__doc__', '__eq__', '__format__', '__ge__', '__getattribute__', '__getstate__', '__gt__', '__hash__', '__init__', '__init_subclass__', '__le__', '__lt__', '__module__', '__ne__', '__new__', '__reduce__', '__reduce_ex__', '__repr__', '__setattr__', '__setstate__', '__sizeof__', '__str__', '__subclasshook__', '__weakref__', '_abc_impl', '_check_X', '_check_X_y', '_check_alpha', '_check_n_features', '_count', '_estimator_type', '_get_param_names', '_get_tags', '_init_counters', '_joint_log_likelihood', '_more_tags', '_repr_html_', '_repr_html_inner', '_repr_mimebundle_', '_update_class_log_prior', '_update_feature_log_prob', '_validate_data', '_validate_n_categories', 'coef_', 'fit', 'get_params', 'intercept_', 'partial_fit', 'predict', 'predict_log_proba', 'predict_proba', 'score', 'set_params'])\n",
      "('ClassifierChain', ['__abstractmethods__', '__class__', '__delattr__', '__dict__', '__dir__', '__doc__', '__eq__', '__format__', '__ge__', '__getattribute__', '__getstate__', '__gt__', '__hash__', '__init__', '__init_subclass__', '__le__', '__lt__', '__module__', '__ne__', '__new__', '__reduce__', '__reduce_ex__', '__repr__', '__setattr__', '__setstate__', '__sizeof__', '__str__', '__subclasshook__', '__weakref__', '_abc_impl', '_check_n_features', '_estimator_type', '_get_param_names', '_get_tags', '_more_tags', '_repr_html_', '_repr_html_inner', '_repr_mimebundle_', '_required_parameters', '_validate_data', 'decision_function', 'fit', 'get_params', 'predict', 'predict_proba', 'score', 'set_params'])\n",
      "('ComplementNB', ['__abstractmethods__', '__class__', '__delattr__', '__dict__', '__dir__', '__doc__', '__eq__', '__format__', '__ge__', '__getattribute__', '__getstate__', '__gt__', '__hash__', '__init__', '__init_subclass__', '__le__', '__lt__', '__module__', '__ne__', '__new__', '__reduce__', '__reduce_ex__', '__repr__', '__setattr__', '__setstate__', '__sizeof__', '__str__', '__subclasshook__', '__weakref__', '_abc_impl', '_check_X', '_check_X_y', '_check_alpha', '_check_n_features', '_count', '_estimator_type', '_get_param_names', '_get_tags', '_init_counters', '_joint_log_likelihood', '_more_tags', '_repr_html_', '_repr_html_inner', '_repr_mimebundle_', '_update_class_log_prior', '_update_feature_log_prob', '_validate_data', 'coef_', 'fit', 'get_params', 'intercept_', 'partial_fit', 'predict', 'predict_log_proba', 'predict_proba', 'score', 'set_params'])\n",
      "('DecisionTreeClassifier', ['__abstractmethods__', '__class__', '__delattr__', '__dict__', '__dir__', '__doc__', '__eq__', '__format__', '__ge__', '__getattribute__', '__getstate__', '__gt__', '__hash__', '__init__', '__init_subclass__', '__le__', '__lt__', '__module__', '__ne__', '__new__', '__reduce__', '__reduce_ex__', '__repr__', '__setattr__', '__setstate__', '__sizeof__', '__str__', '__subclasshook__', '__weakref__', '_abc_impl', '_check_n_features', '_estimator_type', '_get_param_names', '_get_tags', '_more_tags', '_prune_tree', '_repr_html_', '_repr_html_inner', '_repr_mimebundle_', '_validate_X_predict', '_validate_data', 'apply', 'cost_complexity_pruning_path', 'decision_path', 'feature_importances_', 'fit', 'get_depth', 'get_n_leaves', 'get_params', 'predict', 'predict_log_proba', 'predict_proba', 'score', 'set_params'])\n",
      "('DummyClassifier', ['__class__', '__delattr__', '__dict__', '__dir__', '__doc__', '__eq__', '__format__', '__ge__', '__getattribute__', '__getstate__', '__gt__', '__hash__', '__init__', '__init_subclass__', '__le__', '__lt__', '__module__', '__ne__', '__new__', '__reduce__', '__reduce_ex__', '__repr__', '__setattr__', '__setstate__', '__sizeof__', '__str__', '__subclasshook__', '__weakref__', '_check_n_features', '_estimator_type', '_get_param_names', '_get_tags', '_more_tags', '_repr_html_', '_repr_html_inner', '_repr_mimebundle_', '_validate_data', 'fit', 'get_params', 'predict', 'predict_log_proba', 'predict_proba', 'score', 'set_params'])\n",
      "('ExtraTreeClassifier', ['__abstractmethods__', '__class__', '__delattr__', '__dict__', '__dir__', '__doc__', '__eq__', '__format__', '__ge__', '__getattribute__', '__getstate__', '__gt__', '__hash__', '__init__', '__init_subclass__', '__le__', '__lt__', '__module__', '__ne__', '__new__', '__reduce__', '__reduce_ex__', '__repr__', '__setattr__', '__setstate__', '__sizeof__', '__str__', '__subclasshook__', '__weakref__', '_abc_impl', '_check_n_features', '_estimator_type', '_get_param_names', '_get_tags', '_more_tags', '_prune_tree', '_repr_html_', '_repr_html_inner', '_repr_mimebundle_', '_validate_X_predict', '_validate_data', 'apply', 'cost_complexity_pruning_path', 'decision_path', 'feature_importances_', 'fit', 'get_depth', 'get_n_leaves', 'get_params', 'predict', 'predict_log_proba', 'predict_proba', 'score', 'set_params'])\n",
      "('ExtraTreesClassifier', ['__abstractmethods__', '__annotations__', '__class__', '__delattr__', '__dict__', '__dir__', '__doc__', '__eq__', '__format__', '__ge__', '__getattribute__', '__getitem__', '__getstate__', '__gt__', '__hash__', '__init__', '__init_subclass__', '__iter__', '__le__', '__len__', '__lt__', '__module__', '__ne__', '__new__', '__reduce__', '__reduce_ex__', '__repr__', '__setattr__', '__setstate__', '__sizeof__', '__str__', '__subclasshook__', '__weakref__', '_abc_impl', '_check_n_features', '_estimator_type', '_get_param_names', '_get_tags', '_make_estimator', '_more_tags', '_repr_html_', '_repr_html_inner', '_repr_mimebundle_', '_required_parameters', '_set_oob_score', '_validate_X_predict', '_validate_data', '_validate_estimator', '_validate_y_class_weight', 'apply', 'decision_path', 'feature_importances_', 'fit', 'get_params', 'predict', 'predict_log_proba', 'predict_proba', 'score', 'set_params'])\n",
      "('GaussianMixture', ['__abstractmethods__', '__class__', '__delattr__', '__dict__', '__dir__', '__doc__', '__eq__', '__format__', '__ge__', '__getattribute__', '__getstate__', '__gt__', '__hash__', '__init__', '__init_subclass__', '__le__', '__lt__', '__module__', '__ne__', '__new__', '__reduce__', '__reduce_ex__', '__repr__', '__setattr__', '__setstate__', '__sizeof__', '__str__', '__subclasshook__', '__weakref__', '_abc_impl', '_check_initial_parameters', '_check_n_features', '_check_parameters', '_compute_lower_bound', '_e_step', '_estimate_log_prob', '_estimate_log_prob_resp', '_estimate_log_weights', '_estimate_weighted_log_prob', '_estimator_type', '_get_param_names', '_get_parameters', '_get_tags', '_initialize', '_initialize_parameters', '_m_step', '_more_tags', '_n_parameters', '_print_verbose_msg_init_beg', '_print_verbose_msg_init_end', '_print_verbose_msg_iter_end', '_repr_html_', '_repr_html_inner', '_repr_mimebundle_', '_set_parameters', '_validate_data', 'aic', 'bic', 'fit', 'fit_predict', 'get_params', 'predict', 'predict_proba', 'sample', 'score', 'score_samples', 'set_params'])\n",
      "('GaussianNB', ['__abstractmethods__', '__class__', '__delattr__', '__dict__', '__dir__', '__doc__', '__eq__', '__format__', '__ge__', '__getattribute__', '__getstate__', '__gt__', '__hash__', '__init__', '__init_subclass__', '__le__', '__lt__', '__module__', '__ne__', '__new__', '__reduce__', '__reduce_ex__', '__repr__', '__setattr__', '__setstate__', '__sizeof__', '__str__', '__subclasshook__', '__weakref__', '_abc_impl', '_check_X', '_check_n_features', '_estimator_type', '_get_param_names', '_get_tags', '_joint_log_likelihood', '_more_tags', '_partial_fit', '_repr_html_', '_repr_html_inner', '_repr_mimebundle_', '_update_mean_variance', '_validate_data', 'fit', 'get_params', 'partial_fit', 'predict', 'predict_log_proba', 'predict_proba', 'score', 'set_params'])\n",
      "('GaussianProcessClassifier', ['__class__', '__delattr__', '__dict__', '__dir__', '__doc__', '__eq__', '__format__', '__ge__', '__getattribute__', '__getstate__', '__gt__', '__hash__', '__init__', '__init_subclass__', '__le__', '__lt__', '__module__', '__ne__', '__new__', '__reduce__', '__reduce_ex__', '__repr__', '__setattr__', '__setstate__', '__sizeof__', '__str__', '__subclasshook__', '__weakref__', '_check_n_features', '_estimator_type', '_get_param_names', '_get_tags', '_more_tags', '_repr_html_', '_repr_html_inner', '_repr_mimebundle_', '_validate_data', 'fit', 'get_params', 'kernel_', 'log_marginal_likelihood', 'predict', 'predict_proba', 'score', 'set_params'])\n",
      "('GradientBoostingClassifier', ['_SUPPORTED_LOSS', '__abstractmethods__', '__annotations__', '__class__', '__delattr__', '__dict__', '__dir__', '__doc__', '__eq__', '__format__', '__ge__', '__getattribute__', '__getitem__', '__getstate__', '__gt__', '__hash__', '__init__', '__init_subclass__', '__iter__', '__le__', '__len__', '__lt__', '__module__', '__ne__', '__new__', '__reduce__', '__reduce_ex__', '__repr__', '__setattr__', '__setstate__', '__sizeof__', '__str__', '__subclasshook__', '__weakref__', '_abc_impl', '_check_initialized', '_check_n_features', '_check_params', '_clear_state', '_compute_partial_dependence_recursion', '_estimator_type', '_fit_stage', '_fit_stages', '_get_param_names', '_get_tags', '_init_state', '_is_initialized', '_make_estimator', '_more_tags', '_raw_predict', '_raw_predict_init', '_repr_html_', '_repr_html_inner', '_repr_mimebundle_', '_required_parameters', '_resize_state', '_staged_raw_predict', '_validate_data', '_validate_estimator', '_validate_y', '_warn_mae_for_criterion', 'apply', 'decision_function', 'feature_importances_', 'fit', 'get_params', 'predict', 'predict_log_proba', 'predict_proba', 'score', 'set_params', 'staged_decision_function', 'staged_predict', 'staged_predict_proba'])\n",
      "('GridSearchCV', ['__abstractmethods__', '__class__', '__delattr__', '__dict__', '__dir__', '__doc__', '__eq__', '__format__', '__ge__', '__getattribute__', '__getstate__', '__gt__', '__hash__', '__init__', '__init_subclass__', '__le__', '__lt__', '__module__', '__ne__', '__new__', '__reduce__', '__reduce_ex__', '__repr__', '__setattr__', '__setstate__', '__sizeof__', '__str__', '__subclasshook__', '__weakref__', '_abc_impl', '_check_is_fitted', '_check_n_features', '_check_refit_for_multimetric', '_estimator_type', '_format_results', '_get_param_names', '_get_tags', '_more_tags', '_pairwise', '_repr_html_', '_repr_html_inner', '_repr_mimebundle_', '_required_parameters', '_run_search', '_validate_data', 'classes_', 'decision_function', 'fit', 'get_params', 'inverse_transform', 'n_features_in_', 'predict', 'predict_log_proba', 'predict_proba', 'score', 'score_samples', 'set_params', 'transform'])\n",
      "('HalvingGridSearchCV', ['__abstractmethods__', '__class__', '__delattr__', '__dict__', '__dir__', '__doc__', '__eq__', '__format__', '__ge__', '__getattribute__', '__getstate__', '__gt__', '__hash__', '__init__', '__init_subclass__', '__le__', '__lt__', '__module__', '__ne__', '__new__', '__reduce__', '__reduce_ex__', '__repr__', '__setattr__', '__setstate__', '__sizeof__', '__str__', '__subclasshook__', '__weakref__', '_abc_impl', '_check_input_parameters', '_check_is_fitted', '_check_n_features', '_check_refit_for_multimetric', '_estimator_type', '_format_results', '_generate_candidate_params', '_get_param_names', '_get_tags', '_more_tags', '_pairwise', '_repr_html_', '_repr_html_inner', '_repr_mimebundle_', '_required_parameters', '_run_search', '_validate_data', 'classes_', 'decision_function', 'fit', 'get_params', 'inverse_transform', 'n_features_in_', 'predict', 'predict_log_proba', 'predict_proba', 'score', 'score_samples', 'set_params', 'transform'])\n",
      "('HalvingRandomSearchCV', ['__abstractmethods__', '__class__', '__delattr__', '__dict__', '__dir__', '__doc__', '__eq__', '__format__', '__ge__', '__getattribute__', '__getstate__', '__gt__', '__hash__', '__init__', '__init_subclass__', '__le__', '__lt__', '__module__', '__ne__', '__new__', '__reduce__', '__reduce_ex__', '__repr__', '__setattr__', '__setstate__', '__sizeof__', '__str__', '__subclasshook__', '__weakref__', '_abc_impl', '_check_input_parameters', '_check_is_fitted', '_check_n_features', '_check_refit_for_multimetric', '_estimator_type', '_format_results', '_generate_candidate_params', '_get_param_names', '_get_tags', '_more_tags', '_pairwise', '_repr_html_', '_repr_html_inner', '_repr_mimebundle_', '_required_parameters', '_run_search', '_validate_data', 'classes_', 'decision_function', 'fit', 'get_params', 'inverse_transform', 'n_features_in_', 'predict', 'predict_log_proba', 'predict_proba', 'score', 'score_samples', 'set_params', 'transform'])\n",
      "('HistGradientBoostingClassifier', ['_VALID_LOSSES', '__abstractmethods__', '__class__', '__delattr__', '__dict__', '__dir__', '__doc__', '__eq__', '__format__', '__ge__', '__getattribute__', '__getstate__', '__gt__', '__hash__', '__init__', '__init_subclass__', '__le__', '__lt__', '__module__', '__ne__', '__new__', '__reduce__', '__reduce_ex__', '__repr__', '__setattr__', '__setstate__', '__sizeof__', '__slots__', '__str__', '__subclasshook__', '__weakref__', '_abc_impl', '_bin_data', '_check_categories', '_check_early_stopping_loss', '_check_early_stopping_scorer', '_check_n_features', '_clear_state', '_compute_partial_dependence_recursion', '_encode_y', '_estimator_type', '_get_loss', '_get_param_names', '_get_small_trainset', '_get_tags', '_is_fitted', '_more_tags', '_predict_iterations', '_print_iteration_stats', '_raw_predict', '_repr_html_', '_repr_html_inner', '_repr_mimebundle_', '_should_stop', '_staged_raw_predict', '_validate_data', '_validate_parameters', 'decision_function', 'fit', 'get_params', 'n_iter_', 'predict', 'predict_proba', 'score', 'set_params', 'staged_decision_function', 'staged_predict', 'staged_predict_proba'])\n",
      "('KNeighborsClassifier', ['__abstractmethods__', '__class__', '__delattr__', '__dict__', '__dir__', '__doc__', '__eq__', '__format__', '__ge__', '__getattribute__', '__getstate__', '__gt__', '__hash__', '__init__', '__init_subclass__', '__le__', '__lt__', '__module__', '__ne__', '__new__', '__reduce__', '__reduce_ex__', '__repr__', '__setattr__', '__setstate__', '__sizeof__', '__str__', '__subclasshook__', '__weakref__', '_abc_impl', '_check_algorithm_metric', '_check_n_features', '_estimator_type', '_fit', '_get_param_names', '_get_tags', '_kneighbors_reduce_func', '_more_tags', '_pairwise', '_repr_html_', '_repr_html_inner', '_repr_mimebundle_', '_validate_data', 'fit', 'get_params', 'kneighbors', 'kneighbors_graph', 'predict', 'predict_proba', 'score', 'set_params'])\n",
      "('LabelPropagation', ['__abstractmethods__', '__class__', '__delattr__', '__dict__', '__dir__', '__doc__', '__eq__', '__format__', '__ge__', '__getattribute__', '__getstate__', '__gt__', '__hash__', '__init__', '__init_subclass__', '__le__', '__lt__', '__module__', '__ne__', '__new__', '__reduce__', '__reduce_ex__', '__repr__', '__setattr__', '__setstate__', '__sizeof__', '__str__', '__subclasshook__', '__weakref__', '_abc_impl', '_build_graph', '_check_n_features', '_estimator_type', '_get_kernel', '_get_param_names', '_get_tags', '_more_tags', '_repr_html_', '_repr_html_inner', '_repr_mimebundle_', '_validate_data', '_variant', 'fit', 'get_params', 'predict', 'predict_proba', 'score', 'set_params'])\n",
      "('LabelSpreading', ['__abstractmethods__', '__class__', '__delattr__', '__dict__', '__dir__', '__doc__', '__eq__', '__format__', '__ge__', '__getattribute__', '__getstate__', '__gt__', '__hash__', '__init__', '__init_subclass__', '__le__', '__lt__', '__module__', '__ne__', '__new__', '__reduce__', '__reduce_ex__', '__repr__', '__setattr__', '__setstate__', '__sizeof__', '__str__', '__subclasshook__', '__weakref__', '_abc_impl', '_build_graph', '_check_n_features', '_estimator_type', '_get_kernel', '_get_param_names', '_get_tags', '_more_tags', '_repr_html_', '_repr_html_inner', '_repr_mimebundle_', '_validate_data', '_variant', 'fit', 'get_params', 'predict', 'predict_proba', 'score', 'set_params'])\n",
      "('LinearDiscriminantAnalysis', ['__class__', '__delattr__', '__dict__', '__dir__', '__doc__', '__eq__', '__format__', '__ge__', '__getattribute__', '__getstate__', '__gt__', '__hash__', '__init__', '__init_subclass__', '__le__', '__lt__', '__module__', '__ne__', '__new__', '__reduce__', '__reduce_ex__', '__repr__', '__setattr__', '__setstate__', '__sizeof__', '__str__', '__subclasshook__', '__weakref__', '_check_n_features', '_estimator_type', '_get_param_names', '_get_tags', '_more_tags', '_predict_proba_lr', '_repr_html_', '_repr_html_inner', '_repr_mimebundle_', '_solve_eigen', '_solve_lsqr', '_solve_svd', '_validate_data', 'decision_function', 'fit', 'fit_transform', 'get_params', 'predict', 'predict_log_proba', 'predict_proba', 'score', 'set_params', 'transform'])\n",
      "('LogisticRegression', ['__class__', '__delattr__', '__dict__', '__dir__', '__doc__', '__eq__', '__format__', '__ge__', '__getattribute__', '__getstate__', '__gt__', '__hash__', '__init__', '__init_subclass__', '__le__', '__lt__', '__module__', '__ne__', '__new__', '__reduce__', '__reduce_ex__', '__repr__', '__setattr__', '__setstate__', '__sizeof__', '__str__', '__subclasshook__', '__weakref__', '_check_n_features', '_estimator_type', '_get_param_names', '_get_tags', '_more_tags', '_predict_proba_lr', '_repr_html_', '_repr_html_inner', '_repr_mimebundle_', '_validate_data', 'decision_function', 'densify', 'fit', 'get_params', 'predict', 'predict_log_proba', 'predict_proba', 'score', 'set_params', 'sparsify'])\n",
      "('LogisticRegressionCV', ['__class__', '__delattr__', '__dict__', '__dir__', '__doc__', '__eq__', '__format__', '__ge__', '__getattribute__', '__getstate__', '__gt__', '__hash__', '__init__', '__init_subclass__', '__le__', '__lt__', '__module__', '__ne__', '__new__', '__reduce__', '__reduce_ex__', '__repr__', '__setattr__', '__setstate__', '__sizeof__', '__str__', '__subclasshook__', '__weakref__', '_check_n_features', '_estimator_type', '_get_param_names', '_get_tags', '_more_tags', '_predict_proba_lr', '_repr_html_', '_repr_html_inner', '_repr_mimebundle_', '_validate_data', 'decision_function', 'densify', 'fit', 'get_params', 'predict', 'predict_log_proba', 'predict_proba', 'score', 'set_params', 'sparsify'])\n",
      "('MLPClassifier', ['__abstractmethods__', '__class__', '__delattr__', '__dict__', '__dir__', '__doc__', '__eq__', '__format__', '__ge__', '__getattribute__', '__getstate__', '__gt__', '__hash__', '__init__', '__init_subclass__', '__le__', '__lt__', '__module__', '__ne__', '__new__', '__reduce__', '__reduce_ex__', '__repr__', '__setattr__', '__setstate__', '__sizeof__', '__str__', '__subclasshook__', '__weakref__', '_abc_impl', '_backprop', '_check_n_features', '_compute_loss_grad', '_estimator_type', '_fit', '_fit_lbfgs', '_fit_stochastic', '_forward_pass', '_forward_pass_fast', '_get_param_names', '_get_tags', '_init_coef', '_initialize', '_loss_grad_lbfgs', '_more_tags', '_partial_fit', '_repr_html_', '_repr_html_inner', '_repr_mimebundle_', '_unpack', '_update_no_improvement_count', '_validate_data', '_validate_hyperparameters', '_validate_input', 'fit', 'get_params', 'partial_fit', 'predict', 'predict_log_proba', 'predict_proba', 'score', 'set_params'])\n",
      "('MultiOutputClassifier', ['__abstractmethods__', '__class__', '__delattr__', '__dict__', '__dir__', '__doc__', '__eq__', '__format__', '__ge__', '__getattribute__', '__getstate__', '__gt__', '__hash__', '__init__', '__init_subclass__', '__le__', '__lt__', '__module__', '__ne__', '__new__', '__reduce__', '__reduce_ex__', '__repr__', '__setattr__', '__setstate__', '__sizeof__', '__str__', '__subclasshook__', '__weakref__', '_abc_impl', '_check_n_features', '_estimator_type', '_get_param_names', '_get_tags', '_more_tags', '_predict_proba', '_repr_html_', '_repr_html_inner', '_repr_mimebundle_', '_required_parameters', '_validate_data', 'fit', 'get_params', 'partial_fit', 'predict', 'predict_proba', 'score', 'set_params'])\n",
      "('MultinomialNB', ['__abstractmethods__', '__class__', '__delattr__', '__dict__', '__dir__', '__doc__', '__eq__', '__format__', '__ge__', '__getattribute__', '__getstate__', '__gt__', '__hash__', '__init__', '__init_subclass__', '__le__', '__lt__', '__module__', '__ne__', '__new__', '__reduce__', '__reduce_ex__', '__repr__', '__setattr__', '__setstate__', '__sizeof__', '__str__', '__subclasshook__', '__weakref__', '_abc_impl', '_check_X', '_check_X_y', '_check_alpha', '_check_n_features', '_count', '_estimator_type', '_get_param_names', '_get_tags', '_init_counters', '_joint_log_likelihood', '_more_tags', '_repr_html_', '_repr_html_inner', '_repr_mimebundle_', '_update_class_log_prior', '_update_feature_log_prob', '_validate_data', 'coef_', 'fit', 'get_params', 'intercept_', 'partial_fit', 'predict', 'predict_log_proba', 'predict_proba', 'score', 'set_params'])\n",
      "('NuSVC', ['__abstractmethods__', '__class__', '__delattr__', '__dict__', '__dir__', '__doc__', '__eq__', '__format__', '__ge__', '__getattribute__', '__getstate__', '__gt__', '__hash__', '__init__', '__init_subclass__', '__le__', '__lt__', '__module__', '__ne__', '__new__', '__reduce__', '__reduce_ex__', '__repr__', '__setattr__', '__setstate__', '__sizeof__', '__str__', '__subclasshook__', '__weakref__', '_abc_impl', '_check_n_features', '_check_proba', '_compute_kernel', '_decision_function', '_dense_decision_function', '_dense_fit', '_dense_predict', '_dense_predict_proba', '_estimator_type', '_get_coef', '_get_param_names', '_get_tags', '_impl', '_more_tags', '_pairwise', '_predict_log_proba', '_predict_proba', '_repr_html_', '_repr_html_inner', '_repr_mimebundle_', '_sparse_decision_function', '_sparse_fit', '_sparse_kernels', '_sparse_predict', '_sparse_predict_proba', '_validate_data', '_validate_for_predict', '_validate_targets', '_warn_from_fit_status', 'coef_', 'decision_function', 'fit', 'get_params', 'n_support_', 'predict', 'predict_log_proba', 'predict_proba', 'probA_', 'probB_', 'score', 'set_params'])\n",
      "('OneVsRestClassifier', ['__class__', '__delattr__', '__dict__', '__dir__', '__doc__', '__eq__', '__format__', '__ge__', '__getattribute__', '__getstate__', '__gt__', '__hash__', '__init__', '__init_subclass__', '__le__', '__lt__', '__module__', '__ne__', '__new__', '__reduce__', '__reduce_ex__', '__repr__', '__setattr__', '__setstate__', '__sizeof__', '__str__', '__subclasshook__', '__weakref__', '_check_n_features', '_estimator_type', '_first_estimator', '_get_param_names', '_get_tags', '_more_tags', '_pairwise', '_repr_html_', '_repr_html_inner', '_repr_mimebundle_', '_required_parameters', '_validate_data', 'coef_', 'decision_function', 'fit', 'get_params', 'intercept_', 'multilabel_', 'n_classes_', 'n_features_in_', 'partial_fit', 'predict', 'predict_proba', 'score', 'set_params'])\n",
      "('Pipeline', ['__abstractmethods__', '__annotations__', '__class__', '__delattr__', '__dict__', '__dir__', '__doc__', '__eq__', '__format__', '__ge__', '__getattribute__', '__getitem__', '__getstate__', '__gt__', '__hash__', '__init__', '__init_subclass__', '__le__', '__len__', '__lt__', '__module__', '__ne__', '__new__', '__reduce__', '__reduce_ex__', '__repr__', '__setattr__', '__setstate__', '__sizeof__', '__str__', '__subclasshook__', '__weakref__', '_abc_impl', '_check_fit_params', '_check_n_features', '_estimator_type', '_final_estimator', '_fit', '_get_param_names', '_get_params', '_get_tags', '_inverse_transform', '_iter', '_log_message', '_more_tags', '_pairwise', '_replace_estimator', '_repr_html_', '_repr_html_inner', '_repr_mimebundle_', '_required_parameters', '_set_params', '_sk_visual_block_', '_transform', '_validate_data', '_validate_names', '_validate_steps', 'classes_', 'decision_function', 'fit', 'fit_predict', 'fit_transform', 'get_params', 'inverse_transform', 'n_features_in_', 'named_steps', 'predict', 'predict_log_proba', 'predict_proba', 'score', 'score_samples', 'set_params', 'transform'])\n",
      "('QuadraticDiscriminantAnalysis', ['__class__', '__delattr__', '__dict__', '__dir__', '__doc__', '__eq__', '__format__', '__ge__', '__getattribute__', '__getstate__', '__gt__', '__hash__', '__init__', '__init_subclass__', '__le__', '__lt__', '__module__', '__ne__', '__new__', '__reduce__', '__reduce_ex__', '__repr__', '__setattr__', '__setstate__', '__sizeof__', '__str__', '__subclasshook__', '__weakref__', '_check_n_features', '_decision_function', '_estimator_type', '_get_param_names', '_get_tags', '_more_tags', '_repr_html_', '_repr_html_inner', '_repr_mimebundle_', '_validate_data', 'decision_function', 'fit', 'get_params', 'predict', 'predict_log_proba', 'predict_proba', 'score', 'set_params'])\n",
      "('RFE', ['__abstractmethods__', '__class__', '__delattr__', '__dict__', '__dir__', '__doc__', '__eq__', '__format__', '__ge__', '__getattribute__', '__getstate__', '__gt__', '__hash__', '__init__', '__init_subclass__', '__le__', '__lt__', '__module__', '__ne__', '__new__', '__reduce__', '__reduce_ex__', '__repr__', '__setattr__', '__setstate__', '__sizeof__', '__str__', '__subclasshook__', '__weakref__', '_abc_impl', '_check_n_features', '_estimator_type', '_fit', '_get_param_names', '_get_support_mask', '_get_tags', '_more_tags', '_repr_html_', '_repr_html_inner', '_repr_mimebundle_', '_required_parameters', '_validate_data', 'classes_', 'decision_function', 'fit', 'fit_transform', 'get_params', 'get_support', 'inverse_transform', 'predict', 'predict_log_proba', 'predict_proba', 'score', 'set_params', 'transform'])\n",
      "('RFECV', ['__abstractmethods__', '__class__', '__delattr__', '__dict__', '__dir__', '__doc__', '__eq__', '__format__', '__ge__', '__getattribute__', '__getstate__', '__gt__', '__hash__', '__init__', '__init_subclass__', '__le__', '__lt__', '__module__', '__ne__', '__new__', '__reduce__', '__reduce_ex__', '__repr__', '__setattr__', '__setstate__', '__sizeof__', '__str__', '__subclasshook__', '__weakref__', '_abc_impl', '_check_n_features', '_estimator_type', '_fit', '_get_param_names', '_get_support_mask', '_get_tags', '_more_tags', '_repr_html_', '_repr_html_inner', '_repr_mimebundle_', '_required_parameters', '_validate_data', 'classes_', 'decision_function', 'fit', 'fit_transform', 'get_params', 'get_support', 'inverse_transform', 'predict', 'predict_log_proba', 'predict_proba', 'score', 'set_params', 'transform'])\n",
      "('RadiusNeighborsClassifier', ['__abstractmethods__', '__class__', '__delattr__', '__dict__', '__dir__', '__doc__', '__eq__', '__format__', '__ge__', '__getattribute__', '__getstate__', '__gt__', '__hash__', '__init__', '__init_subclass__', '__le__', '__lt__', '__module__', '__ne__', '__new__', '__reduce__', '__reduce_ex__', '__repr__', '__setattr__', '__setstate__', '__sizeof__', '__str__', '__subclasshook__', '__weakref__', '_abc_impl', '_check_algorithm_metric', '_check_n_features', '_estimator_type', '_fit', '_get_param_names', '_get_tags', '_more_tags', '_pairwise', '_radius_neighbors_reduce_func', '_repr_html_', '_repr_html_inner', '_repr_mimebundle_', '_validate_data', 'fit', 'get_params', 'predict', 'predict_proba', 'radius_neighbors', 'radius_neighbors_graph', 'score', 'set_params'])\n",
      "('RandomForestClassifier', ['__abstractmethods__', '__annotations__', '__class__', '__delattr__', '__dict__', '__dir__', '__doc__', '__eq__', '__format__', '__ge__', '__getattribute__', '__getitem__', '__getstate__', '__gt__', '__hash__', '__init__', '__init_subclass__', '__iter__', '__le__', '__len__', '__lt__', '__module__', '__ne__', '__new__', '__reduce__', '__reduce_ex__', '__repr__', '__setattr__', '__setstate__', '__sizeof__', '__str__', '__subclasshook__', '__weakref__', '_abc_impl', '_check_n_features', '_estimator_type', '_get_param_names', '_get_tags', '_make_estimator', '_more_tags', '_repr_html_', '_repr_html_inner', '_repr_mimebundle_', '_required_parameters', '_set_oob_score', '_validate_X_predict', '_validate_data', '_validate_estimator', '_validate_y_class_weight', 'apply', 'decision_path', 'feature_importances_', 'fit', 'get_params', 'predict', 'predict_log_proba', 'predict_proba', 'score', 'set_params'])\n",
      "('RandomizedSearchCV', ['__abstractmethods__', '__class__', '__delattr__', '__dict__', '__dir__', '__doc__', '__eq__', '__format__', '__ge__', '__getattribute__', '__getstate__', '__gt__', '__hash__', '__init__', '__init_subclass__', '__le__', '__lt__', '__module__', '__ne__', '__new__', '__reduce__', '__reduce_ex__', '__repr__', '__setattr__', '__setstate__', '__sizeof__', '__str__', '__subclasshook__', '__weakref__', '_abc_impl', '_check_is_fitted', '_check_n_features', '_check_refit_for_multimetric', '_estimator_type', '_format_results', '_get_param_names', '_get_tags', '_more_tags', '_pairwise', '_repr_html_', '_repr_html_inner', '_repr_mimebundle_', '_required_parameters', '_run_search', '_validate_data', 'classes_', 'decision_function', 'fit', 'get_params', 'inverse_transform', 'n_features_in_', 'predict', 'predict_log_proba', 'predict_proba', 'score', 'score_samples', 'set_params', 'transform'])\n",
      "('SGDClassifier', ['__abstractmethods__', '__class__', '__delattr__', '__dict__', '__dir__', '__doc__', '__eq__', '__format__', '__ge__', '__getattribute__', '__getstate__', '__gt__', '__hash__', '__init__', '__init_subclass__', '__le__', '__lt__', '__module__', '__ne__', '__new__', '__reduce__', '__reduce_ex__', '__repr__', '__setattr__', '__setstate__', '__sizeof__', '__str__', '__subclasshook__', '__weakref__', '_abc_impl', '_allocate_parameter_mem', '_check_n_features', '_check_proba', '_estimator_type', '_fit', '_fit_binary', '_fit_multiclass', '_get_learning_rate_type', '_get_loss_function', '_get_param_names', '_get_penalty_type', '_get_tags', '_make_validation_score_cb', '_make_validation_split', '_more_tags', '_partial_fit', '_predict_log_proba', '_predict_proba', '_predict_proba_lr', '_repr_html_', '_repr_html_inner', '_repr_mimebundle_', '_validate_data', '_validate_params', 'average_coef_', 'average_intercept_', 'decision_function', 'densify', 'fit', 'get_params', 'loss_functions', 'partial_fit', 'predict', 'predict_log_proba', 'predict_proba', 'score', 'set_params', 'sparsify', 'standard_coef_', 'standard_intercept_'])\n",
      "('SVC', ['__abstractmethods__', '__class__', '__delattr__', '__dict__', '__dir__', '__doc__', '__eq__', '__format__', '__ge__', '__getattribute__', '__getstate__', '__gt__', '__hash__', '__init__', '__init_subclass__', '__le__', '__lt__', '__module__', '__ne__', '__new__', '__reduce__', '__reduce_ex__', '__repr__', '__setattr__', '__setstate__', '__sizeof__', '__str__', '__subclasshook__', '__weakref__', '_abc_impl', '_check_n_features', '_check_proba', '_compute_kernel', '_decision_function', '_dense_decision_function', '_dense_fit', '_dense_predict', '_dense_predict_proba', '_estimator_type', '_get_coef', '_get_param_names', '_get_tags', '_impl', '_more_tags', '_pairwise', '_predict_log_proba', '_predict_proba', '_repr_html_', '_repr_html_inner', '_repr_mimebundle_', '_sparse_decision_function', '_sparse_fit', '_sparse_kernels', '_sparse_predict', '_sparse_predict_proba', '_validate_data', '_validate_for_predict', '_validate_targets', '_warn_from_fit_status', 'coef_', 'decision_function', 'fit', 'get_params', 'n_support_', 'predict', 'predict_log_proba', 'predict_proba', 'probA_', 'probB_', 'score', 'set_params'])\n",
      "('SelfTrainingClassifier', ['__class__', '__delattr__', '__dict__', '__dir__', '__doc__', '__eq__', '__format__', '__ge__', '__getattribute__', '__getstate__', '__gt__', '__hash__', '__init__', '__init_subclass__', '__le__', '__lt__', '__module__', '__ne__', '__new__', '__reduce__', '__reduce_ex__', '__repr__', '__setattr__', '__setstate__', '__sizeof__', '__str__', '__subclasshook__', '__weakref__', '_check_n_features', '_estimator_type', '_get_param_names', '_get_tags', '_more_tags', '_repr_html_', '_repr_html_inner', '_repr_mimebundle_', '_required_parameters', '_validate_data', 'decision_function', 'fit', 'get_params', 'predict', 'predict_log_proba', 'predict_proba', 'score', 'set_params'])\n",
      "('StackingClassifier', ['__abstractmethods__', '__annotations__', '__class__', '__delattr__', '__dict__', '__dir__', '__doc__', '__eq__', '__format__', '__ge__', '__getattribute__', '__getstate__', '__gt__', '__hash__', '__init__', '__init_subclass__', '__le__', '__lt__', '__module__', '__ne__', '__new__', '__reduce__', '__reduce_ex__', '__repr__', '__setattr__', '__setstate__', '__sizeof__', '__str__', '__subclasshook__', '__weakref__', '_abc_impl', '_check_n_features', '_clone_final_estimator', '_concatenate_predictions', '_estimator_type', '_get_param_names', '_get_params', '_get_tags', '_method_name', '_more_tags', '_replace_estimator', '_repr_html_', '_repr_html_inner', '_repr_mimebundle_', '_required_parameters', '_set_params', '_sk_visual_block_', '_transform', '_validate_data', '_validate_estimators', '_validate_final_estimator', '_validate_names', 'decision_function', 'fit', 'fit_transform', 'get_params', 'n_features_in_', 'named_estimators', 'predict', 'predict_proba', 'score', 'set_params', 'transform'])\n",
      "('VotingClassifier', ['__abstractmethods__', '__annotations__', '__class__', '__delattr__', '__dict__', '__dir__', '__doc__', '__eq__', '__format__', '__ge__', '__getattribute__', '__getstate__', '__gt__', '__hash__', '__init__', '__init_subclass__', '__le__', '__lt__', '__module__', '__ne__', '__new__', '__reduce__', '__reduce_ex__', '__repr__', '__setattr__', '__setstate__', '__sizeof__', '__str__', '__subclasshook__', '__weakref__', '_abc_impl', '_check_n_features', '_collect_probas', '_estimator_type', '_get_param_names', '_get_params', '_get_tags', '_log_message', '_more_tags', '_predict', '_predict_proba', '_replace_estimator', '_repr_html_', '_repr_html_inner', '_repr_mimebundle_', '_required_parameters', '_set_params', '_sk_visual_block_', '_validate_data', '_validate_estimators', '_validate_names', '_weights_not_none', 'fit', 'fit_transform', 'get_params', 'n_features_in_', 'named_estimators', 'predict', 'predict_proba', 'score', 'set_params', 'transform'])\n"
     ]
    }
   ],
   "source": [
    "from sklearn import utils\n",
    "\n",
    "all_predict_proba = []\n",
    "for name, estimator in utils.all_estimators():\n",
    "    if getattr(estimator, \"predict_proba\", None):\n",
    "        # print((name, estimator.__module__))\n",
    "        all_predict_proba.append(estimator.__module__ + \".\" + estimator.__name__)\n",
    "\n",
    "all_predict_proba.sort()\n",
    "for c in all_predict_proba:\n",
    "    print(c)"
   ],
   "metadata": {
    "collapsed": false,
    "pycharm": {
     "name": "#%%\n"
    }
   }
  },
  {
   "cell_type": "markdown",
   "source": [
    "以下 估计器是可以计算概率的\n",
    "```\n",
    "sklearn.calibration.CalibratedClassifierCV\n",
    "sklearn.discriminant_analysis.LinearDiscriminantAnalysis\n",
    "sklearn.discriminant_analysis.QuadraticDiscriminantAnalysis\n",
    "sklearn.dummy.DummyClassifier\n",
    "sklearn.ensemble._bagging.BaggingClassifier\n",
    "sklearn.ensemble._forest.ExtraTreesClassifier\n",
    "sklearn.ensemble._forest.RandomForestClassifier\n",
    "sklearn.ensemble._gb.GradientBoostingClassifier\n",
    "sklearn.ensemble._hist_gradient_boosting.gradient_boosting.HistGradientBoostingClassifier\n",
    "sklearn.ensemble._stacking.StackingClassifier\n",
    "sklearn.ensemble._voting.VotingClassifier\n",
    "sklearn.ensemble._weight_boosting.AdaBoostClassifier\n",
    "sklearn.feature_selection._rfe.RFE\n",
    "sklearn.feature_selection._rfe.RFECV\n",
    "sklearn.gaussian_process._gpc.GaussianProcessClassifier\n",
    "sklearn.linear_model._logistic.LogisticRegression\n",
    "sklearn.linear_model._logistic.LogisticRegressionCV\n",
    "sklearn.linear_model._stochastic_gradient.SGDClassifier\n",
    "sklearn.mixture._bayesian_mixture.BayesianGaussianMixture\n",
    "sklearn.mixture._gaussian_mixture.GaussianMixture\n",
    "sklearn.model_selection._search.GridSearchCV\n",
    "sklearn.model_selection._search.RandomizedSearchCV\n",
    "sklearn.model_selection._search_successive_halving.HalvingGridSearchCV\n",
    "sklearn.model_selection._search_successive_halving.HalvingRandomSearchCV\n",
    "sklearn.multiclass.OneVsRestClassifier\n",
    "sklearn.multioutput.ClassifierChain\n",
    "sklearn.multioutput.MultiOutputClassifier\n",
    "sklearn.naive_bayes.BernoulliNB\n",
    "sklearn.naive_bayes.CategoricalNB\n",
    "sklearn.naive_bayes.ComplementNB\n",
    "sklearn.naive_bayes.GaussianNB\n",
    "sklearn.naive_bayes.MultinomialNB\n",
    "sklearn.neighbors._classification.KNeighborsClassifier\n",
    "sklearn.neighbors._classification.RadiusNeighborsClassifier\n",
    "sklearn.neural_network._multilayer_perceptron.MLPClassifier\n",
    "sklearn.pipeline.Pipeline\n",
    "sklearn.semi_supervised._label_propagation.LabelPropagation\n",
    "sklearn.semi_supervised._label_propagation.LabelSpreading\n",
    "sklearn.semi_supervised._self_training.SelfTrainingClassifier\n",
    "sklearn.svm._classes.NuSVC\n",
    "sklearn.svm._classes.SVC\n",
    "sklearn.tree._classes.DecisionTreeClassifier\n",
    "sklearn.tree._classes.ExtraTreeClassifier\n",
    "```\n"
   ],
   "metadata": {
    "collapsed": false
   }
  }
 ],
 "metadata": {
  "kernelspec": {
   "display_name": "Python 3",
   "language": "python",
   "name": "python3"
  },
  "language_info": {
   "codemirror_mode": {
    "name": "ipython",
    "version": 2
   },
   "file_extension": ".py",
   "mimetype": "text/x-python",
   "name": "python",
   "nbconvert_exporter": "python",
   "pygments_lexer": "ipython2",
   "version": "2.7.6"
  }
 },
 "nbformat": 4,
 "nbformat_minor": 0
}