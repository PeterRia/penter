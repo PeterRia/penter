{
 "cells": [
  {
   "cell_type": "markdown",
   "metadata": {
    "collapsed": true,
    "pycharm": {
     "name": "#%% md\n"
    }
   },
   "source": []
  },
  {
   "cell_type": "code",
   "execution_count": 1,
   "outputs": [
    {
     "name": "stdout",
     "output_type": "stream",
     "text": [
      "===>Mymeta.__new__\n",
      "Mymeta\n",
      "===>Mymeta.__init__\n",
      "Foo\n",
      "{'__module__': '__main__', '__qualname__': 'Foo', 'yaml_tag': '!Foo', '__init__': <function Foo.__init__ at 0x00000238B29003A8>, '__new__': <function Foo.__new__ at 0x00000238B29009D8>}\n",
      "!Foo\n"
     ]
    }
   ],
   "source": [
    "class Mymeta(type):\n",
    "    def __init__(self, name, bases, dic):\n",
    "        super().__init__(name, bases, dic)\n",
    "        print('===>Mymeta.__init__')\n",
    "        print(self.__name__)\n",
    "        print(dic)\n",
    "        print(self.yaml_tag)\n",
    "\n",
    "    def __new__(cls, *args, **kwargs):\n",
    "        print('===>Mymeta.__new__')\n",
    "        print(cls.__name__)\n",
    "        return type.__new__(cls, *args, **kwargs)\n",
    "\n",
    "    def __call__(cls, *args, **kwargs):\n",
    "        print('===>Mymeta.__call__')\n",
    "        obj = cls.__new__(cls)\n",
    "        cls.__init__(cls, *args, **kwargs)\n",
    "        return obj\n",
    "\n",
    "\n",
    "class Foo(metaclass=Mymeta):\n",
    "    yaml_tag = '!Foo'\n",
    "\n",
    "    def __init__(self, name):\n",
    "        print('Foo.__init__')\n",
    "        self.name = name\n",
    "\n",
    "    def __new__(cls, *args, **kwargs):\n",
    "        print('Foo.__new__')\n",
    "        return object.__new__(cls)"
   ],
   "metadata": {
    "collapsed": false,
    "pycharm": {
     "name": "#%%\n"
    }
   }
  },
  {
   "cell_type": "code",
   "execution_count": 2,
   "outputs": [
    {
     "name": "stdout",
     "output_type": "stream",
     "text": [
      "===>Mymeta.__call__\n",
      "Foo.__new__\n",
      "Foo.__init__\n"
     ]
    }
   ],
   "source": [
    "foo = Foo('foo')\n",
    "\n"
   ],
   "metadata": {
    "collapsed": false,
    "pycharm": {
     "name": "#%%\n"
    }
   }
  },
  {
   "cell_type": "markdown",
   "source": [
    "从上面的运行结果可以发现在定义 class Foo() 定义时，\n",
    "会依次调用 MyMeta 的 __new__ 和 __init__ 方法构建 Foo 类，\n",
    "然后在调用 foo = Foo() 创建类的实例对象时，\n",
    "才会调用 MyMeta 的 __call__ 方法来调用 Foo 类的 __new__ 和 __init__ 方法。\n",
    "\n",
    "\n"
   ],
   "metadata": {
    "collapsed": false
   }
  },
  {
   "cell_type": "code",
   "execution_count": 3,
   "outputs": [
    {
     "data": {
      "text/plain": "(__main__.MyClass, type)"
     },
     "execution_count": 3,
     "metadata": {},
     "output_type": "execute_result"
    }
   ],
   "source": [
    "# 类本身不过是一个名为 type 类的实例\n",
    "class MyClass:\n",
    "  pass\n",
    "\n",
    "instance = MyClass()\n",
    "\n",
    "type(instance),\\\n",
    "type(MyClass)\n",
    "\n"
   ],
   "metadata": {
    "collapsed": false,
    "pycharm": {
     "name": "#%%\n"
    }
   }
  },
  {
   "cell_type": "code",
   "execution_count": 4,
   "outputs": [
    {
     "data": {
      "text/plain": "(__main__.MyClass, <__main__.MyClass at 0x238b2cfcd08>, 1)"
     },
     "execution_count": 4,
     "metadata": {},
     "output_type": "execute_result"
    }
   ],
   "source": [
    "# 用户自定义类，只不过是 type 类的 __call__ 运算符重载\n",
    "class MyClass:\n",
    "    data = 1\n",
    "\n",
    "instance = MyClass()\n",
    "\n",
    "\n",
    "MyClass, instance,\\\n",
    "instance.data\n"
   ],
   "metadata": {
    "collapsed": false,
    "pycharm": {
     "name": "#%%\n"
    }
   }
  },
  {
   "cell_type": "code",
   "execution_count": 5,
   "outputs": [
    {
     "data": {
      "text/plain": "(__main__.MyClass, <__main__.MyClass at 0x238b2c8a9c8>, 1)"
     },
     "execution_count": 5,
     "metadata": {},
     "output_type": "execute_result"
    }
   ],
   "source": [
    "MyClass = type('MyClass', (), {'data': 1})\n",
    "instance = MyClass()\n",
    "\n",
    "\n",
    "MyClass, instance,instance.data\n",
    "\n",
    "# 由此可见，正常的 MyClass 定义，和你手工去调用 type 运算符的结果是完全一样的。"
   ],
   "metadata": {
    "collapsed": false,
    "pycharm": {
     "name": "#%%\n"
    }
   }
  },
  {
   "cell_type": "code",
   "execution_count": null,
   "outputs": [],
   "source": [
    "# metaclass 是 type 的子类，通过替换 type 的 __call__ 运算符重载机制，“超越变形”正常的类\n",
    "\"\"\"\n",
    "一旦你把一个类型 MyClass 的 metaclass 设置成 MyMeta，MyClass 就不再由原生的 type 创建，\n",
    "而是会调用 MyMeta 的 __call__ 运算符重载。\n",
    "\n",
    "class = type(classname, superclasses, attributedict)\n",
    "# 变为了\n",
    "class = MyMeta(classname, superclasses, attributedict)\n",
    "\n",
    "metaclass 是黑魔法，使用得当就是天堂，反之就是地狱。\n",
    "\"\"\"\n"
   ],
   "metadata": {
    "collapsed": false,
    "pycharm": {
     "name": "#%%\n"
    }
   }
  }
 ],
 "metadata": {
  "kernelspec": {
   "display_name": "Python 3",
   "language": "python",
   "name": "python3"
  },
  "language_info": {
   "codemirror_mode": {
    "name": "ipython",
    "version": 2
   },
   "file_extension": ".py",
   "mimetype": "text/x-python",
   "name": "python",
   "nbconvert_exporter": "python",
   "pygments_lexer": "ipython2",
   "version": "2.7.6"
  }
 },
 "nbformat": 4,
 "nbformat_minor": 0
}