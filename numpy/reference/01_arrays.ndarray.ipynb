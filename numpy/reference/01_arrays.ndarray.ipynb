{
 "cells": [
  {
   "cell_type": "markdown",
   "source": [
    "# ndarray学习\n",
    "https://numpy.org/doc/stable/reference/arrays.ndarray.html\n",
    "\n",
    "ndarray是具有相同类型和大小的项目的（通常为固定大小）多维容器。 数组中维度和项目的数量由其形状定义，形状是N个非负整数的元组，用于指定每个维度的大小。\n",
    "数组中项目的类型由单独的数据类型对象（dtype）指定，其中一个与每个ndarray相关联。\n",
    "\n",
    "与Python中的其他容器对象一样，可以通过对数组进行索引或切片（例如使用N个整数）以及通过ndarray的方法和属性来访问和修改ndarray的内容。\n",
    "\n",
    "不同的ndarray可以共享相同的数据，因此在一个ndarray中所做的更改可能在另一个中可见。\n",
    "也就是说，一个ndarray可以是另一个ndarray的“view”，并且它所引用的数据由“base” ndarray处理。\n",
    "ndarrays也可以是实现缓冲区或数组接口的Python字符串或对象所拥有的内存的视图。"
   ],
   "metadata": {
    "collapsed": false
   }
  },
  {
   "cell_type": "code",
   "execution_count": 1,
   "outputs": [],
   "source": [
    "import numpy as np\n"
   ],
   "metadata": {
    "collapsed": false,
    "pycharm": {
     "name": "#%%\n"
    }
   }
  },
  {
   "cell_type": "markdown",
   "source": [
    "## ndarray的构造函数\n",
    "https://numpy.org/doc/stable/reference/generated/numpy.ndarray.html#numpy.ndarray\n",
    "```\n",
    "class numpy.ndarray(shape, dtype=float, buffer=None, offset=0, strides=None, order=None)\n",
    "\n",
    "Parameters(for the __new__ method; see Notes below)\n",
    "\n",
    "shape: tuple of ints\n",
    "Shape of created array.\n",
    "\n",
    "dtype: data-type, optional\n",
    "Any object that can be interpreted as a numpy data type.\n",
    "\n",
    "buffer: object exposing buffer interface, optional\n",
    "Used to fill the array with data.\n",
    "\n",
    "offset: int, optional\n",
    "Offset of array data in buffer.\n",
    "\n",
    "strides: tuple of ints, optional\n",
    "Strides of data in memory.\n",
    "\n",
    "order: {‘C’, ‘F’}, optional\n",
    "Row-major (C-style) or column-major (Fortran-style) order.\n",
    "```"
   ],
   "metadata": {
    "collapsed": false
   }
  },
  {
   "cell_type": "code",
   "execution_count": 2,
   "outputs": [
    {
     "data": {
      "text/plain": "array([[0., 0., 0.],\n       [0., 0., 0.]])"
     },
     "execution_count": 2,
     "metadata": {},
     "output_type": "execute_result"
    }
   ],
   "source": [
    "a = np.ndarray((2,3))\n",
    "a"
   ],
   "metadata": {
    "collapsed": false,
    "pycharm": {
     "name": "#%%\n"
    }
   }
  },
  {
   "cell_type": "markdown",
   "source": [
    "## ndarray的创建方式\n",
    "https://numpy.org/doc/stable/reference/routines.array-creation.html#routines-array-creation\n",
    "\n",
    "### Ones and zeros"
   ],
   "metadata": {
    "collapsed": false
   }
  },
  {
   "cell_type": "code",
   "execution_count": 3,
   "outputs": [
    {
     "data": {
      "text/plain": "array([[0., 0., 0.],\n       [0., 0., 0.]])"
     },
     "execution_count": 3,
     "metadata": {},
     "output_type": "execute_result"
    }
   ],
   "source": [
    "\"\"\"\n",
    "numpy.empty(shape, dtype=float, order='C')\n",
    "依据给定形状和类型(shape[, dtype, order])返回一个新的空数组\n",
    "参数：shape : 整数或者整型元组定义返回数组的形状；\n",
    "    dtype : 数据类型，可选定义返回数组的类型。\n",
    "    order : {‘C’, ‘F’}, 可选规定返回数组元素在内存的存储顺序：C（C语言）-rowmajor；F（Fortran）column-major。\n",
    "\n",
    "\"\"\"\n",
    "np.empty((2,3))"
   ],
   "metadata": {
    "collapsed": false,
    "pycharm": {
     "name": "#%%\n"
    }
   }
  },
  {
   "cell_type": "code",
   "execution_count": 4,
   "outputs": [
    {
     "data": {
      "text/plain": "array([[0., 0., 0.],\n       [0., 0., 0.]])"
     },
     "execution_count": 4,
     "metadata": {},
     "output_type": "execute_result"
    }
   ],
   "source": [
    "# numpy.empty_like(prototype, dtype=None, order='K', subok=True, shape=None)\n",
    "# np.empty_like创建一个新的和原来array形状一样的，但是未初始化的array\n",
    "a=np.array([[1.,2.,3.],[4.,5.,6.]])\n",
    "np.empty_like(a)"
   ],
   "metadata": {
    "collapsed": false,
    "pycharm": {
     "name": "#%%\n"
    }
   }
  },
  {
   "cell_type": "code",
   "execution_count": 5,
   "outputs": [
    {
     "data": {
      "text/plain": "array([[1, 0, 0],\n       [0, 1, 0],\n       [0, 0, 1]])"
     },
     "execution_count": 5,
     "metadata": {},
     "output_type": "execute_result"
    }
   ],
   "source": [
    "# numpy.eye(N, M=None, k=0, dtype=<class 'float'>, order='C')\n",
    "\n",
    "# 返回一个2-D数组，对角线上是1，其他地方是0。\n",
    "np.eye(3, dtype=int)"
   ],
   "metadata": {
    "collapsed": false,
    "pycharm": {
     "name": "#%%\n"
    }
   }
  },
  {
   "cell_type": "code",
   "execution_count": 6,
   "outputs": [
    {
     "data": {
      "text/plain": "array([[0, 0, 0],\n       [0, 0, 0],\n       [1, 0, 0]])"
     },
     "execution_count": 6,
     "metadata": {},
     "output_type": "execute_result"
    }
   ],
   "source": [
    "np.eye(3, dtype=int,k=-2)\n",
    "# k 对角线索引:0(默认)表示主对角线，正值表示上对角线，负值表示下对角线。"
   ],
   "metadata": {
    "collapsed": false,
    "pycharm": {
     "name": "#%%\n"
    }
   }
  },
  {
   "cell_type": "code",
   "execution_count": 7,
   "outputs": [
    {
     "data": {
      "text/plain": "array([[1., 0., 0.],\n       [0., 1., 0.],\n       [0., 0., 1.]])"
     },
     "execution_count": 7,
     "metadata": {},
     "output_type": "execute_result"
    }
   ],
   "source": [
    "# 单位阵是一个正方形阵，主对角线上有1个单位阵。\n",
    "np.identity(3)"
   ],
   "metadata": {
    "collapsed": false,
    "pycharm": {
     "name": "#%%\n"
    }
   }
  },
  {
   "cell_type": "code",
   "execution_count": 8,
   "outputs": [
    {
     "data": {
      "text/plain": "array([[1., 1., 1.],\n       [1., 1., 1.]])"
     },
     "execution_count": 8,
     "metadata": {},
     "output_type": "execute_result"
    }
   ],
   "source": [
    "# numpy.ones(shape, dtype=None, order='C')¶\n",
    "np.ones((2,3))"
   ],
   "metadata": {
    "collapsed": false,
    "pycharm": {
     "name": "#%%\n"
    }
   }
  },
  {
   "cell_type": "code",
   "execution_count": 9,
   "outputs": [
    {
     "data": {
      "text/plain": "array([[1., 1.]])"
     },
     "execution_count": 9,
     "metadata": {},
     "output_type": "execute_result"
    }
   ],
   "source": [
    "# numpy.ones_like(a, dtype=None, order='K', subok=True, shape=None)\n",
    "np.ones([1,2])\n"
   ],
   "metadata": {
    "collapsed": false,
    "pycharm": {
     "name": "#%%\n"
    }
   }
  },
  {
   "cell_type": "code",
   "execution_count": 10,
   "outputs": [
    {
     "data": {
      "text/plain": "array([[0., 0., 0.],\n       [0., 0., 0.]])"
     },
     "execution_count": 10,
     "metadata": {},
     "output_type": "execute_result"
    }
   ],
   "source": [
    "np.zeros((2,3))"
   ],
   "metadata": {
    "collapsed": false,
    "pycharm": {
     "name": "#%%\n"
    }
   }
  },
  {
   "cell_type": "code",
   "execution_count": 11,
   "outputs": [
    {
     "data": {
      "text/plain": "array([[0., 0., 0.],\n       [0., 0., 0.]])"
     },
     "execution_count": 11,
     "metadata": {},
     "output_type": "execute_result"
    }
   ],
   "source": [
    "np.zeros([2,3])"
   ],
   "metadata": {
    "collapsed": false,
    "pycharm": {
     "name": "#%%\n"
    }
   }
  },
  {
   "cell_type": "code",
   "execution_count": 12,
   "outputs": [
    {
     "data": {
      "text/plain": "array([[10, 10],\n       [10, 10]])"
     },
     "execution_count": 12,
     "metadata": {},
     "output_type": "execute_result"
    }
   ],
   "source": [
    "np.full((2, 2), 10)"
   ],
   "metadata": {
    "collapsed": false,
    "pycharm": {
     "name": "#%%\n"
    }
   }
  },
  {
   "cell_type": "code",
   "execution_count": 13,
   "outputs": [
    {
     "data": {
      "text/plain": "array([0.1, 0.1])"
     },
     "execution_count": 13,
     "metadata": {},
     "output_type": "execute_result"
    }
   ],
   "source": [
    "np.full_like([2,3], 0.1, dtype=np.double)"
   ],
   "metadata": {
    "collapsed": false,
    "pycharm": {
     "name": "#%%\n"
    }
   }
  },
  {
   "cell_type": "markdown",
   "source": [
    "### 从现有数据创建ndarray\n",
    "重点numpy.array(object, dtype=None, copy=True, order='K', subok=False, ndmin=0)\n",
    "https://numpy.org/doc/stable/reference/generated/numpy.array.html#numpy.array\n"
   ],
   "metadata": {
    "collapsed": false
   }
  },
  {
   "cell_type": "code",
   "execution_count": 14,
   "outputs": [
    {
     "data": {
      "text/plain": "array([[1, 2],\n       [3, 4]])"
     },
     "execution_count": 14,
     "metadata": {},
     "output_type": "execute_result"
    }
   ],
   "source": [
    "np.array([[1, 2], [3, 4]])"
   ],
   "metadata": {
    "collapsed": false,
    "pycharm": {
     "name": "#%%\n"
    }
   }
  },
  {
   "cell_type": "code",
   "execution_count": 15,
   "outputs": [
    {
     "data": {
      "text/plain": "array([[1, 2, 3]])"
     },
     "execution_count": 15,
     "metadata": {},
     "output_type": "execute_result"
    }
   ],
   "source": [
    "# 最小二维\n",
    "np.array([1, 2, 3], ndmin=2)"
   ],
   "metadata": {
    "collapsed": false,
    "pycharm": {
     "name": "#%%\n"
    }
   }
  },
  {
   "cell_type": "code",
   "execution_count": 16,
   "outputs": [
    {
     "data": {
      "text/plain": "array([[1, 2],\n       [3, 4]])"
     },
     "execution_count": 16,
     "metadata": {},
     "output_type": "execute_result"
    }
   ],
   "source": [
    "np.array(np.mat('1 2; 3 4'))"
   ],
   "metadata": {
    "collapsed": false,
    "pycharm": {
     "name": "#%%\n"
    }
   }
  },
  {
   "cell_type": "code",
   "execution_count": 17,
   "outputs": [
    {
     "data": {
      "text/plain": "matrix([[1, 2],\n        [3, 4]])"
     },
     "execution_count": 17,
     "metadata": {},
     "output_type": "execute_result"
    }
   ],
   "source": [
    "# subok ： 如果为True，则子类将被传递，否则返回的数组将被强制为基类数组（默认）。\n",
    "np.array(np.mat('1 2; 3 4'), subok=True)\n"
   ],
   "metadata": {
    "collapsed": false,
    "pycharm": {
     "name": "#%%\n"
    }
   }
  },
  {
   "cell_type": "code",
   "execution_count": 18,
   "outputs": [
    {
     "data": {
      "text/plain": "array([(1, 2), (3, 4)], dtype=[('a', '<i4'), ('b', '<i4')])"
     },
     "execution_count": 18,
     "metadata": {},
     "output_type": "execute_result"
    }
   ],
   "source": [
    "# 数据类型包含多个元素\n",
    "x = np.array([(1,2),(3,4)],dtype=[('a','<i4'),('b','<i4')])\n",
    "x"
   ],
   "metadata": {
    "collapsed": false,
    "pycharm": {
     "name": "#%%\n"
    }
   }
  },
  {
   "cell_type": "code",
   "execution_count": 19,
   "outputs": [
    {
     "data": {
      "text/plain": "array([1, 3])"
     },
     "execution_count": 19,
     "metadata": {},
     "output_type": "execute_result"
    }
   ],
   "source": [
    "x['a']"
   ],
   "metadata": {
    "collapsed": false,
    "pycharm": {
     "name": "#%%\n"
    }
   }
  },
  {
   "cell_type": "code",
   "execution_count": 20,
   "outputs": [
    {
     "data": {
      "text/plain": "array([1, 2])"
     },
     "execution_count": 20,
     "metadata": {},
     "output_type": "execute_result"
    }
   ],
   "source": [
    "# asarray\n",
    "np.asarray([1,2])"
   ],
   "metadata": {
    "collapsed": false,
    "pycharm": {
     "name": "#%%\n"
    }
   }
  },
  {
   "cell_type": "code",
   "execution_count": 21,
   "outputs": [
    {
     "data": {
      "text/plain": "array([1, 2])"
     },
     "execution_count": 21,
     "metadata": {},
     "output_type": "execute_result"
    }
   ],
   "source": [
    "# asanyarray 将输入转换为ndarray，但通过ndarray子类。\n",
    "np.asanyarray([1,2])"
   ],
   "metadata": {
    "collapsed": false,
    "pycharm": {
     "name": "#%%\n"
    }
   }
  },
  {
   "cell_type": "code",
   "execution_count": 22,
   "outputs": [
    {
     "data": {
      "text/plain": "True"
     },
     "execution_count": 22,
     "metadata": {},
     "output_type": "execute_result"
    }
   ],
   "source": [
    "# np.recarray 是记录数组\n",
    "issubclass(np.recarray, np.ndarray)"
   ],
   "metadata": {
    "collapsed": false,
    "pycharm": {
     "name": "#%%\n"
    }
   }
  },
  {
   "cell_type": "code",
   "execution_count": 23,
   "outputs": [
    {
     "data": {
      "text/plain": "False"
     },
     "execution_count": 23,
     "metadata": {},
     "output_type": "execute_result"
    }
   ],
   "source": [
    "a = np.array([(1.0, 2), (3.0, 4)], dtype='f4,i4').view(np.recarray)\n",
    "np.asarray(a) is a"
   ],
   "metadata": {
    "collapsed": false,
    "pycharm": {
     "name": "#%%\n"
    }
   }
  },
  {
   "cell_type": "code",
   "execution_count": 24,
   "outputs": [
    {
     "data": {
      "text/plain": "True"
     },
     "execution_count": 24,
     "metadata": {},
     "output_type": "execute_result"
    }
   ],
   "source": [
    "np.asanyarray(a) is a"
   ],
   "metadata": {
    "collapsed": false,
    "pycharm": {
     "name": "#%%\n"
    }
   }
  },
  {
   "cell_type": "code",
   "execution_count": 25,
   "outputs": [
    {
     "data": {
      "text/plain": "False"
     },
     "execution_count": 25,
     "metadata": {},
     "output_type": "execute_result"
    }
   ],
   "source": [
    "x = np.array([(1.0, 2), (3.0, 4)], order=\"F\")\n",
    "x.flags['C_CONTIGUOUS']"
   ],
   "metadata": {
    "collapsed": false,
    "pycharm": {
     "name": "#%%\n"
    }
   }
  },
  {
   "cell_type": "code",
   "execution_count": 26,
   "outputs": [
    {
     "data": {
      "text/plain": "array([[1., 2.],\n       [3., 4.]], dtype=float32)"
     },
     "execution_count": 26,
     "metadata": {},
     "output_type": "execute_result"
    }
   ],
   "source": [
    "x1 = np.ascontiguousarray(x, dtype=np.float32)\n",
    "x1"
   ],
   "metadata": {
    "collapsed": false,
    "pycharm": {
     "name": "#%%\n"
    }
   }
  },
  {
   "cell_type": "code",
   "execution_count": 27,
   "outputs": [
    {
     "data": {
      "text/plain": "True"
     },
     "execution_count": 27,
     "metadata": {},
     "output_type": "execute_result"
    }
   ],
   "source": [
    "x1.flags['C_CONTIGUOUS']\n",
    "\n"
   ],
   "metadata": {
    "collapsed": false,
    "pycharm": {
     "name": "#%%\n"
    }
   }
  },
  {
   "cell_type": "code",
   "execution_count": 28,
   "outputs": [
    {
     "data": {
      "text/plain": "matrix([[5, 2],\n        [3, 4]])"
     },
     "execution_count": 28,
     "metadata": {},
     "output_type": "execute_result"
    }
   ],
   "source": [
    "# 矩阵\n",
    "x = np.array([[1, 2], [3, 4]])\n",
    "m = np.asmatrix(x)\n",
    "x[0,0] = 5\n",
    "m"
   ],
   "metadata": {
    "collapsed": false,
    "pycharm": {
     "name": "#%%\n"
    }
   }
  },
  {
   "cell_type": "code",
   "execution_count": 29,
   "outputs": [
    {
     "data": {
      "text/plain": "(True, False)"
     },
     "execution_count": 29,
     "metadata": {},
     "output_type": "execute_result"
    }
   ],
   "source": [
    "# copy\n",
    "x = np.array([1, 2, 3])\n",
    "y = x\n",
    "z = np.copy(x)\n",
    "x[0] = 10\n",
    "x[0] == y[0],x[0] == z[0]\n"
   ],
   "metadata": {
    "collapsed": false,
    "pycharm": {
     "name": "#%%\n"
    }
   }
  },
  {
   "cell_type": "code",
   "execution_count": 30,
   "outputs": [
    {
     "data": {
      "text/plain": "(array([b'w', b'o', b'r', b'l', b'd'], dtype='|S1'),\n array([1, 2, 3], dtype=uint8))"
     },
     "execution_count": 30,
     "metadata": {},
     "output_type": "execute_result"
    }
   ],
   "source": [
    "# frombuffer 将缓冲区解释为一维数组。\n",
    "s = b'hello world'\n",
    "np.frombuffer(s, dtype='S1', count=5, offset=6),np.frombuffer(b'\\x01\\x02\\x03\\x04\\x05', dtype=np.uint8, count=3)\n"
   ],
   "metadata": {
    "collapsed": false,
    "pycharm": {
     "name": "#%%\n"
    }
   }
  },
  {
   "cell_type": "code",
   "execution_count": 31,
   "outputs": [
    {
     "data": {
      "text/plain": "array([((10, 0), 98.25)],\n      dtype=[('time', [('min', '<i8'), ('sec', '<i8')]), ('temp', '<f8')])"
     },
     "execution_count": 31,
     "metadata": {},
     "output_type": "execute_result"
    }
   ],
   "source": [
    "# fromfile 从文本或二进制文件中的数据构造一个数组。\n",
    "dt = np.dtype([('time', [('min', np.int64), ('sec', np.int64)]),\n",
    "               ('temp', float)])\n",
    "x = np.zeros((1,), dtype=dt)\n",
    "x['time']['min'] = 10; x['temp'] = 98.25\n",
    "x\n"
   ],
   "metadata": {
    "collapsed": false,
    "pycharm": {
     "name": "#%%\n"
    }
   }
  },
  {
   "cell_type": "code",
   "execution_count": 32,
   "outputs": [
    {
     "data": {
      "text/plain": "array([((10, 0), 98.25)],\n      dtype=[('time', [('min', '<i8'), ('sec', '<i8')]), ('temp', '<f8')])"
     },
     "execution_count": 32,
     "metadata": {},
     "output_type": "execute_result"
    }
   ],
   "source": [
    "import tempfile\n",
    "fname = tempfile.mkstemp()[1]\n",
    "x.tofile(fname)\n",
    "\n",
    "np.fromfile(fname, dtype=dt)"
   ],
   "metadata": {
    "collapsed": false,
    "pycharm": {
     "name": "#%%\n"
    }
   }
  },
  {
   "cell_type": "code",
   "execution_count": 33,
   "outputs": [
    {
     "data": {
      "text/plain": "array([((10, 0), 98.25)],\n      dtype=[('time', [('min', '<i8'), ('sec', '<i8')]), ('temp', '<f8')])"
     },
     "execution_count": 33,
     "metadata": {},
     "output_type": "execute_result"
    }
   ],
   "source": [
    "np.save(fname, x)\n",
    "np.load(fname + '.npy')\n",
    "\n"
   ],
   "metadata": {
    "collapsed": false,
    "pycharm": {
     "name": "#%%\n"
    }
   }
  },
  {
   "cell_type": "code",
   "execution_count": 34,
   "outputs": [
    {
     "data": {
      "text/plain": "array([[0, 1, 2],\n       [1, 2, 3],\n       [2, 3, 4]])"
     },
     "execution_count": 34,
     "metadata": {},
     "output_type": "execute_result"
    }
   ],
   "source": [
    "# fromfunction 通过在每个坐标上执行一个函数来构造一个数组。因此，所得数组在坐标（x，y，z）处具有值fn（x，y，z）。\n",
    "\n",
    "np.fromfunction(lambda i, j: i + j, (3, 3), dtype=int)"
   ],
   "metadata": {
    "collapsed": false,
    "pycharm": {
     "name": "#%%\n"
    }
   }
  },
  {
   "cell_type": "code",
   "execution_count": 35,
   "outputs": [
    {
     "data": {
      "text/plain": "array([ 0.,  1.,  4.,  9., 16.])"
     },
     "execution_count": 35,
     "metadata": {},
     "output_type": "execute_result"
    }
   ],
   "source": [
    "# fromiter 从一个迭代对象创建一个新的一维数组。\n",
    "iterable = (x*x for x in range(5))\n",
    "np.fromiter(iterable, float)"
   ],
   "metadata": {
    "collapsed": false,
    "pycharm": {
     "name": "#%%\n"
    }
   }
  },
  {
   "cell_type": "code",
   "execution_count": 36,
   "outputs": [
    {
     "data": {
      "text/plain": "(array([1, 2]), array([1, 2]))"
     },
     "execution_count": 36,
     "metadata": {},
     "output_type": "execute_result"
    }
   ],
   "source": [
    "# fromstring 从字符串中的文本数据初始化的新一维数组。\n",
    "np.fromstring('1 2', dtype=int, sep=' '),np.fromstring('1, 2', dtype=int, sep=',')"
   ],
   "metadata": {
    "collapsed": false,
    "pycharm": {
     "name": "#%%\n"
    }
   }
  },
  {
   "cell_type": "code",
   "execution_count": 37,
   "outputs": [
    {
     "data": {
      "text/plain": "array([[0., 1.],\n       [2., 3.]])"
     },
     "execution_count": 37,
     "metadata": {},
     "output_type": "execute_result"
    }
   ],
   "source": [
    "# numpy.loadtxt(fname, dtype=<class 'float'>, comments='#', delimiter=None, converters=None, skiprows=0, usecols=None, unpack=False, ndmin=0, encoding='bytes', max_rows=None)\n",
    "# https://numpy.org/doc/stable/reference/generated/numpy.loadtxt.html#numpy.loadtxt\n",
    "from io import StringIO   # StringIO behaves like a file object\n",
    "c = StringIO(u\"0 1\\n2 3\")\n",
    "np.loadtxt(c)"
   ],
   "metadata": {
    "collapsed": false,
    "pycharm": {
     "name": "#%%\n"
    }
   }
  },
  {
   "cell_type": "code",
   "execution_count": 38,
   "outputs": [
    {
     "data": {
      "text/plain": "array([(b'M', 21, 72.), (b'F', 35, 58.)],\n      dtype=[('gender', 'S1'), ('age', '<i4'), ('weight', '<f4')])"
     },
     "execution_count": 38,
     "metadata": {},
     "output_type": "execute_result"
    }
   ],
   "source": [
    "d = StringIO(u\"M 21 72\\nF 35 58\")\n",
    "np.loadtxt(d, dtype={'names': ('gender', 'age', 'weight'),\n",
    "                     'formats': ('S1', 'i4', 'f4')})\n",
    "\n"
   ],
   "metadata": {
    "collapsed": false,
    "pycharm": {
     "name": "#%%\n"
    }
   }
  },
  {
   "cell_type": "code",
   "execution_count": 39,
   "outputs": [
    {
     "data": {
      "text/plain": "(array([1., 3.]), array([2., 4.]))"
     },
     "execution_count": 39,
     "metadata": {},
     "output_type": "execute_result"
    }
   ],
   "source": [
    "c = StringIO(u\"1,0,2\\n3,0,4\")\n",
    "x, y = np.loadtxt(c, delimiter=',', usecols=(0, 2), unpack=True)\n",
    "x,y\n"
   ],
   "metadata": {
    "collapsed": false,
    "pycharm": {
     "name": "#%%\n"
    }
   }
  },
  {
   "cell_type": "code",
   "execution_count": 40,
   "outputs": [
    {
     "data": {
      "text/plain": "(array([(1312, b'foo'), (1534, b'bar'), ( 444, b'qux')],\n       dtype=[('num', '<i8'), ('key', 'S3')]),\n array([1312, 1534,  444], dtype=int64))"
     },
     "execution_count": 40,
     "metadata": {},
     "output_type": "execute_result"
    }
   ],
   "source": [
    "# fromregex 使用正则表达式解析从文本文件构造一个数组。\n",
    "# https://numpy.org/doc/stable/reference/generated/numpy.fromregex.html#numpy.fromregex\n",
    "f = open('test.dat', 'w')\n",
    "_ = f.write(\"1312 foo\\n1534  bar\\n444   qux\")\n",
    "f.close()\n",
    "\n",
    "regexp = r\"(\\d+)\\s+(...)\"  # match [digits, whitespace, anything]\n",
    "output = np.fromregex('test.dat', regexp,\n",
    "                      [('num', np.int64), ('key', 'S3')])\n",
    "output,output['num']"
   ],
   "metadata": {
    "collapsed": false,
    "pycharm": {
     "name": "#%%\n"
    }
   }
  },
  {
   "cell_type": "code",
   "execution_count": 41,
   "outputs": [
    {
     "data": {
      "text/plain": "array((1, 1.3, b'abcde'),\n      dtype=[('myint', '<i8'), ('myfloat', '<f8'), ('mystring', 'S5')])"
     },
     "execution_count": 41,
     "metadata": {},
     "output_type": "execute_result"
    }
   ],
   "source": [
    "# numpy.genfromtxt(fname, dtype=<class 'float'>, comments='#', delimiter=None, skip_header=0, skip_footer=0, converters=None, missing_values=None, filling_values=None, usecols=None, names=None, excludelist=None, deletechars=\" !#$%&'()*+, -./:;<=>?@[\\]^{|}~\", replace_space='_', autostrip=False, case_sensitive=True, defaultfmt='f%i', unpack=None, usemask=False, loose=True, invalid_raise=True, max_rows=None, encoding='bytes')\n",
    "\n",
    "s = StringIO(u\"1,1.3,abcde\")\n",
    "data = np.genfromtxt(s, dtype=[('myint','i8'),('myfloat','f8'),\n",
    "('mystring','S5')], delimiter=\",\")\n",
    "data"
   ],
   "metadata": {
    "collapsed": false,
    "pycharm": {
     "name": "#%%\n"
    }
   }
  },
  {
   "cell_type": "markdown",
   "source": [
    "#### Creating record arrays (numpy.rec)\n",
    "\n",
    "https://numpy.org/doc/stable/reference/routines.array-creation.html#creating-record-arrays-numpy-rec\n",
    "\n",
    "numpy记录数组.\n",
    "```\n",
    "\n",
    "# 记录数组 和结构体数组类似，在元素访问方式上面有所区别  :\n",
    "    结构数组     students['age']     students[1]['age']\n",
    "    记录数组     students.age        students[1].age\n",
    "\n",
    "====================================================================\n",
    "1.创建记录数组（numpy.rec）\n",
    "# 注意numpy.rec是首选别名 numpy.core.records。\n",
    "core.records.array（obj [，dtype，shape，...]）     #从各种各样的对象构造一个记录数组。\n",
    "core.records.fromarrays（arrayList [，dtype，...]） #从（平面）数组列表创建一个记录数组\n",
    "core.records.fromrecords（recList [，dtype，...]）  #以文本形式从记录列表中创建一个recarray\n",
    "core.records.fromstring（datastring [，dtype，...]）#从包含在字符串中的二进制数据创建（只读）记录数组\n",
    "core.records.fromfile（fd [，dtype，shape，...]）    #从二进制文件数据创建一个数组\n",
    "\n",
    "=====================================================================\n",
    "2.记录数组 #属性访问结构化数组的字段\n",
    "\n",
    "2.1.创建记录数组：\n",
    "recordarr = np.rec.array([(1,2.,'Hello'),(3,4.,\"World\")],dtype=[('a', 'i4'),('b', 'f4'), ('c', 'S10')])\n",
    "    # rec.array([(1, 2., b'Hello'), (3, 4., b'World')],dtype=[('a', '<i4'), ('b', '<f4'), ('c', 'S10')])\n",
    "type(recordarr.a)# numpy.recarray\n",
    "\n",
    "======================================================================\n",
    "2.2.数组操作：\n",
    "recordarr.b       #array([2., 4.], dtype=float32)\n",
    "recordarr[1:2]   # rec.array([(3, 4., 'World')],dtype=[('a', '<i4'), ('b', '<f4'), ('c', 'S10')])\n",
    "recordarr[1:2].a# array([3], dtype=int32)\n",
    "recordarr.a[1:2]# array([3], dtype=int32)\n",
    "recordarr[1].c   # 'World'\n",
    "\n",
    "======================================================================\n",
    "2.2.numpy.rec.array 数组（包括结构化）转换为记录数组\n",
    "\n",
    "arr = array([(1,2.,'Hello'),(3,4.,\"World\")],dtype=[('a', 'i4'), ('b', 'f4'), ('c', 'S10')])\n",
    "\n",
    "recordarr = np.rec.array(arr)\n",
    "# 视图获得结构化数组的记录数组：\n",
    "recordarr = arr.view(dtype=np.dtype((np.record, arr.dtype)),type=np.recarray)\n",
    "    # rec.array([(1, 2., b'Hello'), (3, 4., b'World')],dtype=[('a', '<i4'), ('b', '<f4'), ('c', 'S10')])\n",
    "\n",
    "recordarr = arr.view(np.recarray) #将ndarray作为类型查看np.recarray会自动转换为np.record数据类型\n",
    "recordarr.dtype                            # dtype((numpy.record, [('a', '<i4'), ('b', '<f4'), ('c', 'S10')]))\n",
    "\n",
    "=====================================================================\n",
    " 2.3.要回到纯粹的ndarray中，dtype和type都必须重置：\n",
    "arr2 = recordarr.view(recordarr.dtype.fields or recordarr.dtype, np.ndarray)\n",
    "    # array([(1, 2., b'Hello'), (3, 4., b'World')],dtype=[('a', '<i4'), ('b', '<f4'), ('c', 'S10')])\n",
    "=====================================================================\n",
    "```\n",
    "\n",
    "#### Creating character arrays (numpy.char)\n",
    "https://numpy.org/doc/stable/reference/routines.array-creation.html#creating-character-arrays-numpy-char\n",
    "numpy.char是numpy.core.defchararray的首选别名。\n",
    "\n",
    "#### Numerical ranges\n",
    "numpy.arange([start, ]stop, [step, ]dtype=None)\n"
   ],
   "metadata": {
    "collapsed": false
   }
  },
  {
   "cell_type": "code",
   "execution_count": 42,
   "outputs": [
    {
     "data": {
      "text/plain": "(array([3, 4, 5, 6]), array([3, 5]))"
     },
     "execution_count": 42,
     "metadata": {},
     "output_type": "execute_result"
    }
   ],
   "source": [
    "np.arange(3,7),np.arange(3,7,2)\n",
    "\n"
   ],
   "metadata": {
    "collapsed": false,
    "pycharm": {
     "name": "#%%\n"
    }
   }
  },
  {
   "cell_type": "code",
   "execution_count": 43,
   "outputs": [
    {
     "data": {
      "text/plain": "(array([2.  , 2.25, 2.5 , 2.75, 3.  ]),\n array([2. , 2.2, 2.4, 2.6, 2.8]),\n (array([2.  , 2.25, 2.5 , 2.75, 3.  ]), 0.25))"
     },
     "execution_count": 43,
     "metadata": {},
     "output_type": "execute_result"
    }
   ],
   "source": [
    "# numpy.linspace(start, stop, num=50, endpoint=True, retstep=False, dtype=None, axis=0)\n",
    "np.linspace(2.0, 3.0, num=5),\\\n",
    "np.linspace(2.0, 3.0, num=5, endpoint=False),\\\n",
    "np.linspace(2.0, 3.0, num=5, retstep=True)\n",
    "\n",
    "# retstep 如果为真，返回(样本，步长)，其中步长是样本之间的间隔。"
   ],
   "metadata": {
    "collapsed": false,
    "pycharm": {
     "name": "#%%\n"
    }
   }
  },
  {
   "cell_type": "code",
   "execution_count": 44,
   "outputs": [
    {
     "data": {
      "text/plain": "<Figure size 432x288 with 1 Axes>",
      "image/png": "[encoded data removed]"
     },
     "metadata": {
      "needs_background": "light"
     },
     "output_type": "display_data"
    }
   ],
   "source": [
    "import matplotlib.pyplot as plt\n",
    "N = 8\n",
    "y = np.zeros(N)\n",
    "x1 = np.linspace(0, 10, N, endpoint=True)\n",
    "x2 = np.linspace(0, 10, N, endpoint=False)\n",
    "plt.plot(x1, y, 'o')\n",
    "\n",
    "plt.plot(x2, y + 0.5, 'o')\n",
    "\n",
    "plt.ylim([-0.5, 1])\n",
    "\n",
    "plt.show()\n",
    "\n"
   ],
   "metadata": {
    "collapsed": false,
    "pycharm": {
     "name": "#%%\n"
    }
   }
  },
  {
   "cell_type": "code",
   "execution_count": 45,
   "outputs": [
    {
     "data": {
      "text/plain": "(array([ 100.        ,  215.443469  ,  464.15888336, 1000.        ]),\n array([100.        , 177.827941  , 316.22776602, 562.34132519]),\n array([4.        , 5.0396842 , 6.34960421, 8.        ]))"
     },
     "execution_count": 45,
     "metadata": {},
     "output_type": "execute_result"
    }
   ],
   "source": [
    "\"\"\"\n",
    "numpy.logspace(start, stop, num=50, endpoint=True, base=10.0, dtype=None, axis=0)\n",
    "返回以对数刻度均匀间隔的数字。\n",
    "在线性空间中，序列以base ** start (base的开始次方)开始，以base ** stop(参见下面的端点)结束。\n",
    "版本1.16.0中的更改:现在支持非标量启动和停止。\n",
    "\"\"\"\n",
    "np.logspace(2.0, 3.0, num=4),\\\n",
    "np.logspace(2.0, 3.0, num=4, endpoint=False),\\\n",
    "np.logspace(2.0, 3.0, num=4, base=2.0)\n"
   ],
   "metadata": {
    "collapsed": false,
    "pycharm": {
     "name": "#%%\n"
    }
   }
  },
  {
   "cell_type": "code",
   "execution_count": 46,
   "outputs": [
    {
     "data": {
      "text/plain": "(array([   1.,   10.,  100., 1000.]),\n array([  1.,  10., 100.]),\n array([  1.        ,   5.62341325,  31.6227766 , 177.827941  ]),\n array([  1.,   2.,   4.,   8.,  16.,  32.,  64., 128., 256.]))"
     },
     "execution_count": 46,
     "metadata": {},
     "output_type": "execute_result"
    }
   ],
   "source": [
    "\"\"\"\n",
    "numpy.geomspace(start, stop, num=50, endpoint=True, dtype=None, axis=0)\n",
    "返回在对数尺度上均匀间隔的数字(几何级数)。这类似于logspace，但是直接指定了端点。\n",
    "每个输出示例都是前一个输出的常数倍。\n",
    "版本1.16.0中的更改:现在支持非标量启动和停止。\n",
    "Straight line np.geomspace(1j, 1000j, num=4)\n",
    "Circle  np.geomspace(-1+0j, 1+0j, num=5)\n",
    "\"\"\"\n",
    "\n",
    "np.geomspace(1, 1000, num=4),\\\n",
    "np.geomspace(1, 1000, num=3, endpoint=False),\\\n",
    "np.geomspace(1, 1000, num=4, endpoint=False),\\\n",
    "np.geomspace(1, 256, num=9)"
   ],
   "metadata": {
    "collapsed": false,
    "pycharm": {
     "name": "#%%\n"
    }
   }
  },
  {
   "cell_type": "code",
   "execution_count": 47,
   "outputs": [
    {
     "data": {
      "text/plain": "(array([  1,   2,   4,   7,  16,  32,  63, 127, 256]),\n array([  1,   2,   4,   8,  16,  32,  64, 128, 256]))"
     },
     "execution_count": 47,
     "metadata": {},
     "output_type": "execute_result"
    }
   ],
   "source": [
    "# 注意，上面可能不会产生精确整数\n",
    "np.geomspace(1, 256, num=9, dtype=int),\\\n",
    "np.around(np.geomspace(1, 256, num=9)).astype(int)\n"
   ],
   "metadata": {
    "collapsed": false,
    "pycharm": {
     "name": "#%%\n"
    }
   }
  },
  {
   "cell_type": "code",
   "execution_count": 48,
   "outputs": [
    {
     "data": {
      "text/plain": "'\\nnp.geomspace(1j, 1000j, num=4)  # 直线\\nnp.geomspace(-1+0j, 1+0j, num=5)  # 圆\\n'"
     },
     "execution_count": 48,
     "metadata": {},
     "output_type": "execute_result"
    }
   ],
   "source": [
    "# 允许负的、递减的和复杂的输入\n",
    "np.geomspace(1000, 1, num=4),\\\n",
    "np.geomspace(-1000, -1, num=4),\\\n",
    "np.geomspace(1j, 1000j, num=4),\\\n",
    "np.geomspace(-1+0j, 1+0j, num=5)\n",
    "\"\"\"\n",
    "np.geomspace(1j, 1000j, num=4)  # 直线\n",
    "np.geomspace(-1+0j, 1+0j, num=5)  # 圆\n",
    "\"\"\""
   ],
   "metadata": {
    "collapsed": false,
    "pycharm": {
     "name": "#%%\n"
    }
   }
  },
  {
   "cell_type": "code",
   "execution_count": 49,
   "outputs": [
    {
     "data": {
      "text/plain": "([array([[0. , 0.5, 1. ],\n         [0. , 0.5, 1. ]]),\n  array([[0., 0., 0.],\n         [1., 1., 1.]])],\n [array([[0. , 0.5, 1. ]]),\n  array([[0.],\n         [1.]])])"
     },
     "execution_count": 49,
     "metadata": {},
     "output_type": "execute_result"
    }
   ],
   "source": [
    "\"\"\"\n",
    "从坐标向量返回坐标矩阵。\n",
    "给定一维坐标数组x1、x2、…、xn，在N-D网格上建立N-D坐标数组，对N-D标量/向量场进行向量化计算。\n",
    "在1.9版本中进行了更改:允许使用1-D和0-D的情况。\n",
    "\"\"\"\n",
    "\n",
    "nx, ny = (3, 2)\n",
    "x = np.linspace(0, 1, nx)\n",
    "y = np.linspace(0, 1, ny)\n",
    "# sparse 如果为真，则返回一个稀疏网格以保存内存。默认是假的。新版本1.7.0。\n",
    "np.meshgrid(x, y),np.meshgrid(x, y, sparse=True)"
   ],
   "metadata": {
    "collapsed": false,
    "pycharm": {
     "name": "#%%\n"
    }
   }
  },
  {
   "cell_type": "code",
   "execution_count": 50,
   "outputs": [
    {
     "data": {
      "text/plain": "<Figure size 432x288 with 1 Axes>",
      "image/png": "[encoded data removed]"
     },
     "metadata": {
      "needs_background": "light"
     },
     "output_type": "display_data"
    }
   ],
   "source": [
    "import matplotlib.pyplot as plt\n",
    "x = np.arange(-5, 5, 0.1)\n",
    "y = np.arange(-5, 5, 0.1)\n",
    "xx, yy = np.meshgrid(x, y, sparse=True)\n",
    "z = np.sin(xx**2 + yy**2) / (xx**2 + yy**2)\n",
    "h = plt.contourf(x,y,z)\n",
    "plt.show()\n",
    "\n"
   ],
   "metadata": {
    "collapsed": false,
    "pycharm": {
     "name": "#%%\n"
    }
   }
  },
  {
   "cell_type": "code",
   "execution_count": 51,
   "outputs": [
    {
     "data": {
      "text/plain": "(array([[[0, 0, 0, 0, 0],\n         [1, 1, 1, 1, 1],\n         [2, 2, 2, 2, 2],\n         [3, 3, 3, 3, 3],\n         [4, 4, 4, 4, 4]],\n \n        [[0, 1, 2, 3, 4],\n         [0, 1, 2, 3, 4],\n         [0, 1, 2, 3, 4],\n         [0, 1, 2, 3, 4],\n         [0, 1, 2, 3, 4]]]),\n array([-1. , -0.5,  0. ,  0.5,  1. ]))"
     },
     "execution_count": 51,
     "metadata": {},
     "output_type": "execute_result"
    }
   ],
   "source": [
    "\"\"\"\n",
    "nd_grid实例，它返回一个密集的多维“ meshgrid”。\n",
    "\n",
    "numpy.lib.index_tricks.nd_grid的一个实例，该实例在建立索引时返回一个密集的（或充血的）网格网格，\n",
    "以便每个返回的参数具有相同的形状。 输出数组的尺寸和数量等于索引尺寸的数量。 如果步长不是复数，\n",
    "则停止不包括在内。\n",
    "\n",
    "但是，如果步长是复数（例如5j），则其幅度的整数部分将被解释为指定要在起始值和终止值之间创建的点数，\n",
    "其中终止值是包含端点的值。\n",
    "\"\"\"\n",
    "np.mgrid[0:5,0:5],np.mgrid[-1:1:5j]\n"
   ],
   "metadata": {
    "collapsed": false,
    "pycharm": {
     "name": "#%%\n"
    }
   }
  },
  {
   "cell_type": "code",
   "execution_count": 52,
   "outputs": [
    {
     "data": {
      "text/plain": "(array([-1. , -0.5,  0. ,  0.5,  1. ]),\n [array([[0],\n         [1],\n         [2],\n         [3],\n         [4]]),\n  array([[0, 1, 2, 3, 4]])])"
     },
     "execution_count": 52,
     "metadata": {},
     "output_type": "execute_result"
    }
   ],
   "source": [
    "\"\"\"\n",
    "nd_grid实例，它返回一个开放的多维meshgrid。\n",
    "\n",
    "numpy.lib.index_tricks.nd_grid的一个实例，该实例在建立索引时返回一个开放的（即未充实的）网格，\n",
    "因此每个返回数组的一个维数都大于1。输出数组的维数和数量相等 到索引尺寸的数量。\n",
    "如果步长不是复数，则停止不包括在内。\n",
    "\n",
    "但是，如果步长是复数（例如5j），则其幅度的整数部分将被解释为指定要在起始值和终止值之间创建的点数，\n",
    "其中终止值是包含端点的值。\n",
    "\"\"\"\n",
    "np.ogrid[-1:1:5j],np.ogrid[0:5,0:5]"
   ],
   "metadata": {
    "collapsed": false,
    "pycharm": {
     "name": "#%%\n"
    }
   }
  },
  {
   "cell_type": "markdown",
   "source": [
    "#### 矩阵"
   ],
   "metadata": {
    "collapsed": false
   }
  },
  {
   "cell_type": "code",
   "execution_count": 54,
   "outputs": [
    {
     "data": {
      "text/plain": "array([[0, 1, 2],\n       [3, 4, 5],\n       [6, 7, 8]])"
     },
     "execution_count": 54,
     "metadata": {},
     "output_type": "execute_result"
    }
   ],
   "source": [
    "# 提取对角线或构造对角线数组\n",
    "x = np.arange(9).reshape((3,3))\n",
    "x\n"
   ],
   "metadata": {
    "collapsed": false,
    "pycharm": {
     "name": "#%%\n"
    }
   }
  },
  {
   "cell_type": "code",
   "execution_count": 55,
   "outputs": [
    {
     "data": {
      "text/plain": "(array([0, 4, 8]), array([1, 5]), array([3, 7]))"
     },
     "execution_count": 55,
     "metadata": {},
     "output_type": "execute_result"
    }
   ],
   "source": [
    "np.diag(x),\\\n",
    "np.diag(x, k=1),\\\n",
    "np.diag(x, k=-1)\n",
    "\n"
   ],
   "metadata": {
    "collapsed": false,
    "pycharm": {
     "name": "#%%\n"
    }
   }
  },
  {
   "cell_type": "code",
   "execution_count": 56,
   "outputs": [
    {
     "data": {
      "text/plain": "array([[0, 0, 0],\n       [0, 4, 0],\n       [0, 0, 8]])"
     },
     "execution_count": 56,
     "metadata": {},
     "output_type": "execute_result"
    }
   ],
   "source": [
    "np.diag(np.diag(x))\n",
    "\n"
   ],
   "metadata": {
    "collapsed": false,
    "pycharm": {
     "name": "#%%\n"
    }
   }
  },
  {
   "cell_type": "code",
   "execution_count": 57,
   "outputs": [
    {
     "data": {
      "text/plain": "(array([[1, 0, 0, 0],\n        [0, 2, 0, 0],\n        [0, 0, 3, 0],\n        [0, 0, 0, 4]]),\n array([[0, 1, 0],\n        [0, 0, 2],\n        [0, 0, 0]]))"
     },
     "execution_count": 57,
     "metadata": {},
     "output_type": "execute_result"
    }
   ],
   "source": [
    "# 创建一个二维数组，将扁平输入作为对角线。\n",
    "np.diagflat([[1,2], [3,4]]),np.diagflat([1,2], 1)\n"
   ],
   "metadata": {
    "collapsed": false,
    "pycharm": {
     "name": "#%%\n"
    }
   }
  },
  {
   "cell_type": "code",
   "execution_count": 58,
   "outputs": [
    {
     "data": {
      "text/plain": "(array([[1, 1, 1, 0, 0],\n        [1, 1, 1, 1, 0],\n        [1, 1, 1, 1, 1]]),\n array([[0., 0., 0., 0., 0.],\n        [1., 0., 0., 0., 0.],\n        [1., 1., 0., 0., 0.]]))"
     },
     "execution_count": 58,
     "metadata": {},
     "output_type": "execute_result"
    }
   ],
   "source": [
    "# 在给定对角线处及以下且在其他位置为零的数组。\n",
    "# k 数组被填充的位置和位置以下的次对角线。k = 0是主对角线，k < 0在它下面，k>在上面。默认值是0。\n",
    "np.tri(3, 5, 2, dtype=int),np.tri(3, 5, -1)\n"
   ],
   "metadata": {
    "collapsed": false,
    "pycharm": {
     "name": "#%%\n"
    }
   }
  },
  {
   "cell_type": "code",
   "execution_count": 59,
   "outputs": [
    {
     "data": {
      "text/plain": "array([[ 0,  0,  0],\n       [ 4,  0,  0],\n       [ 7,  8,  0],\n       [10, 11, 12]])"
     },
     "execution_count": 59,
     "metadata": {},
     "output_type": "execute_result"
    }
   ],
   "source": [
    "# 数组的下三角。\n",
    "np.tril([[1,2,3],[4,5,6],[7,8,9],[10,11,12]], -1)\n"
   ],
   "metadata": {
    "collapsed": false,
    "pycharm": {
     "name": "#%%\n"
    }
   }
  },
  {
   "cell_type": "code",
   "execution_count": 60,
   "outputs": [
    {
     "data": {
      "text/plain": "array([[ 1,  2,  3],\n       [ 4,  5,  6],\n       [ 0,  8,  9],\n       [ 0,  0, 12]])"
     },
     "execution_count": 60,
     "metadata": {},
     "output_type": "execute_result"
    }
   ],
   "source": [
    "# 数组的上三角。\n",
    "np.triu([[1,2,3],[4,5,6],[7,8,9],[10,11,12]], -1)\n"
   ],
   "metadata": {
    "collapsed": false,
    "pycharm": {
     "name": "#%%\n"
    }
   }
  },
  {
   "cell_type": "code",
   "execution_count": 61,
   "outputs": [
    {
     "data": {
      "text/plain": "array([[ 1,  1,  1],\n       [ 4,  2,  1],\n       [ 9,  3,  1],\n       [25,  5,  1]])"
     },
     "execution_count": 61,
     "metadata": {},
     "output_type": "execute_result"
    }
   ],
   "source": [
    "\"\"\"\n",
    "生成一个范德蒙矩阵。\n",
    "\n",
    "输出矩阵的列是输入向量的幂。幂的顺序由递增的布尔参数决定。\n",
    "具体地说，当递增为False时，第i输出列是输入向量按元素顺序的N - i- 1次幂。\n",
    "这样一个每一行都有一个几何级数的矩阵，以亚历山大·特拉夫·范德蒙德的名字命名。\n",
    "\"\"\"\n",
    "x = np.array([1, 2, 3, 5])\n",
    "N = 3 # 列数 默认len(x)\n",
    "np.vander(x, N)"
   ],
   "metadata": {
    "collapsed": false,
    "pycharm": {
     "name": "#%%\n"
    }
   }
  },
  {
   "cell_type": "code",
   "execution_count": 62,
   "outputs": [
    {
     "data": {
      "text/plain": "array([[ 1,  1,  1],\n       [ 4,  2,  1],\n       [ 9,  3,  1],\n       [25,  5,  1]], dtype=int32)"
     },
     "execution_count": 62,
     "metadata": {},
     "output_type": "execute_result"
    }
   ],
   "source": [
    "np.column_stack([x**(N-1-i) for i in range(N)])\n",
    "\n"
   ],
   "metadata": {
    "collapsed": false,
    "pycharm": {
     "name": "#%%\n"
    }
   }
  },
  {
   "cell_type": "code",
   "execution_count": 63,
   "outputs": [
    {
     "data": {
      "text/plain": "(array([[  1,   1,   1,   1],\n        [  8,   4,   2,   1],\n        [ 27,   9,   3,   1],\n        [125,  25,   5,   1]]),\n array([[  1,   1,   1,   1],\n        [  1,   2,   4,   8],\n        [  1,   3,   9,  27],\n        [  1,   5,  25, 125]]))"
     },
     "execution_count": 63,
     "metadata": {},
     "output_type": "execute_result"
    }
   ],
   "source": [
    "np.vander(x),np.vander(x, increasing=True)\n",
    "\n"
   ],
   "metadata": {
    "collapsed": false,
    "pycharm": {
     "name": "#%%\n"
    }
   }
  },
  {
   "cell_type": "code",
   "execution_count": 64,
   "outputs": [
    {
     "data": {
      "text/plain": "(48.00000000000003, 48)"
     },
     "execution_count": 64,
     "metadata": {},
     "output_type": "execute_result"
    }
   ],
   "source": [
    "np.linalg.det(np.vander(x)),(5-3)*(5-2)*(5-1)*(3-2)*(3-1)*(2-1)\n",
    "\n"
   ],
   "metadata": {
    "collapsed": false,
    "pycharm": {
     "name": "#%%\n"
    }
   }
  },
  {
   "cell_type": "code",
   "execution_count": 65,
   "outputs": [
    {
     "data": {
      "text/plain": "matrix([[5, 2],\n        [3, 4]])"
     },
     "execution_count": 65,
     "metadata": {},
     "output_type": "execute_result"
    }
   ],
   "source": [
    "# 把输入解释成一个矩阵。\n",
    "x = np.array([[1, 2], [3, 4]])\n",
    "m = np.asmatrix(x)\n",
    "x[0,0] = 5\n",
    "m"
   ],
   "metadata": {
    "collapsed": false,
    "pycharm": {
     "name": "#%%\n"
    }
   }
  },
  {
   "cell_type": "code",
   "execution_count": 66,
   "outputs": [
    {
     "data": {
      "text/plain": "(matrix([[1, 1, 2, 2],\n         [1, 1, 2, 2],\n         [3, 4, 7, 8],\n         [5, 6, 9, 0]]),\n matrix([[1, 1, 2, 2],\n         [1, 1, 2, 2],\n         [3, 4, 7, 8],\n         [5, 6, 9, 0]]),\n matrix([[1, 1, 2, 2],\n         [1, 1, 2, 2],\n         [3, 4, 7, 8],\n         [5, 6, 9, 0]]))"
     },
     "execution_count": 66,
     "metadata": {},
     "output_type": "execute_result"
    }
   ],
   "source": [
    "# 从字符串、嵌套序列或数组构建矩阵对象。\n",
    "A = np.mat('1 1; 1 1')\n",
    "B = np.mat('2 2; 2 2')\n",
    "C = np.mat('3 4; 5 6')\n",
    "D = np.mat('7 8; 9 0')\n",
    "np.bmat([[A, B], [C, D]]),\\\n",
    "np.bmat(np.r_[np.c_[A, B], np.c_[C, D]]),\\\n",
    "np.bmat('A,B; C,D')"
   ],
   "metadata": {
    "collapsed": false,
    "pycharm": {
     "name": "#%%\n"
    }
   }
  }
 ],
 "metadata": {
  "kernelspec": {
   "display_name": "Python 3",
   "language": "python",
   "name": "python3"
  },
  "language_info": {
   "codemirror_mode": {
    "name": "ipython",
    "version": 2
   },
   "file_extension": ".py",
   "mimetype": "text/x-python",
   "name": "python",
   "nbconvert_exporter": "python",
   "pygments_lexer": "ipython2",
   "version": "2.7.6"
  }
 },
 "nbformat": 4,
 "nbformat_minor": 0
}