{
 "cells": [
  {
   "cell_type": "markdown",
   "metadata": {
    "collapsed": true,
    "pycharm": {
     "name": "#%% md\n"
    }
   },
   "source": [
    "NumPy 1.6中引入的迭代器对象nditer提供了许多灵活的方式来系统地访问一个或多个数组的所有元素。\n",
    "本页介绍了一些基本的方法来使用该对象在Python中对数组进行计算，然后总结如何在Cython中加速内部循环。\n",
    "由于nditer的Python暴露是C数组迭代器API的相对直接的映射，因此这些想法​​也将为使用C或C ++进行数组迭代提供帮助。\n",
    "\n",
    "https://numpy.org/doc/stable/reference/arrays.nditer.html"
   ]
  },
  {
   "cell_type": "code",
   "execution_count": 1,
   "outputs": [
    {
     "name": "stdout",
     "output_type": "stream",
     "text": [
      "0 1 2 3 4 5 "
     ]
    }
   ],
   "source": [
    "import numpy as np\n",
    "a = np.arange(6).reshape(2,3)\n",
    "for x in np.nditer(a):\n",
    "    print(x, end=' ')\n"
   ],
   "metadata": {
    "collapsed": false,
    "pycharm": {
     "name": "#%%\n"
    }
   }
  },
  {
   "cell_type": "code",
   "execution_count": 4,
   "outputs": [
    {
     "name": "stdout",
     "output_type": "stream",
     "text": [
      "0 1 2 3 4 5 0 3 1 4 2 5 0 3 1 4 2 5 "
     ]
    },
    {
     "data": {
      "text/plain": "(array([[0, 3],\n        [1, 4],\n        [2, 5]]),\n array([[0, 3],\n        [1, 4],\n        [2, 5]]))"
     },
     "execution_count": 4,
     "metadata": {},
     "output_type": "execute_result"
    }
   ],
   "source": [
    "a = np.arange(6).reshape(2,3)\n",
    "for x in np.nditer(a.T):\n",
    "    print(x, end=' ')\n",
    "\n",
    "for x in np.nditer(a.T.copy(order='C')):\n",
    "    print(x, end=' ')\n",
    "\n",
    "for x in np.nditer(a, order='F'):\n",
    "    print(x, end=' ')\n",
    "\n",
    "a.T,a.T.copy(order='C')"
   ],
   "metadata": {
    "collapsed": false,
    "pycharm": {
     "name": "#%%\n"
    }
   }
  },
  {
   "cell_type": "code",
   "execution_count": 5,
   "outputs": [
    {
     "data": {
      "text/plain": "array([[ 0,  2,  4],\n       [ 6,  8, 10]])"
     },
     "execution_count": 5,
     "metadata": {},
     "output_type": "execute_result"
    }
   ],
   "source": [
    "a = np.arange(6).reshape(2,3)\n",
    "\n",
    "with np.nditer(a, op_flags=['readwrite']) as it:\n",
    "   for x in it:\n",
    "       x[...] = 2 * x\n",
    "\n",
    "a"
   ],
   "metadata": {
    "collapsed": false,
    "pycharm": {
     "name": "#%%\n"
    }
   }
  },
  {
   "cell_type": "code",
   "execution_count": 6,
   "outputs": [
    {
     "name": "stdout",
     "output_type": "stream",
     "text": [
      "[0 1 2 3 4 5] [0 3] [1 4] [2 5] "
     ]
    }
   ],
   "source": [
    "a = np.arange(6).reshape(2,3)\n",
    "for x in np.nditer(a, flags=['external_loop']):\n",
    "    print(x, end=' ')\n",
    "\n",
    "for x in np.nditer(a, flags=['external_loop'], order='F'):\n",
    "    print(x, end=' ')\n"
   ],
   "metadata": {
    "collapsed": false,
    "pycharm": {
     "name": "#%%\n"
    }
   }
  },
  {
   "cell_type": "code",
   "execution_count": 8,
   "outputs": [
    {
     "name": "stdout",
     "output_type": "stream",
     "text": [
      "0 <0> 1 <2> 2 <4> 3 <1> 4 <3> 5 <5> \n",
      "0 <(0, 0)> 1 <(0, 1)> 2 <(0, 2)> 3 <(1, 0)> 4 <(1, 1)> 5 <(1, 2)> "
     ]
    }
   ],
   "source": [
    "a = np.arange(6).reshape(2,3)\n",
    "it = np.nditer(a, flags=['f_index'])\n",
    "for x in it:\n",
    "    print(\"%d <%d>\" % (x, it.index), end=' ')\n",
    "\n",
    "print()\n",
    "\n",
    "it = np.nditer(a, flags=['multi_index'])\n",
    "for x in it:\n",
    "    print(\"%d <%s>\" % (x, it.multi_index), end=' ')"
   ],
   "metadata": {
    "collapsed": false,
    "pycharm": {
     "name": "#%%\n"
    }
   }
  }
 ],
 "metadata": {
  "kernelspec": {
   "display_name": "Python 3",
   "language": "python",
   "name": "python3"
  },
  "language_info": {
   "codemirror_mode": {
    "name": "ipython",
    "version": 2
   },
   "file_extension": ".py",
   "mimetype": "text/x-python",
   "name": "python",
   "nbconvert_exporter": "python",
   "pygments_lexer": "ipython2",
   "version": "2.7.6"
  }
 },
 "nbformat": 4,
 "nbformat_minor": 0
}