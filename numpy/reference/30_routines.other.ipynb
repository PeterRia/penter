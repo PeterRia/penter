{
 "cells": [
  {
   "cell_type": "markdown",
   "metadata": {
    "collapsed": true,
    "pycharm": {
     "name": "#%% md\n"
    }
   },
   "source": [
    "https://numpy.org/doc/stable/reference/routines.other.html\n",
    "\n"
   ]
  },
  {
   "cell_type": "code",
   "execution_count": 2,
   "outputs": [
    {
     "name": "stdout",
     "output_type": "stream",
     "text": [
      "1.18.2\n"
     ]
    }
   ],
   "source": [
    "\"\"\"\n",
    "Released version: ‘1.8.0’, ‘1.8.1’, etc.\n",
    "\n",
    "Alpha: ‘1.8.0a1’, ‘1.8.0a2’, etc.\n",
    "\n",
    "Beta: ‘1.8.0b1’, ‘1.8.0b2’, etc.\n",
    "\n",
    "Release candidates: ‘1.8.0rc1’, ‘1.8.0rc2’, etc.\n",
    "\n",
    "Development versions: ‘1.8.0.dev-f1234afa’ (git commit hash appended)\n",
    "\n",
    "Development versions after a1: ‘1.8.0a1.dev-f1234afa’,\n",
    "‘1.8.0b2.dev-f1234afa’, ‘1.8.1rc1.dev-f1234afa’, etc.\n",
    "\n",
    "Development versions (no git hash available): ‘1.8.0.dev-Unknown’\n",
    "\"\"\"\n",
    "import numpy as np\n",
    "from numpy.lib import NumpyVersion\n",
    "if NumpyVersion(np.__version__) < '1.7.0':\n",
    "    print('skip')\n",
    "else:\n",
    "    print(np.__version__)"
   ],
   "metadata": {
    "collapsed": false,
    "pycharm": {
     "name": "#%%\n"
    }
   }
  }
 ],
 "metadata": {
  "kernelspec": {
   "display_name": "Python 3",
   "language": "python",
   "name": "python3"
  },
  "language_info": {
   "codemirror_mode": {
    "name": "ipython",
    "version": 2
   },
   "file_extension": ".py",
   "mimetype": "text/x-python",
   "name": "python",
   "nbconvert_exporter": "python",
   "pygments_lexer": "ipython2",
   "version": "2.7.6"
  }
 },
 "nbformat": 4,
 "nbformat_minor": 0
}