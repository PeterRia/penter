{
 "cells": [
  {
   "cell_type": "markdown",
   "metadata": {
    "collapsed": true,
    "pycharm": {
     "name": "#%% md\n"
    }
   },
   "source": [
    "https://numpy.org/doc/stable/reference/arrays.datetime.html\n",
    "\n",
    "创建日期时间的最基本方法是使用ISO 8601日期或日期时间格式的字符串。 内部存储单位是从字符串形式中自动选择的，可以是日期单位或时间单位。\n",
    "日期单位是年（'Y'），月（'M'），周（'W'）和天（'D'），而时间单位是小时（'h'），分钟（'m' ），秒（“ s”），毫秒（“ ms”）和一些其他基于SI前缀秒的单位。\n",
    "datetime64数据类型还接受字符串“ NAT”（大小写字母的任意组合）作为“ Not A Time”值。\n"
   ]
  },
  {
   "cell_type": "code",
   "execution_count": 2,
   "outputs": [
    {
     "data": {
      "text/plain": "(numpy.datetime64('2005-02-25'),\n numpy.datetime64('2005-02'),\n numpy.datetime64('2005-02-01'),\n numpy.datetime64('2005-02-25T03:30'),\n numpy.datetime64('NaT'))"
     },
     "execution_count": 2,
     "metadata": {},
     "output_type": "execute_result"
    }
   ],
   "source": [
    "import numpy as np\n",
    "# A simple ISO date:\n",
    "# Using months for the unit:\n",
    "# Specifying just the month, but forcing a ‘days’ unit:\n",
    "# From a date and time:\n",
    "# NAT (not a time):\n",
    "np.datetime64('2005-02-25'),\\\n",
    "np.datetime64('2005-02'),\\\n",
    "np.datetime64('2005-02', 'D'),\\\n",
    "np.datetime64('2005-02-25T03:30'),\\\n",
    "np.datetime64('nat')\n",
    "\n"
   ],
   "metadata": {
    "collapsed": false,
    "pycharm": {
     "name": "#%%\n"
    }
   }
  },
  {
   "cell_type": "code",
   "execution_count": 3,
   "outputs": [
    {
     "data": {
      "text/plain": "(array(['2007-07-13', '2006-01-13', '2010-08-13'], dtype='datetime64[D]'),\n array(['2001-01-01T12:00:00.000', '2002-02-03T13:56:03.172'],\n       dtype='datetime64[ms]'))"
     },
     "execution_count": 3,
     "metadata": {},
     "output_type": "execute_result"
    }
   ],
   "source": [
    "np.array(['2007-07-13', '2006-01-13', '2010-08-13'], dtype='datetime64'),\\\n",
    "np.array(['2001-01-01T12:00', '2002-02-03T13:56:03.172'], dtype='datetime64')\n",
    "\n"
   ],
   "metadata": {
    "collapsed": false,
    "pycharm": {
     "name": "#%%\n"
    }
   }
  },
  {
   "cell_type": "code",
   "execution_count": 4,
   "outputs": [
    {
     "data": {
      "text/plain": "array(['2005-02-01', '2005-02-02', '2005-02-03', '2005-02-04',\n       '2005-02-05', '2005-02-06', '2005-02-07', '2005-02-08',\n       '2005-02-09', '2005-02-10', '2005-02-11', '2005-02-12',\n       '2005-02-13', '2005-02-14', '2005-02-15', '2005-02-16',\n       '2005-02-17', '2005-02-18', '2005-02-19', '2005-02-20',\n       '2005-02-21', '2005-02-22', '2005-02-23', '2005-02-24',\n       '2005-02-25', '2005-02-26', '2005-02-27', '2005-02-28'],\n      dtype='datetime64[D]')"
     },
     "execution_count": 4,
     "metadata": {},
     "output_type": "execute_result"
    }
   ],
   "source": [
    "# 一个月的数据\n",
    "np.arange('2005-02', '2005-03', dtype='datetime64[D]')\n"
   ],
   "metadata": {
    "collapsed": false,
    "pycharm": {
     "name": "#%%\n"
    }
   }
  },
  {
   "cell_type": "code",
   "execution_count": 5,
   "outputs": [
    {
     "name": "stderr",
     "output_type": "stream",
     "text": [
      "d:\\programdata\\miniconda3\\lib\\site-packages\\ipykernel_launcher.py:1: DeprecationWarning: parsing timezone aware datetimes is deprecated; this will raise an error in the future\n",
      "  \"\"\"Entry point for launching an IPython kernel.\n"
     ]
    },
    {
     "data": {
      "text/plain": "(True, True)"
     },
     "execution_count": 5,
     "metadata": {},
     "output_type": "execute_result"
    }
   ],
   "source": [
    "np.datetime64('2005') == np.datetime64('2005-01-01'),\\\n",
    "np.datetime64('2010-03-14T15Z') == np.datetime64('2010-03-14T15:00:00.00Z')"
   ],
   "metadata": {
    "collapsed": false,
    "pycharm": {
     "name": "#%%\n"
    }
   }
  },
  {
   "cell_type": "markdown",
   "source": [
    "## 日期时间和时间增量算法\n",
    "\n"
   ],
   "metadata": {
    "collapsed": false,
    "pycharm": {
     "name": "#%% md\n"
    }
   }
  },
  {
   "cell_type": "code",
   "execution_count": 9,
   "outputs": [
    {
     "data": {
      "text/plain": "(numpy.timedelta64(1,'D'),\n numpy.timedelta64(4,'h'),\n numpy.timedelta64(366,'D'),\n numpy.datetime64('2009-01-21'),\n numpy.datetime64('2011-06-15T12:00'),\n 7.0,\n numpy.timedelta64(7,'D'),\n numpy.timedelta64('NaT','D'),\n numpy.datetime64('NaT'))"
     },
     "execution_count": 9,
     "metadata": {},
     "output_type": "execute_result"
    }
   ],
   "source": [
    "np.timedelta64(1, 'D'),\\\n",
    "np.timedelta64(4, 'h'),\\\n",
    "np.datetime64('2009-01-01') - np.datetime64('2008-01-01'),\\\n",
    "np.datetime64('2009') + np.timedelta64(20, 'D'),\\\n",
    "    np.datetime64('2011-06-15T00:00') + np.timedelta64(12, 'h'),\\\n",
    "    np.timedelta64(1,'W') / np.timedelta64(1,'D'),\\\n",
    "    np.timedelta64(1,'W') % np.timedelta64(10,'D'),\\\n",
    "    np.datetime64('nat') - np.datetime64('2009-01-01'),\\\n",
    "    np.datetime64('2009-01-01') + np.timedelta64('nat')\n",
    "\n"
   ],
   "metadata": {
    "collapsed": false,
    "pycharm": {
     "name": "#%%\n"
    }
   }
  },
  {
   "cell_type": "markdown",
   "source": [
    "日期单位：\n",
    "\n",
    "| Code | Meaning | Time span \\(relative\\) | Time span \\(absolute\\)     |\n",
    "|------|---------|------------------------|----------------------------|\n",
    "| Y    | year    | \\+/\\- 9\\.2e18 years    | \\[9\\.2e18 BC, 9\\.2e18 AD\\] |\n",
    "| M    | month   | \\+/\\- 7\\.6e17 years    | \\[7\\.6e17 BC, 7\\.6e17 AD\\] |\n",
    "| W    | week    | \\+/\\- 1\\.7e17 years    | \\[1\\.7e17 BC, 1\\.7e17 AD\\] |\n",
    "| D    | day     | \\+/\\- 2\\.5e16 years    | \\[2\\.5e16 BC, 2\\.5e16 AD\\] |\n",
    "\n",
    "时间单位：\n",
    "\n",
    "| Code | Meaning     | Time span \\(relative\\) | Time span \\(absolute\\)     |\n",
    "|------|-------------|------------------------|----------------------------|\n",
    "| h    | hour        | \\+/\\- 1\\.0e15 years    | \\[1\\.0e15 BC, 1\\.0e15 AD\\] |\n",
    "| m    | minute      | \\+/\\- 1\\.7e13 years    | \\[1\\.7e13 BC, 1\\.7e13 AD\\] |\n",
    "| s    | second      | \\+/\\- 2\\.9e11 years    | \\[2\\.9e11 BC, 2\\.9e11 AD\\] |\n",
    "| ms   | millisecond | \\+/\\- 2\\.9e8 years     | \\[ 2\\.9e8 BC,  2\\.9e8 AD\\] |\n",
    "| us   | microsecond | \\+/\\- 2\\.9e5 years     | \\[290301 BC, 294241 AD\\]   |\n",
    "| ns   | nanosecond  | \\+/\\- 292 years        | \\[  1678 AD,   2262 AD\\]   |\n",
    "| ps   | picosecond  | \\+/\\- 106 days         | \\[  1969 AD,   1970 AD\\]   |\n",
    "| fs   | femtosecond | \\+/\\- 2\\.6 hours       | \\[  1969 AD,   1970 AD\\]   |\n",
    "| as   | attosecond  | \\+/\\- 9\\.2 seconds     | \\[  1969 AD,   1970 AD\\]   |\n",
    "\n",
    "\n",
    "工作日功能：\n",
    "busday功能的默认设置是唯一有效的日期是星期一至星期五（通常的工作日）。\n",
    "该实现基于包含7个布尔值标志的“周掩码”，以指示有效日期； 可以使用自定义周掩码来指定其他有效日期集。\n",
    "\n",
    "“ busday”功能还可以检查“假期”列表，这些日期不是有效的日期。\n",
    "\n",
    "功能busday_offset使您可以将工作日中指定的偏移量以“ D”（天）为单位应用于日期时间。"
   ],
   "metadata": {
    "collapsed": false,
    "pycharm": {
     "name": "#%% md\n"
    }
   }
  },
  {
   "cell_type": "code",
   "execution_count": 10,
   "outputs": [
    {
     "data": {
      "text/plain": "(numpy.datetime64('2011-06-24'),\n numpy.datetime64('2011-06-27'),\n numpy.datetime64('2011-06-27'),\n numpy.datetime64('2011-06-29'),\n numpy.datetime64('2011-06-24'),\n numpy.datetime64('2011-06-28'),\n numpy.datetime64('2011-03-21'),\n numpy.datetime64('2011-03-22'),\n numpy.datetime64('2011-03-21'),\n numpy.datetime64('2011-03-23'),\n numpy.datetime64('2012-05-13'))"
     },
     "execution_count": 10,
     "metadata": {},
     "output_type": "execute_result"
    }
   ],
   "source": [
    "np.busday_offset('2011-06-23', 1),\\\n",
    "np.busday_offset('2011-06-23', 2),\\\n",
    "np.busday_offset('2011-06-25', 0, roll='forward'),\\\n",
    "np.busday_offset('2011-06-25', 2, roll='forward'),\\\n",
    "np.busday_offset('2011-06-25', 0, roll='backward'),\\\n",
    "np.busday_offset('2011-06-25', 2, roll='backward'),\\\n",
    "np.busday_offset('2011-03-20', 0, roll='forward'),\\\n",
    "np.busday_offset('2011-03-22', 0, roll='forward'),\\\n",
    "np.busday_offset('2011-03-20', 1, roll='backward'),\\\n",
    "np.busday_offset('2011-03-22', 1, roll='backward'),\\\n",
    "np.busday_offset('2012-05', 1, roll='forward', weekmask='Sun')\n",
    "\"\"\"\n",
    "# Positional sequences; positions are Monday through Sunday.\n",
    "# Length of the sequence must be exactly 7.\n",
    "weekmask = [1, 1, 1, 1, 1, 0, 0]\n",
    "# list or other sequence; 0 == invalid day, 1 == valid day\n",
    "weekmask = \"1111100\"\n",
    "# string '0' == invalid day, '1' == valid day\n",
    "\n",
    "# string abbreviations from this list: Mon Tue Wed Thu Fri Sat Sun\n",
    "weekmask = \"Mon Tue Wed Thu Fri\"\n",
    "# any amount of whitespace is allowed; abbreviations are case-sensitive.\n",
    "weekmask = \"MonTue Wed  Thu\\tFri\"\n",
    "\"\"\""
   ],
   "metadata": {
    "collapsed": false,
    "pycharm": {
     "name": "#%%\n"
    }
   }
  },
  {
   "cell_type": "code",
   "execution_count": 11,
   "outputs": [
    {
     "data": {
      "text/plain": "(True, False, True, array([ True,  True,  True,  True,  True, False, False]))"
     },
     "execution_count": 11,
     "metadata": {},
     "output_type": "execute_result"
    }
   ],
   "source": [
    "a = np.arange(np.datetime64('2011-07-11'), np.datetime64('2011-07-18'))\n",
    "\n",
    "np.is_busday(np.datetime64('2011-07-15')),\\\n",
    "    np.is_busday(np.datetime64('2011-07-16')),\\\n",
    "    np.is_busday(np.datetime64('2011-07-16'), weekmask=\"Sat Sun\"),\\\n",
    "    np.is_busday(a)\n",
    "\n"
   ],
   "metadata": {
    "collapsed": false,
    "pycharm": {
     "name": "#%%\n"
    }
   }
  },
  {
   "cell_type": "code",
   "execution_count": 12,
   "outputs": [
    {
     "data": {
      "text/plain": "(5, -5, 5)"
     },
     "execution_count": 12,
     "metadata": {},
     "output_type": "execute_result"
    }
   ],
   "source": [
    "a = np.arange(np.datetime64('2011-07-11'), np.datetime64('2011-07-18'))\n",
    "\n",
    "np.busday_count(np.datetime64('2011-07-11'), np.datetime64('2011-07-18')),\\\n",
    "    np.busday_count(np.datetime64('2011-07-18'), np.datetime64('2011-07-11')),\\\n",
    "    np.count_nonzero(np.is_busday(a))\n",
    "\n"
   ],
   "metadata": {
    "collapsed": false,
    "pycharm": {
     "name": "#%%\n"
    }
   }
  }
 ],
 "metadata": {
  "kernelspec": {
   "display_name": "Python 3",
   "language": "python",
   "name": "python3"
  },
  "language_info": {
   "codemirror_mode": {
    "name": "ipython",
    "version": 2
   },
   "file_extension": ".py",
   "mimetype": "text/x-python",
   "name": "python",
   "nbconvert_exporter": "python",
   "pygments_lexer": "ipython2",
   "version": "2.7.6"
  }
 },
 "nbformat": 4,
 "nbformat_minor": 0
}