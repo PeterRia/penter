{
 "cells": [
  {
   "cell_type": "markdown",
   "metadata": {
    "collapsed": true,
    "pycharm": {
     "name": "#%% md\n"
    }
   },
   "source": [
    "https://numpy.org/doc/stable/reference/routines.bitwise.html\n",
    "# 二进制操作"
   ]
  },
  {
   "cell_type": "code",
   "execution_count": 2,
   "outputs": [
    {
     "data": {
      "text/plain": "(1, 12, '1100', array([12,  1], dtype=int32), array([False,  True]))"
     },
     "execution_count": 2,
     "metadata": {},
     "output_type": "execute_result"
    }
   ],
   "source": [
    "import numpy as np\n",
    "\n",
    "np.bitwise_and(13, 17),np.bitwise_and(14, 13),\\\n",
    "np.binary_repr(12),\\\n",
    "np.bitwise_and([14,3], 13),\\\n",
    "    np.bitwise_and([True, True], [False, True])\n",
    "\n",
    "\"\"\"\n",
    "The number 13 is represented by 00001101. Likewise, 17 is represented by 00010001.\n",
    "The bit-wise AND of 13 and 17 is therefore 000000001, or 1:\n",
    "\"\"\""
   ],
   "metadata": {
    "collapsed": false,
    "pycharm": {
     "name": "#%%\n"
    }
   }
  },
  {
   "cell_type": "code",
   "execution_count": null,
   "outputs": [],
   "source": [
    "\"\"\"\n",
    "The number 13 has the binaray representation 00001101. Likewise, 16 is represented by 00010000.\n",
    "The bit-wise OR of 13 and 16 is then 000111011, or 29:\n",
    "\"\"\"\n",
    "np.bitwise_or(13, 16),\\\n",
    "np.binary_repr(29)"
   ],
   "metadata": {
    "collapsed": false,
    "pycharm": {
     "name": "#%%\n"
    }
   }
  },
  {
   "cell_type": "code",
   "execution_count": 3,
   "outputs": [
    {
     "data": {
      "text/plain": "'\\nThe number 13 is represented by 00001101. Likewise, 17 is represented by 00010001. \\nThe bit-wise XOR of 13 and 17 is therefore 00011100, or 28:\\n'"
     },
     "execution_count": 3,
     "metadata": {},
     "output_type": "execute_result"
    }
   ],
   "source": [
    "\"\"\"\n",
    "^ 按位异或\n",
    "The number 13 is represented by 00001101. Likewise, 17 is represented by 00010001.\n",
    "The bit-wise XOR of 13 and 17 is therefore 00011100, or 28:\n",
    "\"\"\"\n",
    "np.bitwise_xor(13, 17),\\\n",
    "np.binary_repr(28)"
   ],
   "metadata": {
    "collapsed": false,
    "pycharm": {
     "name": "#%%\n"
    }
   }
  },
  {
   "cell_type": "code",
   "execution_count": 4,
   "outputs": [
    {
     "data": {
      "text/plain": "(242, '11110010')"
     },
     "execution_count": 4,
     "metadata": {},
     "output_type": "execute_result"
    }
   ],
   "source": [
    "\"\"\"\n",
    "~ 按位取反\n",
    "We’ve seen that 13 is represented by 00001101\n",
    "\"\"\"\n",
    "x = np.invert(np.array(13, dtype=np.uint8))\n",
    "x,\\\n",
    "np.binary_repr(x, width=8)\n"
   ],
   "metadata": {
    "collapsed": false,
    "pycharm": {
     "name": "#%%\n"
    }
   }
  },
  {
   "cell_type": "code",
   "execution_count": null,
   "outputs": [],
   "source": [
    "# 左移\n",
    "np.binary_repr(5),\\\n",
    "np.left_shift(5, 2),\\\n",
    "np.binary_repr(20)\n"
   ],
   "metadata": {
    "collapsed": false,
    "pycharm": {
     "name": "#%%\n"
    }
   }
  },
  {
   "cell_type": "code",
   "execution_count": null,
   "outputs": [],
   "source": [
    "# 右移\n",
    "np.binary_repr(10),\\\n",
    "np.right_shift(10, 1),\\\n",
    "np.binary_repr(5)\n",
    "\n"
   ],
   "metadata": {
    "collapsed": false,
    "pycharm": {
     "name": "#%%\n"
    }
   }
  },
  {
   "cell_type": "code",
   "execution_count": 5,
   "outputs": [
    {
     "data": {
      "text/plain": "array([[[160],\n        [ 64]],\n\n       [[192],\n        [ 32]]], dtype=uint8)"
     },
     "execution_count": 5,
     "metadata": {},
     "output_type": "execute_result"
    }
   ],
   "source": [
    "# 将二进制值数组的元素打包为uint8数组中的位。\n",
    "a = np.array([[[1,0,1],\n",
    "               [0,1,0]],\n",
    "              [[1,1,0],\n",
    "               [0,0,1]]])\n",
    "b = np.packbits(a, axis=-1)\n",
    "b\n",
    "# Note that in binary 160 = 1010 0000, 64 = 0100 0000, 192 = 1100 0000, and 32 = 0010 0000."
   ],
   "metadata": {
    "collapsed": false,
    "pycharm": {
     "name": "#%%\n"
    }
   }
  },
  {
   "cell_type": "code",
   "execution_count": 6,
   "outputs": [
    {
     "data": {
      "text/plain": "(array([[ 2],\n        [ 7],\n        [23]], dtype=uint8),\n array([[0, 0, 0, 0, 0, 0, 1, 0],\n        [0, 0, 0, 0, 0, 1, 1, 1],\n        [0, 0, 0, 1, 0, 1, 1, 1]], dtype=uint8),\n array([[0, 0, 0, 0, 0],\n        [0, 0, 0, 0, 0],\n        [0, 0, 0, 1, 0]], dtype=uint8))"
     },
     "execution_count": 6,
     "metadata": {},
     "output_type": "execute_result"
    }
   ],
   "source": [
    "a = np.array([[2], [7], [23]], dtype=np.uint8)\n",
    "\n",
    "b = np.unpackbits(a, axis=1)\n",
    "\n",
    "c = np.unpackbits(a, axis=1, count=-3)\n",
    "\n",
    "a,b,c"
   ],
   "metadata": {
    "collapsed": false,
    "pycharm": {
     "name": "#%%\n"
    }
   }
  },
  {
   "cell_type": "code",
   "execution_count": null,
   "outputs": [],
   "source": [
    "\n"
   ],
   "metadata": {
    "collapsed": false,
    "pycharm": {
     "name": "#%%\n"
    }
   }
  }
 ],
 "metadata": {
  "kernelspec": {
   "display_name": "Python 3",
   "language": "python",
   "name": "python3"
  },
  "language_info": {
   "codemirror_mode": {
    "name": "ipython",
    "version": 2
   },
   "file_extension": ".py",
   "mimetype": "text/x-python",
   "name": "python",
   "nbconvert_exporter": "python",
   "pygments_lexer": "ipython2",
   "version": "2.7.6"
  }
 },
 "nbformat": 4,
 "nbformat_minor": 0
}