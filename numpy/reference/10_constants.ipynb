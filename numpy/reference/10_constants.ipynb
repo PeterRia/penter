{
 "cells": [
  {
   "cell_type": "markdown",
   "metadata": {
    "collapsed": true,
    "pycharm": {
     "name": "#%% md\n"
    }
   },
   "source": [
    "https://numpy.org/doc/stable/reference/constants.html\n",
    "\n",
    "常量\n",
    "\n",
    "\n"
   ]
  },
  {
   "cell_type": "code",
   "source": [
    "import numpy\n",
    "numpy.Inf,\\\n",
    "numpy.Infinity,\\\n",
    "    numpy.PINF,\\\n",
    "    numpy.infty,\\\n",
    "    numpy.inf\n",
    "# IEEE 754(正)无穷大的浮点表示。使用inf，因为inf，无穷大，PINF和infty是inf的别名。\n",
    "\n"
   ],
   "metadata": {
    "collapsed": false,
    "pycharm": {
     "name": "#%%\n"
    }
   },
   "execution_count": 2,
   "outputs": [
    {
     "data": {
      "text/plain": "(inf, inf, inf, inf, inf)"
     },
     "execution_count": 2,
     "metadata": {},
     "output_type": "execute_result"
    }
   ]
  },
  {
   "cell_type": "code",
   "execution_count": 3,
   "outputs": [
    {
     "data": {
      "text/plain": "(nan, nan, nan)"
     },
     "execution_count": 3,
     "metadata": {},
     "output_type": "execute_result"
    }
   ],
   "source": [
    "# IEEE 754非数字的浮点表示(NaN)。NaN和NaN是NaN的等价定义。请用nan代替nan。\n",
    "numpy.NAN,\\\n",
    "    numpy.nan,\\\n",
    "    numpy.NaN\n",
    "\n"
   ],
   "metadata": {
    "collapsed": false,
    "pycharm": {
     "name": "#%%\n"
    }
   }
  },
  {
   "cell_type": "code",
   "execution_count": 4,
   "outputs": [
    {
     "data": {
      "text/plain": "-inf"
     },
     "execution_count": 4,
     "metadata": {},
     "output_type": "execute_result"
    }
   ],
   "source": [
    "# ieee754 -∞的浮点表示。\n",
    "numpy.NINF\n"
   ],
   "metadata": {
    "collapsed": false,
    "pycharm": {
     "name": "#%%\n"
    }
   }
  },
  {
   "cell_type": "code",
   "execution_count": 5,
   "outputs": [
    {
     "data": {
      "text/plain": "(-0.0, 0.0)"
     },
     "execution_count": 5,
     "metadata": {},
     "output_type": "execute_result"
    }
   ],
   "source": [
    "numpy.NZERO,numpy.PZERO\n",
    "# IEEE 754负零的浮点表示。IEEE 754浮点数表示的正零。\n"
   ],
   "metadata": {
    "collapsed": false,
    "pycharm": {
     "name": "#%%\n"
    }
   }
  },
  {
   "cell_type": "code",
   "execution_count": 6,
   "outputs": [
    {
     "data": {
      "text/plain": "2.718281828459045"
     },
     "execution_count": 6,
     "metadata": {},
     "output_type": "execute_result"
    }
   ],
   "source": [
    "numpy.e\n",
    "# 欧拉常数，自然对数的基础，纳皮尔常数。\n"
   ],
   "metadata": {
    "collapsed": false,
    "pycharm": {
     "name": "#%%\n"
    }
   }
  },
  {
   "cell_type": "code",
   "execution_count": 7,
   "outputs": [
    {
     "data": {
      "text/plain": "0.5772156649015329"
     },
     "execution_count": 7,
     "metadata": {},
     "output_type": "execute_result"
    }
   ],
   "source": [
    "numpy.euler_gamma\n",
    "# γ = 0.5772156649015328606065120900824024310421...\n"
   ],
   "metadata": {
    "collapsed": false,
    "pycharm": {
     "name": "#%%\n"
    }
   }
  },
  {
   "cell_type": "code",
   "execution_count": 8,
   "outputs": [
    {
     "data": {
      "text/plain": "3.141592653589793"
     },
     "execution_count": 8,
     "metadata": {},
     "output_type": "execute_result"
    }
   ],
   "source": [
    "numpy.pi"
   ],
   "metadata": {
    "collapsed": false,
    "pycharm": {
     "name": "#%%\n"
    }
   }
  },
  {
   "cell_type": "code",
   "execution_count": 9,
   "outputs": [
    {
     "data": {
      "text/plain": "(None,\n True,\n array([0, 1, 2]),\n array([[0],\n        [1],\n        [2]]),\n array([0, 1, 2]),\n array([[[0]],\n \n        [[1]],\n \n        [[2]]]),\n array([[0, 0, 0],\n        [0, 1, 2],\n        [0, 2, 4]]))"
     },
     "execution_count": 9,
     "metadata": {},
     "output_type": "execute_result"
    }
   ],
   "source": [
    "#  numpy.newaxis从字面上来理解就是用来创建新轴的，或者说是用来对array进行维度扩展的。\n",
    "x = numpy.arange(3)\n",
    "numpy.newaxis,numpy.newaxis is None,\\\n",
    "x,\\\n",
    "x[:, numpy.newaxis],\\\n",
    "x[:, ...],\\\n",
    "x[:, numpy.newaxis, numpy.newaxis],\\\n",
    "x[:, numpy.newaxis] * x"
   ],
   "metadata": {
    "collapsed": false,
    "pycharm": {
     "name": "#%%\n"
    }
   }
  },
  {
   "cell_type": "code",
   "execution_count": 10,
   "outputs": [
    {
     "data": {
      "text/plain": "array([[ 0,  0,  0],\n       [ 3,  4,  5],\n       [ 6,  8, 10]])"
     },
     "execution_count": 10,
     "metadata": {},
     "output_type": "execute_result"
    }
   ],
   "source": [
    "y = numpy.arange(3, 6)\n",
    "x[:, numpy.newaxis] * y\n",
    "\n"
   ],
   "metadata": {
    "collapsed": false,
    "pycharm": {
     "name": "#%%\n"
    }
   }
  },
  {
   "cell_type": "code",
   "execution_count": 11,
   "outputs": [
    {
     "data": {
      "text/plain": "((1, 3), (1, 3), (1, 3), (3, 1))"
     },
     "execution_count": 11,
     "metadata": {},
     "output_type": "execute_result"
    }
   ],
   "source": [
    "# x[newaxis, :] is equivalent to x[newaxis] and x[None]:\n",
    "x[numpy.newaxis, :].shape,\\\n",
    "x[numpy.newaxis].shape,\\\n",
    "x[None].shape,\\\n",
    "x[:, numpy.newaxis].shape\n",
    "\n"
   ],
   "metadata": {
    "collapsed": false,
    "pycharm": {
     "name": "#%%\n"
    }
   }
  }
 ],
 "metadata": {
  "kernelspec": {
   "display_name": "Python 3",
   "language": "python",
   "name": "python3"
  },
  "language_info": {
   "codemirror_mode": {
    "name": "ipython",
    "version": 2
   },
   "file_extension": ".py",
   "mimetype": "text/x-python",
   "name": "python",
   "nbconvert_exporter": "python",
   "pygments_lexer": "ipython2",
   "version": "2.7.6"
  }
 },
 "nbformat": 4,
 "nbformat_minor": 0
}