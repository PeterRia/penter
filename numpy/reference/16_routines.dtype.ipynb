{
 "cells": [
  {
   "cell_type": "markdown",
   "metadata": {
    "collapsed": true,
    "pycharm": {
     "name": "#%% md\n"
    }
   },
   "source": [
    "https://numpy.org/doc/stable/reference/routines.dtype.html\n",
    "\n",
    "\n"
   ]
  },
  {
   "cell_type": "code",
   "execution_count": 1,
   "outputs": [
    {
     "data": {
      "text/plain": "(True, True, False)"
     },
     "execution_count": 1,
     "metadata": {},
     "output_type": "execute_result"
    }
   ],
   "source": [
    "import numpy as np\n",
    "np.can_cast(np.int32, np.int64),\\\n",
    "np.can_cast(np.float64, complex),\\\n",
    "np.can_cast(complex, float)\n",
    "\n",
    "# 记得之前有绘制一个表格出来的\n"
   ],
   "metadata": {
    "collapsed": false,
    "pycharm": {
     "name": "#%%\n"
    }
   }
  },
  {
   "cell_type": "code",
   "execution_count": 2,
   "outputs": [
    {
     "data": {
      "text/plain": "(dtype('float64'), dtype('int64'))"
     },
     "execution_count": 2,
     "metadata": {},
     "output_type": "execute_result"
    }
   ],
   "source": [
    "# 返回具有最小大小和最小标量类型的数据类型，类型1和类型2都可以安全地转换到该数据类型。\n",
    "\n",
    "np.promote_types('f4', 'f8'),np.promote_types(np.int32, np.int64)"
   ],
   "metadata": {
    "collapsed": false,
    "pycharm": {
     "name": "#%%\n"
    }
   }
  },
  {
   "cell_type": "code",
   "execution_count": null,
   "outputs": [],
   "source": [
    "# 对于标量a，返回具有最小大小和可以保存其值的最小标量类型的数据类型。\n",
    "# 对于非标量数组a，返回未修改的向量dtype\n",
    "np.min_scalar_type(10),np.min_scalar_type(-260),\\\n",
    "np.min_scalar_type(3.1),np.min_scalar_type(1e50)\n"
   ],
   "metadata": {
    "collapsed": false,
    "pycharm": {
     "name": "#%%\n"
    }
   }
  },
  {
   "cell_type": "code",
   "execution_count": 3,
   "outputs": [
    {
     "data": {
      "text/plain": "(dtype('int8'), dtype('complex128'), dtype('float64'))"
     },
     "execution_count": 3,
     "metadata": {},
     "output_type": "execute_result"
    }
   ],
   "source": [
    "np.result_type(3, np.arange(7, dtype='i1')),\\\n",
    "    np.result_type('i4', 'c8'),\\\n",
    "    np.result_type(3.0, -2)\n",
    "\n"
   ],
   "metadata": {
    "collapsed": false,
    "pycharm": {
     "name": "#%%\n"
    }
   }
  },
  {
   "cell_type": "code",
   "execution_count": 4,
   "outputs": [
    {
     "data": {
      "text/plain": "numpy.float64"
     },
     "execution_count": 4,
     "metadata": {},
     "output_type": "execute_result"
    }
   ],
   "source": [
    "np.common_type(np.arange(2, dtype=np.float32), np.arange(2))\n",
    "\n"
   ],
   "metadata": {
    "collapsed": false,
    "pycharm": {
     "name": "#%%\n"
    }
   }
  },
  {
   "cell_type": "code",
   "execution_count": 5,
   "outputs": [
    {
     "data": {
      "text/plain": "(numpy.int32, numpy.float64, numpy.complex128, list)"
     },
     "execution_count": 5,
     "metadata": {},
     "output_type": "execute_result"
    }
   ],
   "source": [
    "np.obj2sctype(np.int32),\\\n",
    "np.obj2sctype(np.array([1., 2.])),\\\n",
    "np.obj2sctype(np.array([1.j])),\\\n",
    "    np.obj2sctype(1, default=list)\n",
    "\n"
   ],
   "metadata": {
    "collapsed": false,
    "pycharm": {
     "name": "#%%\n"
    }
   }
  },
  {
   "cell_type": "code",
   "execution_count": 6,
   "outputs": [
    {
     "data": {
      "text/plain": "(dtype([(('T1', 'col1'), '<f8'), (('T2', 'col2'), '<i4'), (('T3', 'col3'), 'S5')]),\n dtype([('col1', '<f8'), ('col2', '<i4'), ('col3', 'S5')]),\n dtype([('f0', '<f8'), ('f1', '<i4'), ('f2', 'S5')]))"
     },
     "execution_count": 6,
     "metadata": {},
     "output_type": "execute_result"
    }
   ],
   "source": [
    "np.format_parser(['<f8', '<i4', '<a5'], ['col1', 'col2', 'col3'],\n",
    "                 ['T1', 'T2', 'T3']).dtype,\\\n",
    "    np.format_parser(['f8', 'i4', 'a5'], ['col1', 'col2', 'col3'],\n",
    "                 []).dtype,\\\n",
    "np.format_parser(['<f8', '<i4', '<a5'], [], []).dtype"
   ],
   "metadata": {
    "collapsed": false,
    "pycharm": {
     "name": "#%%\n"
    }
   }
  },
  {
   "cell_type": "code",
   "execution_count": 7,
   "outputs": [
    {
     "name": "stdout",
     "output_type": "stream",
     "text": [
      "S1  :  character\n",
      "?  :  bool\n",
      "B  :  unsigned char\n",
      "D  :  complex double precision\n",
      "G  :  complex long double precision\n",
      "F  :  complex single precision\n",
      "I  :  unsigned integer\n",
      "H  :  unsigned short\n",
      "L  :  unsigned long integer\n",
      "O  :  object\n",
      "Q  :  unsigned long long integer\n",
      "S  :  string\n",
      "U  :  unicode\n",
      "V  :  void\n",
      "b  :  signed char\n",
      "d  :  double precision\n",
      "g  :  long precision\n",
      "f  :  single precision\n",
      "i  :  integer\n",
      "h  :  short\n",
      "l  :  long integer\n",
      "q  :  long long integer\n"
     ]
    }
   ],
   "source": [
    "typechars = ['S1', '?', 'B', 'D', 'G', 'F', 'I', 'H', 'L', 'O', 'Q',\n",
    "             'S', 'U', 'V', 'b', 'd', 'g', 'f', 'i', 'h', 'l', 'q']\n",
    "for typechar in typechars:\n",
    "    print(typechar, ' : ', np.typename(typechar))\n"
   ],
   "metadata": {
    "collapsed": false,
    "pycharm": {
     "name": "#%%\n"
    }
   }
  }
 ],
 "metadata": {
  "kernelspec": {
   "display_name": "Python 3",
   "language": "python",
   "name": "python3"
  },
  "language_info": {
   "codemirror_mode": {
    "name": "ipython",
    "version": 2
   },
   "file_extension": ".py",
   "mimetype": "text/x-python",
   "name": "python",
   "nbconvert_exporter": "python",
   "pygments_lexer": "ipython2",
   "version": "2.7.6"
  }
 },
 "nbformat": 4,
 "nbformat_minor": 0
}