{
 "cells": [
  {
   "cell_type": "code",
   "execution_count": 1,
   "metadata": {
    "collapsed": true
   },
   "outputs": [
    {
     "data": {
      "text/plain": "array([1, 2])"
     },
     "execution_count": 1,
     "metadata": {},
     "output_type": "execute_result"
    }
   ],
   "source": [
    "# https://numpy.org/doc/stable/reference/routines.array-manipulation.html#changing-kind-of-array\n",
    "import numpy as np\n",
    "a = [1, 2]\n",
    "np.asarray(a)"
   ]
  },
  {
   "cell_type": "code",
   "execution_count": 2,
   "outputs": [
    {
     "data": {
      "text/plain": "True"
     },
     "execution_count": 2,
     "metadata": {},
     "output_type": "execute_result"
    }
   ],
   "source": [
    "a = np.array([1, 2])\n",
    "np.asarray(a) is a"
   ],
   "metadata": {
    "collapsed": false,
    "pycharm": {
     "name": "#%%\n"
    }
   }
  },
  {
   "cell_type": "code",
   "execution_count": 3,
   "outputs": [
    {
     "data": {
      "text/plain": "(True, False)"
     },
     "execution_count": 3,
     "metadata": {},
     "output_type": "execute_result"
    }
   ],
   "source": [
    "a = np.array([1, 2], dtype=np.float32)\n",
    "np.asarray(a, dtype=np.float32) is a,\\\n",
    "np.asarray(a, dtype=np.float64) is a\n",
    "\n"
   ],
   "metadata": {
    "collapsed": false,
    "pycharm": {
     "name": "#%%\n"
    }
   }
  },
  {
   "cell_type": "code",
   "execution_count": 4,
   "outputs": [
    {
     "data": {
      "text/plain": "(True, False, True)"
     },
     "execution_count": 4,
     "metadata": {},
     "output_type": "execute_result"
    }
   ],
   "source": [
    "\n",
    "a = np.array([(1.0, 2), (3.0, 4)], dtype='f4,i4').view(np.recarray)\n",
    "issubclass(np.recarray, np.ndarray),\\\n",
    "np.asarray(a) is a,\\\n",
    "np.asanyarray(a) is a\n"
   ],
   "metadata": {
    "collapsed": false,
    "pycharm": {
     "name": "#%%\n"
    }
   }
  },
  {
   "cell_type": "code",
   "execution_count": 5,
   "outputs": [
    {
     "data": {
      "text/plain": "matrix([[5, 2],\n        [3, 4]])"
     },
     "execution_count": 5,
     "metadata": {},
     "output_type": "execute_result"
    }
   ],
   "source": [
    "x = np.array([[1, 2], [3, 4]])\n",
    "m = np.asmatrix(x)\n",
    "x[0,0] = 5\n",
    "m"
   ],
   "metadata": {
    "collapsed": false,
    "pycharm": {
     "name": "#%%\n"
    }
   }
  },
  {
   "cell_type": "code",
   "execution_count": 6,
   "outputs": [
    {
     "data": {
      "text/plain": "(array([2., 3.]), array([2., 3.]), array([2., 3.]))"
     },
     "execution_count": 6,
     "metadata": {},
     "output_type": "execute_result"
    }
   ],
   "source": [
    "# 返回转换为浮点类型的数组。\n",
    "np.asfarray([2, 3]),\\\n",
    "np.asfarray([2, 3], dtype='float'),\\\n",
    "np.asfarray([2, 3], dtype='int8')\n"
   ],
   "metadata": {
    "collapsed": false,
    "pycharm": {
     "name": "#%%\n"
    }
   }
  },
  {
   "cell_type": "code",
   "execution_count": 7,
   "outputs": [
    {
     "data": {
      "text/plain": "(False, True)"
     },
     "execution_count": 7,
     "metadata": {},
     "output_type": "execute_result"
    }
   ],
   "source": [
    "# 返回一个数组(ndim >= 1)在内存中以Fortran格式排列。\n",
    "x = np.arange(6).reshape(2,3)\n",
    "y = np.asfortranarray(x)\n",
    "x.flags['F_CONTIGUOUS'],\\\n",
    "y.flags['F_CONTIGUOUS']\n"
   ],
   "metadata": {
    "collapsed": false,
    "pycharm": {
     "name": "#%%\n"
    }
   }
  },
  {
   "cell_type": "code",
   "execution_count": 8,
   "outputs": [
    {
     "data": {
      "text/plain": "(array([[0., 1., 2.],\n        [3., 4., 5.]], dtype=float32),\n True)"
     },
     "execution_count": 8,
     "metadata": {},
     "output_type": "execute_result"
    }
   ],
   "source": [
    "# 返回内存中的连续数组(ndim >= 1) (C顺序)。\n",
    "x = np.arange(6).reshape(2,3)\n",
    "np.ascontiguousarray(x, dtype=np.float32),\\\n",
    "x.flags['C_CONTIGUOUS']\n"
   ],
   "metadata": {
    "collapsed": false,
    "pycharm": {
     "name": "#%%\n"
    }
   }
  },
  {
   "cell_type": "code",
   "execution_count": 9,
   "outputs": [
    {
     "name": "stdout",
     "output_type": "stream",
     "text": [
      "ValueError\n"
     ]
    },
    {
     "data": {
      "text/plain": "array([1., 2.])"
     },
     "execution_count": 9,
     "metadata": {},
     "output_type": "execute_result"
    }
   ],
   "source": [
    "# 将输入转换为数组，检查nan或Infs。\n",
    "a1 = [1, 2]\n",
    "a2 = [1, 2, np.inf]\n",
    "try:\n",
    "    np.asarray_chkfinite(a2)\n",
    "except ValueError:\n",
    "    print('ValueError')\n",
    "\n",
    "np.asarray_chkfinite(a1, dtype=float)"
   ],
   "metadata": {
    "collapsed": false,
    "pycharm": {
     "name": "#%%\n"
    }
   }
  },
  {
   "cell_type": "code",
   "execution_count": 10,
   "outputs": [
    {
     "name": "stderr",
     "output_type": "stream",
     "text": [
      "d:\\programdata\\miniconda3\\lib\\site-packages\\ipykernel_launcher.py:2: DeprecationWarning: np.asscalar(a) is deprecated since NumPy v1.16, use a.item() instead\n",
      "  \n"
     ]
    },
    {
     "data": {
      "text/plain": "24"
     },
     "execution_count": 10,
     "metadata": {},
     "output_type": "execute_result"
    }
   ],
   "source": [
    "# 将大小为1的数组转换为其等效标量。\n",
    "np.asscalar(np.array([24]))"
   ],
   "metadata": {
    "collapsed": false,
    "pycharm": {
     "name": "#%%\n"
    }
   }
  },
  {
   "cell_type": "code",
   "execution_count": 11,
   "outputs": [
    {
     "data": {
      "text/plain": "(  C_CONTIGUOUS : True\n   F_CONTIGUOUS : False\n   OWNDATA : False\n   WRITEABLE : True\n   ALIGNED : True\n   WRITEBACKIFCOPY : False\n   UPDATEIFCOPY : False,\n   C_CONTIGUOUS : False\n   F_CONTIGUOUS : True\n   OWNDATA : True\n   WRITEABLE : True\n   ALIGNED : True\n   WRITEBACKIFCOPY : False\n   UPDATEIFCOPY : False)"
     },
     "execution_count": 11,
     "metadata": {},
     "output_type": "execute_result"
    }
   ],
   "source": [
    "\"\"\"\n",
    "numpy.require(a, dtype=None, requirements=None)\n",
    "返回提供的类型满足要求的ndarray。\n",
    "确保返回具有正确标志的数组以传递给编译后的代码（也许通过ctypes）时，此函数很有用。\n",
    "\"\"\"\n",
    "x = np.arange(6).reshape(2,3)\n",
    "y = np.require(x, dtype=np.float32, requirements=['A', 'O', 'W', 'F'])\n",
    "\n",
    "x.flags,y.flags\n"
   ],
   "metadata": {
    "collapsed": false,
    "pycharm": {
     "name": "#%%\n"
    }
   }
  },
  {
   "cell_type": "code",
   "execution_count": 12,
   "outputs": [
    {
     "data": {
      "text/plain": "(array([[1, 2],\n        [3, 4],\n        [5, 6]]),\n array([[1, 2, 5],\n        [3, 4, 6]]),\n array([1, 2, 3, 4, 5, 6]))"
     },
     "execution_count": 12,
     "metadata": {},
     "output_type": "execute_result"
    }
   ],
   "source": [
    "# 沿着现有的轴连接数组序列。\n",
    "a = np.array([[1, 2], [3, 4]])\n",
    "b = np.array([[5, 6]])\n",
    "np.concatenate((a, b), axis=0),\\\n",
    "np.concatenate((a, b.T), axis=1),\\\n",
    "np.concatenate((a, b), axis=None)\n"
   ],
   "metadata": {
    "collapsed": false,
    "pycharm": {
     "name": "#%%\n"
    }
   }
  },
  {
   "cell_type": "code",
   "execution_count": 13,
   "outputs": [
    {
     "data": {
      "text/plain": "(array([[1, 2, 3],\n        [2, 3, 4]]),\n array([[1, 2],\n        [2, 3],\n        [3, 4]]))"
     },
     "execution_count": 13,
     "metadata": {},
     "output_type": "execute_result"
    }
   ],
   "source": [
    "# 沿新轴连接一系列数组。\n",
    "a = np.array([1, 2, 3])\n",
    "b = np.array([2, 3, 4])\n",
    "np.stack((a, b)),np.stack((a, b), axis=-1)\n"
   ],
   "metadata": {
    "collapsed": false,
    "pycharm": {
     "name": "#%%\n"
    }
   }
  },
  {
   "cell_type": "code",
   "execution_count": 14,
   "outputs": [
    {
     "data": {
      "text/plain": "array([[1, 2],\n       [2, 3],\n       [3, 4]])"
     },
     "execution_count": 14,
     "metadata": {},
     "output_type": "execute_result"
    }
   ],
   "source": [
    "\"\"\"\n",
    "堆栈1-D数组作为列到2-D数组。\n",
    "\n",
    "取一个1-D数组序列，并将它们作为列堆叠成一个2-D数组。\n",
    "二维数组按原样堆叠，就像hstack一样。首先将一维数组转换为二维列。\n",
    "\"\"\"\n",
    "a = np.array((1,2,3))\n",
    "b = np.array((2,3,4))\n",
    "np.column_stack((a,b))\n",
    "\n",
    "# https://numpy.org/doc/stable/reference/routines.array-manipulation.html#joining-arrays"
   ],
   "metadata": {
    "collapsed": false,
    "pycharm": {
     "name": "#%%\n"
    }
   }
  },
  {
   "cell_type": "code",
   "execution_count": 16,
   "outputs": [
    {
     "data": {
      "text/plain": "([array([0., 1., 2.]),\n  array([3., 4.]),\n  array([5.]),\n  array([6., 7.]),\n  array([], dtype=float64)],\n [array([0., 1., 2.]), array([3., 4., 5.]), array([6., 7., 8.])])"
     },
     "execution_count": 16,
     "metadata": {},
     "output_type": "execute_result"
    }
   ],
   "source": [
    "x1 = np.arange(9.0)\n",
    "x2 = np.arange(8.0)\n",
    "np.split(x2, [3, 5, 6, 10]),\\\n",
    "np.split(x1, 3)\n",
    "\n"
   ],
   "metadata": {
    "collapsed": false,
    "pycharm": {
     "name": "#%%\n"
    }
   }
  },
  {
   "cell_type": "code",
   "execution_count": 17,
   "outputs": [
    {
     "data": {
      "text/plain": "(array([0, 1, 2, 0, 1, 2]),\n array([[0, 1, 2, 0, 1, 2],\n        [0, 1, 2, 0, 1, 2]]),\n array([[[0, 1, 2, 0, 1, 2]],\n \n        [[0, 1, 2, 0, 1, 2]]]))"
     },
     "execution_count": 17,
     "metadata": {},
     "output_type": "execute_result"
    }
   ],
   "source": [
    "# numpy.tile(A, reps)通过重复A代表次数来构造一个数组。\n",
    "a = np.array([0, 1, 2])\n",
    "np.tile(a, 2),\\\n",
    "np.tile(a, (2, 2)),\\\n",
    "np.tile(a, (2, 1, 2))"
   ],
   "metadata": {
    "collapsed": false,
    "pycharm": {
     "name": "#%%\n"
    }
   }
  },
  {
   "cell_type": "code",
   "execution_count": 18,
   "outputs": [
    {
     "data": {
      "text/plain": "(array([3, 3, 3, 3]),\n array([1, 1, 2, 2, 3, 3, 4, 4]),\n array([[1, 1, 1, 2, 2, 2],\n        [3, 3, 3, 4, 4, 4]]),\n array([[1, 2],\n        [3, 4],\n        [3, 4]]))"
     },
     "execution_count": 18,
     "metadata": {},
     "output_type": "execute_result"
    }
   ],
   "source": [
    "x = np.array([[1,2],[3,4]])\n",
    "np.repeat(3, 4),\\\n",
    "np.repeat(x, 2),\\\n",
    "np.repeat(x, 3, axis=1),\\\n",
    "np.repeat(x, [1, 2], axis=0)\n"
   ],
   "metadata": {
    "collapsed": false,
    "pycharm": {
     "name": "#%%\n"
    }
   }
  },
  {
   "cell_type": "code",
   "execution_count": 19,
   "outputs": [
    {
     "data": {
      "text/plain": "(array([[ 1,  2,  3,  4],\n        [ 5,  6,  7,  8],\n        [ 9, 10, 11, 12]]),\n array([[ 1,  2,  3,  4],\n        [ 9, 10, 11, 12]]))"
     },
     "execution_count": 19,
     "metadata": {},
     "output_type": "execute_result"
    }
   ],
   "source": [
    "arr = np.array([[1,2,3,4], [5,6,7,8], [9,10,11,12]])\n",
    "arr,np.delete(arr, 1, 0)\n"
   ],
   "metadata": {
    "collapsed": false,
    "pycharm": {
     "name": "#%%\n"
    }
   }
  },
  {
   "cell_type": "code",
   "execution_count": 20,
   "outputs": [
    {
     "data": {
      "text/plain": "array([1, 2, 3, 0, 2, 1])"
     },
     "execution_count": 20,
     "metadata": {},
     "output_type": "execute_result"
    }
   ],
   "source": [
    "a = np.array((0, 0, 0, 1, 2, 3, 0, 2, 1, 0))\n",
    "np.trim_zeros(a)\n",
    "\n"
   ],
   "metadata": {
    "collapsed": false,
    "pycharm": {
     "name": "#%%\n"
    }
   }
  },
  {
   "cell_type": "code",
   "execution_count": 21,
   "outputs": [
    {
     "data": {
      "text/plain": "(array([1, 2, 3]), array([1, 2, 3]))"
     },
     "execution_count": 21,
     "metadata": {},
     "output_type": "execute_result"
    }
   ],
   "source": [
    "a = np.array([[1, 1], [2, 3]])\n",
    "np.unique([1, 1, 2, 2, 3, 3]),np.unique(a)\n"
   ],
   "metadata": {
    "collapsed": false,
    "pycharm": {
     "name": "#%%\n"
    }
   }
  },
  {
   "cell_type": "code",
   "execution_count": 22,
   "outputs": [
    {
     "data": {
      "text/plain": "(array([[[0, 1],\n         [2, 3]],\n \n        [[4, 5],\n         [6, 7]]]),\n array([[[4, 5],\n         [6, 7]],\n \n        [[0, 1],\n         [2, 3]]]),\n array([[[2, 3],\n         [0, 1]],\n \n        [[6, 7],\n         [4, 5]]]),\n array([[[7, 6],\n         [5, 4]],\n \n        [[3, 2],\n         [1, 0]]]),\n array([[[5, 4],\n         [7, 6]],\n \n        [[1, 0],\n         [3, 2]]]))"
     },
     "execution_count": 22,
     "metadata": {},
     "output_type": "execute_result"
    }
   ],
   "source": [
    "# 沿着给定的轴颠倒数组中元素的顺序。数组的形状被保留，但是元素被重新排序。\n",
    "A = np.arange(8).reshape((2,2,2))\n",
    "A,\\\n",
    "np.flip(A, 0),\\\n",
    "np.flip(A, 1),\\\n",
    "np.flip(A),\\\n",
    "np.flip(A, (0, 2))\n"
   ],
   "metadata": {
    "collapsed": false,
    "pycharm": {
     "name": "#%%\n"
    }
   }
  }
 ],
 "metadata": {
  "kernelspec": {
   "display_name": "Python 3",
   "language": "python",
   "name": "python3"
  },
  "language_info": {
   "codemirror_mode": {
    "name": "ipython",
    "version": 2
   },
   "file_extension": ".py",
   "mimetype": "text/x-python",
   "name": "python",
   "nbconvert_exporter": "python",
   "pygments_lexer": "ipython2",
   "version": "2.7.6"
  }
 },
 "nbformat": 4,
 "nbformat_minor": 0
}