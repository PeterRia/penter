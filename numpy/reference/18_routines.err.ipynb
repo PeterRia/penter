{
 "cells": [
  {
   "cell_type": "markdown",
   "metadata": {
    "collapsed": true,
    "pycharm": {
     "name": "#%% md\n"
    }
   },
   "source": [
    "# 浮点错误处理\n",
    "https://numpy.org/doc/stable/reference/routines.err.html\n"
   ]
  },
  {
   "cell_type": "code",
   "execution_count": 1,
   "outputs": [
    {
     "data": {
      "text/plain": "({'divide': 'ignore',\n  'over': 'ignore',\n  'under': 'ignore',\n  'invalid': 'ignore'},\n {'divide': 'ignore', 'over': 'raise', 'under': 'ignore', 'invalid': 'ignore'})"
     },
     "execution_count": 1,
     "metadata": {},
     "output_type": "execute_result"
    }
   ],
   "source": [
    "# 设置浮点错误的处理方式。\n",
    "import numpy as np\n",
    "old_settings = np.seterr(all='ignore')  #seterr to known value\n",
    "np.seterr(over='raise'),\\\n",
    "np.seterr(**old_settings)  # reset to default"
   ],
   "metadata": {
    "collapsed": false,
    "pycharm": {
     "name": "#%%\n"
    }
   }
  },
  {
   "cell_type": "code",
   "execution_count": 2,
   "outputs": [
    {
     "name": "stdout",
     "output_type": "stream",
     "text": [
      "30464\n"
     ]
    },
    {
     "name": "stderr",
     "output_type": "stream",
     "text": [
      "d:\\programdata\\miniconda3\\lib\\site-packages\\ipykernel_launcher.py:1: RuntimeWarning: overflow encountered in short_scalars\n",
      "  \"\"\"Entry point for launching an IPython kernel.\n"
     ]
    },
    {
     "ename": "FloatingPointError",
     "evalue": "overflow encountered in short_scalars",
     "output_type": "error",
     "traceback": [
      "\u001B[1;31m---------------------------------------------------------------------------\u001B[0m",
      "\u001B[1;31mFloatingPointError\u001B[0m                        Traceback (most recent call last)",
      "\u001B[1;32m<ipython-input-2-81046db4b7cf>\u001B[0m in \u001B[0;36m<module>\u001B[1;34m\u001B[0m\n\u001B[0;32m      2\u001B[0m \u001B[1;33m\u001B[0m\u001B[0m\n\u001B[0;32m      3\u001B[0m \u001B[0mold_settings\u001B[0m \u001B[1;33m=\u001B[0m \u001B[0mnp\u001B[0m\u001B[1;33m.\u001B[0m\u001B[0mseterr\u001B[0m\u001B[1;33m(\u001B[0m\u001B[0mall\u001B[0m\u001B[1;33m=\u001B[0m\u001B[1;34m'warn'\u001B[0m\u001B[1;33m,\u001B[0m \u001B[0mover\u001B[0m\u001B[1;33m=\u001B[0m\u001B[1;34m'raise'\u001B[0m\u001B[1;33m)\u001B[0m\u001B[1;33m\u001B[0m\u001B[1;33m\u001B[0m\u001B[0m\n\u001B[1;32m----> 4\u001B[1;33m \u001B[0mnp\u001B[0m\u001B[1;33m.\u001B[0m\u001B[0mint16\u001B[0m\u001B[1;33m(\u001B[0m\u001B[1;36m32000\u001B[0m\u001B[1;33m)\u001B[0m \u001B[1;33m*\u001B[0m \u001B[0mnp\u001B[0m\u001B[1;33m.\u001B[0m\u001B[0mint16\u001B[0m\u001B[1;33m(\u001B[0m\u001B[1;36m3\u001B[0m\u001B[1;33m)\u001B[0m\u001B[1;33m\u001B[0m\u001B[1;33m\u001B[0m\u001B[0m\n\u001B[0m\u001B[0;32m      5\u001B[0m \u001B[1;33m\u001B[0m\u001B[0m\n\u001B[0;32m      6\u001B[0m \u001B[1;33m\u001B[0m\u001B[0m\n",
      "\u001B[1;31mFloatingPointError\u001B[0m: overflow encountered in short_scalars"
     ]
    }
   ],
   "source": [
    "print(np.int16(32000) * np.int16(3))\n",
    "\n",
    "old_settings = np.seterr(all='warn', over='raise')\n",
    "np.int16(32000) * np.int16(3)\n",
    "\n"
   ],
   "metadata": {
    "collapsed": false,
    "pycharm": {
     "name": "#%%\n"
    }
   }
  },
  {
   "cell_type": "code",
   "execution_count": 3,
   "outputs": [
    {
     "name": "stderr",
     "output_type": "stream",
     "text": [
      "d:\\programdata\\miniconda3\\lib\\site-packages\\ipykernel_launcher.py:3: RuntimeWarning: invalid value encountered in true_divide\n",
      "  This is separate from the ipykernel package so we can avoid doing imports until\n"
     ]
    },
    {
     "data": {
      "text/plain": "([('divide', 'warn'),\n  ('invalid', 'warn'),\n  ('over', 'raise'),\n  ('under', 'warn')],\n array([nan,  1.,  1.]))"
     },
     "execution_count": 3,
     "metadata": {},
     "output_type": "execute_result"
    }
   ],
   "source": [
    "from collections import OrderedDict\n",
    "sorted(np.geterr().items()),\\\n",
    "np.arange(3.) / np.arange(3.)"
   ],
   "metadata": {
    "collapsed": false,
    "pycharm": {
     "name": "#%%\n"
    }
   }
  },
  {
   "cell_type": "code",
   "execution_count": 4,
   "outputs": [
    {
     "name": "stderr",
     "output_type": "stream",
     "text": [
      "d:\\programdata\\miniconda3\\lib\\site-packages\\ipykernel_launcher.py:3: RuntimeWarning: invalid value encountered in true_divide\n",
      "  This is separate from the ipykernel package so we can avoid doing imports until\n"
     ]
    },
    {
     "data": {
      "text/plain": "(OrderedDict([('divide', 'warn'),\n              ('invalid', 'warn'),\n              ('over', 'raise'),\n              ('under', 'warn')]),\n array([nan,  1.,  1.]))"
     },
     "execution_count": 4,
     "metadata": {},
     "output_type": "execute_result"
    }
   ],
   "source": [
    "oldsettings = np.seterr(all='warn', over='raise')\n",
    "OrderedDict(sorted(np.geterr().items())),\\\n",
    "np.arange(3.) / np.arange(3.)\n",
    "\n"
   ],
   "metadata": {
    "collapsed": false,
    "pycharm": {
     "name": "#%%\n"
    }
   }
  },
  {
   "cell_type": "code",
   "execution_count": 5,
   "outputs": [
    {
     "name": "stdout",
     "output_type": "stream",
     "text": [
      "Floating point error (divide by zero), with flag 1\n"
     ]
    },
    {
     "data": {
      "text/plain": "array([inf, inf, inf])"
     },
     "execution_count": 5,
     "metadata": {},
     "output_type": "execute_result"
    }
   ],
   "source": [
    "def err_handler(type, flag):\n",
    "    print(\"Floating point error (%s), with flag %s\" % (type, flag))\n",
    "\n",
    "saved_handler = np.seterrcall(err_handler)\n",
    "save_err = np.seterr(all='call')\n",
    "from collections import OrderedDict\n",
    "np.array([1, 2, 3]) / 0.0\n"
   ],
   "metadata": {
    "collapsed": false,
    "pycharm": {
     "name": "#%%\n"
    }
   }
  },
  {
   "cell_type": "code",
   "execution_count": 7,
   "outputs": [
    {
     "name": "stdout",
     "output_type": "stream",
     "text": [
      "[nan inf inf]\n",
      "[nan inf inf]\n"
     ]
    },
    {
     "name": "stderr",
     "output_type": "stream",
     "text": [
      "d:\\programdata\\miniconda3\\lib\\site-packages\\ipykernel_launcher.py:7: RuntimeWarning: divide by zero encountered in true_divide\n",
      "  import sys\n"
     ]
    }
   ],
   "source": [
    "from collections import OrderedDict\n",
    "olderr = np.seterr(all='ignore')  # Set error handling to known state.\n",
    "\n",
    "print(np.arange(3) / 0.)\n",
    "\n",
    "with np.errstate(divide='warn'):\n",
    "    print(np.arange(3) / 0.)"
   ],
   "metadata": {
    "collapsed": false,
    "pycharm": {
     "name": "#%%\n"
    }
   }
  },
  {
   "cell_type": "code",
   "execution_count": 8,
   "outputs": [
    {
     "data": {
      "text/plain": "[8192, 0, <function __main__.err_handler(type, flag)>]"
     },
     "execution_count": 8,
     "metadata": {},
     "output_type": "execute_result"
    }
   ],
   "source": [
    "old_errobj = np.geterrobj()  # first get the defaults\n",
    "old_errobj\n",
    "\n"
   ],
   "metadata": {
    "collapsed": false,
    "pycharm": {
     "name": "#%%\n"
    }
   }
  },
  {
   "cell_type": "code",
   "execution_count": 9,
   "outputs": [
    {
     "data": {
      "text/plain": "('14',\n {'divide': 'print', 'over': 'warn', 'under': 'ignore', 'invalid': 'ignore'},\n True)"
     },
     "execution_count": 9,
     "metadata": {},
     "output_type": "execute_result"
    }
   ],
   "source": [
    "def err_handler(type, flag):\n",
    "    print(\"Floating point error (%s), with flag %s\" % (type, flag))\n",
    "\n",
    "new_errobj = [20000, 12, err_handler]\n",
    "np.seterrobj(new_errobj)\n",
    "np.base_repr(12, 8),\\\n",
    "np.geterr(),\\\n",
    "np.geterrcall() is err_handler\n",
    "\n"
   ],
   "metadata": {
    "collapsed": false,
    "pycharm": {
     "name": "#%%\n"
    }
   }
  }
 ],
 "metadata": {
  "kernelspec": {
   "display_name": "Python 3",
   "language": "python",
   "name": "python3"
  },
  "language_info": {
   "codemirror_mode": {
    "name": "ipython",
    "version": 2
   },
   "file_extension": ".py",
   "mimetype": "text/x-python",
   "name": "python",
   "nbconvert_exporter": "python",
   "pygments_lexer": "ipython2",
   "version": "2.7.6"
  }
 },
 "nbformat": 4,
 "nbformat_minor": 0
}