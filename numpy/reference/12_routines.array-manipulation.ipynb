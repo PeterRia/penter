{
 "cells": [
  {
   "cell_type": "markdown",
   "metadata": {
    "collapsed": true,
    "pycharm": {
     "name": "#%% md\n"
    }
   },
   "source": [
    "# 数组常规操作\n",
    "https://numpy.org/doc/stable/reference/routines.html\n",
    "https://numpy.org/doc/stable/reference/routines.array-manipulation.html\n",
    "\n",
    "\n"
   ]
  },
  {
   "cell_type": "code",
   "execution_count": 2,
   "outputs": [
    {
     "data": {
      "text/plain": "array([1, 2, 2])"
     },
     "execution_count": 2,
     "metadata": {},
     "output_type": "execute_result"
    }
   ],
   "source": [
    "import numpy as np\n",
    "# numpy.copyto(dst, src, casting='same_kind', where=True)\n",
    "\n",
    "src = np.array([1,2,2])\n",
    "dst = np.empty_like([1,2,3])\n",
    "np.copyto(dst,src)\n",
    "dst"
   ],
   "metadata": {
    "collapsed": false,
    "pycharm": {
     "name": "#%%\n"
    }
   }
  },
  {
   "cell_type": "code",
   "execution_count": 3,
   "outputs": [
    {
     "data": {
      "text/plain": "((3, 3), (1, 2), (1,), ())"
     },
     "execution_count": 3,
     "metadata": {},
     "output_type": "execute_result"
    }
   ],
   "source": [
    "np.shape(np.eye(3)),\\\n",
    "np.shape([[1, 2]]),\\\n",
    "np.shape([0]),\\\n",
    "np.shape(0)\n",
    "\n"
   ],
   "metadata": {
    "collapsed": false,
    "pycharm": {
     "name": "#%%\n"
    }
   }
  },
  {
   "cell_type": "code",
   "execution_count": null,
   "outputs": [],
   "source": [
    "a = np.arange(6).reshape((3, 2))\n",
    "\n"
   ],
   "metadata": {
    "collapsed": false,
    "pycharm": {
     "name": "#%%\n"
    }
   }
  },
  {
   "cell_type": "code",
   "execution_count": 4,
   "outputs": [
    {
     "data": {
      "text/plain": "(array([1, 2, 3, 4, 5, 6]),\n array([1, 2, 3, 4, 5, 6]),\n array([1, 4, 2, 5, 3, 6]),\n array([1, 4, 2, 5, 3, 6]),\n array([1, 2, 3, 4, 5, 6]))"
     },
     "execution_count": 4,
     "metadata": {},
     "output_type": "execute_result"
    }
   ],
   "source": [
    "\"\"\"\n",
    "numpy.ravel(a, order='C')\n",
    "返回一个连续的扁平数组。\n",
    "返回包含输入元素的一维数组。 仅在需要时才进行复制。\n",
    "从NumPy 1.10开始，返回的数组将具有与输入数组相同的类型。 （例如，将为掩码数组输入返回一个掩码数组）\n",
    "\n",
    "numpy.flatten()返回一份拷贝，对拷贝所做的修改不会影响（reflects）原始矩阵，\n",
    "而numpy.ravel()返回的是视图（view，也颇有几分C/C++引用reference的意味），会影响（reflects）原始矩阵。\n",
    "See also\n",
    "ndarray.flat\n",
    "1-D iterator over an array.\n",
    "\n",
    "ndarray.flatten\n",
    "1-D array copy of the elements of an array in row-major order.\n",
    "\n",
    "ndarray.reshape\n",
    "Change the shape of an array without changing its data.\n",
    "\"\"\"\n",
    "\n",
    "x = np.array([[1, 2, 3], [4, 5, 6]])\n",
    "np.ravel(x),\\\n",
    "x.reshape(-1),\\\n",
    "np.ravel(x, order='F'),\\\n",
    "np.ravel(x.T),\\\n",
    "np.ravel(x.T, order='A')\n",
    "\n"
   ],
   "metadata": {
    "collapsed": false,
    "pycharm": {
     "name": "#%%\n"
    }
   }
  },
  {
   "cell_type": "code",
   "execution_count": 8,
   "outputs": [
    {
     "data": {
      "text/plain": "((4, 5, 3), (5, 3, 4), (5, 4, 3), (5, 4, 3), (5, 4, 3), (5, 4, 3))"
     },
     "execution_count": 8,
     "metadata": {},
     "output_type": "execute_result"
    }
   ],
   "source": [
    "\"\"\"\n",
    "numpy.moveaxis(a, source, destination)\n",
    "\n",
    "See also\n",
    "transpose\n",
    "Permute the dimensions of an array.\n",
    "swapaxes 交换维度\n",
    "Interchange two axes of an array.\n",
    "\"\"\"\n",
    "x = np.zeros((3, 4, 5))\n",
    "np.moveaxis(x, 0, -1).shape,\\\n",
    "np.moveaxis(x, -1, 0).shape,\\\n",
    "np.transpose(x).shape,\\\n",
    "np.swapaxes(x, 0, -1).shape,\\\n",
    "np.moveaxis(x, [0, 1], [-1, -2]).shape,\\\n",
    "np.moveaxis(x, [0, 1, 2], [-1, -2, -3]).shape\n",
    "\n",
    "# np.moveaxis(x, 0, -1)   将第一个轴移动到最后一个位置。\n",
    "# np.rollaxis(first_stacked, 0, first_stacked.ndim) 你可以把轴滚到想要的位置。"
   ],
   "metadata": {
    "collapsed": false,
    "pycharm": {
     "name": "#%%\n"
    }
   }
  },
  {
   "cell_type": "code",
   "execution_count": 9,
   "outputs": [
    {
     "data": {
      "text/plain": "((3, 6, 4, 5), (5, 3, 4, 6), (3, 5, 6, 4))"
     },
     "execution_count": 9,
     "metadata": {},
     "output_type": "execute_result"
    }
   ],
   "source": [
    "\"\"\"\n",
    "numpy.rollaxis(a, axis, start=0)\n",
    "向后滚动指定的轴，直到其位于给定的位置。\n",
    "\n",
    "See also\n",
    "moveaxis\n",
    "Move array axes to new positions.\n",
    "roll\n",
    "Roll the elements of an array by a number of positions along a given axis.\n",
    "\"\"\"\n",
    "a = np.ones((3,4,5,6))\n",
    "np.rollaxis(a, 3, 1).shape,\\\n",
    "np.rollaxis(a, 2).shape,\\\n",
    "np.rollaxis(a, 1, 4).shape"
   ],
   "metadata": {
    "collapsed": false,
    "pycharm": {
     "name": "#%%\n"
    }
   }
  },
  {
   "cell_type": "code",
   "execution_count": 10,
   "outputs": [
    {
     "data": {
      "text/plain": "(array([8, 9, 0, 1, 2, 3, 4, 5, 6, 7]), array([2, 3, 4, 5, 6, 7, 8, 9, 0, 1]))"
     },
     "execution_count": 10,
     "metadata": {},
     "output_type": "execute_result"
    }
   ],
   "source": [
    "\"\"\"\n",
    "numpy.roll(a, shift, axis=None)\n",
    "沿给定轴的滚动阵列单元。超过最后一个位置的元素将在第一个位置重新引入。\n",
    "\"\"\"\n",
    "x = np.arange(10)\n",
    "x,np.roll(x, 2),np.roll(x, -2)\n"
   ],
   "metadata": {
    "collapsed": false,
    "pycharm": {
     "name": "#%%\n"
    }
   }
  },
  {
   "cell_type": "code",
   "execution_count": 11,
   "outputs": [
    {
     "data": {
      "text/plain": "(array([[0, 1, 2, 3, 4],\n        [5, 6, 7, 8, 9]]),\n array([[9, 0, 1, 2, 3],\n        [4, 5, 6, 7, 8]]),\n array([[1, 2, 3, 4, 5],\n        [6, 7, 8, 9, 0]]),\n array([[5, 6, 7, 8, 9],\n        [0, 1, 2, 3, 4]]),\n array([[5, 6, 7, 8, 9],\n        [0, 1, 2, 3, 4]]),\n array([[4, 0, 1, 2, 3],\n        [9, 5, 6, 7, 8]]),\n array([[1, 2, 3, 4, 0],\n        [6, 7, 8, 9, 5]]))"
     },
     "execution_count": 11,
     "metadata": {},
     "output_type": "execute_result"
    }
   ],
   "source": [
    "x2 = np.reshape(x, (2,5))\n",
    "x2,\\\n",
    "np.roll(x2, 1),\\\n",
    "np.roll(x2, -1),\\\n",
    "np.roll(x2, 1, axis=0),\\\n",
    "np.roll(x2, -1, axis=0),\\\n",
    "np.roll(x2, 1, axis=1),\\\n",
    "np.roll(x2, -1, axis=1)\n",
    "\n"
   ],
   "metadata": {
    "collapsed": false,
    "pycharm": {
     "name": "#%%\n"
    }
   }
  },
  {
   "cell_type": "code",
   "execution_count": 12,
   "outputs": [
    {
     "data": {
      "text/plain": "(array([[1],\n        [2],\n        [3]]),\n array([[[0, 1],\n         [2, 3]],\n \n        [[4, 5],\n         [6, 7]]]),\n array([[[0, 4],\n         [2, 6]],\n \n        [[1, 5],\n         [3, 7]]]))"
     },
     "execution_count": 12,
     "metadata": {},
     "output_type": "execute_result"
    }
   ],
   "source": [
    "\"\"\"\n",
    "numpy.swapaxes(a, axis1, axis2)\n",
    "\"\"\"\n",
    "x = np.array([[1,2,3]])\n",
    "x2 = np.array([[[0,1],[2,3]],[[4,5],[6,7]]])\n",
    "\n",
    "np.swapaxes(x,0,1),x2,np.swapaxes(x2,0,2)\n"
   ],
   "metadata": {
    "collapsed": false,
    "pycharm": {
     "name": "#%%\n"
    }
   }
  },
  {
   "cell_type": "code",
   "execution_count": 13,
   "outputs": [
    {
     "data": {
      "text/plain": "(array([[1., 2.],\n        [3., 4.]]),\n array([[1., 3.],\n        [2., 4.]]))"
     },
     "execution_count": 13,
     "metadata": {},
     "output_type": "execute_result"
    }
   ],
   "source": [
    "\"\"\"\n",
    "numpy.transpose(a, axes=None)\n",
    "\"\"\"\n",
    "x = np.array([[1.,2.],[3.,4.]])\n",
    "x,x.T"
   ],
   "metadata": {
    "collapsed": false,
    "pycharm": {
     "name": "#%%\n"
    }
   }
  },
  {
   "cell_type": "code",
   "execution_count": 14,
   "outputs": [
    {
     "data": {
      "text/plain": "(array([[0, 1],\n        [2, 3]]),\n array([[0, 2],\n        [1, 3]]))"
     },
     "execution_count": 14,
     "metadata": {},
     "output_type": "execute_result"
    }
   ],
   "source": [
    "x = np.arange(4).reshape((2,2))\n",
    "x,np.transpose(x)\n"
   ],
   "metadata": {
    "collapsed": false,
    "pycharm": {
     "name": "#%%\n"
    }
   }
  },
  {
   "cell_type": "code",
   "execution_count": 16,
   "outputs": [
    {
     "data": {
      "text/plain": "(array([[[1., 1., 1.],\n         [1., 1., 1.]]]),\n (1, 2, 3),\n (2, 1, 3))"
     },
     "execution_count": 16,
     "metadata": {},
     "output_type": "execute_result"
    }
   ],
   "source": [
    "x = np.ones((1, 2, 3))\n",
    "x,x.shape,np.transpose(x, (1, 0, 2)).shape\n"
   ],
   "metadata": {
    "collapsed": false,
    "pycharm": {
     "name": "#%%\n"
    }
   }
  },
  {
   "cell_type": "code",
   "execution_count": 17,
   "outputs": [
    {
     "data": {
      "text/plain": "(array([1.]),\n array([[0., 1., 2.],\n        [3., 4., 5.],\n        [6., 7., 8.]]),\n True,\n [array([1]), array([3, 4])])"
     },
     "execution_count": 17,
     "metadata": {},
     "output_type": "execute_result"
    }
   ],
   "source": [
    "\"\"\"\n",
    "numpy.atleast_1d(*arys)\n",
    "将输入转换为至少一维的数组。标量输入被转换为一维数组，而高维输入被保留。\n",
    "\"\"\"\n",
    "\n",
    "x = np.arange(9.0).reshape(3,3)\n",
    "\n",
    "np.atleast_1d(1.0),\\\n",
    "np.atleast_1d(x),\\\n",
    "np.atleast_1d(x) is x,\\\n",
    "np.atleast_1d(1, [3, 4])\n"
   ],
   "metadata": {
    "collapsed": false,
    "pycharm": {
     "name": "#%%\n"
    }
   }
  },
  {
   "cell_type": "code",
   "execution_count": 18,
   "outputs": [
    {
     "data": {
      "text/plain": "(array([[3.]]),\n array([[0., 1., 2.]]),\n True,\n [array([[1]]), array([[1, 2]]), array([[1, 2]])])"
     },
     "execution_count": 18,
     "metadata": {},
     "output_type": "execute_result"
    }
   ],
   "source": [
    "\"\"\"\n",
    "numpy.atleast_2d(*arys)\n",
    "将输入视为至少具有两个维度的数组。\n",
    "\n",
    "numpy.atleast_3d(*arys)\n",
    "将输入视为至少具有三个维度的数组。\n",
    "\"\"\"\n",
    "x = np.arange(3.0)\n",
    "\n",
    "np.atleast_2d(3.0),\\\n",
    "np.atleast_2d(x),\\\n",
    "np.atleast_2d(x).base is x,\\\n",
    "np.atleast_2d(1, [1, 2], [[1, 2]])"
   ],
   "metadata": {
    "collapsed": false,
    "pycharm": {
     "name": "#%%\n"
    }
   }
  },
  {
   "cell_type": "code",
   "execution_count": 20,
   "outputs": [
    {
     "data": {
      "text/plain": "(<numpy.broadcast at 0x25b28d87070>,\n 0,\n (3, 3),\n 9,\n 2,\n 2,\n 2,\n (<numpy.flatiter at 0x25b29049a00>, <numpy.flatiter at 0x25b291112c0>))"
     },
     "execution_count": 20,
     "metadata": {},
     "output_type": "execute_result"
    }
   ],
   "source": [
    "\"\"\"\n",
    "class numpy.broadcast\n",
    "制作一个模拟广播的物体。\n",
    "\"\"\"\n",
    "x = np.array([[1], [2], [3]])\n",
    "y = np.array([4, 5, 6])\n",
    "b = np.broadcast(x, y)\n",
    "b,b.index,b.shape,b.size,b.nd,b.ndim,b.numiter,b.iters"
   ],
   "metadata": {
    "collapsed": false,
    "pycharm": {
     "name": "#%%\n"
    }
   }
  },
  {
   "cell_type": "code",
   "execution_count": 21,
   "outputs": [
    {
     "data": {
      "text/plain": "(array([[5., 6., 7.],\n        [6., 7., 8.],\n        [7., 8., 9.]]),\n array([[5, 6, 7],\n        [6, 7, 8],\n        [7, 8, 9]]))"
     },
     "execution_count": 21,
     "metadata": {},
     "output_type": "execute_result"
    }
   ],
   "source": [
    "out = np.empty(b.shape)\n",
    "out.flat = [u+v for (u,v) in b]\n",
    "out,x + y"
   ],
   "metadata": {
    "collapsed": false,
    "pycharm": {
     "name": "#%%\n"
    }
   }
  },
  {
   "cell_type": "code",
   "execution_count": 22,
   "outputs": [
    {
     "data": {
      "text/plain": "array([[1, 2, 3],\n       [1, 2, 3],\n       [1, 2, 3]])"
     },
     "execution_count": 22,
     "metadata": {},
     "output_type": "execute_result"
    }
   ],
   "source": [
    "\"\"\"\n",
    "numpy.broadcast_to(array, shape, subok=False)\n",
    "\"\"\"\n",
    "x = np.array([1, 2, 3])\n",
    "np.broadcast_to(x, (3, 3))\n"
   ],
   "metadata": {
    "collapsed": false,
    "pycharm": {
     "name": "#%%\n"
    }
   }
  },
  {
   "cell_type": "code",
   "execution_count": 23,
   "outputs": [
    {
     "data": {
      "text/plain": "[array([[1, 2, 3],\n        [1, 2, 3]]),\n array([[4, 4, 4],\n        [5, 5, 5]])]"
     },
     "execution_count": 23,
     "metadata": {},
     "output_type": "execute_result"
    }
   ],
   "source": [
    "\"\"\"\n",
    "numpy.broadcast_arrays(*args, **kwargs)\n",
    "互相广播任意数量的数组。\n",
    "\"\"\"\n",
    "x = np.array([[1,2,3]])\n",
    "y = np.array([[4],[5]])\n",
    "np.broadcast_arrays(x, y)\n"
   ],
   "metadata": {
    "collapsed": false,
    "pycharm": {
     "name": "#%%\n"
    }
   }
  },
  {
   "cell_type": "code",
   "execution_count": 27,
   "outputs": [
    {
     "data": {
      "text/plain": "(array([1, 2]),\n array([[1, 2]]),\n array([[1],\n        [2]]),\n array([[[1, 2]]]),\n array([[[1],\n         [2]]]),\n (2,),\n (1, 2),\n (2, 1),\n (1, 1, 2),\n (1, 2, 1))"
     },
     "execution_count": 27,
     "metadata": {},
     "output_type": "execute_result"
    }
   ],
   "source": [
    "a = np.array([1, 2, 3])\n",
    "print(a.shape)\n",
    "\"\"\"\n",
    "（1）当axis = 0 时，我们从最高维扩展数组（增加它的维度），就给它在最外面再添个括号就可以啦。所以，\n",
    "b = np.expand_dims(a, axis=0)\n",
    "b = [[1, 2, 3]]\n",
    "b.shape = (1, 3)\n",
    "shape（1，3）表示从左至右（从高维到低维：axis = 0 , 1）所包含内容的情况，axis = 0（最外面的括号）只包含一个内容：[1, 2, 3]; axis = 1（第二个括号）里包含三个内容：1,  2，3。\n",
    "\n",
    "（2）当axis = 1 时， 只有第0维有括号，所以当axis = 1就是给里面的数加括号啦\n",
    "\n",
    "c = np.expand_dims(a, axis=1)\n",
    "c = [[1], [2], [3]]\n",
    "c.shape = (3, 1)\n",
    "\n",
    "（3）当axis = 2时，我们可以发现，我们没有地方加括号，所以它还是和axis=1的情况一样。并且程序会提示：（以后会报错）\n",
    "\n",
    "\n",
    "2.我们再来看二维数组, axis = 0, 1, 2的情况\n",
    "\n",
    "import numpy as np\n",
    "a = np.array([[1, 2, 3], [4, 5, 6]])\n",
    "print(a.shape)\n",
    "# a.shape(2, 3)\n",
    "\n",
    "那么，\n",
    "（1）当axis = 0 时，我们从最高维扩展数组（增加它的维度），就给它在最外面再添个括号就可以啦。\n",
    "所以，\n",
    "b = np.expand_dims(a, axis=0)\n",
    "b = [[[1, 2, 3], [4, 5, 6]]]\n",
    "b.shape = (1, 2, 3)\n",
    "\n",
    "shape（1, 2, 3）表示从左至右（从高维到低维：axis = 0 , 1,  2）所包含内容的情况，axis = 0（最外面的括号）只包含1个内容：[[1, 2, 3], [4, 5, 6]];\n",
    "axis = 1（第二个括号）里包含2个内容：[1, 2, 3], [4, 5, 6]。axis = 3（第三个括号）里包含3个内容：1， 2， 3；或4，5， 6\n",
    "（2）当axis = 1 时，就是给第二个括号再加一个括号啦\n",
    "c = np.expand_dims(a, axis=1)\n",
    "c = [[[1, 2, 3]], [[4, 5, 6]]]\n",
    "c.shape = (2, 1, 3)\n",
    "\n",
    "（3）当axis = 2 时，就是给最里面的数加一个括号。\n",
    "d = np.expand_dims(a, axis=2)\n",
    "d = [[[1], [2], [3]], [[4], [5], [6]]]\n",
    "d.shape = (2, 3, 1)\n",
    "\"\"\"\n",
    "\n",
    "\n",
    "x = np.array([1, 2])\n",
    "y = np.expand_dims(x, axis=0)\n",
    "x,y,\\\n",
    "np.expand_dims(x, axis=1),\\\n",
    "np.expand_dims(x, axis=(0, 1)),\\\n",
    "np.expand_dims(x, axis=(2, 0)),\\\n",
    "    x.shape,y.shape,\\\n",
    "np.expand_dims(x, axis=1).shape,\\\n",
    "np.expand_dims(x, axis=(0, 1)).shape,\\\n",
    "np.expand_dims(x, axis=(2, 0)).shape"
   ],
   "metadata": {
    "collapsed": false,
    "pycharm": {
     "name": "#%%\n"
    }
   }
  },
  {
   "cell_type": "code",
   "execution_count": 29,
   "outputs": [
    {
     "data": {
      "text/plain": "(array([1, 2]), array([1, 2]))"
     },
     "execution_count": 29,
     "metadata": {},
     "output_type": "execute_result"
    }
   ],
   "source": [
    "# squeeze挤压 从数组的形状中删除一维项。\n",
    "# np.expand_dims  np.squeeze, 这两个函数互为逆操作\n",
    "y.squeeze(axis=0),\\\n",
    "np.expand_dims(x, axis=1).squeeze(axis=1)\n",
    "\n"
   ],
   "metadata": {
    "collapsed": false,
    "pycharm": {
     "name": "#%%\n"
    }
   }
  },
  {
   "cell_type": "code",
   "execution_count": 31,
   "outputs": [
    {
     "data": {
      "text/plain": "(array([0, 1, 2]),\n array([[0],\n        [1],\n        [2]]),\n array([[0, 1, 2]]))"
     },
     "execution_count": 31,
     "metadata": {},
     "output_type": "execute_result"
    }
   ],
   "source": [
    "x = np.array([[[0], [1], [2]]])\n",
    "\n",
    "np.squeeze(x),np.squeeze(x, axis=0),np.squeeze(x, axis=2)"
   ],
   "metadata": {
    "collapsed": false,
    "pycharm": {
     "name": "#%%\n"
    }
   }
  }
 ],
 "metadata": {
  "kernelspec": {
   "display_name": "Python 3",
   "language": "python",
   "name": "python3"
  },
  "language_info": {
   "codemirror_mode": {
    "name": "ipython",
    "version": 2
   },
   "file_extension": ".py",
   "mimetype": "text/x-python",
   "name": "python",
   "nbconvert_exporter": "python",
   "pygments_lexer": "ipython2",
   "version": "2.7.6"
  }
 },
 "nbformat": 4,
 "nbformat_minor": 0
}