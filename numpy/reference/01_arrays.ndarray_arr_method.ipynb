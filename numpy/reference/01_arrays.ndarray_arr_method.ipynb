{
 "cells": [
  {
   "cell_type": "markdown",
   "metadata": {
    "collapsed": true,
    "pycharm": {
     "name": "#%% md\n"
    }
   },
   "source": [
    "## Array attributes\n",
    "### 下列属性包含关于数组的内存布局的信息\n",
    "ndarray.flags       有关阵列的内存布局的信息。\n",
    "ndarray.shape       数组维度的元组。\n",
    "ndarray.strides     在遍历数组时在每个维度上步进的字节元组。\n",
    "ndarray.ndim        数组维数。\n",
    "ndarray.data        指向数组数据开头的Python缓冲区对象。\n",
    "ndarray.size        数组中元素的数量。\n",
    "ndarray.itemsize    一个数组元素的长度（以字节为单位）。\n",
    "ndarray.nbytes      数组元素消耗的总字节数。\n",
    "ndarray.base        如果内存来自其他对象，则为基础对象。"
   ]
  },
  {
   "cell_type": "code",
   "execution_count": 1,
   "outputs": [
    {
     "data": {
      "text/plain": "array([[1, 2, 3],\n       [4, 5, 6],\n       [7, 8, 9]])"
     },
     "execution_count": 1,
     "metadata": {},
     "output_type": "execute_result"
    }
   ],
   "source": [
    "import numpy as np\n",
    "\n",
    "a = np.arange(1,10).reshape((3,3))\n",
    "\n",
    "a"
   ],
   "metadata": {
    "collapsed": false,
    "pycharm": {
     "name": "#%%\n"
    }
   }
  },
  {
   "cell_type": "code",
   "execution_count": 4,
   "outputs": [
    {
     "data": {
      "text/plain": "(  C_CONTIGUOUS : True\n   F_CONTIGUOUS : False\n   OWNDATA : False\n   WRITEABLE : True\n   ALIGNED : True\n   WRITEBACKIFCOPY : False\n   UPDATEIFCOPY : False,\n (3, 3),\n (12, 4),\n 2,\n <memory at 0x0000020181087AC8>,\n 9,\n 4,\n 36,\n array([1, 2, 3, 4, 5, 6, 7, 8, 9]))"
     },
     "execution_count": 4,
     "metadata": {},
     "output_type": "execute_result"
    }
   ],
   "source": [
    "a.flags,\\\n",
    "a.shape,\\\n",
    "a.strides,\\\n",
    "a.ndim,\\\n",
    "a.data,\\\n",
    "a.size,\\\n",
    "a.itemsize,\\\n",
    "a.nbytes,\\\n",
    "a.base"
   ],
   "metadata": {
    "collapsed": false,
    "pycharm": {
     "name": "#%%\n"
    }
   }
  },
  {
   "cell_type": "code",
   "execution_count": 5,
   "outputs": [
    {
     "data": {
      "text/plain": "(array([[1, 4, 7],\n        [2, 5, 8],\n        [3, 6, 9]]),\n array([[1, 2, 3],\n        [4, 5, 6],\n        [7, 8, 9]]),\n array([[0, 0, 0],\n        [0, 0, 0],\n        [0, 0, 0]]),\n <numpy.flatiter at 0x201ff140690>,\n <numpy.core._internal._ctypes at 0x201812c6048>,\n dtype('int32'))"
     },
     "execution_count": 5,
     "metadata": {},
     "output_type": "execute_result"
    }
   ],
   "source": [
    "\"\"\"\n",
    "real 数组的实部。\n",
    "imag 数组的虚部。\n",
    "\"\"\"\n",
    "a.T,\\\n",
    "    a.real,\\\n",
    "    a.imag,\\\n",
    "    a.flat,\\\n",
    "    a.ctypes,\\\n",
    "    a.dtype\n",
    "\n"
   ],
   "metadata": {
    "collapsed": false,
    "pycharm": {
     "name": "#%%\n"
    }
   }
  },
  {
   "cell_type": "code",
   "execution_count": 6,
   "outputs": [
    {
     "data": {
      "text/plain": "(array([0.        , 0.70710678]), array([1.        , 0.70710678]))"
     },
     "execution_count": 6,
     "metadata": {},
     "output_type": "execute_result"
    }
   ],
   "source": [
    "x = np.sqrt([1+0j, 0+1j])\n",
    "x.imag,x.real\n"
   ],
   "metadata": {
    "collapsed": false,
    "pycharm": {
     "name": "#%%\n"
    }
   }
  },
  {
   "cell_type": "markdown",
   "source": [
    "## Array methods\n",
    "以下方法在numpy中也有相应的函数:\n",
    " all, any, argmax, argmin, argpartition, argsort, choose, clip,\n",
    " compress, copy, cumprod, cumsum, diagonal, imag, max, mean, min, nonzero,\n",
    " partition, prod, ptp, put, ravel, real, repeat, reshape, round,\n",
    " searchsorted, sort, squeeze, std, sum, swapaxes, take, trace, transpose, var.\n",
    "\n",
    "### 转换相关的方法\n",
    "https://numpy.org/doc/stable/reference/arrays.ndarray.html#array-conversion\n",
    "ndarray.item（* args）                    将数组的元素复制到标准Python标量并返回。\n",
    "ndarray.tolist（）                        将数组作为a.ndim-levels深层嵌套的Python标量列表返回。\n",
    "ndarray.itemset（* args）                 将标量插入数组（如果可能，将标量强制转换为数组的dtype）\n",
    "ndarray.tostring（[order]）               在数组中构造包含原始数据字节的Python字节。\n",
    "ndarray.tobytes（[order]）                在数组中构造包含原始数据字节的Python字节。\n",
    "ndarray.tofile（fid [，sep，format））   将数组以文本或二进制形式写入文件（默认）。\n",
    "ndarray.dump（file）                  将数组的腌制转储到指定文件中。\n",
    "ndarray.dumps（）                     以字符串形式返回数组的泡菜。\n",
    "ndarray.astype（dtype [，order，casting，...]）数组的副本，强制转换为指定的类型。\n",
    "ndarray.byteswap（[inplace]）         交换数组元素的字节\n",
    "ndarray.copy（[order]）           返回数组的副本。\n",
    "ndarray.view（[dtype，type]）      具有相同数据的数组的新视图。\n",
    "ndarray.getfield（dtype [，Offset]）       以给定类型返回给定数组的字段。\n",
    "ndarray.setflags（[write, align，uic]）   分别设置数组标志WRITEABLE，ALIGNED（WRITEBACKIFCOPY和UPDATEIFCOPY）。\n",
    "ndarray.fill（value）             用标量值填充数组。"
   ],
   "metadata": {
    "collapsed": false
   }
  },
  {
   "cell_type": "code",
   "execution_count": 10,
   "outputs": [
    {
     "data": {
      "text/plain": "(4,\n [[1, 10, 3], [4, 5, 6], [7, 8, 9]],\n None,\n [[1, 10, 3], [4, 5, 6], [7, 8, 9]])"
     },
     "execution_count": 10,
     "metadata": {},
     "output_type": "execute_result"
    }
   ],
   "source": [
    "a.item(3),\\\n",
    "a.tolist(),\\\n",
    "a.itemset((0,1),10),\\\n",
    "a.tolist()\n",
    "\n"
   ],
   "metadata": {
    "collapsed": false,
    "pycharm": {
     "name": "#%%\n"
    }
   }
  },
  {
   "cell_type": "code",
   "execution_count": 12,
   "outputs": [
    {
     "data": {
      "text/plain": "(array([[0, 1, 2, 3, 4],\n        [5, 6, 7, 8, 9]]),\n array([0, 1, 2, 3, 4, 5, 6, 7, 8, 9]))"
     },
     "execution_count": 12,
     "metadata": {},
     "output_type": "execute_result"
    }
   ],
   "source": [
    "\"\"\"\n",
    "### 形状操控相关方法\n",
    "ndarray.reshape（shape [，order]）         返回包含具有新形状的相同数据的数组。\n",
    "ndarray.resize（new_shape [，refcheck]）   就地更改数组的形状和大小。\n",
    "ndarray.transpose（* axes）               返回轴已转置的数组视图。\n",
    "ndarray.swapaxes（axis1，axis2）          返回轴1和轴2互换的数组视图。\n",
    "ndarray.flatten（[order]）                返回折叠成一维的数组副本。\n",
    "ndarray.ravel（[order]）                  返回一个展平的数组。\n",
    "ndarray.squeeze（[axis]）                 从a的形状中删除一维条目。\n",
    "\"\"\"\n",
    "x = np.arange(0,10).reshape((2,5))\n",
    "x,x.flatten()\n"
   ],
   "metadata": {
    "collapsed": false,
    "pycharm": {
     "name": "#%%\n"
    }
   }
  },
  {
   "cell_type": "code",
   "execution_count": 13,
   "outputs": [
    {
     "data": {
      "text/plain": "array([4, 3, 6])"
     },
     "execution_count": 13,
     "metadata": {},
     "output_type": "execute_result"
    }
   ],
   "source": [
    "\"\"\"\n",
    "# item选择和操作相关方法\n",
    "ndarray.take(index [， axis, out, mode])     返回a中给定下标的元素组成的数组。\n",
    "ndarray.put(indices, values[, mode])        设置一个。flat[n] =所有n的索引值[n]。\n",
    "ndarray.repeat(repeats[, axis])             重复数组中的元素。\n",
    "ndarray.choose(choices[, out, mode])        使用索引数组从一组选项构造一个新数组。\n",
    "ndarray.sort([axis, kind, order])           就地对数组排序。\n",
    "ndarray.argsort([axis, kind, order])        返回对数组进行排序的索引。\n",
    "ndarray.partition(kth[， axis, kind, order])重新排列数组中的元素，使元素在第k个位置的值处于它在排序数组中的位置。\n",
    "ndarray.argpartition(kth[， axis, kind, order])     返回将对数组进行分区的索引。\n",
    "ndarray.searchsorted (v[,side, sorter])     找出a中需要插入v元素以维持秩序的下标。\n",
    "ndarray.nonzero ()                      返回非零元素的索引。\n",
    "ndarray.compress(condition[, axis, out])  沿着给定的轴返回这个数组的选定的片。\n",
    "ndarray.diagonal([offset, axis1, axis2])    返回指定的对角线。\n",
    "\"\"\"\n",
    "a = [4, 3, 5, 7, 6, 8]\n",
    "indices = [0, 1, 4]\n",
    "np.take(a, indices)\n"
   ],
   "metadata": {
    "collapsed": false,
    "pycharm": {
     "name": "#%%\n"
    }
   }
  },
  {
   "cell_type": "code",
   "execution_count": 14,
   "outputs": [
    {
     "data": {
      "text/plain": "array([4, 3, 6])"
     },
     "execution_count": 14,
     "metadata": {},
     "output_type": "execute_result"
    }
   ],
   "source": [
    "a = np.array(a)\n",
    "a[indices]\n",
    "\n"
   ],
   "metadata": {
    "collapsed": false,
    "pycharm": {
     "name": "#%%\n"
    }
   }
  },
  {
   "cell_type": "code",
   "execution_count": 15,
   "outputs": [
    {
     "data": {
      "text/plain": "array([[4, 3],\n       [5, 7]])"
     },
     "execution_count": 15,
     "metadata": {},
     "output_type": "execute_result"
    }
   ],
   "source": [
    "np.take(a, [[0, 1], [2, 3]])"
   ],
   "metadata": {
    "collapsed": false,
    "pycharm": {
     "name": "#%%\n"
    }
   }
  },
  {
   "cell_type": "code",
   "execution_count": 16,
   "outputs": [
    {
     "data": {
      "text/plain": "array([-44,   1, -55,   3,   4])"
     },
     "execution_count": 16,
     "metadata": {},
     "output_type": "execute_result"
    }
   ],
   "source": [
    "a = np.arange(5)\n",
    "np.put(a, [0, 2], [-44, -55])\n",
    "a"
   ],
   "metadata": {
    "collapsed": false,
    "pycharm": {
     "name": "#%%\n"
    }
   }
  },
  {
   "cell_type": "code",
   "execution_count": 17,
   "outputs": [
    {
     "data": {
      "text/plain": "array([ 0,  1,  2,  3, -5])"
     },
     "execution_count": 17,
     "metadata": {},
     "output_type": "execute_result"
    }
   ],
   "source": [
    "a = np.arange(5)\n",
    "np.put(a, 22, -5, mode='clip')\n",
    "a\n",
    "# mode=clip 表示所有太大的索引都被指向该轴上最后一个元素的索引所取代。\n",
    "# 请注意，这将禁用负数索引。 在“提升”模式下，如果发生异常，则仍可以修改目标数组。\n"
   ],
   "metadata": {
    "collapsed": false,
    "pycharm": {
     "name": "#%%\n"
    }
   }
  },
  {
   "cell_type": "code",
   "execution_count": 18,
   "outputs": [
    {
     "data": {
      "text/plain": "array([3, 3, 3, 3])"
     },
     "execution_count": 18,
     "metadata": {},
     "output_type": "execute_result"
    }
   ],
   "source": [
    "np.repeat(3, 4)\n",
    "\n"
   ],
   "metadata": {
    "collapsed": false,
    "pycharm": {
     "name": "#%%\n"
    }
   }
  },
  {
   "cell_type": "code",
   "execution_count": 20,
   "outputs": [
    {
     "data": {
      "text/plain": "(array([1, 1, 2, 2, 3, 3, 4, 4]),\n array([[1, 1, 1, 2, 2, 2],\n        [3, 3, 3, 4, 4, 4]]),\n array([[1, 2],\n        [3, 4],\n        [3, 4]]))"
     },
     "execution_count": 20,
     "metadata": {},
     "output_type": "execute_result"
    }
   ],
   "source": [
    "x = np.array([[1,2],[3,4]])\n",
    "np.repeat(x, 2),np.repeat(x, 3, axis=1),np.repeat(x, [1, 2], axis=0)\n"
   ],
   "metadata": {
    "collapsed": false,
    "pycharm": {
     "name": "#%%\n"
    }
   }
  },
  {
   "cell_type": "code",
   "execution_count": 21,
   "outputs": [
    {
     "data": {
      "text/plain": "array([20, 31, 12,  3])"
     },
     "execution_count": 21,
     "metadata": {},
     "output_type": "execute_result"
    }
   ],
   "source": [
    "choices = [[0, 1, 2, 3], [10, 11, 12, 13],\n",
    "  [20, 21, 22, 23], [30, 31, 32, 33]]\n",
    "np.choose([2, 3, 1, 0], choices\n",
    "# the first element of the result will be the first element of the\n",
    "# third (2+1) \"array\" in choices, namely, 20; the second element\n",
    "# will be the second element of the fourth (3+1) choice array, i.e.,\n",
    "# 31, etc.\n",
    ")\n",
    "\n"
   ],
   "metadata": {
    "collapsed": false,
    "pycharm": {
     "name": "#%%\n"
    }
   }
  },
  {
   "cell_type": "code",
   "execution_count": 24,
   "outputs": [
    {
     "data": {
      "text/plain": "array([[1, 4],\n       [1, 3]])"
     },
     "execution_count": 24,
     "metadata": {},
     "output_type": "execute_result"
    }
   ],
   "source": [
    "a = np.array([[1,4], [3,1]])\n",
    "a.sort(axis=1)\n",
    "a\n",
    "\n"
   ],
   "metadata": {
    "collapsed": false,
    "pycharm": {
     "name": "#%%\n"
    }
   }
  },
  {
   "cell_type": "code",
   "execution_count": 25,
   "outputs": [
    {
     "data": {
      "text/plain": "array([[1, 3],\n       [1, 4]])"
     },
     "execution_count": 25,
     "metadata": {},
     "output_type": "execute_result"
    }
   ],
   "source": [
    "a.sort(axis=0)\n",
    "a\n",
    "\n"
   ],
   "metadata": {
    "collapsed": false,
    "pycharm": {
     "name": "#%%\n"
    }
   }
  },
  {
   "cell_type": "code",
   "execution_count": 26,
   "outputs": [
    {
     "data": {
      "text/plain": "array([(b'c', 1), (b'a', 2)], dtype=[('x', 'S1'), ('y', '<i4')])"
     },
     "execution_count": 26,
     "metadata": {},
     "output_type": "execute_result"
    }
   ],
   "source": [
    "a = np.array([('a', 2), ('c', 1)], dtype=[('x', 'S1'), ('y', int)])\n",
    "a.sort(order='y')\n",
    "a\n",
    "\n"
   ],
   "metadata": {
    "collapsed": false,
    "pycharm": {
     "name": "#%%\n"
    }
   }
  },
  {
   "cell_type": "code",
   "execution_count": 27,
   "outputs": [
    {
     "data": {
      "text/plain": "array([1, 2, 0], dtype=int64)"
     },
     "execution_count": 27,
     "metadata": {},
     "output_type": "execute_result"
    }
   ],
   "source": [
    "x = np.array([3, 1, 2])\n",
    "np.argsort(x)\n",
    "\n"
   ],
   "metadata": {
    "collapsed": false,
    "pycharm": {
     "name": "#%%\n"
    }
   }
  },
  {
   "cell_type": "code",
   "execution_count": 28,
   "outputs": [
    {
     "data": {
      "text/plain": "array([2, 1, 3, 4])"
     },
     "execution_count": 28,
     "metadata": {},
     "output_type": "execute_result"
    }
   ],
   "source": [
    "\"\"\"\n",
    "ndarray.partition(kth, axis=-1, kind='introselect', order=None)\n",
    "重新排列数组中的元素，使元素在第k个位置的值处于它在排序数组中的位置。\n",
    "所有小于第k个元素的元素被移动到这个元素前面，所有大于等于这个元素的元素被移动到它后面。\n",
    "两个分区中元素的顺序是未定义的。\n",
    "\"\"\"\n",
    "a = np.array([3, 4, 2, 1])\n",
    "a.partition(3)\n",
    "a\n"
   ],
   "metadata": {
    "collapsed": false,
    "pycharm": {
     "name": "#%%\n"
    }
   }
  },
  {
   "cell_type": "code",
   "execution_count": 29,
   "outputs": [
    {
     "data": {
      "text/plain": "array([1, 2, 3, 4])"
     },
     "execution_count": 29,
     "metadata": {},
     "output_type": "execute_result"
    }
   ],
   "source": [
    "a.partition((1, 3))\n",
    "a\n",
    "\n"
   ],
   "metadata": {
    "collapsed": false,
    "pycharm": {
     "name": "#%%\n"
    }
   }
  },
  {
   "cell_type": "code",
   "execution_count": 30,
   "outputs": [
    {
     "data": {
      "text/plain": "(2, 3, array([0, 5, 1, 2], dtype=int64))"
     },
     "execution_count": 30,
     "metadata": {},
     "output_type": "execute_result"
    }
   ],
   "source": [
    "# 查找应该插入元素以维持顺序的索引。\n",
    "# 找到排序数组a中的下标，如果v中对应的元素插入到下标之前，a的顺序将保持不变。\n",
    "# side若为left，则给出找到的第一个合适位置的索引。如果right，返回最后一个这样的索引。如果没有合适的索引，返回0或N(其中N是a的长度)。\n",
    "np.searchsorted([1,2,3,4,5], 3),\\\n",
    "np.searchsorted([1,2,3,4,5], 3, side='right'),\\\n",
    "np.searchsorted([1,2,3,4,5], [-10, 10, 2, 3])"
   ],
   "metadata": {
    "collapsed": false,
    "pycharm": {
     "name": "#%%\n"
    }
   }
  },
  {
   "cell_type": "code",
   "execution_count": 32,
   "outputs": [
    {
     "data": {
      "text/plain": "(array([[False, False, False],\n        [ True,  True,  True],\n        [ True,  True,  True]]),\n (array([1, 1, 1, 2, 2, 2], dtype=int64),\n  array([0, 1, 2, 0, 1, 2], dtype=int64)),\n array([4, 5, 6, 7, 8, 9]))"
     },
     "execution_count": 32,
     "metadata": {},
     "output_type": "execute_result"
    }
   ],
   "source": [
    "# 返回非0的x,y 值，比如 1，0 = 4 = true\n",
    "a = np.array([[1, 2, 3], [4, 5, 6], [7, 8, 9]])\n",
    "a > 3,np.nonzero(a > 3),a[np.nonzero(a > 3)]\n"
   ],
   "metadata": {
    "collapsed": false,
    "pycharm": {
     "name": "#%%\n"
    }
   }
  },
  {
   "cell_type": "code",
   "execution_count": 33,
   "outputs": [
    {
     "data": {
      "text/plain": "(array([[3, 0, 0],\n        [0, 4, 0],\n        [5, 6, 0]]),\n (array([0, 1, 2, 2], dtype=int64), array([0, 1, 0, 1], dtype=int64)),\n array([3, 4, 5, 6]))"
     },
     "execution_count": 33,
     "metadata": {},
     "output_type": "execute_result"
    }
   ],
   "source": [
    "x = np.array([[3, 0, 0], [0, 4, 0], [5, 6, 0]])\n",
    "x,np.nonzero(x),x[np.nonzero(x)]\n",
    "\n"
   ],
   "metadata": {
    "collapsed": false,
    "pycharm": {
     "name": "#%%\n"
    }
   }
  },
  {
   "cell_type": "code",
   "execution_count": 35,
   "outputs": [
    {
     "data": {
      "text/plain": "(array([[1, 2],\n        [3, 4],\n        [5, 6]]),\n array([[3, 4]]),\n array([[3, 4],\n        [5, 6]]),\n array([[2],\n        [4],\n        [6]]),\n array([2]))"
     },
     "execution_count": 35,
     "metadata": {},
     "output_type": "execute_result"
    }
   ],
   "source": [
    "\"\"\"\n",
    "numpy.compress(condition, a, axis=None, out=None)\n",
    "沿着给定的轴返回数组中选定的片。当沿着给定的轴工作时，\n",
    "对于条件为真的每个索引，将在输出中返回沿着该轴的一个切片。当处理一个1-D数组时，压缩相当于提取。\n",
    "\"\"\"\n",
    "a = np.array([[1, 2], [3, 4], [5, 6]])\n",
    "\n",
    "a,np.compress([0, 1], a, axis=0),\\\n",
    "np.compress([False, True, True], a, axis=0),\\\n",
    "np.compress([False, True], a, axis=1),\\\n",
    "np.compress([False, True], a)\n"
   ],
   "metadata": {
    "collapsed": false,
    "pycharm": {
     "name": "#%%\n"
    }
   }
  },
  {
   "cell_type": "code",
   "execution_count": 36,
   "outputs": [
    {
     "data": {
      "text/plain": "(array([[ 0,  1,  2,  3],\n        [ 4,  5,  6,  7],\n        [ 8,  9, 10, 11]]),\n array([[ True, False, False,  True],\n        [False, False,  True, False],\n        [False,  True, False, False]]),\n array([0, 3, 6, 9]))"
     },
     "execution_count": 36,
     "metadata": {},
     "output_type": "execute_result"
    }
   ],
   "source": [
    "# 返回满足某些条件的数组元素。这个方法不属于ndarray\n",
    "# 这相当于np.compress(ravel(condition), ravel(arr)).\n",
    "arr = np.arange(12).reshape((3, 4))\n",
    "\n",
    "condition = np.mod(arr, 3)==0\n",
    "arr,condition,np.extract(condition, arr)"
   ],
   "metadata": {
    "collapsed": false,
    "pycharm": {
     "name": "#%%\n"
    }
   }
  },
  {
   "cell_type": "code",
   "execution_count": 37,
   "outputs": [
    {
     "data": {
      "text/plain": "(array([[0, 1],\n        [2, 3]]),\n array([0, 3]),\n array([1]))"
     },
     "execution_count": 37,
     "metadata": {},
     "output_type": "execute_result"
    }
   ],
   "source": [
    "# 返回指定的对角线。\n",
    "a = np.arange(4).reshape(2,2)\n",
    "a,a.diagonal(),a.diagonal(1)\n"
   ],
   "metadata": {
    "collapsed": false,
    "pycharm": {
     "name": "#%%\n"
    }
   }
  },
  {
   "cell_type": "code",
   "execution_count": 38,
   "outputs": [
    {
     "data": {
      "text/plain": "(array([[[0, 1],\n         [2, 3]],\n \n        [[4, 5],\n         [6, 7]]]),\n array([[0, 6],\n        [1, 7]]))"
     },
     "execution_count": 38,
     "metadata": {},
     "output_type": "execute_result"
    }
   ],
   "source": [
    "a = np.arange(8).reshape(2,2,2)\n",
    "a,a.diagonal(0,  # Main diagonals of two arrays created by skipping\n",
    "           0,  # across the outer(left)-most axis last and\n",
    "           1)  # the \"middle\" (row) axis first."
   ],
   "metadata": {
    "collapsed": false,
    "pycharm": {
     "name": "#%%\n"
    }
   }
  },
  {
   "cell_type": "code",
   "execution_count": 39,
   "outputs": [
    {
     "data": {
      "text/plain": "array([[0, 2],\n       [4, 6]])"
     },
     "execution_count": 39,
     "metadata": {},
     "output_type": "execute_result"
    }
   ],
   "source": [
    "a[:,:,0]  # main diagonal is [0 6]\n"
   ],
   "metadata": {
    "collapsed": false,
    "pycharm": {
     "name": "#%%\n"
    }
   }
  },
  {
   "cell_type": "code",
   "execution_count": 40,
   "outputs": [
    {
     "data": {
      "text/plain": "array([[1, 3],\n       [5, 7]])"
     },
     "execution_count": 40,
     "metadata": {},
     "output_type": "execute_result"
    }
   ],
   "source": [
    "a[:,:,1]  # main diagonal is [1 7]\n",
    "\n"
   ],
   "metadata": {
    "collapsed": false,
    "pycharm": {
     "name": "#%%\n"
    }
   }
  },
  {
   "cell_type": "code",
   "execution_count": 41,
   "outputs": [
    {
     "data": {
      "text/plain": "(array([[0, 1, 2],\n        [3, 4, 5],\n        [6, 7, 8]]),\n array([2, 4, 6]),\n array([6, 4, 2]))"
     },
     "execution_count": 41,
     "metadata": {},
     "output_type": "execute_result"
    }
   ],
   "source": [
    "a = np.arange(9).reshape(3, 3)\n",
    "a,np.fliplr(a).diagonal(),np.flipud(a).diagonal()\n",
    "# flip 翻转 np.fliplr(a).diagonal()  # Horizontal flip     np.flipud(a).diagonal()  # Vertical flip\n",
    "\n"
   ],
   "metadata": {
    "collapsed": false,
    "pycharm": {
     "name": "#%%\n"
    }
   }
  },
  {
   "cell_type": "markdown",
   "source": [
    "### Calculation 计算相关方法\n",
    "https://numpy.org/doc/stable/reference/arrays.ndarray.html#calculation\n",
    "ndarray.max（[axis, out，keepdims，initial，...]）   沿给定轴返回最大值。\n",
    "ndarray.argmax（[axis，out]）                      沿给定轴返回最大值的索引。\n",
    "ndarray.min（[axis, out，keepdims，initial，...]）   沿给定轴返回最小值。\n",
    "ndarray.argmin（[axis，out]）                      沿a的给定轴返回最小值的索引。\n",
    "ndarray.ptp（[axis，out，keepdims]）                沿给定轴的峰到峰（最大值-最小值）值。\n",
    "ndarray.clip（[min，max，out]）                     返回其值限制为[min，max]的数组。\n",
    "ndarray.conj（）                                  将所有元素复数共轭。\n",
    "ndarray.round（[decimals，out]）                   返回a，每个元素四舍五入到给定的小数位数。\n",
    "ndarray.trace（[offset, axis1, axis2, dtype, out]）   返回数组对角线的和。\n",
    "ndarray.sum（[axis，dtype，out，keepdims，...]）  返回给定轴上数组元素的总和。\n",
    "ndarray.cumsum（[axis, dtype, out]）              返回沿给定轴的元素的累加和。\n",
    "ndarray.mean（[axis, dtype, out，keepdims]）       返回沿给定轴的数组元素的平均值。\n",
    "ndarray.var（[axis，dtype，out，ddof，keepdims]）     返回沿给定轴的数组元素的方差。\n",
    "ndarray.std（[axis，dtype，out，ddof，keepdims]）     返回沿给定轴的数组元素的标准偏差。\n",
    "ndarray.prod（[axis，dtype，out，keepdims，...]）     返回给定轴上数组元素的乘积\n",
    "ndarray.cumprod（[axis，dtype，out]）               返回沿给定轴的元素的累积积。\n",
    "ndarray.all（[axis，out，keepdims]）            如果所有元素的评估结果为True，则返回True。\n",
    "ndarray.any（[axis，out，keepdims]）            如果评估的任何元素为True，则返回True。\n"
   ],
   "metadata": {
    "collapsed": false
   }
  },
  {
   "cell_type": "code",
   "execution_count": 42,
   "outputs": [
    {
     "data": {
      "text/plain": "(array([0., 2.]),\n array([0.4, 1.6]),\n array([0., 2., 2., 4., 4.]),\n array([ 1,  2,  3, 11]),\n array([ 0,  0,  0, 10]))"
     },
     "execution_count": 42,
     "metadata": {},
     "output_type": "execute_result"
    }
   ],
   "source": [
    "# decimals 需要四舍五入的小数点位数(默认为0)。如果小数点是负数，则指定小数点左边的位置数。\n",
    "np.around([0.37, 1.64]),\\\n",
    "np.around([0.37, 1.64], decimals=1),\\\n",
    "np.around([.5, 1.5, 2.5, 3.5, 4.5]),\\\n",
    "np.around([1,2,3,11], decimals=1),\\\n",
    "np.around([1,2,3,11], decimals=-1)\n"
   ],
   "metadata": {
    "collapsed": false,
    "pycharm": {
     "name": "#%%\n"
    }
   }
  }
 ],
 "metadata": {
  "kernelspec": {
   "display_name": "Python 3",
   "language": "python",
   "name": "python3"
  },
  "language_info": {
   "codemirror_mode": {
    "name": "ipython",
    "version": 2
   },
   "file_extension": ".py",
   "mimetype": "text/x-python",
   "name": "python",
   "nbconvert_exporter": "python",
   "pygments_lexer": "ipython2",
   "version": "2.7.6"
  }
 },
 "nbformat": 4,
 "nbformat_minor": 0
}