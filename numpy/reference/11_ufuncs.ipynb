{
 "cells": [
  {
   "cell_type": "markdown",
   "metadata": {
    "collapsed": true,
    "pycharm": {
     "name": "#%% md\n"
    }
   },
   "source": [
    "# Universal functions 通用函数\n",
    "https://numpy.org/doc/stable/reference/ufuncs.html\n",
    "\n"
   ]
  },
  {
   "cell_type": "code",
   "execution_count": 1,
   "outputs": [
    {
     "name": "stdout",
     "output_type": "stream",
     "text": [
      "X ? b h i l q p B H I L Q P e f d g F D G S U V O M m\n",
      "? Y Y Y Y Y Y Y Y Y Y Y Y Y Y Y Y Y Y Y Y Y Y Y Y - Y\n",
      "b - Y Y Y Y Y Y - - - - - - Y Y Y Y Y Y Y Y Y Y Y - Y\n",
      "h - - Y Y Y Y Y - - - - - - - Y Y Y Y Y Y Y Y Y Y - Y\n",
      "i - - - Y Y Y Y - - - - - - - - Y Y - Y Y Y Y Y Y - Y\n",
      "l - - - Y Y Y Y - - - - - - - - Y Y - Y Y Y Y Y Y - Y\n",
      "q - - - - - Y Y - - - - - - - - Y Y - Y Y Y Y Y Y - Y\n",
      "p - - - - - Y Y - - - - - - - - Y Y - Y Y Y Y Y Y - Y\n",
      "B - - Y Y Y Y Y Y Y Y Y Y Y Y Y Y Y Y Y Y Y Y Y Y - Y\n",
      "H - - - Y Y Y Y - Y Y Y Y Y - Y Y Y Y Y Y Y Y Y Y - Y\n",
      "I - - - - - Y Y - - Y Y Y Y - - Y Y - Y Y Y Y Y Y - Y\n",
      "L - - - - - Y Y - - Y Y Y Y - - Y Y - Y Y Y Y Y Y - Y\n",
      "Q - - - - - - - - - - - Y Y - - Y Y - Y Y Y Y Y Y - -\n",
      "P - - - - - - - - - - - Y Y - - Y Y - Y Y Y Y Y Y - -\n",
      "e - - - - - - - - - - - - - Y Y Y Y Y Y Y Y Y Y Y - -\n",
      "f - - - - - - - - - - - - - - Y Y Y Y Y Y Y Y Y Y - -\n",
      "d - - - - - - - - - - - - - - - Y Y - Y Y Y Y Y Y - -\n",
      "g - - - - - - - - - - - - - - - Y Y - Y Y Y Y Y Y - -\n",
      "F - - - - - - - - - - - - - - - - - Y Y Y Y Y Y Y - -\n",
      "D - - - - - - - - - - - - - - - - - - Y Y Y Y Y Y - -\n",
      "G - - - - - - - - - - - - - - - - - - Y Y Y Y Y Y - -\n",
      "S - - - - - - - - - - - - - - - - - - - - Y Y Y Y - -\n",
      "U - - - - - - - - - - - - - - - - - - - - - Y Y Y - -\n",
      "V - - - - - - - - - - - - - - - - - - - - - - Y Y - -\n",
      "O - - - - - - - - - - - - - - - - - - - - - - Y Y - -\n",
      "M - - - - - - - - - - - - - - - - - - - - - - Y Y Y -\n",
      "m - - - - - - - - - - - - - - - - - - - - - - Y Y - Y\n"
     ]
    }
   ],
   "source": [
    "import numpy as np\n",
    "\n",
    "# 打印两种类型之间是否可以转换\n",
    "mark = {False: ' -', True: ' Y'}\n",
    "def print_table(ntypes):\n",
    "    print('X ' + ' '.join(ntypes))\n",
    "    for row in ntypes:\n",
    "        print(row, end='')\n",
    "        for col in ntypes:\n",
    "            print(mark[np.can_cast(row, col)], end='')\n",
    "        print()\n",
    "\n",
    "print_table(np.typecodes['All'])\n"
   ],
   "metadata": {
    "collapsed": false,
    "pycharm": {
     "name": "#%%\n"
    }
   }
  },
  {
   "cell_type": "code",
   "execution_count": 2,
   "outputs": [
    {
     "data": {
      "text/plain": "(2, 2, 2, 1)"
     },
     "execution_count": 2,
     "metadata": {},
     "output_type": "execute_result"
    }
   ],
   "source": [
    "# 输入参数的数量\n",
    "np.add.nin,\\\n",
    "np.multiply.nin,\\\n",
    "np.power.nin,\\\n",
    "np.exp.nin\n",
    "\n",
    "\n"
   ],
   "metadata": {
    "collapsed": false,
    "pycharm": {
     "name": "#%%\n"
    }
   }
  },
  {
   "cell_type": "code",
   "execution_count": 3,
   "outputs": [
    {
     "data": {
      "text/plain": "(1, 1, 1, 1)"
     },
     "execution_count": 3,
     "metadata": {},
     "output_type": "execute_result"
    }
   ],
   "source": [
    "# 输出数量。\n",
    "\n",
    "np.add.nout,\\\n",
    "np.multiply.nout,\\\n",
    "np.power.nout,\\\n",
    "np.exp.nout"
   ],
   "metadata": {
    "collapsed": false,
    "pycharm": {
     "name": "#%%\n"
    }
   }
  },
  {
   "cell_type": "code",
   "execution_count": 4,
   "outputs": [
    {
     "data": {
      "text/plain": "(3, 3, 3, 2)"
     },
     "execution_count": 4,
     "metadata": {},
     "output_type": "execute_result"
    }
   ],
   "source": [
    "# 参数的数量，包括可选参数\n",
    "np.add.nargs,\\\n",
    "np.multiply.nargs,\\\n",
    "np.power.nargs,\\\n",
    "np.exp.nargs"
   ],
   "metadata": {
    "collapsed": false,
    "pycharm": {
     "name": "#%%\n"
    }
   }
  },
  {
   "cell_type": "code",
   "execution_count": 5,
   "outputs": [
    {
     "data": {
      "text/plain": "(22, 23, 18, 9, 16)"
     },
     "execution_count": 5,
     "metadata": {},
     "output_type": "execute_result"
    }
   ],
   "source": [
    "# 类型数。ufunc可以在其上进行操作的数字NumPy类型的数量（总共有18种）\n",
    "np.add.ntypes,\\\n",
    "np.multiply.ntypes,\\\n",
    "np.power.ntypes,\\\n",
    "np.exp.ntypes,\\\n",
    "np.remainder.ntypes\n"
   ],
   "metadata": {
    "collapsed": false,
    "pycharm": {
     "name": "#%%\n"
    }
   }
  },
  {
   "cell_type": "code",
   "execution_count": 6,
   "outputs": [
    {
     "data": {
      "text/plain": "(['??->?',\n  'bb->b',\n  'BB->B',\n  'hh->h',\n  'HH->H',\n  'ii->i',\n  'II->I',\n  'll->l',\n  'LL->L',\n  'qq->q',\n  'QQ->Q',\n  'ee->e',\n  'ff->f',\n  'dd->d',\n  'gg->g',\n  'FF->F',\n  'DD->D',\n  'GG->G',\n  'Mm->M',\n  'mm->m',\n  'mM->M',\n  'OO->O'],\n ['??->?',\n  'bb->b',\n  'BB->B',\n  'hh->h',\n  'HH->H',\n  'ii->i',\n  'II->I',\n  'll->l',\n  'LL->L',\n  'qq->q',\n  'QQ->Q',\n  'ee->e',\n  'ff->f',\n  'dd->d',\n  'gg->g',\n  'FF->F',\n  'DD->D',\n  'GG->G',\n  'mq->m',\n  'qm->m',\n  'md->m',\n  'dm->m',\n  'OO->O'],\n ['bb->b',\n  'BB->B',\n  'hh->h',\n  'HH->H',\n  'ii->i',\n  'II->I',\n  'll->l',\n  'LL->L',\n  'qq->q',\n  'QQ->Q',\n  'ee->e',\n  'ff->f',\n  'dd->d',\n  'gg->g',\n  'FF->F',\n  'DD->D',\n  'GG->G',\n  'OO->O'],\n ['e->e', 'f->f', 'f->f', 'd->d', 'g->g', 'F->F', 'D->D', 'G->G', 'O->O'],\n ['bb->b',\n  'BB->B',\n  'hh->h',\n  'HH->H',\n  'ii->i',\n  'II->I',\n  'll->l',\n  'LL->L',\n  'qq->q',\n  'QQ->Q',\n  'ee->e',\n  'ff->f',\n  'dd->d',\n  'gg->g',\n  'mm->m',\n  'OO->O'])"
     },
     "execution_count": 6,
     "metadata": {},
     "output_type": "execute_result"
    }
   ],
   "source": [
    "# 返回一个将输入->输出分组的列表。\n",
    "np.add.types,\\\n",
    "np.multiply.types,\\\n",
    "np.power.types,\\\n",
    "np.exp.types,\\\n",
    "np.remainder.types\n"
   ],
   "metadata": {
    "collapsed": false,
    "pycharm": {
     "name": "#%%\n"
    }
   }
  },
  {
   "cell_type": "code",
   "execution_count": 13,
   "outputs": [
    {
     "data": {
      "text/plain": "(0, 1, None, None)"
     },
     "execution_count": 13,
     "metadata": {},
     "output_type": "execute_result"
    }
   ],
   "source": [
    "np.add.identity,\\\n",
    "np.multiply.identity,\\\n",
    "np.power.identity,\\\n",
    "np.exp.identity\n"
   ],
   "metadata": {
    "collapsed": false,
    "pycharm": {
     "name": "#%%\n"
    }
   }
  },
  {
   "cell_type": "code",
   "execution_count": 11,
   "outputs": [
    {
     "data": {
      "text/plain": "(None, None)"
     },
     "execution_count": 11,
     "metadata": {},
     "output_type": "execute_result"
    }
   ],
   "source": [
    "np.exp.signature,\\\n",
    "np.add.signature\n",
    "\n"
   ],
   "metadata": {
    "collapsed": false,
    "pycharm": {
     "name": "#%%\n"
    }
   }
  },
  {
   "cell_type": "code",
   "execution_count": null,
   "outputs": [],
   "source": [
    "# reduce 通过沿一个轴应用ufunc，将s维减少1。\n",
    "np.multiply.reduce([2,3,5])\n",
    "\n"
   ],
   "metadata": {
    "collapsed": false,
    "pycharm": {
     "name": "#%%\n"
    }
   }
  },
  {
   "cell_type": "code",
   "execution_count": 14,
   "outputs": [
    {
     "data": {
      "text/plain": "(array([[[0, 1],\n         [2, 3]],\n \n        [[4, 5],\n         [6, 7]]]),\n array([[ 4,  6],\n        [ 8, 10]]),\n array([[ 4,  6],\n        [ 8, 10]]),\n array([[ 2,  4],\n        [10, 12]]),\n array([[ 1,  5],\n        [ 9, 13]]))"
     },
     "execution_count": 14,
     "metadata": {},
     "output_type": "execute_result"
    }
   ],
   "source": [
    "X = np.arange(8).reshape((2,2,2))\n",
    "X,\\\n",
    "np.add.reduce(X, 0),\\\n",
    "np.add.reduce(X),\\\n",
    "np.add.reduce(X, 1),\\\n",
    "np.add.reduce(X, 2)\n",
    "\n"
   ],
   "metadata": {
    "collapsed": false,
    "pycharm": {
     "name": "#%%\n"
    }
   }
  },
  {
   "cell_type": "code",
   "execution_count": 15,
   "outputs": [
    {
     "data": {
      "text/plain": "(15, array([14., 14.]), 20.0)"
     },
     "execution_count": 15,
     "metadata": {},
     "output_type": "execute_result"
    }
   ],
   "source": [
    "a = np.array([10., np.nan, 10])\n",
    "np.add.reduce([10], initial=5),\\\n",
    "np.add.reduce(np.ones((2, 2, 2)), axis=(0, 2), initial=10),\\\n",
    "np.add.reduce(a, where=~np.isnan(a))\n",
    "\n"
   ],
   "metadata": {
    "collapsed": false,
    "pycharm": {
     "name": "#%%\n"
    }
   }
  },
  {
   "cell_type": "code",
   "execution_count": 16,
   "outputs": [
    {
     "data": {
      "text/plain": "(array([ 2,  5, 10], dtype=int32), array([ 2,  6, 30], dtype=int32))"
     },
     "execution_count": 16,
     "metadata": {},
     "output_type": "execute_result"
    }
   ],
   "source": [
    "# 累积将运算符应用于所有元素的结果。\n",
    "np.add.accumulate([2, 3, 5]),\\\n",
    "np.multiply.accumulate([2, 3, 5])\n"
   ],
   "metadata": {
    "collapsed": false,
    "pycharm": {
     "name": "#%%\n"
    }
   }
  },
  {
   "cell_type": "code",
   "execution_count": 17,
   "outputs": [
    {
     "data": {
      "text/plain": "(array([[1., 0.],\n        [0., 1.]]),\n array([[1., 0.],\n        [1., 1.]]),\n array([[1., 0.],\n        [1., 1.]]),\n array([[1., 1.],\n        [0., 1.]]))"
     },
     "execution_count": 17,
     "metadata": {},
     "output_type": "execute_result"
    }
   ],
   "source": [
    "I = np.eye(2)\n",
    "I,np.add.accumulate(I, 0),np.add.accumulate(I),np.add.accumulate(I, 1)\n",
    "\n"
   ],
   "metadata": {
    "collapsed": false,
    "pycharm": {
     "name": "#%%\n"
    }
   }
  },
  {
   "cell_type": "code",
   "execution_count": 19,
   "outputs": [
    {
     "data": {
      "text/plain": "(array([0, 1, 2, 3, 4, 5, 6, 7]),\n array([ 6,  4, 10,  5, 14,  6, 18,  7], dtype=int32),\n array([ 6, 10, 14, 18], dtype=int32))"
     },
     "execution_count": 19,
     "metadata": {},
     "output_type": "execute_result"
    }
   ],
   "source": [
    "# 在单个轴上使用指定的片执行(本地)reduce。\n",
    "# If a is 1-D, the function ufunc.accumulate(a) is the same as ufunc.reduceat(a, indices)[::2] where indices is range(len(array) - 1)\n",
    "# with a zero placed in every other element:\n",
    "# indices = zeros(2 * len(a) - 1), indices[1::2] = range(1, len(a)).\n",
    "# https://numpy.org/doc/stable/reference/generated/numpy.ufunc.reduceat.html#numpy.ufunc.reduceat\n",
    "np.arange(8),\\\n",
    "np.add.reduceat(np.arange(8),[0,4, 1,5, 2,6, 3,7]),\\\n",
    "np.add.reduceat(np.arange(8),[0,4, 1,5, 2,6, 3,7])[::2]"
   ],
   "metadata": {
    "collapsed": false,
    "pycharm": {
     "name": "#%%\n"
    }
   }
  },
  {
   "cell_type": "code",
   "execution_count": 20,
   "outputs": [
    {
     "name": "stdout",
     "output_type": "stream",
     "text": [
      "[10  5 20 15]\n",
      "10\n",
      "5\n",
      "20\n",
      "15\n"
     ]
    }
   ],
   "source": [
    "# reduceat方法需要输入一个数组以及一个索引值列表作为参数\n",
    "B = np.arange(9)\n",
    "B3 = np.add.reduceat(B,[0,5,2,7])\n",
    "print (B3)\n",
    "# [10 5 20 15]\n",
    "# 解析：第一步用到索引值列表中的0和5，实际上就是对数组中索引值在0到5之间的元素进行reduce操作。\n",
    "print (np.add.reduce(B[0:5]))\n",
    "# 第二步用到索引值5和2。由于2比5小，所以直接返回索引值为5的元素\n",
    "print (np.add.reduce(B[5]))\n",
    "# 第三步用到索引值2和7。这一步是对索引值在2到7之间的数组元素进行reduce操作\n",
    "print (np.add.reduce(B[2:7]))\n",
    "# 第四步用到索引值7。这一步是对索引值从7开始直到数组末端的元素进行reduce操作\n",
    "print (np.add.reduce(B[7:]))\n",
    "\n"
   ],
   "metadata": {
    "collapsed": false,
    "pycharm": {
     "name": "#%%\n"
    }
   }
  },
  {
   "cell_type": "code",
   "execution_count": 22,
   "outputs": [
    {
     "data": {
      "text/plain": "(array([[ 4,  5,  6],\n        [ 8, 10, 12],\n        [12, 15, 18]]),\n (2, 3, 1, 4),\n array([[[[ 1,  2,  3,  4]],\n \n         [[ 2,  4,  6,  8]],\n \n         [[ 3,  6,  9, 12]]],\n \n \n        [[[ 4,  8, 12, 16]],\n \n         [[ 5, 10, 15, 20]],\n \n         [[ 6, 12, 18, 24]]]]))"
     },
     "execution_count": 22,
     "metadata": {},
     "output_type": "execute_result"
    }
   ],
   "source": [
    "# 将ufunc op应用于A中的a和b中的b的所有对（a，b）。\n",
    "A = np.array([[1, 2, 3], [4, 5, 6]])\n",
    "B = np.array([[1, 2, 3, 4]])\n",
    "C = np.multiply.outer(A, B)\n",
    "\n",
    "np.multiply.outer([1, 2, 3], [4, 5, 6]),C.shape, C\n"
   ],
   "metadata": {
    "collapsed": false,
    "pycharm": {
     "name": "#%%\n"
    }
   }
  },
  {
   "cell_type": "code",
   "execution_count": 25,
   "outputs": [
    {
     "data": {
      "text/plain": "(array([-1, -2,  3,  4]), array([2, 3, 5, 4]), array([2, 4, 3, 4]))"
     },
     "execution_count": 25,
     "metadata": {},
     "output_type": "execute_result"
    }
   ],
   "source": [
    "a1 = np.array([1, 2, 3, 4])\n",
    "a2 = np.array([1, 2, 3, 4])\n",
    "\n",
    "np.negative.at(a1, [0, 1])\n",
    "np.add.at(a2, [0, 1, 2, 2], 1)\n",
    "\n",
    "a = np.array([1, 2, 3, 4])\n",
    "b = np.array([1, 2])\n",
    "np.add.at(a, [0, 1], b)\n",
    "\n",
    "\n",
    "a1,a2,a\n",
    "\n"
   ],
   "metadata": {
    "collapsed": false,
    "pycharm": {
     "name": "#%%\n"
    }
   }
  },
  {
   "cell_type": "markdown",
   "source": [
    "# Available ufuncs\n",
    "https://numpy.org/doc/stable/reference/ufuncs.html#available-ufuncs"
   ],
   "metadata": {
    "collapsed": false,
    "pycharm": {
     "name": "#%% md\n"
    }
   }
  },
  {
   "cell_type": "code",
   "execution_count": null,
   "outputs": [],
   "source": [
    "# 数学运算   三角函数\n",
    "\n",
    "\n"
   ],
   "metadata": {
    "collapsed": false,
    "pycharm": {
     "name": "#%%\n"
    }
   }
  }
 ],
 "metadata": {
  "kernelspec": {
   "display_name": "Python 3",
   "language": "python",
   "name": "python3"
  },
  "language_info": {
   "codemirror_mode": {
    "name": "ipython",
    "version": 2
   },
   "file_extension": ".py",
   "mimetype": "text/x-python",
   "name": "python",
   "nbconvert_exporter": "python",
   "pygments_lexer": "ipython2",
   "version": "2.7.6"
  }
 },
 "nbformat": 4,
 "nbformat_minor": 0
}