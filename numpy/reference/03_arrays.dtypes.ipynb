{
 "cells": [
  {
   "cell_type": "markdown",
   "metadata": {
    "collapsed": true,
    "pycharm": {
     "name": "#%% md\n"
    }
   },
   "source": [
    "https://numpy.org/doc/stable/reference/arrays.dtypes.html\n",
    "\n",
    "'?'     boolean\n",
    "'b'     (signed) byte\n",
    "'B'     unsigned byte\n",
    "'i'     (signed) integer\n",
    "'u'     unsigned integer\n",
    "'f'     floating-point\n",
    "'c'     complex-floating point\n",
    "'m'     timedelta\n",
    "'M'     datetime\n",
    "'O'     (Python) objects\n",
    "'S', 'a'    zero-terminated bytes (not recommended)\n",
    "'U'     Unicode string\n",
    "'V'     raw data (void)\n",
    "\n",
    "可以转换几种类型的字符串。\n",
    "可以在已识别的字符串前面加上'>' (big-endian)、'<' (bit -endian)或'=' (hardware-native，默认值)，以指定字节顺序。\n",
    "```\n",
    "dt = np.dtype('i4')   # 32-bit signed integer\n",
    "dt = np.dtype('f8')   # 64-bit floating-point number\n",
    "dt = np.dtype('c16')  # 128-bit complex floating-point number\n",
    "dt = np.dtype('a25')  # 25-length zero-terminated bytes\n",
    "dt = np.dtype('U25')  # 25-character string\n",
    "```"
   ]
  },
  {
   "cell_type": "code",
   "execution_count": 1,
   "outputs": [
    {
     "data": {
      "text/plain": "('>', 4, 'int32', True)"
     },
     "execution_count": 1,
     "metadata": {},
     "output_type": "execute_result"
    }
   ],
   "source": [
    "import numpy as np\n",
    "dt = np.dtype('>i4')\n",
    "dt.byteorder,dt.itemsize,dt.name,dt.type is np.int32\n",
    "\n"
   ],
   "metadata": {
    "collapsed": false,
    "pycharm": {
     "name": "#%%\n"
    }
   }
  }
 ],
 "metadata": {
  "kernelspec": {
   "name": "python3",
   "language": "python",
   "display_name": "Python 3"
  },
  "language_info": {
   "codemirror_mode": {
    "name": "ipython",
    "version": 2
   },
   "file_extension": ".py",
   "mimetype": "text/x-python",
   "name": "python",
   "nbconvert_exporter": "python",
   "pygments_lexer": "ipython2",
   "version": "2.7.6"
  }
 },
 "nbformat": 4,
 "nbformat_minor": 0
}