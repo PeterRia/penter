{
 "cells": [
  {
   "cell_type": "markdown",
   "metadata": {
    "collapsed": true,
    "pycharm": {
     "name": "#%% md\n"
    }
   },
   "source": [
    "https://numpy.org/doc/stable/reference/arrays.scalars.html\n",
    "\n",
    "Python仅定义特定数据类的一种类型（只有一种整数类型，一种浮点类型等）。 在不需要关注计算机中数据表示方式的所有应用程序中，这很方便。 但是，对于科学计算，通常需要更多的控制。\n",
    "\n",
    "在NumPy中，有24种新的基本Python类型来描述不同类型的标量。 这些类型描述符主要基于编写CPython的C语言中可用的类型，以及与Python类型兼容的其他几种类型。\n",
    "\n",
    "数组标量与ndarray具有相同的属性和方法。 1这样一来，就可以部分地将数组项与数组放在相同的基础上，从而平滑混合标量和数组操作时产生的粗糙边缘。\n",
    "\n",
    "数组标量位于数据类型的层次结构中（请参见下图）。 可以使用层次结构检测到它们：例如，如果val是数组标量对象，则isinstance（val，np.generic）将返回True。\n",
    "或者，可以使用数据类型层次结构的其他成员来确定存在哪种数组标量。\n",
    "因此，例如，如果val是复数值类型，则isinstance（val，np.complexfloating）将返回True，而如果val是灵活的itemsize数组类型之一（字符串，unicode， 无效）。\n",
    "\n",
    "\n"
   ]
  }
 ],
 "metadata": {
  "kernelspec": {
   "display_name": "Python 3",
   "language": "python",
   "name": "python3"
  },
  "language_info": {
   "codemirror_mode": {
    "name": "ipython",
    "version": 2
   },
   "file_extension": ".py",
   "mimetype": "text/x-python",
   "name": "python",
   "nbconvert_exporter": "python",
   "pygments_lexer": "ipython2",
   "version": "2.7.6"
  }
 },
 "nbformat": 4,
 "nbformat_minor": 0
}