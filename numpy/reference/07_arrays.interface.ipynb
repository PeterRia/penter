{
 "cells": [
  {
   "cell_type": "markdown",
   "metadata": {
    "collapsed": true,
    "pycharm": {
     "name": "#%% md\n"
    }
   },
   "source": [
    "https://numpy.org/doc/stable/reference/arrays.interface.html\n",
    "\n",
    "\n"
   ]
  },
  {
   "cell_type": "code",
   "execution_count": 4,
   "outputs": [
    {
     "data": {
      "text/plain": "(array([[1, 2, 3],\n        [4, 5, 6],\n        [7, 8, 9]]),\n {'data': (3017846283632, False),\n  'strides': None,\n  'descr': [('', '<i4')],\n  'typestr': '<i4',\n  'shape': (3, 3),\n  'version': 3})"
     },
     "execution_count": 4,
     "metadata": {},
     "output_type": "execute_result"
    }
   ],
   "source": [
    "import numpy as np\n",
    "a = np.arange(1,10).reshape((3,3))\n",
    "\n",
    "a,a.__array_interface__\n",
    "\n",
    "\"\"\"\n",
    "data:一个2元组，其第一个参数是一个整数（如果需要，可以是一个长整数），它指向存储数组内容的数据区域。 \n",
    "该指针必须指向数据的第一个元素（换句话说，在这种情况下始终忽略任何偏移量）。 元组中的第二个条目是只读标志（true表示数据区域是只读的）。\n",
    "\n",
    "此属性也可以是一个对象，该对象公开用于共享数据的缓冲区接口。 如果此键不存在（或返回None），则将通过对象本身的缓冲区接口完成内存共享。 \n",
    "在这种情况下，偏移键可用于指示缓冲区的开始。 如果要保护存储区，则必须由新对象存储对暴露数组接口的对象的引用。\n",
    "\"\"\""
   ],
   "metadata": {
    "collapsed": false,
    "pycharm": {
     "name": "#%%\n"
    }
   }
  }
 ],
 "metadata": {
  "kernelspec": {
   "display_name": "Python 3",
   "language": "python",
   "name": "python3"
  },
  "language_info": {
   "codemirror_mode": {
    "name": "ipython",
    "version": 2
   },
   "file_extension": ".py",
   "mimetype": "text/x-python",
   "name": "python",
   "nbconvert_exporter": "python",
   "pygments_lexer": "ipython2",
   "version": "2.7.6"
  }
 },
 "nbformat": 4,
 "nbformat_minor": 0
}