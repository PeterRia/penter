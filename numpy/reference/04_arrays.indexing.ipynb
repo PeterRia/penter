{
 "cells": [
  {
   "cell_type": "markdown",
   "metadata": {
    "collapsed": true,
    "pycharm": {
     "name": "#%% md\n"
    }
   },
   "source": [
    "https://numpy.org/doc/stable/reference/arrays.indexing.html\n"
   ]
  },
  {
   "cell_type": "code",
   "execution_count": 4,
   "outputs": [
    {
     "data": {
      "text/plain": "(array([1, 2, 3, 4, 5, 6]), array([1, 3, 5]), array([2, 3, 4, 5, 6, 7, 8, 9]))"
     },
     "execution_count": 4,
     "metadata": {},
     "output_type": "execute_result"
    }
   ],
   "source": [
    "import numpy as np\n",
    "\n",
    "x = np.array([0, 1, 2, 3, 4, 5, 6, 7, 8, 9])\n",
    "x[1:7],x[1:7:2],x[2:12]\n",
    "\n"
   ],
   "metadata": {
    "collapsed": false,
    "pycharm": {
     "name": "#%%\n"
    }
   }
  },
  {
   "cell_type": "code",
   "execution_count": 5,
   "outputs": [
    {
     "data": {
      "text/plain": "array([[[4],\n        [5],\n        [6]]])"
     },
     "execution_count": 5,
     "metadata": {},
     "output_type": "execute_result"
    }
   ],
   "source": [
    "x = np.array([[[1],[2],[3]], [[4],[5],[6]], [[7],[8],[9]]])\n",
    "x[1:2]\n",
    "\n"
   ],
   "metadata": {
    "collapsed": false,
    "pycharm": {
     "name": "#%%\n"
    }
   }
  },
  {
   "cell_type": "code",
   "execution_count": 16,
   "outputs": [
    {
     "data": {
      "text/plain": "(array([[1, 2, 3],\n        [4, 5, 6],\n        [7, 8, 9]]),\n array([3, 6, 9]))"
     },
     "execution_count": 16,
     "metadata": {},
     "output_type": "execute_result"
    }
   ],
   "source": [
    "# Ellipsis 只能出现一个\n",
    "x = np.array([[[1],[2],[3]], [[4],[5],[6]], [[7],[8],[9]]])\n",
    "x[...,0],x[...,0][...,2]"
   ],
   "metadata": {
    "collapsed": false,
    "pycharm": {
     "name": "#%%\n"
    }
   }
  },
  {
   "cell_type": "code",
   "execution_count": 14,
   "outputs": [
    {
     "data": {
      "text/plain": "(array([[[ 99, 189, 118, 144,  73],\n         [  8, 190, 155, 112, 158],\n         [  7, 143, 113, 181,  80],\n         [ 27,  44,  65, 175,  30]],\n \n        [[ 86, 125, 146, 121, 137],\n         [106,  41, 190, 129, 103],\n         [144,   5,  58,   0, 132],\n         [110, 164, 105, 179,  27]],\n \n        [[ 31,   2,  68,  38, 105],\n         [147,  18, 113, 135, 100],\n         [108, 109, 158, 190,  11],\n         [ 67, 124, 193, 183, 131]]]),\n array([[[ 99, 189, 118, 144,  73],\n         [  8, 190, 155, 112, 158],\n         [  7, 143, 113, 181,  80],\n         [ 27,  44,  65, 175,  30]],\n \n        [[ 86, 125, 146, 121, 137],\n         [106,  41, 190, 129, 103],\n         [144,   5,  58,   0, 132],\n         [110, 164, 105, 179,  27]],\n \n        [[ 31,   2,  68,  38, 105],\n         [147,  18, 113, 135, 100],\n         [108, 109, 158, 190,  11],\n         [ 67, 124, 193, 183, 131]]]),\n array([[[ 99, 189, 118, 144,  73],\n         [  8, 190, 155, 112, 158],\n         [  7, 143, 113, 181,  80],\n         [ 27,  44,  65, 175,  30]],\n \n        [[ 86, 125, 146, 121, 137],\n         [106,  41, 190, 129, 103],\n         [144,   5,  58,   0, 132],\n         [110, 164, 105, 179,  27]],\n \n        [[ 31,   2,  68,  38, 105],\n         [147,  18, 113, 135, 100],\n         [108, 109, 158, 190,  11],\n         [ 67, 124, 193, 183, 131]]]))"
     },
     "execution_count": 14,
     "metadata": {},
     "output_type": "execute_result"
    }
   ],
   "source": [
    "x = np.random.RandomState(5).randint(200, size=[3, 4, 5])\n",
    "x[:],x[...],x[:,...]"
   ],
   "metadata": {
    "collapsed": false,
    "pycharm": {
     "name": "#%%\n"
    }
   }
  },
  {
   "cell_type": "code",
   "execution_count": 18,
   "outputs": [
    {
     "data": {
      "text/plain": "(array([[[1],\n         [2],\n         [3]],\n \n        [[4],\n         [5],\n         [6]],\n \n        [[7],\n         [8],\n         [9]]]),\n array([[1],\n        [4],\n        [7]]),\n array([[1, 2, 3],\n        [4, 5, 6],\n        [7, 8, 9]]),\n array([[1, 2, 3],\n        [4, 5, 6],\n        [7, 8, 9]]))"
     },
     "execution_count": 18,
     "metadata": {},
     "output_type": "execute_result"
    }
   ],
   "source": [
    "x,x[:,0],x[...,0],x[:,:,0]"
   ],
   "metadata": {
    "collapsed": false,
    "pycharm": {
     "name": "#%%\n"
    }
   }
  },
  {
   "cell_type": "code",
   "execution_count": 12,
   "outputs": [
    {
     "data": {
      "text/plain": "array([[ 99, 189, 118, 144,  73],\n       [  8, 190, 155, 112, 158],\n       [  7, 143, 113, 181,  80],\n       [ 27,  44,  65, 175,  30]])"
     },
     "execution_count": 12,
     "metadata": {},
     "output_type": "execute_result"
    }
   ],
   "source": [
    "x[0,...]\n",
    "# x[3维][2维][1维]\n",
    "\n"
   ],
   "metadata": {
    "collapsed": false,
    "pycharm": {
     "name": "#%%\n"
    }
   }
  },
  {
   "cell_type": "code",
   "execution_count": 20,
   "outputs": [
    {
     "data": {
      "text/plain": "array([[[[1],\n         [2],\n         [3]]],\n\n\n       [[[4],\n         [5],\n         [6]]],\n\n\n       [[[7],\n         [8],\n         [9]]]])"
     },
     "execution_count": 20,
     "metadata": {},
     "output_type": "execute_result"
    }
   ],
   "source": [
    "x[:,np.newaxis,:,:]\n",
    "# 选择元组中的每个newaxis对象用于将结果选择的尺寸扩展一个单位长度尺寸。\n",
    "# 添加的维度是新轴对象在选择元组中的位置。"
   ],
   "metadata": {
    "collapsed": false,
    "pycharm": {
     "name": "#%%\n"
    }
   }
  },
  {
   "cell_type": "code",
   "execution_count": 23,
   "outputs": [
    {
     "data": {
      "text/plain": "array([1, 4, 5])"
     },
     "execution_count": 23,
     "metadata": {},
     "output_type": "execute_result"
    }
   ],
   "source": [
    "x = np.array([[1, 2], [3, 4], [5, 6]])\n",
    "x[[0, 1, 2], [0, 1, 0]]\n"
   ],
   "metadata": {
    "collapsed": false,
    "pycharm": {
     "name": "#%%\n"
    }
   }
  },
  {
   "cell_type": "code",
   "execution_count": 24,
   "outputs": [
    {
     "data": {
      "text/plain": "array([[ 0,  2],\n       [ 9, 11]])"
     },
     "execution_count": 24,
     "metadata": {},
     "output_type": "execute_result"
    }
   ],
   "source": [
    "x = np.array([[ 0,  1,  2],\n",
    "           [ 3,  4,  5],\n",
    "           [ 6,  7,  8],\n",
    "           [ 9, 10, 11]])\n",
    "rows = np.array([[0, 0],\n",
    "                 [3, 3]], dtype=np.intp)\n",
    "columns = np.array([[0, 2],\n",
    "                    [0, 2]], dtype=np.intp)\n",
    "x[rows, columns]\n",
    "\n"
   ],
   "metadata": {
    "collapsed": false,
    "pycharm": {
     "name": "#%%\n"
    }
   }
  },
  {
   "cell_type": "code",
   "execution_count": 27,
   "outputs": [
    {
     "data": {
      "text/plain": "(array([[0],\n        [3]], dtype=int64),\n array([[ 0,  2],\n        [ 9, 11]]),\n array([[ 0,  2],\n        [ 9, 11]]))"
     },
     "execution_count": 27,
     "metadata": {},
     "output_type": "execute_result"
    }
   ],
   "source": [
    "rows = np.array([0, 3], dtype=np.intp)\n",
    "columns = np.array([0, 2], dtype=np.intp)\n",
    "\n",
    "rows[:, np.newaxis],\\\n",
    "x[rows[:, np.newaxis], columns],\\\n",
    "x[np.array([[0], [3]], dtype=np.intp), np.array([0, 2], dtype=np.intp)]\n"
   ],
   "metadata": {
    "collapsed": false,
    "pycharm": {
     "name": "#%%\n"
    }
   }
  },
  {
   "cell_type": "code",
   "execution_count": 28,
   "outputs": [
    {
     "data": {
      "text/plain": "(array([[ 0,  2],\n        [ 9, 11]]),\n array([ 0, 11]))"
     },
     "execution_count": 28,
     "metadata": {},
     "output_type": "execute_result"
    }
   ],
   "source": [
    "x[np.ix_(rows, columns)],\\\n",
    "x[rows, columns]\n",
    "\n",
    "\n"
   ],
   "metadata": {
    "collapsed": false,
    "pycharm": {
     "name": "#%%\n"
    }
   }
  }
 ],
 "metadata": {
  "kernelspec": {
   "display_name": "Python 3",
   "language": "python",
   "name": "python3"
  },
  "language_info": {
   "codemirror_mode": {
    "name": "ipython",
    "version": 2
   },
   "file_extension": ".py",
   "mimetype": "text/x-python",
   "name": "python",
   "nbconvert_exporter": "python",
   "pygments_lexer": "ipython2",
   "version": "2.7.6"
  }
 },
 "nbformat": 4,
 "nbformat_minor": 0
}