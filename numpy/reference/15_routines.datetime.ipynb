{
 "cells": [
  {
   "cell_type": "markdown",
   "metadata": {
    "collapsed": true,
    "pycharm": {
     "name": "#%% md\n"
    }
   },
   "source": [
    "https://numpy.org/doc/stable/reference/routines.datetime.html\n",
    "\n",
    "\n"
   ]
  },
  {
   "cell_type": "code",
   "execution_count": 1,
   "outputs": [
    {
     "data": {
      "text/plain": "(array(['2002-10-27T04:30', '2002-10-27T05:30', '2002-10-27T06:30',\n        '2002-10-27T07:30'], dtype='datetime64[m]'),\n array(['2002-10-27T04:30Z', '2002-10-27T05:30Z', '2002-10-27T06:30Z',\n        '2002-10-27T07:30Z'], dtype='<U35'),\n array(['2002-10-27T00:30-0400', '2002-10-27T01:30-0400',\n        '2002-10-27T01:30-0500', '2002-10-27T02:30-0500'], dtype='<U39'),\n array(['2002-10-27T04', '2002-10-27T05', '2002-10-27T06', '2002-10-27T07'],\n       dtype='<U32'),\n array(['2002-10-27T04:30:00', '2002-10-27T05:30:00',\n        '2002-10-27T06:30:00', '2002-10-27T07:30:00'], dtype='<U38'))"
     },
     "execution_count": 1,
     "metadata": {},
     "output_type": "execute_result"
    }
   ],
   "source": [
    "import pytz\n",
    "import numpy as np\n",
    "d = np.arange('2002-10-27T04:30', 4*60, 60, dtype='M8[m]')\n",
    "d,\\\n",
    "np.datetime_as_string(d, timezone='UTC'),\\\n",
    "np.datetime_as_string(d, timezone=pytz.timezone('US/Eastern')),\\\n",
    "    np.datetime_as_string(d, unit='h'),\\\n",
    "    np.datetime_as_string(d, unit='s')\n"
   ],
   "metadata": {
    "collapsed": false,
    "pycharm": {
     "name": "#%%\n"
    }
   }
  }
 ],
 "metadata": {
  "kernelspec": {
   "display_name": "Python 3",
   "language": "python",
   "name": "python3"
  },
  "language_info": {
   "codemirror_mode": {
    "name": "ipython",
    "version": 2
   },
   "file_extension": ".py",
   "mimetype": "text/x-python",
   "name": "python",
   "nbconvert_exporter": "python",
   "pygments_lexer": "ipython2",
   "version": "2.7.6"
  }
 },
 "nbformat": 4,
 "nbformat_minor": 0
}