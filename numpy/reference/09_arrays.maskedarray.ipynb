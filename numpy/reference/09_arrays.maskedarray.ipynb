{
 "cells": [
  {
   "cell_type": "markdown",
   "metadata": {
    "collapsed": true,
    "pycharm": {
     "name": "#%% md\n"
    }
   },
   "source": [
    "https://numpy.org/doc/stable/reference/maskedarray.html\n",
    "Masked arrays 蒙面数组\n",
    "数组在有的时候可能会存在无效的或者缺失值。\n",
    "当在这些数组上做一些操作时，我们希望去以我们希望的数值去填充掩盖这些无效的数据。\n"
   ]
  },
  {
   "cell_type": "code",
   "execution_count": 1,
   "outputs": [
    {
     "data": {
      "text/plain": "masked_array(data=[1.0, 2.0, 3.0, 4.0, --, 6.0, 7.0, --, 9.0],\n             mask=[False, False, False, False,  True, False, False,  True,\n                   False],\n       fill_value=1e+20)"
     },
     "execution_count": 1,
     "metadata": {},
     "output_type": "execute_result"
    }
   ],
   "source": [
    "import numpy as np\n",
    "\n",
    "a = np.array([1,2,3,4,np.nan,6,7,np.nan,9])\n",
    "\n",
    "mask_a = np.ma.masked_array(a,np.isnan(a))\n",
    "mask_a"
   ],
   "metadata": {
    "collapsed": false,
    "pycharm": {
     "name": "#%%\n"
    }
   }
  },
  {
   "cell_type": "code",
   "execution_count": 2,
   "outputs": [
    {
     "data": {
      "text/plain": "(masked_array(data=[5, --, 2, 3, 4],\n              mask=[False,  True, False, False, False],\n        fill_value=999999),\n array([5, 1, 2, 3, 4]))"
     },
     "execution_count": 2,
     "metadata": {},
     "output_type": "execute_result"
    }
   ],
   "source": [
    "a = np.array([0, 1, 2, 3, 4])\n",
    "mask_a = np.ma.masked_array(a, a < 2)\n",
    "mask_a[0] = 5\n",
    "mask_a,a"
   ],
   "metadata": {
    "collapsed": false,
    "pycharm": {
     "name": "#%%\n"
    }
   }
  },
  {
   "cell_type": "code",
   "execution_count": 4,
   "outputs": [
    {
     "data": {
      "text/plain": "(masked_array(data=[--, --, 2, 3, 4],\n              mask=[ True,  True, False, False, False],\n        fill_value=2),\n 3.0,\n array([2, 2, 2, 3, 4]))"
     },
     "execution_count": 4,
     "metadata": {},
     "output_type": "execute_result"
    }
   ],
   "source": [
    "# 设置默认填充值。填充值不会参与计算\n",
    "# 平均mean\n",
    "# filled 才会拿到填充值\n",
    "a = np.arange(5)\n",
    "mask_a = np.ma.masked_array(a, a< 2, fill_value= 2)\n",
    "mask_a,mask_a.mean(),mask_a.filled()"
   ],
   "metadata": {
    "collapsed": false,
    "pycharm": {
     "name": "#%%\n"
    }
   }
  }
 ],
 "metadata": {
  "kernelspec": {
   "display_name": "Python 3",
   "language": "python",
   "name": "python3"
  },
  "language_info": {
   "codemirror_mode": {
    "name": "ipython",
    "version": 2
   },
   "file_extension": ".py",
   "mimetype": "text/x-python",
   "name": "python",
   "nbconvert_exporter": "python",
   "pygments_lexer": "ipython2",
   "version": "2.7.6"
  }
 },
 "nbformat": 4,
 "nbformat_minor": 0
}