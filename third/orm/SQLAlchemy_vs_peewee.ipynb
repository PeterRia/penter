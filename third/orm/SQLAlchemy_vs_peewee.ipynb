{
 "cells": [
  {
   "cell_type": "markdown",
   "metadata": {
    "collapsed": true,
    "pycharm": {
     "name": "#%% md\n"
    }
   },
   "source": [
    "# SQLAlchemy vs peewee\n",
    "## SQLAlchemy\n",
    "\n",
    "\n"
   ]
  },
  {
   "cell_type": "code",
   "execution_count": 1,
   "outputs": [
    {
     "name": "stdout",
     "output_type": "stream",
     "text": [
      "116 ms ± 49.3 ms per loop (mean ± std. dev. of 7 runs, 10 loops each)\n",
      "472 µs ± 8.89 µs per loop (mean ± std. dev. of 7 runs, 1000 loops each)\n"
     ]
    }
   ],
   "source": [
    "from sqlalchemy import *\n",
    "from sqlalchemy.ext.declarative import declarative_base\n",
    "from sqlalchemy.orm import sessionmaker\n",
    "\n",
    "\n",
    "engine = create_engine('sqlite:///sqlalchemy.db', echo=False)\n",
    "Base = declarative_base()\n",
    "Session = sessionmaker(bind=engine)\n",
    "session = Session()\n",
    "\n",
    "\n",
    "class User(Base):\n",
    "    __tablename__ = 'users'\n",
    "\n",
    "    id = Column(Integer, primary_key=True)\n",
    "    name = Column(String(40))\n",
    "    age = Column(Integer)\n",
    "    password = Column(String)\n",
    "\n",
    "\n",
    "Base.metadata.create_all(engine)\n",
    "\n",
    "\n",
    "def create_user():\n",
    "    session.add(User(name='Mary', age=30, password='secret'))\n",
    "    session.commit()\n",
    "\n",
    "%timeit create_user()\n",
    "%timeit session.query(User).first()\n",
    "\n",
    "session.close()"
   ],
   "metadata": {
    "collapsed": false,
    "pycharm": {
     "name": "#%%\n"
    }
   }
  },
  {
   "cell_type": "markdown",
   "source": [
    "## peewee\n",
    "\n",
    "\n"
   ],
   "metadata": {
    "collapsed": false,
    "pycharm": {
     "name": "#%% md\n"
    }
   }
  },
  {
   "cell_type": "code",
   "execution_count": 2,
   "outputs": [
    {
     "name": "stdout",
     "output_type": "stream",
     "text": [
      "90.6 ms ± 24.2 ms per loop (mean ± std. dev. of 7 runs, 10 loops each)\n",
      "269 µs ± 17.8 µs per loop (mean ± std. dev. of 7 runs, 1000 loops each)\n"
     ]
    }
   ],
   "source": [
    "from peewee import *\n",
    "\n",
    "\n",
    "db = SqliteDatabase('peewee.db')\n",
    "\n",
    "\n",
    "class User(Model):\n",
    "    name = CharField(max_length=40)\n",
    "    age = IntegerField()\n",
    "    password = CharField()\n",
    "\n",
    "    class Meta:\n",
    "        database = db\n",
    "\n",
    "\n",
    "User.create_table(fail_silently=True)\n",
    "\n",
    "\n",
    "%timeit User.create(name='Mary', age=30, password='secret')\n",
    "%timeit User.select()[0]\n",
    "\n",
    "\n"
   ],
   "metadata": {
    "collapsed": false,
    "pycharm": {
     "name": "#%%\n"
    }
   }
  },
  {
   "cell_type": "markdown",
   "source": [
    "## Comparison"
   ],
   "metadata": {
    "collapsed": false,
    "pycharm": {
     "name": "#%% md\n"
    }
   }
  },
  {
   "cell_type": "code",
   "execution_count": 3,
   "outputs": [
    {
     "name": "stdout",
     "output_type": "stream",
     "text": [
      "Code length: peewee is 1.55× shorter than SQLAlchemy\n",
      "SQL INSERT : peewee is 1.28× faster than SQLAlchemy\n",
      "SQL SELECT : peewee is 1.75× faster than SQLAlchemy\n"
     ]
    }
   ],
   "source": [
    "# from __future__ import unicode_literals, division\n",
    "sqlalchemy_line_count, peewee_line_count = 31, 20\n",
    "print( 'Code length: peewee is %.2f× shorter than SQLAlchemy' % (sqlalchemy_line_count / peewee_line_count))\n",
    "print( 'SQL INSERT : peewee is %.2f× faster than SQLAlchemy' % (116 / 90.6))\n",
    "print( 'SQL SELECT : peewee is %.2f× faster than SQLAlchemy' % (472 / 269))"
   ],
   "metadata": {
    "collapsed": false,
    "pycharm": {
     "name": "#%%\n"
    }
   }
  }
 ],
 "metadata": {
  "kernelspec": {
   "display_name": "Python 3",
   "language": "python",
   "name": "python3"
  },
  "language_info": {
   "codemirror_mode": {
    "name": "ipython",
    "version": 2
   },
   "file_extension": ".py",
   "mimetype": "text/x-python",
   "name": "python",
   "nbconvert_exporter": "python",
   "pygments_lexer": "ipython2",
   "version": "2.7.6"
  }
 },
 "nbformat": 4,
 "nbformat_minor": 0
}