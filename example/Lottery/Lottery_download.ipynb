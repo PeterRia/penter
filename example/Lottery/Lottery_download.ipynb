{
 "cells": [
  {
   "cell_type": "markdown",
   "metadata": {
    "collapsed": true,
    "pycharm": {
     "name": "#%% md\n"
    }
   },
   "source": [
    "```\n",
    "# 1. 修改列名\n",
    "# df.columns = ['A','B','C']\n",
    "# df.rename(columns={'a':'A', 'b':'B', 'c':'C'}, inplace = True)\n",
    "#修改指定列名\n",
    "# df.rename(columns={'a':'A', 'c':'C'}, inplace = True)\n",
    "\n",
    "# 2. 修改数据类型\n",
    "df['Customer Number'].astype(\"int\")\n",
    "#  这样的操作并没有改变原始的数据框，而只是返回的一个拷贝\n",
    "\n",
    "# 想要真正的改变数据框，通常需要通过赋值来进行，比如\n",
    "df[\"Customer Number\"] = df[\"Customer Number\"].astype(\"int\")\n",
    "\n",
    "# 当然可以通过lambda 函数将这个比较简单的函数一行带过\n",
    "df[\"2016\"].apply(lambda x: x.replace(\",\",\"\").replace(\"$\",\"\")).astype(\"float64\")\n",
    "df['date'] = df['date'].astype('datetime64[ns]')\n",
    "pd.to_datetime(\"\")\n",
    "pd.to_datetime(\"2020-07-06\")\n",
    "```"
   ]
  },
  {
   "cell_type": "code",
   "execution_count": 1,
   "outputs": [],
   "source": [
    "from bs4 import BeautifulSoup  as bs\n",
    "import requests\n",
    "import os\n",
    "import pandas as pd\n",
    "\n"
   ],
   "metadata": {
    "collapsed": false,
    "pycharm": {
     "name": "#%%\n"
    }
   }
  },
  {
   "cell_type": "code",
   "execution_count": 5,
   "outputs": [],
   "source": [
    "def Crawling_data(lottery=\"dlt\"):\n",
    "    \"\"\"\n",
    "    # url = \"http://datachart.500.com/dlt/history/newinc/history.php?start=00001&end=99999\"\n",
    "    # 大乐透 http://datachart.500.com/dlt/history/history.shtml\n",
    "    # 大乐透：第一列期号 第二到第六列 5个前区号码  第七到第八列 2个后区号码  最后一列（15）开奖日期\n",
    "    <tr class=\"t_tr1\"><td class=\"t_tr1\">20058</td><td class=\"cfont2\">01</td><td class=\"cfont2\">15</td><td class=\"cfont2\">19</td><td class=\"cfont2\">26</td><td class=\"cfont2\">27</td><td class=\"cfont4\">05</td><td class=\"cfont4\">10</td><td class=\"t_tr1\">801,073,309</td><td class=\"t_tr1\">5</td><td class=\"t_tr1\">9,421,778</td><td class=\"t_tr1\">137</td><td class=\"t_tr1\">80,612</td><td class=\"t_tr1\">311,403,757</td><td class=\"t_tr1\">2020-07-04</td></tr>\n",
    "\n",
    "\n",
    "    # url = \"http://datachart.500.com/ssq/history/newinc/history.php?start=00001&end=99999\"\n",
    "    # 双色球 http://datachart.500.com/ssq/history/history.shtml\n",
    "    # 双色球：第一列期号 第二到第七列 6个红球号码  第八列蓝球号码  最后一列（16）开奖日期\n",
    "    <tr class=\"t_tr1\"><td>20059</td><td class=\"t_cfont2\">02</td><td class=\"t_cfont2\">04</td><td class=\"t_cfont2\">10</td><td class=\"t_cfont2\">17</td><td class=\"t_cfont2\">22</td><td class=\"t_cfont2\">25</td><td class=\"t_cfont4\">14</td><td class=\"t_cfont4\">&nbsp;</td><td>1,002,178,704</td><td>4</td><td>10,000,000</td><td>190</td><td>147,308</td><td>386,807,160</td><td>2020-07-05</td></tr>\n",
    "    \"\"\"\n",
    "    remove = -1\n",
    "    url = \"http://datachart.500.com/dlt/history/newinc/history.php?start=00001&end=99999\"\n",
    "    if lottery == \"ssq\":\n",
    "        url = \"http://datachart.500.com/ssq/history/newinc/history.php?start=00001&end=99999\"\n",
    "        remove = 8  # 移除 快乐星期天 的那一列\n",
    "\n",
    "    data = requests.get(url).text\n",
    "    data = bs(data, 'lxml')\n",
    "\n",
    "    data = data.find(\"tbody\", id=\"tdata\").find_all('tr', **{\"class\": \"t_tr1\"})\n",
    "\n",
    "    lo_data = []\n",
    "    for content in data:\n",
    "        row = []\n",
    "        tds = content.find_all('td')\n",
    "        for i in range(0, len(tds)):\n",
    "            if i != remove:\n",
    "                row.append(tds[i].get_text())\n",
    "        lo_data.append(row)\n",
    "\n",
    "    return pd.DataFrame(lo_data, columns= [\"no\",\n",
    "                                           \"num1\",\"num2\",\"num3\",\"num4\",\"num5\",\"num6\",\"num7\",\n",
    "                                           \"bonus_pool\",\n",
    "                                           \"one_count\",\"one_bonus\",\n",
    "                                           \"two_count\",\"two_bonus\",\n",
    "                                           \"sale\",\n",
    "                                           \"date\"])\n"
   ],
   "metadata": {
    "collapsed": false,
    "pycharm": {
     "name": "#%%\n"
    }
   }
  },
  {
   "cell_type": "code",
   "execution_count": 20,
   "outputs": [],
   "source": [
    "dlt_df = Crawling_data(\"dlt\")\n",
    "ssq_df = Crawling_data(\"ssq\")\n"
   ],
   "metadata": {
    "collapsed": false,
    "pycharm": {
     "name": "#%%\n"
    }
   }
  },
  {
   "cell_type": "code",
   "execution_count": 21,
   "outputs": [
    {
     "data": {
      "text/plain": "(Index(['no', 'num1', 'num2', 'num3', 'num4', 'num5', 'num6', 'num7',\n        'bonus_pool', 'one_count', 'one_bonus', 'two_count', 'two_bonus',\n        'sale', 'date'],\n       dtype='object'),\n no            object\n num1          object\n num2          object\n num3          object\n num4          object\n num5          object\n num6          object\n num7          object\n bonus_pool    object\n one_count     object\n one_bonus     object\n two_count     object\n two_bonus     object\n sale          object\n date          object\n dtype: object)"
     },
     "execution_count": 21,
     "metadata": {},
     "output_type": "execute_result"
    }
   ],
   "source": [
    "dlt_df.columns,dlt_df.dtypes\n",
    "\n"
   ],
   "metadata": {
    "collapsed": false,
    "pycharm": {
     "name": "#%%\n"
    }
   }
  },
  {
   "cell_type": "code",
   "execution_count": 22,
   "outputs": [],
   "source": [
    "def dfastype(df):\n",
    "    for c in [\"no\",\"num1\",\"num2\",\"num3\",\"num4\",\"num5\",\"num6\",\"num7\"]:\n",
    "        df[c] = df[c].astype(\"str\")\n",
    "    for c in [\"one_count\",\"two_count\"]:\n",
    "        df[c] = df[c].astype(\"int\")\n",
    "    for c in [\"bonus_pool\",\"one_bonus\",\"two_bonus\",\"sale\"]:\n",
    "        df[c] = df[c].apply(lambda x: x.replace(\",\",\"\")).astype(\"float64\")\n",
    "    for c in [\"date\"]:\n",
    "        df[c] = df[c].astype(\"datetime64[ns]\")"
   ],
   "metadata": {
    "collapsed": false,
    "pycharm": {
     "name": "#%%\n"
    }
   }
  },
  {
   "cell_type": "code",
   "execution_count": 23,
   "outputs": [
    {
     "data": {
      "text/plain": "(Index(['no', 'num1', 'num2', 'num3', 'num4', 'num5', 'num6', 'num7',\n        'bonus_pool', 'one_count', 'one_bonus', 'two_count', 'two_bonus',\n        'sale', 'date'],\n       dtype='object'),\n no                    object\n num1                  object\n num2                  object\n num3                  object\n num4                  object\n num5                  object\n num6                  object\n num7                  object\n bonus_pool           float64\n one_count              int32\n one_bonus            float64\n two_count              int32\n two_bonus            float64\n sale                 float64\n date          datetime64[ns]\n dtype: object)"
     },
     "execution_count": 23,
     "metadata": {},
     "output_type": "execute_result"
    }
   ],
   "source": [
    "dfastype(dlt_df)\n",
    "dfastype(ssq_df)\n",
    "\n",
    "dlt_df.columns,dlt_df.dtypes\n",
    "\n"
   ],
   "metadata": {
    "collapsed": false,
    "pycharm": {
     "name": "#%%\n"
    }
   }
  },
  {
   "cell_type": "code",
   "execution_count": 24,
   "outputs": [],
   "source": [
    "# dlt_df.to_csv(\"大乐透.csv\")\n",
    "# ssq_df.to_csv(\"双色球.csv\")\n"
   ],
   "metadata": {
    "collapsed": false,
    "pycharm": {
     "name": "#%%\n"
    }
   }
  }
 ],
 "metadata": {
  "kernelspec": {
   "display_name": "Python 3",
   "language": "python",
   "name": "python3"
  },
  "language_info": {
   "codemirror_mode": {
    "name": "ipython",
    "version": 2
   },
   "file_extension": ".py",
   "mimetype": "text/x-python",
   "name": "python",
   "nbconvert_exporter": "python",
   "pygments_lexer": "ipython2",
   "version": "2.7.6"
  }
 },
 "nbformat": 4,
 "nbformat_minor": 0
}