{
 "cells": [
  {
   "cell_type": "code",
   "execution_count": 2,
   "metadata": {
    "collapsed": true
   },
   "outputs": [
    {
     "data": {
      "text/plain": "       a  b         c\n0    one  x -0.837853\n1    one  y -0.927378\n2    two  x -1.576388\n3    two  y  0.221784\n4    two  x  0.261542\n5  three  x -1.378436\n6   four  x  0.302281",
      "text/html": "<div>\n<style scoped>\n    .dataframe tbody tr th:only-of-type {\n        vertical-align: middle;\n    }\n\n    .dataframe tbody tr th {\n        vertical-align: top;\n    }\n\n    .dataframe thead th {\n        text-align: right;\n    }\n</style>\n<table border=\"1\" class=\"dataframe\">\n  <thead>\n    <tr style=\"text-align: right;\">\n      <th></th>\n      <th>a</th>\n      <th>b</th>\n      <th>c</th>\n    </tr>\n  </thead>\n  <tbody>\n    <tr>\n      <th>0</th>\n      <td>one</td>\n      <td>x</td>\n      <td>-0.837853</td>\n    </tr>\n    <tr>\n      <th>1</th>\n      <td>one</td>\n      <td>y</td>\n      <td>-0.927378</td>\n    </tr>\n    <tr>\n      <th>2</th>\n      <td>two</td>\n      <td>x</td>\n      <td>-1.576388</td>\n    </tr>\n    <tr>\n      <th>3</th>\n      <td>two</td>\n      <td>y</td>\n      <td>0.221784</td>\n    </tr>\n    <tr>\n      <th>4</th>\n      <td>two</td>\n      <td>x</td>\n      <td>0.261542</td>\n    </tr>\n    <tr>\n      <th>5</th>\n      <td>three</td>\n      <td>x</td>\n      <td>-1.378436</td>\n    </tr>\n    <tr>\n      <th>6</th>\n      <td>four</td>\n      <td>x</td>\n      <td>0.302281</td>\n    </tr>\n  </tbody>\n</table>\n</div>"
     },
     "execution_count": 2,
     "metadata": {},
     "output_type": "execute_result"
    }
   ],
   "source": [
    "# 重复数据\n",
    "\"\"\"\n",
    "如果要标识和删除DataFrame中的重复行，\n",
    "则有两种方法会有所帮助：duplicated 和drop_duplicates。\n",
    "每个参数都以用于标识重复行的列作为参数。\n",
    "duplicated  返回一个布尔向量，其长度为行数，并指示一行是否被复制。\n",
    "drop_duplicates  删除重复的行。\n",
    "\n",
    "默认情况下，重复集的第一个观察行被认为是唯一的，但是每个方法都有一个keep参数来指定要保留的目标。\n",
    "keep='first' (default): 标记/删除重复，除非第一次出现。\n",
    "\n",
    "keep='last': 标记/删除重复项（最后一次除外）。\n",
    "\n",
    "keep=False: 标记/删除所有重复项。\n",
    "\"\"\"\n",
    "import pandas as pd\n",
    "import numpy as np\n",
    "df2 = pd.DataFrame({'a': ['one', 'one', 'two', 'two', 'two', 'three', 'four'],\n",
    "                     'b': ['x', 'y', 'x', 'y', 'x', 'x', 'x'],\n",
    "                     'c': np.random.randn(7)})\n",
    "df2\n"
   ]
  },
  {
   "cell_type": "code",
   "execution_count": 3,
   "outputs": [
    {
     "data": {
      "text/plain": "0    False\n1     True\n2    False\n3     True\n4     True\n5    False\n6    False\ndtype: bool"
     },
     "execution_count": 3,
     "metadata": {},
     "output_type": "execute_result"
    }
   ],
   "source": [
    "df2.duplicated('a')\n",
    "\n"
   ],
   "metadata": {
    "collapsed": false,
    "pycharm": {
     "name": "#%%\n"
    }
   }
  },
  {
   "cell_type": "code",
   "execution_count": 4,
   "outputs": [
    {
     "data": {
      "text/plain": "0     True\n1    False\n2     True\n3     True\n4    False\n5    False\n6    False\ndtype: bool"
     },
     "execution_count": 4,
     "metadata": {},
     "output_type": "execute_result"
    }
   ],
   "source": [
    "df2.duplicated('a', keep='last')\n",
    "\n"
   ],
   "metadata": {
    "collapsed": false,
    "pycharm": {
     "name": "#%%\n"
    }
   }
  },
  {
   "cell_type": "code",
   "execution_count": 5,
   "outputs": [
    {
     "data": {
      "text/plain": "0     True\n1     True\n2     True\n3     True\n4     True\n5    False\n6    False\ndtype: bool"
     },
     "execution_count": 5,
     "metadata": {},
     "output_type": "execute_result"
    }
   ],
   "source": [
    "df2.duplicated('a', keep=False)\n",
    "\n"
   ],
   "metadata": {
    "collapsed": false,
    "pycharm": {
     "name": "#%%\n"
    }
   }
  },
  {
   "cell_type": "code",
   "execution_count": 6,
   "outputs": [
    {
     "data": {
      "text/plain": "       a  b         c\n0    one  x -0.837853\n2    two  x -1.576388\n5  three  x -1.378436\n6   four  x  0.302281",
      "text/html": "<div>\n<style scoped>\n    .dataframe tbody tr th:only-of-type {\n        vertical-align: middle;\n    }\n\n    .dataframe tbody tr th {\n        vertical-align: top;\n    }\n\n    .dataframe thead th {\n        text-align: right;\n    }\n</style>\n<table border=\"1\" class=\"dataframe\">\n  <thead>\n    <tr style=\"text-align: right;\">\n      <th></th>\n      <th>a</th>\n      <th>b</th>\n      <th>c</th>\n    </tr>\n  </thead>\n  <tbody>\n    <tr>\n      <th>0</th>\n      <td>one</td>\n      <td>x</td>\n      <td>-0.837853</td>\n    </tr>\n    <tr>\n      <th>2</th>\n      <td>two</td>\n      <td>x</td>\n      <td>-1.576388</td>\n    </tr>\n    <tr>\n      <th>5</th>\n      <td>three</td>\n      <td>x</td>\n      <td>-1.378436</td>\n    </tr>\n    <tr>\n      <th>6</th>\n      <td>four</td>\n      <td>x</td>\n      <td>0.302281</td>\n    </tr>\n  </tbody>\n</table>\n</div>"
     },
     "execution_count": 6,
     "metadata": {},
     "output_type": "execute_result"
    }
   ],
   "source": [
    "df2.drop_duplicates('a')\n",
    "\n"
   ],
   "metadata": {
    "collapsed": false,
    "pycharm": {
     "name": "#%%\n"
    }
   }
  },
  {
   "cell_type": "code",
   "execution_count": 7,
   "outputs": [
    {
     "data": {
      "text/plain": "       a  b         c\n1    one  y -0.927378\n4    two  x  0.261542\n5  three  x -1.378436\n6   four  x  0.302281",
      "text/html": "<div>\n<style scoped>\n    .dataframe tbody tr th:only-of-type {\n        vertical-align: middle;\n    }\n\n    .dataframe tbody tr th {\n        vertical-align: top;\n    }\n\n    .dataframe thead th {\n        text-align: right;\n    }\n</style>\n<table border=\"1\" class=\"dataframe\">\n  <thead>\n    <tr style=\"text-align: right;\">\n      <th></th>\n      <th>a</th>\n      <th>b</th>\n      <th>c</th>\n    </tr>\n  </thead>\n  <tbody>\n    <tr>\n      <th>1</th>\n      <td>one</td>\n      <td>y</td>\n      <td>-0.927378</td>\n    </tr>\n    <tr>\n      <th>4</th>\n      <td>two</td>\n      <td>x</td>\n      <td>0.261542</td>\n    </tr>\n    <tr>\n      <th>5</th>\n      <td>three</td>\n      <td>x</td>\n      <td>-1.378436</td>\n    </tr>\n    <tr>\n      <th>6</th>\n      <td>four</td>\n      <td>x</td>\n      <td>0.302281</td>\n    </tr>\n  </tbody>\n</table>\n</div>"
     },
     "execution_count": 7,
     "metadata": {},
     "output_type": "execute_result"
    }
   ],
   "source": [
    "df2.drop_duplicates('a', keep='last')\n",
    "\n"
   ],
   "metadata": {
    "collapsed": false,
    "pycharm": {
     "name": "#%%\n"
    }
   }
  },
  {
   "cell_type": "code",
   "execution_count": 8,
   "outputs": [
    {
     "data": {
      "text/plain": "       a  b         c\n5  three  x -1.378436\n6   four  x  0.302281",
      "text/html": "<div>\n<style scoped>\n    .dataframe tbody tr th:only-of-type {\n        vertical-align: middle;\n    }\n\n    .dataframe tbody tr th {\n        vertical-align: top;\n    }\n\n    .dataframe thead th {\n        text-align: right;\n    }\n</style>\n<table border=\"1\" class=\"dataframe\">\n  <thead>\n    <tr style=\"text-align: right;\">\n      <th></th>\n      <th>a</th>\n      <th>b</th>\n      <th>c</th>\n    </tr>\n  </thead>\n  <tbody>\n    <tr>\n      <th>5</th>\n      <td>three</td>\n      <td>x</td>\n      <td>-1.378436</td>\n    </tr>\n    <tr>\n      <th>6</th>\n      <td>four</td>\n      <td>x</td>\n      <td>0.302281</td>\n    </tr>\n  </tbody>\n</table>\n</div>"
     },
     "execution_count": 8,
     "metadata": {},
     "output_type": "execute_result"
    }
   ],
   "source": [
    "df2.drop_duplicates('a', keep=False)\n",
    "\n"
   ],
   "metadata": {
    "collapsed": false,
    "pycharm": {
     "name": "#%%\n"
    }
   }
  },
  {
   "cell_type": "code",
   "execution_count": 9,
   "outputs": [
    {
     "data": {
      "text/plain": "0    False\n1    False\n2    False\n3    False\n4     True\n5    False\n6    False\ndtype: bool"
     },
     "execution_count": 9,
     "metadata": {},
     "output_type": "execute_result"
    }
   ],
   "source": [
    "df2.duplicated(['a', 'b'])\n",
    "\n"
   ],
   "metadata": {
    "collapsed": false,
    "pycharm": {
     "name": "#%%\n"
    }
   }
  },
  {
   "cell_type": "code",
   "execution_count": 10,
   "outputs": [
    {
     "data": {
      "text/plain": "       a  b         c\n0    one  x -0.837853\n1    one  y -0.927378\n2    two  x -1.576388\n3    two  y  0.221784\n5  three  x -1.378436\n6   four  x  0.302281",
      "text/html": "<div>\n<style scoped>\n    .dataframe tbody tr th:only-of-type {\n        vertical-align: middle;\n    }\n\n    .dataframe tbody tr th {\n        vertical-align: top;\n    }\n\n    .dataframe thead th {\n        text-align: right;\n    }\n</style>\n<table border=\"1\" class=\"dataframe\">\n  <thead>\n    <tr style=\"text-align: right;\">\n      <th></th>\n      <th>a</th>\n      <th>b</th>\n      <th>c</th>\n    </tr>\n  </thead>\n  <tbody>\n    <tr>\n      <th>0</th>\n      <td>one</td>\n      <td>x</td>\n      <td>-0.837853</td>\n    </tr>\n    <tr>\n      <th>1</th>\n      <td>one</td>\n      <td>y</td>\n      <td>-0.927378</td>\n    </tr>\n    <tr>\n      <th>2</th>\n      <td>two</td>\n      <td>x</td>\n      <td>-1.576388</td>\n    </tr>\n    <tr>\n      <th>3</th>\n      <td>two</td>\n      <td>y</td>\n      <td>0.221784</td>\n    </tr>\n    <tr>\n      <th>5</th>\n      <td>three</td>\n      <td>x</td>\n      <td>-1.378436</td>\n    </tr>\n    <tr>\n      <th>6</th>\n      <td>four</td>\n      <td>x</td>\n      <td>0.302281</td>\n    </tr>\n  </tbody>\n</table>\n</div>"
     },
     "execution_count": 10,
     "metadata": {},
     "output_type": "execute_result"
    }
   ],
   "source": [
    "df2.drop_duplicates(['a', 'b'])\n",
    "\n"
   ],
   "metadata": {
    "collapsed": false,
    "pycharm": {
     "name": "#%%\n"
    }
   }
  },
  {
   "cell_type": "code",
   "execution_count": 11,
   "outputs": [
    {
     "data": {
      "text/plain": "(   a         b\n a  0  0.148541\n a  1  0.314334\n b  2  0.185043\n c  3  0.431622\n b  4 -0.540387\n a  5  0.575792,\n array([False,  True, False, False,  True,  True]),\n    a         b\n a  0  0.148541\n b  2  0.185043\n c  3  0.431622,\n    a         b\n c  3  0.431622\n b  4 -0.540387\n a  5  0.575792,\n    a         b\n c  3  0.431622)"
     },
     "execution_count": 11,
     "metadata": {},
     "output_type": "execute_result"
    }
   ],
   "source": [
    "df3 = pd.DataFrame({'a': np.arange(6),\n",
    "                     'b': np.random.randn(6)},\n",
    "                    index=['a', 'a', 'b', 'c', 'b', 'a'])\n",
    "df3,\\\n",
    "df3.index.duplicated(),\\\n",
    "df3[~df3.index.duplicated()],\\\n",
    "df3[~df3.index.duplicated(keep='last')],\\\n",
    "df3[~df3.index.duplicated(keep=False)]\n"
   ],
   "metadata": {
    "collapsed": false,
    "pycharm": {
     "name": "#%%\n"
    }
   }
  },
  {
   "cell_type": "code",
   "execution_count": 12,
   "outputs": [
    {
     "data": {
      "text/plain": "(1, -1)"
     },
     "execution_count": 12,
     "metadata": {},
     "output_type": "execute_result"
    }
   ],
   "source": [
    "#类字典get()方法\n",
    "\n",
    "s = pd.Series([1, 2, 3], index=['a', 'b', 'c'])\n",
    "s.get('a'),s.get('x', default=-1)"
   ],
   "metadata": {
    "collapsed": false,
    "pycharm": {
     "name": "#%%\n"
    }
   }
  },
  {
   "cell_type": "code",
   "execution_count": 14,
   "outputs": [
    {
     "data": {
      "text/plain": "(           A         B         C         D\n 0   0.365783  0.213540  0.559158  0.311500\n 1   0.029847  0.240892  0.593806  0.328131\n 2   0.467852  0.630774  0.356648  0.141014\n 3   0.152653  0.424152  0.674738  0.820603\n 4   0.189056  0.573216  0.676551  0.245686\n 5   0.979267  0.825305  0.712291  0.157851\n 6   0.310867  0.802896  0.110036  0.918953\n 7   0.128436  0.404348  0.367253  0.989087\n 8   0.854872  0.532358  0.601008  0.644373\n 9   0.970769  0.099879  0.696755  0.184855\n 10  0.255677  0.252582  0.395815  0.425303\n 11  0.167196  0.541991  0.004629  0.683824\n 12  0.493930  0.726377  0.745746  0.754956\n 13  0.469153  0.339187  0.792630  0.745978\n 14  0.228890  0.220855  0.243986  0.413406\n 15  0.034518  0.304291  0.438455  0.428146\n 16  0.685435  0.733894  0.758555  0.209567\n 17  0.757278  0.559890  0.927517  0.904777\n 18  0.808719  0.729581  0.442433  0.306668\n 19  0.982712  0.870783  0.382494  0.007571,\n [0, 2, 4, 6, 8],\n array([0.2135404 , 0.35664816, 0.18905626, 0.80289581, 0.64437281]))"
     },
     "execution_count": 14,
     "metadata": {},
     "output_type": "execute_result"
    }
   ],
   "source": [
    "# The lookup() method\n",
    "\n",
    "dflookup = pd.DataFrame(np.random.rand(20, 4), columns = ['A', 'B', 'C', 'D'])\n",
    "ls = list(range(0, 10, 2))\n",
    "dflookup,\\\n",
    "    ls,\\\n",
    "dflookup.lookup(ls, ['B', 'C', 'A', 'B', 'D'])"
   ],
   "metadata": {
    "collapsed": false,
    "pycharm": {
     "name": "#%%\n"
    }
   }
  },
  {
   "cell_type": "code",
   "execution_count": 22,
   "outputs": [],
   "source": [
    "#Index objects\n",
    "index = pd.Index(['e', 'd', 'a', 'b'])\n",
    "index2 = pd.Index(['e', 'd', 'a', 'b'], dtype='object')\n",
    "index3 = pd.Index(['e', 'd', 'a', 'b'], name='something')\n",
    "print('d' in index,index3.name)"
   ],
   "metadata": {
    "collapsed": false,
    "pycharm": {
     "name": "#%%\n"
    }
   }
  },
  {
   "cell_type": "code",
   "execution_count": 21,
   "outputs": [
    {
     "data": {
      "text/plain": "(cols         A         B         C\n rows                              \n 0    -1.199344  0.384897 -1.240882\n 1    -0.481623 -1.676249  1.773254\n 2     1.257822  0.933209 -1.015521\n 3    -0.507508 -1.996908  1.431405\n 4     1.574604 -1.343136  0.699275,\n rows\n 0   -1.199344\n 1   -0.481623\n 2    1.257822\n 3   -0.507508\n 4    1.574604\n Name: A, dtype: float64)"
     },
     "execution_count": 21,
     "metadata": {},
     "output_type": "execute_result"
    }
   ],
   "source": [
    "index = pd.Index(list(range(5)), name='rows')\n",
    "columns = pd.Index(['A', 'B', 'C'], name='cols')\n",
    "df = pd.DataFrame(np.random.randn(5, 3), index=index, columns=columns)\n",
    "df,df['A']\n"
   ],
   "metadata": {
    "collapsed": false,
    "pycharm": {
     "name": "#%%\n"
    }
   }
  },
  {
   "cell_type": "code",
   "execution_count": 24,
   "outputs": [
    {
     "data": {
      "text/plain": "(Int64Index([1, 2, 3], dtype='int64', name='apple'),\n Int64Index([1, 2, 3], dtype='int64'))"
     },
     "execution_count": 24,
     "metadata": {},
     "output_type": "execute_result"
    }
   ],
   "source": [
    "ind = pd.Index([1, 2, 3])\n",
    "ind.rename(\"apple\"),ind\n"
   ],
   "metadata": {
    "collapsed": false,
    "pycharm": {
     "name": "#%%\n"
    }
   }
  },
  {
   "cell_type": "code",
   "execution_count": 26,
   "outputs": [
    {
     "data": {
      "text/plain": "Int64Index([1, 2, 3], dtype='int64', name='apple')"
     },
     "execution_count": 26,
     "metadata": {},
     "output_type": "execute_result"
    }
   ],
   "source": [
    "ind.set_names([\"apple\"], inplace=True)\n",
    "\n",
    "ind\n"
   ],
   "metadata": {
    "collapsed": false,
    "pycharm": {
     "name": "#%%\n"
    }
   }
  },
  {
   "cell_type": "code",
   "execution_count": 27,
   "outputs": [
    {
     "data": {
      "text/plain": "Int64Index([1, 2, 3], dtype='int64', name='bob')"
     },
     "execution_count": 27,
     "metadata": {},
     "output_type": "execute_result"
    }
   ],
   "source": [
    "ind.name = \"bob\"\n",
    "ind\n"
   ],
   "metadata": {
    "collapsed": false,
    "pycharm": {
     "name": "#%%\n"
    }
   }
  },
  {
   "cell_type": "code",
   "execution_count": 28,
   "outputs": [
    {
     "data": {
      "text/plain": "MultiIndex([(0, 'one'),\n            (0, 'two'),\n            (1, 'one'),\n            (1, 'two'),\n            (2, 'one'),\n            (2, 'two')],\n           names=['first', 'second'])"
     },
     "execution_count": 28,
     "metadata": {},
     "output_type": "execute_result"
    }
   ],
   "source": [
    "# set_names, set_levels, and set_codes also take an optional level argument\n",
    "index = pd.MultiIndex.from_product([range(3), ['one', 'two']], names=['first', 'second'])\n",
    "index"
   ],
   "metadata": {
    "collapsed": false,
    "pycharm": {
     "name": "#%%\n"
    }
   }
  },
  {
   "cell_type": "code",
   "execution_count": 29,
   "outputs": [
    {
     "data": {
      "text/plain": "Index(['one', 'two'], dtype='object', name='second')"
     },
     "execution_count": 29,
     "metadata": {},
     "output_type": "execute_result"
    }
   ],
   "source": [
    "index.levels[1]\n",
    "\n"
   ],
   "metadata": {
    "collapsed": false,
    "pycharm": {
     "name": "#%%\n"
    }
   }
  },
  {
   "cell_type": "code",
   "execution_count": 30,
   "outputs": [
    {
     "data": {
      "text/plain": "MultiIndex([(0, 'a'),\n            (0, 'b'),\n            (1, 'a'),\n            (1, 'b'),\n            (2, 'a'),\n            (2, 'b')],\n           names=['first', 'second'])"
     },
     "execution_count": 30,
     "metadata": {},
     "output_type": "execute_result"
    }
   ],
   "source": [
    "index.set_levels([\"a\", \"b\"], level=1)\n",
    "\n"
   ],
   "metadata": {
    "collapsed": false,
    "pycharm": {
     "name": "#%%\n"
    }
   }
  },
  {
   "cell_type": "code",
   "execution_count": 32,
   "outputs": [
    {
     "data": {
      "text/plain": "(Index(['a', 'b', 'c', 'd', 'e'], dtype='object'),\n Index(['c'], dtype='object'),\n Index(['a', 'b'], dtype='object'))"
     },
     "execution_count": 32,
     "metadata": {},
     "output_type": "execute_result"
    }
   ],
   "source": [
    "a = pd.Index(['c', 'b', 'a'])\n",
    "b = pd.Index(['c', 'e', 'd'])\n",
    "a | b,a & b,a.difference(b)"
   ],
   "metadata": {
    "collapsed": false,
    "pycharm": {
     "name": "#%%\n"
    }
   }
  },
  {
   "cell_type": "code",
   "execution_count": 33,
   "outputs": [
    {
     "data": {
      "text/plain": "(Int64Index([1, 5], dtype='int64'), Int64Index([1, 5], dtype='int64'))"
     },
     "execution_count": 33,
     "metadata": {},
     "output_type": "execute_result"
    }
   ],
   "source": [
    "idx1 = pd.Index([1, 2, 3, 4])\n",
    "idx2 = pd.Index([2, 3, 4, 5])\n",
    "idx1.symmetric_difference(idx2),idx1 ^ idx2\n"
   ],
   "metadata": {
    "collapsed": false,
    "pycharm": {
     "name": "#%%\n"
    }
   }
  },
  {
   "cell_type": "code",
   "execution_count": 34,
   "outputs": [
    {
     "data": {
      "text/plain": "(Float64Index([1.0, nan, 3.0, 4.0], dtype='float64'),\n Float64Index([1.0, 2.0, 3.0, 4.0], dtype='float64'))"
     },
     "execution_count": 34,
     "metadata": {},
     "output_type": "execute_result"
    }
   ],
   "source": [
    "idx1 = pd.Index([1, np.nan, 3, 4])\n",
    "idx1,idx1.fillna(2)"
   ],
   "metadata": {
    "collapsed": false,
    "pycharm": {
     "name": "#%%\n"
    }
   }
  },
  {
   "cell_type": "code",
   "execution_count": 35,
   "outputs": [
    {
     "data": {
      "text/plain": "(DatetimeIndex(['2011-01-01', 'NaT', '2011-01-03'], dtype='datetime64[ns]', freq=None),\n DatetimeIndex(['2011-01-01', '2011-01-02', '2011-01-03'], dtype='datetime64[ns]', freq=None))"
     },
     "execution_count": 35,
     "metadata": {},
     "output_type": "execute_result"
    }
   ],
   "source": [
    "idx2 = pd.DatetimeIndex([pd.Timestamp('2011-01-01'),\n",
    "                          pd.NaT,\n",
    "                          pd.Timestamp('2011-01-03')])\n",
    "\n",
    "idx2,idx2.fillna(pd.Timestamp('2011-01-02'))"
   ],
   "metadata": {
    "collapsed": false,
    "pycharm": {
     "name": "#%%\n"
    }
   }
  },
  {
   "cell_type": "code",
   "execution_count": 38,
   "outputs": [
    {
     "data": {
      "text/plain": "           A         B         C         D\n0   0.704104  0.736158  0.916108  0.394503\n1   0.925570  0.294871  0.816624  0.823994\n2   0.360394  0.708637  0.793828  0.716190\n3   0.990176  0.751028  0.536311  0.208417\n4   0.866339  0.995987  0.373178  0.307267\n5   0.436060  0.840470  0.957799  0.758362\n6   0.933912  0.996639  0.343508  0.460799\n7   0.340296  0.464141  0.401227  0.262922\n8   0.574560  0.336430  0.280548  0.219491\n9   0.354032  0.166113  0.296436  0.589116\n10  0.083628  0.632132  0.488706  0.782122\n11  0.302297  0.340238  0.127868  0.208864\n12  0.544654  0.143744  0.196307  0.024907\n13  0.916081  0.434728  0.962019  0.738299\n14  0.528340  0.209723  0.254395  0.351243\n15  0.469051  0.468194  0.337707  0.050327\n16  0.823636  0.147923  0.724459  0.203944\n17  0.826668  0.777286  0.158303  0.752866\n18  0.143555  0.745386  0.613312  0.599741\n19  0.487994  0.443377  0.815835  0.586725",
      "text/html": "<div>\n<style scoped>\n    .dataframe tbody tr th:only-of-type {\n        vertical-align: middle;\n    }\n\n    .dataframe tbody tr th {\n        vertical-align: top;\n    }\n\n    .dataframe thead th {\n        text-align: right;\n    }\n</style>\n<table border=\"1\" class=\"dataframe\">\n  <thead>\n    <tr style=\"text-align: right;\">\n      <th></th>\n      <th>A</th>\n      <th>B</th>\n      <th>C</th>\n      <th>D</th>\n    </tr>\n  </thead>\n  <tbody>\n    <tr>\n      <th>0</th>\n      <td>0.704104</td>\n      <td>0.736158</td>\n      <td>0.916108</td>\n      <td>0.394503</td>\n    </tr>\n    <tr>\n      <th>1</th>\n      <td>0.925570</td>\n      <td>0.294871</td>\n      <td>0.816624</td>\n      <td>0.823994</td>\n    </tr>\n    <tr>\n      <th>2</th>\n      <td>0.360394</td>\n      <td>0.708637</td>\n      <td>0.793828</td>\n      <td>0.716190</td>\n    </tr>\n    <tr>\n      <th>3</th>\n      <td>0.990176</td>\n      <td>0.751028</td>\n      <td>0.536311</td>\n      <td>0.208417</td>\n    </tr>\n    <tr>\n      <th>4</th>\n      <td>0.866339</td>\n      <td>0.995987</td>\n      <td>0.373178</td>\n      <td>0.307267</td>\n    </tr>\n    <tr>\n      <th>5</th>\n      <td>0.436060</td>\n      <td>0.840470</td>\n      <td>0.957799</td>\n      <td>0.758362</td>\n    </tr>\n    <tr>\n      <th>6</th>\n      <td>0.933912</td>\n      <td>0.996639</td>\n      <td>0.343508</td>\n      <td>0.460799</td>\n    </tr>\n    <tr>\n      <th>7</th>\n      <td>0.340296</td>\n      <td>0.464141</td>\n      <td>0.401227</td>\n      <td>0.262922</td>\n    </tr>\n    <tr>\n      <th>8</th>\n      <td>0.574560</td>\n      <td>0.336430</td>\n      <td>0.280548</td>\n      <td>0.219491</td>\n    </tr>\n    <tr>\n      <th>9</th>\n      <td>0.354032</td>\n      <td>0.166113</td>\n      <td>0.296436</td>\n      <td>0.589116</td>\n    </tr>\n    <tr>\n      <th>10</th>\n      <td>0.083628</td>\n      <td>0.632132</td>\n      <td>0.488706</td>\n      <td>0.782122</td>\n    </tr>\n    <tr>\n      <th>11</th>\n      <td>0.302297</td>\n      <td>0.340238</td>\n      <td>0.127868</td>\n      <td>0.208864</td>\n    </tr>\n    <tr>\n      <th>12</th>\n      <td>0.544654</td>\n      <td>0.143744</td>\n      <td>0.196307</td>\n      <td>0.024907</td>\n    </tr>\n    <tr>\n      <th>13</th>\n      <td>0.916081</td>\n      <td>0.434728</td>\n      <td>0.962019</td>\n      <td>0.738299</td>\n    </tr>\n    <tr>\n      <th>14</th>\n      <td>0.528340</td>\n      <td>0.209723</td>\n      <td>0.254395</td>\n      <td>0.351243</td>\n    </tr>\n    <tr>\n      <th>15</th>\n      <td>0.469051</td>\n      <td>0.468194</td>\n      <td>0.337707</td>\n      <td>0.050327</td>\n    </tr>\n    <tr>\n      <th>16</th>\n      <td>0.823636</td>\n      <td>0.147923</td>\n      <td>0.724459</td>\n      <td>0.203944</td>\n    </tr>\n    <tr>\n      <th>17</th>\n      <td>0.826668</td>\n      <td>0.777286</td>\n      <td>0.158303</td>\n      <td>0.752866</td>\n    </tr>\n    <tr>\n      <th>18</th>\n      <td>0.143555</td>\n      <td>0.745386</td>\n      <td>0.613312</td>\n      <td>0.599741</td>\n    </tr>\n    <tr>\n      <th>19</th>\n      <td>0.487994</td>\n      <td>0.443377</td>\n      <td>0.815835</td>\n      <td>0.586725</td>\n    </tr>\n  </tbody>\n</table>\n</div>"
     },
     "execution_count": 38,
     "metadata": {},
     "output_type": "execute_result"
    }
   ],
   "source": [
    "# Set / reset index\n",
    "data  = pd.DataFrame(np.random.rand(20, 4), columns = ['A', 'B', 'C', 'D'])\n",
    "\n",
    "data\n"
   ],
   "metadata": {
    "collapsed": false,
    "pycharm": {
     "name": "#%%\n"
    }
   }
  },
  {
   "cell_type": "code",
   "execution_count": 39,
   "outputs": [
    {
     "data": {
      "text/plain": "                 A         B         D\nC                                     \n0.916108  0.704104  0.736158  0.394503\n0.816624  0.925570  0.294871  0.823994\n0.793828  0.360394  0.708637  0.716190\n0.536311  0.990176  0.751028  0.208417\n0.373178  0.866339  0.995987  0.307267\n0.957799  0.436060  0.840470  0.758362\n0.343508  0.933912  0.996639  0.460799\n0.401227  0.340296  0.464141  0.262922\n0.280548  0.574560  0.336430  0.219491\n0.296436  0.354032  0.166113  0.589116\n0.488706  0.083628  0.632132  0.782122\n0.127868  0.302297  0.340238  0.208864\n0.196307  0.544654  0.143744  0.024907\n0.962019  0.916081  0.434728  0.738299\n0.254395  0.528340  0.209723  0.351243\n0.337707  0.469051  0.468194  0.050327\n0.724459  0.823636  0.147923  0.203944\n0.158303  0.826668  0.777286  0.752866\n0.613312  0.143555  0.745386  0.599741\n0.815835  0.487994  0.443377  0.586725",
      "text/html": "<div>\n<style scoped>\n    .dataframe tbody tr th:only-of-type {\n        vertical-align: middle;\n    }\n\n    .dataframe tbody tr th {\n        vertical-align: top;\n    }\n\n    .dataframe thead th {\n        text-align: right;\n    }\n</style>\n<table border=\"1\" class=\"dataframe\">\n  <thead>\n    <tr style=\"text-align: right;\">\n      <th></th>\n      <th>A</th>\n      <th>B</th>\n      <th>D</th>\n    </tr>\n    <tr>\n      <th>C</th>\n      <th></th>\n      <th></th>\n      <th></th>\n    </tr>\n  </thead>\n  <tbody>\n    <tr>\n      <th>0.916108</th>\n      <td>0.704104</td>\n      <td>0.736158</td>\n      <td>0.394503</td>\n    </tr>\n    <tr>\n      <th>0.816624</th>\n      <td>0.925570</td>\n      <td>0.294871</td>\n      <td>0.823994</td>\n    </tr>\n    <tr>\n      <th>0.793828</th>\n      <td>0.360394</td>\n      <td>0.708637</td>\n      <td>0.716190</td>\n    </tr>\n    <tr>\n      <th>0.536311</th>\n      <td>0.990176</td>\n      <td>0.751028</td>\n      <td>0.208417</td>\n    </tr>\n    <tr>\n      <th>0.373178</th>\n      <td>0.866339</td>\n      <td>0.995987</td>\n      <td>0.307267</td>\n    </tr>\n    <tr>\n      <th>0.957799</th>\n      <td>0.436060</td>\n      <td>0.840470</td>\n      <td>0.758362</td>\n    </tr>\n    <tr>\n      <th>0.343508</th>\n      <td>0.933912</td>\n      <td>0.996639</td>\n      <td>0.460799</td>\n    </tr>\n    <tr>\n      <th>0.401227</th>\n      <td>0.340296</td>\n      <td>0.464141</td>\n      <td>0.262922</td>\n    </tr>\n    <tr>\n      <th>0.280548</th>\n      <td>0.574560</td>\n      <td>0.336430</td>\n      <td>0.219491</td>\n    </tr>\n    <tr>\n      <th>0.296436</th>\n      <td>0.354032</td>\n      <td>0.166113</td>\n      <td>0.589116</td>\n    </tr>\n    <tr>\n      <th>0.488706</th>\n      <td>0.083628</td>\n      <td>0.632132</td>\n      <td>0.782122</td>\n    </tr>\n    <tr>\n      <th>0.127868</th>\n      <td>0.302297</td>\n      <td>0.340238</td>\n      <td>0.208864</td>\n    </tr>\n    <tr>\n      <th>0.196307</th>\n      <td>0.544654</td>\n      <td>0.143744</td>\n      <td>0.024907</td>\n    </tr>\n    <tr>\n      <th>0.962019</th>\n      <td>0.916081</td>\n      <td>0.434728</td>\n      <td>0.738299</td>\n    </tr>\n    <tr>\n      <th>0.254395</th>\n      <td>0.528340</td>\n      <td>0.209723</td>\n      <td>0.351243</td>\n    </tr>\n    <tr>\n      <th>0.337707</th>\n      <td>0.469051</td>\n      <td>0.468194</td>\n      <td>0.050327</td>\n    </tr>\n    <tr>\n      <th>0.724459</th>\n      <td>0.823636</td>\n      <td>0.147923</td>\n      <td>0.203944</td>\n    </tr>\n    <tr>\n      <th>0.158303</th>\n      <td>0.826668</td>\n      <td>0.777286</td>\n      <td>0.752866</td>\n    </tr>\n    <tr>\n      <th>0.613312</th>\n      <td>0.143555</td>\n      <td>0.745386</td>\n      <td>0.599741</td>\n    </tr>\n    <tr>\n      <th>0.815835</th>\n      <td>0.487994</td>\n      <td>0.443377</td>\n      <td>0.586725</td>\n    </tr>\n  </tbody>\n</table>\n</div>"
     },
     "execution_count": 39,
     "metadata": {},
     "output_type": "execute_result"
    }
   ],
   "source": [
    "indexed1 = data.set_index('C')\n",
    "indexed1\n"
   ],
   "metadata": {
    "collapsed": false,
    "pycharm": {
     "name": "#%%\n"
    }
   }
  },
  {
   "cell_type": "code",
   "execution_count": 40,
   "outputs": [
    {
     "data": {
      "text/plain": "                          C         D\nA        B                           \n0.704104 0.736158  0.916108  0.394503\n0.925570 0.294871  0.816624  0.823994\n0.360394 0.708637  0.793828  0.716190\n0.990176 0.751028  0.536311  0.208417\n0.866339 0.995987  0.373178  0.307267\n0.436060 0.840470  0.957799  0.758362\n0.933912 0.996639  0.343508  0.460799\n0.340296 0.464141  0.401227  0.262922\n0.574560 0.336430  0.280548  0.219491\n0.354032 0.166113  0.296436  0.589116\n0.083628 0.632132  0.488706  0.782122\n0.302297 0.340238  0.127868  0.208864\n0.544654 0.143744  0.196307  0.024907\n0.916081 0.434728  0.962019  0.738299\n0.528340 0.209723  0.254395  0.351243\n0.469051 0.468194  0.337707  0.050327\n0.823636 0.147923  0.724459  0.203944\n0.826668 0.777286  0.158303  0.752866\n0.143555 0.745386  0.613312  0.599741\n0.487994 0.443377  0.815835  0.586725",
      "text/html": "<div>\n<style scoped>\n    .dataframe tbody tr th:only-of-type {\n        vertical-align: middle;\n    }\n\n    .dataframe tbody tr th {\n        vertical-align: top;\n    }\n\n    .dataframe thead th {\n        text-align: right;\n    }\n</style>\n<table border=\"1\" class=\"dataframe\">\n  <thead>\n    <tr style=\"text-align: right;\">\n      <th></th>\n      <th></th>\n      <th>C</th>\n      <th>D</th>\n    </tr>\n    <tr>\n      <th>A</th>\n      <th>B</th>\n      <th></th>\n      <th></th>\n    </tr>\n  </thead>\n  <tbody>\n    <tr>\n      <th>0.704104</th>\n      <th>0.736158</th>\n      <td>0.916108</td>\n      <td>0.394503</td>\n    </tr>\n    <tr>\n      <th>0.925570</th>\n      <th>0.294871</th>\n      <td>0.816624</td>\n      <td>0.823994</td>\n    </tr>\n    <tr>\n      <th>0.360394</th>\n      <th>0.708637</th>\n      <td>0.793828</td>\n      <td>0.716190</td>\n    </tr>\n    <tr>\n      <th>0.990176</th>\n      <th>0.751028</th>\n      <td>0.536311</td>\n      <td>0.208417</td>\n    </tr>\n    <tr>\n      <th>0.866339</th>\n      <th>0.995987</th>\n      <td>0.373178</td>\n      <td>0.307267</td>\n    </tr>\n    <tr>\n      <th>0.436060</th>\n      <th>0.840470</th>\n      <td>0.957799</td>\n      <td>0.758362</td>\n    </tr>\n    <tr>\n      <th>0.933912</th>\n      <th>0.996639</th>\n      <td>0.343508</td>\n      <td>0.460799</td>\n    </tr>\n    <tr>\n      <th>0.340296</th>\n      <th>0.464141</th>\n      <td>0.401227</td>\n      <td>0.262922</td>\n    </tr>\n    <tr>\n      <th>0.574560</th>\n      <th>0.336430</th>\n      <td>0.280548</td>\n      <td>0.219491</td>\n    </tr>\n    <tr>\n      <th>0.354032</th>\n      <th>0.166113</th>\n      <td>0.296436</td>\n      <td>0.589116</td>\n    </tr>\n    <tr>\n      <th>0.083628</th>\n      <th>0.632132</th>\n      <td>0.488706</td>\n      <td>0.782122</td>\n    </tr>\n    <tr>\n      <th>0.302297</th>\n      <th>0.340238</th>\n      <td>0.127868</td>\n      <td>0.208864</td>\n    </tr>\n    <tr>\n      <th>0.544654</th>\n      <th>0.143744</th>\n      <td>0.196307</td>\n      <td>0.024907</td>\n    </tr>\n    <tr>\n      <th>0.916081</th>\n      <th>0.434728</th>\n      <td>0.962019</td>\n      <td>0.738299</td>\n    </tr>\n    <tr>\n      <th>0.528340</th>\n      <th>0.209723</th>\n      <td>0.254395</td>\n      <td>0.351243</td>\n    </tr>\n    <tr>\n      <th>0.469051</th>\n      <th>0.468194</th>\n      <td>0.337707</td>\n      <td>0.050327</td>\n    </tr>\n    <tr>\n      <th>0.823636</th>\n      <th>0.147923</th>\n      <td>0.724459</td>\n      <td>0.203944</td>\n    </tr>\n    <tr>\n      <th>0.826668</th>\n      <th>0.777286</th>\n      <td>0.158303</td>\n      <td>0.752866</td>\n    </tr>\n    <tr>\n      <th>0.143555</th>\n      <th>0.745386</th>\n      <td>0.613312</td>\n      <td>0.599741</td>\n    </tr>\n    <tr>\n      <th>0.487994</th>\n      <th>0.443377</th>\n      <td>0.815835</td>\n      <td>0.586725</td>\n    </tr>\n  </tbody>\n</table>\n</div>"
     },
     "execution_count": 40,
     "metadata": {},
     "output_type": "execute_result"
    }
   ],
   "source": [
    "indexed2 = data.set_index(['A', 'B'])\n",
    "indexed2\n"
   ],
   "metadata": {
    "collapsed": false,
    "pycharm": {
     "name": "#%%\n"
    }
   }
  },
  {
   "cell_type": "code",
   "execution_count": 43,
   "outputs": [
    {
     "data": {
      "text/plain": "(                 A         B         C         D\n C                                               \n 0.916108  0.704104  0.736158  0.916108  0.394503\n 0.816624  0.925570  0.294871  0.816624  0.823994\n 0.793828  0.360394  0.708637  0.793828  0.716190\n 0.536311  0.990176  0.751028  0.536311  0.208417\n 0.373178  0.866339  0.995987  0.373178  0.307267\n 0.957799  0.436060  0.840470  0.957799  0.758362\n 0.343508  0.933912  0.996639  0.343508  0.460799\n 0.401227  0.340296  0.464141  0.401227  0.262922\n 0.280548  0.574560  0.336430  0.280548  0.219491\n 0.296436  0.354032  0.166113  0.296436  0.589116\n 0.488706  0.083628  0.632132  0.488706  0.782122\n 0.127868  0.302297  0.340238  0.127868  0.208864\n 0.196307  0.544654  0.143744  0.196307  0.024907\n 0.962019  0.916081  0.434728  0.962019  0.738299\n 0.254395  0.528340  0.209723  0.254395  0.351243\n 0.337707  0.469051  0.468194  0.337707  0.050327\n 0.724459  0.823636  0.147923  0.724459  0.203944\n 0.158303  0.826668  0.777286  0.158303  0.752866\n 0.613312  0.143555  0.745386  0.613312  0.599741\n 0.815835  0.487994  0.443377  0.815835  0.586725,\n                                    C         D\n C        A        B                           \n 0.916108 0.704104 0.736158  0.916108  0.394503\n 0.816624 0.925570 0.294871  0.816624  0.823994\n 0.793828 0.360394 0.708637  0.793828  0.716190\n 0.536311 0.990176 0.751028  0.536311  0.208417\n 0.373178 0.866339 0.995987  0.373178  0.307267\n 0.957799 0.436060 0.840470  0.957799  0.758362\n 0.343508 0.933912 0.996639  0.343508  0.460799\n 0.401227 0.340296 0.464141  0.401227  0.262922\n 0.280548 0.574560 0.336430  0.280548  0.219491\n 0.296436 0.354032 0.166113  0.296436  0.589116\n 0.488706 0.083628 0.632132  0.488706  0.782122\n 0.127868 0.302297 0.340238  0.127868  0.208864\n 0.196307 0.544654 0.143744  0.196307  0.024907\n 0.962019 0.916081 0.434728  0.962019  0.738299\n 0.254395 0.528340 0.209723  0.254395  0.351243\n 0.337707 0.469051 0.468194  0.337707  0.050327\n 0.724459 0.823636 0.147923  0.724459  0.203944\n 0.158303 0.826668 0.777286  0.158303  0.752866\n 0.613312 0.143555 0.745386  0.613312  0.599741\n 0.815835 0.487994 0.443377  0.815835  0.586725)"
     },
     "execution_count": 43,
     "metadata": {},
     "output_type": "execute_result"
    }
   ],
   "source": [
    "frame1 = data.set_index('C', drop=False)\n",
    "# append 相当于三个index\n",
    "frame2 = frame1.set_index(['A', 'B'], append=True)\n",
    "frame1,frame2"
   ],
   "metadata": {
    "collapsed": false,
    "pycharm": {
     "name": "#%%\n"
    }
   }
  },
  {
   "cell_type": "code",
   "execution_count": 44,
   "outputs": [
    {
     "data": {
      "text/plain": "                          C         D\nA        B                           \n0.704104 0.736158  0.916108  0.394503\n0.925570 0.294871  0.816624  0.823994\n0.360394 0.708637  0.793828  0.716190\n0.990176 0.751028  0.536311  0.208417\n0.866339 0.995987  0.373178  0.307267\n0.436060 0.840470  0.957799  0.758362\n0.933912 0.996639  0.343508  0.460799\n0.340296 0.464141  0.401227  0.262922\n0.574560 0.336430  0.280548  0.219491\n0.354032 0.166113  0.296436  0.589116\n0.083628 0.632132  0.488706  0.782122\n0.302297 0.340238  0.127868  0.208864\n0.544654 0.143744  0.196307  0.024907\n0.916081 0.434728  0.962019  0.738299\n0.528340 0.209723  0.254395  0.351243\n0.469051 0.468194  0.337707  0.050327\n0.823636 0.147923  0.724459  0.203944\n0.826668 0.777286  0.158303  0.752866\n0.143555 0.745386  0.613312  0.599741\n0.487994 0.443377  0.815835  0.586725",
      "text/html": "<div>\n<style scoped>\n    .dataframe tbody tr th:only-of-type {\n        vertical-align: middle;\n    }\n\n    .dataframe tbody tr th {\n        vertical-align: top;\n    }\n\n    .dataframe thead th {\n        text-align: right;\n    }\n</style>\n<table border=\"1\" class=\"dataframe\">\n  <thead>\n    <tr style=\"text-align: right;\">\n      <th></th>\n      <th></th>\n      <th>C</th>\n      <th>D</th>\n    </tr>\n    <tr>\n      <th>A</th>\n      <th>B</th>\n      <th></th>\n      <th></th>\n    </tr>\n  </thead>\n  <tbody>\n    <tr>\n      <th>0.704104</th>\n      <th>0.736158</th>\n      <td>0.916108</td>\n      <td>0.394503</td>\n    </tr>\n    <tr>\n      <th>0.925570</th>\n      <th>0.294871</th>\n      <td>0.816624</td>\n      <td>0.823994</td>\n    </tr>\n    <tr>\n      <th>0.360394</th>\n      <th>0.708637</th>\n      <td>0.793828</td>\n      <td>0.716190</td>\n    </tr>\n    <tr>\n      <th>0.990176</th>\n      <th>0.751028</th>\n      <td>0.536311</td>\n      <td>0.208417</td>\n    </tr>\n    <tr>\n      <th>0.866339</th>\n      <th>0.995987</th>\n      <td>0.373178</td>\n      <td>0.307267</td>\n    </tr>\n    <tr>\n      <th>0.436060</th>\n      <th>0.840470</th>\n      <td>0.957799</td>\n      <td>0.758362</td>\n    </tr>\n    <tr>\n      <th>0.933912</th>\n      <th>0.996639</th>\n      <td>0.343508</td>\n      <td>0.460799</td>\n    </tr>\n    <tr>\n      <th>0.340296</th>\n      <th>0.464141</th>\n      <td>0.401227</td>\n      <td>0.262922</td>\n    </tr>\n    <tr>\n      <th>0.574560</th>\n      <th>0.336430</th>\n      <td>0.280548</td>\n      <td>0.219491</td>\n    </tr>\n    <tr>\n      <th>0.354032</th>\n      <th>0.166113</th>\n      <td>0.296436</td>\n      <td>0.589116</td>\n    </tr>\n    <tr>\n      <th>0.083628</th>\n      <th>0.632132</th>\n      <td>0.488706</td>\n      <td>0.782122</td>\n    </tr>\n    <tr>\n      <th>0.302297</th>\n      <th>0.340238</th>\n      <td>0.127868</td>\n      <td>0.208864</td>\n    </tr>\n    <tr>\n      <th>0.544654</th>\n      <th>0.143744</th>\n      <td>0.196307</td>\n      <td>0.024907</td>\n    </tr>\n    <tr>\n      <th>0.916081</th>\n      <th>0.434728</th>\n      <td>0.962019</td>\n      <td>0.738299</td>\n    </tr>\n    <tr>\n      <th>0.528340</th>\n      <th>0.209723</th>\n      <td>0.254395</td>\n      <td>0.351243</td>\n    </tr>\n    <tr>\n      <th>0.469051</th>\n      <th>0.468194</th>\n      <td>0.337707</td>\n      <td>0.050327</td>\n    </tr>\n    <tr>\n      <th>0.823636</th>\n      <th>0.147923</th>\n      <td>0.724459</td>\n      <td>0.203944</td>\n    </tr>\n    <tr>\n      <th>0.826668</th>\n      <th>0.777286</th>\n      <td>0.158303</td>\n      <td>0.752866</td>\n    </tr>\n    <tr>\n      <th>0.143555</th>\n      <th>0.745386</th>\n      <td>0.613312</td>\n      <td>0.599741</td>\n    </tr>\n    <tr>\n      <th>0.487994</th>\n      <th>0.443377</th>\n      <td>0.815835</td>\n      <td>0.586725</td>\n    </tr>\n  </tbody>\n</table>\n</div>"
     },
     "execution_count": 44,
     "metadata": {},
     "output_type": "execute_result"
    }
   ],
   "source": [
    "data.set_index(['A', 'B'], inplace=True)\n",
    "data\n"
   ],
   "metadata": {
    "collapsed": false,
    "pycharm": {
     "name": "#%%\n"
    }
   }
  },
  {
   "cell_type": "code",
   "execution_count": 45,
   "outputs": [
    {
     "data": {
      "text/plain": "           A         B         C         D\n0   0.704104  0.736158  0.916108  0.394503\n1   0.925570  0.294871  0.816624  0.823994\n2   0.360394  0.708637  0.793828  0.716190\n3   0.990176  0.751028  0.536311  0.208417\n4   0.866339  0.995987  0.373178  0.307267\n5   0.436060  0.840470  0.957799  0.758362\n6   0.933912  0.996639  0.343508  0.460799\n7   0.340296  0.464141  0.401227  0.262922\n8   0.574560  0.336430  0.280548  0.219491\n9   0.354032  0.166113  0.296436  0.589116\n10  0.083628  0.632132  0.488706  0.782122\n11  0.302297  0.340238  0.127868  0.208864\n12  0.544654  0.143744  0.196307  0.024907\n13  0.916081  0.434728  0.962019  0.738299\n14  0.528340  0.209723  0.254395  0.351243\n15  0.469051  0.468194  0.337707  0.050327\n16  0.823636  0.147923  0.724459  0.203944\n17  0.826668  0.777286  0.158303  0.752866\n18  0.143555  0.745386  0.613312  0.599741\n19  0.487994  0.443377  0.815835  0.586725",
      "text/html": "<div>\n<style scoped>\n    .dataframe tbody tr th:only-of-type {\n        vertical-align: middle;\n    }\n\n    .dataframe tbody tr th {\n        vertical-align: top;\n    }\n\n    .dataframe thead th {\n        text-align: right;\n    }\n</style>\n<table border=\"1\" class=\"dataframe\">\n  <thead>\n    <tr style=\"text-align: right;\">\n      <th></th>\n      <th>A</th>\n      <th>B</th>\n      <th>C</th>\n      <th>D</th>\n    </tr>\n  </thead>\n  <tbody>\n    <tr>\n      <th>0</th>\n      <td>0.704104</td>\n      <td>0.736158</td>\n      <td>0.916108</td>\n      <td>0.394503</td>\n    </tr>\n    <tr>\n      <th>1</th>\n      <td>0.925570</td>\n      <td>0.294871</td>\n      <td>0.816624</td>\n      <td>0.823994</td>\n    </tr>\n    <tr>\n      <th>2</th>\n      <td>0.360394</td>\n      <td>0.708637</td>\n      <td>0.793828</td>\n      <td>0.716190</td>\n    </tr>\n    <tr>\n      <th>3</th>\n      <td>0.990176</td>\n      <td>0.751028</td>\n      <td>0.536311</td>\n      <td>0.208417</td>\n    </tr>\n    <tr>\n      <th>4</th>\n      <td>0.866339</td>\n      <td>0.995987</td>\n      <td>0.373178</td>\n      <td>0.307267</td>\n    </tr>\n    <tr>\n      <th>5</th>\n      <td>0.436060</td>\n      <td>0.840470</td>\n      <td>0.957799</td>\n      <td>0.758362</td>\n    </tr>\n    <tr>\n      <th>6</th>\n      <td>0.933912</td>\n      <td>0.996639</td>\n      <td>0.343508</td>\n      <td>0.460799</td>\n    </tr>\n    <tr>\n      <th>7</th>\n      <td>0.340296</td>\n      <td>0.464141</td>\n      <td>0.401227</td>\n      <td>0.262922</td>\n    </tr>\n    <tr>\n      <th>8</th>\n      <td>0.574560</td>\n      <td>0.336430</td>\n      <td>0.280548</td>\n      <td>0.219491</td>\n    </tr>\n    <tr>\n      <th>9</th>\n      <td>0.354032</td>\n      <td>0.166113</td>\n      <td>0.296436</td>\n      <td>0.589116</td>\n    </tr>\n    <tr>\n      <th>10</th>\n      <td>0.083628</td>\n      <td>0.632132</td>\n      <td>0.488706</td>\n      <td>0.782122</td>\n    </tr>\n    <tr>\n      <th>11</th>\n      <td>0.302297</td>\n      <td>0.340238</td>\n      <td>0.127868</td>\n      <td>0.208864</td>\n    </tr>\n    <tr>\n      <th>12</th>\n      <td>0.544654</td>\n      <td>0.143744</td>\n      <td>0.196307</td>\n      <td>0.024907</td>\n    </tr>\n    <tr>\n      <th>13</th>\n      <td>0.916081</td>\n      <td>0.434728</td>\n      <td>0.962019</td>\n      <td>0.738299</td>\n    </tr>\n    <tr>\n      <th>14</th>\n      <td>0.528340</td>\n      <td>0.209723</td>\n      <td>0.254395</td>\n      <td>0.351243</td>\n    </tr>\n    <tr>\n      <th>15</th>\n      <td>0.469051</td>\n      <td>0.468194</td>\n      <td>0.337707</td>\n      <td>0.050327</td>\n    </tr>\n    <tr>\n      <th>16</th>\n      <td>0.823636</td>\n      <td>0.147923</td>\n      <td>0.724459</td>\n      <td>0.203944</td>\n    </tr>\n    <tr>\n      <th>17</th>\n      <td>0.826668</td>\n      <td>0.777286</td>\n      <td>0.158303</td>\n      <td>0.752866</td>\n    </tr>\n    <tr>\n      <th>18</th>\n      <td>0.143555</td>\n      <td>0.745386</td>\n      <td>0.613312</td>\n      <td>0.599741</td>\n    </tr>\n    <tr>\n      <th>19</th>\n      <td>0.487994</td>\n      <td>0.443377</td>\n      <td>0.815835</td>\n      <td>0.586725</td>\n    </tr>\n  </tbody>\n</table>\n</div>"
     },
     "execution_count": 45,
     "metadata": {},
     "output_type": "execute_result"
    }
   ],
   "source": [
    "data.reset_index()\n",
    "\n"
   ],
   "metadata": {
    "collapsed": false,
    "pycharm": {
     "name": "#%%\n"
    }
   }
  },
  {
   "cell_type": "code",
   "execution_count": 47,
   "outputs": [
    {
     "data": {
      "text/plain": "(                                   C         D\n C        A        B                           \n 0.916108 0.704104 0.736158  0.916108  0.394503\n 0.816624 0.925570 0.294871  0.816624  0.823994\n 0.793828 0.360394 0.708637  0.793828  0.716190\n 0.536311 0.990176 0.751028  0.536311  0.208417\n 0.373178 0.866339 0.995987  0.373178  0.307267\n 0.957799 0.436060 0.840470  0.957799  0.758362\n 0.343508 0.933912 0.996639  0.343508  0.460799\n 0.401227 0.340296 0.464141  0.401227  0.262922\n 0.280548 0.574560 0.336430  0.280548  0.219491\n 0.296436 0.354032 0.166113  0.296436  0.589116\n 0.488706 0.083628 0.632132  0.488706  0.782122\n 0.127868 0.302297 0.340238  0.127868  0.208864\n 0.196307 0.544654 0.143744  0.196307  0.024907\n 0.962019 0.916081 0.434728  0.962019  0.738299\n 0.254395 0.528340 0.209723  0.254395  0.351243\n 0.337707 0.469051 0.468194  0.337707  0.050327\n 0.724459 0.823636 0.147923  0.724459  0.203944\n 0.158303 0.826668 0.777286  0.158303  0.752866\n 0.613312 0.143555 0.745386  0.613312  0.599741\n 0.815835 0.487994 0.443377  0.815835  0.586725,\n                           A         C         D\n C        B                                     \n 0.916108 0.736158  0.704104  0.916108  0.394503\n 0.816624 0.294871  0.925570  0.816624  0.823994\n 0.793828 0.708637  0.360394  0.793828  0.716190\n 0.536311 0.751028  0.990176  0.536311  0.208417\n 0.373178 0.995987  0.866339  0.373178  0.307267\n 0.957799 0.840470  0.436060  0.957799  0.758362\n 0.343508 0.996639  0.933912  0.343508  0.460799\n 0.401227 0.464141  0.340296  0.401227  0.262922\n 0.280548 0.336430  0.574560  0.280548  0.219491\n 0.296436 0.166113  0.354032  0.296436  0.589116\n 0.488706 0.632132  0.083628  0.488706  0.782122\n 0.127868 0.340238  0.302297  0.127868  0.208864\n 0.196307 0.143744  0.544654  0.196307  0.024907\n 0.962019 0.434728  0.916081  0.962019  0.738299\n 0.254395 0.209723  0.528340  0.254395  0.351243\n 0.337707 0.468194  0.469051  0.337707  0.050327\n 0.724459 0.147923  0.823636  0.724459  0.203944\n 0.158303 0.777286  0.826668  0.158303  0.752866\n 0.613312 0.745386  0.143555  0.613312  0.599741\n 0.815835 0.443377  0.487994  0.815835  0.586725)"
     },
     "execution_count": 47,
     "metadata": {},
     "output_type": "execute_result"
    }
   ],
   "source": [
    "frame2,frame2.reset_index(level=1)\n",
    "\n"
   ],
   "metadata": {
    "collapsed": false,
    "pycharm": {
     "name": "#%%\n"
    }
   }
  },
  {
   "cell_type": "code",
   "execution_count": 50,
   "outputs": [
    {
     "data": {
      "text/plain": "(    one          two       \n   first second first second\n 0     a      b     c      d\n 1     e      f     g      h\n 2     i      j     k      l\n 3     m      n     o      p,\n 0    b\n 1    f\n 2    j\n 3    n\n Name: second, dtype: object,\n 0    b\n 1    f\n 2    j\n 3    n\n Name: (one, second), dtype: object)"
     },
     "execution_count": 50,
     "metadata": {},
     "output_type": "execute_result"
    }
   ],
   "source": [
    "# 返回视图和副本\n",
    "# pd.set_option('mode.chained_assignment','raise')\n",
    "# dfc.loc[0]['A'] = 1111  抛出异常\n",
    "dfmi = pd.DataFrame([list('abcd'),\n",
    "                     list('efgh'),\n",
    "                     list('ijkl'),\n",
    "                     list('mnop')],\n",
    "                    columns=pd.MultiIndex.from_product([['one', 'two'],\n",
    "                                                        ['first', 'second']]))\n",
    "dfmi,dfmi['one']['second'],dfmi.loc[:, ('one', 'second')]\n",
    "\n"
   ],
   "metadata": {
    "collapsed": false,
    "pycharm": {
     "name": "#%%\n"
    }
   }
  }
 ],
 "metadata": {
  "kernelspec": {
   "display_name": "Python 3",
   "language": "python",
   "name": "python3"
  },
  "language_info": {
   "codemirror_mode": {
    "name": "ipython",
    "version": 2
   },
   "file_extension": ".py",
   "mimetype": "text/x-python",
   "name": "python",
   "nbconvert_exporter": "python",
   "pygments_lexer": "ipython2",
   "version": "2.7.6"
  }
 },
 "nbformat": 4,
 "nbformat_minor": 0
}