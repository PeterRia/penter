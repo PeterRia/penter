{
 "cells": [
  {
   "cell_type": "markdown",
   "metadata": {
    "collapsed": true,
    "pycharm": {
     "name": "#%% md\n"
    }
   },
   "source": [
    "https://pandas.pydata.org/docs/user_guide/reshaping.html"
   ]
  },
  {
   "cell_type": "code",
   "execution_count": 1,
   "outputs": [
    {
     "data": {
      "text/plain": "         date variable     value\n0  2000-01-03        A -0.703408\n1  2000-01-04        A  1.496032\n2  2000-01-05        A -0.537587\n3  2000-01-03        B -1.185259\n4  2000-01-04        B -0.819760\n5  2000-01-05        B  1.586029\n6  2000-01-03        C -0.757629\n7  2000-01-04        C -3.093847\n8  2000-01-05        C  0.223290\n9  2000-01-03        D -0.089609\n10 2000-01-04        D -0.042019\n11 2000-01-05        D  1.034959",
      "text/html": "<div>\n<style scoped>\n    .dataframe tbody tr th:only-of-type {\n        vertical-align: middle;\n    }\n\n    .dataframe tbody tr th {\n        vertical-align: top;\n    }\n\n    .dataframe thead th {\n        text-align: right;\n    }\n</style>\n<table border=\"1\" class=\"dataframe\">\n  <thead>\n    <tr style=\"text-align: right;\">\n      <th></th>\n      <th>date</th>\n      <th>variable</th>\n      <th>value</th>\n    </tr>\n  </thead>\n  <tbody>\n    <tr>\n      <th>0</th>\n      <td>2000-01-03</td>\n      <td>A</td>\n      <td>-0.703408</td>\n    </tr>\n    <tr>\n      <th>1</th>\n      <td>2000-01-04</td>\n      <td>A</td>\n      <td>1.496032</td>\n    </tr>\n    <tr>\n      <th>2</th>\n      <td>2000-01-05</td>\n      <td>A</td>\n      <td>-0.537587</td>\n    </tr>\n    <tr>\n      <th>3</th>\n      <td>2000-01-03</td>\n      <td>B</td>\n      <td>-1.185259</td>\n    </tr>\n    <tr>\n      <th>4</th>\n      <td>2000-01-04</td>\n      <td>B</td>\n      <td>-0.819760</td>\n    </tr>\n    <tr>\n      <th>5</th>\n      <td>2000-01-05</td>\n      <td>B</td>\n      <td>1.586029</td>\n    </tr>\n    <tr>\n      <th>6</th>\n      <td>2000-01-03</td>\n      <td>C</td>\n      <td>-0.757629</td>\n    </tr>\n    <tr>\n      <th>7</th>\n      <td>2000-01-04</td>\n      <td>C</td>\n      <td>-3.093847</td>\n    </tr>\n    <tr>\n      <th>8</th>\n      <td>2000-01-05</td>\n      <td>C</td>\n      <td>0.223290</td>\n    </tr>\n    <tr>\n      <th>9</th>\n      <td>2000-01-03</td>\n      <td>D</td>\n      <td>-0.089609</td>\n    </tr>\n    <tr>\n      <th>10</th>\n      <td>2000-01-04</td>\n      <td>D</td>\n      <td>-0.042019</td>\n    </tr>\n    <tr>\n      <th>11</th>\n      <td>2000-01-05</td>\n      <td>D</td>\n      <td>1.034959</td>\n    </tr>\n  </tbody>\n</table>\n</div>"
     },
     "execution_count": 1,
     "metadata": {},
     "output_type": "execute_result"
    }
   ],
   "source": [
    "import numpy as np\n",
    "import pandas as pd\n",
    "import pandas._testing as tm\n",
    "\n",
    "tm.N = 3\n",
    "\n",
    "\n",
    "def unpivot(frame):\n",
    "    N, K = frame.shape\n",
    "    data = {'value': frame.to_numpy().ravel('F'),\n",
    "            'variable': np.asarray(frame.columns).repeat(N),\n",
    "            'date': np.tile(np.asarray(frame.index), K)}\n",
    "    return pd.DataFrame(data, columns=['date', 'variable', 'value'])\n",
    "\n",
    "\n",
    "df = unpivot(tm.makeTimeDataFrame())\n",
    "df\n"
   ],
   "metadata": {
    "collapsed": false,
    "pycharm": {
     "name": "#%%\n"
    }
   }
  },
  {
   "cell_type": "code",
   "execution_count": 2,
   "outputs": [
    {
     "data": {
      "text/plain": "        date variable     value\n0 2000-01-03        A -0.703408\n1 2000-01-04        A  1.496032\n2 2000-01-05        A -0.537587",
      "text/html": "<div>\n<style scoped>\n    .dataframe tbody tr th:only-of-type {\n        vertical-align: middle;\n    }\n\n    .dataframe tbody tr th {\n        vertical-align: top;\n    }\n\n    .dataframe thead th {\n        text-align: right;\n    }\n</style>\n<table border=\"1\" class=\"dataframe\">\n  <thead>\n    <tr style=\"text-align: right;\">\n      <th></th>\n      <th>date</th>\n      <th>variable</th>\n      <th>value</th>\n    </tr>\n  </thead>\n  <tbody>\n    <tr>\n      <th>0</th>\n      <td>2000-01-03</td>\n      <td>A</td>\n      <td>-0.703408</td>\n    </tr>\n    <tr>\n      <th>1</th>\n      <td>2000-01-04</td>\n      <td>A</td>\n      <td>1.496032</td>\n    </tr>\n    <tr>\n      <th>2</th>\n      <td>2000-01-05</td>\n      <td>A</td>\n      <td>-0.537587</td>\n    </tr>\n  </tbody>\n</table>\n</div>"
     },
     "execution_count": 2,
     "metadata": {},
     "output_type": "execute_result"
    }
   ],
   "source": [
    "df[df['variable'] == 'A']\n",
    "\n"
   ],
   "metadata": {
    "collapsed": false,
    "pycharm": {
     "name": "#%%\n"
    }
   }
  },
  {
   "cell_type": "code",
   "execution_count": 3,
   "outputs": [
    {
     "data": {
      "text/plain": "variable           A         B         C         D\ndate                                              \n2000-01-03 -0.703408 -1.185259 -0.757629 -0.089609\n2000-01-04  1.496032 -0.819760 -3.093847 -0.042019\n2000-01-05 -0.537587  1.586029  0.223290  1.034959",
      "text/html": "<div>\n<style scoped>\n    .dataframe tbody tr th:only-of-type {\n        vertical-align: middle;\n    }\n\n    .dataframe tbody tr th {\n        vertical-align: top;\n    }\n\n    .dataframe thead th {\n        text-align: right;\n    }\n</style>\n<table border=\"1\" class=\"dataframe\">\n  <thead>\n    <tr style=\"text-align: right;\">\n      <th>variable</th>\n      <th>A</th>\n      <th>B</th>\n      <th>C</th>\n      <th>D</th>\n    </tr>\n    <tr>\n      <th>date</th>\n      <th></th>\n      <th></th>\n      <th></th>\n      <th></th>\n    </tr>\n  </thead>\n  <tbody>\n    <tr>\n      <th>2000-01-03</th>\n      <td>-0.703408</td>\n      <td>-1.185259</td>\n      <td>-0.757629</td>\n      <td>-0.089609</td>\n    </tr>\n    <tr>\n      <th>2000-01-04</th>\n      <td>1.496032</td>\n      <td>-0.819760</td>\n      <td>-3.093847</td>\n      <td>-0.042019</td>\n    </tr>\n    <tr>\n      <th>2000-01-05</th>\n      <td>-0.537587</td>\n      <td>1.586029</td>\n      <td>0.223290</td>\n      <td>1.034959</td>\n    </tr>\n  </tbody>\n</table>\n</div>"
     },
     "execution_count": 3,
     "metadata": {},
     "output_type": "execute_result"
    }
   ],
   "source": [
    "df.pivot(index='date', columns='variable', values='value')\n",
    "\n"
   ],
   "metadata": {
    "collapsed": false,
    "pycharm": {
     "name": "#%%\n"
    }
   }
  },
  {
   "cell_type": "code",
   "execution_count": 6,
   "outputs": [
    {
     "data": {
      "text/plain": "               value                                  value2            \\\nvariable           A         B         C         D         A         B   \ndate                                                                     \n2000-01-03 -0.703408 -1.185259 -0.757629 -0.089609 -1.406816 -2.370518   \n2000-01-04  1.496032 -0.819760 -3.093847 -0.042019  2.992063 -1.639520   \n2000-01-05 -0.537587  1.586029  0.223290  1.034959 -1.075175  3.172058   \n\n                                \nvariable           C         D  \ndate                            \n2000-01-03 -1.515257 -0.179219  \n2000-01-04 -6.187693 -0.084038  \n2000-01-05  0.446580  2.069918  ",
      "text/html": "<div>\n<style scoped>\n    .dataframe tbody tr th:only-of-type {\n        vertical-align: middle;\n    }\n\n    .dataframe tbody tr th {\n        vertical-align: top;\n    }\n\n    .dataframe thead tr th {\n        text-align: left;\n    }\n\n    .dataframe thead tr:last-of-type th {\n        text-align: right;\n    }\n</style>\n<table border=\"1\" class=\"dataframe\">\n  <thead>\n    <tr>\n      <th></th>\n      <th colspan=\"4\" halign=\"left\">value</th>\n      <th colspan=\"4\" halign=\"left\">value2</th>\n    </tr>\n    <tr>\n      <th>variable</th>\n      <th>A</th>\n      <th>B</th>\n      <th>C</th>\n      <th>D</th>\n      <th>A</th>\n      <th>B</th>\n      <th>C</th>\n      <th>D</th>\n    </tr>\n    <tr>\n      <th>date</th>\n      <th></th>\n      <th></th>\n      <th></th>\n      <th></th>\n      <th></th>\n      <th></th>\n      <th></th>\n      <th></th>\n    </tr>\n  </thead>\n  <tbody>\n    <tr>\n      <th>2000-01-03</th>\n      <td>-0.703408</td>\n      <td>-1.185259</td>\n      <td>-0.757629</td>\n      <td>-0.089609</td>\n      <td>-1.406816</td>\n      <td>-2.370518</td>\n      <td>-1.515257</td>\n      <td>-0.179219</td>\n    </tr>\n    <tr>\n      <th>2000-01-04</th>\n      <td>1.496032</td>\n      <td>-0.819760</td>\n      <td>-3.093847</td>\n      <td>-0.042019</td>\n      <td>2.992063</td>\n      <td>-1.639520</td>\n      <td>-6.187693</td>\n      <td>-0.084038</td>\n    </tr>\n    <tr>\n      <th>2000-01-05</th>\n      <td>-0.537587</td>\n      <td>1.586029</td>\n      <td>0.223290</td>\n      <td>1.034959</td>\n      <td>-1.075175</td>\n      <td>3.172058</td>\n      <td>0.446580</td>\n      <td>2.069918</td>\n    </tr>\n  </tbody>\n</table>\n</div>"
     },
     "execution_count": 6,
     "metadata": {},
     "output_type": "execute_result"
    }
   ],
   "source": [
    "df['value2'] = df['value'] * 2\n",
    "pivoted = df.pivot(index='date', columns='variable')\n",
    "pivoted"
   ],
   "metadata": {
    "collapsed": false,
    "pycharm": {
     "name": "#%%\n"
    }
   }
  },
  {
   "cell_type": "code",
   "execution_count": 7,
   "outputs": [
    {
     "data": {
      "text/plain": "variable           A         B         C         D\ndate                                              \n2000-01-03 -1.406816 -2.370518 -1.515257 -0.179219\n2000-01-04  2.992063 -1.639520 -6.187693 -0.084038\n2000-01-05 -1.075175  3.172058  0.446580  2.069918",
      "text/html": "<div>\n<style scoped>\n    .dataframe tbody tr th:only-of-type {\n        vertical-align: middle;\n    }\n\n    .dataframe tbody tr th {\n        vertical-align: top;\n    }\n\n    .dataframe thead th {\n        text-align: right;\n    }\n</style>\n<table border=\"1\" class=\"dataframe\">\n  <thead>\n    <tr style=\"text-align: right;\">\n      <th>variable</th>\n      <th>A</th>\n      <th>B</th>\n      <th>C</th>\n      <th>D</th>\n    </tr>\n    <tr>\n      <th>date</th>\n      <th></th>\n      <th></th>\n      <th></th>\n      <th></th>\n    </tr>\n  </thead>\n  <tbody>\n    <tr>\n      <th>2000-01-03</th>\n      <td>-1.406816</td>\n      <td>-2.370518</td>\n      <td>-1.515257</td>\n      <td>-0.179219</td>\n    </tr>\n    <tr>\n      <th>2000-01-04</th>\n      <td>2.992063</td>\n      <td>-1.639520</td>\n      <td>-6.187693</td>\n      <td>-0.084038</td>\n    </tr>\n    <tr>\n      <th>2000-01-05</th>\n      <td>-1.075175</td>\n      <td>3.172058</td>\n      <td>0.446580</td>\n      <td>2.069918</td>\n    </tr>\n  </tbody>\n</table>\n</div>"
     },
     "execution_count": 7,
     "metadata": {},
     "output_type": "execute_result"
    }
   ],
   "source": [
    "pivoted['value2']\n",
    "\n"
   ],
   "metadata": {
    "collapsed": false,
    "pycharm": {
     "name": "#%%\n"
    }
   }
  },
  {
   "cell_type": "code",
   "execution_count": 8,
   "outputs": [
    {
     "data": {
      "text/plain": "                     A         B\nfirst second                    \nbar   one    -0.531511 -1.345879\n      two     0.990284  0.305882\nbaz   one    -2.017711 -1.666749\n      two    -0.449767 -0.055501",
      "text/html": "<div>\n<style scoped>\n    .dataframe tbody tr th:only-of-type {\n        vertical-align: middle;\n    }\n\n    .dataframe tbody tr th {\n        vertical-align: top;\n    }\n\n    .dataframe thead th {\n        text-align: right;\n    }\n</style>\n<table border=\"1\" class=\"dataframe\">\n  <thead>\n    <tr style=\"text-align: right;\">\n      <th></th>\n      <th></th>\n      <th>A</th>\n      <th>B</th>\n    </tr>\n    <tr>\n      <th>first</th>\n      <th>second</th>\n      <th></th>\n      <th></th>\n    </tr>\n  </thead>\n  <tbody>\n    <tr>\n      <th rowspan=\"2\" valign=\"top\">bar</th>\n      <th>one</th>\n      <td>-0.531511</td>\n      <td>-1.345879</td>\n    </tr>\n    <tr>\n      <th>two</th>\n      <td>0.990284</td>\n      <td>0.305882</td>\n    </tr>\n    <tr>\n      <th rowspan=\"2\" valign=\"top\">baz</th>\n      <th>one</th>\n      <td>-2.017711</td>\n      <td>-1.666749</td>\n    </tr>\n    <tr>\n      <th>two</th>\n      <td>-0.449767</td>\n      <td>-0.055501</td>\n    </tr>\n  </tbody>\n</table>\n</div>"
     },
     "execution_count": 8,
     "metadata": {},
     "output_type": "execute_result"
    }
   ],
   "source": [
    "tuples = list(zip(*[['bar', 'bar', 'baz', 'baz',\n",
    "                     'foo', 'foo', 'qux', 'qux'],\n",
    "                    ['one', 'two', 'one', 'two',\n",
    "                     'one', 'two', 'one', 'two']]))\n",
    "\n",
    "\n",
    "index = pd.MultiIndex.from_tuples(tuples, names=['first', 'second'])\n",
    "\n",
    "df = pd.DataFrame(np.random.randn(8, 2), index=index, columns=['A', 'B'])\n",
    "\n",
    "df2 = df[:4]\n",
    "\n",
    "df2"
   ],
   "metadata": {
    "collapsed": false,
    "pycharm": {
     "name": "#%%\n"
    }
   }
  },
  {
   "cell_type": "code",
   "execution_count": 9,
   "outputs": [
    {
     "data": {
      "text/plain": "first  second   \nbar    one     A   -0.531511\n               B   -1.345879\n       two     A    0.990284\n               B    0.305882\nbaz    one     A   -2.017711\n               B   -1.666749\n       two     A   -0.449767\n               B   -0.055501\ndtype: float64"
     },
     "execution_count": 9,
     "metadata": {},
     "output_type": "execute_result"
    }
   ],
   "source": [
    "stacked = df2.stack()\n",
    "stacked\n"
   ],
   "metadata": {
    "collapsed": false,
    "pycharm": {
     "name": "#%%\n"
    }
   }
  },
  {
   "cell_type": "code",
   "execution_count": 10,
   "outputs": [
    {
     "data": {
      "text/plain": "                     A         B\nfirst second                    \nbar   one    -0.531511 -1.345879\n      two     0.990284  0.305882\nbaz   one    -2.017711 -1.666749\n      two    -0.449767 -0.055501",
      "text/html": "<div>\n<style scoped>\n    .dataframe tbody tr th:only-of-type {\n        vertical-align: middle;\n    }\n\n    .dataframe tbody tr th {\n        vertical-align: top;\n    }\n\n    .dataframe thead th {\n        text-align: right;\n    }\n</style>\n<table border=\"1\" class=\"dataframe\">\n  <thead>\n    <tr style=\"text-align: right;\">\n      <th></th>\n      <th></th>\n      <th>A</th>\n      <th>B</th>\n    </tr>\n    <tr>\n      <th>first</th>\n      <th>second</th>\n      <th></th>\n      <th></th>\n    </tr>\n  </thead>\n  <tbody>\n    <tr>\n      <th rowspan=\"2\" valign=\"top\">bar</th>\n      <th>one</th>\n      <td>-0.531511</td>\n      <td>-1.345879</td>\n    </tr>\n    <tr>\n      <th>two</th>\n      <td>0.990284</td>\n      <td>0.305882</td>\n    </tr>\n    <tr>\n      <th rowspan=\"2\" valign=\"top\">baz</th>\n      <th>one</th>\n      <td>-2.017711</td>\n      <td>-1.666749</td>\n    </tr>\n    <tr>\n      <th>two</th>\n      <td>-0.449767</td>\n      <td>-0.055501</td>\n    </tr>\n  </tbody>\n</table>\n</div>"
     },
     "execution_count": 10,
     "metadata": {},
     "output_type": "execute_result"
    }
   ],
   "source": [
    "stacked.unstack()\n",
    "\n"
   ],
   "metadata": {
    "collapsed": false,
    "pycharm": {
     "name": "#%%\n"
    }
   }
  },
  {
   "cell_type": "code",
   "execution_count": 11,
   "outputs": [
    {
     "data": {
      "text/plain": "second        one       two\nfirst                      \nbar   A -0.531511  0.990284\n      B -1.345879  0.305882\nbaz   A -2.017711 -0.449767\n      B -1.666749 -0.055501",
      "text/html": "<div>\n<style scoped>\n    .dataframe tbody tr th:only-of-type {\n        vertical-align: middle;\n    }\n\n    .dataframe tbody tr th {\n        vertical-align: top;\n    }\n\n    .dataframe thead th {\n        text-align: right;\n    }\n</style>\n<table border=\"1\" class=\"dataframe\">\n  <thead>\n    <tr style=\"text-align: right;\">\n      <th></th>\n      <th>second</th>\n      <th>one</th>\n      <th>two</th>\n    </tr>\n    <tr>\n      <th>first</th>\n      <th></th>\n      <th></th>\n      <th></th>\n    </tr>\n  </thead>\n  <tbody>\n    <tr>\n      <th rowspan=\"2\" valign=\"top\">bar</th>\n      <th>A</th>\n      <td>-0.531511</td>\n      <td>0.990284</td>\n    </tr>\n    <tr>\n      <th>B</th>\n      <td>-1.345879</td>\n      <td>0.305882</td>\n    </tr>\n    <tr>\n      <th rowspan=\"2\" valign=\"top\">baz</th>\n      <th>A</th>\n      <td>-2.017711</td>\n      <td>-0.449767</td>\n    </tr>\n    <tr>\n      <th>B</th>\n      <td>-1.666749</td>\n      <td>-0.055501</td>\n    </tr>\n  </tbody>\n</table>\n</div>"
     },
     "execution_count": 11,
     "metadata": {},
     "output_type": "execute_result"
    }
   ],
   "source": [
    "stacked.unstack(1)\n",
    "\n"
   ],
   "metadata": {
    "collapsed": false,
    "pycharm": {
     "name": "#%%\n"
    }
   }
  },
  {
   "cell_type": "code",
   "execution_count": 12,
   "outputs": [
    {
     "data": {
      "text/plain": "first          bar       baz\nsecond                      \none    A -0.531511 -2.017711\n       B -1.345879 -1.666749\ntwo    A  0.990284 -0.449767\n       B  0.305882 -0.055501",
      "text/html": "<div>\n<style scoped>\n    .dataframe tbody tr th:only-of-type {\n        vertical-align: middle;\n    }\n\n    .dataframe tbody tr th {\n        vertical-align: top;\n    }\n\n    .dataframe thead th {\n        text-align: right;\n    }\n</style>\n<table border=\"1\" class=\"dataframe\">\n  <thead>\n    <tr style=\"text-align: right;\">\n      <th></th>\n      <th>first</th>\n      <th>bar</th>\n      <th>baz</th>\n    </tr>\n    <tr>\n      <th>second</th>\n      <th></th>\n      <th></th>\n      <th></th>\n    </tr>\n  </thead>\n  <tbody>\n    <tr>\n      <th rowspan=\"2\" valign=\"top\">one</th>\n      <th>A</th>\n      <td>-0.531511</td>\n      <td>-2.017711</td>\n    </tr>\n    <tr>\n      <th>B</th>\n      <td>-1.345879</td>\n      <td>-1.666749</td>\n    </tr>\n    <tr>\n      <th rowspan=\"2\" valign=\"top\">two</th>\n      <th>A</th>\n      <td>0.990284</td>\n      <td>-0.449767</td>\n    </tr>\n    <tr>\n      <th>B</th>\n      <td>0.305882</td>\n      <td>-0.055501</td>\n    </tr>\n  </tbody>\n</table>\n</div>"
     },
     "execution_count": 12,
     "metadata": {},
     "output_type": "execute_result"
    }
   ],
   "source": [
    "stacked.unstack(0)\n",
    "\n"
   ],
   "metadata": {
    "collapsed": false,
    "pycharm": {
     "name": "#%%\n"
    }
   }
  }
 ],
 "metadata": {
  "kernelspec": {
   "display_name": "Python 3",
   "language": "python",
   "name": "python3"
  },
  "language_info": {
   "codemirror_mode": {
    "name": "ipython",
    "version": 2
   },
   "file_extension": ".py",
   "mimetype": "text/x-python",
   "name": "python",
   "nbconvert_exporter": "python",
   "pygments_lexer": "ipython2",
   "version": "2.7.6"
  }
 },
 "nbformat": 4,
 "nbformat_minor": 0
}