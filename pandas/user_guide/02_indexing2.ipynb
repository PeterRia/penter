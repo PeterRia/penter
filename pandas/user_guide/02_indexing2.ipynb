{
 "cells": [
  {
   "cell_type": "code",
   "execution_count": 2,
   "metadata": {
    "collapsed": true
   },
   "outputs": [
    {
     "data": {
      "text/plain": "(4    0\n 3    1\n 2    2\n 1    3\n 0    4\n dtype: int64,\n 4    False\n 3    False\n 2     True\n 1    False\n 0     True\n dtype: bool,\n 2    2\n 0    4\n dtype: int64,\n 4    0\n 2    2\n dtype: int64,\n 2    2.0\n 4    0.0\n 6    NaN\n dtype: float64)"
     },
     "execution_count": 2,
     "metadata": {},
     "output_type": "execute_result"
    }
   ],
   "source": [
    "import numpy as np\n",
    "import pandas as pd\n",
    "\"\"\"\n",
    "考虑一下Series的isin()方法，它将返回一个布尔向量，该向量在传递的列表中存在Series元素的任何地方都为真。这允许您选择具有所需值的一列或多列的行\n",
    "\"\"\"\n",
    "\n",
    "s = pd.Series(np.arange(5), index=np.arange(5)[::-1], dtype='int64')\n",
    "s,s.isin([2, 4, 6]),\\\n",
    "s[s.isin([2, 4, 6])],s[s.index.isin([2, 4, 6])],\\\n",
    "    s.reindex([2, 4, 6])"
   ]
  },
  {
   "cell_type": "code",
   "execution_count": 3,
   "outputs": [
    {
     "data": {
      "text/plain": "(0  a    0\n    b    1\n    c    2\n 1  a    3\n    b    4\n    c    5\n dtype: int32,\n 0  c    2\n 1  a    3\n dtype: int32,\n 0  a    0\n    c    2\n 1  a    3\n    c    5\n dtype: int32)"
     },
     "execution_count": 3,
     "metadata": {},
     "output_type": "execute_result"
    }
   ],
   "source": [
    "s_mi = pd.Series(np.arange(6),\n",
    "                index=pd.MultiIndex.from_product([[0, 1], ['a', 'b', 'c']]))\n",
    "s_mi,\\\n",
    "s_mi.iloc[s_mi.index.isin([(1, 'a'), (2, 'b'), (0, 'c')])],\\\n",
    "s_mi.iloc[s_mi.index.isin(['a', 'c', 'e'], level=1)]"
   ],
   "metadata": {
    "collapsed": false,
    "pycharm": {
     "name": "#%%\n"
    }
   }
  },
  {
   "cell_type": "code",
   "execution_count": 8,
   "outputs": [
    {
     "data": {
      "text/plain": "(   vals ids ids2\n 0     1   a    a\n 1     2   b    n\n 2     3   f    c\n 3     4   n    n,\n     vals    ids   ids2\n 0   True   True   True\n 1  False   True  False\n 2   True  False  False\n 3  False  False  False,\n     vals    ids   ids2\n 0   True   True  False\n 1  False   True  False\n 2   True  False  False\n 3  False  False  False,\n 0     True\n 1    False\n 2    False\n 3    False\n dtype: bool,\n    vals ids ids2\n 0     1   a    a)"
     },
     "execution_count": 8,
     "metadata": {},
     "output_type": "execute_result"
    }
   ],
   "source": [
    "df = pd.DataFrame({'vals': [1, 2, 3, 4], 'ids': ['a', 'b', 'f', 'n'],\n",
    "                   'ids2': ['a', 'n', 'c', 'n']})\n",
    "values = ['a', 'b', 1, 3]\n",
    "values2 = {'ids': ['a', 'b'], 'vals': [1, 3]}\n",
    "values3 = {'ids': ['a', 'b'], 'ids2': ['a', 'c'], 'vals': [1, 3]}\n",
    "row_mask = df.isin(values3).all(1)\n",
    "\n",
    "df,\\\n",
    "df.isin(values),\\\n",
    "df.isin(values2),\\\n",
    "row_mask,df[row_mask]"
   ],
   "metadata": {
    "collapsed": false,
    "pycharm": {
     "name": "#%%\n"
    }
   }
  },
  {
   "cell_type": "code",
   "execution_count": 10,
   "outputs": [
    {
     "data": {
      "text/plain": "(4    0\n 3    1\n 2    2\n 1    3\n 0    4\n dtype: int64,\n 3    1\n 2    2\n 1    3\n 0    4\n dtype: int64)"
     },
     "execution_count": 10,
     "metadata": {},
     "output_type": "execute_result"
    }
   ],
   "source": [
    "\"\"\"\n",
    "从具有布尔向量的序列中选择值通常返回数据的一个子集。\n",
    "为了保证选择输出与原始数据具有相同的形状，可以使用Series和DataFrame中的where方法。\n",
    "\"\"\"\n",
    "# 只返回选定的行\n",
    "s,s[s > 0]"
   ],
   "metadata": {
    "collapsed": false,
    "pycharm": {
     "name": "#%%\n"
    }
   }
  },
  {
   "cell_type": "code",
   "execution_count": 11,
   "outputs": [
    {
     "data": {
      "text/plain": "4    NaN\n3    1.0\n2    2.0\n1    3.0\n0    4.0\ndtype: float64"
     },
     "execution_count": 11,
     "metadata": {},
     "output_type": "execute_result"
    }
   ],
   "source": [
    "# 返回与原来形状相同的Series\n",
    "s.where(s > 0)\n"
   ],
   "metadata": {
    "collapsed": false,
    "pycharm": {
     "name": "#%%\n"
    }
   }
  },
  {
   "cell_type": "code",
   "execution_count": 15,
   "outputs": [
    {
     "data": {
      "text/plain": "(                   A         B         C         D\n 2000-01-01 -1.088828 -1.421502 -0.154838 -1.066516\n 2000-01-02  0.292622 -0.359705  1.212527 -0.633952\n 2000-01-03 -0.107601 -0.595376  0.540223 -0.112642\n 2000-01-04  0.511914  0.495642 -0.434515  1.569236\n 2000-01-05  0.002502  2.895359 -0.434244  0.619257\n 2000-01-06 -1.388348 -0.136133  0.207910  0.099768\n 2000-01-07 -2.137419  0.908968 -0.859641 -0.564609\n 2000-01-08 -0.218836  0.557736  0.709825 -0.179393,\n                    A         B         C         D\n 2000-01-01 -1.088828 -1.421502 -0.154838 -1.066516\n 2000-01-02       NaN -0.359705       NaN -0.633952\n 2000-01-03 -0.107601 -0.595376       NaN -0.112642\n 2000-01-04       NaN       NaN -0.434515       NaN\n 2000-01-05       NaN       NaN -0.434244       NaN\n 2000-01-06 -1.388348 -0.136133       NaN       NaN\n 2000-01-07 -2.137419       NaN -0.859641 -0.564609\n 2000-01-08 -0.218836       NaN       NaN -0.179393,\n                    A         B         C         D\n 2000-01-01 -1.088828 -1.421502 -0.154838 -1.066516\n 2000-01-02       NaN -0.359705       NaN -0.633952\n 2000-01-03 -0.107601 -0.595376       NaN -0.112642\n 2000-01-04       NaN       NaN -0.434515       NaN\n 2000-01-05       NaN       NaN -0.434244       NaN\n 2000-01-06 -1.388348 -0.136133       NaN       NaN\n 2000-01-07 -2.137419       NaN -0.859641 -0.564609\n 2000-01-08 -0.218836       NaN       NaN -0.179393)"
     },
     "execution_count": 15,
     "metadata": {},
     "output_type": "execute_result"
    }
   ],
   "source": [
    "dates = pd.date_range('1/1/2000', periods=8)\n",
    "\n",
    "df = pd.DataFrame(np.random.randn(8, 4),\n",
    "                 index=dates, columns=['A', 'B', 'C', 'D'])\n",
    "\n",
    "# 两者相同\n",
    "df,df[df < 0],df.where(df < 0)\n"
   ],
   "metadata": {
    "collapsed": false,
    "pycharm": {
     "name": "#%%\n"
    }
   }
  },
  {
   "cell_type": "code",
   "execution_count": 16,
   "outputs": [
    {
     "data": {
      "text/plain": "                   A         B         C         D\n2000-01-01 -1.088828 -1.421502 -0.154838 -1.066516\n2000-01-02 -0.292622 -0.359705 -1.212527 -0.633952\n2000-01-03 -0.107601 -0.595376 -0.540223 -0.112642\n2000-01-04 -0.511914 -0.495642 -0.434515 -1.569236\n2000-01-05 -0.002502 -2.895359 -0.434244 -0.619257\n2000-01-06 -1.388348 -0.136133 -0.207910 -0.099768\n2000-01-07 -2.137419 -0.908968 -0.859641 -0.564609\n2000-01-08 -0.218836 -0.557736 -0.709825 -0.179393",
      "text/html": "<div>\n<style scoped>\n    .dataframe tbody tr th:only-of-type {\n        vertical-align: middle;\n    }\n\n    .dataframe tbody tr th {\n        vertical-align: top;\n    }\n\n    .dataframe thead th {\n        text-align: right;\n    }\n</style>\n<table border=\"1\" class=\"dataframe\">\n  <thead>\n    <tr style=\"text-align: right;\">\n      <th></th>\n      <th>A</th>\n      <th>B</th>\n      <th>C</th>\n      <th>D</th>\n    </tr>\n  </thead>\n  <tbody>\n    <tr>\n      <th>2000-01-01</th>\n      <td>-1.088828</td>\n      <td>-1.421502</td>\n      <td>-0.154838</td>\n      <td>-1.066516</td>\n    </tr>\n    <tr>\n      <th>2000-01-02</th>\n      <td>-0.292622</td>\n      <td>-0.359705</td>\n      <td>-1.212527</td>\n      <td>-0.633952</td>\n    </tr>\n    <tr>\n      <th>2000-01-03</th>\n      <td>-0.107601</td>\n      <td>-0.595376</td>\n      <td>-0.540223</td>\n      <td>-0.112642</td>\n    </tr>\n    <tr>\n      <th>2000-01-04</th>\n      <td>-0.511914</td>\n      <td>-0.495642</td>\n      <td>-0.434515</td>\n      <td>-1.569236</td>\n    </tr>\n    <tr>\n      <th>2000-01-05</th>\n      <td>-0.002502</td>\n      <td>-2.895359</td>\n      <td>-0.434244</td>\n      <td>-0.619257</td>\n    </tr>\n    <tr>\n      <th>2000-01-06</th>\n      <td>-1.388348</td>\n      <td>-0.136133</td>\n      <td>-0.207910</td>\n      <td>-0.099768</td>\n    </tr>\n    <tr>\n      <th>2000-01-07</th>\n      <td>-2.137419</td>\n      <td>-0.908968</td>\n      <td>-0.859641</td>\n      <td>-0.564609</td>\n    </tr>\n    <tr>\n      <th>2000-01-08</th>\n      <td>-0.218836</td>\n      <td>-0.557736</td>\n      <td>-0.709825</td>\n      <td>-0.179393</td>\n    </tr>\n  </tbody>\n</table>\n</div>"
     },
     "execution_count": 16,
     "metadata": {},
     "output_type": "execute_result"
    }
   ],
   "source": [
    "# 此外，where接受一个可选的其他参数，用于替换返回副本中条件为假的值。\n",
    "df.where(df < 0, -df)\n"
   ],
   "metadata": {
    "collapsed": false,
    "pycharm": {
     "name": "#%%\n"
    }
   }
  },
  {
   "cell_type": "code",
   "execution_count": 17,
   "outputs": [
    {
     "data": {
      "text/plain": "4    0\n3    1\n2    2\n1    3\n0    4\ndtype: int64"
     },
     "execution_count": 17,
     "metadata": {},
     "output_type": "execute_result"
    }
   ],
   "source": [
    "s2 = s.copy()\n",
    "s2[s2 < 0] = 0\n",
    "s2"
   ],
   "metadata": {
    "collapsed": false,
    "pycharm": {
     "name": "#%%\n"
    }
   }
  },
  {
   "cell_type": "code",
   "execution_count": 18,
   "outputs": [
    {
     "data": {
      "text/plain": "                   A         B         C         D\n2000-01-01  0.000000  0.000000  0.000000  0.000000\n2000-01-02  0.292622  0.000000  1.212527  0.000000\n2000-01-03  0.000000  0.000000  0.540223  0.000000\n2000-01-04  0.511914  0.495642  0.000000  1.569236\n2000-01-05  0.002502  2.895359  0.000000  0.619257\n2000-01-06  0.000000  0.000000  0.207910  0.099768\n2000-01-07  0.000000  0.908968  0.000000  0.000000\n2000-01-08  0.000000  0.557736  0.709825  0.000000",
      "text/html": "<div>\n<style scoped>\n    .dataframe tbody tr th:only-of-type {\n        vertical-align: middle;\n    }\n\n    .dataframe tbody tr th {\n        vertical-align: top;\n    }\n\n    .dataframe thead th {\n        text-align: right;\n    }\n</style>\n<table border=\"1\" class=\"dataframe\">\n  <thead>\n    <tr style=\"text-align: right;\">\n      <th></th>\n      <th>A</th>\n      <th>B</th>\n      <th>C</th>\n      <th>D</th>\n    </tr>\n  </thead>\n  <tbody>\n    <tr>\n      <th>2000-01-01</th>\n      <td>0.000000</td>\n      <td>0.000000</td>\n      <td>0.000000</td>\n      <td>0.000000</td>\n    </tr>\n    <tr>\n      <th>2000-01-02</th>\n      <td>0.292622</td>\n      <td>0.000000</td>\n      <td>1.212527</td>\n      <td>0.000000</td>\n    </tr>\n    <tr>\n      <th>2000-01-03</th>\n      <td>0.000000</td>\n      <td>0.000000</td>\n      <td>0.540223</td>\n      <td>0.000000</td>\n    </tr>\n    <tr>\n      <th>2000-01-04</th>\n      <td>0.511914</td>\n      <td>0.495642</td>\n      <td>0.000000</td>\n      <td>1.569236</td>\n    </tr>\n    <tr>\n      <th>2000-01-05</th>\n      <td>0.002502</td>\n      <td>2.895359</td>\n      <td>0.000000</td>\n      <td>0.619257</td>\n    </tr>\n    <tr>\n      <th>2000-01-06</th>\n      <td>0.000000</td>\n      <td>0.000000</td>\n      <td>0.207910</td>\n      <td>0.099768</td>\n    </tr>\n    <tr>\n      <th>2000-01-07</th>\n      <td>0.000000</td>\n      <td>0.908968</td>\n      <td>0.000000</td>\n      <td>0.000000</td>\n    </tr>\n    <tr>\n      <th>2000-01-08</th>\n      <td>0.000000</td>\n      <td>0.557736</td>\n      <td>0.709825</td>\n      <td>0.000000</td>\n    </tr>\n  </tbody>\n</table>\n</div>"
     },
     "execution_count": 18,
     "metadata": {},
     "output_type": "execute_result"
    }
   ],
   "source": [
    "df2 = df.copy()\n",
    "df2[df2 < 0] = 0\n",
    "df2\n"
   ],
   "metadata": {
    "collapsed": false,
    "pycharm": {
     "name": "#%%\n"
    }
   }
  },
  {
   "cell_type": "code",
   "execution_count": 19,
   "outputs": [
    {
     "data": {
      "text/plain": "                   A         B         C         D\n2000-01-01  1.088828  1.421502  0.154838  1.066516\n2000-01-02  0.292622  0.359705  1.212527  0.633952\n2000-01-03  0.107601  0.595376  0.540223  0.112642\n2000-01-04  0.511914  0.495642  0.434515  1.569236\n2000-01-05  0.002502  2.895359  0.434244  0.619257\n2000-01-06  1.388348  0.136133  0.207910  0.099768\n2000-01-07  2.137419  0.908968  0.859641  0.564609\n2000-01-08  0.218836  0.557736  0.709825  0.179393",
      "text/html": "<div>\n<style scoped>\n    .dataframe tbody tr th:only-of-type {\n        vertical-align: middle;\n    }\n\n    .dataframe tbody tr th {\n        vertical-align: top;\n    }\n\n    .dataframe thead th {\n        text-align: right;\n    }\n</style>\n<table border=\"1\" class=\"dataframe\">\n  <thead>\n    <tr style=\"text-align: right;\">\n      <th></th>\n      <th>A</th>\n      <th>B</th>\n      <th>C</th>\n      <th>D</th>\n    </tr>\n  </thead>\n  <tbody>\n    <tr>\n      <th>2000-01-01</th>\n      <td>1.088828</td>\n      <td>1.421502</td>\n      <td>0.154838</td>\n      <td>1.066516</td>\n    </tr>\n    <tr>\n      <th>2000-01-02</th>\n      <td>0.292622</td>\n      <td>0.359705</td>\n      <td>1.212527</td>\n      <td>0.633952</td>\n    </tr>\n    <tr>\n      <th>2000-01-03</th>\n      <td>0.107601</td>\n      <td>0.595376</td>\n      <td>0.540223</td>\n      <td>0.112642</td>\n    </tr>\n    <tr>\n      <th>2000-01-04</th>\n      <td>0.511914</td>\n      <td>0.495642</td>\n      <td>0.434515</td>\n      <td>1.569236</td>\n    </tr>\n    <tr>\n      <th>2000-01-05</th>\n      <td>0.002502</td>\n      <td>2.895359</td>\n      <td>0.434244</td>\n      <td>0.619257</td>\n    </tr>\n    <tr>\n      <th>2000-01-06</th>\n      <td>1.388348</td>\n      <td>0.136133</td>\n      <td>0.207910</td>\n      <td>0.099768</td>\n    </tr>\n    <tr>\n      <th>2000-01-07</th>\n      <td>2.137419</td>\n      <td>0.908968</td>\n      <td>0.859641</td>\n      <td>0.564609</td>\n    </tr>\n    <tr>\n      <th>2000-01-08</th>\n      <td>0.218836</td>\n      <td>0.557736</td>\n      <td>0.709825</td>\n      <td>0.179393</td>\n    </tr>\n  </tbody>\n</table>\n</div>"
     },
     "execution_count": 19,
     "metadata": {},
     "output_type": "execute_result"
    }
   ],
   "source": [
    "df_orig = df.copy()\n",
    "# inplace=True 这里有一个可选参数，因此可以修改原始数据而不创建副本\n",
    "df_orig.where(df > 0, -df, inplace=True)\n",
    "df_orig"
   ],
   "metadata": {
    "collapsed": false,
    "pycharm": {
     "name": "#%%\n"
    }
   }
  },
  {
   "cell_type": "code",
   "execution_count": 20,
   "outputs": [
    {
     "data": {
      "text/plain": "               A     B     C     D\n2000-01-01  True  True  True  True\n2000-01-02  True  True  True  True\n2000-01-03  True  True  True  True\n2000-01-04  True  True  True  True\n2000-01-05  True  True  True  True\n2000-01-06  True  True  True  True\n2000-01-07  True  True  True  True\n2000-01-08  True  True  True  True",
      "text/html": "<div>\n<style scoped>\n    .dataframe tbody tr th:only-of-type {\n        vertical-align: middle;\n    }\n\n    .dataframe tbody tr th {\n        vertical-align: top;\n    }\n\n    .dataframe thead th {\n        text-align: right;\n    }\n</style>\n<table border=\"1\" class=\"dataframe\">\n  <thead>\n    <tr style=\"text-align: right;\">\n      <th></th>\n      <th>A</th>\n      <th>B</th>\n      <th>C</th>\n      <th>D</th>\n    </tr>\n  </thead>\n  <tbody>\n    <tr>\n      <th>2000-01-01</th>\n      <td>True</td>\n      <td>True</td>\n      <td>True</td>\n      <td>True</td>\n    </tr>\n    <tr>\n      <th>2000-01-02</th>\n      <td>True</td>\n      <td>True</td>\n      <td>True</td>\n      <td>True</td>\n    </tr>\n    <tr>\n      <th>2000-01-03</th>\n      <td>True</td>\n      <td>True</td>\n      <td>True</td>\n      <td>True</td>\n    </tr>\n    <tr>\n      <th>2000-01-04</th>\n      <td>True</td>\n      <td>True</td>\n      <td>True</td>\n      <td>True</td>\n    </tr>\n    <tr>\n      <th>2000-01-05</th>\n      <td>True</td>\n      <td>True</td>\n      <td>True</td>\n      <td>True</td>\n    </tr>\n    <tr>\n      <th>2000-01-06</th>\n      <td>True</td>\n      <td>True</td>\n      <td>True</td>\n      <td>True</td>\n    </tr>\n    <tr>\n      <th>2000-01-07</th>\n      <td>True</td>\n      <td>True</td>\n      <td>True</td>\n      <td>True</td>\n    </tr>\n    <tr>\n      <th>2000-01-08</th>\n      <td>True</td>\n      <td>True</td>\n      <td>True</td>\n      <td>True</td>\n    </tr>\n  </tbody>\n</table>\n</div>"
     },
     "execution_count": 20,
     "metadata": {},
     "output_type": "execute_result"
    }
   ],
   "source": [
    "df.where(df < 0, -df) == np.where(df < 0, df, -df)\n",
    "\n"
   ],
   "metadata": {
    "collapsed": false,
    "pycharm": {
     "name": "#%%\n"
    }
   }
  },
  {
   "cell_type": "code",
   "execution_count": 21,
   "outputs": [
    {
     "data": {
      "text/plain": "                   A         B         C         D\n2000-01-01 -1.088828 -1.421502 -0.154838 -1.066516\n2000-01-02  3.000000 -0.359705  3.000000 -0.633952\n2000-01-03 -0.107601 -0.595376  3.000000 -0.112642\n2000-01-04  3.000000  3.000000 -0.434515  3.000000\n2000-01-05  0.002502  2.895359 -0.434244  0.619257\n2000-01-06 -1.388348 -0.136133  0.207910  0.099768\n2000-01-07 -2.137419  0.908968 -0.859641 -0.564609\n2000-01-08 -0.218836  0.557736  0.709825 -0.179393",
      "text/html": "<div>\n<style scoped>\n    .dataframe tbody tr th:only-of-type {\n        vertical-align: middle;\n    }\n\n    .dataframe tbody tr th {\n        vertical-align: top;\n    }\n\n    .dataframe thead th {\n        text-align: right;\n    }\n</style>\n<table border=\"1\" class=\"dataframe\">\n  <thead>\n    <tr style=\"text-align: right;\">\n      <th></th>\n      <th>A</th>\n      <th>B</th>\n      <th>C</th>\n      <th>D</th>\n    </tr>\n  </thead>\n  <tbody>\n    <tr>\n      <th>2000-01-01</th>\n      <td>-1.088828</td>\n      <td>-1.421502</td>\n      <td>-0.154838</td>\n      <td>-1.066516</td>\n    </tr>\n    <tr>\n      <th>2000-01-02</th>\n      <td>3.000000</td>\n      <td>-0.359705</td>\n      <td>3.000000</td>\n      <td>-0.633952</td>\n    </tr>\n    <tr>\n      <th>2000-01-03</th>\n      <td>-0.107601</td>\n      <td>-0.595376</td>\n      <td>3.000000</td>\n      <td>-0.112642</td>\n    </tr>\n    <tr>\n      <th>2000-01-04</th>\n      <td>3.000000</td>\n      <td>3.000000</td>\n      <td>-0.434515</td>\n      <td>3.000000</td>\n    </tr>\n    <tr>\n      <th>2000-01-05</th>\n      <td>0.002502</td>\n      <td>2.895359</td>\n      <td>-0.434244</td>\n      <td>0.619257</td>\n    </tr>\n    <tr>\n      <th>2000-01-06</th>\n      <td>-1.388348</td>\n      <td>-0.136133</td>\n      <td>0.207910</td>\n      <td>0.099768</td>\n    </tr>\n    <tr>\n      <th>2000-01-07</th>\n      <td>-2.137419</td>\n      <td>0.908968</td>\n      <td>-0.859641</td>\n      <td>-0.564609</td>\n    </tr>\n    <tr>\n      <th>2000-01-08</th>\n      <td>-0.218836</td>\n      <td>0.557736</td>\n      <td>0.709825</td>\n      <td>-0.179393</td>\n    </tr>\n  </tbody>\n</table>\n</div>"
     },
     "execution_count": 21,
     "metadata": {},
     "output_type": "execute_result"
    }
   ],
   "source": [
    "df2 = df.copy()\n",
    "df2[df2[1:4] > 0] = 3\n",
    "df2"
   ],
   "metadata": {
    "collapsed": false,
    "pycharm": {
     "name": "#%%\n"
    }
   }
  },
  {
   "cell_type": "code",
   "execution_count": 23,
   "outputs": [
    {
     "data": {
      "text/plain": "(                   A         B         C         D\n 2000-01-01 -1.088828 -1.088828 -1.088828 -1.088828\n 2000-01-02  0.292622  0.292622  1.212527  0.292622\n 2000-01-03 -0.107601 -0.107601  0.540223 -0.107601\n 2000-01-04  0.511914  0.495642  0.511914  1.569236\n 2000-01-05  0.002502  2.895359  0.002502  0.619257\n 2000-01-06 -1.388348 -1.388348  0.207910  0.099768\n 2000-01-07 -2.137419  0.908968 -2.137419 -2.137419\n 2000-01-08 -0.218836  0.557736  0.709825 -0.218836,\n                    A         B         C         D\n 2000-01-01 -1.088828 -1.088828 -1.088828 -1.088828\n 2000-01-02  0.292622  0.292622  1.212527  0.292622\n 2000-01-03 -0.107601 -0.107601  0.540223 -0.107601\n 2000-01-04  0.511914  0.495642  0.511914  1.569236\n 2000-01-05  0.002502  2.895359  0.002502  0.619257\n 2000-01-06 -1.388348 -1.388348  0.207910  0.099768\n 2000-01-07 -2.137419  0.908968 -2.137419 -2.137419\n 2000-01-08 -0.218836  0.557736  0.709825 -0.218836)"
     },
     "execution_count": 23,
     "metadata": {},
     "output_type": "execute_result"
    }
   ],
   "source": [
    "df2 = df.copy()\n",
    "# 第一个等效于第二个（但比第二个速度更快）\n",
    "df2.where(df2 > 0, df2['A'], axis='index'),\\\n",
    "     df.apply(lambda x, y: x.where(x > 0, y), y=df['A'])\n"
   ],
   "metadata": {
    "collapsed": false,
    "pycharm": {
     "name": "#%%\n"
    }
   }
  },
  {
   "cell_type": "code",
   "execution_count": 27,
   "outputs": [
    {
     "data": {
      "text/plain": "(   A  B  C\n 0  1  4  7\n 1  2  5  8\n 2  3  6  9,\n     A   B  C\n 0  11  14  7\n 1  12   5  8\n 2  13   6  9)"
     },
     "execution_count": 27,
     "metadata": {},
     "output_type": "execute_result"
    }
   ],
   "source": [
    "df3 = pd.DataFrame({'A': [1, 2, 3],\n",
    "                     'B': [4, 5, 6],\n",
    "                     'C': [7, 8, 9]})\n",
    "df3,df3.where(lambda x: x > 4, lambda x: x + 10)\n"
   ],
   "metadata": {
    "collapsed": false,
    "pycharm": {
     "name": "#%%\n"
    }
   }
  },
  {
   "cell_type": "code",
   "execution_count": 28,
   "outputs": [
    {
     "data": {
      "text/plain": "4   NaN\n3   NaN\n2   NaN\n1   NaN\n0   NaN\ndtype: float64"
     },
     "execution_count": 28,
     "metadata": {},
     "output_type": "execute_result"
    }
   ],
   "source": [
    "# mask（）是where的反布尔运算。\n",
    "s.mask(s >= 0)\n"
   ],
   "metadata": {
    "collapsed": false,
    "pycharm": {
     "name": "#%%\n"
    }
   }
  },
  {
   "cell_type": "code",
   "execution_count": 29,
   "outputs": [
    {
     "data": {
      "text/plain": "                   A         B         C         D\n2000-01-01 -1.088828 -1.421502 -0.154838 -1.066516\n2000-01-02       NaN -0.359705       NaN -0.633952\n2000-01-03 -0.107601 -0.595376       NaN -0.112642\n2000-01-04       NaN       NaN -0.434515       NaN\n2000-01-05       NaN       NaN -0.434244       NaN\n2000-01-06 -1.388348 -0.136133       NaN       NaN\n2000-01-07 -2.137419       NaN -0.859641 -0.564609\n2000-01-08 -0.218836       NaN       NaN -0.179393",
      "text/html": "<div>\n<style scoped>\n    .dataframe tbody tr th:only-of-type {\n        vertical-align: middle;\n    }\n\n    .dataframe tbody tr th {\n        vertical-align: top;\n    }\n\n    .dataframe thead th {\n        text-align: right;\n    }\n</style>\n<table border=\"1\" class=\"dataframe\">\n  <thead>\n    <tr style=\"text-align: right;\">\n      <th></th>\n      <th>A</th>\n      <th>B</th>\n      <th>C</th>\n      <th>D</th>\n    </tr>\n  </thead>\n  <tbody>\n    <tr>\n      <th>2000-01-01</th>\n      <td>-1.088828</td>\n      <td>-1.421502</td>\n      <td>-0.154838</td>\n      <td>-1.066516</td>\n    </tr>\n    <tr>\n      <th>2000-01-02</th>\n      <td>NaN</td>\n      <td>-0.359705</td>\n      <td>NaN</td>\n      <td>-0.633952</td>\n    </tr>\n    <tr>\n      <th>2000-01-03</th>\n      <td>-0.107601</td>\n      <td>-0.595376</td>\n      <td>NaN</td>\n      <td>-0.112642</td>\n    </tr>\n    <tr>\n      <th>2000-01-04</th>\n      <td>NaN</td>\n      <td>NaN</td>\n      <td>-0.434515</td>\n      <td>NaN</td>\n    </tr>\n    <tr>\n      <th>2000-01-05</th>\n      <td>NaN</td>\n      <td>NaN</td>\n      <td>-0.434244</td>\n      <td>NaN</td>\n    </tr>\n    <tr>\n      <th>2000-01-06</th>\n      <td>-1.388348</td>\n      <td>-0.136133</td>\n      <td>NaN</td>\n      <td>NaN</td>\n    </tr>\n    <tr>\n      <th>2000-01-07</th>\n      <td>-2.137419</td>\n      <td>NaN</td>\n      <td>-0.859641</td>\n      <td>-0.564609</td>\n    </tr>\n    <tr>\n      <th>2000-01-08</th>\n      <td>-0.218836</td>\n      <td>NaN</td>\n      <td>NaN</td>\n      <td>-0.179393</td>\n    </tr>\n  </tbody>\n</table>\n</div>"
     },
     "execution_count": 29,
     "metadata": {},
     "output_type": "execute_result"
    }
   ],
   "source": [
    "df.mask(df >= 0)\n",
    "\n"
   ],
   "metadata": {
    "collapsed": false,
    "pycharm": {
     "name": "#%%\n"
    }
   }
  },
  {
   "cell_type": "code",
   "execution_count": 30,
   "outputs": [
    {
     "data": {
      "text/plain": "(          a         b         c\n 0  0.188961  0.580085  0.467895\n 1  0.625883  0.945439  0.795369\n 2  0.563109  0.438030  0.785009\n 3  0.559239  0.944148  0.845194\n 4  0.251760  0.520442  0.665635\n 5  0.167815  0.121067  0.330215\n 6  0.443791  0.842843  0.358262\n 7  0.003806  0.009599  0.869812\n 8  0.058138  0.356462  0.873821\n 9  0.674502  0.740210  0.937600,\n           a         b         c\n 4  0.251760  0.520442  0.665635\n 7  0.003806  0.009599  0.869812\n 8  0.058138  0.356462  0.873821\n 9  0.674502  0.740210  0.937600,\n           a         b         c\n 4  0.251760  0.520442  0.665635\n 7  0.003806  0.009599  0.869812\n 8  0.058138  0.356462  0.873821\n 9  0.674502  0.740210  0.937600)"
     },
     "execution_count": 30,
     "metadata": {},
     "output_type": "execute_result"
    }
   ],
   "source": [
    "#The query() Method\n",
    "n = 10\n",
    "df = pd.DataFrame(np.random.rand(n, 3), columns=list('abc'))\n",
    "df,df[(df['a'] < df['b']) & (df['b'] < df['c'])],df.query('(a < b) & (b < c)')"
   ],
   "metadata": {
    "collapsed": false,
    "pycharm": {
     "name": "#%%\n"
    }
   }
  },
  {
   "cell_type": "code",
   "execution_count": 33,
   "outputs": [
    {
     "name": "stdout",
     "output_type": "stream",
     "text": [
      "   b  c\n",
      "0  0  1\n",
      "1  3  2\n",
      "2  3  4\n",
      "3  4  4\n",
      "4  0  1\n",
      "5  1  3\n",
      "6  4  3\n",
      "7  3  2\n",
      "8  0  0\n",
      "9  0  3\n"
     ]
    },
    {
     "data": {
      "text/plain": "(   b  c\n a      \n 0  0  1\n 1  3  2\n 2  3  4\n 3  4  4\n 4  0  1\n 5  1  3\n 6  4  3\n 7  3  2\n 8  0  0\n 9  0  3,\n    b  c\n a      \n 2  3  4)"
     },
     "execution_count": 33,
     "metadata": {},
     "output_type": "execute_result"
    }
   ],
   "source": [
    "# 执行相同的操作，但如果没有名为a的列，则返回到指定索引。\n",
    "df = pd.DataFrame(np.random.randint(n / 2, size=(n, 2)), columns=list('bc'))\n",
    "print(df)\n",
    "df.index.name = 'a' # uses the column 'a', not the index\n",
    "df, \\\n",
    "df.query('a < b and b < c')"
   ],
   "metadata": {
    "collapsed": false,
    "pycharm": {
     "name": "#%%\n"
    }
   }
  },
  {
   "cell_type": "code",
   "execution_count": 36,
   "outputs": [
    {
     "data": {
      "text/plain": "(   b  c\n 0  3  9\n 1  4  7\n 2  5  9\n 3  7  5\n 4  1  4\n 5  6  1\n 6  8  3\n 7  3  1\n 8  8  1\n 9  4  3,\n    b  c\n 0  3  9\n 1  4  7\n 2  5  9)"
     },
     "execution_count": 36,
     "metadata": {},
     "output_type": "execute_result"
    }
   ],
   "source": [
    "df = pd.DataFrame(np.random.randint(n, size=(n, 2)), columns=list('bc'))\n",
    "df,df.query('index < b < c')\n"
   ],
   "metadata": {
    "collapsed": false,
    "pycharm": {
     "name": "#%%\n"
    }
   }
  },
  {
   "cell_type": "code",
   "execution_count": 37,
   "outputs": [
    {
     "data": {
      "text/plain": "(array(['red', 'red', 'green', 'green', 'red', 'red', 'green', 'green',\n        'red', 'red'], dtype='<U5'),\n array(['eggs', 'ham', 'eggs', 'eggs', 'ham', 'eggs', 'eggs', 'eggs',\n        'ham', 'ham'], dtype='<U4'),\n MultiIndex([(  'red', 'eggs'),\n             (  'red',  'ham'),\n             ('green', 'eggs'),\n             ('green', 'eggs'),\n             (  'red',  'ham'),\n             (  'red', 'eggs'),\n             ('green', 'eggs'),\n             ('green', 'eggs'),\n             (  'red',  'ham'),\n             (  'red',  'ham')],\n            names=['color', 'food']),\n                    0         1\n color food                    \n red   eggs  0.545959  0.516226\n       ham   1.318063  0.713923\n green eggs -0.686173  1.184586\n       eggs  0.640800  1.059334\n red   ham   1.182412 -1.931022\n       eggs -0.162802  1.184333\n green eggs -0.749821 -0.050220\n       eggs -0.507970  1.655366\n red   ham   0.210910  0.060506\n       ham   0.302264 -0.938705,\n                    0         1\n color food                    \n red   eggs  0.545959  0.516226\n       ham   1.318063  0.713923\n       ham   1.182412 -1.931022\n       eggs -0.162802  1.184333\n       ham   0.210910  0.060506\n       ham   0.302264 -0.938705)"
     },
     "execution_count": 37,
     "metadata": {},
     "output_type": "execute_result"
    }
   ],
   "source": [
    "# MultiIndex query（）语法\n",
    "n = 10\n",
    "colors = np.random.choice(['red', 'green'], size=n)\n",
    "foods = np.random.choice(['eggs', 'ham'], size=n)\n",
    "index = pd.MultiIndex.from_arrays([colors, foods], names=['color', 'food'])\n",
    "df = pd.DataFrame(np.random.randn(n, 2), index=index)\n",
    "\n",
    "colors,foods,index,df,df.query('color == \"red\"')\n"
   ],
   "metadata": {
    "collapsed": false,
    "pycharm": {
     "name": "#%%\n"
    }
   }
  },
  {
   "cell_type": "code",
   "execution_count": 38,
   "outputs": [
    {
     "data": {
      "text/plain": "(                   0         1\n red   eggs  0.545959  0.516226\n       ham   1.318063  0.713923\n green eggs -0.686173  1.184586\n       eggs  0.640800  1.059334\n red   ham   1.182412 -1.931022\n       eggs -0.162802  1.184333\n green eggs -0.749821 -0.050220\n       eggs -0.507970  1.655366\n red   ham   0.210910  0.060506\n       ham   0.302264 -0.938705,\n                  0         1\n red eggs  0.545959  0.516226\n     ham   1.318063  0.713923\n     ham   1.182412 -1.931022\n     eggs -0.162802  1.184333\n     ham   0.210910  0.060506\n     ham   0.302264 -0.938705)"
     },
     "execution_count": 38,
     "metadata": {},
     "output_type": "execute_result"
    }
   ],
   "source": [
    "# index没有name，使用ilevel_0 ilevel_1等\n",
    "df.index.names = [None, None]\n",
    "df, df.query('ilevel_0 == \"red\"')\n"
   ],
   "metadata": {
    "collapsed": false,
    "pycharm": {
     "name": "#%%\n"
    }
   }
  },
  {
   "cell_type": "code",
   "execution_count": 39,
   "outputs": [
    {
     "data": {
      "text/plain": "(          a         b         c\n 0  0.484522  0.148045  0.551847\n 1  0.370875  0.144049  0.376943\n 2  0.865422  0.501515  0.862846\n 3  0.567714  0.635281  0.409959\n 4  0.334291  0.693971  0.030076\n 5  0.596303  0.410034  0.438923\n 6  0.046434  0.269078  0.916983\n 7  0.905927  0.817323  0.472700\n 8  0.047141  0.102626  0.296656\n 9  0.219290  0.215906  0.255722,\n            a         b         c\n 0   0.495682  0.936898  0.341333\n 1   0.498846  0.563560  0.140879\n 2   0.113629  0.794990  0.760406\n 3   0.223591  0.448480  0.294789\n 4   0.435022  0.990936  0.891826\n 5   0.720842  0.767327  0.509437\n 6   0.954165  0.056174  0.629083\n 7   0.999502  0.012217  0.692507\n 8   0.467944  0.753219  0.858273\n 9   0.886954  0.883437  0.428652\n 10  0.509704  0.361581  0.050954\n 11  0.120882  0.129196  0.697127,\n <map at 0x247c83ef208>)"
     },
     "execution_count": 39,
     "metadata": {},
     "output_type": "execute_result"
    }
   ],
   "source": [
    "df = pd.DataFrame(np.random.rand(n, 3), columns=list('abc'))\n",
    "df2 = pd.DataFrame(np.random.rand(n + 2, 3), columns=df.columns)\n",
    "expr = '0.0 <= a <= c <= 0.5'\n",
    "\n",
    "df,df2,\\\n",
    "map(lambda frame: frame.query(expr), [df, df2])"
   ],
   "metadata": {
    "collapsed": false,
    "pycharm": {
     "name": "#%%\n"
    }
   }
  },
  {
   "cell_type": "code",
   "execution_count": 41,
   "outputs": [
    {
     "data": {
      "text/plain": "(   a  b  c\n 0  7  9  5\n 1  1  3  7\n 2  8  4  2\n 3  2  4  0\n 4  6  0  8\n 5  3  9  2\n 6  7  6  9\n 7  2  6  8\n 8  7  4  6\n 9  6  5  3,\n    a  b  c\n 1  1  3  7\n 7  2  6  8,\n    a  b  c\n 1  1  3  7\n 7  2  6  8,\n    a  b  c\n 1  1  3  7\n 7  2  6  8,\n    a  b  c\n 1  1  3  7\n 7  2  6  8,\n    a  b  c\n 1  1  3  7\n 7  2  6  8)"
     },
     "execution_count": 41,
     "metadata": {},
     "output_type": "execute_result"
    }
   ],
   "source": [
    "# query（）Python与Pandas语法比较\n",
    "df = pd.DataFrame(np.random.randint(n, size=(n, 3)), columns=list('abc'))\n",
    "df,df.query('(a < b) & (b < c)'),\\\n",
    "df[(df['a'] < df['b']) & (df['b'] < df['c'])],\\\n",
    "df.query('a < b & b < c'),\\\n",
    "df.query('a < b and b < c'),\\\n",
    "df.query('a < b < c')"
   ],
   "metadata": {
    "collapsed": false,
    "pycharm": {
     "name": "#%%\n"
    }
   }
  },
  {
   "cell_type": "code",
   "execution_count": 42,
   "outputs": [
    {
     "data": {
      "text/plain": "(    a  b  c  d\n 0   a  a  3  8\n 1   a  a  0  4\n 2   b  a  4  2\n 3   b  a  0  2\n 4   c  b  1  3\n 5   c  b  3  7\n 6   d  b  4  6\n 7   d  b  1  4\n 8   e  c  3  2\n 9   e  c  4  2\n 10  f  c  1  0\n 11  f  c  0  3,\n    a  b  c  d\n 0  a  a  3  8\n 1  a  a  0  4\n 2  b  a  4  2\n 3  b  a  0  2\n 4  c  b  1  3\n 5  c  b  3  7,\n    a  b  c  d\n 0  a  a  3  8\n 1  a  a  0  4\n 2  b  a  4  2\n 3  b  a  0  2\n 4  c  b  1  3\n 5  c  b  3  7,\n     a  b  c  d\n 6   d  b  4  6\n 7   d  b  1  4\n 8   e  c  3  2\n 9   e  c  4  2\n 10  f  c  1  0\n 11  f  c  0  3,\n     a  b  c  d\n 6   d  b  4  6\n 7   d  b  1  4\n 8   e  c  3  2\n 9   e  c  4  2\n 10  f  c  1  0\n 11  f  c  0  3)"
     },
     "execution_count": 42,
     "metadata": {},
     "output_type": "execute_result"
    }
   ],
   "source": [
    "# in和not in运算符\n",
    "df = pd.DataFrame({'a': list('aabbccddeeff'), 'b': list('aaaabbbbcccc'),\n",
    "                   'c': np.random.randint(5, size=12),\n",
    "                   'd': np.random.randint(9, size=12)})\n",
    "\n",
    "df,\\\n",
    "df.query('a in b'),\\\n",
    "df[df['a'].isin(df['b'])],\\\n",
    "df.query('a not in b'),\\\n",
    "df[~df['a'].isin(df['b'])]"
   ],
   "metadata": {
    "collapsed": false,
    "pycharm": {
     "name": "#%%\n"
    }
   }
  },
  {
   "cell_type": "code",
   "execution_count": 45,
   "outputs": [
    {
     "data": {
      "text/plain": "(   a  b  c  d\n 0  a  a  3  8\n 1  a  a  0  4\n 3  b  a  0  2\n 4  c  b  1  3\n 5  c  b  3  7,\n     a  b  c  d\n 0   a  a  3  8\n 1   a  a  0  4\n 3   b  a  0  2\n 4   c  b  1  3\n 5   c  b  3  7\n 6   d  b  4  6\n 7   d  b  1  4\n 11  f  c  0  3)"
     },
     "execution_count": 45,
     "metadata": {},
     "output_type": "execute_result"
    }
   ],
   "source": [
    "df.query('a in b and c < d'),\\\n",
    "df[df['b'].isin(df['a']) & (df['c'] < df['d'])]"
   ],
   "metadata": {
    "collapsed": false,
    "pycharm": {
     "name": "#%%\n"
    }
   }
  },
  {
   "cell_type": "code",
   "execution_count": 48,
   "outputs": [
    {
     "data": {
      "text/plain": "(    a  b  c  d\n 0   a  a  3  8\n 1   a  a  0  4\n 2   b  a  4  2\n 3   b  a  0  2\n 4   c  b  1  3\n 5   c  b  3  7\n 6   d  b  4  6\n 7   d  b  1  4\n 8   e  c  3  2\n 9   e  c  4  2\n 10  f  c  1  0\n 11  f  c  0  3,\n     a  b  c  d\n 0   a  a  3  8\n 1   a  a  0  4\n 2   b  a  4  2\n 3   b  a  0  2\n 4   c  b  1  3\n 5   c  b  3  7\n 6   d  b  4  6\n 7   d  b  1  4\n 8   e  c  3  2\n 9   e  c  4  2\n 10  f  c  1  0\n 11  f  c  0  3,\n     a  b  c  d\n 0   a  a  3  8\n 1   a  a  0  4\n 2   b  a  4  2\n 3   b  a  0  2\n 4   c  b  1  3\n 5   c  b  3  7\n 6   d  b  4  6\n 7   d  b  1  4\n 8   e  c  3  2\n 9   e  c  4  2\n 10  f  c  1  0\n 11  f  c  0  3,\n     a  b  c  d\n 4   c  b  1  3\n 7   d  b  1  4\n 10  f  c  1  0,\n     a  b  c  d\n 0   a  a  3  8\n 1   a  a  0  4\n 2   b  a  4  2\n 3   b  a  0  2\n 5   c  b  3  7\n 6   d  b  4  6\n 8   e  c  3  2\n 9   e  c  4  2\n 11  f  c  0  3,\n     a  b  c  d\n 4   c  b  1  3\n 7   d  b  1  4\n 10  f  c  1  0,\n     a  b  c  d\n 0   a  a  3  8\n 1   a  a  0  4\n 2   b  a  4  2\n 3   b  a  0  2\n 5   c  b  3  7\n 6   d  b  4  6\n 8   e  c  3  2\n 9   e  c  4  2\n 11  f  c  0  3,\n     a  b  c  d\n 4   c  b  1  3\n 7   d  b  1  4\n 10  f  c  1  0)"
     },
     "execution_count": 48,
     "metadata": {},
     "output_type": "execute_result"
    }
   ],
   "source": [
    "# ==运算符与列表对象的特殊用法\n",
    "df,\\\n",
    "df.query('b == [\"a\", \"b\", \"c\"]'),\\\n",
    "df[df['b'].isin([\"a\", \"b\", \"c\"])],\\\n",
    "df.query('c == [1, 2]'),\\\n",
    "df.query('c != [1, 2]'),\\\n",
    "df.query('[1, 2] in c'),\\\n",
    "df.query('[1, 2] not in c'),\\\n",
    "df[df['c'].isin([1, 2])]"
   ],
   "metadata": {
    "collapsed": false,
    "pycharm": {
     "name": "#%%\n"
    }
   }
  },
  {
   "cell_type": "code",
   "execution_count": 51,
   "outputs": [
    {
     "data": {
      "text/plain": "(          a         b         c  bools\n 0  0.304504  0.142258  0.907189  False\n 1  0.144163  0.318957  0.234655  False\n 2  0.446940  0.483527  0.536835  False\n 3  0.908021  0.530374  0.740780  False\n 4  0.349748  0.227375  0.360031  False\n 5  0.033267  0.266550  0.943582  False\n 6  0.518616  0.629444  0.669138   True\n 7  0.137744  0.116387  0.277332  False\n 8  0.675560  0.956736  0.436307  False\n 9  0.781926  0.717882  0.105526  False,\n           a         b         c  bools\n 0  0.304504  0.142258  0.907189  False\n 1  0.144163  0.318957  0.234655  False\n 2  0.446940  0.483527  0.536835  False\n 3  0.908021  0.530374  0.740780  False\n 4  0.349748  0.227375  0.360031  False\n 5  0.033267  0.266550  0.943582  False\n 7  0.137744  0.116387  0.277332  False\n 8  0.675560  0.956736  0.436307  False\n 9  0.781926  0.717882  0.105526  False,\n           a         b         c  bools\n 0  0.304504  0.142258  0.907189  False\n 1  0.144163  0.318957  0.234655  False\n 2  0.446940  0.483527  0.536835  False\n 3  0.908021  0.530374  0.740780  False\n 4  0.349748  0.227375  0.360031  False\n 5  0.033267  0.266550  0.943582  False\n 7  0.137744  0.116387  0.277332  False\n 8  0.675560  0.956736  0.436307  False\n 9  0.781926  0.717882  0.105526  False,\n       a     b     c  bools\n 0  True  True  True   True\n 1  True  True  True   True\n 2  True  True  True   True\n 3  True  True  True   True\n 4  True  True  True   True\n 5  True  True  True   True\n 7  True  True  True   True\n 8  True  True  True   True\n 9  True  True  True   True)"
     },
     "execution_count": 51,
     "metadata": {},
     "output_type": "execute_result"
    }
   ],
   "source": [
    "# bool操作\n",
    "df = pd.DataFrame(np.random.rand(n, 3), columns=list('abc'))\n",
    "df['bools'] = np.random.rand(len(df)) > 0.5\n",
    "\n",
    "df,\\\n",
    "df.query('~bools'),\\\n",
    "df.query('not bools'),\\\n",
    "df.query('not bools') == df[~df['bools']]"
   ],
   "metadata": {
    "collapsed": false,
    "pycharm": {
     "name": "#%%\n"
    }
   }
  },
  {
   "cell_type": "code",
   "execution_count": 52,
   "outputs": [
    {
     "data": {
      "text/plain": "(          a         b         c  bools\n 2  0.446940  0.483527  0.536835  False\n 5  0.033267  0.266550  0.943582  False,\n           a         b         c  bools\n 2  0.446940  0.483527  0.536835  False\n 5  0.033267  0.266550  0.943582  False,\n       a     b     c  bools\n 2  True  True  True   True\n 5  True  True  True   True)"
     },
     "execution_count": 52,
     "metadata": {},
     "output_type": "execute_result"
    }
   ],
   "source": [
    "shorter = df.query('a < b < c and (not bools) or bools > 2')\n",
    "longer = df[(df['a'] < df['b'])\n",
    "             & (df['b'] < df['c'])\n",
    "             & (~df['bools'])\n",
    "             | (df['bools'] > 2)]\n",
    "shorter,longer,shorter == longer\n",
    "\n",
    "# 对于大型框架，使用numexpr的DataFrame.query（）略快于Python。"
   ],
   "metadata": {
    "collapsed": false,
    "pycharm": {
     "name": "#%%\n"
    }
   }
  }
 ],
 "metadata": {
  "kernelspec": {
   "display_name": "Python 3",
   "language": "python",
   "name": "python3"
  },
  "language_info": {
   "codemirror_mode": {
    "name": "ipython",
    "version": 2
   },
   "file_extension": ".py",
   "mimetype": "text/x-python",
   "name": "python",
   "nbconvert_exporter": "python",
   "pygments_lexer": "ipython2",
   "version": "2.7.6"
  }
 },
 "nbformat": 4,
 "nbformat_minor": 0
}