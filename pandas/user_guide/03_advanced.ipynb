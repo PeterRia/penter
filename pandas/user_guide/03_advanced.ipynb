{
 "cells": [
  {
   "cell_type": "markdown",
   "metadata": {
    "collapsed": true,
    "pycharm": {
     "name": "#%% md\n"
    }
   },
   "source": [
    "https://pandas.pydata.org/docs/user_guide/advanced.html\n",
    "MultiIndex"
   ]
  },
  {
   "cell_type": "code",
   "execution_count": 1,
   "outputs": [
    {
     "data": {
      "text/plain": "[('bar', 'one'),\n ('bar', 'two'),\n ('baz', 'one'),\n ('baz', 'two'),\n ('foo', 'one'),\n ('foo', 'two'),\n ('qux', 'one'),\n ('qux', 'two')]"
     },
     "execution_count": 1,
     "metadata": {},
     "output_type": "execute_result"
    }
   ],
   "source": [
    "arrays = [['bar', 'bar', 'baz', 'baz', 'foo', 'foo', 'qux', 'qux'],\n",
    "          ['one', 'two', 'one', 'two', 'one', 'two', 'one', 'two']]\n",
    "\n",
    "tuples = list(zip(*arrays))\n",
    "tuples"
   ],
   "metadata": {
    "collapsed": false,
    "pycharm": {
     "name": "#%%\n"
    }
   }
  },
  {
   "cell_type": "code",
   "execution_count": 11,
   "outputs": [
    {
     "data": {
      "text/plain": "(MultiIndex([('bar', 'one'),\n             ('bar', 'two'),\n             ('baz', 'one'),\n             ('baz', 'two'),\n             ('foo', 'one'),\n             ('foo', 'two'),\n             ('qux', 'one'),\n             ('qux', 'two')],\n            names=['first', 'second']),\n MultiIndex([('bar', 'one'),\n             ('bar', 'two'),\n             ('baz', 'one'),\n             ('baz', 'two'),\n             ('foo', 'one'),\n             ('foo', 'two'),\n             ('qux', 'one'),\n             ('qux', 'two')],\n            names=['first', 'second']),\n MultiIndex([('bar', 'one'),\n             ('bar', 'two'),\n             ('foo', 'one'),\n             ('foo', 'two')],\n            names=['first', 'second']),\n FrozenList(['first', 'second']),\n FrozenList(['first', 'second']),\n FrozenList(['first', 'second']))"
     },
     "execution_count": 11,
     "metadata": {},
     "output_type": "execute_result"
    }
   ],
   "source": [
    "import pandas as pd\n",
    "import numpy as np\n",
    "\n",
    "index = pd.MultiIndex.from_tuples(tuples, names=['first', 'second'])\n",
    "\n",
    "iterables = [['bar', 'baz', 'foo', 'qux'], ['one', 'two']]\n",
    "index2 = pd.MultiIndex.from_product(iterables, names=['first', 'second'])\n",
    "\n",
    "\n",
    "df = pd.DataFrame([['bar', 'one'], ['bar', 'two'],\n",
    "                    ['foo', 'one'], ['foo', 'two']],\n",
    "                   columns=['first', 'second'])\n",
    "index3 = pd.MultiIndex.from_frame(df)\n",
    "\n",
    "index,index2,index3,index.names,index2.names,index3.names"
   ],
   "metadata": {
    "collapsed": false,
    "pycharm": {
     "name": "#%%\n"
    }
   }
  },
  {
   "cell_type": "code",
   "execution_count": 16,
   "outputs": [
    {
     "data": {
      "text/plain": "(first  second\n bar    one       0.352066\n        two      -0.546524\n baz    one      -0.619600\n        two      -0.186632\n foo    one      -0.269892\n        two       0.623128\n qux    one      -1.120308\n        two      -2.552818\n dtype: float64,\n (bar, one)   -0.760380\n (bar, two)   -0.631395\n (baz, one)    1.128798\n (baz, two)   -0.693371\n (foo, one)    0.558034\n (foo, two)   -0.321044\n (qux, one)   -0.061267\n (qux, two)   -1.240957\n dtype: float64)"
     },
     "execution_count": 16,
     "metadata": {},
     "output_type": "execute_result"
    }
   ],
   "source": [
    "s = pd.Series(np.random.randn(8), index=index)\n",
    "s,pd.Series(np.random.randn(8), index=tuples)"
   ],
   "metadata": {
    "collapsed": false,
    "pycharm": {
     "name": "#%%\n"
    }
   }
  },
  {
   "cell_type": "code",
   "execution_count": 12,
   "outputs": [
    {
     "data": {
      "text/plain": "(bar  one   -0.136068\n      two    0.331673\n baz  one   -0.240131\n      two    0.841183\n foo  one   -0.641760\n      two    0.941257\n qux  one   -1.549891\n      two   -0.607452\n dtype: float64,\n                 0         1         2         3\n bar one -1.621280  0.123993 -0.112288  1.179708\n     two  0.600628 -0.283447  0.870304 -0.954950\n baz one  0.903041  0.426482 -0.221838 -0.415928\n     two -0.265532  0.250956  1.120531  1.402767\n foo one -0.620746  0.743762  1.446092  0.861982\n     two -0.114471  1.129005 -0.612530  0.622530\n qux one -1.058632 -1.512770  1.443860  0.026332\n     two  0.515642 -0.770866 -1.975732 -0.110802,\n FrozenList([None, None]))"
     },
     "execution_count": 12,
     "metadata": {},
     "output_type": "execute_result"
    }
   ],
   "source": [
    "arrays = [np.array(['bar', 'bar', 'baz', 'baz', 'foo', 'foo', 'qux', 'qux']),\n",
    "          np.array(['one', 'two', 'one', 'two', 'one', 'two', 'one', 'two'])]\n",
    "\n",
    "s = pd.Series(np.random.randn(8), index=arrays)\n",
    "df = pd.DataFrame(np.random.randn(8, 4), index=arrays)\n",
    "s,df,df.index.names\n",
    "# 这里的index是没有names的"
   ],
   "metadata": {
    "collapsed": false,
    "pycharm": {
     "name": "#%%\n"
    }
   }
  },
  {
   "cell_type": "code",
   "execution_count": 14,
   "outputs": [
    {
     "data": {
      "text/plain": "(first        bar                 baz                 foo                 qux  \\\n second       one       two       one       two       one       two       one   \n A      -1.086043  0.065821  1.327927 -1.494102 -0.764866  0.129101 -2.703912   \n B      -0.672283  0.189490  0.834502 -0.423646  1.810624  0.103364 -0.937868   \n C       1.185807  0.779610 -0.704381 -0.384619  0.965775  0.334218  0.537182   \n \n first             \n second       two  \n A       1.799148  \n B      -0.972822  \n C       0.767749  ,\n first              bar                 baz                 foo          \n second             one       two       one       two       one       two\n first second                                                            \n bar   one     0.018599 -1.813026 -1.072320  0.800082 -0.388628  0.544728\n       two     1.047741  0.322675 -1.032180 -0.538846 -0.087843  0.656865\n baz   one     1.546953  1.144321  0.650656  1.091806  0.020930 -0.237200\n       two    -1.942091 -0.698597 -1.421242  0.070362  0.420072 -0.278886\n foo   one    -1.862076  0.012617  1.484454  0.344201 -0.742504  0.374578\n       two     0.951044 -0.956119 -0.714084  0.988602 -0.034763  0.278063)"
     },
     "execution_count": 14,
     "metadata": {},
     "output_type": "execute_result"
    }
   ],
   "source": [
    "df = pd.DataFrame(np.random.randn(3, 8), index=['A', 'B', 'C'], columns=index)\n",
    "df1 = pd.DataFrame(np.random.randn(6, 6), index=index[:6], columns=index[:6])\n",
    "df,df1\n"
   ],
   "metadata": {
    "collapsed": false,
    "pycharm": {
     "name": "#%%\n"
    }
   }
  },
  {
   "cell_type": "code",
   "execution_count": 15,
   "outputs": [
    {
     "name": "stdout",
     "output_type": "stream",
     "text": [
      "first        bar       bar       baz       baz       foo       foo       qux  \\\n",
      "second       one       two       one       two       one       two       one   \n",
      "A      -1.086043  0.065821  1.327927 -1.494102 -0.764866  0.129101 -2.703912   \n",
      "B      -0.672283  0.189490  0.834502 -0.423646  1.810624  0.103364 -0.937868   \n",
      "C       1.185807  0.779610 -0.704381 -0.384619  0.965775  0.334218  0.537182   \n",
      "\n",
      "first        qux  \n",
      "second       two  \n",
      "A       1.799148  \n",
      "B      -0.972822  \n",
      "C       0.767749  \n"
     ]
    }
   ],
   "source": [
    "# 注意看跟上面的输出比较\n",
    "with pd.option_context('display.multi_sparse', False):\n",
    "    print(df)\n",
    "\n"
   ],
   "metadata": {
    "collapsed": false,
    "pycharm": {
     "name": "#%%\n"
    }
   }
  },
  {
   "cell_type": "code",
   "execution_count": 17,
   "outputs": [
    {
     "data": {
      "text/plain": "(Index(['bar', 'bar', 'baz', 'baz', 'foo', 'foo', 'qux', 'qux'], dtype='object', name='first'),\n Index(['one', 'two', 'one', 'two', 'one', 'two', 'one', 'two'], dtype='object', name='second'))"
     },
     "execution_count": 17,
     "metadata": {},
     "output_type": "execute_result"
    }
   ],
   "source": [
    "index.get_level_values(0),index.get_level_values('second')\n"
   ],
   "metadata": {
    "collapsed": false,
    "pycharm": {
     "name": "#%%\n"
    }
   }
  },
  {
   "cell_type": "code",
   "execution_count": 20,
   "outputs": [
    {
     "data": {
      "text/plain": "(second       one       two\n A      -1.086043  0.065821\n B      -0.672283  0.189490\n C       1.185807  0.779610,\n A   -1.086043\n B   -0.672283\n C    1.185807\n Name: (bar, one), dtype: float64,\n A   -1.086043\n B   -0.672283\n C    1.185807\n Name: one, dtype: float64,\n second\n one   -1.120308\n two   -2.552818\n dtype: float64)"
     },
     "execution_count": 20,
     "metadata": {},
     "output_type": "execute_result"
    }
   ],
   "source": [
    "df['bar'],df['bar', 'one'],df['bar']['one'],s['qux']"
   ],
   "metadata": {
    "collapsed": false,
    "pycharm": {
     "name": "#%%\n"
    }
   }
  },
  {
   "cell_type": "code",
   "execution_count": 26,
   "outputs": [
    {
     "data": {
      "text/plain": "(first        foo                 qux          \n second       one       two       one       two\n A      -0.764866  0.129101 -2.703912  1.799148\n B       1.810624  0.103364 -0.937868 -0.972822\n C       0.965775  0.334218  0.537182  0.767749,\n FrozenList([['bar', 'baz', 'foo', 'qux'], ['one', 'two']]),\n FrozenList([['bar', 'baz', 'foo', 'qux'], ['one', 'two']]),\n array([('foo', 'one'), ('foo', 'two'), ('qux', 'one'), ('qux', 'two')],\n       dtype=object),\n Index(['foo', 'foo', 'qux', 'qux'], dtype='object', name='first'),\n FrozenList([['foo', 'qux'], ['one', 'two']]))"
     },
     "execution_count": 26,
     "metadata": {},
     "output_type": "execute_result"
    }
   ],
   "source": [
    "df[['foo','qux']],\\\n",
    "df.columns.levels,\\\n",
    "df[['foo','qux']].columns.levels,df[['foo', 'qux']].columns.to_numpy(),\\\n",
    "df[['foo', 'qux']].columns.get_level_values(0),\\\n",
    "df[['foo', 'qux']].columns.remove_unused_levels().levels"
   ],
   "metadata": {
    "collapsed": false,
    "pycharm": {
     "name": "#%%\n"
    }
   }
  },
  {
   "cell_type": "code",
   "execution_count": 28,
   "outputs": [
    {
     "data": {
      "text/plain": "(first  second\n bar    one       0.352066\n        two      -0.546524\n baz    one      -0.619600\n        two      -0.186632\n foo    one      -0.269892\n        two       0.623128\n qux    one      -1.120308\n        two      -2.552818\n dtype: float64,\n first  second\n bar    one       0.352066\n        two      -0.546524\n baz    one      -0.619600\n        two      -0.186632\n foo    one      -0.269892\n        two       0.623128\n dtype: float64,\n first  second\n bar    one       0.352066\n baz    one      -0.619600\n foo    one      -0.269892\n qux    one      -1.120308\n dtype: float64,\n first  second\n bar    one       0.704133\n        two      -1.093048\n baz    one      -1.239201\n        two      -0.373265\n foo    one      -0.539784\n        two       1.246257\n qux    one            NaN\n        two            NaN\n dtype: float64,\n first  second\n bar    one       0.704133\n        two            NaN\n baz    one      -1.239201\n        two            NaN\n foo    one      -0.539784\n        two            NaN\n qux    one      -2.240615\n        two            NaN\n dtype: float64)"
     },
     "execution_count": 28,
     "metadata": {},
     "output_type": "execute_result"
    }
   ],
   "source": [
    "s,s[:-2],s[::2],s + s[:-2],s + s[::2]"
   ],
   "metadata": {
    "collapsed": false,
    "pycharm": {
     "name": "#%%\n"
    }
   }
  },
  {
   "cell_type": "code",
   "execution_count": 29,
   "outputs": [
    {
     "data": {
      "text/plain": "(first  second\n bar    one       0.352066\n        two      -0.546524\n baz    one      -0.619600\n dtype: float64,\n first  second\n foo    two       0.623128\n bar    one       0.352066\n qux    one      -1.120308\n baz    one      -0.619600\n dtype: float64)"
     },
     "execution_count": 29,
     "metadata": {},
     "output_type": "execute_result"
    }
   ],
   "source": [
    "s.reindex(index[:3]),s.reindex([('foo', 'two'), ('bar', 'one'), ('qux', 'one'), ('baz', 'one')])"
   ],
   "metadata": {
    "collapsed": false,
    "pycharm": {
     "name": "#%%\n"
    }
   }
  },
  {
   "cell_type": "code",
   "execution_count": 32,
   "outputs": [
    {
     "data": {
      "text/plain": "(first        bar                 baz                 foo                 qux  \\\n second       one       two       one       two       one       two       one   \n A      -1.086043  0.065821  1.327927 -1.494102 -0.764866  0.129101 -2.703912   \n B      -0.672283  0.189490  0.834502 -0.423646  1.810624  0.103364 -0.937868   \n C       1.185807  0.779610 -0.704381 -0.384619  0.965775  0.334218  0.537182   \n \n first             \n second       two  \n A       1.799148  \n B      -0.972822  \n C       0.767749  ,\n                      A         B         C\n first second                              \n bar   one    -1.086043 -0.672283  1.185807\n       two     0.065821  0.189490  0.779610\n baz   one     1.327927  0.834502 -0.704381\n       two    -1.494102 -0.423646 -0.384619\n foo   one    -0.764866  1.810624  0.965775\n       two     0.129101  0.103364  0.334218\n qux   one    -2.703912 -0.937868  0.537182\n       two     1.799148 -0.972822  0.767749,\n A    0.065821\n B    0.189490\n C    0.779610\n Name: (bar, two), dtype: float64,\n 0.06582111635196015)"
     },
     "execution_count": 32,
     "metadata": {},
     "output_type": "execute_result"
    }
   ],
   "source": [
    "df,df.T,df.T.loc[('bar', 'two')],df.T.loc[('bar', 'two'), 'A']"
   ],
   "metadata": {
    "collapsed": false,
    "pycharm": {
     "name": "#%%\n"
    }
   }
  },
  {
   "cell_type": "code",
   "execution_count": 33,
   "outputs": [
    {
     "data": {
      "text/plain": "                     A         B         C\nfirst second                              \nbaz   one     1.327927  0.834502 -0.704381\n      two    -1.494102 -0.423646 -0.384619\nfoo   one    -0.764866  1.810624  0.965775\n      two     0.129101  0.103364  0.334218",
      "text/html": "<div>\n<style scoped>\n    .dataframe tbody tr th:only-of-type {\n        vertical-align: middle;\n    }\n\n    .dataframe tbody tr th {\n        vertical-align: top;\n    }\n\n    .dataframe thead th {\n        text-align: right;\n    }\n</style>\n<table border=\"1\" class=\"dataframe\">\n  <thead>\n    <tr style=\"text-align: right;\">\n      <th></th>\n      <th></th>\n      <th>A</th>\n      <th>B</th>\n      <th>C</th>\n    </tr>\n    <tr>\n      <th>first</th>\n      <th>second</th>\n      <th></th>\n      <th></th>\n      <th></th>\n    </tr>\n  </thead>\n  <tbody>\n    <tr>\n      <th rowspan=\"2\" valign=\"top\">baz</th>\n      <th>one</th>\n      <td>1.327927</td>\n      <td>0.834502</td>\n      <td>-0.704381</td>\n    </tr>\n    <tr>\n      <th>two</th>\n      <td>-1.494102</td>\n      <td>-0.423646</td>\n      <td>-0.384619</td>\n    </tr>\n    <tr>\n      <th rowspan=\"2\" valign=\"top\">foo</th>\n      <th>one</th>\n      <td>-0.764866</td>\n      <td>1.810624</td>\n      <td>0.965775</td>\n    </tr>\n    <tr>\n      <th>two</th>\n      <td>0.129101</td>\n      <td>0.103364</td>\n      <td>0.334218</td>\n    </tr>\n  </tbody>\n</table>\n</div>"
     },
     "execution_count": 33,
     "metadata": {},
     "output_type": "execute_result"
    }
   ],
   "source": [
    "df = df.T\n",
    "df.loc['baz':'foo']\n"
   ],
   "metadata": {
    "collapsed": false,
    "pycharm": {
     "name": "#%%\n"
    }
   }
  },
  {
   "cell_type": "code",
   "execution_count": 34,
   "outputs": [
    {
     "data": {
      "text/plain": "                     A         B         C\nfirst second                              \nbaz   two    -1.494102 -0.423646 -0.384619\nfoo   one    -0.764866  1.810624  0.965775\n      two     0.129101  0.103364  0.334218\nqux   one    -2.703912 -0.937868  0.537182",
      "text/html": "<div>\n<style scoped>\n    .dataframe tbody tr th:only-of-type {\n        vertical-align: middle;\n    }\n\n    .dataframe tbody tr th {\n        vertical-align: top;\n    }\n\n    .dataframe thead th {\n        text-align: right;\n    }\n</style>\n<table border=\"1\" class=\"dataframe\">\n  <thead>\n    <tr style=\"text-align: right;\">\n      <th></th>\n      <th></th>\n      <th>A</th>\n      <th>B</th>\n      <th>C</th>\n    </tr>\n    <tr>\n      <th>first</th>\n      <th>second</th>\n      <th></th>\n      <th></th>\n      <th></th>\n    </tr>\n  </thead>\n  <tbody>\n    <tr>\n      <th>baz</th>\n      <th>two</th>\n      <td>-1.494102</td>\n      <td>-0.423646</td>\n      <td>-0.384619</td>\n    </tr>\n    <tr>\n      <th rowspan=\"2\" valign=\"top\">foo</th>\n      <th>one</th>\n      <td>-0.764866</td>\n      <td>1.810624</td>\n      <td>0.965775</td>\n    </tr>\n    <tr>\n      <th>two</th>\n      <td>0.129101</td>\n      <td>0.103364</td>\n      <td>0.334218</td>\n    </tr>\n    <tr>\n      <th>qux</th>\n      <th>one</th>\n      <td>-2.703912</td>\n      <td>-0.937868</td>\n      <td>0.537182</td>\n    </tr>\n  </tbody>\n</table>\n</div>"
     },
     "execution_count": 34,
     "metadata": {},
     "output_type": "execute_result"
    }
   ],
   "source": [
    "df.loc[('baz', 'two'):('qux', 'one')]"
   ],
   "metadata": {
    "collapsed": false,
    "pycharm": {
     "name": "#%%\n"
    }
   }
  },
  {
   "cell_type": "code",
   "execution_count": 35,
   "outputs": [
    {
     "data": {
      "text/plain": "                     A         B         C\nfirst second                              \nbaz   two    -1.494102 -0.423646 -0.384619\nfoo   one    -0.764866  1.810624  0.965775\n      two     0.129101  0.103364  0.334218",
      "text/html": "<div>\n<style scoped>\n    .dataframe tbody tr th:only-of-type {\n        vertical-align: middle;\n    }\n\n    .dataframe tbody tr th {\n        vertical-align: top;\n    }\n\n    .dataframe thead th {\n        text-align: right;\n    }\n</style>\n<table border=\"1\" class=\"dataframe\">\n  <thead>\n    <tr style=\"text-align: right;\">\n      <th></th>\n      <th></th>\n      <th>A</th>\n      <th>B</th>\n      <th>C</th>\n    </tr>\n    <tr>\n      <th>first</th>\n      <th>second</th>\n      <th></th>\n      <th></th>\n      <th></th>\n    </tr>\n  </thead>\n  <tbody>\n    <tr>\n      <th>baz</th>\n      <th>two</th>\n      <td>-1.494102</td>\n      <td>-0.423646</td>\n      <td>-0.384619</td>\n    </tr>\n    <tr>\n      <th rowspan=\"2\" valign=\"top\">foo</th>\n      <th>one</th>\n      <td>-0.764866</td>\n      <td>1.810624</td>\n      <td>0.965775</td>\n    </tr>\n    <tr>\n      <th>two</th>\n      <td>0.129101</td>\n      <td>0.103364</td>\n      <td>0.334218</td>\n    </tr>\n  </tbody>\n</table>\n</div>"
     },
     "execution_count": 35,
     "metadata": {},
     "output_type": "execute_result"
    }
   ],
   "source": [
    "df.loc[('baz', 'two'):'foo']"
   ],
   "metadata": {
    "collapsed": false,
    "pycharm": {
     "name": "#%%\n"
    }
   }
  },
  {
   "cell_type": "code",
   "execution_count": 36,
   "outputs": [
    {
     "data": {
      "text/plain": "                     A         B         C\nfirst second                              \nbar   two     0.065821  0.189490  0.779610\nqux   one    -2.703912 -0.937868  0.537182",
      "text/html": "<div>\n<style scoped>\n    .dataframe tbody tr th:only-of-type {\n        vertical-align: middle;\n    }\n\n    .dataframe tbody tr th {\n        vertical-align: top;\n    }\n\n    .dataframe thead th {\n        text-align: right;\n    }\n</style>\n<table border=\"1\" class=\"dataframe\">\n  <thead>\n    <tr style=\"text-align: right;\">\n      <th></th>\n      <th></th>\n      <th>A</th>\n      <th>B</th>\n      <th>C</th>\n    </tr>\n    <tr>\n      <th>first</th>\n      <th>second</th>\n      <th></th>\n      <th></th>\n      <th></th>\n    </tr>\n  </thead>\n  <tbody>\n    <tr>\n      <th>bar</th>\n      <th>two</th>\n      <td>0.065821</td>\n      <td>0.189490</td>\n      <td>0.779610</td>\n    </tr>\n    <tr>\n      <th>qux</th>\n      <th>one</th>\n      <td>-2.703912</td>\n      <td>-0.937868</td>\n      <td>0.537182</td>\n    </tr>\n  </tbody>\n</table>\n</div>"
     },
     "execution_count": 36,
     "metadata": {},
     "output_type": "execute_result"
    }
   ],
   "source": [
    "df.loc[[('bar', 'two'), ('qux', 'one')]]"
   ],
   "metadata": {
    "collapsed": false,
    "pycharm": {
     "name": "#%%\n"
    }
   }
  },
  {
   "cell_type": "code",
   "execution_count": 37,
   "outputs": [
    {
     "data": {
      "text/plain": "(A  c    1\n    d    2\n    e    3\n B  c    4\n    d    5\n    e    6\n dtype: int64,\n A  c    1\n B  d    5\n dtype: int64,\n A  c    1\n    d    2\n B  c    4\n    d    5\n dtype: int64)"
     },
     "execution_count": 37,
     "metadata": {},
     "output_type": "execute_result"
    }
   ],
   "source": [
    "s = pd.Series([1, 2, 3, 4, 5, 6],\n",
    "              index=pd.MultiIndex.from_product([[\"A\", \"B\"], [\"c\", \"d\", \"e\"]]))\n",
    "\n",
    "s,s.loc[[(\"A\", \"c\"), (\"B\", \"d\")]] ,s.loc[([\"A\", \"B\"], [\"c\", \"d\"])]"
   ],
   "metadata": {
    "collapsed": false,
    "pycharm": {
     "name": "#%%\n"
    }
   }
  },
  {
   "cell_type": "code",
   "execution_count": 38,
   "outputs": [
    {
     "data": {
      "text/plain": "MultiIndex([('A0', 'B0', 'C0', 'D0'),\n            ('A0', 'B0', 'C0', 'D1'),\n            ('A0', 'B0', 'C1', 'D0'),\n            ('A0', 'B0', 'C1', 'D1'),\n            ('A0', 'B0', 'C2', 'D0'),\n            ('A0', 'B0', 'C2', 'D1'),\n            ('A0', 'B0', 'C3', 'D0'),\n            ('A0', 'B0', 'C3', 'D1'),\n            ('A0', 'B1', 'C0', 'D0'),\n            ('A0', 'B1', 'C0', 'D1'),\n            ('A0', 'B1', 'C1', 'D0'),\n            ('A0', 'B1', 'C1', 'D1'),\n            ('A0', 'B1', 'C2', 'D0'),\n            ('A0', 'B1', 'C2', 'D1'),\n            ('A0', 'B1', 'C3', 'D0'),\n            ('A0', 'B1', 'C3', 'D1'),\n            ('A1', 'B0', 'C0', 'D0'),\n            ('A1', 'B0', 'C0', 'D1'),\n            ('A1', 'B0', 'C1', 'D0'),\n            ('A1', 'B0', 'C1', 'D1'),\n            ('A1', 'B0', 'C2', 'D0'),\n            ('A1', 'B0', 'C2', 'D1'),\n            ('A1', 'B0', 'C3', 'D0'),\n            ('A1', 'B0', 'C3', 'D1'),\n            ('A1', 'B1', 'C0', 'D0'),\n            ('A1', 'B1', 'C0', 'D1'),\n            ('A1', 'B1', 'C1', 'D0'),\n            ('A1', 'B1', 'C1', 'D1'),\n            ('A1', 'B1', 'C2', 'D0'),\n            ('A1', 'B1', 'C2', 'D1'),\n            ('A1', 'B1', 'C3', 'D0'),\n            ('A1', 'B1', 'C3', 'D1'),\n            ('A2', 'B0', 'C0', 'D0'),\n            ('A2', 'B0', 'C0', 'D1'),\n            ('A2', 'B0', 'C1', 'D0'),\n            ('A2', 'B0', 'C1', 'D1'),\n            ('A2', 'B0', 'C2', 'D0'),\n            ('A2', 'B0', 'C2', 'D1'),\n            ('A2', 'B0', 'C3', 'D0'),\n            ('A2', 'B0', 'C3', 'D1'),\n            ('A2', 'B1', 'C0', 'D0'),\n            ('A2', 'B1', 'C0', 'D1'),\n            ('A2', 'B1', 'C1', 'D0'),\n            ('A2', 'B1', 'C1', 'D1'),\n            ('A2', 'B1', 'C2', 'D0'),\n            ('A2', 'B1', 'C2', 'D1'),\n            ('A2', 'B1', 'C3', 'D0'),\n            ('A2', 'B1', 'C3', 'D1'),\n            ('A3', 'B0', 'C0', 'D0'),\n            ('A3', 'B0', 'C0', 'D1'),\n            ('A3', 'B0', 'C1', 'D0'),\n            ('A3', 'B0', 'C1', 'D1'),\n            ('A3', 'B0', 'C2', 'D0'),\n            ('A3', 'B0', 'C2', 'D1'),\n            ('A3', 'B0', 'C3', 'D0'),\n            ('A3', 'B0', 'C3', 'D1'),\n            ('A3', 'B1', 'C0', 'D0'),\n            ('A3', 'B1', 'C0', 'D1'),\n            ('A3', 'B1', 'C1', 'D0'),\n            ('A3', 'B1', 'C1', 'D1'),\n            ('A3', 'B1', 'C2', 'D0'),\n            ('A3', 'B1', 'C2', 'D1'),\n            ('A3', 'B1', 'C3', 'D0'),\n            ('A3', 'B1', 'C3', 'D1')],\n           )"
     },
     "execution_count": 38,
     "metadata": {},
     "output_type": "execute_result"
    }
   ],
   "source": [
    "# 使用切片\n",
    "def mklbl(prefix, n):\n",
    "     return [\"%s%s\" % (prefix, i) for i in range(n)]\n",
    "\n",
    "miindex = pd.MultiIndex.from_product([mklbl('A', 4),\n",
    "                                       mklbl('B', 2),\n",
    "                                       mklbl('C', 4),\n",
    "                                       mklbl('D', 2)])\n",
    "miindex"
   ],
   "metadata": {
    "collapsed": false,
    "pycharm": {
     "name": "#%%\n"
    }
   }
  },
  {
   "cell_type": "code",
   "execution_count": 39,
   "outputs": [
    {
     "data": {
      "text/plain": "MultiIndex([('a', 'foo'),\n            ('a', 'bar'),\n            ('b', 'foo'),\n            ('b', 'bah')],\n           names=['lvl0', 'lvl1'])"
     },
     "execution_count": 39,
     "metadata": {},
     "output_type": "execute_result"
    }
   ],
   "source": [
    "micolumns = pd.MultiIndex.from_tuples([('a', 'foo'), ('a', 'bar'),\n",
    "                                        ('b', 'foo'), ('b', 'bah')],\n",
    "                                       names=['lvl0', 'lvl1'])\n",
    "micolumns"
   ],
   "metadata": {
    "collapsed": false,
    "pycharm": {
     "name": "#%%\n"
    }
   }
  },
  {
   "cell_type": "code",
   "execution_count": 40,
   "outputs": [
    {
     "data": {
      "text/plain": "lvl0           a         b     \nlvl1         bar  foo  bah  foo\nA0 B0 C0 D0    1    0    3    2\n         D1    5    4    7    6\n      C1 D0    9    8   11   10\n         D1   13   12   15   14\n      C2 D0   17   16   19   18\n...          ...  ...  ...  ...\nA3 B1 C1 D1  237  236  239  238\n      C2 D0  241  240  243  242\n         D1  245  244  247  246\n      C3 D0  249  248  251  250\n         D1  253  252  255  254\n\n[64 rows x 4 columns]",
      "text/html": "<div>\n<style scoped>\n    .dataframe tbody tr th:only-of-type {\n        vertical-align: middle;\n    }\n\n    .dataframe tbody tr th {\n        vertical-align: top;\n    }\n\n    .dataframe thead tr th {\n        text-align: left;\n    }\n</style>\n<table border=\"1\" class=\"dataframe\">\n  <thead>\n    <tr>\n      <th></th>\n      <th></th>\n      <th></th>\n      <th>lvl0</th>\n      <th colspan=\"2\" halign=\"left\">a</th>\n      <th colspan=\"2\" halign=\"left\">b</th>\n    </tr>\n    <tr>\n      <th></th>\n      <th></th>\n      <th></th>\n      <th>lvl1</th>\n      <th>bar</th>\n      <th>foo</th>\n      <th>bah</th>\n      <th>foo</th>\n    </tr>\n  </thead>\n  <tbody>\n    <tr>\n      <th rowspan=\"5\" valign=\"top\">A0</th>\n      <th rowspan=\"5\" valign=\"top\">B0</th>\n      <th rowspan=\"2\" valign=\"top\">C0</th>\n      <th>D0</th>\n      <td>1</td>\n      <td>0</td>\n      <td>3</td>\n      <td>2</td>\n    </tr>\n    <tr>\n      <th>D1</th>\n      <td>5</td>\n      <td>4</td>\n      <td>7</td>\n      <td>6</td>\n    </tr>\n    <tr>\n      <th rowspan=\"2\" valign=\"top\">C1</th>\n      <th>D0</th>\n      <td>9</td>\n      <td>8</td>\n      <td>11</td>\n      <td>10</td>\n    </tr>\n    <tr>\n      <th>D1</th>\n      <td>13</td>\n      <td>12</td>\n      <td>15</td>\n      <td>14</td>\n    </tr>\n    <tr>\n      <th>C2</th>\n      <th>D0</th>\n      <td>17</td>\n      <td>16</td>\n      <td>19</td>\n      <td>18</td>\n    </tr>\n    <tr>\n      <th>...</th>\n      <th>...</th>\n      <th>...</th>\n      <th>...</th>\n      <td>...</td>\n      <td>...</td>\n      <td>...</td>\n      <td>...</td>\n    </tr>\n    <tr>\n      <th rowspan=\"5\" valign=\"top\">A3</th>\n      <th rowspan=\"5\" valign=\"top\">B1</th>\n      <th>C1</th>\n      <th>D1</th>\n      <td>237</td>\n      <td>236</td>\n      <td>239</td>\n      <td>238</td>\n    </tr>\n    <tr>\n      <th rowspan=\"2\" valign=\"top\">C2</th>\n      <th>D0</th>\n      <td>241</td>\n      <td>240</td>\n      <td>243</td>\n      <td>242</td>\n    </tr>\n    <tr>\n      <th>D1</th>\n      <td>245</td>\n      <td>244</td>\n      <td>247</td>\n      <td>246</td>\n    </tr>\n    <tr>\n      <th rowspan=\"2\" valign=\"top\">C3</th>\n      <th>D0</th>\n      <td>249</td>\n      <td>248</td>\n      <td>251</td>\n      <td>250</td>\n    </tr>\n    <tr>\n      <th>D1</th>\n      <td>253</td>\n      <td>252</td>\n      <td>255</td>\n      <td>254</td>\n    </tr>\n  </tbody>\n</table>\n<p>64 rows × 4 columns</p>\n</div>"
     },
     "execution_count": 40,
     "metadata": {},
     "output_type": "execute_result"
    }
   ],
   "source": [
    "dfmi = pd.DataFrame(np.arange(len(miindex) * len(micolumns))\n",
    "                       .reshape((len(miindex), len(micolumns))),\n",
    "                     index=miindex,\n",
    "                     columns=micolumns).sort_index().sort_index(axis=1)\n",
    "\n",
    "dfmi"
   ],
   "metadata": {
    "collapsed": false,
    "pycharm": {
     "name": "#%%\n"
    }
   }
  },
  {
   "cell_type": "code",
   "execution_count": 41,
   "outputs": [
    {
     "data": {
      "text/plain": "lvl0           a         b     \nlvl1         bar  foo  bah  foo\nA1 B0 C1 D0   73   72   75   74\n         D1   77   76   79   78\n      C3 D0   89   88   91   90\n         D1   93   92   95   94\n   B1 C1 D0  105  104  107  106\n         D1  109  108  111  110\n      C3 D0  121  120  123  122\n         D1  125  124  127  126\nA2 B0 C1 D0  137  136  139  138\n         D1  141  140  143  142\n      C3 D0  153  152  155  154\n         D1  157  156  159  158\n   B1 C1 D0  169  168  171  170\n         D1  173  172  175  174\n      C3 D0  185  184  187  186\n         D1  189  188  191  190\nA3 B0 C1 D0  201  200  203  202\n         D1  205  204  207  206\n      C3 D0  217  216  219  218\n         D1  221  220  223  222\n   B1 C1 D0  233  232  235  234\n         D1  237  236  239  238\n      C3 D0  249  248  251  250\n         D1  253  252  255  254",
      "text/html": "<div>\n<style scoped>\n    .dataframe tbody tr th:only-of-type {\n        vertical-align: middle;\n    }\n\n    .dataframe tbody tr th {\n        vertical-align: top;\n    }\n\n    .dataframe thead tr th {\n        text-align: left;\n    }\n</style>\n<table border=\"1\" class=\"dataframe\">\n  <thead>\n    <tr>\n      <th></th>\n      <th></th>\n      <th></th>\n      <th>lvl0</th>\n      <th colspan=\"2\" halign=\"left\">a</th>\n      <th colspan=\"2\" halign=\"left\">b</th>\n    </tr>\n    <tr>\n      <th></th>\n      <th></th>\n      <th></th>\n      <th>lvl1</th>\n      <th>bar</th>\n      <th>foo</th>\n      <th>bah</th>\n      <th>foo</th>\n    </tr>\n  </thead>\n  <tbody>\n    <tr>\n      <th rowspan=\"8\" valign=\"top\">A1</th>\n      <th rowspan=\"4\" valign=\"top\">B0</th>\n      <th rowspan=\"2\" valign=\"top\">C1</th>\n      <th>D0</th>\n      <td>73</td>\n      <td>72</td>\n      <td>75</td>\n      <td>74</td>\n    </tr>\n    <tr>\n      <th>D1</th>\n      <td>77</td>\n      <td>76</td>\n      <td>79</td>\n      <td>78</td>\n    </tr>\n    <tr>\n      <th rowspan=\"2\" valign=\"top\">C3</th>\n      <th>D0</th>\n      <td>89</td>\n      <td>88</td>\n      <td>91</td>\n      <td>90</td>\n    </tr>\n    <tr>\n      <th>D1</th>\n      <td>93</td>\n      <td>92</td>\n      <td>95</td>\n      <td>94</td>\n    </tr>\n    <tr>\n      <th rowspan=\"4\" valign=\"top\">B1</th>\n      <th rowspan=\"2\" valign=\"top\">C1</th>\n      <th>D0</th>\n      <td>105</td>\n      <td>104</td>\n      <td>107</td>\n      <td>106</td>\n    </tr>\n    <tr>\n      <th>D1</th>\n      <td>109</td>\n      <td>108</td>\n      <td>111</td>\n      <td>110</td>\n    </tr>\n    <tr>\n      <th rowspan=\"2\" valign=\"top\">C3</th>\n      <th>D0</th>\n      <td>121</td>\n      <td>120</td>\n      <td>123</td>\n      <td>122</td>\n    </tr>\n    <tr>\n      <th>D1</th>\n      <td>125</td>\n      <td>124</td>\n      <td>127</td>\n      <td>126</td>\n    </tr>\n    <tr>\n      <th rowspan=\"8\" valign=\"top\">A2</th>\n      <th rowspan=\"4\" valign=\"top\">B0</th>\n      <th rowspan=\"2\" valign=\"top\">C1</th>\n      <th>D0</th>\n      <td>137</td>\n      <td>136</td>\n      <td>139</td>\n      <td>138</td>\n    </tr>\n    <tr>\n      <th>D1</th>\n      <td>141</td>\n      <td>140</td>\n      <td>143</td>\n      <td>142</td>\n    </tr>\n    <tr>\n      <th rowspan=\"2\" valign=\"top\">C3</th>\n      <th>D0</th>\n      <td>153</td>\n      <td>152</td>\n      <td>155</td>\n      <td>154</td>\n    </tr>\n    <tr>\n      <th>D1</th>\n      <td>157</td>\n      <td>156</td>\n      <td>159</td>\n      <td>158</td>\n    </tr>\n    <tr>\n      <th rowspan=\"4\" valign=\"top\">B1</th>\n      <th rowspan=\"2\" valign=\"top\">C1</th>\n      <th>D0</th>\n      <td>169</td>\n      <td>168</td>\n      <td>171</td>\n      <td>170</td>\n    </tr>\n    <tr>\n      <th>D1</th>\n      <td>173</td>\n      <td>172</td>\n      <td>175</td>\n      <td>174</td>\n    </tr>\n    <tr>\n      <th rowspan=\"2\" valign=\"top\">C3</th>\n      <th>D0</th>\n      <td>185</td>\n      <td>184</td>\n      <td>187</td>\n      <td>186</td>\n    </tr>\n    <tr>\n      <th>D1</th>\n      <td>189</td>\n      <td>188</td>\n      <td>191</td>\n      <td>190</td>\n    </tr>\n    <tr>\n      <th rowspan=\"8\" valign=\"top\">A3</th>\n      <th rowspan=\"4\" valign=\"top\">B0</th>\n      <th rowspan=\"2\" valign=\"top\">C1</th>\n      <th>D0</th>\n      <td>201</td>\n      <td>200</td>\n      <td>203</td>\n      <td>202</td>\n    </tr>\n    <tr>\n      <th>D1</th>\n      <td>205</td>\n      <td>204</td>\n      <td>207</td>\n      <td>206</td>\n    </tr>\n    <tr>\n      <th rowspan=\"2\" valign=\"top\">C3</th>\n      <th>D0</th>\n      <td>217</td>\n      <td>216</td>\n      <td>219</td>\n      <td>218</td>\n    </tr>\n    <tr>\n      <th>D1</th>\n      <td>221</td>\n      <td>220</td>\n      <td>223</td>\n      <td>222</td>\n    </tr>\n    <tr>\n      <th rowspan=\"4\" valign=\"top\">B1</th>\n      <th rowspan=\"2\" valign=\"top\">C1</th>\n      <th>D0</th>\n      <td>233</td>\n      <td>232</td>\n      <td>235</td>\n      <td>234</td>\n    </tr>\n    <tr>\n      <th>D1</th>\n      <td>237</td>\n      <td>236</td>\n      <td>239</td>\n      <td>238</td>\n    </tr>\n    <tr>\n      <th rowspan=\"2\" valign=\"top\">C3</th>\n      <th>D0</th>\n      <td>249</td>\n      <td>248</td>\n      <td>251</td>\n      <td>250</td>\n    </tr>\n    <tr>\n      <th>D1</th>\n      <td>253</td>\n      <td>252</td>\n      <td>255</td>\n      <td>254</td>\n    </tr>\n  </tbody>\n</table>\n</div>"
     },
     "execution_count": 41,
     "metadata": {},
     "output_type": "execute_result"
    }
   ],
   "source": [
    "dfmi.loc[(slice('A1', 'A3'), slice(None), ['C1', 'C3']), :]"
   ],
   "metadata": {
    "collapsed": false,
    "pycharm": {
     "name": "#%%\n"
    }
   }
  },
  {
   "cell_type": "code",
   "execution_count": 42,
   "outputs": [
    {
     "data": {
      "text/plain": "<pandas.core.indexing._IndexSlice at 0x25723b1d6c8>"
     },
     "execution_count": 42,
     "metadata": {},
     "output_type": "execute_result"
    }
   ],
   "source": [
    "idx = pd.IndexSlice\n",
    "idx"
   ],
   "metadata": {
    "collapsed": false,
    "pycharm": {
     "name": "#%%\n"
    }
   }
  },
  {
   "cell_type": "code",
   "execution_count": 43,
   "outputs": [
    {
     "data": {
      "text/plain": "lvl0           a    b\nlvl1         foo  foo\nA0 B0 C1 D0    8   10\n         D1   12   14\n      C3 D0   24   26\n         D1   28   30\n   B1 C1 D0   40   42\n         D1   44   46\n      C3 D0   56   58\n         D1   60   62\nA1 B0 C1 D0   72   74\n         D1   76   78\n      C3 D0   88   90\n         D1   92   94\n   B1 C1 D0  104  106\n         D1  108  110\n      C3 D0  120  122\n         D1  124  126\nA2 B0 C1 D0  136  138\n         D1  140  142\n      C3 D0  152  154\n         D1  156  158\n   B1 C1 D0  168  170\n         D1  172  174\n      C3 D0  184  186\n         D1  188  190\nA3 B0 C1 D0  200  202\n         D1  204  206\n      C3 D0  216  218\n         D1  220  222\n   B1 C1 D0  232  234\n         D1  236  238\n      C3 D0  248  250\n         D1  252  254",
      "text/html": "<div>\n<style scoped>\n    .dataframe tbody tr th:only-of-type {\n        vertical-align: middle;\n    }\n\n    .dataframe tbody tr th {\n        vertical-align: top;\n    }\n\n    .dataframe thead tr th {\n        text-align: left;\n    }\n</style>\n<table border=\"1\" class=\"dataframe\">\n  <thead>\n    <tr>\n      <th></th>\n      <th></th>\n      <th></th>\n      <th>lvl0</th>\n      <th>a</th>\n      <th>b</th>\n    </tr>\n    <tr>\n      <th></th>\n      <th></th>\n      <th></th>\n      <th>lvl1</th>\n      <th>foo</th>\n      <th>foo</th>\n    </tr>\n  </thead>\n  <tbody>\n    <tr>\n      <th rowspan=\"8\" valign=\"top\">A0</th>\n      <th rowspan=\"4\" valign=\"top\">B0</th>\n      <th rowspan=\"2\" valign=\"top\">C1</th>\n      <th>D0</th>\n      <td>8</td>\n      <td>10</td>\n    </tr>\n    <tr>\n      <th>D1</th>\n      <td>12</td>\n      <td>14</td>\n    </tr>\n    <tr>\n      <th rowspan=\"2\" valign=\"top\">C3</th>\n      <th>D0</th>\n      <td>24</td>\n      <td>26</td>\n    </tr>\n    <tr>\n      <th>D1</th>\n      <td>28</td>\n      <td>30</td>\n    </tr>\n    <tr>\n      <th rowspan=\"4\" valign=\"top\">B1</th>\n      <th rowspan=\"2\" valign=\"top\">C1</th>\n      <th>D0</th>\n      <td>40</td>\n      <td>42</td>\n    </tr>\n    <tr>\n      <th>D1</th>\n      <td>44</td>\n      <td>46</td>\n    </tr>\n    <tr>\n      <th rowspan=\"2\" valign=\"top\">C3</th>\n      <th>D0</th>\n      <td>56</td>\n      <td>58</td>\n    </tr>\n    <tr>\n      <th>D1</th>\n      <td>60</td>\n      <td>62</td>\n    </tr>\n    <tr>\n      <th rowspan=\"8\" valign=\"top\">A1</th>\n      <th rowspan=\"4\" valign=\"top\">B0</th>\n      <th rowspan=\"2\" valign=\"top\">C1</th>\n      <th>D0</th>\n      <td>72</td>\n      <td>74</td>\n    </tr>\n    <tr>\n      <th>D1</th>\n      <td>76</td>\n      <td>78</td>\n    </tr>\n    <tr>\n      <th rowspan=\"2\" valign=\"top\">C3</th>\n      <th>D0</th>\n      <td>88</td>\n      <td>90</td>\n    </tr>\n    <tr>\n      <th>D1</th>\n      <td>92</td>\n      <td>94</td>\n    </tr>\n    <tr>\n      <th rowspan=\"4\" valign=\"top\">B1</th>\n      <th rowspan=\"2\" valign=\"top\">C1</th>\n      <th>D0</th>\n      <td>104</td>\n      <td>106</td>\n    </tr>\n    <tr>\n      <th>D1</th>\n      <td>108</td>\n      <td>110</td>\n    </tr>\n    <tr>\n      <th rowspan=\"2\" valign=\"top\">C3</th>\n      <th>D0</th>\n      <td>120</td>\n      <td>122</td>\n    </tr>\n    <tr>\n      <th>D1</th>\n      <td>124</td>\n      <td>126</td>\n    </tr>\n    <tr>\n      <th rowspan=\"8\" valign=\"top\">A2</th>\n      <th rowspan=\"4\" valign=\"top\">B0</th>\n      <th rowspan=\"2\" valign=\"top\">C1</th>\n      <th>D0</th>\n      <td>136</td>\n      <td>138</td>\n    </tr>\n    <tr>\n      <th>D1</th>\n      <td>140</td>\n      <td>142</td>\n    </tr>\n    <tr>\n      <th rowspan=\"2\" valign=\"top\">C3</th>\n      <th>D0</th>\n      <td>152</td>\n      <td>154</td>\n    </tr>\n    <tr>\n      <th>D1</th>\n      <td>156</td>\n      <td>158</td>\n    </tr>\n    <tr>\n      <th rowspan=\"4\" valign=\"top\">B1</th>\n      <th rowspan=\"2\" valign=\"top\">C1</th>\n      <th>D0</th>\n      <td>168</td>\n      <td>170</td>\n    </tr>\n    <tr>\n      <th>D1</th>\n      <td>172</td>\n      <td>174</td>\n    </tr>\n    <tr>\n      <th rowspan=\"2\" valign=\"top\">C3</th>\n      <th>D0</th>\n      <td>184</td>\n      <td>186</td>\n    </tr>\n    <tr>\n      <th>D1</th>\n      <td>188</td>\n      <td>190</td>\n    </tr>\n    <tr>\n      <th rowspan=\"8\" valign=\"top\">A3</th>\n      <th rowspan=\"4\" valign=\"top\">B0</th>\n      <th rowspan=\"2\" valign=\"top\">C1</th>\n      <th>D0</th>\n      <td>200</td>\n      <td>202</td>\n    </tr>\n    <tr>\n      <th>D1</th>\n      <td>204</td>\n      <td>206</td>\n    </tr>\n    <tr>\n      <th rowspan=\"2\" valign=\"top\">C3</th>\n      <th>D0</th>\n      <td>216</td>\n      <td>218</td>\n    </tr>\n    <tr>\n      <th>D1</th>\n      <td>220</td>\n      <td>222</td>\n    </tr>\n    <tr>\n      <th rowspan=\"4\" valign=\"top\">B1</th>\n      <th rowspan=\"2\" valign=\"top\">C1</th>\n      <th>D0</th>\n      <td>232</td>\n      <td>234</td>\n    </tr>\n    <tr>\n      <th>D1</th>\n      <td>236</td>\n      <td>238</td>\n    </tr>\n    <tr>\n      <th rowspan=\"2\" valign=\"top\">C3</th>\n      <th>D0</th>\n      <td>248</td>\n      <td>250</td>\n    </tr>\n    <tr>\n      <th>D1</th>\n      <td>252</td>\n      <td>254</td>\n    </tr>\n  </tbody>\n</table>\n</div>"
     },
     "execution_count": 43,
     "metadata": {},
     "output_type": "execute_result"
    }
   ],
   "source": [
    "dfmi.loc[idx[:, :, ['C1', 'C3']], idx[:, 'foo']]\n",
    "\n"
   ],
   "metadata": {
    "collapsed": false,
    "pycharm": {
     "name": "#%%\n"
    }
   }
  },
  {
   "cell_type": "code",
   "execution_count": 44,
   "outputs": [
    {
     "data": {
      "text/plain": "lvl0        a    b\nlvl1      foo  foo\nB0 C0 D0   64   66\n      D1   68   70\n   C1 D0   72   74\n      D1   76   78\n   C2 D0   80   82\n      D1   84   86\n   C3 D0   88   90\n      D1   92   94\nB1 C0 D0   96   98\n      D1  100  102\n   C1 D0  104  106\n      D1  108  110\n   C2 D0  112  114\n      D1  116  118\n   C3 D0  120  122\n      D1  124  126",
      "text/html": "<div>\n<style scoped>\n    .dataframe tbody tr th:only-of-type {\n        vertical-align: middle;\n    }\n\n    .dataframe tbody tr th {\n        vertical-align: top;\n    }\n\n    .dataframe thead tr th {\n        text-align: left;\n    }\n</style>\n<table border=\"1\" class=\"dataframe\">\n  <thead>\n    <tr>\n      <th></th>\n      <th></th>\n      <th>lvl0</th>\n      <th>a</th>\n      <th>b</th>\n    </tr>\n    <tr>\n      <th></th>\n      <th></th>\n      <th>lvl1</th>\n      <th>foo</th>\n      <th>foo</th>\n    </tr>\n  </thead>\n  <tbody>\n    <tr>\n      <th rowspan=\"8\" valign=\"top\">B0</th>\n      <th rowspan=\"2\" valign=\"top\">C0</th>\n      <th>D0</th>\n      <td>64</td>\n      <td>66</td>\n    </tr>\n    <tr>\n      <th>D1</th>\n      <td>68</td>\n      <td>70</td>\n    </tr>\n    <tr>\n      <th rowspan=\"2\" valign=\"top\">C1</th>\n      <th>D0</th>\n      <td>72</td>\n      <td>74</td>\n    </tr>\n    <tr>\n      <th>D1</th>\n      <td>76</td>\n      <td>78</td>\n    </tr>\n    <tr>\n      <th rowspan=\"2\" valign=\"top\">C2</th>\n      <th>D0</th>\n      <td>80</td>\n      <td>82</td>\n    </tr>\n    <tr>\n      <th>D1</th>\n      <td>84</td>\n      <td>86</td>\n    </tr>\n    <tr>\n      <th rowspan=\"2\" valign=\"top\">C3</th>\n      <th>D0</th>\n      <td>88</td>\n      <td>90</td>\n    </tr>\n    <tr>\n      <th>D1</th>\n      <td>92</td>\n      <td>94</td>\n    </tr>\n    <tr>\n      <th rowspan=\"8\" valign=\"top\">B1</th>\n      <th rowspan=\"2\" valign=\"top\">C0</th>\n      <th>D0</th>\n      <td>96</td>\n      <td>98</td>\n    </tr>\n    <tr>\n      <th>D1</th>\n      <td>100</td>\n      <td>102</td>\n    </tr>\n    <tr>\n      <th rowspan=\"2\" valign=\"top\">C1</th>\n      <th>D0</th>\n      <td>104</td>\n      <td>106</td>\n    </tr>\n    <tr>\n      <th>D1</th>\n      <td>108</td>\n      <td>110</td>\n    </tr>\n    <tr>\n      <th rowspan=\"2\" valign=\"top\">C2</th>\n      <th>D0</th>\n      <td>112</td>\n      <td>114</td>\n    </tr>\n    <tr>\n      <th>D1</th>\n      <td>116</td>\n      <td>118</td>\n    </tr>\n    <tr>\n      <th rowspan=\"2\" valign=\"top\">C3</th>\n      <th>D0</th>\n      <td>120</td>\n      <td>122</td>\n    </tr>\n    <tr>\n      <th>D1</th>\n      <td>124</td>\n      <td>126</td>\n    </tr>\n  </tbody>\n</table>\n</div>"
     },
     "execution_count": 44,
     "metadata": {},
     "output_type": "execute_result"
    }
   ],
   "source": [
    "dfmi.loc['A1', (slice(None), 'foo')]\n",
    "\n"
   ],
   "metadata": {
    "collapsed": false,
    "pycharm": {
     "name": "#%%\n"
    }
   }
  },
  {
   "cell_type": "code",
   "execution_count": 45,
   "outputs": [
    {
     "data": {
      "text/plain": "lvl0           a    b\nlvl1         foo  foo\nA0 B0 C1 D0    8   10\n         D1   12   14\n      C3 D0   24   26\n         D1   28   30\n   B1 C1 D0   40   42\n         D1   44   46\n      C3 D0   56   58\n         D1   60   62\nA1 B0 C1 D0   72   74\n         D1   76   78\n      C3 D0   88   90\n         D1   92   94\n   B1 C1 D0  104  106\n         D1  108  110\n      C3 D0  120  122\n         D1  124  126\nA2 B0 C1 D0  136  138\n         D1  140  142\n      C3 D0  152  154\n         D1  156  158\n   B1 C1 D0  168  170\n         D1  172  174\n      C3 D0  184  186\n         D1  188  190\nA3 B0 C1 D0  200  202\n         D1  204  206\n      C3 D0  216  218\n         D1  220  222\n   B1 C1 D0  232  234\n         D1  236  238\n      C3 D0  248  250\n         D1  252  254",
      "text/html": "<div>\n<style scoped>\n    .dataframe tbody tr th:only-of-type {\n        vertical-align: middle;\n    }\n\n    .dataframe tbody tr th {\n        vertical-align: top;\n    }\n\n    .dataframe thead tr th {\n        text-align: left;\n    }\n</style>\n<table border=\"1\" class=\"dataframe\">\n  <thead>\n    <tr>\n      <th></th>\n      <th></th>\n      <th></th>\n      <th>lvl0</th>\n      <th>a</th>\n      <th>b</th>\n    </tr>\n    <tr>\n      <th></th>\n      <th></th>\n      <th></th>\n      <th>lvl1</th>\n      <th>foo</th>\n      <th>foo</th>\n    </tr>\n  </thead>\n  <tbody>\n    <tr>\n      <th rowspan=\"8\" valign=\"top\">A0</th>\n      <th rowspan=\"4\" valign=\"top\">B0</th>\n      <th rowspan=\"2\" valign=\"top\">C1</th>\n      <th>D0</th>\n      <td>8</td>\n      <td>10</td>\n    </tr>\n    <tr>\n      <th>D1</th>\n      <td>12</td>\n      <td>14</td>\n    </tr>\n    <tr>\n      <th rowspan=\"2\" valign=\"top\">C3</th>\n      <th>D0</th>\n      <td>24</td>\n      <td>26</td>\n    </tr>\n    <tr>\n      <th>D1</th>\n      <td>28</td>\n      <td>30</td>\n    </tr>\n    <tr>\n      <th rowspan=\"4\" valign=\"top\">B1</th>\n      <th rowspan=\"2\" valign=\"top\">C1</th>\n      <th>D0</th>\n      <td>40</td>\n      <td>42</td>\n    </tr>\n    <tr>\n      <th>D1</th>\n      <td>44</td>\n      <td>46</td>\n    </tr>\n    <tr>\n      <th rowspan=\"2\" valign=\"top\">C3</th>\n      <th>D0</th>\n      <td>56</td>\n      <td>58</td>\n    </tr>\n    <tr>\n      <th>D1</th>\n      <td>60</td>\n      <td>62</td>\n    </tr>\n    <tr>\n      <th rowspan=\"8\" valign=\"top\">A1</th>\n      <th rowspan=\"4\" valign=\"top\">B0</th>\n      <th rowspan=\"2\" valign=\"top\">C1</th>\n      <th>D0</th>\n      <td>72</td>\n      <td>74</td>\n    </tr>\n    <tr>\n      <th>D1</th>\n      <td>76</td>\n      <td>78</td>\n    </tr>\n    <tr>\n      <th rowspan=\"2\" valign=\"top\">C3</th>\n      <th>D0</th>\n      <td>88</td>\n      <td>90</td>\n    </tr>\n    <tr>\n      <th>D1</th>\n      <td>92</td>\n      <td>94</td>\n    </tr>\n    <tr>\n      <th rowspan=\"4\" valign=\"top\">B1</th>\n      <th rowspan=\"2\" valign=\"top\">C1</th>\n      <th>D0</th>\n      <td>104</td>\n      <td>106</td>\n    </tr>\n    <tr>\n      <th>D1</th>\n      <td>108</td>\n      <td>110</td>\n    </tr>\n    <tr>\n      <th rowspan=\"2\" valign=\"top\">C3</th>\n      <th>D0</th>\n      <td>120</td>\n      <td>122</td>\n    </tr>\n    <tr>\n      <th>D1</th>\n      <td>124</td>\n      <td>126</td>\n    </tr>\n    <tr>\n      <th rowspan=\"8\" valign=\"top\">A2</th>\n      <th rowspan=\"4\" valign=\"top\">B0</th>\n      <th rowspan=\"2\" valign=\"top\">C1</th>\n      <th>D0</th>\n      <td>136</td>\n      <td>138</td>\n    </tr>\n    <tr>\n      <th>D1</th>\n      <td>140</td>\n      <td>142</td>\n    </tr>\n    <tr>\n      <th rowspan=\"2\" valign=\"top\">C3</th>\n      <th>D0</th>\n      <td>152</td>\n      <td>154</td>\n    </tr>\n    <tr>\n      <th>D1</th>\n      <td>156</td>\n      <td>158</td>\n    </tr>\n    <tr>\n      <th rowspan=\"4\" valign=\"top\">B1</th>\n      <th rowspan=\"2\" valign=\"top\">C1</th>\n      <th>D0</th>\n      <td>168</td>\n      <td>170</td>\n    </tr>\n    <tr>\n      <th>D1</th>\n      <td>172</td>\n      <td>174</td>\n    </tr>\n    <tr>\n      <th rowspan=\"2\" valign=\"top\">C3</th>\n      <th>D0</th>\n      <td>184</td>\n      <td>186</td>\n    </tr>\n    <tr>\n      <th>D1</th>\n      <td>188</td>\n      <td>190</td>\n    </tr>\n    <tr>\n      <th rowspan=\"8\" valign=\"top\">A3</th>\n      <th rowspan=\"4\" valign=\"top\">B0</th>\n      <th rowspan=\"2\" valign=\"top\">C1</th>\n      <th>D0</th>\n      <td>200</td>\n      <td>202</td>\n    </tr>\n    <tr>\n      <th>D1</th>\n      <td>204</td>\n      <td>206</td>\n    </tr>\n    <tr>\n      <th rowspan=\"2\" valign=\"top\">C3</th>\n      <th>D0</th>\n      <td>216</td>\n      <td>218</td>\n    </tr>\n    <tr>\n      <th>D1</th>\n      <td>220</td>\n      <td>222</td>\n    </tr>\n    <tr>\n      <th rowspan=\"4\" valign=\"top\">B1</th>\n      <th rowspan=\"2\" valign=\"top\">C1</th>\n      <th>D0</th>\n      <td>232</td>\n      <td>234</td>\n    </tr>\n    <tr>\n      <th>D1</th>\n      <td>236</td>\n      <td>238</td>\n    </tr>\n    <tr>\n      <th rowspan=\"2\" valign=\"top\">C3</th>\n      <th>D0</th>\n      <td>248</td>\n      <td>250</td>\n    </tr>\n    <tr>\n      <th>D1</th>\n      <td>252</td>\n      <td>254</td>\n    </tr>\n  </tbody>\n</table>\n</div>"
     },
     "execution_count": 45,
     "metadata": {},
     "output_type": "execute_result"
    }
   ],
   "source": [
    "dfmi.loc[idx[:, :, ['C1', 'C3']], idx[:, 'foo']]"
   ],
   "metadata": {
    "collapsed": false,
    "pycharm": {
     "name": "#%%\n"
    }
   }
  },
  {
   "cell_type": "code",
   "execution_count": 46,
   "outputs": [
    {
     "data": {
      "text/plain": "lvl0           a    b\nlvl1         foo  foo\nA3 B0 C1 D1  204  206\n      C3 D0  216  218\n         D1  220  222\n   B1 C1 D0  232  234\n         D1  236  238\n      C3 D0  248  250\n         D1  252  254",
      "text/html": "<div>\n<style scoped>\n    .dataframe tbody tr th:only-of-type {\n        vertical-align: middle;\n    }\n\n    .dataframe tbody tr th {\n        vertical-align: top;\n    }\n\n    .dataframe thead tr th {\n        text-align: left;\n    }\n</style>\n<table border=\"1\" class=\"dataframe\">\n  <thead>\n    <tr>\n      <th></th>\n      <th></th>\n      <th></th>\n      <th>lvl0</th>\n      <th>a</th>\n      <th>b</th>\n    </tr>\n    <tr>\n      <th></th>\n      <th></th>\n      <th></th>\n      <th>lvl1</th>\n      <th>foo</th>\n      <th>foo</th>\n    </tr>\n  </thead>\n  <tbody>\n    <tr>\n      <th rowspan=\"7\" valign=\"top\">A3</th>\n      <th rowspan=\"3\" valign=\"top\">B0</th>\n      <th>C1</th>\n      <th>D1</th>\n      <td>204</td>\n      <td>206</td>\n    </tr>\n    <tr>\n      <th rowspan=\"2\" valign=\"top\">C3</th>\n      <th>D0</th>\n      <td>216</td>\n      <td>218</td>\n    </tr>\n    <tr>\n      <th>D1</th>\n      <td>220</td>\n      <td>222</td>\n    </tr>\n    <tr>\n      <th rowspan=\"4\" valign=\"top\">B1</th>\n      <th rowspan=\"2\" valign=\"top\">C1</th>\n      <th>D0</th>\n      <td>232</td>\n      <td>234</td>\n    </tr>\n    <tr>\n      <th>D1</th>\n      <td>236</td>\n      <td>238</td>\n    </tr>\n    <tr>\n      <th rowspan=\"2\" valign=\"top\">C3</th>\n      <th>D0</th>\n      <td>248</td>\n      <td>250</td>\n    </tr>\n    <tr>\n      <th>D1</th>\n      <td>252</td>\n      <td>254</td>\n    </tr>\n  </tbody>\n</table>\n</div>"
     },
     "execution_count": 46,
     "metadata": {},
     "output_type": "execute_result"
    }
   ],
   "source": [
    "mask = dfmi[('a', 'foo')] > 200\n",
    "dfmi.loc[idx[mask, :, ['C1', 'C3']], idx[:, 'foo']]\n"
   ],
   "metadata": {
    "collapsed": false,
    "pycharm": {
     "name": "#%%\n"
    }
   }
  },
  {
   "cell_type": "code",
   "execution_count": 47,
   "outputs": [
    {
     "data": {
      "text/plain": "lvl0           a         b     \nlvl1         bar  foo  bah  foo\nA0 B0 C1 D0    9    8   11   10\n         D1   13   12   15   14\n      C3 D0   25   24   27   26\n         D1   29   28   31   30\n   B1 C1 D0   41   40   43   42\n         D1   45   44   47   46\n      C3 D0   57   56   59   58\n         D1   61   60   63   62\nA1 B0 C1 D0   73   72   75   74\n         D1   77   76   79   78\n      C3 D0   89   88   91   90\n         D1   93   92   95   94\n   B1 C1 D0  105  104  107  106\n         D1  109  108  111  110\n      C3 D0  121  120  123  122\n         D1  125  124  127  126\nA2 B0 C1 D0  137  136  139  138\n         D1  141  140  143  142\n      C3 D0  153  152  155  154\n         D1  157  156  159  158\n   B1 C1 D0  169  168  171  170\n         D1  173  172  175  174\n      C3 D0  185  184  187  186\n         D1  189  188  191  190\nA3 B0 C1 D0  201  200  203  202\n         D1  205  204  207  206\n      C3 D0  217  216  219  218\n         D1  221  220  223  222\n   B1 C1 D0  233  232  235  234\n         D1  237  236  239  238\n      C3 D0  249  248  251  250\n         D1  253  252  255  254",
      "text/html": "<div>\n<style scoped>\n    .dataframe tbody tr th:only-of-type {\n        vertical-align: middle;\n    }\n\n    .dataframe tbody tr th {\n        vertical-align: top;\n    }\n\n    .dataframe thead tr th {\n        text-align: left;\n    }\n</style>\n<table border=\"1\" class=\"dataframe\">\n  <thead>\n    <tr>\n      <th></th>\n      <th></th>\n      <th></th>\n      <th>lvl0</th>\n      <th colspan=\"2\" halign=\"left\">a</th>\n      <th colspan=\"2\" halign=\"left\">b</th>\n    </tr>\n    <tr>\n      <th></th>\n      <th></th>\n      <th></th>\n      <th>lvl1</th>\n      <th>bar</th>\n      <th>foo</th>\n      <th>bah</th>\n      <th>foo</th>\n    </tr>\n  </thead>\n  <tbody>\n    <tr>\n      <th rowspan=\"8\" valign=\"top\">A0</th>\n      <th rowspan=\"4\" valign=\"top\">B0</th>\n      <th rowspan=\"2\" valign=\"top\">C1</th>\n      <th>D0</th>\n      <td>9</td>\n      <td>8</td>\n      <td>11</td>\n      <td>10</td>\n    </tr>\n    <tr>\n      <th>D1</th>\n      <td>13</td>\n      <td>12</td>\n      <td>15</td>\n      <td>14</td>\n    </tr>\n    <tr>\n      <th rowspan=\"2\" valign=\"top\">C3</th>\n      <th>D0</th>\n      <td>25</td>\n      <td>24</td>\n      <td>27</td>\n      <td>26</td>\n    </tr>\n    <tr>\n      <th>D1</th>\n      <td>29</td>\n      <td>28</td>\n      <td>31</td>\n      <td>30</td>\n    </tr>\n    <tr>\n      <th rowspan=\"4\" valign=\"top\">B1</th>\n      <th rowspan=\"2\" valign=\"top\">C1</th>\n      <th>D0</th>\n      <td>41</td>\n      <td>40</td>\n      <td>43</td>\n      <td>42</td>\n    </tr>\n    <tr>\n      <th>D1</th>\n      <td>45</td>\n      <td>44</td>\n      <td>47</td>\n      <td>46</td>\n    </tr>\n    <tr>\n      <th rowspan=\"2\" valign=\"top\">C3</th>\n      <th>D0</th>\n      <td>57</td>\n      <td>56</td>\n      <td>59</td>\n      <td>58</td>\n    </tr>\n    <tr>\n      <th>D1</th>\n      <td>61</td>\n      <td>60</td>\n      <td>63</td>\n      <td>62</td>\n    </tr>\n    <tr>\n      <th rowspan=\"8\" valign=\"top\">A1</th>\n      <th rowspan=\"4\" valign=\"top\">B0</th>\n      <th rowspan=\"2\" valign=\"top\">C1</th>\n      <th>D0</th>\n      <td>73</td>\n      <td>72</td>\n      <td>75</td>\n      <td>74</td>\n    </tr>\n    <tr>\n      <th>D1</th>\n      <td>77</td>\n      <td>76</td>\n      <td>79</td>\n      <td>78</td>\n    </tr>\n    <tr>\n      <th rowspan=\"2\" valign=\"top\">C3</th>\n      <th>D0</th>\n      <td>89</td>\n      <td>88</td>\n      <td>91</td>\n      <td>90</td>\n    </tr>\n    <tr>\n      <th>D1</th>\n      <td>93</td>\n      <td>92</td>\n      <td>95</td>\n      <td>94</td>\n    </tr>\n    <tr>\n      <th rowspan=\"4\" valign=\"top\">B1</th>\n      <th rowspan=\"2\" valign=\"top\">C1</th>\n      <th>D0</th>\n      <td>105</td>\n      <td>104</td>\n      <td>107</td>\n      <td>106</td>\n    </tr>\n    <tr>\n      <th>D1</th>\n      <td>109</td>\n      <td>108</td>\n      <td>111</td>\n      <td>110</td>\n    </tr>\n    <tr>\n      <th rowspan=\"2\" valign=\"top\">C3</th>\n      <th>D0</th>\n      <td>121</td>\n      <td>120</td>\n      <td>123</td>\n      <td>122</td>\n    </tr>\n    <tr>\n      <th>D1</th>\n      <td>125</td>\n      <td>124</td>\n      <td>127</td>\n      <td>126</td>\n    </tr>\n    <tr>\n      <th rowspan=\"8\" valign=\"top\">A2</th>\n      <th rowspan=\"4\" valign=\"top\">B0</th>\n      <th rowspan=\"2\" valign=\"top\">C1</th>\n      <th>D0</th>\n      <td>137</td>\n      <td>136</td>\n      <td>139</td>\n      <td>138</td>\n    </tr>\n    <tr>\n      <th>D1</th>\n      <td>141</td>\n      <td>140</td>\n      <td>143</td>\n      <td>142</td>\n    </tr>\n    <tr>\n      <th rowspan=\"2\" valign=\"top\">C3</th>\n      <th>D0</th>\n      <td>153</td>\n      <td>152</td>\n      <td>155</td>\n      <td>154</td>\n    </tr>\n    <tr>\n      <th>D1</th>\n      <td>157</td>\n      <td>156</td>\n      <td>159</td>\n      <td>158</td>\n    </tr>\n    <tr>\n      <th rowspan=\"4\" valign=\"top\">B1</th>\n      <th rowspan=\"2\" valign=\"top\">C1</th>\n      <th>D0</th>\n      <td>169</td>\n      <td>168</td>\n      <td>171</td>\n      <td>170</td>\n    </tr>\n    <tr>\n      <th>D1</th>\n      <td>173</td>\n      <td>172</td>\n      <td>175</td>\n      <td>174</td>\n    </tr>\n    <tr>\n      <th rowspan=\"2\" valign=\"top\">C3</th>\n      <th>D0</th>\n      <td>185</td>\n      <td>184</td>\n      <td>187</td>\n      <td>186</td>\n    </tr>\n    <tr>\n      <th>D1</th>\n      <td>189</td>\n      <td>188</td>\n      <td>191</td>\n      <td>190</td>\n    </tr>\n    <tr>\n      <th rowspan=\"8\" valign=\"top\">A3</th>\n      <th rowspan=\"4\" valign=\"top\">B0</th>\n      <th rowspan=\"2\" valign=\"top\">C1</th>\n      <th>D0</th>\n      <td>201</td>\n      <td>200</td>\n      <td>203</td>\n      <td>202</td>\n    </tr>\n    <tr>\n      <th>D1</th>\n      <td>205</td>\n      <td>204</td>\n      <td>207</td>\n      <td>206</td>\n    </tr>\n    <tr>\n      <th rowspan=\"2\" valign=\"top\">C3</th>\n      <th>D0</th>\n      <td>217</td>\n      <td>216</td>\n      <td>219</td>\n      <td>218</td>\n    </tr>\n    <tr>\n      <th>D1</th>\n      <td>221</td>\n      <td>220</td>\n      <td>223</td>\n      <td>222</td>\n    </tr>\n    <tr>\n      <th rowspan=\"4\" valign=\"top\">B1</th>\n      <th rowspan=\"2\" valign=\"top\">C1</th>\n      <th>D0</th>\n      <td>233</td>\n      <td>232</td>\n      <td>235</td>\n      <td>234</td>\n    </tr>\n    <tr>\n      <th>D1</th>\n      <td>237</td>\n      <td>236</td>\n      <td>239</td>\n      <td>238</td>\n    </tr>\n    <tr>\n      <th rowspan=\"2\" valign=\"top\">C3</th>\n      <th>D0</th>\n      <td>249</td>\n      <td>248</td>\n      <td>251</td>\n      <td>250</td>\n    </tr>\n    <tr>\n      <th>D1</th>\n      <td>253</td>\n      <td>252</td>\n      <td>255</td>\n      <td>254</td>\n    </tr>\n  </tbody>\n</table>\n</div>"
     },
     "execution_count": 47,
     "metadata": {},
     "output_type": "execute_result"
    }
   ],
   "source": [
    "dfmi.loc(axis=0)[:, :, ['C1', 'C3']]\n",
    "\n"
   ],
   "metadata": {
    "collapsed": false,
    "pycharm": {
     "name": "#%%\n"
    }
   }
  },
  {
   "cell_type": "code",
   "execution_count": 48,
   "outputs": [
    {
     "data": {
      "text/plain": "lvl0           a         b     \nlvl1         bar  foo  bah  foo\nA0 B0 C0 D0    1    0    3    2\n         D1    5    4    7    6\n      C1 D0  -10  -10  -10  -10\n         D1  -10  -10  -10  -10\n      C2 D0   17   16   19   18\n...          ...  ...  ...  ...\nA3 B1 C1 D1  -10  -10  -10  -10\n      C2 D0  241  240  243  242\n         D1  245  244  247  246\n      C3 D0  -10  -10  -10  -10\n         D1  -10  -10  -10  -10\n\n[64 rows x 4 columns]",
      "text/html": "<div>\n<style scoped>\n    .dataframe tbody tr th:only-of-type {\n        vertical-align: middle;\n    }\n\n    .dataframe tbody tr th {\n        vertical-align: top;\n    }\n\n    .dataframe thead tr th {\n        text-align: left;\n    }\n</style>\n<table border=\"1\" class=\"dataframe\">\n  <thead>\n    <tr>\n      <th></th>\n      <th></th>\n      <th></th>\n      <th>lvl0</th>\n      <th colspan=\"2\" halign=\"left\">a</th>\n      <th colspan=\"2\" halign=\"left\">b</th>\n    </tr>\n    <tr>\n      <th></th>\n      <th></th>\n      <th></th>\n      <th>lvl1</th>\n      <th>bar</th>\n      <th>foo</th>\n      <th>bah</th>\n      <th>foo</th>\n    </tr>\n  </thead>\n  <tbody>\n    <tr>\n      <th rowspan=\"5\" valign=\"top\">A0</th>\n      <th rowspan=\"5\" valign=\"top\">B0</th>\n      <th rowspan=\"2\" valign=\"top\">C0</th>\n      <th>D0</th>\n      <td>1</td>\n      <td>0</td>\n      <td>3</td>\n      <td>2</td>\n    </tr>\n    <tr>\n      <th>D1</th>\n      <td>5</td>\n      <td>4</td>\n      <td>7</td>\n      <td>6</td>\n    </tr>\n    <tr>\n      <th rowspan=\"2\" valign=\"top\">C1</th>\n      <th>D0</th>\n      <td>-10</td>\n      <td>-10</td>\n      <td>-10</td>\n      <td>-10</td>\n    </tr>\n    <tr>\n      <th>D1</th>\n      <td>-10</td>\n      <td>-10</td>\n      <td>-10</td>\n      <td>-10</td>\n    </tr>\n    <tr>\n      <th>C2</th>\n      <th>D0</th>\n      <td>17</td>\n      <td>16</td>\n      <td>19</td>\n      <td>18</td>\n    </tr>\n    <tr>\n      <th>...</th>\n      <th>...</th>\n      <th>...</th>\n      <th>...</th>\n      <td>...</td>\n      <td>...</td>\n      <td>...</td>\n      <td>...</td>\n    </tr>\n    <tr>\n      <th rowspan=\"5\" valign=\"top\">A3</th>\n      <th rowspan=\"5\" valign=\"top\">B1</th>\n      <th>C1</th>\n      <th>D1</th>\n      <td>-10</td>\n      <td>-10</td>\n      <td>-10</td>\n      <td>-10</td>\n    </tr>\n    <tr>\n      <th rowspan=\"2\" valign=\"top\">C2</th>\n      <th>D0</th>\n      <td>241</td>\n      <td>240</td>\n      <td>243</td>\n      <td>242</td>\n    </tr>\n    <tr>\n      <th>D1</th>\n      <td>245</td>\n      <td>244</td>\n      <td>247</td>\n      <td>246</td>\n    </tr>\n    <tr>\n      <th rowspan=\"2\" valign=\"top\">C3</th>\n      <th>D0</th>\n      <td>-10</td>\n      <td>-10</td>\n      <td>-10</td>\n      <td>-10</td>\n    </tr>\n    <tr>\n      <th>D1</th>\n      <td>-10</td>\n      <td>-10</td>\n      <td>-10</td>\n      <td>-10</td>\n    </tr>\n  </tbody>\n</table>\n<p>64 rows × 4 columns</p>\n</div>"
     },
     "execution_count": 48,
     "metadata": {},
     "output_type": "execute_result"
    }
   ],
   "source": [
    "df2 = dfmi.copy()\n",
    "df2.loc(axis=0)[:, :, ['C1', 'C3']] = -10\n",
    "df2"
   ],
   "metadata": {
    "collapsed": false,
    "pycharm": {
     "name": "#%%\n"
    }
   }
  },
  {
   "cell_type": "code",
   "execution_count": 49,
   "outputs": [
    {
     "data": {
      "text/plain": "lvl0              a               b        \nlvl1            bar     foo     bah     foo\nA0 B0 C0 D0       1       0       3       2\n         D1       5       4       7       6\n      C1 D0    9000    8000   11000   10000\n         D1   13000   12000   15000   14000\n      C2 D0      17      16      19      18\n...             ...     ...     ...     ...\nA3 B1 C1 D1  237000  236000  239000  238000\n      C2 D0     241     240     243     242\n         D1     245     244     247     246\n      C3 D0  249000  248000  251000  250000\n         D1  253000  252000  255000  254000\n\n[64 rows x 4 columns]",
      "text/html": "<div>\n<style scoped>\n    .dataframe tbody tr th:only-of-type {\n        vertical-align: middle;\n    }\n\n    .dataframe tbody tr th {\n        vertical-align: top;\n    }\n\n    .dataframe thead tr th {\n        text-align: left;\n    }\n</style>\n<table border=\"1\" class=\"dataframe\">\n  <thead>\n    <tr>\n      <th></th>\n      <th></th>\n      <th></th>\n      <th>lvl0</th>\n      <th colspan=\"2\" halign=\"left\">a</th>\n      <th colspan=\"2\" halign=\"left\">b</th>\n    </tr>\n    <tr>\n      <th></th>\n      <th></th>\n      <th></th>\n      <th>lvl1</th>\n      <th>bar</th>\n      <th>foo</th>\n      <th>bah</th>\n      <th>foo</th>\n    </tr>\n  </thead>\n  <tbody>\n    <tr>\n      <th rowspan=\"5\" valign=\"top\">A0</th>\n      <th rowspan=\"5\" valign=\"top\">B0</th>\n      <th rowspan=\"2\" valign=\"top\">C0</th>\n      <th>D0</th>\n      <td>1</td>\n      <td>0</td>\n      <td>3</td>\n      <td>2</td>\n    </tr>\n    <tr>\n      <th>D1</th>\n      <td>5</td>\n      <td>4</td>\n      <td>7</td>\n      <td>6</td>\n    </tr>\n    <tr>\n      <th rowspan=\"2\" valign=\"top\">C1</th>\n      <th>D0</th>\n      <td>9000</td>\n      <td>8000</td>\n      <td>11000</td>\n      <td>10000</td>\n    </tr>\n    <tr>\n      <th>D1</th>\n      <td>13000</td>\n      <td>12000</td>\n      <td>15000</td>\n      <td>14000</td>\n    </tr>\n    <tr>\n      <th>C2</th>\n      <th>D0</th>\n      <td>17</td>\n      <td>16</td>\n      <td>19</td>\n      <td>18</td>\n    </tr>\n    <tr>\n      <th>...</th>\n      <th>...</th>\n      <th>...</th>\n      <th>...</th>\n      <td>...</td>\n      <td>...</td>\n      <td>...</td>\n      <td>...</td>\n    </tr>\n    <tr>\n      <th rowspan=\"5\" valign=\"top\">A3</th>\n      <th rowspan=\"5\" valign=\"top\">B1</th>\n      <th>C1</th>\n      <th>D1</th>\n      <td>237000</td>\n      <td>236000</td>\n      <td>239000</td>\n      <td>238000</td>\n    </tr>\n    <tr>\n      <th rowspan=\"2\" valign=\"top\">C2</th>\n      <th>D0</th>\n      <td>241</td>\n      <td>240</td>\n      <td>243</td>\n      <td>242</td>\n    </tr>\n    <tr>\n      <th>D1</th>\n      <td>245</td>\n      <td>244</td>\n      <td>247</td>\n      <td>246</td>\n    </tr>\n    <tr>\n      <th rowspan=\"2\" valign=\"top\">C3</th>\n      <th>D0</th>\n      <td>249000</td>\n      <td>248000</td>\n      <td>251000</td>\n      <td>250000</td>\n    </tr>\n    <tr>\n      <th>D1</th>\n      <td>253000</td>\n      <td>252000</td>\n      <td>255000</td>\n      <td>254000</td>\n    </tr>\n  </tbody>\n</table>\n<p>64 rows × 4 columns</p>\n</div>"
     },
     "execution_count": 49,
     "metadata": {},
     "output_type": "execute_result"
    }
   ],
   "source": [
    "df2 = dfmi.copy()\n",
    "df2.loc[idx[:, :, ['C1', 'C3']], :] = df2 * 1000\n",
    "df2"
   ],
   "metadata": {
    "collapsed": false,
    "pycharm": {
     "name": "#%%\n"
    }
   }
  },
  {
   "cell_type": "code",
   "execution_count": 50,
   "outputs": [
    {
     "data": {
      "text/plain": "(                     A         B         C\n first second                              \n bar   one    -1.086043 -0.672283  1.185807\n       two     0.065821  0.189490  0.779610\n baz   one     1.327927  0.834502 -0.704381\n       two    -1.494102 -0.423646 -0.384619\n foo   one    -0.764866  1.810624  0.965775\n       two     0.129101  0.103364  0.334218\n qux   one    -2.703912 -0.937868  0.537182\n       two     1.799148 -0.972822  0.767749,\n               A         B         C\n first                              \n bar   -1.086043 -0.672283  1.185807\n baz    1.327927  0.834502 -0.704381\n foo   -0.764866  1.810624  0.965775\n qux   -2.703912 -0.937868  0.537182,\n                      A         B         C\n first second                              \n bar   one    -1.086043 -0.672283  1.185807\n baz   one     1.327927  0.834502 -0.704381\n foo   one    -0.764866  1.810624  0.965775\n qux   one    -2.703912 -0.937868  0.537182)"
     },
     "execution_count": 50,
     "metadata": {},
     "output_type": "execute_result"
    }
   ],
   "source": [
    "df,df.xs('one', level='second'),df.loc[(slice(None), 'one'), :]\n",
    "\n"
   ],
   "metadata": {
    "collapsed": false,
    "pycharm": {
     "name": "#%%\n"
    }
   }
  },
  {
   "cell_type": "code",
   "execution_count": 51,
   "outputs": [
    {
     "data": {
      "text/plain": "(first       bar       baz       foo       qux\n A     -1.086043  1.327927 -0.764866 -2.703912\n B     -0.672283  0.834502  1.810624 -0.937868\n C      1.185807 -0.704381  0.965775  0.537182,\n first        bar       baz       foo       qux\n second       one       one       one       one\n A      -1.086043  1.327927 -0.764866 -2.703912\n B      -0.672283  0.834502  1.810624 -0.937868\n C       1.185807 -0.704381  0.965775  0.537182,\n first        bar\n second       one\n A      -1.086043\n B      -0.672283\n C       1.185807,\n A   -1.086043\n B   -0.672283\n C    1.185807\n Name: (bar, one), dtype: float64,\n first        bar       baz       foo       qux\n second       one       one       one       one\n A      -1.086043  1.327927 -0.764866 -2.703912\n B      -0.672283  0.834502  1.810624 -0.937868\n C       1.185807 -0.704381  0.965775  0.537182,\n first       bar       baz       foo       qux\n A     -1.086043  1.327927 -0.764866 -2.703912\n B     -0.672283  0.834502  1.810624 -0.937868\n C      1.185807 -0.704381  0.965775  0.537182)"
     },
     "execution_count": 51,
     "metadata": {},
     "output_type": "execute_result"
    }
   ],
   "source": [
    "df = df.T\n",
    "df.xs('one', level='second', axis=1),\\\n",
    "df.loc[:, (slice(None), 'one')],\\\n",
    "df.xs(('one', 'bar'), level=('second', 'first'), axis=1),\\\n",
    "df.loc[:, ('bar', 'one')],\\\n",
    "df.xs('one', level='second', axis=1, drop_level=False),\\\n",
    "df.xs('one', level='second', axis=1, drop_level=True)\n"
   ],
   "metadata": {
    "collapsed": false,
    "pycharm": {
     "name": "#%%\n"
    }
   }
  },
  {
   "cell_type": "code",
   "execution_count": 52,
   "outputs": [
    {
     "data": {
      "text/plain": "               0         1\none  y -0.456488 -0.347027\n     x -1.543695  0.113849\nzero y  0.476986 -2.036096\n     x -0.113748  0.826455",
      "text/html": "<div>\n<style scoped>\n    .dataframe tbody tr th:only-of-type {\n        vertical-align: middle;\n    }\n\n    .dataframe tbody tr th {\n        vertical-align: top;\n    }\n\n    .dataframe thead th {\n        text-align: right;\n    }\n</style>\n<table border=\"1\" class=\"dataframe\">\n  <thead>\n    <tr style=\"text-align: right;\">\n      <th></th>\n      <th></th>\n      <th>0</th>\n      <th>1</th>\n    </tr>\n  </thead>\n  <tbody>\n    <tr>\n      <th rowspan=\"2\" valign=\"top\">one</th>\n      <th>y</th>\n      <td>-0.456488</td>\n      <td>-0.347027</td>\n    </tr>\n    <tr>\n      <th>x</th>\n      <td>-1.543695</td>\n      <td>0.113849</td>\n    </tr>\n    <tr>\n      <th rowspan=\"2\" valign=\"top\">zero</th>\n      <th>y</th>\n      <td>0.476986</td>\n      <td>-2.036096</td>\n    </tr>\n    <tr>\n      <th>x</th>\n      <td>-0.113748</td>\n      <td>0.826455</td>\n    </tr>\n  </tbody>\n</table>\n</div>"
     },
     "execution_count": 52,
     "metadata": {},
     "output_type": "execute_result"
    }
   ],
   "source": [
    "midx = pd.MultiIndex(levels=[['zero', 'one'], ['x', 'y']],\n",
    "                      codes=[[1, 1, 0, 0], [1, 0, 1, 0]])\n",
    "df = pd.DataFrame(np.random.randn(4, 2), index=midx)\n",
    "df"
   ],
   "metadata": {
    "collapsed": false,
    "pycharm": {
     "name": "#%%\n"
    }
   }
  },
  {
   "cell_type": "code",
   "execution_count": 53,
   "outputs": [
    {
     "data": {
      "text/plain": "             0         1\none  -1.000091 -0.116589\nzero  0.181619 -0.604820",
      "text/html": "<div>\n<style scoped>\n    .dataframe tbody tr th:only-of-type {\n        vertical-align: middle;\n    }\n\n    .dataframe tbody tr th {\n        vertical-align: top;\n    }\n\n    .dataframe thead th {\n        text-align: right;\n    }\n</style>\n<table border=\"1\" class=\"dataframe\">\n  <thead>\n    <tr style=\"text-align: right;\">\n      <th></th>\n      <th>0</th>\n      <th>1</th>\n    </tr>\n  </thead>\n  <tbody>\n    <tr>\n      <th>one</th>\n      <td>-1.000091</td>\n      <td>-0.116589</td>\n    </tr>\n    <tr>\n      <th>zero</th>\n      <td>0.181619</td>\n      <td>-0.604820</td>\n    </tr>\n  </tbody>\n</table>\n</div>"
     },
     "execution_count": 53,
     "metadata": {},
     "output_type": "execute_result"
    }
   ],
   "source": [
    "df2 = df.mean(level=0)\n",
    "df2\n"
   ],
   "metadata": {
    "collapsed": false,
    "pycharm": {
     "name": "#%%\n"
    }
   }
  },
  {
   "cell_type": "code",
   "execution_count": 54,
   "outputs": [
    {
     "data": {
      "text/plain": "               0         1\none  y -1.000091 -0.116589\n     x -1.000091 -0.116589\nzero y  0.181619 -0.604820\n     x  0.181619 -0.604820",
      "text/html": "<div>\n<style scoped>\n    .dataframe tbody tr th:only-of-type {\n        vertical-align: middle;\n    }\n\n    .dataframe tbody tr th {\n        vertical-align: top;\n    }\n\n    .dataframe thead th {\n        text-align: right;\n    }\n</style>\n<table border=\"1\" class=\"dataframe\">\n  <thead>\n    <tr style=\"text-align: right;\">\n      <th></th>\n      <th></th>\n      <th>0</th>\n      <th>1</th>\n    </tr>\n  </thead>\n  <tbody>\n    <tr>\n      <th rowspan=\"2\" valign=\"top\">one</th>\n      <th>y</th>\n      <td>-1.000091</td>\n      <td>-0.116589</td>\n    </tr>\n    <tr>\n      <th>x</th>\n      <td>-1.000091</td>\n      <td>-0.116589</td>\n    </tr>\n    <tr>\n      <th rowspan=\"2\" valign=\"top\">zero</th>\n      <th>y</th>\n      <td>0.181619</td>\n      <td>-0.604820</td>\n    </tr>\n    <tr>\n      <th>x</th>\n      <td>0.181619</td>\n      <td>-0.604820</td>\n    </tr>\n  </tbody>\n</table>\n</div>"
     },
     "execution_count": 54,
     "metadata": {},
     "output_type": "execute_result"
    }
   ],
   "source": [
    "df2.reindex(df.index, level=0)\n",
    "\n"
   ],
   "metadata": {
    "collapsed": false,
    "pycharm": {
     "name": "#%%\n"
    }
   }
  },
  {
   "cell_type": "code",
   "execution_count": 55,
   "outputs": [
    {
     "data": {
      "text/plain": "(               0         1\n one  y -0.456488 -0.347027\n      x -1.543695  0.113849\n zero y  0.476986 -2.036096\n      x -0.113748  0.826455,\n                0         1\n one  y -1.000091 -0.116589\n      x -1.000091 -0.116589\n zero y  0.181619 -0.604820\n      x  0.181619 -0.604820)"
     },
     "execution_count": 55,
     "metadata": {},
     "output_type": "execute_result"
    }
   ],
   "source": [
    "df_aligned, df2_aligned = df.align(df2, level=0)\n",
    "\n",
    "df_aligned, df2_aligned"
   ],
   "metadata": {
    "collapsed": false,
    "pycharm": {
     "name": "#%%\n"
    }
   }
  },
  {
   "cell_type": "code",
   "execution_count": 57,
   "outputs": [
    {
     "data": {
      "text/plain": "(               0         1\n one  y -0.456488 -0.347027\n      x -1.543695  0.113849\n zero y  0.476986 -2.036096\n      x -0.113748  0.826455,\n                0         1\n one  y -0.456488 -0.347027\n      x -1.543695  0.113849\n zero y  0.476986 -2.036096\n      x -0.113748  0.826455,\n                0         1\n y one  -0.456488 -0.347027\n x one  -1.543695  0.113849\n y zero  0.476986 -2.036096\n x zero -0.113748  0.826455)"
     },
     "execution_count": 57,
     "metadata": {},
     "output_type": "execute_result"
    }
   ],
   "source": [
    "df,df[:5],df[:5].swaplevel(0, 1, axis=0)"
   ],
   "metadata": {
    "collapsed": false,
    "pycharm": {
     "name": "#%%\n"
    }
   }
  },
  {
   "cell_type": "code",
   "execution_count": 58,
   "outputs": [
    {
     "data": {
      "text/plain": "               0         1\ny one  -0.456488 -0.347027\nx one  -1.543695  0.113849\ny zero  0.476986 -2.036096\nx zero -0.113748  0.826455",
      "text/html": "<div>\n<style scoped>\n    .dataframe tbody tr th:only-of-type {\n        vertical-align: middle;\n    }\n\n    .dataframe tbody tr th {\n        vertical-align: top;\n    }\n\n    .dataframe thead th {\n        text-align: right;\n    }\n</style>\n<table border=\"1\" class=\"dataframe\">\n  <thead>\n    <tr style=\"text-align: right;\">\n      <th></th>\n      <th></th>\n      <th>0</th>\n      <th>1</th>\n    </tr>\n  </thead>\n  <tbody>\n    <tr>\n      <th>y</th>\n      <th>one</th>\n      <td>-0.456488</td>\n      <td>-0.347027</td>\n    </tr>\n    <tr>\n      <th>x</th>\n      <th>one</th>\n      <td>-1.543695</td>\n      <td>0.113849</td>\n    </tr>\n    <tr>\n      <th>y</th>\n      <th>zero</th>\n      <td>0.476986</td>\n      <td>-2.036096</td>\n    </tr>\n    <tr>\n      <th>x</th>\n      <th>zero</th>\n      <td>-0.113748</td>\n      <td>0.826455</td>\n    </tr>\n  </tbody>\n</table>\n</div>"
     },
     "execution_count": 58,
     "metadata": {},
     "output_type": "execute_result"
    }
   ],
   "source": [
    "df[:5].reorder_levels([1, 0], axis=0)"
   ],
   "metadata": {
    "collapsed": false,
    "pycharm": {
     "name": "#%%\n"
    }
   }
  },
  {
   "cell_type": "code",
   "execution_count": 59,
   "outputs": [
    {
     "data": {
      "text/plain": "(            col0      col1\n one  y -0.456488 -0.347027\n      x -1.543695  0.113849\n zero y  0.476986 -2.036096\n      x -0.113748  0.826455,\n                0         1\n two  z -0.456488 -0.347027\n      x -1.543695  0.113849\n zero z  0.476986 -2.036096\n      x -0.113748  0.826455)"
     },
     "execution_count": 59,
     "metadata": {},
     "output_type": "execute_result"
    }
   ],
   "source": [
    "df.rename(columns={0: \"col0\", 1: \"col1\"}),df.rename(index={\"one\": \"two\", \"y\": \"z\"})"
   ],
   "metadata": {
    "collapsed": false,
    "pycharm": {
     "name": "#%%\n"
    }
   }
  },
  {
   "cell_type": "code",
   "execution_count": 60,
   "outputs": [
    {
     "data": {
      "text/plain": "(                 0         1\n abc  def                    \n one  y   -0.456488 -0.347027\n      x   -1.543695  0.113849\n zero y    0.476986 -2.036096\n      x   -0.113748  0.826455,\n RangeIndex(start=0, stop=2, step=1, name='Cols'))"
     },
     "execution_count": 60,
     "metadata": {},
     "output_type": "execute_result"
    }
   ],
   "source": [
    "df.rename_axis(index=['abc', 'def']),\\\n",
    "df.rename_axis(columns=\"Cols\").columns\n"
   ],
   "metadata": {
    "collapsed": false,
    "pycharm": {
     "name": "#%%\n"
    }
   }
  },
  {
   "cell_type": "code",
   "execution_count": 61,
   "outputs": [
    {
     "data": {
      "text/plain": "(FrozenList(['x', 'y']),\n MultiIndex([(1, 'a'),\n             (1, 'b'),\n             (2, 'a'),\n             (2, 'b')],\n            names=['new name', 'y']))"
     },
     "execution_count": 61,
     "metadata": {},
     "output_type": "execute_result"
    }
   ],
   "source": [
    "mi = pd.MultiIndex.from_product([[1, 2], ['a', 'b']], names=['x', 'y'])\n",
    "mi2 = mi.rename(\"new name\", level=0)\n",
    "mi.names,mi2\n"
   ],
   "metadata": {
    "collapsed": false,
    "pycharm": {
     "name": "#%%\n"
    }
   }
  },
  {
   "cell_type": "code",
   "execution_count": 62,
   "outputs": [
    {
     "data": {
      "text/plain": "(bar  one    0.208889\n qux  two   -0.454686\n      one   -0.325009\n baz  one    0.038683\n bar  two   -0.879312\n foo  two   -0.616047\n baz  two    1.144065\n foo  one    0.768816\n dtype: float64,\n bar  one    0.208889\n      two   -0.879312\n baz  one    0.038683\n      two    1.144065\n foo  one    0.768816\n      two   -0.616047\n qux  one   -0.325009\n      two   -0.454686\n dtype: float64,\n bar  one    0.208889\n      two   -0.879312\n baz  one    0.038683\n      two    1.144065\n foo  one    0.768816\n      two   -0.616047\n qux  one   -0.325009\n      two   -0.454686\n dtype: float64)"
     },
     "execution_count": 62,
     "metadata": {},
     "output_type": "execute_result"
    }
   ],
   "source": [
    "import random\n",
    "random.shuffle(tuples)\n",
    "s = pd.Series(np.random.randn(8), index=pd.MultiIndex.from_tuples(tuples))\n",
    "\n",
    "s,s.sort_index(),s.sort_index(level=0)"
   ],
   "metadata": {
    "collapsed": false,
    "pycharm": {
     "name": "#%%\n"
    }
   }
  },
  {
   "cell_type": "code",
   "execution_count": 63,
   "outputs": [
    {
     "data": {
      "text/plain": "(Int64Index([431, 15, 702, 2, 360, 13, 77, 824, 896, 810], dtype='int64'),\n Int64Index([431, 810, 2], dtype='int64'),\n Int64Index([431, 810, 2], dtype='int64'))"
     },
     "execution_count": 63,
     "metadata": {},
     "output_type": "execute_result"
    }
   ],
   "source": [
    "index = pd.Index(np.random.randint(0, 1000, 10))\n",
    "positions = [0, 9, 3]\n",
    "index,index[positions],index.take(positions)"
   ],
   "metadata": {
    "collapsed": false,
    "pycharm": {
     "name": "#%%\n"
    }
   }
  },
  {
   "cell_type": "code",
   "execution_count": 64,
   "outputs": [
    {
     "data": {
      "text/plain": "(0   -0.390945\n 9   -1.825447\n 3    0.235944\n dtype: float64,\n 0   -0.390945\n 9   -1.825447\n 3    0.235944\n dtype: float64)"
     },
     "execution_count": 64,
     "metadata": {},
     "output_type": "execute_result"
    }
   ],
   "source": [
    "ser = pd.Series(np.random.randn(10))\n",
    "ser.iloc[positions],ser.take(positions)\n"
   ],
   "metadata": {
    "collapsed": false,
    "pycharm": {
     "name": "#%%\n"
    }
   }
  },
  {
   "cell_type": "code",
   "execution_count": 65,
   "outputs": [
    {
     "data": {
      "text/plain": "(          0         1         2\n 1  1.946702  0.119656  1.337331\n 4 -0.411943  0.100451 -2.738437\n 3 -1.591880  1.368280 -0.083351,\n           0         2\n 0  0.990954 -1.414842\n 1  1.946702  1.337331\n 2 -0.375856  0.188712\n 3 -1.591880 -0.083351\n 4 -0.411943 -2.738437)"
     },
     "execution_count": 65,
     "metadata": {},
     "output_type": "execute_result"
    }
   ],
   "source": [
    "frm = pd.DataFrame(np.random.randn(5, 3))\n",
    "frm.take([1, 4, 3]),frm.take([0, 2], axis=1)\n"
   ],
   "metadata": {
    "collapsed": false,
    "pycharm": {
     "name": "#%%\n"
    }
   }
  }
 ],
 "metadata": {
  "kernelspec": {
   "display_name": "Python 3",
   "language": "python",
   "name": "python3"
  },
  "language_info": {
   "codemirror_mode": {
    "name": "ipython",
    "version": 2
   },
   "file_extension": ".py",
   "mimetype": "text/x-python",
   "name": "python",
   "nbconvert_exporter": "python",
   "pygments_lexer": "ipython2",
   "version": "2.7.6"
  }
 },
 "nbformat": 4,
 "nbformat_minor": 0
}