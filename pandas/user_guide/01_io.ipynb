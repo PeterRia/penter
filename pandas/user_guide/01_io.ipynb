{
 "cells": [
  {
   "cell_type": "markdown",
   "metadata": {
    "collapsed": true,
    "pycharm": {
     "name": "#%% md\n"
    }
   },
   "source": [
    "https://pandas.pydata.org/docs/user_guide/io.html\n",
    "pandas I / O API是一组顶级读取器函数，如pandas.read_csv（）一样访问，这些函数通常返回pandas对象。\n",
    "相应的编写器函数是对象方法，可以像DataFrame.to_csv（）一样进行访问。\n",
    "\n"
   ]
  },
  {
   "cell_type": "code",
   "execution_count": 2,
   "outputs": [
    {
     "name": "stdout",
     "output_type": "stream",
     "text": [
      "Wall time: 4 ms\n"
     ]
    },
    {
     "data": {
      "text/plain": "(  col1 col2  col3\n 0    a    b     1\n 1    a    b     2\n 2    c    d     3,\n   col1  col3\n 0    a     1\n 1    a     2\n 2    c     3)"
     },
     "execution_count": 2,
     "metadata": {},
     "output_type": "execute_result"
    }
   ],
   "source": [
    "#  %%time # %%time 将会给出cell的代码运行一次所花费的时间。\n",
    "import numpy as np\n",
    "import pandas as pd\n",
    "\n",
    "from io import StringIO\n",
    "data = ('col1,col2,col3\\n'\n",
    "        'a,b,1\\n'\n",
    "        'a,b,2\\n'\n",
    "        'c,d,3')\n",
    "# %time 将会给出当前行的代码运行一次所花费的时间。\n",
    "# %timeit 使用Python的timeit模块，它将会执行一个语句100，000次(默认情况下)，然后给出运行最快3次的平均值。\n",
    "%time pd.read_csv(StringIO(data)),\\\n",
    "    pd.read_csv(StringIO(data), usecols=lambda x: x.upper() in ['COL1', 'COL3'])\n"
   ],
   "metadata": {
    "collapsed": false,
    "pycharm": {
     "name": "#%%\n"
    }
   }
  },
  {
   "cell_type": "code",
   "execution_count": 3,
   "outputs": [
    {
     "data": {
      "text/plain": "(   a   b   c    d\n 0  1   2   3    4\n 1  5   6   7    8\n 2  9  10  11  NaN,\n    a   b     c     d\n 0  1   2   3.0     4\n 1  5   6   7.0     8\n 2  9  10  11.0  <NA>)"
     },
     "execution_count": 3,
     "metadata": {},
     "output_type": "execute_result"
    }
   ],
   "source": [
    "data = ('a,b,c,d\\n'\n",
    "        '1,2,3,4\\n'\n",
    "        '5,6,7,8\\n'\n",
    "        '9,10,11')\n",
    "df1 = pd.read_csv(StringIO(data), dtype=object)\n",
    "\n",
    "df2 = pd.read_csv(StringIO(data),dtype={'b': object, 'c': np.float64, 'd': 'Int64'})\n",
    "df1,df2"
   ],
   "metadata": {
    "collapsed": false,
    "pycharm": {
     "name": "#%%\n"
    }
   }
  }
 ],
 "metadata": {
  "kernelspec": {
   "display_name": "Python 3",
   "language": "python",
   "name": "python3"
  },
  "language_info": {
   "codemirror_mode": {
    "name": "ipython",
    "version": 2
   },
   "file_extension": ".py",
   "mimetype": "text/x-python",
   "name": "python",
   "nbconvert_exporter": "python",
   "pygments_lexer": "ipython2",
   "version": "2.7.6"
  }
 },
 "nbformat": 4,
 "nbformat_minor": 0
}