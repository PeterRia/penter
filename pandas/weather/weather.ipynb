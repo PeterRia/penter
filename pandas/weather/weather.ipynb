{
 "cells": [
  {
   "cell_type": "code",
   "execution_count": 2,
   "metadata": {
    "pycharm": {
     "is_executing": false
    }
   },
   "outputs": [
    {
     "traceback": [
      "\u001b[1;31m---------------------------------------------------------------------------\u001b[0m",
      "\u001b[1;31mModuleNotFoundError\u001b[0m                       Traceback (most recent call last)",
      "\u001b[1;32m<ipython-input-2-71d2e71f7e81>\u001b[0m in \u001b[0;36m<module>\u001b[1;34m\u001b[0m\n\u001b[0;32m      7\u001b[0m \u001b[1;32mfrom\u001b[0m \u001b[0mdateutil\u001b[0m\u001b[1;33m.\u001b[0m\u001b[0mrelativedelta\u001b[0m \u001b[1;32mimport\u001b[0m \u001b[0mrelativedelta\u001b[0m\u001b[1;33m\u001b[0m\u001b[1;33m\u001b[0m\u001b[0m\n\u001b[0;32m      8\u001b[0m \u001b[1;32mfrom\u001b[0m \u001b[0mmatplotlib\u001b[0m \u001b[1;32mimport\u001b[0m \u001b[0mpyplot\u001b[0m \u001b[1;32mas\u001b[0m \u001b[0mplt\u001b[0m\u001b[1;33m\u001b[0m\u001b[1;33m\u001b[0m\u001b[0m\n\u001b[1;32m----> 9\u001b[1;33m \u001b[1;32mfrom\u001b[0m \u001b[0mweather\u001b[0m \u001b[1;32mimport\u001b[0m \u001b[0mWeather\u001b[0m\u001b[1;33m\u001b[0m\u001b[1;33m\u001b[0m\u001b[0m\n\u001b[0m\u001b[0;32m     10\u001b[0m \u001b[1;33m\u001b[0m\u001b[0m\n",
      "\u001b[1;31mModuleNotFoundError\u001b[0m: No module named 'weather'"
     ],
     "ename": "ModuleNotFoundError",
     "evalue": "No module named 'weather'",
     "output_type": "error"
    }
   ],
   "source": [
    "import pandas as pd\n",
    "%matplotlib inline\n",
    "import requests\n",
    "import json\n",
    "import demjson\n",
    "from datetime import datetime, timedelta\n",
    "from dateutil.relativedelta import relativedelta\n",
    "from matplotlib import pyplot as plt\n",
    "from weather import Weather"
   ]
  },
  {
   "cell_type": "code",
   "execution_count": null,
   "metadata": {
    "pycharm": {
     "is_executing": false
    }
   },
   "outputs": [],
   "source": [
    "Weather('温州').plot_weather('201701', '201906')"
   ]
  },
  {
   "cell_type": "code",
   "execution_count": null,
   "metadata": {
    "scrolled": true,
    "pycharm": {
     "is_executing": false
    }
   },
   "outputs": [],
   "source": [
    "date = '201905'\n",
    "weather = requests.get('http://tianqi.2345.com/t/wea_history/js/{date}/59493_{date}.js'.format(date=date)).text.split('=')[1][:-1]\n",
    "weather = demjson.decode(weather)['tqInfo']\n",
    "pd.DataFrame(weather)\n",
    "               "
   ]
  },
  {
   "cell_type": "code",
   "execution_count": null,
   "metadata": {
    "pycharm": {
     "is_executing": false
    }
   },
   "outputs": [],
   "source": [
    "def read_weather(start, end):\n",
    "    dates = date_generate(start, end)\n",
    "    return pd.concat(map(get_weather, dates))\n",
    "def get_weather(date):\n",
    "    weather = requests.get('http://tianqi.2345.com/t/wea_history/js/{date}/59493_{date}.js'.format(date=date)).text.split('=')[1][:-1]\n",
    "    weather = demjson.decode(weather)['tqInfo']\n",
    "    weather = json.dumps(weather)\n",
    "    df = pd.read_json(weather, orient='records')\n",
    "    df['month'] = date\n",
    "    return df\n",
    "               "
   ]
  },
  {
   "cell_type": "code",
   "execution_count": null,
   "metadata": {
    "pycharm": {
     "is_executing": false
    }
   },
   "outputs": [],
   "source": [
    "get_weather(201801)"
   ]
  },
  {
   "cell_type": "code",
   "execution_count": null,
   "metadata": {
    "pycharm": {
     "is_executing": false
    }
   },
   "outputs": [],
   "source": [
    "def date_generate(start, end):\n",
    "    start = datetime.strptime(start, '%Y%m')\n",
    "    end = datetime.strptime(end, '%Y%m')\n",
    "    while True:\n",
    "        next_start = start + relativedelta(months=1)\n",
    "        yield start.strftime('%Y%m')\n",
    "        if next_start > end:\n",
    "            break\n",
    "        start = next_start\n"
   ]
  },
  {
   "cell_type": "code",
   "execution_count": null,
   "metadata": {
    "pycharm": {
     "is_executing": false
    }
   },
   "outputs": [],
   "source": [
    "df = read_weather('201801', '201812')\n",
    "df"
   ]
  },
  {
   "cell_type": "code",
   "execution_count": null,
   "metadata": {
    "pycharm": {
     "is_executing": false
    }
   },
   "outputs": [],
   "source": [
    "rain = '雨'\n",
    "rain_index = ' ' + rain\n",
    "cloudy = '多云'\n",
    "cloudy_index = ' ' + cloudy\n",
    "overcast = '阴'\n",
    "overcast_index = ' ' + overcast\n",
    "sunny = '晴'\n",
    "sunny_index = ' ' + sunny\n",
    "def weath_categoty(row):\n",
    "    tianqi = row['tianqi']\n",
    "    if tianqi.find(rain) != -1:\n",
    "        return rain_index\n",
    "    if tianqi.find(overcast) != -1:\n",
    "        return overcast_index\n",
    "    if tianqi.find(cloudy) != -1:\n",
    "        return cloudy_index\n",
    "    return sunny_index\n"
   ]
  },
  {
   "cell_type": "code",
   "execution_count": null,
   "metadata": {
    "pycharm": {
     "is_executing": false
    }
   },
   "outputs": [],
   "source": [
    "def save_weather(start, end, city):\n",
    "    df = read_weather(start, end).dropna().reset_index()\n",
    "    df.to_csv('./resources/weather/{}.csv'.format(city))\n",
    "def plot_weather(start, end):\n",
    "    df = read_weather(start, end).dropna().reset_index()\n",
    "    df['weather'] = df.apply(weath_categoty, axis=1)\n",
    "    \n",
    "    from pylab import rcParams\n",
    "    rcParams['figure.figsize'] = 40, 10\n",
    "    weather_df = df.groupby(['month', 'weather']).aqi.count().unstack().reset_index()\n",
    "    weather_df.plot.bar(x='month', y=[rain_index, overcast_index, cloudy_index, sunny_index])"
   ]
  },
  {
   "cell_type": "code",
   "execution_count": null,
   "metadata": {
    "pycharm": {
     "is_executing": false
    }
   },
   "outputs": [],
   "source": [
    "plot_weather('201701', '201906')"
   ]
  },
  {
   "cell_type": "code",
   "execution_count": null,
   "metadata": {
    "pycharm": {
     "is_executing": false
    }
   },
   "outputs": [],
   "source": [
    "df = df.dropna().reset_index()\n",
    "df['weather'] = df.dropna().apply(weath_categoty, axis=1)"
   ]
  },
  {
   "cell_type": "code",
   "execution_count": null,
   "metadata": {
    "pycharm": {
     "is_executing": false
    }
   },
   "outputs": [],
   "source": [
    "from pylab import rcParams\n",
    "rcParams['figure.figsize'] = 20, 10\n",
    "weather_df = df.groupby(['month', 'weather']).aqi.count().unstack().reset_index()\n",
    "weather_df.plot.bar(x='month', y=[rain_index, overcast_index, cloudy_index, sunny_index])"
   ]
  }
 ],
 "metadata": {
  "kernelspec": {
   "display_name": "Python 3",
   "language": "python",
   "name": "python3"
  },
  "language_info": {
   "codemirror_mode": {
    "name": "ipython",
    "version": 3
   },
   "file_extension": ".py",
   "mimetype": "text/x-python",
   "name": "python",
   "nbconvert_exporter": "python",
   "pygments_lexer": "ipython3",
   "version": "3.7.4"
  }
 },
 "nbformat": 4,
 "nbformat_minor": 2
}