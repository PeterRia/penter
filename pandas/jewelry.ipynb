{
 "cells": [
  {
   "cell_type": "markdown",
   "metadata": {
    "collapsed": true,
    "pycharm": {
     "name": "#%% md\n"
    }
   },
   "source": [
    "# 珠宝数据集\n",
    "\n",
    "##  珠宝商铺\n",
    "\n",
    "https://www.datasn.cn/pub/category/%e5%95%86%e5%93%81%e6%95%b0%e6%8d%ae/%e7%8f%a0%e5%ae%9d%e6%89%8b%e8%a1%a8/\n",
    "\n",
    "http://n3.datasn.io/data/api/v1/n3_chennan/zhubao_shangpu_daquan/main/list/2/?app=csv&manifest=row"
   ]
  },
  {
   "cell_type": "code",
   "execution_count": 1,
   "outputs": [],
   "source": [
    "import pandas as pd\n"
   ],
   "metadata": {
    "collapsed": false,
    "pycharm": {
     "name": "#%%\n"
    }
   }
  },
  {
   "cell_type": "code",
   "execution_count": 2,
   "outputs": [
    {
     "data": {
      "text/plain": "    zhubao_shangpu.id    zhubao_shangpu.ts       zhubao_shangpu.title  \\\n0                   1  2018-08-02 10:44:32     合肥雪铁纳专卖店（天鹅湖万达百货一楼亨吉利）   \n1                   2  2018-08-02 10:44:32          黄山梅花专卖店（安徽黄山百货大楼）   \n2                   3  2018-08-02 10:44:32      马鞍山梅花专卖店（盛时表行马鞍山八佰伴店）   \n3                   4  2018-08-02 10:44:32      合肥梅花专卖店（盛时表行合肥百盛淮河路店）   \n4                   5  2018-08-02 10:44:32     合肥梅花专卖店（盛时表行巢湖百大购物中心店）   \n5                   6  2018-08-02 10:44:32      合肥梅花专卖店（安徽合肥百大鼓楼高新商厦）   \n6                   7  2018-08-02 10:44:32         宣城梅花专卖店（安徽商之都宣城商厦）   \n7                   8  2018-08-02 10:44:32  六安梅花专卖店（盛时表行六安百大金商都购物中心店）   \n8                   9  2018-08-02 10:44:32         六安梅花专卖店（安徽商之都六安商厦）   \n9                  10  2018-08-02 10:44:32              阜阳梅花专卖店（阜阳商厦）   \n10                 11  2018-08-02 10:44:32       芜湖梅花专卖店（盛时表行芜湖新百商厦店）   \n11                 12  2018-08-02 10:44:32      芜湖梅花专卖店（芜湖华亿国际购物中心南楼）   \n12                 13  2018-08-02 10:44:32   芜湖梅花专卖店（盛时表行芜湖侨鸿国际购物中心店）   \n13                 14  2018-08-02 10:44:32          黄山梅花专卖店（安徽黄山百货大楼）   \n14                 15  2018-08-02 10:44:32         蚌埠梅花专卖店（蚌埠新世纪购物中心）   \n15                 16  2018-08-02 10:44:32               芝柏表专卖店（永利皇宮）   \n16                 17  2018-08-02 10:44:32               芝柏表专卖店（新濠影汇）   \n17                 18  2018-08-02 10:44:32    澳门新濠天地DFS T-Galleria专卖店   \n18                 19  2018-08-02 10:44:32                  澳门新濠影汇专卖店   \n19                 20  2018-08-02 10:44:32                   澳门美高梅专卖店   \n\n                            zhubao_shangpu.dizhi  \\\n0                           安徽省合肥市政务文化新区南二环路3818   \n1                                  黄山市屯溪区新安北路23号   \n2                                       胡东中路团结广场   \n3                                    淮河路77号一楼名表城   \n4                                  居巢区人民路与团结路交叉口   \n5                                       长江西路689号   \n6                                      状元南路2-11号   \n7                                     皖西路和梅山路交汇处   \n8                                     人民路和解放路交汇处   \n9                                       颖上北路118号   \n10                                         中山路1号   \n11                                 中山路商业步行街南楼钟表柜   \n12                                  中山北路77号一楼钟表柜   \n13                                 黄山市屯溪区新安北路23号   \n14                                      淮河路1028号   \n15                           澳门路凼体育馆大马路永利皇宫26A号铺   \n16                          澳门莲花路新濠影汇购物大道一楼1049号   \n17                   澳门氹仔路氹连贯公路连接路环及路氹填海区 999078   \n18  澳门路氹连贯公路(地段G300, G310 及 G400)新濠影汇 L01-1107号店   \n19                     澳门外港新填海区孙逸仙大马路澳门美高梅第一层3号店   \n\n   zhubao_shangpu.jingying_pinpai zhubao_shangpu.dianhua  \\\n0                             雪铁纳                    NaN   \n1                              梅花                    NaN   \n2                              梅花        +86 555 7188823   \n3                              梅花       +86 551 62616030   \n4                              梅花       +86 551 82358127   \n5                              梅花        +86 18297996053   \n6                              梅花                    NaN   \n7                              梅花        +86 564 3331555   \n8                              梅花        +86 564 3279700   \n9                              梅花        +86 558 2296503   \n10                             梅花        +86 553 3858988   \n11                             梅花        +86 15155322425   \n12                             梅花        +86 553 3880638   \n13                             梅花                    NaN   \n14                             梅花        +86 552 2080511   \n15                          GP芝柏表         +853 2831 6888   \n16                          GP芝柏表         +853 2885 2300   \n17                             宇舶      00853 - 8791 8475   \n18                             宇舶      00853 - 2885 2565   \n19                             宇舶      00853 - 2836 2871   \n\n          zhubao_shangpu.chengshi_x_zhubao_shangpu_id  \n0   {\\n    \"1\": {\\n        \"chengshi_x_zhubao_shan...  \n1   {\\n    \"2\": {\\n        \"chengshi_x_zhubao_shan...  \n2   {\\n    \"3\": {\\n        \"chengshi_x_zhubao_shan...  \n3   {\\n    \"4\": {\\n        \"chengshi_x_zhubao_shan...  \n4   {\\n    \"5\": {\\n        \"chengshi_x_zhubao_shan...  \n5   {\\n    \"6\": {\\n        \"chengshi_x_zhubao_shan...  \n6   {\\n    \"7\": {\\n        \"chengshi_x_zhubao_shan...  \n7   {\\n    \"8\": {\\n        \"chengshi_x_zhubao_shan...  \n8   {\\n    \"9\": {\\n        \"chengshi_x_zhubao_shan...  \n9   {\\n    \"10\": {\\n        \"chengshi_x_zhubao_sha...  \n10  {\\n    \"11\": {\\n        \"chengshi_x_zhubao_sha...  \n11  {\\n    \"12\": {\\n        \"chengshi_x_zhubao_sha...  \n12  {\\n    \"13\": {\\n        \"chengshi_x_zhubao_sha...  \n13  {\\n    \"14\": {\\n        \"chengshi_x_zhubao_sha...  \n14  {\\n    \"15\": {\\n        \"chengshi_x_zhubao_sha...  \n15  {\\n    \"16\": {\\n        \"chengshi_x_zhubao_sha...  \n16  {\\n    \"17\": {\\n        \"chengshi_x_zhubao_sha...  \n17  {\\n    \"18\": {\\n        \"chengshi_x_zhubao_sha...  \n18  {\\n    \"19\": {\\n        \"chengshi_x_zhubao_sha...  \n19  {\\n    \"20\": {\\n        \"chengshi_x_zhubao_sha...  ",
      "text/html": "<div>\n<style scoped>\n    .dataframe tbody tr th:only-of-type {\n        vertical-align: middle;\n    }\n\n    .dataframe tbody tr th {\n        vertical-align: top;\n    }\n\n    .dataframe thead th {\n        text-align: right;\n    }\n</style>\n<table border=\"1\" class=\"dataframe\">\n  <thead>\n    <tr style=\"text-align: right;\">\n      <th></th>\n      <th>zhubao_shangpu.id</th>\n      <th>zhubao_shangpu.ts</th>\n      <th>zhubao_shangpu.title</th>\n      <th>zhubao_shangpu.dizhi</th>\n      <th>zhubao_shangpu.jingying_pinpai</th>\n      <th>zhubao_shangpu.dianhua</th>\n      <th>zhubao_shangpu.chengshi_x_zhubao_shangpu_id</th>\n    </tr>\n  </thead>\n  <tbody>\n    <tr>\n      <th>0</th>\n      <td>1</td>\n      <td>2018-08-02 10:44:32</td>\n      <td>合肥雪铁纳专卖店（天鹅湖万达百货一楼亨吉利）</td>\n      <td>安徽省合肥市政务文化新区南二环路3818</td>\n      <td>雪铁纳</td>\n      <td>NaN</td>\n      <td>{\\n    \"1\": {\\n        \"chengshi_x_zhubao_shan...</td>\n    </tr>\n    <tr>\n      <th>1</th>\n      <td>2</td>\n      <td>2018-08-02 10:44:32</td>\n      <td>黄山梅花专卖店（安徽黄山百货大楼）</td>\n      <td>黄山市屯溪区新安北路23号</td>\n      <td>梅花</td>\n      <td>NaN</td>\n      <td>{\\n    \"2\": {\\n        \"chengshi_x_zhubao_shan...</td>\n    </tr>\n    <tr>\n      <th>2</th>\n      <td>3</td>\n      <td>2018-08-02 10:44:32</td>\n      <td>马鞍山梅花专卖店（盛时表行马鞍山八佰伴店）</td>\n      <td>胡东中路团结广场</td>\n      <td>梅花</td>\n      <td>+86 555 7188823</td>\n      <td>{\\n    \"3\": {\\n        \"chengshi_x_zhubao_shan...</td>\n    </tr>\n    <tr>\n      <th>3</th>\n      <td>4</td>\n      <td>2018-08-02 10:44:32</td>\n      <td>合肥梅花专卖店（盛时表行合肥百盛淮河路店）</td>\n      <td>淮河路77号一楼名表城</td>\n      <td>梅花</td>\n      <td>+86 551 62616030</td>\n      <td>{\\n    \"4\": {\\n        \"chengshi_x_zhubao_shan...</td>\n    </tr>\n    <tr>\n      <th>4</th>\n      <td>5</td>\n      <td>2018-08-02 10:44:32</td>\n      <td>合肥梅花专卖店（盛时表行巢湖百大购物中心店）</td>\n      <td>居巢区人民路与团结路交叉口</td>\n      <td>梅花</td>\n      <td>+86 551 82358127</td>\n      <td>{\\n    \"5\": {\\n        \"chengshi_x_zhubao_shan...</td>\n    </tr>\n    <tr>\n      <th>5</th>\n      <td>6</td>\n      <td>2018-08-02 10:44:32</td>\n      <td>合肥梅花专卖店（安徽合肥百大鼓楼高新商厦）</td>\n      <td>长江西路689号</td>\n      <td>梅花</td>\n      <td>+86 18297996053</td>\n      <td>{\\n    \"6\": {\\n        \"chengshi_x_zhubao_shan...</td>\n    </tr>\n    <tr>\n      <th>6</th>\n      <td>7</td>\n      <td>2018-08-02 10:44:32</td>\n      <td>宣城梅花专卖店（安徽商之都宣城商厦）</td>\n      <td>状元南路2-11号</td>\n      <td>梅花</td>\n      <td>NaN</td>\n      <td>{\\n    \"7\": {\\n        \"chengshi_x_zhubao_shan...</td>\n    </tr>\n    <tr>\n      <th>7</th>\n      <td>8</td>\n      <td>2018-08-02 10:44:32</td>\n      <td>六安梅花专卖店（盛时表行六安百大金商都购物中心店）</td>\n      <td>皖西路和梅山路交汇处</td>\n      <td>梅花</td>\n      <td>+86 564 3331555</td>\n      <td>{\\n    \"8\": {\\n        \"chengshi_x_zhubao_shan...</td>\n    </tr>\n    <tr>\n      <th>8</th>\n      <td>9</td>\n      <td>2018-08-02 10:44:32</td>\n      <td>六安梅花专卖店（安徽商之都六安商厦）</td>\n      <td>人民路和解放路交汇处</td>\n      <td>梅花</td>\n      <td>+86 564 3279700</td>\n      <td>{\\n    \"9\": {\\n        \"chengshi_x_zhubao_shan...</td>\n    </tr>\n    <tr>\n      <th>9</th>\n      <td>10</td>\n      <td>2018-08-02 10:44:32</td>\n      <td>阜阳梅花专卖店（阜阳商厦）</td>\n      <td>颖上北路118号</td>\n      <td>梅花</td>\n      <td>+86 558 2296503</td>\n      <td>{\\n    \"10\": {\\n        \"chengshi_x_zhubao_sha...</td>\n    </tr>\n    <tr>\n      <th>10</th>\n      <td>11</td>\n      <td>2018-08-02 10:44:32</td>\n      <td>芜湖梅花专卖店（盛时表行芜湖新百商厦店）</td>\n      <td>中山路1号</td>\n      <td>梅花</td>\n      <td>+86 553 3858988</td>\n      <td>{\\n    \"11\": {\\n        \"chengshi_x_zhubao_sha...</td>\n    </tr>\n    <tr>\n      <th>11</th>\n      <td>12</td>\n      <td>2018-08-02 10:44:32</td>\n      <td>芜湖梅花专卖店（芜湖华亿国际购物中心南楼）</td>\n      <td>中山路商业步行街南楼钟表柜</td>\n      <td>梅花</td>\n      <td>+86 15155322425</td>\n      <td>{\\n    \"12\": {\\n        \"chengshi_x_zhubao_sha...</td>\n    </tr>\n    <tr>\n      <th>12</th>\n      <td>13</td>\n      <td>2018-08-02 10:44:32</td>\n      <td>芜湖梅花专卖店（盛时表行芜湖侨鸿国际购物中心店）</td>\n      <td>中山北路77号一楼钟表柜</td>\n      <td>梅花</td>\n      <td>+86 553 3880638</td>\n      <td>{\\n    \"13\": {\\n        \"chengshi_x_zhubao_sha...</td>\n    </tr>\n    <tr>\n      <th>13</th>\n      <td>14</td>\n      <td>2018-08-02 10:44:32</td>\n      <td>黄山梅花专卖店（安徽黄山百货大楼）</td>\n      <td>黄山市屯溪区新安北路23号</td>\n      <td>梅花</td>\n      <td>NaN</td>\n      <td>{\\n    \"14\": {\\n        \"chengshi_x_zhubao_sha...</td>\n    </tr>\n    <tr>\n      <th>14</th>\n      <td>15</td>\n      <td>2018-08-02 10:44:32</td>\n      <td>蚌埠梅花专卖店（蚌埠新世纪购物中心）</td>\n      <td>淮河路1028号</td>\n      <td>梅花</td>\n      <td>+86 552 2080511</td>\n      <td>{\\n    \"15\": {\\n        \"chengshi_x_zhubao_sha...</td>\n    </tr>\n    <tr>\n      <th>15</th>\n      <td>16</td>\n      <td>2018-08-02 10:44:32</td>\n      <td>芝柏表专卖店（永利皇宮）</td>\n      <td>澳门路凼体育馆大马路永利皇宫26A号铺</td>\n      <td>GP芝柏表</td>\n      <td>+853 2831 6888</td>\n      <td>{\\n    \"16\": {\\n        \"chengshi_x_zhubao_sha...</td>\n    </tr>\n    <tr>\n      <th>16</th>\n      <td>17</td>\n      <td>2018-08-02 10:44:32</td>\n      <td>芝柏表专卖店（新濠影汇）</td>\n      <td>澳门莲花路新濠影汇购物大道一楼1049号</td>\n      <td>GP芝柏表</td>\n      <td>+853 2885 2300</td>\n      <td>{\\n    \"17\": {\\n        \"chengshi_x_zhubao_sha...</td>\n    </tr>\n    <tr>\n      <th>17</th>\n      <td>18</td>\n      <td>2018-08-02 10:44:32</td>\n      <td>澳门新濠天地DFS T-Galleria专卖店</td>\n      <td>澳门氹仔路氹连贯公路连接路环及路氹填海区 999078</td>\n      <td>宇舶</td>\n      <td>00853 - 8791 8475</td>\n      <td>{\\n    \"18\": {\\n        \"chengshi_x_zhubao_sha...</td>\n    </tr>\n    <tr>\n      <th>18</th>\n      <td>19</td>\n      <td>2018-08-02 10:44:32</td>\n      <td>澳门新濠影汇专卖店</td>\n      <td>澳门路氹连贯公路(地段G300, G310 及 G400)新濠影汇 L01-1107号店</td>\n      <td>宇舶</td>\n      <td>00853 - 2885 2565</td>\n      <td>{\\n    \"19\": {\\n        \"chengshi_x_zhubao_sha...</td>\n    </tr>\n    <tr>\n      <th>19</th>\n      <td>20</td>\n      <td>2018-08-02 10:44:32</td>\n      <td>澳门美高梅专卖店</td>\n      <td>澳门外港新填海区孙逸仙大马路澳门美高梅第一层3号店</td>\n      <td>宇舶</td>\n      <td>00853 - 2836 2871</td>\n      <td>{\\n    \"20\": {\\n        \"chengshi_x_zhubao_sha...</td>\n    </tr>\n  </tbody>\n</table>\n</div>"
     },
     "execution_count": 2,
     "metadata": {},
     "output_type": "execute_result"
    }
   ],
   "source": [
    "page = pd.read_csv(\"http://n3.datasn.io/data/api/v1/n3_chennan/zhubao_shangpu_daquan/main/list/1/?app=csv&manifest=row\")\n",
    "\n",
    "page"
   ],
   "metadata": {
    "collapsed": false,
    "pycharm": {
     "name": "#%%\n"
    }
   }
  }
 ],
 "metadata": {
  "kernelspec": {
   "display_name": "Python 3",
   "language": "python",
   "name": "python3"
  },
  "language_info": {
   "codemirror_mode": {
    "name": "ipython",
    "version": 2
   },
   "file_extension": ".py",
   "mimetype": "text/x-python",
   "name": "python",
   "nbconvert_exporter": "python",
   "pygments_lexer": "ipython2",
   "version": "2.7.6"
  }
 },
 "nbformat": 4,
 "nbformat_minor": 0
}